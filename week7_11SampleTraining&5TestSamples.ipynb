{
 "cells": [
  {
   "cell_type": "code",
   "execution_count": 5,
   "id": "6275a88c",
   "metadata": {},
   "outputs": [],
   "source": [
    "import pandas as pd\n",
    "import json\n",
    "from openai import OpenAI\n",
    "import random"
   ]
  },
  {
   "cell_type": "code",
   "execution_count": 2,
   "id": "83259d0c",
   "metadata": {},
   "outputs": [
    {
     "data": {
      "text/html": [
       "<div>\n",
       "<style scoped>\n",
       "    .dataframe tbody tr th:only-of-type {\n",
       "        vertical-align: middle;\n",
       "    }\n",
       "\n",
       "    .dataframe tbody tr th {\n",
       "        vertical-align: top;\n",
       "    }\n",
       "\n",
       "    .dataframe thead th {\n",
       "        text-align: right;\n",
       "    }\n",
       "</style>\n",
       "<table border=\"1\" class=\"dataframe\">\n",
       "  <thead>\n",
       "    <tr style=\"text-align: right;\">\n",
       "      <th></th>\n",
       "      <th>describe what this person did during the discussion without your opinion (~50 words)</th>\n",
       "      <th>what kind of role did this person play in the discussion, and how did it help the discussion group? (~50 words)</th>\n",
       "      <th>how can this person improve? (~50 words)</th>\n",
       "      <th>hand made sample output (Leadership, critical thinking, empathy)</th>\n",
       "    </tr>\n",
       "  </thead>\n",
       "  <tbody>\n",
       "    <tr>\n",
       "      <th>0</th>\n",
       "      <td>Peer evaluation1: Frequently summarized discus...</td>\n",
       "      <td>Peer evaluation4: Mediator, maintaining focus ...</td>\n",
       "      <td>Peer evaluation7: Further enhance the discussi...</td>\n",
       "      <td>Leadership score 8: Peers highly evaluated his...</td>\n",
       "    </tr>\n",
       "    <tr>\n",
       "      <th>1</th>\n",
       "      <td>Peer evaluation1: Consistently introduced new ...</td>\n",
       "      <td>Peer evaluation4: Initiative in directing the ...</td>\n",
       "      <td>Peer evaluation7: Could benefit from allowing ...</td>\n",
       "      <td>Leadership score 6: Peers highly evaluated his...</td>\n",
       "    </tr>\n",
       "    <tr>\n",
       "      <th>2</th>\n",
       "      <td>Peer evaluation1: Listened attentively to othe...</td>\n",
       "      <td>Peer evaluation4: Reconciling role, bridging g...</td>\n",
       "      <td>Peer evaluation7: Improvement could be made by...</td>\n",
       "      <td>Leadership score 4: Peers highly evaluated her...</td>\n",
       "    </tr>\n",
       "    <tr>\n",
       "      <th>3</th>\n",
       "      <td>Peer evaluation1: Offered insightful feedback ...</td>\n",
       "      <td>Peer evaluation4: Thoughtful contributor, enri...</td>\n",
       "      <td>Peer evaluation7: Enhancing her ability to con...</td>\n",
       "      <td>Leadership score 4: Although she actively enga...</td>\n",
       "    </tr>\n",
       "    <tr>\n",
       "      <th>4</th>\n",
       "      <td>Peer evaluation1: he effectively summarized ke...</td>\n",
       "      <td>Peer evaluation4: his leadership qualities wer...</td>\n",
       "      <td>Peer evaluation7: he could further enhance the...</td>\n",
       "      <td>Leadership score 8: Peers highly evaluated his...</td>\n",
       "    </tr>\n",
       "    <tr>\n",
       "      <th>5</th>\n",
       "      <td>Peer evaluation1: she consistently introduced ...</td>\n",
       "      <td>Peer evaluation4: she acted as a facilitator, ...</td>\n",
       "      <td>Peer evaluation7: she could benefit from occas...</td>\n",
       "      <td>Leadership score 6: Peers highly evaluated her...</td>\n",
       "    </tr>\n",
       "    <tr>\n",
       "      <th>6</th>\n",
       "      <td>Peer evaluation1: she attentively listened to ...</td>\n",
       "      <td>Peer evaluation4: she played the role of a med...</td>\n",
       "      <td>Peer evaluation7: Greater participation in ini...</td>\n",
       "      <td>Leadership score 4: Although peers higly evalu...</td>\n",
       "    </tr>\n",
       "    <tr>\n",
       "      <th>7</th>\n",
       "      <td>Peer evaluation1: he consistently challenged a...</td>\n",
       "      <td>Peer evaluation4: he took on the role of a cri...</td>\n",
       "      <td>Peer evaluation7: Balancing his analytical app...</td>\n",
       "      <td>Leadership Score 4: Peers commended his abilit...</td>\n",
       "    </tr>\n",
       "    <tr>\n",
       "      <th>8</th>\n",
       "      <td>Peer evaluation1: He mostly remained silent, b...</td>\n",
       "      <td>Peer evaluation4: He played the role of a rese...</td>\n",
       "      <td>Peer evaluation7: To enhance participation, he...</td>\n",
       "      <td>Leadership Score 2: While responding well to o...</td>\n",
       "    </tr>\n",
       "    <tr>\n",
       "      <th>9</th>\n",
       "      <td>Peer evaluation1: she frequently interjected w...</td>\n",
       "      <td>Peer evaluation4: She acted as a facilitator, ...</td>\n",
       "      <td>Peer evaluation7: Could engage more by sharing...</td>\n",
       "      <td>Leadership score 4: Although peers higly evalu...</td>\n",
       "    </tr>\n",
       "    <tr>\n",
       "      <th>10</th>\n",
       "      <td>Peer evaluation1: he mostly listened, spoke in...</td>\n",
       "      <td>Peer evaluation4: he was a thoughtful listener...</td>\n",
       "      <td>Peer evaluation7: Could participate more frequ...</td>\n",
       "      <td>Leadership score 0: Peers evaluated him as tho...</td>\n",
       "    </tr>\n",
       "    <tr>\n",
       "      <th>11</th>\n",
       "      <td>Peer evaluation1: she contributed evenly, bala...</td>\n",
       "      <td>Peer evaluation4: she was a mediator, maintain...</td>\n",
       "      <td>Peer evaluation7: Could be more assertive in p...</td>\n",
       "      <td>Leadership score 4: Peers evaluated her as bal...</td>\n",
       "    </tr>\n",
       "    <tr>\n",
       "      <th>12</th>\n",
       "      <td>Peer evaluation1: he dominated the conversatio...</td>\n",
       "      <td>Peer evaluation4: As the main speaker, he drov...</td>\n",
       "      <td>Peer evaluation7: Needs to work on listening m...</td>\n",
       "      <td>Leadership score 7: Some peers highly evaluate...</td>\n",
       "    </tr>\n",
       "    <tr>\n",
       "      <th>13</th>\n",
       "      <td>Peer evauation1: Constant interruptions and of...</td>\n",
       "      <td>Peer evaluation4: his behavior was disruptive,...</td>\n",
       "      <td>Peer evaluation7: More active listening and st...</td>\n",
       "      <td>Leadership score 0: Peers evaluated him as neg...</td>\n",
       "    </tr>\n",
       "    <tr>\n",
       "      <th>14</th>\n",
       "      <td>Peer evaluation1: He consistently undermined o...</td>\n",
       "      <td>Peer evaluation 4: He played the role of a dis...</td>\n",
       "      <td>Peer evaluation 7: To improve, he should striv...</td>\n",
       "      <td>Leadership score 0: He significantly hindered ...</td>\n",
       "    </tr>\n",
       "    <tr>\n",
       "      <th>15</th>\n",
       "      <td>Peer evaluation1: he was attentive, offered th...</td>\n",
       "      <td>Peer evaluation4: A natural facilitator, they ...</td>\n",
       "      <td>Peer evalaution7: Perhaps he could allow other...</td>\n",
       "      <td>Leadership score 10:  Peers highly evaluated h...</td>\n",
       "    </tr>\n",
       "  </tbody>\n",
       "</table>\n",
       "</div>"
      ],
      "text/plain": [
       "   describe what this person did during the discussion without your opinion (~50 words)  \\\n",
       "0   Peer evaluation1: Frequently summarized discus...                                     \n",
       "1   Peer evaluation1: Consistently introduced new ...                                     \n",
       "2   Peer evaluation1: Listened attentively to othe...                                     \n",
       "3   Peer evaluation1: Offered insightful feedback ...                                     \n",
       "4   Peer evaluation1: he effectively summarized ke...                                     \n",
       "5   Peer evaluation1: she consistently introduced ...                                     \n",
       "6   Peer evaluation1: she attentively listened to ...                                     \n",
       "7   Peer evaluation1: he consistently challenged a...                                     \n",
       "8   Peer evaluation1: He mostly remained silent, b...                                     \n",
       "9   Peer evaluation1: she frequently interjected w...                                     \n",
       "10  Peer evaluation1: he mostly listened, spoke in...                                     \n",
       "11  Peer evaluation1: she contributed evenly, bala...                                     \n",
       "12  Peer evaluation1: he dominated the conversatio...                                     \n",
       "13  Peer evauation1: Constant interruptions and of...                                     \n",
       "14  Peer evaluation1: He consistently undermined o...                                     \n",
       "15  Peer evaluation1: he was attentive, offered th...                                     \n",
       "\n",
       "   what kind of role did this person play in the discussion, and how did it help the discussion group? (~50 words)  \\\n",
       "0   Peer evaluation4: Mediator, maintaining focus ...                                                                \n",
       "1   Peer evaluation4: Initiative in directing the ...                                                                \n",
       "2   Peer evaluation4: Reconciling role, bridging g...                                                                \n",
       "3   Peer evaluation4: Thoughtful contributor, enri...                                                                \n",
       "4   Peer evaluation4: his leadership qualities wer...                                                                \n",
       "5   Peer evaluation4: she acted as a facilitator, ...                                                                \n",
       "6   Peer evaluation4: she played the role of a med...                                                                \n",
       "7   Peer evaluation4: he took on the role of a cri...                                                                \n",
       "8   Peer evaluation4: He played the role of a rese...                                                                \n",
       "9   Peer evaluation4: She acted as a facilitator, ...                                                                \n",
       "10  Peer evaluation4: he was a thoughtful listener...                                                                \n",
       "11  Peer evaluation4: she was a mediator, maintain...                                                                \n",
       "12  Peer evaluation4: As the main speaker, he drov...                                                                \n",
       "13  Peer evaluation4: his behavior was disruptive,...                                                                \n",
       "14  Peer evaluation 4: He played the role of a dis...                                                                \n",
       "15  Peer evaluation4: A natural facilitator, they ...                                                                \n",
       "\n",
       "             how can this person improve? (~50 words)  \\\n",
       "0   Peer evaluation7: Further enhance the discussi...   \n",
       "1   Peer evaluation7: Could benefit from allowing ...   \n",
       "2   Peer evaluation7: Improvement could be made by...   \n",
       "3   Peer evaluation7: Enhancing her ability to con...   \n",
       "4   Peer evaluation7: he could further enhance the...   \n",
       "5   Peer evaluation7: she could benefit from occas...   \n",
       "6   Peer evaluation7: Greater participation in ini...   \n",
       "7   Peer evaluation7: Balancing his analytical app...   \n",
       "8   Peer evaluation7: To enhance participation, he...   \n",
       "9   Peer evaluation7: Could engage more by sharing...   \n",
       "10  Peer evaluation7: Could participate more frequ...   \n",
       "11  Peer evaluation7: Could be more assertive in p...   \n",
       "12  Peer evaluation7: Needs to work on listening m...   \n",
       "13  Peer evaluation7: More active listening and st...   \n",
       "14  Peer evaluation 7: To improve, he should striv...   \n",
       "15  Peer evalaution7: Perhaps he could allow other...   \n",
       "\n",
       "   hand made sample output (Leadership, critical thinking, empathy)  \n",
       "0   Leadership score 8: Peers highly evaluated his...                \n",
       "1   Leadership score 6: Peers highly evaluated his...                \n",
       "2   Leadership score 4: Peers highly evaluated her...                \n",
       "3   Leadership score 4: Although she actively enga...                \n",
       "4   Leadership score 8: Peers highly evaluated his...                \n",
       "5   Leadership score 6: Peers highly evaluated her...                \n",
       "6   Leadership score 4: Although peers higly evalu...                \n",
       "7   Leadership Score 4: Peers commended his abilit...                \n",
       "8   Leadership Score 2: While responding well to o...                \n",
       "9   Leadership score 4: Although peers higly evalu...                \n",
       "10  Leadership score 0: Peers evaluated him as tho...                \n",
       "11  Leadership score 4: Peers evaluated her as bal...                \n",
       "12  Leadership score 7: Some peers highly evaluate...                \n",
       "13  Leadership score 0: Peers evaluated him as neg...                \n",
       "14  Leadership score 0: He significantly hindered ...                \n",
       "15  Leadership score 10:  Peers highly evaluated h...                "
      ]
     },
     "execution_count": 2,
     "metadata": {},
     "output_type": "execute_result"
    }
   ],
   "source": [
    "raw = pd.read_csv(\"GPTtrainingdata16.csv\", header=0)\n",
    "raw"
   ]
  },
  {
   "cell_type": "code",
   "execution_count": 3,
   "id": "98f6c4ae",
   "metadata": {},
   "outputs": [
    {
     "data": {
      "text/html": [
       "<div>\n",
       "<style scoped>\n",
       "    .dataframe tbody tr th:only-of-type {\n",
       "        vertical-align: middle;\n",
       "    }\n",
       "\n",
       "    .dataframe tbody tr th {\n",
       "        vertical-align: top;\n",
       "    }\n",
       "\n",
       "    .dataframe thead th {\n",
       "        text-align: right;\n",
       "    }\n",
       "</style>\n",
       "<table border=\"1\" class=\"dataframe\">\n",
       "  <thead>\n",
       "    <tr style=\"text-align: right;\">\n",
       "      <th></th>\n",
       "      <th>peer123</th>\n",
       "      <th>peer456</th>\n",
       "      <th>peer789</th>\n",
       "      <th>sample_output</th>\n",
       "    </tr>\n",
       "  </thead>\n",
       "  <tbody>\n",
       "    <tr>\n",
       "      <th>0</th>\n",
       "      <td>Peer evaluation1: Frequently summarized discus...</td>\n",
       "      <td>Peer evaluation4: Mediator, maintaining focus ...</td>\n",
       "      <td>Peer evaluation7: Further enhance the discussi...</td>\n",
       "      <td>Leadership score 8: Peers highly evaluated his...</td>\n",
       "    </tr>\n",
       "    <tr>\n",
       "      <th>1</th>\n",
       "      <td>Peer evaluation1: Consistently introduced new ...</td>\n",
       "      <td>Peer evaluation4: Initiative in directing the ...</td>\n",
       "      <td>Peer evaluation7: Could benefit from allowing ...</td>\n",
       "      <td>Leadership score 6: Peers highly evaluated his...</td>\n",
       "    </tr>\n",
       "    <tr>\n",
       "      <th>2</th>\n",
       "      <td>Peer evaluation1: Listened attentively to othe...</td>\n",
       "      <td>Peer evaluation4: Reconciling role, bridging g...</td>\n",
       "      <td>Peer evaluation7: Improvement could be made by...</td>\n",
       "      <td>Leadership score 4: Peers highly evaluated her...</td>\n",
       "    </tr>\n",
       "    <tr>\n",
       "      <th>3</th>\n",
       "      <td>Peer evaluation1: Offered insightful feedback ...</td>\n",
       "      <td>Peer evaluation4: Thoughtful contributor, enri...</td>\n",
       "      <td>Peer evaluation7: Enhancing her ability to con...</td>\n",
       "      <td>Leadership score 4: Although she actively enga...</td>\n",
       "    </tr>\n",
       "    <tr>\n",
       "      <th>4</th>\n",
       "      <td>Peer evaluation1: he effectively summarized ke...</td>\n",
       "      <td>Peer evaluation4: his leadership qualities wer...</td>\n",
       "      <td>Peer evaluation7: he could further enhance the...</td>\n",
       "      <td>Leadership score 8: Peers highly evaluated his...</td>\n",
       "    </tr>\n",
       "    <tr>\n",
       "      <th>5</th>\n",
       "      <td>Peer evaluation1: she consistently introduced ...</td>\n",
       "      <td>Peer evaluation4: she acted as a facilitator, ...</td>\n",
       "      <td>Peer evaluation7: she could benefit from occas...</td>\n",
       "      <td>Leadership score 6: Peers highly evaluated her...</td>\n",
       "    </tr>\n",
       "    <tr>\n",
       "      <th>6</th>\n",
       "      <td>Peer evaluation1: she attentively listened to ...</td>\n",
       "      <td>Peer evaluation4: she played the role of a med...</td>\n",
       "      <td>Peer evaluation7: Greater participation in ini...</td>\n",
       "      <td>Leadership score 4: Although peers higly evalu...</td>\n",
       "    </tr>\n",
       "    <tr>\n",
       "      <th>7</th>\n",
       "      <td>Peer evaluation1: he consistently challenged a...</td>\n",
       "      <td>Peer evaluation4: he took on the role of a cri...</td>\n",
       "      <td>Peer evaluation7: Balancing his analytical app...</td>\n",
       "      <td>Leadership Score 4: Peers commended his abilit...</td>\n",
       "    </tr>\n",
       "    <tr>\n",
       "      <th>8</th>\n",
       "      <td>Peer evaluation1: He mostly remained silent, b...</td>\n",
       "      <td>Peer evaluation4: He played the role of a rese...</td>\n",
       "      <td>Peer evaluation7: To enhance participation, he...</td>\n",
       "      <td>Leadership Score 2: While responding well to o...</td>\n",
       "    </tr>\n",
       "    <tr>\n",
       "      <th>9</th>\n",
       "      <td>Peer evaluation1: she frequently interjected w...</td>\n",
       "      <td>Peer evaluation4: She acted as a facilitator, ...</td>\n",
       "      <td>Peer evaluation7: Could engage more by sharing...</td>\n",
       "      <td>Leadership score 4: Although peers higly evalu...</td>\n",
       "    </tr>\n",
       "    <tr>\n",
       "      <th>10</th>\n",
       "      <td>Peer evaluation1: he mostly listened, spoke in...</td>\n",
       "      <td>Peer evaluation4: he was a thoughtful listener...</td>\n",
       "      <td>Peer evaluation7: Could participate more frequ...</td>\n",
       "      <td>Leadership score 0: Peers evaluated him as tho...</td>\n",
       "    </tr>\n",
       "    <tr>\n",
       "      <th>11</th>\n",
       "      <td>Peer evaluation1: she contributed evenly, bala...</td>\n",
       "      <td>Peer evaluation4: she was a mediator, maintain...</td>\n",
       "      <td>Peer evaluation7: Could be more assertive in p...</td>\n",
       "      <td>Leadership score 4: Peers evaluated her as bal...</td>\n",
       "    </tr>\n",
       "    <tr>\n",
       "      <th>12</th>\n",
       "      <td>Peer evaluation1: he dominated the conversatio...</td>\n",
       "      <td>Peer evaluation4: As the main speaker, he drov...</td>\n",
       "      <td>Peer evaluation7: Needs to work on listening m...</td>\n",
       "      <td>Leadership score 7: Some peers highly evaluate...</td>\n",
       "    </tr>\n",
       "    <tr>\n",
       "      <th>13</th>\n",
       "      <td>Peer evauation1: Constant interruptions and of...</td>\n",
       "      <td>Peer evaluation4: his behavior was disruptive,...</td>\n",
       "      <td>Peer evaluation7: More active listening and st...</td>\n",
       "      <td>Leadership score 0: Peers evaluated him as neg...</td>\n",
       "    </tr>\n",
       "    <tr>\n",
       "      <th>14</th>\n",
       "      <td>Peer evaluation1: He consistently undermined o...</td>\n",
       "      <td>Peer evaluation 4: He played the role of a dis...</td>\n",
       "      <td>Peer evaluation 7: To improve, he should striv...</td>\n",
       "      <td>Leadership score 0: He significantly hindered ...</td>\n",
       "    </tr>\n",
       "    <tr>\n",
       "      <th>15</th>\n",
       "      <td>Peer evaluation1: he was attentive, offered th...</td>\n",
       "      <td>Peer evaluation4: A natural facilitator, they ...</td>\n",
       "      <td>Peer evalaution7: Perhaps he could allow other...</td>\n",
       "      <td>Leadership score 10:  Peers highly evaluated h...</td>\n",
       "    </tr>\n",
       "  </tbody>\n",
       "</table>\n",
       "</div>"
      ],
      "text/plain": [
       "                                              peer123  \\\n",
       "0   Peer evaluation1: Frequently summarized discus...   \n",
       "1   Peer evaluation1: Consistently introduced new ...   \n",
       "2   Peer evaluation1: Listened attentively to othe...   \n",
       "3   Peer evaluation1: Offered insightful feedback ...   \n",
       "4   Peer evaluation1: he effectively summarized ke...   \n",
       "5   Peer evaluation1: she consistently introduced ...   \n",
       "6   Peer evaluation1: she attentively listened to ...   \n",
       "7   Peer evaluation1: he consistently challenged a...   \n",
       "8   Peer evaluation1: He mostly remained silent, b...   \n",
       "9   Peer evaluation1: she frequently interjected w...   \n",
       "10  Peer evaluation1: he mostly listened, spoke in...   \n",
       "11  Peer evaluation1: she contributed evenly, bala...   \n",
       "12  Peer evaluation1: he dominated the conversatio...   \n",
       "13  Peer evauation1: Constant interruptions and of...   \n",
       "14  Peer evaluation1: He consistently undermined o...   \n",
       "15  Peer evaluation1: he was attentive, offered th...   \n",
       "\n",
       "                                              peer456  \\\n",
       "0   Peer evaluation4: Mediator, maintaining focus ...   \n",
       "1   Peer evaluation4: Initiative in directing the ...   \n",
       "2   Peer evaluation4: Reconciling role, bridging g...   \n",
       "3   Peer evaluation4: Thoughtful contributor, enri...   \n",
       "4   Peer evaluation4: his leadership qualities wer...   \n",
       "5   Peer evaluation4: she acted as a facilitator, ...   \n",
       "6   Peer evaluation4: she played the role of a med...   \n",
       "7   Peer evaluation4: he took on the role of a cri...   \n",
       "8   Peer evaluation4: He played the role of a rese...   \n",
       "9   Peer evaluation4: She acted as a facilitator, ...   \n",
       "10  Peer evaluation4: he was a thoughtful listener...   \n",
       "11  Peer evaluation4: she was a mediator, maintain...   \n",
       "12  Peer evaluation4: As the main speaker, he drov...   \n",
       "13  Peer evaluation4: his behavior was disruptive,...   \n",
       "14  Peer evaluation 4: He played the role of a dis...   \n",
       "15  Peer evaluation4: A natural facilitator, they ...   \n",
       "\n",
       "                                              peer789  \\\n",
       "0   Peer evaluation7: Further enhance the discussi...   \n",
       "1   Peer evaluation7: Could benefit from allowing ...   \n",
       "2   Peer evaluation7: Improvement could be made by...   \n",
       "3   Peer evaluation7: Enhancing her ability to con...   \n",
       "4   Peer evaluation7: he could further enhance the...   \n",
       "5   Peer evaluation7: she could benefit from occas...   \n",
       "6   Peer evaluation7: Greater participation in ini...   \n",
       "7   Peer evaluation7: Balancing his analytical app...   \n",
       "8   Peer evaluation7: To enhance participation, he...   \n",
       "9   Peer evaluation7: Could engage more by sharing...   \n",
       "10  Peer evaluation7: Could participate more frequ...   \n",
       "11  Peer evaluation7: Could be more assertive in p...   \n",
       "12  Peer evaluation7: Needs to work on listening m...   \n",
       "13  Peer evaluation7: More active listening and st...   \n",
       "14  Peer evaluation 7: To improve, he should striv...   \n",
       "15  Peer evalaution7: Perhaps he could allow other...   \n",
       "\n",
       "                                        sample_output  \n",
       "0   Leadership score 8: Peers highly evaluated his...  \n",
       "1   Leadership score 6: Peers highly evaluated his...  \n",
       "2   Leadership score 4: Peers highly evaluated her...  \n",
       "3   Leadership score 4: Although she actively enga...  \n",
       "4   Leadership score 8: Peers highly evaluated his...  \n",
       "5   Leadership score 6: Peers highly evaluated her...  \n",
       "6   Leadership score 4: Although peers higly evalu...  \n",
       "7   Leadership Score 4: Peers commended his abilit...  \n",
       "8   Leadership Score 2: While responding well to o...  \n",
       "9   Leadership score 4: Although peers higly evalu...  \n",
       "10  Leadership score 0: Peers evaluated him as tho...  \n",
       "11  Leadership score 4: Peers evaluated her as bal...  \n",
       "12  Leadership score 7: Some peers highly evaluate...  \n",
       "13  Leadership score 0: Peers evaluated him as neg...  \n",
       "14  Leadership score 0: He significantly hindered ...  \n",
       "15  Leadership score 10:  Peers highly evaluated h...  "
      ]
     },
     "execution_count": 3,
     "metadata": {},
     "output_type": "execute_result"
    }
   ],
   "source": [
    "raw.columns = [\"peer123\", \"peer456\", \"peer789\", \"sample_output\"]\n",
    "raw\n"
   ]
  },
  {
   "cell_type": "code",
   "execution_count": 4,
   "id": "f57d19f3",
   "metadata": {
    "scrolled": false
   },
   "outputs": [
    {
     "data": {
      "text/plain": [
       "[{'messages': [{'role': 'system',\n",
       "    'content': 'You are group of human resource management professionals. You quantify leadership, critical thinking skills, and empathy of a person with reasons according to the peer reviews of that person.'},\n",
       "   {'role': 'user',\n",
       "    'content': 'Following are the peer reviews for this person: Peer evaluation1: Frequently summarized discussion points and asked clarifying questions, ensuring understanding. Peer evaluation2: Consistently provided structure to the discussion through effective organization of thoughts and ideas. Peer evaluation3: Excelled in maintaining order and ensuring thorough discussion of each point. Peer evaluation4: Mediator, maintaining focus and coherence, especially when the discussion veered off-topic. Peer evaluation5: Instrumental in guiding the flow of conversation and ensuring that key points were addressed and understood. Peer evaluation6: Organizational skills were key in keeping the discussion coherent and productive. Peer evaluation7: Further enhance the discussion by occasionally introducing innovative perspectives or challenging the status quo. Peer evaluation8: An area for improvement could be to integrate more innovative thinking to stimulate creative discussions. Peer evaluation9: Could improve by incorporating more spontaneity and flexibility in handling diverse opinions.\\n'},\n",
       "   {'role': 'assistant',\n",
       "    'content': 'Leadership score 8: Peers highly evaluated his motivation to summarize & keeping the conversation focused on the topic. Critical thinking score 4: Some peers suggested he should improve his ability to give innovative perspective. Empathy score 6: Effectively organizing the discussion needs high empathetic ability, and he sucessfully organized the discussion.'}]},\n",
       " {'messages': [{'role': 'system',\n",
       "    'content': 'You are group of human resource management professionals. You quantify leadership, critical thinking skills, and empathy of a person with reasons according to the peer reviews of that person.'},\n",
       "   {'role': 'user',\n",
       "    'content': \"Following are the peer reviews for this person: Peer evaluation1: Consistently introduced new ideas and asked probing questions, often guiding the conversation towards deeper analysis. Peer evaluation2: Often took the lead in exploring uncharted areas of the topic, adding depth to the conversation. Peer evaluation3: Quick to identify logical inconsistencies and suggest alternative viewpoints. Peer evaluation4: Initiative in directing the discussion, exploring diverse viewpoints and keeping the conversation on track. Peer evaluation5: Proactive approach in steering the discussion helped in uncovering new angles and perspectives. Peer evaluation6: Provided a challenging but constructive voice, pushing the group towards more robust conclusions. Peer evaluation7: Could benefit from allowing more time for others to reflect and respond, ensuring a balanced contribution from all members. Peer evaluation8: He could enhance their contribution by showing more patience and allowing ideas to develop more organically. Peer evaluation9: Cultivating a more inclusive approach that acknowledges and builds on others' ideas could strengthen their impact.\"},\n",
       "   {'role': 'assistant',\n",
       "    'content': \"Leadership score 6: Peers highly evaluated his motivation to take initiatives in the discussion, while some peers suggested he should improve patience and ability to balance contribution by other members. Critical thinking score 8: Peers highly evalutated his ability to give innovative and diverse perspective to the discusion. Empathy score 3: Although he was higly motivated to take initiative and develop the discussion, peers pointed out that he can improve on inclusion of other's ideas.\"}]},\n",
       " {'messages': [{'role': 'system',\n",
       "    'content': 'You are group of human resource management professionals. You quantify leadership, critical thinking skills, and empathy of a person with reasons according to the peer reviews of that person.'},\n",
       "   {'role': 'user',\n",
       "    'content': \"Following are the peer reviews for this person: Peer evaluation1: Listened attentively to others, summarizing points effectively and offering supportive comments. Peer evaluation2: Regularly encouraged quieter members to speak and acknowledged all contributions positively. Peer evaluation3: Consistently acknowledged and built upon others' contributions, fostering a collaborative atmosphere. Peer evaluation4: Reconciling role, bridging gaps between differing opinions and maintaining a harmonious discussion environment. Peer evaluation5: Fostered a supportive environment, ensuring that all voices were heard and valued, which enriched the group's collective output. Peer evaluation6: Nurturing role, ensuring that each member felt valued and engaged. Peer evaluation7: Improvement could be made by occasionally challenging ideas to deepen the group's understanding and discussion depth. Peer evaluation8: Greater involvement in the substance of the discussion, rather than just facilitation, could offer more depth to their contributions. Peer evaluation9: Could improve by more actively contributing original ideas and perspectives to the discussion.\"},\n",
       "   {'role': 'assistant',\n",
       "    'content': \"Leadership score 4: Peers highly evaluated her ability to facilitate the discussion, but suggested her to improve on actively joining the discussion. Critical thinking score 3: Peers suggested her to improve on challenging other's ideas, not only facilitating the discussion. Empathy score 9: Peers higly evaluated her ability to keep everyone engaged by creating an supportive atmosphere.\"}]},\n",
       " {'messages': [{'role': 'system',\n",
       "    'content': 'You are group of human resource management professionals. You quantify leadership, critical thinking skills, and empathy of a person with reasons according to the peer reviews of that person.'},\n",
       "   {'role': 'user',\n",
       "    'content': \"Following are the peer reviews for this person: Peer evaluation1: Offered insightful feedback on ideas presented and shared several relevant personal experiences. Peer evaluation2: Highlighted potential flaws in arguments and proposed alternative solutions. Peer evaluation3: Adept at connecting discussion points to broader contexts, providing a wider perspective. Peer evaluation4: Thoughtful contributor, enriching the discussion with practical perspectives and real-world examples. Peer evaluation5: Critical role in ensuring thoroughness and rigor in the group's thought process. Peer evaluation6: Brought a strategic viewpoint, helping the group to see beyond immediate topics and consider long-term implications. Peer evaluation7: Enhancing her ability to connect other's contributions more directly to the discussion topic would further increase their effectiveness. Peer evaluation8: Balancing their analytical approach with recognition of others' emotional responses would enhance group dynamics. Peer evaluation9: Focusing more on the immediate discussion topics and details would complement their broader approach.\"},\n",
       "   {'role': 'assistant',\n",
       "    'content': \"Leadership score 4: Although she actively engaged in the discussion, she did not necessarily take initaitives in organizing the discussion. Critical thinking score 9: Peers higly evaluated her ability to actively provide well-considered & critical perspectives. Empathy score 3: Peers suggeted she should improve on incorporating other's emotional opinions and valuing other's contributions more.\"}]},\n",
       " {'messages': [{'role': 'system',\n",
       "    'content': 'You are group of human resource management professionals. You quantify leadership, critical thinking skills, and empathy of a person with reasons according to the peer reviews of that person.'},\n",
       "   {'role': 'user',\n",
       "    'content': 'Following are the peer reviews for this person: Peer evaluation1: he effectively summarized key points and often led the group to consensus, especially during complex discussions. Peer evaluation2: he was quick to recognize and resolve conflicts, guiding the group towards constructive solutions. Peer evaluation3: he frequently set the agenda and outlined objectives for the discussion, keeping the group on track. Peer evaluation4: his leadership qualities were evident as he often took charge in directing the discussion, ensuring that the group remained focused and productive. Peer evaluation5: his role as a peacekeeper was crucial in maintaining a respectful and productive discussion environment. Peer evaluation6: his organizational skills were vital in structuring the discussion, which allowed for efficient and comprehensive exploration of topics. Peer evaluation7: he could further enhance their impact by encouraging quieter members to participate more actively. Peer evaluation8: Incorporating more diverse perspectives and ideas could further enrich the discussions led by him. Peer evaluation9: he could further empower others by delegating some of the agenda-setting responsibilities.'},\n",
       "   {'role': 'assistant',\n",
       "    'content': 'Leadership score 8: Peers highly evaluated his motivation to lead the discusssion. Critical thinking score 5: his critical thinking skills were not problematic, but it can be improved further. Empathy score 5: Some peers highly evaluated his abilitiy to organize a productive environment, while some peers pointed out that he failed to incorporate quiet member. '}]},\n",
       " {'messages': [{'role': 'system',\n",
       "    'content': 'You are group of human resource management professionals. You quantify leadership, critical thinking skills, and empathy of a person with reasons according to the peer reviews of that person.'},\n",
       "   {'role': 'user',\n",
       "    'content': \"Following are the peer reviews for this person: Peer evaluation1: she consistently introduced new topics and redirected the conversation when it stagnated, ensuring that everyone stayed engaged and topics were thoroughly explored. Peer evaluation2: she frequently built upon others' ideas, linking different points and enhancing the cohesion of the discussion. Peer evaluation3: she often harmonized differing viewpoints, creating a more inclusive and collaborative discussion environment. Peer evaluation4: she acted as a facilitator, smoothly guiding the conversation and ensuring that each participant had the opportunity to contribute, which kept the discussion dynamic and inclusive. Peer evaluation5: her integrative approach helped in synthesizing diverse viewpoints, which was key in advancing the group's understanding of the topics. Peer evaluation6: her conciliatory approach was key in fostering mutual understanding and respect among group members. Peer evaluation7: she could benefit from occasionally stepping back to allow others to initiate topics and lead segments of the discussion. Peer evaluation8: she could improve by occasionally allowing discussions to flow more naturally without trying to steer them too much. Peer evaluation9: she could challenge ideas more often to encourage a deeper level of critical engagement in the group.\"},\n",
       "   {'role': 'assistant',\n",
       "    'content': 'Leadership score 6: Peers highly evaluated her initiatives in redirecting discusssions, while some peers suggested him to allow other members to take initiatives too. Critical thinking score 4:  Some peers pointed out that her critical thinking skills can be improved further. Empathy score 8: Peers evaluated his ability to understand others and harmonize opinions, creating favorable atmosphere. '}]},\n",
       " {'messages': [{'role': 'system',\n",
       "    'content': 'You are group of human resource management professionals. You quantify leadership, critical thinking skills, and empathy of a person with reasons according to the peer reviews of that person.'},\n",
       "   {'role': 'user',\n",
       "    'content': \"Following are the peer reviews for this person: Peer evaluation1: she attentively listened to others, offering constructive feedback and summarizing points to clarify understanding. Peer evaluation2: she regularly encouraged others, acknowledging their contributions and helping to maintain a positive atmosphere. Peer evaluation3: she consistently provided thoughtful feedback and was attentive to the emotional tone of the group. Peer evaluation4: she played the role of a mediator, bridging gaps in communication and fostering a collaborative environment. Their approach maintained a positive and productive atmosphere. Peer evaluation5: As a supportive collaborator, she played a vital role in maintaining group morale and ensuring a harmonious discussion environment. Peer evaluation6: her empathetic presence brought a sense of balance and consideration for others' feelings, which was crucial in maintaining a positive group dynamic. Peer evaluation7: Greater participation in initiating discussion points could enhance her contribution to the group dynamics. Peer evaluation8: she could contribute more of their own ideas to the discussion, adding depth to their supportive role. Peer evaluation9: Being more assertive in sharing their own perspectives could further enhance her role in the group.\"},\n",
       "   {'role': 'assistant',\n",
       "    'content': 'Leadership score 4: Although peers higly evaluated her supportive attitude, her role was limited to mediator rather than a leader. Critical thinking score 2: Peers suggested her to imrove on sharing her own innovative point of view to deepen the discussion more. Empathy score 10: Peers higly evaluated her skills to bring everybody together and understanding others. She also created a collaborative environment which is vital for productive discussion. '}]},\n",
       " {'messages': [{'role': 'system',\n",
       "    'content': 'You are group of human resource management professionals. You quantify leadership, critical thinking skills, and empathy of a person with reasons according to the peer reviews of that person.'},\n",
       "   {'role': 'user',\n",
       "    'content': \"Following are the peer reviews for this person: Peer evaluation1: he consistently challenged assumptions and provided alternative viewpoints, stimulating deeper analysis of the topics discussed. Peer evaluation2: he often asked probing questions, prompting deeper thinking and exploration of the topics. Peer evaluation3: he provided well-reasoned arguments and was effective in persuading others with logical explanations. Peer evaluation4: he took on the role of a critical evaluator, which prompted others to consider different perspectives and reinforced a thorough examination of ideas. Peer evaluation5: As an inquisitive participant, his questions often led the group to explore more nuanced aspects of the discussion, enriching the overall conversation. Peer evaluation6: his analytical prowess was instrumental in driving the group towards evidence-based conclusions. Peer evaluation7: Balancing his analytical approach with acknowledgment of others' viewpoints could enhance collaborative problem-solving. Peer evaluation8: Balancing his views with other's contributions could enhance his impact on the group discussion. Peer evaluation9: he could enhance their approach by incorporating a more empathetic understanding of others' perspectives.\"},\n",
       "   {'role': 'assistant',\n",
       "    'content': \"Leadership Score 4: Peers commended his ability to steer and enhance the disucssion through his analytical evaluations, but he did not put effort in organizing, or emotionally supporting members. Critical Thinking Score 9: Peers greatly valued his critical thinking and problem-solving skills.  Empathy Score 3: While able to engage others through critique, he did not empathize with other's perspectives or balance his views with others.\"}]},\n",
       " {'messages': [{'role': 'system',\n",
       "    'content': 'You are group of human resource management professionals. You quantify leadership, critical thinking skills, and empathy of a person with reasons according to the peer reviews of that person.'},\n",
       "   {'role': 'user',\n",
       "    'content': \"Following are the peer reviews for this person: Peer evaluation1: He mostly remained silent, but offered well-thought out answers to the questions when the discussion came to him. Peer evaulation2: He demonstrated keen listening skills and provided insightful responses when prompted. His thoughtful contributions showcased depth of understanding. Peer evaluation3: He conveyed a strong grasp of the topic. His well-considered responses indicated a reflective approach, contributing positively to the discussion's overall quality. Peer evaluation4: He played the role of a reserved, yet thoughtful contributor. His well-articulated answers enriched the discussion, offering valuable insights that deepened our understanding of the topic. Peer evaluation5: Operating as a reflective participant, he contributed a calm and insightful presence. His measured responses fostered a more focused and contemplative atmosphere. Peer evaluation6: He took the role of a contemplative listener, His approach encouraged a more measured and considerate tone in the discussion, enhancing the overall group interaction. Peer evaluation7: To enhance participation, he could proactively share insights rather than relying on being prompted. Peer evaluation8: Initiating discussion points would strengthen his role as a reflective participant, fostering a more dynamic and interactive group environment. Peer evaluation9: While showcasing a strong grasp of the topic, he could share more original opinions rather than simply expanding on the comments of other people.\"},\n",
       "   {'role': 'assistant',\n",
       "    'content': \"Leadership Score 2: While responding well to other's prompts, in most cases, he only answered when he specifically was asked to contribute. He did not initiate organizing or starting a discussion. Critical Thinking Score 7: Evaluators rated his ability to grasp the concepts and provide meaningful additions to the discussion; his listening skill allowed him to provide deep insights and expand on the topic. Empathy Score 2: While able to grasp the tone of the questions asked of him, he did not attempt to actively incorporate and engage others in the discussion.\"}]},\n",
       " {'messages': [{'role': 'system',\n",
       "    'content': 'You are group of human resource management professionals. You quantify leadership, critical thinking skills, and empathy of a person with reasons according to the peer reviews of that person.'},\n",
       "   {'role': 'user',\n",
       "    'content': \"Following are the peer reviews for this person: Peer evaluation1: she frequently interjected with questions and clarifications. She took notes and occasionally summarized points. Peer evaluation2: she asked many questions and often requested examples to understand points better. Peer evaluation3: she was active in seeking clarification and took the lead in summarizing discussions. Peer evaluation4: She acted as a facilitator, ensuring everyone understood the topics. Her clarifications helped keep the discussion on track. Peer evaluation5: Her role was mainly inquisitive, helping the group to explore ideas more deeply. Peer evaluation6: Played the role of a summarizer, which helped in consolidating the group's thoughts. Peer evaluation7: Could engage more by sharing her own ideas rather than just clarifying others'. Peer evaluation8: She might try to balance her questioning with more contributions of original thoughts. Peer evaluation9: She could be more assertive in expressing her own opinions.\"},\n",
       "   {'role': 'assistant',\n",
       "    'content': 'Leadership score 4: Although peers higly evalueted her contribution, her conttibution was limited to adding information or deepening the discussion rather than leading the discussion. Critical thinking score 10 : Peers highly evaluated her questioning skills, directing the discussion to more deeper topics. Empathy score 5: Peers did not problematize her empathetic ability, but there may be some place for improvements. '}]},\n",
       " {'messages': [{'role': 'system',\n",
       "    'content': 'You are group of human resource management professionals. You quantify leadership, critical thinking skills, and empathy of a person with reasons according to the peer reviews of that person.'},\n",
       "   {'role': 'user',\n",
       "    'content': 'Following are the peer reviews for this person: Peer evaluation1: he mostly listened, spoke infrequently, but made impactful points. He nodded and smiled often. Peer evaluation2: he was quiet for most of the discussion, but he intervened with key insights a few times. Peer evaluation3: he stayed mostly silent but had a few moments of concise, valuable input. Peer evaluation4: he was a thoughtful listener, which made his contributions particularly meaningful and insightful. Peer evaluation5: His role was that of a critical thinker, providing depth to the discussion with his interventions. Peer evaluation6: He played the observer, which added quality over quantity in the discussion. Peer evaluation7: Could participate more frequently to offer his valuable perspective. Peer evaluation8: He could improve by engaging more actively throughout the discussion. Peer evaluation9: Engaging more and sharing thoughts regularly could enhance his contribution.'},\n",
       "   {'role': 'assistant',\n",
       "    'content': 'Leadership score 0: Peers evaluated him as thoughtful listener, indicating that he was not taking initiatives in the discussion. Critical thinking score 7: Some peers pointed out that he contributed to discussion by providing critical point of view, but his contribution was not frequent. Empathy score 6: Although he was not an active speaker, peers observed that he was closely listening to others ideas, indicating that his empathetic skills are moderately high. '}]},\n",
       " {'messages': [{'role': 'system',\n",
       "    'content': 'You are group of human resource management professionals. You quantify leadership, critical thinking skills, and empathy of a person with reasons according to the peer reviews of that person.'},\n",
       "   {'role': 'user',\n",
       "    'content': \"Following are the peer reviews for this person: Peer evaluation1: she contributed evenly, balancing speaking and listening. She often acknowledged others' points. Peer evaluation2: she spoke up regularly, offering constructive feedback and support to others' ideas. Peer evaluation3: she was active but not overbearing, often providing positive reinforcement to ideas. Peer evaluation4: she was a mediator, maintaining a balanced and inclusive atmosphere. Peer evaluation5: Her role was that of a supporter, reinforcing and building upon others' contributions. Peer evaluation6: She acted as an encourager, boosting the group's morale and fostering collaboration. Peer evaluation7: Could be more assertive in putting forward her ideas. Peer evaluation8: Might try taking the lead in discussions more often. Peer evaluation9: Could occasionally challenge ideas to provoke deeper thinking.\"},\n",
       "   {'role': 'assistant',\n",
       "    'content': \"Leadership score 4: Peers evaluated her as balanced supporter rather than as a leader. Critical thinking score 3: Some peers pointed out that she should sometimes challenge others' idea, not only supporting them. Empathy score 9: Peers higly evaluated her balanced contribution to create collaborative atmosphere, facilitating inclusive discussion. \"}]},\n",
       " {'messages': [{'role': 'system',\n",
       "    'content': 'You are group of human resource management professionals. You quantify leadership, critical thinking skills, and empathy of a person with reasons according to the peer reviews of that person.'},\n",
       "   {'role': 'user',\n",
       "    'content': \"Following are the peer reviews for this person: Peer evaluation1: he dominated the conversation, sharing many ideas and opinions, sometimes interrupting others. Peer evaluation2: he was very vocal, offering numerous suggestions and often steering the conversation. Peer evaluation3: he spoke the most, presenting many ideas, but sometimes at the expense of others' participation. Peer evaluation4: As the main speaker, he drove much of the conversation, sparking debate and discussion. Peer evaluation5: Acted as a leader, guiding the direction of the discussion. Peer evaluation6: He was the primary initiator of topics, which kept the conversation lively. Peer evaluation7: Needs to work on listening more and allowing others to contribute equally. Peer evaluation8: Could benefit from being more inclusive and encouraging others to speak. Peer evaluation9: Should focus on balancing his contributions with active listening.\"},\n",
       "   {'role': 'assistant',\n",
       "    'content': \"Leadership score 7: Some peers highly evaluated his contribution as a leader, while some peeers pointed out that he is overdoing it. Critical thinking score 5: Peers did not point out any problems in his ability to provide innovative perspective and deepen the discussion, but there may be a place for improvement. Empathy score 1: Peers suggetsted that he should work on considering about others' contribution more. \"}]},\n",
       " {'messages': [{'role': 'system',\n",
       "    'content': 'You are group of human resource management professionals. You quantify leadership, critical thinking skills, and empathy of a person with reasons according to the peer reviews of that person.'},\n",
       "   {'role': 'user',\n",
       "    'content': \"Following are the peer reviews for this person: Peer evauation1: Constant interruptions and off-topic comments were common from this individual. he often seemed distracted, frequently checking their phone. Peer evaluation2: he responded with sarcasm when asked for input and rarely contributed constructively. Peer evaluation3: This person seemed disinterested in our objectives, often interrupting others. Peer evaluation4: his behavior was disruptive, causing frequent derailments in our discussion's flow. Peer evaluation5: his role was more obstructive than contributory, hindering our group's overall productivity. Peer evaluation6: his negative contribution created challenges in maintaining a productive discussion. Peer evaluation7: More active listening and staying on-topic would greatly benefit their contribution. Peer evaluation8 Improving engagement and showing respect for the group's efforts would be key. Peer evaluation9: he could improve by respecting others' time and contributing more positively.\"},\n",
       "   {'role': 'assistant',\n",
       "    'content': 'Leadership score 0: Peers evaluated him as negative contributer, which is far from leadership. Critical Thinking Score 0: Peers pointed out that he did not try to add new point of views during the discussion, and he rather disrupted the discussion. Empahty Score 0: Peers suggested he should listen to others more closely and stop intterupting others.'}]},\n",
       " {'messages': [{'role': 'system',\n",
       "    'content': 'You are group of human resource management professionals. You quantify leadership, critical thinking skills, and empathy of a person with reasons according to the peer reviews of that person.'},\n",
       "   {'role': 'user',\n",
       "    'content': \"Following are the peer reviews for this person: Peer evaluation1: He consistently undermined others' arguments, resorting to dismissive language and personal attacks. He displayed a confrontational attitude, often derailing the discussion with confrontational remarks. Peer evaluation 2: He consistently belittled opposing viewpoints, using abrasive language that stifled open conversation. Peer evaluation 3: He habitually dismissed others' contributions with condescending remarks. They created an atmosphere of hostility, discouraging open exchange and stifling the group's ability to collaborate. Peer evaluation 4: He played the role of a disruptor, negatively impacting the group by fostering a hostile environment which prevented open discussion. Peer evaluation 5: He assumed the role of a detractor, impeding constructive dialogue by shutting down alternative perspectives. This behavior hindered the group's ability to explore diverse ideas and find common ground. Peer evaluation 6: His negativity did not allow the discussion to progress beyond the starting point. Peer evaluation 7: To improve, he should strive to engage in more respectful discourse, fostering an environment where everyone feels comfortable expressing their views without fear of personal attacks. Peer evaluation 8: He should focus on active listening, consider alternative perspectives with an open mind, and communicate disagreements in a more constructive manner. Peer evaluation 9: He needs to learn to think logically and with empathy instead of considering every argument as an attack.\"},\n",
       "   {'role': 'assistant',\n",
       "    'content': 'Leadership score 0: He significantly hindered the progress of discussion by stifling others and personally attacking them. Critical Thinking Score 0: He was completely unable to logically and coherently express any critical thinking skills. Empahty Score 0: He felt strong apathy and dislike towards others and routinely resorted to attacking them.'}]},\n",
       " {'messages': [{'role': 'system',\n",
       "    'content': 'You are group of human resource management professionals. You quantify leadership, critical thinking skills, and empathy of a person with reasons according to the peer reviews of that person.'},\n",
       "   {'role': 'user',\n",
       "    'content': \"Following are the peer reviews for this person: Peer evaluation1: he was attentive, offered thoughtful&innovative feedback, and encouraged everyone's participation. Peer evaluation2: Actively listened and built upon others' ideas from critical point of view, showing great initiative. Peer evaluation3: Encouraged quieter members and consistently contributed innovative solutions. Peer evaluation4: A natural facilitator, they helped keep the discussion focused and productive. Peer evaluation5: his empathetic, creative, and critical approach greatly enhanced our group dynamics. Peer evaluation6: he led effectively, ensuring a balanced and goal-oriented discussion. Peer evalaution7: Perhaps he could allow others more leadership opportunities. Peer evalaution8: Although he did very good, maybe stepping back occasionally to foster more inclusive participation could be beneficial. Peer evalaution8: Maybe balancing their leadership with opportunities for others to lead could be an area to explore.\"},\n",
       "   {'role': 'assistant',\n",
       "    'content': 'Leadership score 10:  Peers highly evaluated his ability to lead the discussion while providing his own point of view. Critical Thinking score 10: Peers highly evaluated his ability to provide critical and innovative point of view. Empathy Score 9: Although some peer highly evaluated his empathetic approach, perhaps it may be possible for him to allow other members with leadership qualities to lead sometimes.'}]}]"
      ]
     },
     "execution_count": 4,
     "metadata": {},
     "output_type": "execute_result"
    }
   ],
   "source": [
    "jsonl_format = []\n",
    "for i in raw.index:\n",
    "    input_ = raw.iloc[i][\"peer123\"] +' '+ raw.iloc[i][\"peer456\"] +' '+ raw.iloc[i][\"peer789\"]\n",
    "    output = raw.iloc[i][\"sample_output\"]\n",
    "    jsonl_format.append({\"messages\": [{\"role\": \"system\", \"content\": \"You are group of human resource management professionals. You quantify leadership, critical thinking skills, and empathy of a person with reasons according to the peer reviews of that person.\"}, {\"role\": \"user\", \"content\": \"Following are the peer reviews for this person: \" + f\"{input_}\"}, {\"role\": \"assistant\", \"content\": f\"{output}\"}]})\n",
    "\n",
    "jsonl_format\n",
    "    "
   ]
  },
  {
   "cell_type": "code",
   "execution_count": 9,
   "id": "4b695863",
   "metadata": {
    "scrolled": false
   },
   "outputs": [
    {
     "name": "stdout",
     "output_type": "stream",
     "text": [
      "[{'messages': [{'role': 'system', 'content': 'You are group of human resource management professionals. You quantify leadership, critical thinking skills, and empathy of a person with reasons according to the peer reviews of that person.'}, {'role': 'user', 'content': \"Following are the peer reviews for this person: Peer evaluation1: Consistently introduced new ideas and asked probing questions, often guiding the conversation towards deeper analysis. Peer evaluation2: Often took the lead in exploring uncharted areas of the topic, adding depth to the conversation. Peer evaluation3: Quick to identify logical inconsistencies and suggest alternative viewpoints. Peer evaluation4: Initiative in directing the discussion, exploring diverse viewpoints and keeping the conversation on track. Peer evaluation5: Proactive approach in steering the discussion helped in uncovering new angles and perspectives. Peer evaluation6: Provided a challenging but constructive voice, pushing the group towards more robust conclusions. Peer evaluation7: Could benefit from allowing more time for others to reflect and respond, ensuring a balanced contribution from all members. Peer evaluation8: He could enhance their contribution by showing more patience and allowing ideas to develop more organically. Peer evaluation9: Cultivating a more inclusive approach that acknowledges and builds on others' ideas could strengthen their impact.\"}, {'role': 'assistant', 'content': \"Leadership score 6: Peers highly evaluated his motivation to take initiatives in the discussion, while some peers suggested he should improve patience and ability to balance contribution by other members. Critical thinking score 8: Peers highly evalutated his ability to give innovative and diverse perspective to the discusion. Empathy score 3: Although he was higly motivated to take initiative and develop the discussion, peers pointed out that he can improve on inclusion of other's ideas.\"}]}, {'messages': [{'role': 'system', 'content': 'You are group of human resource management professionals. You quantify leadership, critical thinking skills, and empathy of a person with reasons according to the peer reviews of that person.'}, {'role': 'user', 'content': 'Following are the peer reviews for this person: Peer evaluation1: Frequently summarized discussion points and asked clarifying questions, ensuring understanding. Peer evaluation2: Consistently provided structure to the discussion through effective organization of thoughts and ideas. Peer evaluation3: Excelled in maintaining order and ensuring thorough discussion of each point. Peer evaluation4: Mediator, maintaining focus and coherence, especially when the discussion veered off-topic. Peer evaluation5: Instrumental in guiding the flow of conversation and ensuring that key points were addressed and understood. Peer evaluation6: Organizational skills were key in keeping the discussion coherent and productive. Peer evaluation7: Further enhance the discussion by occasionally introducing innovative perspectives or challenging the status quo. Peer evaluation8: An area for improvement could be to integrate more innovative thinking to stimulate creative discussions. Peer evaluation9: Could improve by incorporating more spontaneity and flexibility in handling diverse opinions.\\n'}, {'role': 'assistant', 'content': 'Leadership score 8: Peers highly evaluated his motivation to summarize & keeping the conversation focused on the topic. Critical thinking score 4: Some peers suggested he should improve his ability to give innovative perspective. Empathy score 6: Effectively organizing the discussion needs high empathetic ability, and he sucessfully organized the discussion.'}]}, {'messages': [{'role': 'system', 'content': 'You are group of human resource management professionals. You quantify leadership, critical thinking skills, and empathy of a person with reasons according to the peer reviews of that person.'}, {'role': 'user', 'content': \"Following are the peer reviews for this person: Peer evauation1: Constant interruptions and off-topic comments were common from this individual. he often seemed distracted, frequently checking their phone. Peer evaluation2: he responded with sarcasm when asked for input and rarely contributed constructively. Peer evaluation3: This person seemed disinterested in our objectives, often interrupting others. Peer evaluation4: his behavior was disruptive, causing frequent derailments in our discussion's flow. Peer evaluation5: his role was more obstructive than contributory, hindering our group's overall productivity. Peer evaluation6: his negative contribution created challenges in maintaining a productive discussion. Peer evaluation7: More active listening and staying on-topic would greatly benefit their contribution. Peer evaluation8 Improving engagement and showing respect for the group's efforts would be key. Peer evaluation9: he could improve by respecting others' time and contributing more positively.\"}, {'role': 'assistant', 'content': 'Leadership score 0: Peers evaluated him as negative contributer, which is far from leadership. Critical Thinking Score 0: Peers pointed out that he did not try to add new point of views during the discussion, and he rather disrupted the discussion. Empahty Score 0: Peers suggested he should listen to others more closely and stop intterupting others.'}]}, {'messages': [{'role': 'system', 'content': 'You are group of human resource management professionals. You quantify leadership, critical thinking skills, and empathy of a person with reasons according to the peer reviews of that person.'}, {'role': 'user', 'content': 'Following are the peer reviews for this person: Peer evaluation1: he mostly listened, spoke infrequently, but made impactful points. He nodded and smiled often. Peer evaluation2: he was quiet for most of the discussion, but he intervened with key insights a few times. Peer evaluation3: he stayed mostly silent but had a few moments of concise, valuable input. Peer evaluation4: he was a thoughtful listener, which made his contributions particularly meaningful and insightful. Peer evaluation5: His role was that of a critical thinker, providing depth to the discussion with his interventions. Peer evaluation6: He played the observer, which added quality over quantity in the discussion. Peer evaluation7: Could participate more frequently to offer his valuable perspective. Peer evaluation8: He could improve by engaging more actively throughout the discussion. Peer evaluation9: Engaging more and sharing thoughts regularly could enhance his contribution.'}, {'role': 'assistant', 'content': 'Leadership score 0: Peers evaluated him as thoughtful listener, indicating that he was not taking initiatives in the discussion. Critical thinking score 7: Some peers pointed out that he contributed to discussion by providing critical point of view, but his contribution was not frequent. Empathy score 6: Although he was not an active speaker, peers observed that he was closely listening to others ideas, indicating that his empathetic skills are moderately high. '}]}, {'messages': [{'role': 'system', 'content': 'You are group of human resource management professionals. You quantify leadership, critical thinking skills, and empathy of a person with reasons according to the peer reviews of that person.'}, {'role': 'user', 'content': \"Following are the peer reviews for this person: Peer evaluation1: He consistently undermined others' arguments, resorting to dismissive language and personal attacks. He displayed a confrontational attitude, often derailing the discussion with confrontational remarks. Peer evaluation 2: He consistently belittled opposing viewpoints, using abrasive language that stifled open conversation. Peer evaluation 3: He habitually dismissed others' contributions with condescending remarks. They created an atmosphere of hostility, discouraging open exchange and stifling the group's ability to collaborate. Peer evaluation 4: He played the role of a disruptor, negatively impacting the group by fostering a hostile environment which prevented open discussion. Peer evaluation 5: He assumed the role of a detractor, impeding constructive dialogue by shutting down alternative perspectives. This behavior hindered the group's ability to explore diverse ideas and find common ground. Peer evaluation 6: His negativity did not allow the discussion to progress beyond the starting point. Peer evaluation 7: To improve, he should strive to engage in more respectful discourse, fostering an environment where everyone feels comfortable expressing their views without fear of personal attacks. Peer evaluation 8: He should focus on active listening, consider alternative perspectives with an open mind, and communicate disagreements in a more constructive manner. Peer evaluation 9: He needs to learn to think logically and with empathy instead of considering every argument as an attack.\"}, {'role': 'assistant', 'content': 'Leadership score 0: He significantly hindered the progress of discussion by stifling others and personally attacking them. Critical Thinking Score 0: He was completely unable to logically and coherently express any critical thinking skills. Empahty Score 0: He felt strong apathy and dislike towards others and routinely resorted to attacking them.'}]}, {'messages': [{'role': 'system', 'content': 'You are group of human resource management professionals. You quantify leadership, critical thinking skills, and empathy of a person with reasons according to the peer reviews of that person.'}, {'role': 'user', 'content': \"Following are the peer reviews for this person: Peer evaluation1: he was attentive, offered thoughtful&innovative feedback, and encouraged everyone's participation. Peer evaluation2: Actively listened and built upon others' ideas from critical point of view, showing great initiative. Peer evaluation3: Encouraged quieter members and consistently contributed innovative solutions. Peer evaluation4: A natural facilitator, they helped keep the discussion focused and productive. Peer evaluation5: his empathetic, creative, and critical approach greatly enhanced our group dynamics. Peer evaluation6: he led effectively, ensuring a balanced and goal-oriented discussion. Peer evalaution7: Perhaps he could allow others more leadership opportunities. Peer evalaution8: Although he did very good, maybe stepping back occasionally to foster more inclusive participation could be beneficial. Peer evalaution8: Maybe balancing their leadership with opportunities for others to lead could be an area to explore.\"}, {'role': 'assistant', 'content': 'Leadership score 10:  Peers highly evaluated his ability to lead the discussion while providing his own point of view. Critical Thinking score 10: Peers highly evaluated his ability to provide critical and innovative point of view. Empathy Score 9: Although some peer highly evaluated his empathetic approach, perhaps it may be possible for him to allow other members with leadership qualities to lead sometimes.'}]}, {'messages': [{'role': 'system', 'content': 'You are group of human resource management professionals. You quantify leadership, critical thinking skills, and empathy of a person with reasons according to the peer reviews of that person.'}, {'role': 'user', 'content': 'Following are the peer reviews for this person: Peer evaluation1: he effectively summarized key points and often led the group to consensus, especially during complex discussions. Peer evaluation2: he was quick to recognize and resolve conflicts, guiding the group towards constructive solutions. Peer evaluation3: he frequently set the agenda and outlined objectives for the discussion, keeping the group on track. Peer evaluation4: his leadership qualities were evident as he often took charge in directing the discussion, ensuring that the group remained focused and productive. Peer evaluation5: his role as a peacekeeper was crucial in maintaining a respectful and productive discussion environment. Peer evaluation6: his organizational skills were vital in structuring the discussion, which allowed for efficient and comprehensive exploration of topics. Peer evaluation7: he could further enhance their impact by encouraging quieter members to participate more actively. Peer evaluation8: Incorporating more diverse perspectives and ideas could further enrich the discussions led by him. Peer evaluation9: he could further empower others by delegating some of the agenda-setting responsibilities.'}, {'role': 'assistant', 'content': 'Leadership score 8: Peers highly evaluated his motivation to lead the discusssion. Critical thinking score 5: his critical thinking skills were not problematic, but it can be improved further. Empathy score 5: Some peers highly evaluated his abilitiy to organize a productive environment, while some peers pointed out that he failed to incorporate quiet member. '}]}, {'messages': [{'role': 'system', 'content': 'You are group of human resource management professionals. You quantify leadership, critical thinking skills, and empathy of a person with reasons according to the peer reviews of that person.'}, {'role': 'user', 'content': \"Following are the peer reviews for this person: Peer evaluation1: she frequently interjected with questions and clarifications. She took notes and occasionally summarized points. Peer evaluation2: she asked many questions and often requested examples to understand points better. Peer evaluation3: she was active in seeking clarification and took the lead in summarizing discussions. Peer evaluation4: She acted as a facilitator, ensuring everyone understood the topics. Her clarifications helped keep the discussion on track. Peer evaluation5: Her role was mainly inquisitive, helping the group to explore ideas more deeply. Peer evaluation6: Played the role of a summarizer, which helped in consolidating the group's thoughts. Peer evaluation7: Could engage more by sharing her own ideas rather than just clarifying others'. Peer evaluation8: She might try to balance her questioning with more contributions of original thoughts. Peer evaluation9: She could be more assertive in expressing her own opinions.\"}, {'role': 'assistant', 'content': 'Leadership score 4: Although peers higly evalueted her contribution, her conttibution was limited to adding information or deepening the discussion rather than leading the discussion. Critical thinking score 10 : Peers highly evaluated her questioning skills, directing the discussion to more deeper topics. Empathy score 5: Peers did not problematize her empathetic ability, but there may be some place for improvements. '}]}, {'messages': [{'role': 'system', 'content': 'You are group of human resource management professionals. You quantify leadership, critical thinking skills, and empathy of a person with reasons according to the peer reviews of that person.'}, {'role': 'user', 'content': \"Following are the peer reviews for this person: Peer evaluation1: he consistently challenged assumptions and provided alternative viewpoints, stimulating deeper analysis of the topics discussed. Peer evaluation2: he often asked probing questions, prompting deeper thinking and exploration of the topics. Peer evaluation3: he provided well-reasoned arguments and was effective in persuading others with logical explanations. Peer evaluation4: he took on the role of a critical evaluator, which prompted others to consider different perspectives and reinforced a thorough examination of ideas. Peer evaluation5: As an inquisitive participant, his questions often led the group to explore more nuanced aspects of the discussion, enriching the overall conversation. Peer evaluation6: his analytical prowess was instrumental in driving the group towards evidence-based conclusions. Peer evaluation7: Balancing his analytical approach with acknowledgment of others' viewpoints could enhance collaborative problem-solving. Peer evaluation8: Balancing his views with other's contributions could enhance his impact on the group discussion. Peer evaluation9: he could enhance their approach by incorporating a more empathetic understanding of others' perspectives.\"}, {'role': 'assistant', 'content': \"Leadership Score 4: Peers commended his ability to steer and enhance the disucssion through his analytical evaluations, but he did not put effort in organizing, or emotionally supporting members. Critical Thinking Score 9: Peers greatly valued his critical thinking and problem-solving skills.  Empathy Score 3: While able to engage others through critique, he did not empathize with other's perspectives or balance his views with others.\"}]}, {'messages': [{'role': 'system', 'content': 'You are group of human resource management professionals. You quantify leadership, critical thinking skills, and empathy of a person with reasons according to the peer reviews of that person.'}, {'role': 'user', 'content': \"Following are the peer reviews for this person: Peer evaluation1: she consistently introduced new topics and redirected the conversation when it stagnated, ensuring that everyone stayed engaged and topics were thoroughly explored. Peer evaluation2: she frequently built upon others' ideas, linking different points and enhancing the cohesion of the discussion. Peer evaluation3: she often harmonized differing viewpoints, creating a more inclusive and collaborative discussion environment. Peer evaluation4: she acted as a facilitator, smoothly guiding the conversation and ensuring that each participant had the opportunity to contribute, which kept the discussion dynamic and inclusive. Peer evaluation5: her integrative approach helped in synthesizing diverse viewpoints, which was key in advancing the group's understanding of the topics. Peer evaluation6: her conciliatory approach was key in fostering mutual understanding and respect among group members. Peer evaluation7: she could benefit from occasionally stepping back to allow others to initiate topics and lead segments of the discussion. Peer evaluation8: she could improve by occasionally allowing discussions to flow more naturally without trying to steer them too much. Peer evaluation9: she could challenge ideas more often to encourage a deeper level of critical engagement in the group.\"}, {'role': 'assistant', 'content': 'Leadership score 6: Peers highly evaluated her initiatives in redirecting discusssions, while some peers suggested him to allow other members to take initiatives too. Critical thinking score 4:  Some peers pointed out that her critical thinking skills can be improved further. Empathy score 8: Peers evaluated his ability to understand others and harmonize opinions, creating favorable atmosphere. '}]}, {'messages': [{'role': 'system', 'content': 'You are group of human resource management professionals. You quantify leadership, critical thinking skills, and empathy of a person with reasons according to the peer reviews of that person.'}, {'role': 'user', 'content': \"Following are the peer reviews for this person: Peer evaluation1: Offered insightful feedback on ideas presented and shared several relevant personal experiences. Peer evaluation2: Highlighted potential flaws in arguments and proposed alternative solutions. Peer evaluation3: Adept at connecting discussion points to broader contexts, providing a wider perspective. Peer evaluation4: Thoughtful contributor, enriching the discussion with practical perspectives and real-world examples. Peer evaluation5: Critical role in ensuring thoroughness and rigor in the group's thought process. Peer evaluation6: Brought a strategic viewpoint, helping the group to see beyond immediate topics and consider long-term implications. Peer evaluation7: Enhancing her ability to connect other's contributions more directly to the discussion topic would further increase their effectiveness. Peer evaluation8: Balancing their analytical approach with recognition of others' emotional responses would enhance group dynamics. Peer evaluation9: Focusing more on the immediate discussion topics and details would complement their broader approach.\"}, {'role': 'assistant', 'content': \"Leadership score 4: Although she actively engaged in the discussion, she did not necessarily take initaitives in organizing the discussion. Critical thinking score 9: Peers higly evaluated her ability to actively provide well-considered & critical perspectives. Empathy score 3: Peers suggeted she should improve on incorporating other's emotional opinions and valuing other's contributions more.\"}]}]\n",
      "\n",
      "\n",
      "[{'messages': [{'role': 'system', 'content': 'You are group of human resource management professionals. You quantify leadership, critical thinking skills, and empathy of a person with reasons according to the peer reviews of that person.'}, {'role': 'user', 'content': \"Following are the peer reviews for this person: Peer evaluation1: Listened attentively to others, summarizing points effectively and offering supportive comments. Peer evaluation2: Regularly encouraged quieter members to speak and acknowledged all contributions positively. Peer evaluation3: Consistently acknowledged and built upon others' contributions, fostering a collaborative atmosphere. Peer evaluation4: Reconciling role, bridging gaps between differing opinions and maintaining a harmonious discussion environment. Peer evaluation5: Fostered a supportive environment, ensuring that all voices were heard and valued, which enriched the group's collective output. Peer evaluation6: Nurturing role, ensuring that each member felt valued and engaged. Peer evaluation7: Improvement could be made by occasionally challenging ideas to deepen the group's understanding and discussion depth. Peer evaluation8: Greater involvement in the substance of the discussion, rather than just facilitation, could offer more depth to their contributions. Peer evaluation9: Could improve by more actively contributing original ideas and perspectives to the discussion.\"}, {'role': 'assistant', 'content': \"Leadership score 4: Peers highly evaluated her ability to facilitate the discussion, but suggested her to improve on actively joining the discussion. Critical thinking score 3: Peers suggested her to improve on challenging other's ideas, not only facilitating the discussion. Empathy score 9: Peers higly evaluated her ability to keep everyone engaged by creating an supportive atmosphere.\"}]}, {'messages': [{'role': 'system', 'content': 'You are group of human resource management professionals. You quantify leadership, critical thinking skills, and empathy of a person with reasons according to the peer reviews of that person.'}, {'role': 'user', 'content': \"Following are the peer reviews for this person: Peer evaluation1: she attentively listened to others, offering constructive feedback and summarizing points to clarify understanding. Peer evaluation2: she regularly encouraged others, acknowledging their contributions and helping to maintain a positive atmosphere. Peer evaluation3: she consistently provided thoughtful feedback and was attentive to the emotional tone of the group. Peer evaluation4: she played the role of a mediator, bridging gaps in communication and fostering a collaborative environment. Their approach maintained a positive and productive atmosphere. Peer evaluation5: As a supportive collaborator, she played a vital role in maintaining group morale and ensuring a harmonious discussion environment. Peer evaluation6: her empathetic presence brought a sense of balance and consideration for others' feelings, which was crucial in maintaining a positive group dynamic. Peer evaluation7: Greater participation in initiating discussion points could enhance her contribution to the group dynamics. Peer evaluation8: she could contribute more of their own ideas to the discussion, adding depth to their supportive role. Peer evaluation9: Being more assertive in sharing their own perspectives could further enhance her role in the group.\"}, {'role': 'assistant', 'content': 'Leadership score 4: Although peers higly evaluated her supportive attitude, her role was limited to mediator rather than a leader. Critical thinking score 2: Peers suggested her to imrove on sharing her own innovative point of view to deepen the discussion more. Empathy score 10: Peers higly evaluated her skills to bring everybody together and understanding others. She also created a collaborative environment which is vital for productive discussion. '}]}, {'messages': [{'role': 'system', 'content': 'You are group of human resource management professionals. You quantify leadership, critical thinking skills, and empathy of a person with reasons according to the peer reviews of that person.'}, {'role': 'user', 'content': \"Following are the peer reviews for this person: Peer evaluation1: He mostly remained silent, but offered well-thought out answers to the questions when the discussion came to him. Peer evaulation2: He demonstrated keen listening skills and provided insightful responses when prompted. His thoughtful contributions showcased depth of understanding. Peer evaluation3: He conveyed a strong grasp of the topic. His well-considered responses indicated a reflective approach, contributing positively to the discussion's overall quality. Peer evaluation4: He played the role of a reserved, yet thoughtful contributor. His well-articulated answers enriched the discussion, offering valuable insights that deepened our understanding of the topic. Peer evaluation5: Operating as a reflective participant, he contributed a calm and insightful presence. His measured responses fostered a more focused and contemplative atmosphere. Peer evaluation6: He took the role of a contemplative listener, His approach encouraged a more measured and considerate tone in the discussion, enhancing the overall group interaction. Peer evaluation7: To enhance participation, he could proactively share insights rather than relying on being prompted. Peer evaluation8: Initiating discussion points would strengthen his role as a reflective participant, fostering a more dynamic and interactive group environment. Peer evaluation9: While showcasing a strong grasp of the topic, he could share more original opinions rather than simply expanding on the comments of other people.\"}, {'role': 'assistant', 'content': \"Leadership Score 2: While responding well to other's prompts, in most cases, he only answered when he specifically was asked to contribute. He did not initiate organizing or starting a discussion. Critical Thinking Score 7: Evaluators rated his ability to grasp the concepts and provide meaningful additions to the discussion; his listening skill allowed him to provide deep insights and expand on the topic. Empathy Score 2: While able to grasp the tone of the questions asked of him, he did not attempt to actively incorporate and engage others in the discussion.\"}]}, {'messages': [{'role': 'system', 'content': 'You are group of human resource management professionals. You quantify leadership, critical thinking skills, and empathy of a person with reasons according to the peer reviews of that person.'}, {'role': 'user', 'content': \"Following are the peer reviews for this person: Peer evaluation1: she contributed evenly, balancing speaking and listening. She often acknowledged others' points. Peer evaluation2: she spoke up regularly, offering constructive feedback and support to others' ideas. Peer evaluation3: she was active but not overbearing, often providing positive reinforcement to ideas. Peer evaluation4: she was a mediator, maintaining a balanced and inclusive atmosphere. Peer evaluation5: Her role was that of a supporter, reinforcing and building upon others' contributions. Peer evaluation6: She acted as an encourager, boosting the group's morale and fostering collaboration. Peer evaluation7: Could be more assertive in putting forward her ideas. Peer evaluation8: Might try taking the lead in discussions more often. Peer evaluation9: Could occasionally challenge ideas to provoke deeper thinking.\"}, {'role': 'assistant', 'content': \"Leadership score 4: Peers evaluated her as balanced supporter rather than as a leader. Critical thinking score 3: Some peers pointed out that she should sometimes challenge others' idea, not only supporting them. Empathy score 9: Peers higly evaluated her balanced contribution to create collaborative atmosphere, facilitating inclusive discussion. \"}]}, {'messages': [{'role': 'system', 'content': 'You are group of human resource management professionals. You quantify leadership, critical thinking skills, and empathy of a person with reasons according to the peer reviews of that person.'}, {'role': 'user', 'content': \"Following are the peer reviews for this person: Peer evaluation1: he dominated the conversation, sharing many ideas and opinions, sometimes interrupting others. Peer evaluation2: he was very vocal, offering numerous suggestions and often steering the conversation. Peer evaluation3: he spoke the most, presenting many ideas, but sometimes at the expense of others' participation. Peer evaluation4: As the main speaker, he drove much of the conversation, sparking debate and discussion. Peer evaluation5: Acted as a leader, guiding the direction of the discussion. Peer evaluation6: He was the primary initiator of topics, which kept the conversation lively. Peer evaluation7: Needs to work on listening more and allowing others to contribute equally. Peer evaluation8: Could benefit from being more inclusive and encouraging others to speak. Peer evaluation9: Should focus on balancing his contributions with active listening.\"}, {'role': 'assistant', 'content': \"Leadership score 7: Some peers highly evaluated his contribution as a leader, while some peeers pointed out that he is overdoing it. Critical thinking score 5: Peers did not point out any problems in his ability to provide innovative perspective and deepen the discussion, but there may be a place for improvement. Empathy score 1: Peers suggetsted that he should work on considering about others' contribution more. \"}]}]\n"
     ]
    }
   ],
   "source": [
    "Train_data = random.sample(jsonl_format, 11)\n",
    "Test_data = [i for i in jsonl_format if i not in Train_data]\n",
    "print(Train_data)\n",
    "print(\"\\n\")\n",
    "print(Test_data)"
   ]
  },
  {
   "cell_type": "code",
   "execution_count": 10,
   "id": "9b978322",
   "metadata": {},
   "outputs": [
    {
     "name": "stdout",
     "output_type": "stream",
     "text": [
      "11 5\n"
     ]
    }
   ],
   "source": [
    "print(len(Train_data), len(Test_data))"
   ]
  },
  {
   "cell_type": "code",
   "execution_count": 14,
   "id": "f32b5d4b",
   "metadata": {},
   "outputs": [],
   "source": [
    "with open('TrainData11S.jsonl', 'w') as f:\n",
    "    for i in range(len(Train_data)):\n",
    "        f.writelines(json.dumps(Train_data[i]))\n",
    "        f.write(\"\\n\")"
   ]
  },
  {
   "cell_type": "code",
   "execution_count": 15,
   "id": "e0a57fb7",
   "metadata": {},
   "outputs": [
    {
     "data": {
      "text/plain": [
       "FileObject(id='file-SZqArdL6AUodBfvN2WsC5JhG', bytes=20617, created_at=1702549273, filename='TrainData11S.jsonl', object='file', purpose='fine-tune', status='processed', status_details=None)"
      ]
     },
     "execution_count": 15,
     "metadata": {},
     "output_type": "execute_result"
    }
   ],
   "source": [
    "client = OpenAI(api_key=\"\")\n",
    "\n",
    "client.files.create(\n",
    "    file=open(\"TrainData11S.jsonl\", \"rb\"),\n",
    "    purpose=\"fine-tune\",\n",
    ")"
   ]
  },
  {
   "cell_type": "code",
   "execution_count": 16,
   "id": "cdf90519",
   "metadata": {},
   "outputs": [
    {
     "data": {
      "text/plain": [
       "FineTuningJob(id='ftjob-IyAaJXoxjHZXgJCKbXRmbeTO', created_at=1702549287, error=None, fine_tuned_model=None, finished_at=None, hyperparameters=Hyperparameters(n_epochs='auto', batch_size='auto', learning_rate_multiplier='auto'), model='gpt-3.5-turbo-0613', object='fine_tuning.job', organization_id='org-NEvo5J4DH55S1aLGck9nKzUC', result_files=[], status='validating_files', trained_tokens=None, training_file='file-SZqArdL6AUodBfvN2WsC5JhG', validation_file=None)"
      ]
     },
     "execution_count": 16,
     "metadata": {},
     "output_type": "execute_result"
    }
   ],
   "source": [
    "client = OpenAI(api_key=\"\")\n",
    "client.fine_tuning.jobs.create(\n",
    "  training_file=\"file-SZqArdL6AUodBfvN2WsC5JhG\", \n",
    "  model=\"gpt-3.5-turbo-0613\"\n",
    ")\n"
   ]
  },
  {
   "cell_type": "code",
   "execution_count": 17,
   "id": "057b99eb",
   "metadata": {},
   "outputs": [
    {
     "data": {
      "text/plain": [
       "{'messages': [{'role': 'system',\n",
       "   'content': 'You are group of human resource management professionals. You quantify leadership, critical thinking skills, and empathy of a person with reasons according to the peer reviews of that person.'},\n",
       "  {'role': 'user',\n",
       "   'content': \"Following are the peer reviews for this person: Peer evaluation1: Listened attentively to others, summarizing points effectively and offering supportive comments. Peer evaluation2: Regularly encouraged quieter members to speak and acknowledged all contributions positively. Peer evaluation3: Consistently acknowledged and built upon others' contributions, fostering a collaborative atmosphere. Peer evaluation4: Reconciling role, bridging gaps between differing opinions and maintaining a harmonious discussion environment. Peer evaluation5: Fostered a supportive environment, ensuring that all voices were heard and valued, which enriched the group's collective output. Peer evaluation6: Nurturing role, ensuring that each member felt valued and engaged. Peer evaluation7: Improvement could be made by occasionally challenging ideas to deepen the group's understanding and discussion depth. Peer evaluation8: Greater involvement in the substance of the discussion, rather than just facilitation, could offer more depth to their contributions. Peer evaluation9: Could improve by more actively contributing original ideas and perspectives to the discussion.\"},\n",
       "  {'role': 'assistant',\n",
       "   'content': \"Leadership score 4: Peers highly evaluated her ability to facilitate the discussion, but suggested her to improve on actively joining the discussion. Critical thinking score 3: Peers suggested her to improve on challenging other's ideas, not only facilitating the discussion. Empathy score 9: Peers higly evaluated her ability to keep everyone engaged by creating an supportive atmosphere.\"}]}"
      ]
     },
     "execution_count": 17,
     "metadata": {},
     "output_type": "execute_result"
    }
   ],
   "source": [
    "Test_data[0]"
   ]
  },
  {
   "cell_type": "code",
   "execution_count": 18,
   "id": "97405abd",
   "metadata": {},
   "outputs": [],
   "source": [
    "instruction = {'role': 'system',\n",
    "   'content': 'You are group of human resource management professionals. You quantify leadership, critical thinking skills, and empathy of a person with reasons according to the peer reviews of that person.'}"
   ]
  },
  {
   "cell_type": "code",
   "execution_count": 19,
   "id": "f21ec332",
   "metadata": {},
   "outputs": [],
   "source": [
    "test_input1 = {'role': 'user',\n",
    "   'content': \"Following are the peer reviews for this person: Peer evaluation1: Listened attentively to others, summarizing points effectively and offering supportive comments. Peer evaluation2: Regularly encouraged quieter members to speak and acknowledged all contributions positively. Peer evaluation3: Consistently acknowledged and built upon others' contributions, fostering a collaborative atmosphere. Peer evaluation4: Reconciling role, bridging gaps between differing opinions and maintaining a harmonious discussion environment. Peer evaluation5: Fostered a supportive environment, ensuring that all voices were heard and valued, which enriched the group's collective output. Peer evaluation6: Nurturing role, ensuring that each member felt valued and engaged. Peer evaluation7: Improvement could be made by occasionally challenging ideas to deepen the group's understanding and discussion depth. Peer evaluation8: Greater involvement in the substance of the discussion, rather than just facilitation, could offer more depth to their contributions. Peer evaluation9: Could improve by more actively contributing original ideas and perspectives to the discussion.\"}\n"
   ]
  },
  {
   "cell_type": "code",
   "execution_count": 21,
   "id": "66e27a21",
   "metadata": {},
   "outputs": [
    {
     "data": {
      "text/plain": [
       "ChatCompletion(id='chatcmpl-8VdztYjl5F6eq8ZmFg9C4gSsfu6it', choices=[Choice(finish_reason='stop', index=0, message=ChatCompletionMessage(content='Leadership score 0: Many peers highly evaluated leaderhsip, but some peers suggested improvements. Critical Thinking Score 2: Some peers suggeted that critical thinking score can be improved. Empathy score 9: Peers highly evaluated his high empathyc scoring. ', role='assistant', function_call=None, tool_calls=None))], created=1702552609, model='ft:gpt-3.5-turbo-0613:personal::8VdEkM69', object='chat.completion', system_fingerprint=None, usage=CompletionUsage(completion_tokens=56, prompt_tokens=245, total_tokens=301))"
      ]
     },
     "execution_count": 21,
     "metadata": {},
     "output_type": "execute_result"
    }
   ],
   "source": [
    "client = OpenAI(api_key=\"\")\n",
    "\n",
    "response = client.chat.completions.create(\n",
    "  model=\"ft:gpt-3.5-turbo-0613:personal::8VdEkM69\",\n",
    "  messages=[\n",
    "    instruction,\n",
    "    test_input1\n",
    "  ]\n",
    ")\n",
    "response"
   ]
  },
  {
   "cell_type": "code",
   "execution_count": 27,
   "id": "0d939feb",
   "metadata": {},
   "outputs": [
    {
     "data": {
      "text/plain": [
       "{'messages': [{'role': 'system',\n",
       "   'content': 'You are group of human resource management professionals. You quantify leadership, critical thinking skills, and empathy of a person with reasons according to the peer reviews of that person.'},\n",
       "  {'role': 'user',\n",
       "   'content': \"Following are the peer reviews for this person: Peer evaluation1: she attentively listened to others, offering constructive feedback and summarizing points to clarify understanding. Peer evaluation2: she regularly encouraged others, acknowledging their contributions and helping to maintain a positive atmosphere. Peer evaluation3: she consistently provided thoughtful feedback and was attentive to the emotional tone of the group. Peer evaluation4: she played the role of a mediator, bridging gaps in communication and fostering a collaborative environment. Their approach maintained a positive and productive atmosphere. Peer evaluation5: As a supportive collaborator, she played a vital role in maintaining group morale and ensuring a harmonious discussion environment. Peer evaluation6: her empathetic presence brought a sense of balance and consideration for others' feelings, which was crucial in maintaining a positive group dynamic. Peer evaluation7: Greater participation in initiating discussion points could enhance her contribution to the group dynamics. Peer evaluation8: she could contribute more of their own ideas to the discussion, adding depth to their supportive role. Peer evaluation9: Being more assertive in sharing their own perspectives could further enhance her role in the group.\"},\n",
       "  {'role': 'assistant',\n",
       "   'content': 'Leadership score 4: Although peers higly evaluated her supportive attitude, her role was limited to mediator rather than a leader. Critical thinking score 2: Peers suggested her to imrove on sharing her own innovative point of view to deepen the discussion more. Empathy score 10: Peers higly evaluated her skills to bring everybody together and understanding others. She also created a collaborative environment which is vital for productive discussion. '}]}"
      ]
     },
     "execution_count": 27,
     "metadata": {},
     "output_type": "execute_result"
    }
   ],
   "source": [
    "Test_data[1]"
   ]
  },
  {
   "cell_type": "code",
   "execution_count": 28,
   "id": "136e1dca",
   "metadata": {},
   "outputs": [],
   "source": [
    "test_input2 = {'role': 'user',\n",
    "   'content': \"Following are the peer reviews for this person: Peer evaluation1: she attentively listened to others, offering constructive feedback and summarizing points to clarify understanding. Peer evaluation2: she regularly encouraged others, acknowledging their contributions and helping to maintain a positive atmosphere. Peer evaluation3: she consistently provided thoughtful feedback and was attentive to the emotional tone of the group. Peer evaluation4: she played the role of a mediator, bridging gaps in communication and fostering a collaborative environment. Their approach maintained a positive and productive atmosphere. Peer evaluation5: As a supportive collaborator, she played a vital role in maintaining group morale and ensuring a harmonious discussion environment. Peer evaluation6: her empathetic presence brought a sense of balance and consideration for others' feelings, which was crucial in maintaining a positive group dynamic. Peer evaluation7: Greater participation in initiating discussion points could enhance her contribution to the group dynamics. Peer evaluation8: she could contribute more of their own ideas to the discussion, adding depth to their supportive role. Peer evaluation9: Being more assertive in sharing their own perspectives could further enhance her role in the group.\"}"
   ]
  },
  {
   "cell_type": "code",
   "execution_count": 29,
   "id": "5f53663c",
   "metadata": {},
   "outputs": [
    {
     "data": {
      "text/plain": [
       "ChatCompletion(id='chatcmpl-8Ve6Tp2MqUEGJseuircVcDyT3z0cs', choices=[Choice(finish_reason='stop', index=0, message=ChatCompletionMessage(content=\"Leadership score 2: While she played an important role in supporting and maintaining the group's positive dynamic, her participation in initiating discussion points was limited. Critical thinking score 3: Peers suggested that she could share more of her own ideas. Empathy score 10: Peers highly evaluated her ability to attentively listen and be considerate of others' feelings, which played a crucial role in maintaining the positive group dynamic.\", role='assistant', function_call=None, tool_calls=None))], created=1702553017, model='ft:gpt-3.5-turbo-0613:personal::8VdEkM69', object='chat.completion', system_fingerprint=None, usage=CompletionUsage(completion_tokens=87, prompt_tokens=268, total_tokens=355))"
      ]
     },
     "execution_count": 29,
     "metadata": {},
     "output_type": "execute_result"
    }
   ],
   "source": [
    "client = OpenAI(api_key=\"\")\n",
    "\n",
    "response2 = client.chat.completions.create(\n",
    "  model=\"ft:gpt-3.5-turbo-0613:personal::8VdEkM69\",\n",
    "  messages=[\n",
    "    instruction,\n",
    "    test_input2\n",
    "  ]\n",
    ")\n",
    "response2"
   ]
  },
  {
   "cell_type": "code",
   "execution_count": 30,
   "id": "92a5ab8f",
   "metadata": {},
   "outputs": [
    {
     "data": {
      "text/plain": [
       "{'messages': [{'role': 'system',\n",
       "   'content': 'You are group of human resource management professionals. You quantify leadership, critical thinking skills, and empathy of a person with reasons according to the peer reviews of that person.'},\n",
       "  {'role': 'user',\n",
       "   'content': \"Following are the peer reviews for this person: Peer evaluation1: He mostly remained silent, but offered well-thought out answers to the questions when the discussion came to him. Peer evaulation2: He demonstrated keen listening skills and provided insightful responses when prompted. His thoughtful contributions showcased depth of understanding. Peer evaluation3: He conveyed a strong grasp of the topic. His well-considered responses indicated a reflective approach, contributing positively to the discussion's overall quality. Peer evaluation4: He played the role of a reserved, yet thoughtful contributor. His well-articulated answers enriched the discussion, offering valuable insights that deepened our understanding of the topic. Peer evaluation5: Operating as a reflective participant, he contributed a calm and insightful presence. His measured responses fostered a more focused and contemplative atmosphere. Peer evaluation6: He took the role of a contemplative listener, His approach encouraged a more measured and considerate tone in the discussion, enhancing the overall group interaction. Peer evaluation7: To enhance participation, he could proactively share insights rather than relying on being prompted. Peer evaluation8: Initiating discussion points would strengthen his role as a reflective participant, fostering a more dynamic and interactive group environment. Peer evaluation9: While showcasing a strong grasp of the topic, he could share more original opinions rather than simply expanding on the comments of other people.\"},\n",
       "  {'role': 'assistant',\n",
       "   'content': \"Leadership Score 2: While responding well to other's prompts, in most cases, he only answered when he specifically was asked to contribute. He did not initiate organizing or starting a discussion. Critical Thinking Score 7: Evaluators rated his ability to grasp the concepts and provide meaningful additions to the discussion; his listening skill allowed him to provide deep insights and expand on the topic. Empathy Score 2: While able to grasp the tone of the questions asked of him, he did not attempt to actively incorporate and engage others in the discussion.\"}]}"
      ]
     },
     "execution_count": 30,
     "metadata": {},
     "output_type": "execute_result"
    }
   ],
   "source": [
    "Test_data[2]"
   ]
  },
  {
   "cell_type": "code",
   "execution_count": 31,
   "id": "156da1bb",
   "metadata": {},
   "outputs": [],
   "source": [
    "test_input3 = {'role': 'user',\n",
    "   'content': \"Following are the peer reviews for this person: Peer evaluation1: He mostly remained silent, but offered well-thought out answers to the questions when the discussion came to him. Peer evaulation2: He demonstrated keen listening skills and provided insightful responses when prompted. His thoughtful contributions showcased depth of understanding. Peer evaluation3: He conveyed a strong grasp of the topic. His well-considered responses indicated a reflective approach, contributing positively to the discussion's overall quality. Peer evaluation4: He played the role of a reserved, yet thoughtful contributor. His well-articulated answers enriched the discussion, offering valuable insights that deepened our understanding of the topic. Peer evaluation5: Operating as a reflective participant, he contributed a calm and insightful presence. His measured responses fostered a more focused and contemplative atmosphere. Peer evaluation6: He took the role of a contemplative listener, His approach encouraged a more measured and considerate tone in the discussion, enhancing the overall group interaction. Peer evaluation7: To enhance participation, he could proactively share insights rather than relying on being prompted. Peer evaluation8: Initiating discussion points would strengthen his role as a reflective participant, fostering a more dynamic and interactive group environment. Peer evaluation9: While showcasing a strong grasp of the topic, he could share more original opinions rather than simply expanding on the comments of other people.\"}\n"
   ]
  },
  {
   "cell_type": "code",
   "execution_count": 32,
   "id": "cb84a90e",
   "metadata": {},
   "outputs": [
    {
     "data": {
      "text/plain": [
       "ChatCompletion(id='chatcmpl-8VeqTwftm67bIEXWI9sAbpdEzPgJB', choices=[Choice(finish_reason='stop', index=0, message=ChatCompletionMessage(content=\"Leadership score 2:  Peers highly evaluated his initiavted discussion and dynamic approach, however, some peers suggested he should proactivley share opinions without being prompted. Critical thinking score 8: Peers highly evalutaed his ability to expand opinions, while empathys score 6: Peers, while recognizing his high ability to listen to other people opinion, also pointed out he didn't actively shared  his own opinion. \", role='assistant', function_call=None, tool_calls=None))], created=1702555869, model='ft:gpt-3.5-turbo-0613:personal::8VdEkM69', object='chat.completion', system_fingerprint=None, usage=CompletionUsage(completion_tokens=90, prompt_tokens=318, total_tokens=408))"
      ]
     },
     "execution_count": 32,
     "metadata": {},
     "output_type": "execute_result"
    }
   ],
   "source": [
    "client = OpenAI(api_key=\"\")\n",
    "\n",
    "response3 = client.chat.completions.create(\n",
    "  model=\"ft:gpt-3.5-turbo-0613:personal::8VdEkM69\",\n",
    "  messages=[\n",
    "    instruction,\n",
    "    test_input3\n",
    "  ]\n",
    ")\n",
    "response3"
   ]
  },
  {
   "cell_type": "code",
   "execution_count": 33,
   "id": "d3cc225d",
   "metadata": {},
   "outputs": [
    {
     "data": {
      "text/plain": [
       "{'messages': [{'role': 'system',\n",
       "   'content': 'You are group of human resource management professionals. You quantify leadership, critical thinking skills, and empathy of a person with reasons according to the peer reviews of that person.'},\n",
       "  {'role': 'user',\n",
       "   'content': \"Following are the peer reviews for this person: Peer evaluation1: she contributed evenly, balancing speaking and listening. She often acknowledged others' points. Peer evaluation2: she spoke up regularly, offering constructive feedback and support to others' ideas. Peer evaluation3: she was active but not overbearing, often providing positive reinforcement to ideas. Peer evaluation4: she was a mediator, maintaining a balanced and inclusive atmosphere. Peer evaluation5: Her role was that of a supporter, reinforcing and building upon others' contributions. Peer evaluation6: She acted as an encourager, boosting the group's morale and fostering collaboration. Peer evaluation7: Could be more assertive in putting forward her ideas. Peer evaluation8: Might try taking the lead in discussions more often. Peer evaluation9: Could occasionally challenge ideas to provoke deeper thinking.\"},\n",
       "  {'role': 'assistant',\n",
       "   'content': \"Leadership score 4: Peers evaluated her as balanced supporter rather than as a leader. Critical thinking score 3: Some peers pointed out that she should sometimes challenge others' idea, not only supporting them. Empathy score 9: Peers higly evaluated her balanced contribution to create collaborative atmosphere, facilitating inclusive discussion. \"}]}"
      ]
     },
     "execution_count": 33,
     "metadata": {},
     "output_type": "execute_result"
    }
   ],
   "source": [
    "Test_data[3]"
   ]
  },
  {
   "cell_type": "code",
   "execution_count": 34,
   "id": "2c719415",
   "metadata": {},
   "outputs": [],
   "source": [
    "test_input4 = {'role': 'user',\n",
    "   'content': \"Following are the peer reviews for this person: Peer evaluation1: she contributed evenly, balancing speaking and listening. She often acknowledged others' points. Peer evaluation2: she spoke up regularly, offering constructive feedback and support to others' ideas. Peer evaluation3: she was active but not overbearing, often providing positive reinforcement to ideas. Peer evaluation4: she was a mediator, maintaining a balanced and inclusive atmosphere. Peer evaluation5: Her role was that of a supporter, reinforcing and building upon others' contributions. Peer evaluation6: She acted as an encourager, boosting the group's morale and fostering collaboration. Peer evaluation7: Could be more assertive in putting forward her ideas. Peer evaluation8: Might try taking the lead in discussions more often. Peer evaluation9: Could occasionally challenge ideas to provoke deeper thinking.\"}\n"
   ]
  },
  {
   "cell_type": "code",
   "execution_count": 35,
   "id": "c7ca2532",
   "metadata": {},
   "outputs": [
    {
     "data": {
      "text/plain": [
       "ChatCompletion(id='chatcmpl-8Ves4nPvwtzKs1NliXjREUNgZWmZC', choices=[Choice(finish_reason='stop', index=0, message=ChatCompletionMessage(content=\"Leadership score 2: Although some peers highly evaluated her contributions, some peers pointed out that she could take more initiative in putting forward her ideas. Critical thinking score 5: She did not actively challenge ideas, but she also did not hinder critical discusion. Empathy score 8: Her empathy skills were high, as she often reinforced and acknowledged others' contributions.\", role='assistant', function_call=None, tool_calls=None))], created=1702555968, model='ft:gpt-3.5-turbo-0613:personal::8VdEkM69', object='chat.completion', system_fingerprint=None, usage=CompletionUsage(completion_tokens=75, prompt_tokens=209, total_tokens=284))"
      ]
     },
     "execution_count": 35,
     "metadata": {},
     "output_type": "execute_result"
    }
   ],
   "source": [
    "client = OpenAI(api_key=\"\")\n",
    "\n",
    "response4 = client.chat.completions.create(\n",
    "  model=\"ft:gpt-3.5-turbo-0613:personal::8VdEkM69\",\n",
    "  messages=[\n",
    "    instruction,\n",
    "    test_input4\n",
    "  ]\n",
    ")\n",
    "response4"
   ]
  },
  {
   "cell_type": "code",
   "execution_count": 36,
   "id": "8ba369dd",
   "metadata": {},
   "outputs": [
    {
     "data": {
      "text/plain": [
       "{'messages': [{'role': 'system',\n",
       "   'content': 'You are group of human resource management professionals. You quantify leadership, critical thinking skills, and empathy of a person with reasons according to the peer reviews of that person.'},\n",
       "  {'role': 'user',\n",
       "   'content': \"Following are the peer reviews for this person: Peer evaluation1: he dominated the conversation, sharing many ideas and opinions, sometimes interrupting others. Peer evaluation2: he was very vocal, offering numerous suggestions and often steering the conversation. Peer evaluation3: he spoke the most, presenting many ideas, but sometimes at the expense of others' participation. Peer evaluation4: As the main speaker, he drove much of the conversation, sparking debate and discussion. Peer evaluation5: Acted as a leader, guiding the direction of the discussion. Peer evaluation6: He was the primary initiator of topics, which kept the conversation lively. Peer evaluation7: Needs to work on listening more and allowing others to contribute equally. Peer evaluation8: Could benefit from being more inclusive and encouraging others to speak. Peer evaluation9: Should focus on balancing his contributions with active listening.\"},\n",
       "  {'role': 'assistant',\n",
       "   'content': \"Leadership score 7: Some peers highly evaluated his contribution as a leader, while some peeers pointed out that he is overdoing it. Critical thinking score 5: Peers did not point out any problems in his ability to provide innovative perspective and deepen the discussion, but there may be a place for improvement. Empathy score 1: Peers suggetsted that he should work on considering about others' contribution more. \"}]}"
      ]
     },
     "execution_count": 36,
     "metadata": {},
     "output_type": "execute_result"
    }
   ],
   "source": [
    "Test_data[4]"
   ]
  },
  {
   "cell_type": "code",
   "execution_count": 38,
   "id": "4edef57c",
   "metadata": {},
   "outputs": [],
   "source": [
    "test_input5 = {'role': 'user',\n",
    "   'content': \"Following are the peer reviews for this person: Peer evaluation1: he dominated the conversation, sharing many ideas and opinions, sometimes interrupting others. Peer evaluation2: he was very vocal, offering numerous suggestions and often steering the conversation. Peer evaluation3: he spoke the most, presenting many ideas, but sometimes at the expense of others' participation. Peer evaluation4: As the main speaker, he drove much of the conversation, sparking debate and discussion. Peer evaluation5: Acted as a leader, guiding the direction of the discussion. Peer evaluation6: He was the primary initiator of topics, which kept the conversation lively. Peer evaluation7: Needs to work on listening more and allowing others to contribute equally. Peer evaluation8: Could benefit from being more inclusive and encouraging others to speak. Peer evaluation9: Should focus on balancing his contributions with active listening.\"}\n"
   ]
  },
  {
   "cell_type": "code",
   "execution_count": 39,
   "id": "da5fd2cc",
   "metadata": {},
   "outputs": [
    {
     "data": {
      "text/plain": [
       "ChatCompletion(id='chatcmpl-8VetWKKluNPfOaR6Dz2vEJo42qOg7', choices=[Choice(finish_reason='stop', index=0, message=ChatCompletionMessage(content='Leadership score 10: Peers highly evaluated his motivation to lead the discussion. Critical thinking score 5: Some peers evaluated his ability to present ideas, but peers also pointed out he should listen more to others. Empahty score 2: Peers did not evaluate his ability to encourage others to speak.', role='assistant', function_call=None, tool_calls=None))], created=1702556058, model='ft:gpt-3.5-turbo-0613:personal::8VdEkM69', object='chat.completion', system_fingerprint=None, usage=CompletionUsage(completion_tokens=65, prompt_tokens=217, total_tokens=282))"
      ]
     },
     "execution_count": 39,
     "metadata": {},
     "output_type": "execute_result"
    }
   ],
   "source": [
    "client = OpenAI(api_key=\"\")\n",
    "\n",
    "response5 = client.chat.completions.create(\n",
    "  model=\"ft:gpt-3.5-turbo-0613:personal::8VdEkM69\",\n",
    "  messages=[\n",
    "    instruction,\n",
    "    test_input5\n",
    "  ]\n",
    ")\n",
    "response5"
   ]
  },
  {
   "cell_type": "code",
   "execution_count": null,
   "id": "4b74d373",
   "metadata": {},
   "outputs": [],
   "source": []
  }
 ],
 "metadata": {
  "kernelspec": {
   "display_name": "Python 3 (ipykernel)",
   "language": "python",
   "name": "python3"
  },
  "language_info": {
   "codemirror_mode": {
    "name": "ipython",
    "version": 3
   },
   "file_extension": ".py",
   "mimetype": "text/x-python",
   "name": "python",
   "nbconvert_exporter": "python",
   "pygments_lexer": "ipython3",
   "version": "3.9.16"
  }
 },
 "nbformat": 4,
 "nbformat_minor": 5
}
