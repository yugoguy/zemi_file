{
 "cells": [
  {
   "cell_type": "code",
   "execution_count": 7,
   "id": "c611cf69",
   "metadata": {},
   "outputs": [],
   "source": [
    "import pandas as pd\n",
    "import json\n",
    "from openai import OpenAI"
   ]
  },
  {
   "cell_type": "code",
   "execution_count": 3,
   "id": "0bdb31fe",
   "metadata": {},
   "outputs": [
    {
     "data": {
      "text/html": [
       "<div>\n",
       "<style scoped>\n",
       "    .dataframe tbody tr th:only-of-type {\n",
       "        vertical-align: middle;\n",
       "    }\n",
       "\n",
       "    .dataframe tbody tr th {\n",
       "        vertical-align: top;\n",
       "    }\n",
       "\n",
       "    .dataframe thead th {\n",
       "        text-align: right;\n",
       "    }\n",
       "</style>\n",
       "<table border=\"1\" class=\"dataframe\">\n",
       "  <thead>\n",
       "    <tr style=\"text-align: right;\">\n",
       "      <th></th>\n",
       "      <th>describe what this person did during the discussion without your opinion (~50 words)</th>\n",
       "      <th>what kind of role did this person play in the discussion, and how did it help the discussion group? (~50 words)</th>\n",
       "      <th>how can this person improve? (~50 words)</th>\n",
       "      <th>hand made sample output (Leadership, critical thinking, empathy)</th>\n",
       "    </tr>\n",
       "  </thead>\n",
       "  <tbody>\n",
       "    <tr>\n",
       "      <th>0</th>\n",
       "      <td>Peer evaluation1: Frequently summarized discus...</td>\n",
       "      <td>Peer evaluation4: Mediator, maintaining focus ...</td>\n",
       "      <td>Peer evaluation7: Further enhance the discussi...</td>\n",
       "      <td>Leadership score 8: Peers highly evaluated his...</td>\n",
       "    </tr>\n",
       "    <tr>\n",
       "      <th>1</th>\n",
       "      <td>Peer evaluation1: Consistently introduced new ...</td>\n",
       "      <td>Peer evaluation4: Initiative in directing the ...</td>\n",
       "      <td>Peer evaluation7: Could benefit from allowing ...</td>\n",
       "      <td>Leadership score 6: Peers highly evaluated his...</td>\n",
       "    </tr>\n",
       "    <tr>\n",
       "      <th>2</th>\n",
       "      <td>Peer evaluation1: Listened attentively to othe...</td>\n",
       "      <td>Peer evaluation4: Reconciling role, bridging g...</td>\n",
       "      <td>Peer evaluation7: Improvement could be made by...</td>\n",
       "      <td>Leadership score 4: Peers highly evaluated her...</td>\n",
       "    </tr>\n",
       "    <tr>\n",
       "      <th>3</th>\n",
       "      <td>Peer evaluation1: Offered insightful feedback ...</td>\n",
       "      <td>Peer evaluation4: Thoughtful contributor, enri...</td>\n",
       "      <td>Peer evaluation7: Enhancing her ability to con...</td>\n",
       "      <td>Leadership score 4: Although she actively enga...</td>\n",
       "    </tr>\n",
       "  </tbody>\n",
       "</table>\n",
       "</div>"
      ],
      "text/plain": [
       "  describe what this person did during the discussion without your opinion (~50 words)  \\\n",
       "0  Peer evaluation1: Frequently summarized discus...                                     \n",
       "1  Peer evaluation1: Consistently introduced new ...                                     \n",
       "2  Peer evaluation1: Listened attentively to othe...                                     \n",
       "3  Peer evaluation1: Offered insightful feedback ...                                     \n",
       "\n",
       "  what kind of role did this person play in the discussion, and how did it help the discussion group? (~50 words)  \\\n",
       "0  Peer evaluation4: Mediator, maintaining focus ...                                                                \n",
       "1  Peer evaluation4: Initiative in directing the ...                                                                \n",
       "2  Peer evaluation4: Reconciling role, bridging g...                                                                \n",
       "3  Peer evaluation4: Thoughtful contributor, enri...                                                                \n",
       "\n",
       "            how can this person improve? (~50 words)  \\\n",
       "0  Peer evaluation7: Further enhance the discussi...   \n",
       "1  Peer evaluation7: Could benefit from allowing ...   \n",
       "2  Peer evaluation7: Improvement could be made by...   \n",
       "3  Peer evaluation7: Enhancing her ability to con...   \n",
       "\n",
       "  hand made sample output (Leadership, critical thinking, empathy)  \n",
       "0  Leadership score 8: Peers highly evaluated his...                \n",
       "1  Leadership score 6: Peers highly evaluated his...                \n",
       "2  Leadership score 4: Peers highly evaluated her...                \n",
       "3  Leadership score 4: Although she actively enga...                "
      ]
     },
     "execution_count": 3,
     "metadata": {},
     "output_type": "execute_result"
    }
   ],
   "source": [
    "raw = pd.read_csv(\"GPTtrainingdata_test1.csv\", header=0)\n",
    "raw"
   ]
  },
  {
   "cell_type": "code",
   "execution_count": 4,
   "id": "861a50d7",
   "metadata": {},
   "outputs": [
    {
     "data": {
      "text/html": [
       "<div>\n",
       "<style scoped>\n",
       "    .dataframe tbody tr th:only-of-type {\n",
       "        vertical-align: middle;\n",
       "    }\n",
       "\n",
       "    .dataframe tbody tr th {\n",
       "        vertical-align: top;\n",
       "    }\n",
       "\n",
       "    .dataframe thead th {\n",
       "        text-align: right;\n",
       "    }\n",
       "</style>\n",
       "<table border=\"1\" class=\"dataframe\">\n",
       "  <thead>\n",
       "    <tr style=\"text-align: right;\">\n",
       "      <th></th>\n",
       "      <th>peer123</th>\n",
       "      <th>peer456</th>\n",
       "      <th>peer789</th>\n",
       "      <th>sample_output</th>\n",
       "    </tr>\n",
       "  </thead>\n",
       "  <tbody>\n",
       "    <tr>\n",
       "      <th>0</th>\n",
       "      <td>Peer evaluation1: Frequently summarized discus...</td>\n",
       "      <td>Peer evaluation4: Mediator, maintaining focus ...</td>\n",
       "      <td>Peer evaluation7: Further enhance the discussi...</td>\n",
       "      <td>Leadership score 8: Peers highly evaluated his...</td>\n",
       "    </tr>\n",
       "    <tr>\n",
       "      <th>1</th>\n",
       "      <td>Peer evaluation1: Consistently introduced new ...</td>\n",
       "      <td>Peer evaluation4: Initiative in directing the ...</td>\n",
       "      <td>Peer evaluation7: Could benefit from allowing ...</td>\n",
       "      <td>Leadership score 6: Peers highly evaluated his...</td>\n",
       "    </tr>\n",
       "    <tr>\n",
       "      <th>2</th>\n",
       "      <td>Peer evaluation1: Listened attentively to othe...</td>\n",
       "      <td>Peer evaluation4: Reconciling role, bridging g...</td>\n",
       "      <td>Peer evaluation7: Improvement could be made by...</td>\n",
       "      <td>Leadership score 4: Peers highly evaluated her...</td>\n",
       "    </tr>\n",
       "    <tr>\n",
       "      <th>3</th>\n",
       "      <td>Peer evaluation1: Offered insightful feedback ...</td>\n",
       "      <td>Peer evaluation4: Thoughtful contributor, enri...</td>\n",
       "      <td>Peer evaluation7: Enhancing her ability to con...</td>\n",
       "      <td>Leadership score 4: Although she actively enga...</td>\n",
       "    </tr>\n",
       "  </tbody>\n",
       "</table>\n",
       "</div>"
      ],
      "text/plain": [
       "                                             peer123  \\\n",
       "0  Peer evaluation1: Frequently summarized discus...   \n",
       "1  Peer evaluation1: Consistently introduced new ...   \n",
       "2  Peer evaluation1: Listened attentively to othe...   \n",
       "3  Peer evaluation1: Offered insightful feedback ...   \n",
       "\n",
       "                                             peer456  \\\n",
       "0  Peer evaluation4: Mediator, maintaining focus ...   \n",
       "1  Peer evaluation4: Initiative in directing the ...   \n",
       "2  Peer evaluation4: Reconciling role, bridging g...   \n",
       "3  Peer evaluation4: Thoughtful contributor, enri...   \n",
       "\n",
       "                                             peer789  \\\n",
       "0  Peer evaluation7: Further enhance the discussi...   \n",
       "1  Peer evaluation7: Could benefit from allowing ...   \n",
       "2  Peer evaluation7: Improvement could be made by...   \n",
       "3  Peer evaluation7: Enhancing her ability to con...   \n",
       "\n",
       "                                       sample_output  \n",
       "0  Leadership score 8: Peers highly evaluated his...  \n",
       "1  Leadership score 6: Peers highly evaluated his...  \n",
       "2  Leadership score 4: Peers highly evaluated her...  \n",
       "3  Leadership score 4: Although she actively enga...  "
      ]
     },
     "execution_count": 4,
     "metadata": {},
     "output_type": "execute_result"
    }
   ],
   "source": [
    "raw.columns = [\"peer123\", \"peer456\", \"peer789\", \"sample_output\"]\n",
    "raw\n"
   ]
  },
  {
   "cell_type": "code",
   "execution_count": 5,
   "id": "ed9f2eca",
   "metadata": {},
   "outputs": [
    {
     "data": {
      "text/plain": [
       "[{'messages': [{'role': 'system',\n",
       "    'content': 'You are group of human resource management professionals. You quantify leadership, critical thinking skills, and empathy of a person with reasons according to the peer reviews of that person.'},\n",
       "   {'role': 'user',\n",
       "    'content': 'Following are the peer reviews for this person: Peer evaluation1: Frequently summarized discussion points and asked clarifying questions, ensuring understanding. Peer evaluation2: Consistently provided structure to the discussion through effective organization of thoughts and ideas. Peer evaluation3: Excelled in maintaining order and ensuring thorough discussion of each point. Peer evaluation4: Mediator, maintaining focus and coherence, especially when the discussion veered off-topic. Peer evaluation5: Instrumental in guiding the flow of conversation and ensuring that key points were addressed and understood. Peer evaluation6: Organizational skills were key in keeping the discussion coherent and productive. Peer evaluation7: Further enhance the discussion by occasionally introducing innovative perspectives or challenging the status quo. Peer evaluation8: An area for improvement could be to integrate more innovative thinking to stimulate creative discussions. Peer evaluation9: Could improve by incorporating more spontaneity and flexibility in handling diverse opinions.\\n'},\n",
       "   {'role': 'assistant',\n",
       "    'content': 'Leadership score 8: Peers highly evaluated his motivation to summarize & keeping the conversation focused on the topic. Critical thinking score 4: Some peers suggested he should improve his ability to give innovative perspective. Empathy score 6: Effectively organizing the discussion needs high empathetic ability, and he sucessfully organized the discussion.'}]},\n",
       " {'messages': [{'role': 'system',\n",
       "    'content': 'You are group of human resource management professionals. You quantify leadership, critical thinking skills, and empathy of a person with reasons according to the peer reviews of that person.'},\n",
       "   {'role': 'user',\n",
       "    'content': \"Following are the peer reviews for this person: Peer evaluation1: Consistently introduced new ideas and asked probing questions, often guiding the conversation towards deeper analysis. Peer evaluation2: Often took the lead in exploring uncharted areas of the topic, adding depth to the conversation. Peer evaluation3: Quick to identify logical inconsistencies and suggest alternative viewpoints. Peer evaluation4: Initiative in directing the discussion, exploring diverse viewpoints and keeping the conversation on track. Peer evaluation5: Proactive approach in steering the discussion helped in uncovering new angles and perspectives. Peer evaluation6: Provided a challenging but constructive voice, pushing the group towards more robust conclusions. Peer evaluation7: Could benefit from allowing more time for others to reflect and respond, ensuring a balanced contribution from all members. Peer evaluation8: He could enhance their contribution by showing more patience and allowing ideas to develop more organically. Peer evaluation9: Cultivating a more inclusive approach that acknowledges and builds on others' ideas could strengthen their impact.\"},\n",
       "   {'role': 'assistant',\n",
       "    'content': \"Leadership score 6: Peers highly evaluated his motivation to take initiatives in the discussion, while some peers suggested he should improve patience and ability to balance contribution by other members. Critical thinking score 8: Peers highly evalutated his ability to give innovative and diverse perspective to the discusion. Empathy score 3: Although he was higly motivated to take initiative and develop the discussion, peers pointed out that he can improve on inclusion of other's ideas.\"}]},\n",
       " {'messages': [{'role': 'system',\n",
       "    'content': 'You are group of human resource management professionals. You quantify leadership, critical thinking skills, and empathy of a person with reasons according to the peer reviews of that person.'},\n",
       "   {'role': 'user',\n",
       "    'content': \"Following are the peer reviews for this person: Peer evaluation1: Listened attentively to others, summarizing points effectively and offering supportive comments. Peer evaluation2: Regularly encouraged quieter members to speak and acknowledged all contributions positively. Peer evaluation3: Consistently acknowledged and built upon others' contributions, fostering a collaborative atmosphere. Peer evaluation4: Reconciling role, bridging gaps between differing opinions and maintaining a harmonious discussion environment. Peer evaluation5: Fostered a supportive environment, ensuring that all voices were heard and valued, which enriched the group's collective output. Peer evaluation6: Nurturing role, ensuring that each member felt valued and engaged. Peer evaluation7: Improvement could be made by occasionally challenging ideas to deepen the group's understanding and discussion depth. Peer evaluation8: Greater involvement in the substance of the discussion, rather than just facilitation, could offer more depth to their contributions. Peer evaluation9: Could improve by more actively contributing original ideas and perspectives to the discussion.\"},\n",
       "   {'role': 'assistant',\n",
       "    'content': \"Leadership score 4: Peers highly evaluated her ability to facilitate the discussion, but suggested her to improve on actively joining the discussion. Critical thinking score 3: Peers suggested her to improve on challenging other's ideas, not only facilitating the discussion. Empathy score 9: Peers higly evaluated her ability to keep everyone engaged by creating an supportive atmosphere.\"}]},\n",
       " {'messages': [{'role': 'system',\n",
       "    'content': 'You are group of human resource management professionals. You quantify leadership, critical thinking skills, and empathy of a person with reasons according to the peer reviews of that person.'},\n",
       "   {'role': 'user',\n",
       "    'content': \"Following are the peer reviews for this person: Peer evaluation1: Offered insightful feedback on ideas presented and shared several relevant personal experiences. Peer evaluation2: Highlighted potential flaws in arguments and proposed alternative solutions. Peer evaluation3: Adept at connecting discussion points to broader contexts, providing a wider perspective. Peer evaluation4: Thoughtful contributor, enriching the discussion with practical perspectives and real-world examples. Peer evaluation5: Critical role in ensuring thoroughness and rigor in the group's thought process. Peer evaluation6: Brought a strategic viewpoint, helping the group to see beyond immediate topics and consider long-term implications. Peer evaluation7: Enhancing her ability to connect other's contributions more directly to the discussion topic would further increase their effectiveness. Peer evaluation8: Balancing their analytical approach with recognition of others' emotional responses would enhance group dynamics. Peer evaluation9: Focusing more on the immediate discussion topics and details would complement their broader approach.\"},\n",
       "   {'role': 'assistant',\n",
       "    'content': \"Leadership score 4: Although she actively engaged in the discussion, she did not necessarily take initaitives in organizing the discussion. Critical thinking score 9: Peers higly evaluated her ability to actively provide well-considered & critical perspectives. Empathy score 3: Peers suggeted she should improve on incorporating other's emotional opinions and valuing other's contributions more.\"}]}]"
      ]
     },
     "execution_count": 5,
     "metadata": {},
     "output_type": "execute_result"
    }
   ],
   "source": [
    "jsonl_format = []\n",
    "for i in raw.index:\n",
    "    input_ = raw.iloc[i][\"peer123\"] +' '+ raw.iloc[i][\"peer456\"] +' '+ raw.iloc[i][\"peer789\"]\n",
    "    output = raw.iloc[i][\"sample_output\"]\n",
    "    jsonl_format.append({\"messages\": [{\"role\": \"system\", \"content\": \"You are group of human resource management professionals. You quantify leadership, critical thinking skills, and empathy of a person with reasons according to the peer reviews of that person.\"}, {\"role\": \"user\", \"content\": \"Following are the peer reviews for this person: \" + f\"{input_}\"}, {\"role\": \"assistant\", \"content\": f\"{output}\"}]})\n",
    "\n",
    "jsonl_format\n",
    "    "
   ]
  },
  {
   "cell_type": "code",
   "execution_count": 13,
   "id": "dc9e1d99",
   "metadata": {},
   "outputs": [],
   "source": [
    "with open('TrainData_GenerationTest1.jsonl', 'w') as f:\n",
    "    for i in range(len(jsonl_format)):\n",
    "        f.writelines(json.dumps(jsonl_format[i]))\n",
    "        f.write(\"\\n\")"
   ]
  },
  {
   "cell_type": "code",
   "execution_count": 10,
   "id": "40585aef",
   "metadata": {},
   "outputs": [
    {
     "data": {
      "text/plain": [
       "FileObject(id='file-ou7BW04EmGQpKJv8pSDlZ9np', bytes=7406, created_at=1702476817, filename='TrainData_GenerationTest1.jsonl', object='file', purpose='fine-tune', status='processed', status_details=None)"
      ]
     },
     "execution_count": 10,
     "metadata": {},
     "output_type": "execute_result"
    }
   ],
   "source": [
    "client = OpenAI(api_key=\"\")\n",
    "\n",
    "client.files.create(\n",
    "    file=open(\"TrainData_GenerationTest1.jsonl\", \"rb\"),\n",
    "    purpose=\"fine-tune\",\n",
    ")"
   ]
  },
  {
   "cell_type": "code",
   "execution_count": null,
   "id": "3884bc70",
   "metadata": {},
   "outputs": [],
   "source": []
  }
 ],
 "metadata": {
  "kernelspec": {
   "display_name": "Python 3 (ipykernel)",
   "language": "python",
   "name": "python3"
  },
  "language_info": {
   "codemirror_mode": {
    "name": "ipython",
    "version": 3
   },
   "file_extension": ".py",
   "mimetype": "text/x-python",
   "name": "python",
   "nbconvert_exporter": "python",
   "pygments_lexer": "ipython3",
   "version": "3.9.16"
  }
 },
 "nbformat": 4,
 "nbformat_minor": 5
}
