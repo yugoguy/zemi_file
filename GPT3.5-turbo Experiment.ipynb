{
 "cells": [
  {
   "cell_type": "markdown",
   "id": "05116aba",
   "metadata": {},
   "source": [
    "# Preparation"
   ]
  },
  {
   "cell_type": "code",
   "execution_count": 83,
   "id": "bdb044c5",
   "metadata": {},
   "outputs": [],
   "source": [
    "API=\"\""
   ]
  },
  {
   "cell_type": "code",
   "execution_count": 84,
   "id": "2174aaf4",
   "metadata": {},
   "outputs": [],
   "source": [
    "agent_key=\"asst_0WcSXzJ0s77wYneo7SGYwPCw\" #gpt4"
   ]
  },
  {
   "cell_type": "code",
   "execution_count": 85,
   "id": "ac4c7eee",
   "metadata": {},
   "outputs": [],
   "source": [
    "gpt35turbo_key = \"asst_FKCItAtYldMP3Ii0eGOdxQ2H\""
   ]
  },
  {
   "cell_type": "code",
   "execution_count": 144,
   "id": "390777e7",
   "metadata": {},
   "outputs": [],
   "source": [
    "gpt4o_key = \"asst_ehEgDBi1jPAL10I7vbAPdUrG\""
   ]
  },
  {
   "cell_type": "code",
   "execution_count": 126,
   "id": "8f037a44",
   "metadata": {},
   "outputs": [],
   "source": [
    "import openai\n",
    "from openai import OpenAI\n",
    "import pandas as pd\n",
    "import numpy as np\n",
    "import pickle\n",
    "import requests\n",
    "import re\n",
    "from datetime import datetime\n",
    "import matplotlib.pyplot as plt\n",
    "import warnings\n",
    "warnings.filterwarnings(\"ignore\")"
   ]
  },
  {
   "cell_type": "markdown",
   "id": "7270161e",
   "metadata": {},
   "source": [
    "# Class & Functions"
   ]
  },
  {
   "cell_type": "code",
   "execution_count": 87,
   "id": "0a8a6d7a",
   "metadata": {},
   "outputs": [],
   "source": [
    "class Agent():\n",
    "    def __init__(self, client, agent_id, model_id=\"asst_ehEgDBi1jPAL10I7vbAPdUrG\"):\n",
    "        self.model_id = model_id\n",
    "        self.agent_id = agent_id\n",
    "        self.decision_round = 0\n",
    "        self.client = client\n",
    "        self.decision_record = {\n",
    "            \"NFT_investment\": [],\n",
    "            \"bid_amount\": [],\n",
    "            \"bid_price\": [],\n",
    "            \"ask_amount\": [],\n",
    "            \"ask_price\": [],\n",
    "            \"anticipated_price\": [],\n",
    "            \"anticipated_payoff\": [],\n",
    "            \"anticipated_investment\": [],\n",
    "            \"reason\": []\n",
    "        }\n",
    "        self.processed_decision = dict()\n",
    "        \n",
    "        self.payoff_record = []\n",
    "        self.feedback = dict()\n",
    "        self.cumulative_payoff = 0\n",
    "        \n",
    "        self.FT_holdings = 0\n",
    "        self.FT_bought_amount = 0\n",
    "        self.FT_sold_amount = 0\n",
    "        \n",
    "    def create_conversation(self):\n",
    "        self.thread = self.client.beta.threads.create()\n",
    "        \n",
    "    \n",
    "    def receive_feedback(self):\n",
    "        self.message = self.client.beta.threads.messages.create(\n",
    "            thread_id=self.thread.id,\n",
    "            role=\"user\",\n",
    "            content=self.feedback_text\n",
    "        )\n",
    "        \n",
    "        \n",
    "    def get_conversation(self):\n",
    "        self.conversation_list=[]\n",
    "        for text in self.conversation:\n",
    "            text = text.content[0].text.value\n",
    "            self.conversation_list.append(text)\n",
    "        return self.conversation_list\n",
    "    \n",
    "        \n",
    "    def make_decision(self):\n",
    "        with self.client.beta.threads.runs.stream(\n",
    "            thread_id=self.thread.id,\n",
    "            assistant_id=self.model_id\n",
    "        ) as self.stream:\n",
    "            self.stream.until_done()\n",
    "            \n",
    "        self.conversation = self.client.beta.threads.messages.list(\n",
    "            thread_id=self.thread.id,\n",
    "            order=\"asc\"\n",
    "        )\n",
    "        \n",
    "        self.decision = self.conversation.data[-1].content[0].text.value\n",
    "        \n",
    "        self.decision_round += 1\n",
    "        \n",
    "        \n",
    "    def end_experiment(self):\n",
    "        self.client.beta.threads.delete(thread_id=self.thread.id)\n",
    "        \n",
    "        \n",
    "    def create_feedback(self): \n",
    "        NFT_reward = self.experiment_config[\"amount of NFT return\"] if self.feedback[\"NFT succeed\"] else 0\n",
    "        NFT_buying_cost = self.experiment_config[\"NFT price\"] if (self.processed_decision[\"NFT_investment\"]==1) else 0\n",
    "        utility_value = self.experiment_config[\"utility value of FT\"]*self.feedback[\"FT_holdings\"]\n",
    "        governance_value = self.feedback[\"FT_holdings\"] * (self.experiment_config[\"DAO FCF\"] + (self.feedback[\"total investment\"] * 0.1)) / self.experiment_config[\"FT supply\"]\n",
    "        FT_holdings_value = self.feedback[\"FT_holdings\"] * self.feedback[\"FT price\"]\n",
    "        remaining_endowment = self.experiment_config[\"cash endowment\"] - self.experiment_config[\"NFT price\"] - (self.feedback[\"FT price\"]*self.feedback[\"FT bought amount\"])\n",
    "        FT_buying_cost = self.feedback[\"FT bought amount\"] * self.feedback[\"FT price\"]\n",
    "        round_payoff = (NFT_reward*0.5) - NFT_buying_cost + self.feedback[\"public return\"] + utility_value + governance_value + FT_holdings_value + remaining_endowment - FT_buying_cost + self.feedback[\"FT selling revenue\"]\n",
    "        payoff_to_carry_over = (NFT_reward*0.5) - NFT_buying_cost + self.feedback[\"public return\"] + remaining_endowment - FT_buying_cost + self.feedback[\"FT selling revenue\"]\n",
    "        round_cumulative_payoff = self.cumulative_payoff + round_payoff - payoff_to_carry_over\n",
    "        self.cumulative_payoff += payoff_to_carry_over\n",
    "        self.payoff_record.append(round_payoff)\n",
    "        \n",
    "        self.FT_holdings = self.feedback[\"FT_holdings\"]\n",
    "        \n",
    "        self.feedback_text = f\"\"\"Feedback from the previous round (Round {self.decision_round}):\n",
    "        Your payoff information from round {self.decision_round}:\n",
    "        You paid {NFT_buying_cost} to invest in human capital by buying NFT.\n",
    "        You received a private NFT return of {NFT_reward}. 50% of this was used to buy DAO fungible token, so you received 50% of this return in th form of DAO fungible tokens. If you have invested in NFT and received 0, then you failed to receive the private NFT return this round.\n",
    "        You received a return from human capital investment of {self.feedback[\"public return\"]} as a result of all players' investment.\n",
    "        You were able to buy {self.feedback[\"FT bought amount\"]} DAO fungible tokens.\n",
    "        You were able to sell {self.feedback[\"FT sold amount\"]} DAO fungible tokens.\n",
    "        You paid {FT_buying_cost} to buy DAO fungible tokens.\n",
    "        You received {self.feedback[\"FT selling revenue\"]} from selling DAO fungible tokens.\n",
    "        Market value of your DAO fungible token holding after trading in round {self.decision_round} is {FT_holdings_value}.\n",
    "        You have remaining cash endowment of {remaining_endowment}.\n",
    "        Your DAO fungible token holdings have a utility value of {utility_value} and governance value of {governance_value}.\n",
    "        In total, you received a payoff of {round_payoff} this round.\n",
    "        Your cumulative payoff until this round is {round_cumulative_payoff}.\n",
    "        \n",
    "        Market price of DAO fungible token at the end of the round is {self.feedback[\"FT price\"]}.\n",
    "        Trading volume of DAO fungible token is {self.feedback[\"FT trade volume\"]}.\n",
    "        \n",
    "        Total investment made this round was {self.feedback[\"total investment\"]}.\n",
    "        Your investment had {self.feedback[\"impact\"]}% impact on the aggregate improvement in the human capital.\n",
    "        \n",
    "        Moving on to the next round, \n",
    "        You are endowed with {self.experiment_config[\"cash endowment\"]} cash. This is your new cash endowment, and the remaining cash from the previous rounds cannot be used in the following rounds.\n",
    "        At the end of round {self.decision_round}, you are owning {self.feedback[\"FT_holdings\"]}.\n",
    "        \n",
    "        Round {self.decision_round + 1}\n",
    "        Now, make decision for the round {self.decision_round + 1}\n",
    "        Reminder: remember the details of the experiment provided in the instruction.\n",
    "        Reminder: decision prompt must be in the below format (strict. no other text is allowed. replace [int] and [string] with your decision.):\n",
    "        NFT investment: [int] DAO fungible token bid amount: [int] DAO fungible token bid price: [int] DAO fungible token ask amount: [int] DAO fungible token ask price: [int] DAO fungible token anticipated price: [int] Anticipated payoff: [int] Anticipated total investment: [int] Short explanation on the reasons for the decisions: [string]\n",
    "        \"\"\"\n",
    "        self.FT_bought_amount = 0\n",
    "        self.FT_sold_amount = 0\n",
    "        \n",
    "    \n",
    "    def start_experiment(self, experiment_config):\n",
    "        self.experiment_config = experiment_config\n",
    "        \n",
    "        self.experiment_starting_message = f\"\"\"Experiment setting:\n",
    "        price of NFT = {experiment_config[\"NFT price\"]}\n",
    "        cash endowment = {experiment_config[\"cash endowment\"]}\n",
    "        initial DAO fungible token endowment = {experiment_config[\"FT endowment\"]}\n",
    "        free cash flow that DAO platform earn, not including the revenue from NFT sales commission = {experiment_config[\"DAO FCF\"]}\n",
    "        number of players in the game = {experiment_config[\"Number of investors\"]}\n",
    "        total supply of DAO fungible token = {experiment_config[\"FT supply\"]}\n",
    "        probability for private NFT return = {experiment_config[\"probability of NFT return\"]}\n",
    "        amount of private NFT return, if succeeded in obtaining it = {experiment_config[\"amount of NFT return\"]}\n",
    "        utility value per DAO fungible token = {experiment_config[\"utility value of FT\"]}\n",
    "        function defining the social return from human capital investment = {experiment_config[\"human capital impact function\"]}\n",
    "\n",
    "        Round 1\n",
    "        Now, make decision for the first round\n",
    "        Reminder: remember the details of the experiment provided in the instruction.\n",
    "        Reminder: decision prompt must be in the below format (strict. no other text is allowed. replace [int] and [string] with your decision.):\n",
    "        NFT investment: [int] DAO fungible token bid amount: [int] DAO fungible token bid price: [int] DAO fungible token ask amount: [int] DAO fungible token ask price: [int] DAO fungible token anticipated price: [int] Anticipated payoff: [int] Anticipated total investment: [int] Short explanation on the reasons for the decisions: [string]\n",
    "        \"\"\"\n",
    "        \n",
    "        self.FT_holdings = experiment_config[\"FT endowment\"]\n",
    "        \n",
    "        self.message = self.client.beta.threads.messages.create(\n",
    "            thread_id=self.thread.id,\n",
    "            role=\"user\",\n",
    "            content=self.experiment_starting_message\n",
    "        )\n",
    "        \n",
    "    def process_decision(self):\n",
    "        self.decision = self.decision.replace(\"\\n\", \" \")\n",
    "        NFT_investment_text = self.decision.split(\"NFT investment: \")[1].split(\" DAO fungible token bid amount: \")\n",
    "        NFT_investment = float(NFT_investment_text[0])\n",
    "        self.decision_record[\"NFT_investment\"].append(NFT_investment)\n",
    "        \n",
    "        bid_amount_text = NFT_investment_text[1].split(\" DAO fungible token bid price: \")\n",
    "        bid_amount = int(np.floor(float(bid_amount_text[0])))\n",
    "        self.decision_record[\"bid_amount\"].append(bid_amount)\n",
    "        \n",
    "        bid_price_text = bid_amount_text[1].split(\" DAO fungible token ask amount: \")\n",
    "        bid_price = float(bid_price_text[0])\n",
    "        self.decision_record[\"bid_price\"].append(bid_price)\n",
    "        \n",
    "        ask_amount_text = bid_price_text[1].split(\" DAO fungible token ask price: \")\n",
    "        ask_amount = int(np.floor(float(ask_amount_text[0])))\n",
    "        self.decision_record[\"ask_amount\"].append(ask_amount)\n",
    "        \n",
    "        ask_price_text = ask_amount_text[1].split(\" DAO fungible token anticipated price: \")\n",
    "        ask_price = float(ask_price_text[0])\n",
    "        self.decision_record[\"ask_price\"].append(ask_price)\n",
    "        \n",
    "        anticipated_price_text = ask_price_text[1].split(\" Anticipated payoff: \")\n",
    "        anticipated_price = float(anticipated_price_text[0])\n",
    "        self.decision_record[\"anticipated_price\"].append(anticipated_price)\n",
    "        \n",
    "        anticipated_payoff_text = anticipated_price_text[1].split(\" Anticipated total investment: \")\n",
    "        anticipated_payoff = float(anticipated_payoff_text[0])\n",
    "        self.decision_record[\"anticipated_payoff\"].append(anticipated_payoff)\n",
    "        \n",
    "        anticipated_investment_text = anticipated_payoff_text[1].split(\" Short explanation on the reasons for the decisions: \")\n",
    "        anticipated_investment = float(anticipated_investment_text[0])\n",
    "        self.decision_record[\"anticipated_investment\"].append(anticipated_investment)\n",
    "        \n",
    "        reason = anticipated_investment_text[1]\n",
    "        self.decision_record[\"reason\"].append(reason)\n",
    "        \n",
    "        self.processed_decision = {\n",
    "            \"NFT_investment\": NFT_investment,\n",
    "            \"bid_amount\": bid_amount,\n",
    "            \"bid_price\": bid_price,\n",
    "            \"ask_amount\": ask_amount,\n",
    "            \"ask_price\": ask_price,\n",
    "            \"anticipated_price\": anticipated_price,\n",
    "            \"anticipated_payoff\": anticipated_payoff,\n",
    "            \"anticipated_investment\": anticipated_investment,\n",
    "            \"reason\": reason\n",
    "        }\n",
    "        \n",
    "        "
   ]
  },
  {
   "cell_type": "code",
   "execution_count": 88,
   "id": "5409fc13",
   "metadata": {},
   "outputs": [],
   "source": [
    "class Experiment():\n",
    "    def __init__(self, client, experiment_config, public_good_function = lambda x: np.sqrt(x)):\n",
    "        self.experiment_config = experiment_config\n",
    "        self.client = client\n",
    "        \n",
    "        self.agent_list = []\n",
    "        for i in range(self.experiment_config[\"Number of investors\"]):\n",
    "            self.agent_list.append(Agent(self.client, agent_id=i))\n",
    "        \n",
    "        self.bid_list = []\n",
    "        self.ask_list = []\n",
    "        self.public_good_function = public_good_function\n",
    "        \n",
    "        self.FT_price = 10 #initial price of 10\n",
    "        self.FT_trading_volume = 0\n",
    "        self.total_investment = 0\n",
    "        self.round = 0\n",
    "\n",
    "    \n",
    "    def compute_equilibrium_price(self):\n",
    "        self.ask_list = []\n",
    "        for agent in self.agent_list:\n",
    "            for i in range(agent.processed_decision[\"ask_amount\"]):\n",
    "                self.ask_list.append(agent.processed_decision[\"ask_price\"])\n",
    "\n",
    "        self.bid_list = []\n",
    "        for agent in self.agent_list:\n",
    "            for i in range(agent.processed_decision[\"bid_amount\"]):\n",
    "                self.bid_list.append(agent.processed_decision[\"bid_price\"])\n",
    "\n",
    "        for agent in self.agent_list:\n",
    "            random_success = True if (np.random.uniform(0, 1) < self.experiment_config[\"probability of NFT return\"]) else False        \n",
    "            agent.feedback[\"NFT succeed\"] = random_success    \n",
    "            if random_success:\n",
    "                for i in range(int(np.floor((self.experiment_config[\"amount of NFT return\"]*0.5)/min(agent.processed_decision[\"bid_price\"], 1)))):\n",
    "                    self.bid_list.append(agent.processed_decision[\"bid_price\"])\n",
    "                \n",
    "        # Sort bid and ask lists\n",
    "        self.bid_list = sorted(self.bid_list, reverse=True)\n",
    "        self.ask_list = sorted(self.ask_list)\n",
    "        \n",
    "        bid_list = self.bid_list\n",
    "        ask_list = self.ask_list\n",
    "\n",
    "        ask_index = 0\n",
    "        equilibrium_price = 0\n",
    "        equilibrium_quantity = 0\n",
    "        found = False\n",
    "        \n",
    "        if (bid_list==[]) & (ask_list==[]):\n",
    "            self.FT_trading_volume = 0\n",
    "        \n",
    "        elif bid_list==[]: # if nobody bought\n",
    "            self.FT_price = min(ask_list) #reservation price\n",
    "            self.FT_trading_volume = 0\n",
    "            \n",
    "        elif ask_list==[]: # if nobody sold\n",
    "            self.FT_price = max(bid_list) #price that it could be sold\n",
    "            self.FT_trading_volume = 0\n",
    "\n",
    "        else:\n",
    "            # Iterate through bid and ask list to find appropriate intersection\n",
    "            while ask_index < len(bid_list) and ask_index < len(ask_list) and not found:\n",
    "                if bid_list[ask_index] == ask_list[ask_index]:\n",
    "                    equilibrium_price = bid_list[ask_index]\n",
    "                    found = True\n",
    "                    continue_search = True\n",
    "\n",
    "                    while continue_search and ask_index < len(bid_list) and ask_index < len(ask_list):\n",
    "                        if bid_list[ask_index] == ask_list[ask_index]:\n",
    "                            ask_index += 1\n",
    "                            if ask_index < len(bid_list) and ask_index < len(ask_list):\n",
    "                                continue_search = (bid_list[ask_index] == ask_list[ask_index])\n",
    "                        else:\n",
    "                            continue_search = False\n",
    "                    equilibrium_quantity = ask_index\n",
    "                else:\n",
    "                    if bid_list[ask_index] < ask_list[ask_index]:\n",
    "                        if ask_index == 0:\n",
    "                            equilibrium_price = \"FT-price\"  # Assuming FT-price is some fallback price\n",
    "                            equilibrium_quantity = 0\n",
    "                            found = True\n",
    "                        else:\n",
    "                            if (bid_list[ask_index - 1] != bid_list[ask_index]) and (ask_list[ask_index - 1] != ask_list[ask_index]):\n",
    "                                found = True\n",
    "                                equilibrium_price = (bid_list[ask_index - 1] + ask_list[ask_index - 1]) / 2\n",
    "                                equilibrium_quantity = ask_index\n",
    "                            elif (bid_list[ask_index - 1] == bid_list[ask_index]) and (ask_list[ask_index - 1] != ask_list[ask_index]):\n",
    "                                found = True\n",
    "                                equilibrium_price = bid_list[ask_index]\n",
    "                                equilibrium_quantity = ask_index\n",
    "                            elif (bid_list[ask_index - 1] != bid_list[ask_index]) and (ask_list[ask_index - 1] == ask_list[ask_index]):\n",
    "                                found = True\n",
    "                                equilibrium_price = ask_list[ask_index]\n",
    "                                equilibrium_quantity = ask_index\n",
    "                ask_index += 1\n",
    "            \n",
    "            self.FT_price = equilibrium_price\n",
    "            self.FT_trading_volume = equilibrium_quantity\n",
    "    \n",
    "    \n",
    "    def trade_fungible_token(self):\n",
    "        sell_volume = self.FT_trading_volume\n",
    "        buy_volume = self.FT_trading_volume\n",
    "        sold_amount = 0  # for debugging and record keeping\n",
    "        bought_amount = 0  # for debugging and record keeping\n",
    "\n",
    "        if self.FT_trading_volume > 0:\n",
    "            # Selling process\n",
    "            for agent in self.agent_list:\n",
    "                if (agent.processed_decision['ask_price'] <= self.FT_price) & (sell_volume > 0):\n",
    "                    amount_to_sell = min(sell_volume, agent.processed_decision['ask_amount'])\n",
    "                    agent.FT_holdings -= amount_to_sell\n",
    "                    agent.FT_sold_amount += amount_to_sell\n",
    "                    sell_volume -= amount_to_sell\n",
    "                    sold_amount += amount_to_sell  # for debugging\n",
    "\n",
    "            # Buy back process ... NFT reward\n",
    "            for agent in self.agent_list:\n",
    "                if (agent.processed_decision['bid_price'] >= self.FT_price) & (buy_volume > 0) & (agent.feedback[\"NFT succeed\"]):\n",
    "                    amount_to_buy = int(np.floor((self.experiment_config[\"amount of NFT return\"]*0.5)/min(agent.processed_decision[\"bid_price\"], 1)))\n",
    "                    agent.FT_holdings += amount_to_buy\n",
    "                    agent.FT_bought_amount += amount_to_buy\n",
    "                    buy_volume -= amount_to_buy\n",
    "                    bought_amount += amount_to_buy  # for debugging\n",
    "            \n",
    "            # Buying process\n",
    "            for agent in self.agent_list:\n",
    "                if (agent.processed_decision['bid_price'] >= self.FT_price) & (buy_volume > 0):\n",
    "                    amount_to_buy = min(buy_volume, agent.processed_decision['bid_amount'])\n",
    "                    agent.FT_holdings += amount_to_buy\n",
    "                    agent.FT_bought_amount += amount_to_buy\n",
    "                    buy_volume -= amount_to_buy\n",
    "                    bought_amount += amount_to_buy  # for debugging\n",
    "\n",
    "        #print(self.FT_trading_volume == sold_amount == bought_amount)  # Adjust trading volume after transactions\n",
    "\n",
    "        \n",
    "    def compute_feedback(self):\n",
    "        self.total_investment = 0\n",
    "        for agent in self.agent_list:\n",
    "            self.total_investment += agent.processed_decision[\"NFT_investment\"] * self.experiment_config[\"NFT price\"]\n",
    "            \n",
    "        for agent in self.agent_list:\n",
    "            #random_success = True if (np.random.uniform(0, 1) < self.experiment_config[\"probability of NFT return\"]) else False\n",
    "            \n",
    "            agent.feedback[\"FT_holdings\"] = agent.FT_holdings\n",
    "            agent.feedback[\"FT price\"] = self.FT_price\n",
    "            #agent.feedback[\"NFT succeed\"] = random_success\n",
    "            agent.feedback[\"FT bought amount\"] = agent.FT_bought_amount\n",
    "            agent.feedback[\"FT sold amount\"] = agent.FT_sold_amount\n",
    "            agent.feedback[\"FT selling revenue\"] = agent.FT_sold_amount * self.FT_price\n",
    "            agent.feedback[\"FT trade volume\"] = self.FT_trading_volume\n",
    "            agent.feedback[\"total investment\"] = self.total_investment\n",
    "            agent.feedback[\"public return\"] = self.public_good_function(self.total_investment) / self.experiment_config[\"Number of investors\"]\n",
    "            agent.feedback[\"impact\"] = (self.public_good_function(self.total_investment) - self.public_good_function(self.total_investment - (agent.processed_decision[\"NFT_investment\"] * self.experiment_config[\"NFT price\"]))) / self.public_good_function(self.total_investment)\n",
    "            \n",
    "            \n",
    "    def start(self):\n",
    "        for agent in self.agent_list:\n",
    "            agent.create_conversation()\n",
    "            print(f\"agent {agent.agent_id} joined experiment\")\n",
    "            \n",
    "        for agent in self.agent_list:\n",
    "            agent.start_experiment(self.experiment_config)\n",
    "            print(f\"agent {agent.agent_id} received experiment information and instruction for first round\")\n",
    "    \n",
    "    \n",
    "    def first_decision_round(self):\n",
    "        for agent in self.agent_list:\n",
    "            agent.make_decision()\n",
    "            print(f\"agent {agent.agent_id} made first round decision\")\n",
    "        self.round += 1\n",
    "        \n",
    "        for agent in self.agent_list:\n",
    "            agent.process_decision()\n",
    "            print(f\"decision by agent {agent.agent_id} is ready to be used for result computation\")\n",
    "            \n",
    "        \n",
    "    def give_feedbacks(self):\n",
    "        for agent in self.agent_list:\n",
    "            agent.create_feedback()\n",
    "            agent.receive_feedback()\n",
    "            print(f\"agent {agent.agent_id} received feedback information and instruction for next round\")\n",
    "            \n",
    "    \n",
    "    def next_decision_round(self):\n",
    "        for agent in self.agent_list:\n",
    "            agent.make_decision()\n",
    "            print(f\"agent {agent.agent_id} made decision for round {self.round + 1}\")\n",
    "        self.round += 1\n",
    "        \n",
    "        for agent in self.agent_list:\n",
    "            agent.process_decision()\n",
    "            print(f\"decision by agent {agent.agent_id} is ready to be used for result computation\")\n",
    "        \n",
    "    def end(self):\n",
    "        for agent in self.agent_list:\n",
    "            agent.end_experiment()\n",
    "            print(f\"agent {agent.agent_id} left the experiment\")\n",
    "        \n",
    "        \n",
    "        "
   ]
  },
  {
   "cell_type": "markdown",
   "id": "d1ff7da8",
   "metadata": {},
   "source": [
    "workflow:\n",
    "client = OpenAI(api_key=)\n",
    "\n",
    "experiment_config = {\n",
    "    \"NFT price\":50,\n",
    "    \"cash endowment\":200,\n",
    "    \"FT endowment\":10,\n",
    "    \"DAO FCF\":500,\n",
    "    \"Number of investors\":10,\n",
    "    \"FT supply\":100,\n",
    "    \"probability of NFT return\":0.2,\n",
    "    \"amount of NFT return\":100,\n",
    "    \"utility value of FT\":5,\n",
    "    \"human capital impact function\":\"square_root(total investment)\"\n",
    "}\n",
    "\n",
    "experiment = Experiment(client, experiment_config)\n",
    "\n",
    "experiment.start()\n",
    "\n",
    "experiment.first_decision_round()\n",
    "\n",
    "experiment.compute_equilibrium_price()\n",
    "\n",
    "experiment.trade_fungible_token()\n",
    "\n",
    "experiment.compute_feedback()\n",
    "\n",
    "experiment.give_feedbacks()\n",
    "\n",
    "experiment.next_decision_round()\n",
    "\n",
    "experiment.compute_equilibrium_price()\n",
    "\n",
    "experiment.trade_fungible_token()\n",
    "\n",
    "experiment.compute_feedback()\n",
    "\n",
    "experiment.give_feedbacks()\n",
    "\n",
    "experiment.end()"
   ]
  },
  {
   "cell_type": "markdown",
   "id": "85f42847",
   "metadata": {},
   "source": [
    "# Run Experiment"
   ]
  },
  {
   "cell_type": "markdown",
   "id": "89b875e1",
   "metadata": {},
   "source": [
    "## Configuration"
   ]
  },
  {
   "cell_type": "code",
   "execution_count": 89,
   "id": "ba89c030",
   "metadata": {},
   "outputs": [],
   "source": [
    "client = OpenAI(api_key=API)\n",
    "\n",
    "experiment_config = {\n",
    "    \"NFT price\":50,\n",
    "    \"cash endowment\":200,\n",
    "    \"FT endowment\":10,\n",
    "    \"DAO FCF\":500,\n",
    "    \"Number of investors\":10,\n",
    "    \"FT supply\":100,\n",
    "    \"probability of NFT return\":0.2,\n",
    "    \"amount of NFT return\":100,\n",
    "    \"utility value of FT\":5,\n",
    "    \"human capital impact function\":\"square_root(total investment)\"\n",
    "}\n",
    "\n"
   ]
  },
  {
   "cell_type": "code",
   "execution_count": 90,
   "id": "cdb4e9fc",
   "metadata": {},
   "outputs": [],
   "source": [
    "FT_price_record = []\n",
    "total_investment_record = []\n",
    "FT_trade_volume_record = []\n",
    "bid_list_record = []\n",
    "ask_list_record = []"
   ]
  },
  {
   "cell_type": "code",
   "execution_count": 91,
   "id": "5eb548b3",
   "metadata": {},
   "outputs": [],
   "source": [
    "experiment = Experiment(client, experiment_config)\n"
   ]
  },
  {
   "cell_type": "markdown",
   "id": "9d611a86",
   "metadata": {},
   "source": [
    "## Start Experiment"
   ]
  },
  {
   "cell_type": "code",
   "execution_count": 92,
   "id": "233e3829",
   "metadata": {},
   "outputs": [
    {
     "name": "stdout",
     "output_type": "stream",
     "text": [
      "agent 0 joined experiment\n",
      "agent 1 joined experiment\n",
      "agent 2 joined experiment\n",
      "agent 3 joined experiment\n",
      "agent 4 joined experiment\n",
      "agent 5 joined experiment\n",
      "agent 6 joined experiment\n",
      "agent 7 joined experiment\n",
      "agent 8 joined experiment\n",
      "agent 9 joined experiment\n",
      "agent 0 received experiment information and instruction for first round\n",
      "agent 1 received experiment information and instruction for first round\n",
      "agent 2 received experiment information and instruction for first round\n",
      "agent 3 received experiment information and instruction for first round\n",
      "agent 4 received experiment information and instruction for first round\n",
      "agent 5 received experiment information and instruction for first round\n",
      "agent 6 received experiment information and instruction for first round\n",
      "agent 7 received experiment information and instruction for first round\n",
      "agent 8 received experiment information and instruction for first round\n",
      "agent 9 received experiment information and instruction for first round\n"
     ]
    }
   ],
   "source": [
    "experiment.start()\n"
   ]
  },
  {
   "cell_type": "code",
   "execution_count": 93,
   "id": "647cd17f",
   "metadata": {},
   "outputs": [
    {
     "name": "stdout",
     "output_type": "stream",
     "text": [
      "agent 0 made first round decision\n",
      "agent 1 made first round decision\n",
      "agent 2 made first round decision\n",
      "agent 3 made first round decision\n",
      "agent 4 made first round decision\n",
      "agent 5 made first round decision\n",
      "agent 6 made first round decision\n",
      "agent 7 made first round decision\n",
      "agent 8 made first round decision\n",
      "agent 9 made first round decision\n",
      "decision by agent 0 is ready to be used for result computation\n",
      "decision by agent 1 is ready to be used for result computation\n",
      "decision by agent 2 is ready to be used for result computation\n",
      "decision by agent 3 is ready to be used for result computation\n",
      "decision by agent 4 is ready to be used for result computation\n",
      "decision by agent 5 is ready to be used for result computation\n",
      "decision by agent 6 is ready to be used for result computation\n",
      "decision by agent 7 is ready to be used for result computation\n",
      "decision by agent 8 is ready to be used for result computation\n",
      "decision by agent 9 is ready to be used for result computation\n"
     ]
    }
   ],
   "source": [
    "# Round1\n",
    "experiment.first_decision_round()\n"
   ]
  },
  {
   "cell_type": "code",
   "execution_count": 94,
   "id": "05f9cf69",
   "metadata": {},
   "outputs": [],
   "source": [
    "experiment.compute_equilibrium_price()\n",
    "\n",
    "experiment.trade_fungible_token()\n",
    "\n",
    "experiment.compute_feedback()"
   ]
  },
  {
   "cell_type": "code",
   "execution_count": 95,
   "id": "8942880d",
   "metadata": {},
   "outputs": [
    {
     "name": "stdout",
     "output_type": "stream",
     "text": [
      "agent 0 received feedback information and instruction for next round\n",
      "agent 1 received feedback information and instruction for next round\n",
      "agent 2 received feedback information and instruction for next round\n",
      "agent 3 received feedback information and instruction for next round\n",
      "agent 4 received feedback information and instruction for next round\n",
      "agent 5 received feedback information and instruction for next round\n",
      "agent 6 received feedback information and instruction for next round\n",
      "agent 7 received feedback information and instruction for next round\n",
      "agent 8 received feedback information and instruction for next round\n",
      "agent 9 received feedback information and instruction for next round\n"
     ]
    }
   ],
   "source": [
    "experiment.give_feedbacks()\n"
   ]
  },
  {
   "cell_type": "code",
   "execution_count": 96,
   "id": "8fbe291a",
   "metadata": {},
   "outputs": [],
   "source": [
    "FT_price_record.append(experiment.FT_price)\n",
    "total_investment_record.append(experiment.total_investment)\n",
    "FT_trade_volume_record.append(experiment.FT_trading_volume)\n",
    "bid_list_record.append(experiment.bid_list)\n",
    "ask_list_record.append(experiment.ask_list)"
   ]
  },
  {
   "cell_type": "code",
   "execution_count": 97,
   "id": "8fbd677e",
   "metadata": {},
   "outputs": [
    {
     "name": "stdout",
     "output_type": "stream",
     "text": [
      "agent 0 made decision for round 2\n",
      "agent 1 made decision for round 2\n",
      "agent 2 made decision for round 2\n",
      "agent 3 made decision for round 2\n",
      "agent 4 made decision for round 2\n",
      "agent 5 made decision for round 2\n",
      "agent 6 made decision for round 2\n",
      "agent 7 made decision for round 2\n",
      "agent 8 made decision for round 2\n",
      "agent 9 made decision for round 2\n",
      "decision by agent 0 is ready to be used for result computation\n",
      "decision by agent 1 is ready to be used for result computation\n",
      "decision by agent 2 is ready to be used for result computation\n",
      "decision by agent 3 is ready to be used for result computation\n",
      "decision by agent 4 is ready to be used for result computation\n",
      "decision by agent 5 is ready to be used for result computation\n",
      "decision by agent 6 is ready to be used for result computation\n",
      "decision by agent 7 is ready to be used for result computation\n",
      "decision by agent 8 is ready to be used for result computation\n",
      "decision by agent 9 is ready to be used for result computation\n"
     ]
    }
   ],
   "source": [
    "# Round2\n",
    "experiment.next_decision_round()\n"
   ]
  },
  {
   "cell_type": "code",
   "execution_count": 98,
   "id": "013daaad",
   "metadata": {},
   "outputs": [],
   "source": [
    "experiment.compute_equilibrium_price()\n",
    "\n",
    "experiment.trade_fungible_token()\n",
    "\n",
    "experiment.compute_feedback()"
   ]
  },
  {
   "cell_type": "code",
   "execution_count": 99,
   "id": "91e8b07e",
   "metadata": {},
   "outputs": [
    {
     "name": "stdout",
     "output_type": "stream",
     "text": [
      "agent 0 received feedback information and instruction for next round\n",
      "agent 1 received feedback information and instruction for next round\n",
      "agent 2 received feedback information and instruction for next round\n",
      "agent 3 received feedback information and instruction for next round\n",
      "agent 4 received feedback information and instruction for next round\n",
      "agent 5 received feedback information and instruction for next round\n",
      "agent 6 received feedback information and instruction for next round\n",
      "agent 7 received feedback information and instruction for next round\n",
      "agent 8 received feedback information and instruction for next round\n",
      "agent 9 received feedback information and instruction for next round\n"
     ]
    }
   ],
   "source": [
    "experiment.give_feedbacks()\n"
   ]
  },
  {
   "cell_type": "code",
   "execution_count": 100,
   "id": "6079acaa",
   "metadata": {},
   "outputs": [],
   "source": [
    "FT_price_record.append(experiment.FT_price)\n",
    "total_investment_record.append(experiment.total_investment)\n",
    "FT_trade_volume_record.append(experiment.FT_trading_volume)\n",
    "bid_list_record.append(experiment.bid_list)\n",
    "ask_list_record.append(experiment.ask_list)"
   ]
  },
  {
   "cell_type": "code",
   "execution_count": 101,
   "id": "a1e8cad0",
   "metadata": {},
   "outputs": [
    {
     "name": "stdout",
     "output_type": "stream",
     "text": [
      "agent 0 made decision for round 3\n",
      "agent 1 made decision for round 3\n",
      "agent 2 made decision for round 3\n",
      "agent 3 made decision for round 3\n",
      "agent 4 made decision for round 3\n",
      "agent 5 made decision for round 3\n",
      "agent 6 made decision for round 3\n",
      "agent 7 made decision for round 3\n",
      "agent 8 made decision for round 3\n",
      "agent 9 made decision for round 3\n",
      "decision by agent 0 is ready to be used for result computation\n",
      "decision by agent 1 is ready to be used for result computation\n",
      "decision by agent 2 is ready to be used for result computation\n",
      "decision by agent 3 is ready to be used for result computation\n",
      "decision by agent 4 is ready to be used for result computation\n",
      "decision by agent 5 is ready to be used for result computation\n",
      "decision by agent 6 is ready to be used for result computation\n",
      "decision by agent 7 is ready to be used for result computation\n",
      "decision by agent 8 is ready to be used for result computation\n",
      "decision by agent 9 is ready to be used for result computation\n"
     ]
    }
   ],
   "source": [
    "# Round3\n",
    "experiment.next_decision_round()"
   ]
  },
  {
   "cell_type": "code",
   "execution_count": 102,
   "id": "7bfa0640",
   "metadata": {},
   "outputs": [],
   "source": [
    "experiment.compute_equilibrium_price()\n",
    "\n",
    "experiment.trade_fungible_token()\n",
    "\n",
    "experiment.compute_feedback()"
   ]
  },
  {
   "cell_type": "code",
   "execution_count": 103,
   "id": "f870a3a2",
   "metadata": {},
   "outputs": [
    {
     "name": "stdout",
     "output_type": "stream",
     "text": [
      "agent 0 received feedback information and instruction for next round\n",
      "agent 1 received feedback information and instruction for next round\n",
      "agent 2 received feedback information and instruction for next round\n",
      "agent 3 received feedback information and instruction for next round\n",
      "agent 4 received feedback information and instruction for next round\n",
      "agent 5 received feedback information and instruction for next round\n",
      "agent 6 received feedback information and instruction for next round\n",
      "agent 7 received feedback information and instruction for next round\n",
      "agent 8 received feedback information and instruction for next round\n",
      "agent 9 received feedback information and instruction for next round\n"
     ]
    }
   ],
   "source": [
    "experiment.give_feedbacks()"
   ]
  },
  {
   "cell_type": "code",
   "execution_count": 104,
   "id": "baf30204",
   "metadata": {},
   "outputs": [],
   "source": [
    "FT_price_record.append(experiment.FT_price)\n",
    "total_investment_record.append(experiment.total_investment)\n",
    "FT_trade_volume_record.append(experiment.FT_trading_volume)\n",
    "bid_list_record.append(experiment.bid_list)\n",
    "ask_list_record.append(experiment.ask_list)"
   ]
  },
  {
   "cell_type": "code",
   "execution_count": 105,
   "id": "e81a925c",
   "metadata": {},
   "outputs": [
    {
     "name": "stdout",
     "output_type": "stream",
     "text": [
      "agent 0 made decision for round 4\n",
      "agent 1 made decision for round 4\n",
      "agent 2 made decision for round 4\n",
      "agent 3 made decision for round 4\n",
      "agent 4 made decision for round 4\n",
      "agent 5 made decision for round 4\n",
      "agent 6 made decision for round 4\n",
      "agent 7 made decision for round 4\n",
      "agent 8 made decision for round 4\n",
      "agent 9 made decision for round 4\n",
      "decision by agent 0 is ready to be used for result computation\n",
      "decision by agent 1 is ready to be used for result computation\n",
      "decision by agent 2 is ready to be used for result computation\n",
      "decision by agent 3 is ready to be used for result computation\n",
      "decision by agent 4 is ready to be used for result computation\n",
      "decision by agent 5 is ready to be used for result computation\n",
      "decision by agent 6 is ready to be used for result computation\n",
      "decision by agent 7 is ready to be used for result computation\n",
      "decision by agent 8 is ready to be used for result computation\n",
      "decision by agent 9 is ready to be used for result computation\n"
     ]
    }
   ],
   "source": [
    "# Round4\n",
    "experiment.next_decision_round()"
   ]
  },
  {
   "cell_type": "code",
   "execution_count": 106,
   "id": "fc276401",
   "metadata": {},
   "outputs": [],
   "source": [
    "experiment.compute_equilibrium_price()\n",
    "\n",
    "experiment.trade_fungible_token()\n",
    "\n",
    "experiment.compute_feedback()"
   ]
  },
  {
   "cell_type": "code",
   "execution_count": 107,
   "id": "ee029168",
   "metadata": {},
   "outputs": [
    {
     "name": "stdout",
     "output_type": "stream",
     "text": [
      "agent 0 received feedback information and instruction for next round\n",
      "agent 1 received feedback information and instruction for next round\n",
      "agent 2 received feedback information and instruction for next round\n",
      "agent 3 received feedback information and instruction for next round\n",
      "agent 4 received feedback information and instruction for next round\n",
      "agent 5 received feedback information and instruction for next round\n",
      "agent 6 received feedback information and instruction for next round\n",
      "agent 7 received feedback information and instruction for next round\n",
      "agent 8 received feedback information and instruction for next round\n",
      "agent 9 received feedback information and instruction for next round\n"
     ]
    }
   ],
   "source": [
    "experiment.give_feedbacks()"
   ]
  },
  {
   "cell_type": "code",
   "execution_count": 108,
   "id": "f54cc1bc",
   "metadata": {},
   "outputs": [],
   "source": [
    "FT_price_record.append(experiment.FT_price)\n",
    "total_investment_record.append(experiment.total_investment)\n",
    "FT_trade_volume_record.append(experiment.FT_trading_volume)\n",
    "bid_list_record.append(experiment.bid_list)\n",
    "ask_list_record.append(experiment.ask_list)"
   ]
  },
  {
   "cell_type": "code",
   "execution_count": 109,
   "id": "130e0bad",
   "metadata": {},
   "outputs": [
    {
     "name": "stdout",
     "output_type": "stream",
     "text": [
      "agent 0 made decision for round 5\n",
      "agent 1 made decision for round 5\n",
      "agent 2 made decision for round 5\n",
      "agent 3 made decision for round 5\n",
      "agent 4 made decision for round 5\n",
      "agent 5 made decision for round 5\n",
      "agent 6 made decision for round 5\n",
      "agent 7 made decision for round 5\n",
      "agent 8 made decision for round 5\n",
      "agent 9 made decision for round 5\n",
      "decision by agent 0 is ready to be used for result computation\n",
      "decision by agent 1 is ready to be used for result computation\n",
      "decision by agent 2 is ready to be used for result computation\n",
      "decision by agent 3 is ready to be used for result computation\n",
      "decision by agent 4 is ready to be used for result computation\n",
      "decision by agent 5 is ready to be used for result computation\n",
      "decision by agent 6 is ready to be used for result computation\n",
      "decision by agent 7 is ready to be used for result computation\n",
      "decision by agent 8 is ready to be used for result computation\n",
      "decision by agent 9 is ready to be used for result computation\n"
     ]
    }
   ],
   "source": [
    "# Round5\n",
    "experiment.next_decision_round()"
   ]
  },
  {
   "cell_type": "code",
   "execution_count": 110,
   "id": "d8573081",
   "metadata": {},
   "outputs": [],
   "source": [
    "experiment.compute_equilibrium_price()\n",
    "\n",
    "experiment.trade_fungible_token()\n",
    "\n",
    "experiment.compute_feedback()"
   ]
  },
  {
   "cell_type": "code",
   "execution_count": 111,
   "id": "142a6eae",
   "metadata": {},
   "outputs": [
    {
     "name": "stdout",
     "output_type": "stream",
     "text": [
      "agent 0 received feedback information and instruction for next round\n",
      "agent 1 received feedback information and instruction for next round\n",
      "agent 2 received feedback information and instruction for next round\n",
      "agent 3 received feedback information and instruction for next round\n",
      "agent 4 received feedback information and instruction for next round\n",
      "agent 5 received feedback information and instruction for next round\n",
      "agent 6 received feedback information and instruction for next round\n",
      "agent 7 received feedback information and instruction for next round\n",
      "agent 8 received feedback information and instruction for next round\n",
      "agent 9 received feedback information and instruction for next round\n"
     ]
    }
   ],
   "source": [
    "experiment.give_feedbacks()"
   ]
  },
  {
   "cell_type": "code",
   "execution_count": 112,
   "id": "a13aa033",
   "metadata": {},
   "outputs": [],
   "source": [
    "FT_price_record.append(experiment.FT_price)\n",
    "total_investment_record.append(experiment.total_investment)\n",
    "FT_trade_volume_record.append(experiment.FT_trading_volume)\n",
    "bid_list_record.append(experiment.bid_list)\n",
    "ask_list_record.append(experiment.ask_list)"
   ]
  },
  {
   "cell_type": "code",
   "execution_count": 113,
   "id": "8f3c4a8e",
   "metadata": {},
   "outputs": [
    {
     "name": "stdout",
     "output_type": "stream",
     "text": [
      "agent 0 made decision for round 6\n",
      "agent 1 made decision for round 6\n",
      "agent 2 made decision for round 6\n",
      "agent 3 made decision for round 6\n",
      "agent 4 made decision for round 6\n",
      "agent 5 made decision for round 6\n",
      "agent 6 made decision for round 6\n",
      "agent 7 made decision for round 6\n",
      "agent 8 made decision for round 6\n",
      "agent 9 made decision for round 6\n",
      "decision by agent 0 is ready to be used for result computation\n",
      "decision by agent 1 is ready to be used for result computation\n",
      "decision by agent 2 is ready to be used for result computation\n",
      "decision by agent 3 is ready to be used for result computation\n",
      "decision by agent 4 is ready to be used for result computation\n",
      "decision by agent 5 is ready to be used for result computation\n",
      "decision by agent 6 is ready to be used for result computation\n",
      "decision by agent 7 is ready to be used for result computation\n",
      "decision by agent 8 is ready to be used for result computation\n",
      "decision by agent 9 is ready to be used for result computation\n"
     ]
    }
   ],
   "source": [
    "# Round6\n",
    "experiment.next_decision_round()"
   ]
  },
  {
   "cell_type": "code",
   "execution_count": 114,
   "id": "b19c3018",
   "metadata": {},
   "outputs": [],
   "source": [
    "experiment.compute_equilibrium_price()\n",
    "\n",
    "experiment.trade_fungible_token()\n",
    "\n",
    "experiment.compute_feedback()"
   ]
  },
  {
   "cell_type": "code",
   "execution_count": 115,
   "id": "cb680ae8",
   "metadata": {},
   "outputs": [
    {
     "name": "stdout",
     "output_type": "stream",
     "text": [
      "agent 0 received feedback information and instruction for next round\n",
      "agent 1 received feedback information and instruction for next round\n",
      "agent 2 received feedback information and instruction for next round\n",
      "agent 3 received feedback information and instruction for next round\n",
      "agent 4 received feedback information and instruction for next round\n",
      "agent 5 received feedback information and instruction for next round\n",
      "agent 6 received feedback information and instruction for next round\n",
      "agent 7 received feedback information and instruction for next round\n",
      "agent 8 received feedback information and instruction for next round\n",
      "agent 9 received feedback information and instruction for next round\n"
     ]
    }
   ],
   "source": [
    "experiment.give_feedbacks()"
   ]
  },
  {
   "cell_type": "code",
   "execution_count": 116,
   "id": "08b64cf3",
   "metadata": {},
   "outputs": [],
   "source": [
    "FT_price_record.append(experiment.FT_price)\n",
    "total_investment_record.append(experiment.total_investment)\n",
    "FT_trade_volume_record.append(experiment.FT_trading_volume)\n",
    "bid_list_record.append(experiment.bid_list)\n",
    "ask_list_record.append(experiment.ask_list)"
   ]
  },
  {
   "cell_type": "code",
   "execution_count": 117,
   "id": "118d82fa",
   "metadata": {},
   "outputs": [
    {
     "name": "stdout",
     "output_type": "stream",
     "text": [
      "agent 0 made decision for round 7\n",
      "agent 1 made decision for round 7\n",
      "agent 2 made decision for round 7\n",
      "agent 3 made decision for round 7\n",
      "agent 4 made decision for round 7\n",
      "agent 5 made decision for round 7\n",
      "agent 6 made decision for round 7\n",
      "agent 7 made decision for round 7\n",
      "agent 8 made decision for round 7\n",
      "agent 9 made decision for round 7\n",
      "decision by agent 0 is ready to be used for result computation\n",
      "decision by agent 1 is ready to be used for result computation\n",
      "decision by agent 2 is ready to be used for result computation\n",
      "decision by agent 3 is ready to be used for result computation\n",
      "decision by agent 4 is ready to be used for result computation\n",
      "decision by agent 5 is ready to be used for result computation\n",
      "decision by agent 6 is ready to be used for result computation\n",
      "decision by agent 7 is ready to be used for result computation\n",
      "decision by agent 8 is ready to be used for result computation\n",
      "decision by agent 9 is ready to be used for result computation\n"
     ]
    }
   ],
   "source": [
    "# Round7\n",
    "experiment.next_decision_round()"
   ]
  },
  {
   "cell_type": "code",
   "execution_count": 118,
   "id": "54615e9d",
   "metadata": {},
   "outputs": [],
   "source": [
    "experiment.compute_equilibrium_price()\n",
    "\n",
    "experiment.trade_fungible_token()\n",
    "\n",
    "experiment.compute_feedback()"
   ]
  },
  {
   "cell_type": "code",
   "execution_count": 119,
   "id": "0a9a0177",
   "metadata": {},
   "outputs": [
    {
     "name": "stdout",
     "output_type": "stream",
     "text": [
      "agent 0 received feedback information and instruction for next round\n",
      "agent 1 received feedback information and instruction for next round\n",
      "agent 2 received feedback information and instruction for next round\n",
      "agent 3 received feedback information and instruction for next round\n",
      "agent 4 received feedback information and instruction for next round\n",
      "agent 5 received feedback information and instruction for next round\n",
      "agent 6 received feedback information and instruction for next round\n",
      "agent 7 received feedback information and instruction for next round\n",
      "agent 8 received feedback information and instruction for next round\n",
      "agent 9 received feedback information and instruction for next round\n"
     ]
    }
   ],
   "source": [
    "experiment.give_feedbacks()"
   ]
  },
  {
   "cell_type": "code",
   "execution_count": 120,
   "id": "27eeee5b",
   "metadata": {},
   "outputs": [],
   "source": [
    "FT_price_record.append(experiment.FT_price)\n",
    "total_investment_record.append(experiment.total_investment)\n",
    "FT_trade_volume_record.append(experiment.FT_trading_volume)\n",
    "bid_list_record.append(experiment.bid_list)\n",
    "ask_list_record.append(experiment.ask_list)"
   ]
  },
  {
   "cell_type": "code",
   "execution_count": 121,
   "id": "7dd5c7d4",
   "metadata": {},
   "outputs": [
    {
     "name": "stdout",
     "output_type": "stream",
     "text": [
      "agent 0 made decision for round 8\n",
      "agent 1 made decision for round 8\n",
      "agent 2 made decision for round 8\n",
      "agent 3 made decision for round 8\n",
      "agent 4 made decision for round 8\n",
      "agent 5 made decision for round 8\n",
      "agent 6 made decision for round 8\n",
      "agent 7 made decision for round 8\n",
      "agent 8 made decision for round 8\n",
      "agent 9 made decision for round 8\n",
      "decision by agent 0 is ready to be used for result computation\n",
      "decision by agent 1 is ready to be used for result computation\n",
      "decision by agent 2 is ready to be used for result computation\n",
      "decision by agent 3 is ready to be used for result computation\n",
      "decision by agent 4 is ready to be used for result computation\n",
      "decision by agent 5 is ready to be used for result computation\n",
      "decision by agent 6 is ready to be used for result computation\n",
      "decision by agent 7 is ready to be used for result computation\n",
      "decision by agent 8 is ready to be used for result computation\n",
      "decision by agent 9 is ready to be used for result computation\n"
     ]
    }
   ],
   "source": [
    "# Round8\n",
    "experiment.next_decision_round()"
   ]
  },
  {
   "cell_type": "code",
   "execution_count": 122,
   "id": "a1676db2",
   "metadata": {},
   "outputs": [],
   "source": [
    "experiment.compute_equilibrium_price()\n",
    "\n",
    "experiment.trade_fungible_token()\n",
    "\n",
    "experiment.compute_feedback()"
   ]
  },
  {
   "cell_type": "code",
   "execution_count": 123,
   "id": "bb9ff7cc",
   "metadata": {},
   "outputs": [
    {
     "name": "stdout",
     "output_type": "stream",
     "text": [
      "agent 0 received feedback information and instruction for next round\n",
      "agent 1 received feedback information and instruction for next round\n",
      "agent 2 received feedback information and instruction for next round\n",
      "agent 3 received feedback information and instruction for next round\n",
      "agent 4 received feedback information and instruction for next round\n",
      "agent 5 received feedback information and instruction for next round\n",
      "agent 6 received feedback information and instruction for next round\n",
      "agent 7 received feedback information and instruction for next round\n",
      "agent 8 received feedback information and instruction for next round\n",
      "agent 9 received feedback information and instruction for next round\n"
     ]
    }
   ],
   "source": [
    "experiment.give_feedbacks()"
   ]
  },
  {
   "cell_type": "code",
   "execution_count": 124,
   "id": "e5c43cc1",
   "metadata": {},
   "outputs": [],
   "source": [
    "FT_price_record.append(experiment.FT_price)\n",
    "total_investment_record.append(experiment.total_investment)\n",
    "FT_trade_volume_record.append(experiment.FT_trading_volume)\n",
    "bid_list_record.append(experiment.bid_list)\n",
    "ask_list_record.append(experiment.ask_list)"
   ]
  },
  {
   "cell_type": "code",
   "execution_count": 125,
   "id": "dc96a61a",
   "metadata": {},
   "outputs": [
    {
     "name": "stdout",
     "output_type": "stream",
     "text": [
      "agent 0 made decision for round 9\n",
      "agent 1 made decision for round 9\n",
      "agent 2 made decision for round 9\n"
     ]
    },
    {
     "ename": "APIError",
     "evalue": "The server had an error processing your request. Sorry about that! You can retry your request, or contact us through our help center at help.openai.com if you keep seeing this error. (Please include the request ID req_7fb7b4bc50f9df8bd281d2f798bf1140 in your email.)",
     "output_type": "error",
     "traceback": [
      "\u001b[0;31m---------------------------------------------------------------------------\u001b[0m",
      "\u001b[0;31mAPIError\u001b[0m                                  Traceback (most recent call last)",
      "Cell \u001b[0;32mIn[125], line 2\u001b[0m\n\u001b[1;32m      1\u001b[0m \u001b[38;5;66;03m# Round9\u001b[39;00m\n\u001b[0;32m----> 2\u001b[0m \u001b[43mexperiment\u001b[49m\u001b[38;5;241;43m.\u001b[39;49m\u001b[43mnext_decision_round\u001b[49m\u001b[43m(\u001b[49m\u001b[43m)\u001b[49m\n",
      "Cell \u001b[0;32mIn[88], line 189\u001b[0m, in \u001b[0;36mExperiment.next_decision_round\u001b[0;34m(self)\u001b[0m\n\u001b[1;32m    187\u001b[0m \u001b[38;5;28;01mdef\u001b[39;00m \u001b[38;5;21mnext_decision_round\u001b[39m(\u001b[38;5;28mself\u001b[39m):\n\u001b[1;32m    188\u001b[0m     \u001b[38;5;28;01mfor\u001b[39;00m agent \u001b[38;5;129;01min\u001b[39;00m \u001b[38;5;28mself\u001b[39m\u001b[38;5;241m.\u001b[39magent_list:\n\u001b[0;32m--> 189\u001b[0m         \u001b[43magent\u001b[49m\u001b[38;5;241;43m.\u001b[39;49m\u001b[43mmake_decision\u001b[49m\u001b[43m(\u001b[49m\u001b[43m)\u001b[49m\n\u001b[1;32m    190\u001b[0m         \u001b[38;5;28mprint\u001b[39m(\u001b[38;5;124mf\u001b[39m\u001b[38;5;124m\"\u001b[39m\u001b[38;5;124magent \u001b[39m\u001b[38;5;132;01m{\u001b[39;00magent\u001b[38;5;241m.\u001b[39magent_id\u001b[38;5;132;01m}\u001b[39;00m\u001b[38;5;124m made decision for round \u001b[39m\u001b[38;5;132;01m{\u001b[39;00m\u001b[38;5;28mself\u001b[39m\u001b[38;5;241m.\u001b[39mround\u001b[38;5;250m \u001b[39m\u001b[38;5;241m+\u001b[39m\u001b[38;5;250m \u001b[39m\u001b[38;5;241m1\u001b[39m\u001b[38;5;132;01m}\u001b[39;00m\u001b[38;5;124m\"\u001b[39m)\n\u001b[1;32m    191\u001b[0m     \u001b[38;5;28mself\u001b[39m\u001b[38;5;241m.\u001b[39mround \u001b[38;5;241m+\u001b[39m\u001b[38;5;241m=\u001b[39m \u001b[38;5;241m1\u001b[39m\n",
      "Cell \u001b[0;32mIn[87], line 53\u001b[0m, in \u001b[0;36mAgent.make_decision\u001b[0;34m(self)\u001b[0m\n\u001b[1;32m     48\u001b[0m \u001b[38;5;28;01mdef\u001b[39;00m \u001b[38;5;21mmake_decision\u001b[39m(\u001b[38;5;28mself\u001b[39m):\n\u001b[1;32m     49\u001b[0m     \u001b[38;5;28;01mwith\u001b[39;00m \u001b[38;5;28mself\u001b[39m\u001b[38;5;241m.\u001b[39mclient\u001b[38;5;241m.\u001b[39mbeta\u001b[38;5;241m.\u001b[39mthreads\u001b[38;5;241m.\u001b[39mruns\u001b[38;5;241m.\u001b[39mstream(\n\u001b[1;32m     50\u001b[0m         thread_id\u001b[38;5;241m=\u001b[39m\u001b[38;5;28mself\u001b[39m\u001b[38;5;241m.\u001b[39mthread\u001b[38;5;241m.\u001b[39mid,\n\u001b[1;32m     51\u001b[0m         assistant_id\u001b[38;5;241m=\u001b[39m\u001b[38;5;28mself\u001b[39m\u001b[38;5;241m.\u001b[39mmodel_id\n\u001b[1;32m     52\u001b[0m     ) \u001b[38;5;28;01mas\u001b[39;00m \u001b[38;5;28mself\u001b[39m\u001b[38;5;241m.\u001b[39mstream:\n\u001b[0;32m---> 53\u001b[0m         \u001b[38;5;28;43mself\u001b[39;49m\u001b[38;5;241;43m.\u001b[39;49m\u001b[43mstream\u001b[49m\u001b[38;5;241;43m.\u001b[39;49m\u001b[43muntil_done\u001b[49m\u001b[43m(\u001b[49m\u001b[43m)\u001b[49m\n\u001b[1;32m     55\u001b[0m     \u001b[38;5;28mself\u001b[39m\u001b[38;5;241m.\u001b[39mconversation \u001b[38;5;241m=\u001b[39m \u001b[38;5;28mself\u001b[39m\u001b[38;5;241m.\u001b[39mclient\u001b[38;5;241m.\u001b[39mbeta\u001b[38;5;241m.\u001b[39mthreads\u001b[38;5;241m.\u001b[39mmessages\u001b[38;5;241m.\u001b[39mlist(\n\u001b[1;32m     56\u001b[0m         thread_id\u001b[38;5;241m=\u001b[39m\u001b[38;5;28mself\u001b[39m\u001b[38;5;241m.\u001b[39mthread\u001b[38;5;241m.\u001b[39mid,\n\u001b[1;32m     57\u001b[0m         order\u001b[38;5;241m=\u001b[39m\u001b[38;5;124m\"\u001b[39m\u001b[38;5;124masc\u001b[39m\u001b[38;5;124m\"\u001b[39m\n\u001b[1;32m     58\u001b[0m     )\n\u001b[1;32m     60\u001b[0m     \u001b[38;5;28mself\u001b[39m\u001b[38;5;241m.\u001b[39mdecision \u001b[38;5;241m=\u001b[39m \u001b[38;5;28mself\u001b[39m\u001b[38;5;241m.\u001b[39mconversation\u001b[38;5;241m.\u001b[39mdata[\u001b[38;5;241m-\u001b[39m\u001b[38;5;241m1\u001b[39m]\u001b[38;5;241m.\u001b[39mcontent[\u001b[38;5;241m0\u001b[39m]\u001b[38;5;241m.\u001b[39mtext\u001b[38;5;241m.\u001b[39mvalue\n",
      "File \u001b[0;32m~/opt/anaconda3/envs/zemi/lib/python3.9/site-packages/openai/lib/streaming/_assistants.py:102\u001b[0m, in \u001b[0;36mAssistantEventHandler.until_done\u001b[0;34m(self)\u001b[0m\n\u001b[1;32m    100\u001b[0m \u001b[38;5;28;01mdef\u001b[39;00m \u001b[38;5;21muntil_done\u001b[39m(\u001b[38;5;28mself\u001b[39m) \u001b[38;5;241m-\u001b[39m\u001b[38;5;241m>\u001b[39m \u001b[38;5;28;01mNone\u001b[39;00m:\n\u001b[1;32m    101\u001b[0m \u001b[38;5;250m    \u001b[39m\u001b[38;5;124;03m\"\"\"Waits until the stream has been consumed\"\"\"\u001b[39;00m\n\u001b[0;32m--> 102\u001b[0m     \u001b[43mconsume_sync_iterator\u001b[49m\u001b[43m(\u001b[49m\u001b[38;5;28;43mself\u001b[39;49m\u001b[43m)\u001b[49m\n",
      "File \u001b[0;32m~/opt/anaconda3/envs/zemi/lib/python3.9/site-packages/openai/_utils/_streams.py:6\u001b[0m, in \u001b[0;36mconsume_sync_iterator\u001b[0;34m(iterator)\u001b[0m\n\u001b[1;32m      5\u001b[0m \u001b[38;5;28;01mdef\u001b[39;00m \u001b[38;5;21mconsume_sync_iterator\u001b[39m(iterator: Iterator[Any]) \u001b[38;5;241m-\u001b[39m\u001b[38;5;241m>\u001b[39m \u001b[38;5;28;01mNone\u001b[39;00m:\n\u001b[0;32m----> 6\u001b[0m     \u001b[38;5;28;01mfor\u001b[39;00m _ \u001b[38;5;129;01min\u001b[39;00m iterator:\n\u001b[1;32m      7\u001b[0m         \u001b[38;5;241m.\u001b[39m\u001b[38;5;241m.\u001b[39m\u001b[38;5;241m.\u001b[39m\n",
      "File \u001b[0;32m~/opt/anaconda3/envs/zemi/lib/python3.9/site-packages/openai/lib/streaming/_assistants.py:69\u001b[0m, in \u001b[0;36mAssistantEventHandler.__iter__\u001b[0;34m(self)\u001b[0m\n\u001b[1;32m     68\u001b[0m \u001b[38;5;28;01mdef\u001b[39;00m \u001b[38;5;21m__iter__\u001b[39m(\u001b[38;5;28mself\u001b[39m) \u001b[38;5;241m-\u001b[39m\u001b[38;5;241m>\u001b[39m Iterator[AssistantStreamEvent]:\n\u001b[0;32m---> 69\u001b[0m     \u001b[38;5;28;01mfor\u001b[39;00m item \u001b[38;5;129;01min\u001b[39;00m \u001b[38;5;28mself\u001b[39m\u001b[38;5;241m.\u001b[39m_iterator:\n\u001b[1;32m     70\u001b[0m         \u001b[38;5;28;01myield\u001b[39;00m item\n",
      "File \u001b[0;32m~/opt/anaconda3/envs/zemi/lib/python3.9/site-packages/openai/lib/streaming/_assistants.py:405\u001b[0m, in \u001b[0;36mAssistantEventHandler.__stream__\u001b[0;34m(self)\u001b[0m\n\u001b[1;32m    402\u001b[0m     \u001b[38;5;28;01mraise\u001b[39;00m \u001b[38;5;167;01mRuntimeError\u001b[39;00m(\u001b[38;5;124m\"\u001b[39m\u001b[38;5;124mStream has not been started yet\u001b[39m\u001b[38;5;124m\"\u001b[39m)\n\u001b[1;32m    404\u001b[0m \u001b[38;5;28;01mtry\u001b[39;00m:\n\u001b[0;32m--> 405\u001b[0m     \u001b[38;5;28;01mfor\u001b[39;00m event \u001b[38;5;129;01min\u001b[39;00m stream:\n\u001b[1;32m    406\u001b[0m         \u001b[38;5;28mself\u001b[39m\u001b[38;5;241m.\u001b[39m_emit_sse_event(event)\n\u001b[1;32m    408\u001b[0m         \u001b[38;5;28;01myield\u001b[39;00m event\n",
      "File \u001b[0;32m~/opt/anaconda3/envs/zemi/lib/python3.9/site-packages/openai/_streaming.py:46\u001b[0m, in \u001b[0;36mStream.__iter__\u001b[0;34m(self)\u001b[0m\n\u001b[1;32m     45\u001b[0m \u001b[38;5;28;01mdef\u001b[39;00m \u001b[38;5;21m__iter__\u001b[39m(\u001b[38;5;28mself\u001b[39m) \u001b[38;5;241m-\u001b[39m\u001b[38;5;241m>\u001b[39m Iterator[_T]:\n\u001b[0;32m---> 46\u001b[0m     \u001b[38;5;28;01mfor\u001b[39;00m item \u001b[38;5;129;01min\u001b[39;00m \u001b[38;5;28mself\u001b[39m\u001b[38;5;241m.\u001b[39m_iterator:\n\u001b[1;32m     47\u001b[0m         \u001b[38;5;28;01myield\u001b[39;00m item\n",
      "File \u001b[0;32m~/opt/anaconda3/envs/zemi/lib/python3.9/site-packages/openai/_streaming.py:91\u001b[0m, in \u001b[0;36mStream.__stream__\u001b[0;34m(self)\u001b[0m\n\u001b[1;32m     88\u001b[0m             \u001b[38;5;28;01mif\u001b[39;00m \u001b[38;5;129;01mnot\u001b[39;00m message \u001b[38;5;129;01mor\u001b[39;00m \u001b[38;5;129;01mnot\u001b[39;00m \u001b[38;5;28misinstance\u001b[39m(message, \u001b[38;5;28mstr\u001b[39m):\n\u001b[1;32m     89\u001b[0m                 message \u001b[38;5;241m=\u001b[39m \u001b[38;5;124m\"\u001b[39m\u001b[38;5;124mAn error occurred during streaming\u001b[39m\u001b[38;5;124m\"\u001b[39m\n\u001b[0;32m---> 91\u001b[0m             \u001b[38;5;28;01mraise\u001b[39;00m APIError(\n\u001b[1;32m     92\u001b[0m                 message\u001b[38;5;241m=\u001b[39mmessage,\n\u001b[1;32m     93\u001b[0m                 request\u001b[38;5;241m=\u001b[39m\u001b[38;5;28mself\u001b[39m\u001b[38;5;241m.\u001b[39mresponse\u001b[38;5;241m.\u001b[39mrequest,\n\u001b[1;32m     94\u001b[0m                 body\u001b[38;5;241m=\u001b[39mdata[\u001b[38;5;124m\"\u001b[39m\u001b[38;5;124merror\u001b[39m\u001b[38;5;124m\"\u001b[39m],\n\u001b[1;32m     95\u001b[0m             )\n\u001b[1;32m     97\u001b[0m         \u001b[38;5;28;01myield\u001b[39;00m process_data(data\u001b[38;5;241m=\u001b[39m{\u001b[38;5;124m\"\u001b[39m\u001b[38;5;124mdata\u001b[39m\u001b[38;5;124m\"\u001b[39m: data, \u001b[38;5;124m\"\u001b[39m\u001b[38;5;124mevent\u001b[39m\u001b[38;5;124m\"\u001b[39m: sse\u001b[38;5;241m.\u001b[39mevent}, cast_to\u001b[38;5;241m=\u001b[39mcast_to, response\u001b[38;5;241m=\u001b[39mresponse)\n\u001b[1;32m     99\u001b[0m \u001b[38;5;66;03m# Ensure the entire stream is consumed\u001b[39;00m\n",
      "\u001b[0;31mAPIError\u001b[0m: The server had an error processing your request. Sorry about that! You can retry your request, or contact us through our help center at help.openai.com if you keep seeing this error. (Please include the request ID req_7fb7b4bc50f9df8bd281d2f798bf1140 in your email.)"
     ]
    }
   ],
   "source": [
    "# Round9\n",
    "experiment.next_decision_round()"
   ]
  },
  {
   "cell_type": "code",
   "execution_count": 140,
   "id": "632c6da2",
   "metadata": {},
   "outputs": [],
   "source": [
    "experiment.agent_list[3].make_decision()"
   ]
  },
  {
   "cell_type": "code",
   "execution_count": 142,
   "id": "dcdc1b3a",
   "metadata": {},
   "outputs": [
    {
     "data": {
      "text/plain": [
       "{'NFT_investment': [1, 0, 1, 0, 1, 0, 1, 0],\n",
       " 'bid_amount': [10, 5, 10, 5, 10, 5, 10, 5],\n",
       " 'bid_price': [4, 6, 5, 7, 8, 9, 10, 11],\n",
       " 'ask_amount': [0, 0, 0, 0, 0, 0, 0, 0],\n",
       " 'ask_price': [0, 0, 0, 0, 0, 0, 0, 0],\n",
       " 'anticipated_price': [5, 5, 6, 7, 8, 9, 10, 11],\n",
       " 'anticipated_payoff': [55, 0, 155, 0, 155, 0, 450, 0],\n",
       " 'anticipated_investment': [60, 30, 60, 35, 80, 45, 100, 55],\n",
       " 'reason': ['I decided to invest in the NFT to improve human capital and potentially receive a private NFT return. I also bid for 10 DAO fungible tokens at a price of 4, as I believe it has utility value and potential for profit in the future rounds.',\n",
       "  'I chose not to invest in NFT this round to diversify my investments. I decided to bid for 5 DAO fungible tokens at a price of 6, considering the utility value and potential profit in future rounds.',\n",
       "  'I decided to invest in NFT again to contribute to human capital improvement and potentially receive a private NFT return. Additionally, I bid for 10 DAO fungible tokens at a price of 5, considering the utility value and potential profit.',\n",
       "  'I opted not to invest in NFT this round to diversify my portfolio. I decided to bid for 5 DAO fungible tokens at a price of 7, considering the utility value and potential future gains.',\n",
       "  'I chose to invest in NFT again to contribute to human capital improvement and potentially receive a private NFT return. Additionally, I bid for 10 DAO fungible tokens at a price of 8, considering the utility value and potential profit in future rounds.',\n",
       "  'I decided not to invest in NFT this round to diversify my investments. I chose to bid for 5 DAO fungible tokens at a price of 9, considering the utility value and potential future gains in the DAO token.',\n",
       "  'I decided to invest in NFT to contribute to human capital improvement and potentially receive a private NFT return. Additionally, I bid for 10 DAO fungible tokens at a price of 10, considering the utility value and potential profit in future rounds.',\n",
       "  'I chose not to invest in NFT this round to diversify my investments. I decided to bid for 5 DAO fungible tokens at a price of 11, considering the utility value and potential future gains in the DAO token.']}"
      ]
     },
     "execution_count": 142,
     "metadata": {},
     "output_type": "execute_result"
    }
   ],
   "source": [
    "experiment.agent_list[3].decision_record"
   ]
  },
  {
   "cell_type": "code",
   "execution_count": null,
   "id": "bb15eb40",
   "metadata": {},
   "outputs": [],
   "source": [
    "experiment.compute_equilibrium_price()\n",
    "\n",
    "experiment.trade_fungible_token()\n",
    "\n",
    "experiment.compute_feedback()"
   ]
  },
  {
   "cell_type": "code",
   "execution_count": null,
   "id": "d9edd4bd",
   "metadata": {},
   "outputs": [],
   "source": [
    "experiment.give_feedbacks()"
   ]
  },
  {
   "cell_type": "code",
   "execution_count": null,
   "id": "c5d22084",
   "metadata": {},
   "outputs": [],
   "source": [
    "FT_price_record.append(experiment.FT_price)\n",
    "total_investment_record.append(experiment.total_investment)\n",
    "FT_trade_volume_record.append(experiment.FT_trading_volume)\n",
    "bid_list_record.append(experiment.bid_list)\n",
    "ask_list_record.append(experiment.ask_list)"
   ]
  },
  {
   "cell_type": "code",
   "execution_count": null,
   "id": "06d93a14",
   "metadata": {},
   "outputs": [],
   "source": [
    "# Round10\n",
    "experiment.next_decision_round()"
   ]
  },
  {
   "cell_type": "code",
   "execution_count": null,
   "id": "892daab1",
   "metadata": {},
   "outputs": [],
   "source": [
    "experiment.compute_equilibrium_price()\n",
    "\n",
    "experiment.trade_fungible_token()\n",
    "\n",
    "experiment.compute_feedback()"
   ]
  },
  {
   "cell_type": "code",
   "execution_count": null,
   "id": "bdbf560e",
   "metadata": {},
   "outputs": [],
   "source": [
    "experiment.give_feedbacks()"
   ]
  },
  {
   "cell_type": "code",
   "execution_count": null,
   "id": "0bbc1992",
   "metadata": {},
   "outputs": [],
   "source": [
    "FT_price_record.append(experiment.FT_price)\n",
    "total_investment_record.append(experiment.total_investment)\n",
    "FT_trade_volume_record.append(experiment.FT_trading_volume)\n",
    "bid_list_record.append(experiment.bid_list)\n",
    "ask_list_record.append(experiment.ask_list)"
   ]
  },
  {
   "cell_type": "code",
   "execution_count": 163,
   "id": "83a2759a",
   "metadata": {},
   "outputs": [
    {
     "data": {
      "text/plain": [
       "[5, 6, 7, 8, 9, 10, 11, 12]"
      ]
     },
     "execution_count": 163,
     "metadata": {},
     "output_type": "execute_result"
    }
   ],
   "source": [
    "FT_price_record"
   ]
  },
  {
   "cell_type": "code",
   "execution_count": 164,
   "id": "0a0a92bb",
   "metadata": {},
   "outputs": [
    {
     "data": {
      "text/plain": [
       "[500, 0, 500, 0, 500, 0, 500, 0]"
      ]
     },
     "execution_count": 164,
     "metadata": {},
     "output_type": "execute_result"
    }
   ],
   "source": [
    "total_investment_record"
   ]
  },
  {
   "cell_type": "markdown",
   "id": "7558304c",
   "metadata": {},
   "source": [
    "## Record Results"
   ]
  },
  {
   "cell_type": "code",
   "execution_count": 156,
   "id": "69a7536d",
   "metadata": {},
   "outputs": [],
   "source": [
    "conversation_record = []\n",
    "for agent in experiment.agent_list:\n",
    "    conversation_record.append(agent.get_conversation())"
   ]
  },
  {
   "cell_type": "code",
   "execution_count": 157,
   "id": "d7e3c470",
   "metadata": {},
   "outputs": [],
   "source": [
    "decision_record = []\n",
    "for agent in experiment.agent_list:\n",
    "    decision_record.append(agent.decision_record)"
   ]
  },
  {
   "cell_type": "code",
   "execution_count": 158,
   "id": "4a323a5c",
   "metadata": {},
   "outputs": [],
   "source": [
    "payoff_record = []\n",
    "for agent in experiment.agent_list:\n",
    "    payoff_record.append(agent.payoff_record)"
   ]
  },
  {
   "cell_type": "code",
   "execution_count": 159,
   "id": "4569dcc5",
   "metadata": {},
   "outputs": [],
   "source": [
    "FT_holdings_record = []\n",
    "for agent in experiment.agent_list:\n",
    "    FT_holdings_record.append(agent.FT_holdings)"
   ]
  },
  {
   "cell_type": "code",
   "execution_count": 161,
   "id": "845e979d",
   "metadata": {},
   "outputs": [],
   "source": [
    "pickle.dump([experiment_config, FT_price_record, total_investment_record, FT_trade_volume_record, bid_list_record, ask_list_record, conversation_record, decision_record, payoff_record, FT_holdings_record], open(f\"gpt3.5turbo_experiment_result_{datetime.now()}.pickle\", 'wb'))\n"
   ]
  },
  {
   "cell_type": "markdown",
   "id": "751a700d",
   "metadata": {},
   "source": [
    "## End Experiment"
   ]
  },
  {
   "cell_type": "code",
   "execution_count": 82,
   "id": "8680cc6c",
   "metadata": {},
   "outputs": [
    {
     "name": "stdout",
     "output_type": "stream",
     "text": [
      "agent 0 left the experiment\n",
      "agent 1 left the experiment\n",
      "agent 2 left the experiment\n",
      "agent 3 left the experiment\n",
      "agent 4 left the experiment\n",
      "agent 5 left the experiment\n",
      "agent 6 left the experiment\n",
      "agent 7 left the experiment\n",
      "agent 8 left the experiment\n",
      "agent 9 left the experiment\n"
     ]
    }
   ],
   "source": [
    "experiment.end()"
   ]
  },
  {
   "cell_type": "code",
   "execution_count": null,
   "id": "1a0ebdf8",
   "metadata": {},
   "outputs": [],
   "source": []
  }
 ],
 "metadata": {
  "kernelspec": {
   "display_name": "Python 3 (ipykernel)",
   "language": "python",
   "name": "python3"
  },
  "language_info": {
   "codemirror_mode": {
    "name": "ipython",
    "version": 3
   },
   "file_extension": ".py",
   "mimetype": "text/x-python",
   "name": "python",
   "nbconvert_exporter": "python",
   "pygments_lexer": "ipython3",
   "version": "3.9.16"
  }
 },
 "nbformat": 4,
 "nbformat_minor": 5
}
