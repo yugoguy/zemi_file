{
 "cells": [
  {
   "cell_type": "markdown",
   "id": "bbbd2f1f",
   "metadata": {},
   "source": [
    "# Preparation"
   ]
  },
  {
   "cell_type": "code",
   "execution_count": 1,
   "id": "5b3c6f5c",
   "metadata": {},
   "outputs": [],
   "source": [
    "API=\"\""
   ]
  },
  {
   "cell_type": "code",
   "execution_count": 2,
   "id": "8a805133",
   "metadata": {},
   "outputs": [],
   "source": [
    "agent_key=\"asst_0WcSXzJ0s77wYneo7SGYwPCw\" #gpt4"
   ]
  },
  {
   "cell_type": "code",
   "execution_count": 3,
   "id": "0c7af5d4",
   "metadata": {},
   "outputs": [],
   "source": [
    "gpt35turbo_key = \"asst_FKCItAtYldMP3Ii0eGOdxQ2H\""
   ]
  },
  {
   "cell_type": "code",
   "execution_count": 4,
   "id": "54b22bf1",
   "metadata": {},
   "outputs": [],
   "source": [
    "gpt4o_key = \"asst_ehEgDBi1jPAL10I7vbAPdUrG\""
   ]
  },
  {
   "cell_type": "code",
   "execution_count": 31,
   "id": "15d46d11",
   "metadata": {},
   "outputs": [],
   "source": [
    "import openai\n",
    "from openai import OpenAI\n",
    "import pandas as pd\n",
    "import numpy as np\n",
    "import pickle\n",
    "import requests\n",
    "import re\n",
    "from datetime import datetime\n",
    "import matplotlib.pyplot as plt\n",
    "import warnings\n",
    "warnings.filterwarnings(\"ignore\")\n",
    "\n",
    "def create_minute_gap():\n",
    "    print(\"creating minute gap to avoid TPM limit error...\") \n",
    "    counter = 0\n",
    "    while counter < 1000000000:\n",
    "        counter += 1"
   ]
  },
  {
   "cell_type": "markdown",
   "id": "3c2254c0",
   "metadata": {},
   "source": [
    "# Class & Functions"
   ]
  },
  {
   "cell_type": "code",
   "execution_count": 53,
   "id": "58f23f99",
   "metadata": {},
   "outputs": [],
   "source": [
    "class Agent():\n",
    "    def __init__(self, client, agent_id, model_id=\"asst_ehEgDBi1jPAL10I7vbAPdUrG\"):\n",
    "        self.model_id = model_id\n",
    "        self.agent_id = agent_id\n",
    "        self.decision_round = 0\n",
    "        self.client = client\n",
    "        self.decision_record = {\n",
    "            \"NFT_investment\": [],\n",
    "            \"bid_amount\": [],\n",
    "            \"bid_price\": [],\n",
    "            \"ask_amount\": [],\n",
    "            \"ask_price\": [],\n",
    "            \"anticipated_price\": [],\n",
    "            \"anticipated_payoff\": [],\n",
    "            \"anticipated_investment\": [],\n",
    "            \"reason\": []\n",
    "        }\n",
    "        self.processed_decision = dict()\n",
    "        \n",
    "        self.payoff_record = []\n",
    "        self.feedback = dict()\n",
    "        self.cumulative_payoff = 0\n",
    "        \n",
    "        self.FT_holdings = 0\n",
    "        self.FT_bought_amount = 0\n",
    "        self.FT_sold_amount = 0\n",
    "        \n",
    "    def create_conversation(self):\n",
    "        self.thread = self.client.beta.threads.create()\n",
    "        \n",
    "    \n",
    "    def receive_feedback(self):\n",
    "        self.message = self.client.beta.threads.messages.create(\n",
    "            thread_id=self.thread.id,\n",
    "            role=\"user\",\n",
    "            content=self.feedback_text\n",
    "        )\n",
    "        \n",
    "        \n",
    "    def get_conversation(self):\n",
    "        self.conversation_list=[]\n",
    "        for text in self.conversation:\n",
    "            text = text.content[0].text.value\n",
    "            self.conversation_list.append(text)\n",
    "        return self.conversation_list\n",
    "    \n",
    "        \n",
    "    def make_decision(self):\n",
    "        with self.client.beta.threads.runs.stream(\n",
    "            thread_id=self.thread.id,\n",
    "            assistant_id=self.model_id\n",
    "        ) as self.stream:\n",
    "            self.stream.until_done()\n",
    "            \n",
    "        self.conversation = self.client.beta.threads.messages.list(\n",
    "            thread_id=self.thread.id,\n",
    "            order=\"asc\"\n",
    "        )\n",
    "        \n",
    "        self.decision = self.conversation.data[-1].content[0].text.value\n",
    "        \n",
    "        self.decision_round += 1\n",
    "        \n",
    "        \n",
    "    def end_experiment(self):\n",
    "        self.client.beta.threads.delete(thread_id=self.thread.id)\n",
    "        \n",
    "        \n",
    "    def create_feedback(self): \n",
    "        NFT_reward = self.experiment_config[\"amount of NFT return\"] if self.feedback[\"NFT succeed\"] else 0\n",
    "        NFT_buying_cost = self.experiment_config[\"NFT price\"] if (self.processed_decision[\"NFT_investment\"]==1) else 0\n",
    "        utility_value = self.experiment_config[\"utility value of FT\"]*self.feedback[\"FT_holdings\"]\n",
    "        governance_value = self.feedback[\"FT_holdings\"] * (self.experiment_config[\"DAO FCF\"] + (self.feedback[\"total investment\"] * 0.1)) / self.experiment_config[\"FT supply\"]\n",
    "        FT_holdings_value = self.feedback[\"FT_holdings\"] * self.feedback[\"FT price\"]\n",
    "        remaining_endowment = self.experiment_config[\"cash endowment\"] - self.experiment_config[\"NFT price\"] - (self.feedback[\"FT price\"]*self.feedback[\"FT bought amount\"])\n",
    "        FT_buying_cost = self.feedback[\"FT bought amount\"] * self.feedback[\"FT price\"]\n",
    "        round_payoff = (NFT_reward*0.5) - NFT_buying_cost + self.feedback[\"public return\"] + utility_value + governance_value + FT_holdings_value + remaining_endowment - FT_buying_cost + self.feedback[\"FT selling revenue\"]\n",
    "        payoff_to_carry_over = (NFT_reward*0.5) - NFT_buying_cost + self.feedback[\"public return\"] + remaining_endowment - FT_buying_cost + self.feedback[\"FT selling revenue\"]\n",
    "        round_cumulative_payoff = self.cumulative_payoff + round_payoff - payoff_to_carry_over\n",
    "        self.cumulative_payoff += payoff_to_carry_over\n",
    "        self.payoff_record.append(round_payoff)\n",
    "        \n",
    "        self.FT_holdings = self.feedback[\"FT_holdings\"]\n",
    "        \n",
    "        self.feedback_text = f\"\"\"Feedback from the previous round (Round {self.decision_round}):\n",
    "        Your payoff information from round {self.decision_round}:\n",
    "        You paid {NFT_buying_cost} to invest in human capital by buying NFT.\n",
    "        You received a private NFT return of {NFT_reward}. 50% of this was used to buy DAO fungible token, so you received 50% of this return in th form of DAO fungible tokens. If you have invested in NFT and received 0, then you failed to receive the private NFT return this round.\n",
    "        You received a return from human capital investment of {self.feedback[\"public return\"]} as a result of all players' investment.\n",
    "        You were able to buy {self.feedback[\"FT bought amount\"]} DAO fungible tokens.\n",
    "        You were able to sell {self.feedback[\"FT sold amount\"]} DAO fungible tokens.\n",
    "        You paid {FT_buying_cost} to buy DAO fungible tokens.\n",
    "        You received {self.feedback[\"FT selling revenue\"]} from selling DAO fungible tokens.\n",
    "        Market value of your DAO fungible token holding after trading in round {self.decision_round} is {FT_holdings_value}.\n",
    "        You have remaining cash endowment of {remaining_endowment}.\n",
    "        Your DAO fungible token holdings have a utility value of {utility_value} and governance value of {governance_value}.\n",
    "        In total, you received a payoff of {round_payoff} this round.\n",
    "        Your cumulative payoff until this round is {round_cumulative_payoff}.\n",
    "        \n",
    "        Market price of DAO fungible token at the end of the round is {self.feedback[\"FT price\"]}.\n",
    "        Trading volume of DAO fungible token is {self.feedback[\"FT trade volume\"]}.\n",
    "        \n",
    "        Total investment made this round was {self.feedback[\"total investment\"]}.\n",
    "        Your investment had {self.feedback[\"impact\"]}% impact on the aggregate improvement in the human capital.\n",
    "        \n",
    "        Moving on to the next round, \n",
    "        You are endowed with {self.experiment_config[\"cash endowment\"]} cash. This is your new cash endowment, and the remaining cash from the previous rounds cannot be used in the following rounds.\n",
    "        At the end of round {self.decision_round}, you are owning {self.feedback[\"FT_holdings\"]}.\n",
    "        \n",
    "        Round {self.decision_round + 1}\n",
    "        Now, make decision for the round {self.decision_round + 1}\n",
    "        Reminder: remember the details of the experiment provided in the instruction.\n",
    "        Reminder: decision prompt must be in the below format (strict. no other text is allowed. replace [int] and [string] with your decision.):\n",
    "        NFT investment: [int] DAO fungible token bid amount: [int] DAO fungible token bid price: [int] DAO fungible token ask amount: [int] DAO fungible token ask price: [int] DAO fungible token anticipated price: [int] Anticipated payoff: [int] Anticipated total investment: [int] Short explanation on the reasons for the decisions: [string]\n",
    "        \"\"\"\n",
    "        self.FT_bought_amount = 0\n",
    "        self.FT_sold_amount = 0\n",
    "        \n",
    "    \n",
    "    def start_experiment(self, experiment_config):\n",
    "        self.experiment_config = experiment_config\n",
    "        \n",
    "        self.experiment_starting_message = f\"\"\"Experiment setting:\n",
    "        price of NFT = {experiment_config[\"NFT price\"]}\n",
    "        cash endowment = {experiment_config[\"cash endowment\"]}\n",
    "        initial DAO fungible token endowment = {experiment_config[\"FT endowment\"]}\n",
    "        free cash flow that DAO platform earn, not including the revenue from NFT sales commission = {experiment_config[\"DAO FCF\"]}\n",
    "        number of players in the game = {experiment_config[\"Number of investors\"]}\n",
    "        total supply of DAO fungible token = {experiment_config[\"FT supply\"]}\n",
    "        probability for private NFT return = {experiment_config[\"probability of NFT return\"]}\n",
    "        amount of private NFT return, if succeeded in obtaining it = {experiment_config[\"amount of NFT return\"]}\n",
    "        utility value per DAO fungible token = {experiment_config[\"utility value of FT\"]}\n",
    "        function defining the social return from human capital investment = {experiment_config[\"human capital impact function\"]}\n",
    "\n",
    "        Round 1\n",
    "        Now, make decision for the first round\n",
    "        Reminder: remember the details of the experiment provided in the instruction.\n",
    "        Reminder: decision prompt must be in the below format (strict. no other text is allowed. replace [int] and [string] with your decision.):\n",
    "        NFT investment: [int] DAO fungible token bid amount: [int] DAO fungible token bid price: [int] DAO fungible token ask amount: [int] DAO fungible token ask price: [int] DAO fungible token anticipated price: [int] Anticipated payoff: [int] Anticipated total investment: [int] Short explanation on the reasons for the decisions: [string]\n",
    "        \"\"\"\n",
    "        \n",
    "        self.FT_holdings = experiment_config[\"FT endowment\"]\n",
    "        \n",
    "        self.message = self.client.beta.threads.messages.create(\n",
    "            thread_id=self.thread.id,\n",
    "            role=\"user\",\n",
    "            content=self.experiment_starting_message\n",
    "        )\n",
    "        \n",
    "    def process_decision(self):\n",
    "        self.decision = self.decision.replace(\"\\n\", \" \")\n",
    "        NFT_investment_text = self.decision.split(\"NFT investment: \")[1].split(\" DAO fungible token bid amount: \")\n",
    "        NFT_investment = float(NFT_investment_text[0])\n",
    "        self.decision_record[\"NFT_investment\"].append(NFT_investment)\n",
    "        \n",
    "        bid_amount_text = NFT_investment_text[1].split(\" DAO fungible token bid price: \")\n",
    "        bid_amount = int(np.floor(float(bid_amount_text[0])))\n",
    "        self.decision_record[\"bid_amount\"].append(bid_amount)\n",
    "        \n",
    "        bid_price_text = bid_amount_text[1].split(\" DAO fungible token ask amount: \")\n",
    "        bid_price = float(bid_price_text[0])\n",
    "        self.decision_record[\"bid_price\"].append(bid_price)\n",
    "        \n",
    "        ask_amount_text = bid_price_text[1].split(\" DAO fungible token ask price: \")\n",
    "        ask_amount = int(np.floor(float(ask_amount_text[0])))\n",
    "        self.decision_record[\"ask_amount\"].append(ask_amount)\n",
    "        \n",
    "        ask_price_text = ask_amount_text[1].split(\" DAO fungible token anticipated price: \")\n",
    "        ask_price = float(ask_price_text[0])\n",
    "        self.decision_record[\"ask_price\"].append(ask_price)\n",
    "        \n",
    "        anticipated_price_text = ask_price_text[1].split(\" Anticipated payoff: \")\n",
    "        anticipated_price = float(anticipated_price_text[0])\n",
    "        self.decision_record[\"anticipated_price\"].append(anticipated_price)\n",
    "        \n",
    "        anticipated_payoff_text = anticipated_price_text[1].split(\" Anticipated total investment: \")\n",
    "        anticipated_payoff = float(anticipated_payoff_text[0])\n",
    "        self.decision_record[\"anticipated_payoff\"].append(anticipated_payoff)\n",
    "        \n",
    "        anticipated_investment_text = anticipated_payoff_text[1].split(\" Short explanation on the reasons for the decisions: \")\n",
    "        anticipated_investment = float(anticipated_investment_text[0])\n",
    "        self.decision_record[\"anticipated_investment\"].append(anticipated_investment)\n",
    "        \n",
    "        reason = anticipated_investment_text[1]\n",
    "        self.decision_record[\"reason\"].append(reason)\n",
    "        \n",
    "        self.processed_decision = {\n",
    "            \"NFT_investment\": NFT_investment,\n",
    "            \"bid_amount\": bid_amount,\n",
    "            \"bid_price\": bid_price,\n",
    "            \"ask_amount\": ask_amount,\n",
    "            \"ask_price\": ask_price,\n",
    "            \"anticipated_price\": anticipated_price,\n",
    "            \"anticipated_payoff\": anticipated_payoff,\n",
    "            \"anticipated_investment\": anticipated_investment,\n",
    "            \"reason\": reason\n",
    "        }\n",
    "        \n",
    "        \n",
    "        "
   ]
  },
  {
   "cell_type": "code",
   "execution_count": 54,
   "id": "030ce3a6",
   "metadata": {},
   "outputs": [],
   "source": [
    "class Experiment():\n",
    "    def __init__(self, client, experiment_config, public_good_function = lambda x: np.sqrt(x)):\n",
    "        self.experiment_config = experiment_config\n",
    "        self.client = client\n",
    "        \n",
    "        self.agent_list = []\n",
    "        for i in range(self.experiment_config[\"Number of investors\"]):\n",
    "            self.agent_list.append(Agent(self.client, agent_id=i))\n",
    "        \n",
    "        self.bid_list = []\n",
    "        self.ask_list = []\n",
    "        self.public_good_function = public_good_function\n",
    "        \n",
    "        self.FT_price = 10 #initial price of 10\n",
    "        self.FT_trading_volume = 0\n",
    "        self.total_investment = 0\n",
    "        self.round = 0\n",
    "\n",
    "    \n",
    "    def compute_equilibrium_price(self):\n",
    "        self.ask_list = []\n",
    "        for agent in self.agent_list:\n",
    "            for i in range(agent.processed_decision[\"ask_amount\"]):\n",
    "                self.ask_list.append(agent.processed_decision[\"ask_price\"])\n",
    "\n",
    "        self.bid_list = []\n",
    "        for agent in self.agent_list:\n",
    "            for i in range(agent.processed_decision[\"bid_amount\"]):\n",
    "                self.bid_list.append(agent.processed_decision[\"bid_price\"])\n",
    "\n",
    "        for agent in self.agent_list:\n",
    "            random_success = True if (np.random.uniform(0, 1) < self.experiment_config[\"probability of NFT return\"]) else False        \n",
    "            agent.feedback[\"NFT succeed\"] = random_success    \n",
    "            if random_success:\n",
    "                for i in range(int(np.floor((self.experiment_config[\"amount of NFT return\"]*0.5)/min(agent.processed_decision[\"bid_price\"], 1)))):\n",
    "                    self.bid_list.append(agent.processed_decision[\"bid_price\"])\n",
    "                \n",
    "        # Sort bid and ask lists\n",
    "        self.bid_list = sorted(self.bid_list, reverse=True)\n",
    "        self.ask_list = sorted(self.ask_list)\n",
    "        \n",
    "        bid_list = self.bid_list\n",
    "        ask_list = self.ask_list\n",
    "\n",
    "        ask_index = 0\n",
    "        equilibrium_price = 0\n",
    "        equilibrium_quantity = 0\n",
    "        found = False\n",
    "        \n",
    "        if (bid_list==[]) & (ask_list==[]):\n",
    "            self.FT_trading_volume = 0\n",
    "        \n",
    "        elif bid_list==[]: # if nobody bought\n",
    "            self.FT_price = min(ask_list) #reservation price\n",
    "            self.FT_trading_volume = 0\n",
    "            \n",
    "        elif ask_list==[]: # if nobody sold\n",
    "            self.FT_price = max(bid_list) #price that it could be sold\n",
    "            self.FT_trading_volume = 0\n",
    "\n",
    "        else:\n",
    "            # Iterate through bid and ask list to find appropriate intersection\n",
    "            while ask_index < len(bid_list) and ask_index < len(ask_list) and not found:\n",
    "                if bid_list[ask_index] == ask_list[ask_index]:\n",
    "                    equilibrium_price = bid_list[ask_index]\n",
    "                    found = True\n",
    "                    continue_search = True\n",
    "\n",
    "                    while continue_search and ask_index < len(bid_list) and ask_index < len(ask_list):\n",
    "                        if bid_list[ask_index] == ask_list[ask_index]:\n",
    "                            ask_index += 1\n",
    "                            if ask_index < len(bid_list) and ask_index < len(ask_list):\n",
    "                                continue_search = (bid_list[ask_index] == ask_list[ask_index])\n",
    "                        else:\n",
    "                            continue_search = False\n",
    "                    equilibrium_quantity = ask_index\n",
    "                else:\n",
    "                    if bid_list[ask_index] < ask_list[ask_index]:\n",
    "                        if ask_index == 0:\n",
    "                            equilibrium_price = \"FT-price\"  # Assuming FT-price is some fallback price\n",
    "                            equilibrium_quantity = 0\n",
    "                            found = True\n",
    "                        else:\n",
    "                            if (bid_list[ask_index - 1] != bid_list[ask_index]) and (ask_list[ask_index - 1] != ask_list[ask_index]):\n",
    "                                found = True\n",
    "                                equilibrium_price = (bid_list[ask_index - 1] + ask_list[ask_index - 1]) / 2\n",
    "                                equilibrium_quantity = ask_index\n",
    "                            elif (bid_list[ask_index - 1] == bid_list[ask_index]) and (ask_list[ask_index - 1] != ask_list[ask_index]):\n",
    "                                found = True\n",
    "                                equilibrium_price = bid_list[ask_index]\n",
    "                                equilibrium_quantity = ask_index\n",
    "                            elif (bid_list[ask_index - 1] != bid_list[ask_index]) and (ask_list[ask_index - 1] == ask_list[ask_index]):\n",
    "                                found = True\n",
    "                                equilibrium_price = ask_list[ask_index]\n",
    "                                equilibrium_quantity = ask_index\n",
    "                ask_index += 1\n",
    "            \n",
    "            self.FT_price = equilibrium_price\n",
    "            self.FT_trading_volume = equilibrium_quantity\n",
    "    \n",
    "    \n",
    "    def trade_fungible_token(self):\n",
    "        sell_volume = self.FT_trading_volume\n",
    "        buy_volume = self.FT_trading_volume\n",
    "        sold_amount = 0  # for debugging and record keeping\n",
    "        bought_amount = 0  # for debugging and record keeping\n",
    "\n",
    "        if self.FT_trading_volume > 0:\n",
    "            # Selling process\n",
    "            for agent in self.agent_list:\n",
    "                if (agent.processed_decision['ask_price'] <= self.FT_price) & (sell_volume > 0):\n",
    "                    amount_to_sell = min(sell_volume, agent.processed_decision['ask_amount'])\n",
    "                    agent.FT_holdings -= amount_to_sell\n",
    "                    agent.FT_sold_amount += amount_to_sell\n",
    "                    sell_volume -= amount_to_sell\n",
    "                    sold_amount += amount_to_sell  # for debugging\n",
    "\n",
    "            # Buy back process ... NFT reward\n",
    "            for agent in self.agent_list:\n",
    "                if (agent.processed_decision['bid_price'] >= self.FT_price) & (buy_volume > 0) & (agent.feedback[\"NFT succeed\"]):\n",
    "                    amount_to_buy = int(np.floor((self.experiment_config[\"amount of NFT return\"]*0.5)/min(agent.processed_decision[\"bid_price\"], 1)))\n",
    "                    agent.FT_holdings += amount_to_buy\n",
    "                    agent.FT_bought_amount += amount_to_buy\n",
    "                    buy_volume -= amount_to_buy\n",
    "                    bought_amount += amount_to_buy  # for debugging\n",
    "            \n",
    "            # Buying process\n",
    "            for agent in self.agent_list:\n",
    "                if (agent.processed_decision['bid_price'] >= self.FT_price) & (buy_volume > 0):\n",
    "                    amount_to_buy = min(buy_volume, agent.processed_decision['bid_amount'])\n",
    "                    agent.FT_holdings += amount_to_buy\n",
    "                    agent.FT_bought_amount += amount_to_buy\n",
    "                    buy_volume -= amount_to_buy\n",
    "                    bought_amount += amount_to_buy  # for debugging\n",
    "\n",
    "        #print(self.FT_trading_volume == sold_amount == bought_amount)  # Adjust trading volume after transactions\n",
    "\n",
    "        \n",
    "    def compute_feedback(self):\n",
    "        self.total_investment = 0\n",
    "        for agent in self.agent_list:\n",
    "            self.total_investment += agent.processed_decision[\"NFT_investment\"] * self.experiment_config[\"NFT price\"]\n",
    "            \n",
    "        for agent in self.agent_list:\n",
    "            #random_success = True if (np.random.uniform(0, 1) < self.experiment_config[\"probability of NFT return\"]) else False\n",
    "            \n",
    "            agent.feedback[\"FT_holdings\"] = agent.FT_holdings\n",
    "            agent.feedback[\"FT price\"] = self.FT_price\n",
    "            #agent.feedback[\"NFT succeed\"] = random_success\n",
    "            agent.feedback[\"FT bought amount\"] = agent.FT_bought_amount\n",
    "            agent.feedback[\"FT sold amount\"] = agent.FT_sold_amount\n",
    "            agent.feedback[\"FT selling revenue\"] = agent.FT_sold_amount * self.FT_price\n",
    "            agent.feedback[\"FT trade volume\"] = self.FT_trading_volume\n",
    "            agent.feedback[\"total investment\"] = self.total_investment\n",
    "            agent.feedback[\"public return\"] = self.public_good_function(self.total_investment) / self.experiment_config[\"Number of investors\"]\n",
    "            agent.feedback[\"impact\"] = (self.public_good_function(self.total_investment) - self.public_good_function(self.total_investment - (agent.processed_decision[\"NFT_investment\"] * self.experiment_config[\"NFT price\"]))) / self.public_good_function(self.total_investment)\n",
    "            \n",
    "            \n",
    "    def start(self):\n",
    "        for agent in self.agent_list:\n",
    "            agent.create_conversation()\n",
    "            print(f\"agent {agent.agent_id} joined experiment\")\n",
    "            \n",
    "        for agent in self.agent_list:\n",
    "            agent.start_experiment(self.experiment_config)\n",
    "            print(f\"agent {agent.agent_id} received experiment information and instruction for first round\")\n",
    "    \n",
    "    \n",
    "    def first_decision_round(self):\n",
    "        for agent in self.agent_list:\n",
    "            agent.make_decision()\n",
    "            print(f\"agent {agent.agent_id} made first round decision\")\n",
    "            if (agent.agent_id!=0) & (agent.agent_id%2==0):\n",
    "                create_minute_gap()\n",
    "        self.round += 1\n",
    "        \n",
    "        for agent in self.agent_list:\n",
    "            agent.process_decision()\n",
    "            print(f\"decision by agent {agent.agent_id} is ready to be used for result computation\")\n",
    "            \n",
    "        \n",
    "    def give_feedbacks(self):\n",
    "        for agent in self.agent_list:\n",
    "            agent.create_feedback()\n",
    "            agent.receive_feedback()\n",
    "            print(f\"agent {agent.agent_id} received feedback information and instruction for next round\")\n",
    "            \n",
    "    \n",
    "    def next_decision_round(self):\n",
    "        for agent in self.agent_list:\n",
    "            agent.make_decision()\n",
    "            print(f\"agent {agent.agent_id} made decision for round {self.round + 1}\")\n",
    "            if (agent.agent_id!=0) & (agent.agent_id%2==0):\n",
    "                create_minute_gap()\n",
    "        self.round += 1\n",
    "        \n",
    "        for agent in self.agent_list:\n",
    "            agent.process_decision()\n",
    "            print(f\"decision by agent {agent.agent_id} is ready to be used for result computation\")\n",
    "        \n",
    "    def end(self):\n",
    "        for agent in self.agent_list:\n",
    "            agent.end_experiment()\n",
    "            print(f\"agent {agent.agent_id} left the experiment\")\n",
    "        \n",
    "        \n",
    "        "
   ]
  },
  {
   "cell_type": "markdown",
   "id": "27b60e89",
   "metadata": {},
   "source": [
    "workflow:\n",
    "client = OpenAI(api_key=)\n",
    "\n",
    "experiment_config = {\n",
    "    \"NFT price\":50,\n",
    "    \"cash endowment\":200,\n",
    "    \"FT endowment\":10,\n",
    "    \"DAO FCF\":500,\n",
    "    \"Number of investors\":10,\n",
    "    \"FT supply\":100,\n",
    "    \"probability of NFT return\":0.2,\n",
    "    \"amount of NFT return\":100,\n",
    "    \"utility value of FT\":5,\n",
    "    \"human capital impact function\":\"square_root(total investment)\"\n",
    "}\n",
    "\n",
    "experiment = Experiment(client, experiment_config)\n",
    "\n",
    "experiment.start()\n",
    "\n",
    "experiment.first_decision_round()\n",
    "\n",
    "experiment.compute_equilibrium_price()\n",
    "\n",
    "experiment.trade_fungible_token()\n",
    "\n",
    "experiment.compute_feedback()\n",
    "\n",
    "experiment.give_feedbacks()\n",
    "\n",
    "experiment.next_decision_round()\n",
    "\n",
    "experiment.compute_equilibrium_price()\n",
    "\n",
    "experiment.trade_fungible_token()\n",
    "\n",
    "experiment.compute_feedback()\n",
    "\n",
    "experiment.give_feedbacks()\n",
    "\n",
    "experiment.end()"
   ]
  },
  {
   "cell_type": "markdown",
   "id": "032f0ba9",
   "metadata": {},
   "source": [
    "# Run Experiment"
   ]
  },
  {
   "cell_type": "markdown",
   "id": "ffbac2c0",
   "metadata": {},
   "source": [
    "## Configuration"
   ]
  },
  {
   "cell_type": "code",
   "execution_count": 55,
   "id": "552101dd",
   "metadata": {},
   "outputs": [],
   "source": [
    "client = OpenAI(api_key=API)\n",
    "\n",
    "experiment_config = {\n",
    "    \"NFT price\":50,\n",
    "    \"cash endowment\":200,\n",
    "    \"FT endowment\":10,\n",
    "    \"DAO FCF\":500,\n",
    "    \"Number of investors\":10,\n",
    "    \"FT supply\":100,\n",
    "    \"probability of NFT return\":0.2,\n",
    "    \"amount of NFT return\":100,\n",
    "    \"utility value of FT\":5,\n",
    "    \"human capital impact function\":\"square_root(total investment)\"\n",
    "}\n",
    "\n"
   ]
  },
  {
   "cell_type": "code",
   "execution_count": 56,
   "id": "5ec3bf03",
   "metadata": {},
   "outputs": [],
   "source": [
    "FT_price_record = []\n",
    "total_investment_record = []\n",
    "FT_trade_volume_record = []\n",
    "bid_list_record = []\n",
    "ask_list_record = []"
   ]
  },
  {
   "cell_type": "code",
   "execution_count": 57,
   "id": "bc9bd110",
   "metadata": {},
   "outputs": [],
   "source": [
    "experiment = Experiment(client, experiment_config)\n"
   ]
  },
  {
   "cell_type": "markdown",
   "id": "6a612e23",
   "metadata": {},
   "source": [
    "## Start Experiment"
   ]
  },
  {
   "cell_type": "code",
   "execution_count": 58,
   "id": "86336acf",
   "metadata": {},
   "outputs": [
    {
     "name": "stdout",
     "output_type": "stream",
     "text": [
      "agent 0 joined experiment\n",
      "agent 1 joined experiment\n",
      "agent 2 joined experiment\n",
      "agent 3 joined experiment\n",
      "agent 4 joined experiment\n",
      "agent 5 joined experiment\n",
      "agent 6 joined experiment\n",
      "agent 7 joined experiment\n",
      "agent 8 joined experiment\n",
      "agent 9 joined experiment\n",
      "agent 0 received experiment information and instruction for first round\n",
      "agent 1 received experiment information and instruction for first round\n",
      "agent 2 received experiment information and instruction for first round\n",
      "agent 3 received experiment information and instruction for first round\n",
      "agent 4 received experiment information and instruction for first round\n",
      "agent 5 received experiment information and instruction for first round\n",
      "agent 6 received experiment information and instruction for first round\n",
      "agent 7 received experiment information and instruction for first round\n",
      "agent 8 received experiment information and instruction for first round\n",
      "agent 9 received experiment information and instruction for first round\n"
     ]
    }
   ],
   "source": [
    "experiment.start()\n"
   ]
  },
  {
   "cell_type": "code",
   "execution_count": 59,
   "id": "85c9e71a",
   "metadata": {},
   "outputs": [
    {
     "name": "stdout",
     "output_type": "stream",
     "text": [
      "agent 0 made first round decision\n",
      "agent 1 made first round decision\n",
      "agent 2 made first round decision\n",
      "creating minute gap to avoid TPM limit error...\n",
      "agent 3 made first round decision\n",
      "agent 4 made first round decision\n",
      "creating minute gap to avoid TPM limit error...\n",
      "agent 5 made first round decision\n",
      "agent 6 made first round decision\n",
      "creating minute gap to avoid TPM limit error...\n",
      "agent 7 made first round decision\n",
      "agent 8 made first round decision\n",
      "creating minute gap to avoid TPM limit error...\n",
      "agent 9 made first round decision\n",
      "decision by agent 0 is ready to be used for result computation\n",
      "decision by agent 1 is ready to be used for result computation\n",
      "decision by agent 2 is ready to be used for result computation\n",
      "decision by agent 3 is ready to be used for result computation\n",
      "decision by agent 4 is ready to be used for result computation\n",
      "decision by agent 5 is ready to be used for result computation\n",
      "decision by agent 6 is ready to be used for result computation\n",
      "decision by agent 7 is ready to be used for result computation\n",
      "decision by agent 8 is ready to be used for result computation\n",
      "decision by agent 9 is ready to be used for result computation\n"
     ]
    }
   ],
   "source": [
    "# Round1\n",
    "experiment.first_decision_round()\n"
   ]
  },
  {
   "cell_type": "code",
   "execution_count": 60,
   "id": "d9033975",
   "metadata": {},
   "outputs": [
    {
     "data": {
      "text/plain": [
       "'NFT investment: 1 DAO fungible token bid amount: 20 DAO fungible token bid price: 3 DAO fungible token ask amount: 0 DAO fungible token ask price: 0 DAO fungible token anticipated price: 3 Anticipated payoff: 50 Anticipated total investment: 500 Short explanation on the reasons for the decisions: Investing in the NFT will contribute to human capital improvement, which benefits everyone. I anticipate that other players will also invest in NFTs, leading to a high social return. The bid for DAO fungible tokens is set at a moderate price to gain more governance power and potential utility value, considering the free cash flow and the potential increase in demand for DAO tokens due to NFT investments.'"
      ]
     },
     "execution_count": 60,
     "metadata": {},
     "output_type": "execute_result"
    }
   ],
   "source": [
    "experiment.agent_list[0].decision"
   ]
  },
  {
   "cell_type": "code",
   "execution_count": 61,
   "id": "2e0a6734",
   "metadata": {},
   "outputs": [],
   "source": [
    "experiment.compute_equilibrium_price()\n",
    "\n",
    "experiment.trade_fungible_token()\n",
    "\n",
    "experiment.compute_feedback()"
   ]
  },
  {
   "cell_type": "code",
   "execution_count": 62,
   "id": "160f1b2c",
   "metadata": {},
   "outputs": [
    {
     "name": "stdout",
     "output_type": "stream",
     "text": [
      "agent 0 received feedback information and instruction for next round\n",
      "agent 1 received feedback information and instruction for next round\n",
      "agent 2 received feedback information and instruction for next round\n",
      "agent 3 received feedback information and instruction for next round\n",
      "agent 4 received feedback information and instruction for next round\n",
      "agent 5 received feedback information and instruction for next round\n",
      "agent 6 received feedback information and instruction for next round\n",
      "agent 7 received feedback information and instruction for next round\n",
      "agent 8 received feedback information and instruction for next round\n",
      "agent 9 received feedback information and instruction for next round\n"
     ]
    }
   ],
   "source": [
    "experiment.give_feedbacks()\n"
   ]
  },
  {
   "cell_type": "code",
   "execution_count": 63,
   "id": "396c4dfd",
   "metadata": {},
   "outputs": [],
   "source": [
    "FT_price_record.append(experiment.FT_price)\n",
    "total_investment_record.append(experiment.total_investment)\n",
    "FT_trade_volume_record.append(experiment.FT_trading_volume)\n",
    "bid_list_record.append(experiment.bid_list)\n",
    "ask_list_record.append(experiment.ask_list)"
   ]
  },
  {
   "cell_type": "code",
   "execution_count": 64,
   "id": "06ebddb8",
   "metadata": {},
   "outputs": [
    {
     "name": "stdout",
     "output_type": "stream",
     "text": [
      "agent 0 made decision for round 2\n",
      "agent 1 made decision for round 2\n",
      "agent 2 made decision for round 2\n",
      "creating minute gap to avoid TPM limit error...\n",
      "agent 3 made decision for round 2\n",
      "agent 4 made decision for round 2\n",
      "creating minute gap to avoid TPM limit error...\n",
      "agent 5 made decision for round 2\n",
      "agent 6 made decision for round 2\n",
      "creating minute gap to avoid TPM limit error...\n",
      "agent 7 made decision for round 2\n",
      "agent 8 made decision for round 2\n",
      "creating minute gap to avoid TPM limit error...\n",
      "agent 9 made decision for round 2\n",
      "decision by agent 0 is ready to be used for result computation\n",
      "decision by agent 1 is ready to be used for result computation\n",
      "decision by agent 2 is ready to be used for result computation\n",
      "decision by agent 3 is ready to be used for result computation\n",
      "decision by agent 4 is ready to be used for result computation\n",
      "decision by agent 5 is ready to be used for result computation\n",
      "decision by agent 6 is ready to be used for result computation\n",
      "decision by agent 7 is ready to be used for result computation\n",
      "decision by agent 8 is ready to be used for result computation\n",
      "decision by agent 9 is ready to be used for result computation\n"
     ]
    }
   ],
   "source": [
    "# Round2\n",
    "experiment.next_decision_round()\n"
   ]
  },
  {
   "cell_type": "code",
   "execution_count": 65,
   "id": "3d3d0b33",
   "metadata": {},
   "outputs": [],
   "source": [
    "experiment.compute_equilibrium_price()\n",
    "\n",
    "experiment.trade_fungible_token()\n",
    "\n",
    "experiment.compute_feedback()"
   ]
  },
  {
   "cell_type": "code",
   "execution_count": 66,
   "id": "77fe6b76",
   "metadata": {},
   "outputs": [
    {
     "name": "stdout",
     "output_type": "stream",
     "text": [
      "agent 0 received feedback information and instruction for next round\n",
      "agent 1 received feedback information and instruction for next round\n",
      "agent 2 received feedback information and instruction for next round\n",
      "agent 3 received feedback information and instruction for next round\n",
      "agent 4 received feedback information and instruction for next round\n",
      "agent 5 received feedback information and instruction for next round\n",
      "agent 6 received feedback information and instruction for next round\n",
      "agent 7 received feedback information and instruction for next round\n",
      "agent 8 received feedback information and instruction for next round\n",
      "agent 9 received feedback information and instruction for next round\n"
     ]
    }
   ],
   "source": [
    "experiment.give_feedbacks()\n"
   ]
  },
  {
   "cell_type": "code",
   "execution_count": 67,
   "id": "ce673cb3",
   "metadata": {},
   "outputs": [],
   "source": [
    "FT_price_record.append(experiment.FT_price)\n",
    "total_investment_record.append(experiment.total_investment)\n",
    "FT_trade_volume_record.append(experiment.FT_trading_volume)\n",
    "bid_list_record.append(experiment.bid_list)\n",
    "ask_list_record.append(experiment.ask_list)"
   ]
  },
  {
   "cell_type": "code",
   "execution_count": 68,
   "id": "60972c2e",
   "metadata": {},
   "outputs": [
    {
     "name": "stdout",
     "output_type": "stream",
     "text": [
      "agent 0 made decision for round 3\n",
      "agent 1 made decision for round 3\n",
      "agent 2 made decision for round 3\n",
      "creating minute gap to avoid TPM limit error...\n",
      "agent 3 made decision for round 3\n",
      "agent 4 made decision for round 3\n",
      "creating minute gap to avoid TPM limit error...\n",
      "agent 5 made decision for round 3\n",
      "agent 6 made decision for round 3\n",
      "creating minute gap to avoid TPM limit error...\n",
      "agent 7 made decision for round 3\n",
      "agent 8 made decision for round 3\n",
      "creating minute gap to avoid TPM limit error...\n",
      "agent 9 made decision for round 3\n",
      "decision by agent 0 is ready to be used for result computation\n",
      "decision by agent 1 is ready to be used for result computation\n",
      "decision by agent 2 is ready to be used for result computation\n",
      "decision by agent 3 is ready to be used for result computation\n",
      "decision by agent 4 is ready to be used for result computation\n",
      "decision by agent 5 is ready to be used for result computation\n",
      "decision by agent 6 is ready to be used for result computation\n",
      "decision by agent 7 is ready to be used for result computation\n",
      "decision by agent 8 is ready to be used for result computation\n",
      "decision by agent 9 is ready to be used for result computation\n"
     ]
    }
   ],
   "source": [
    "# Round3\n",
    "experiment.next_decision_round()"
   ]
  },
  {
   "cell_type": "code",
   "execution_count": 69,
   "id": "2663fb04",
   "metadata": {},
   "outputs": [],
   "source": [
    "experiment.compute_equilibrium_price()\n",
    "\n",
    "experiment.trade_fungible_token()\n",
    "\n",
    "experiment.compute_feedback()"
   ]
  },
  {
   "cell_type": "code",
   "execution_count": 70,
   "id": "a2fbc1aa",
   "metadata": {},
   "outputs": [
    {
     "name": "stdout",
     "output_type": "stream",
     "text": [
      "agent 0 received feedback information and instruction for next round\n",
      "agent 1 received feedback information and instruction for next round\n",
      "agent 2 received feedback information and instruction for next round\n",
      "agent 3 received feedback information and instruction for next round\n",
      "agent 4 received feedback information and instruction for next round\n",
      "agent 5 received feedback information and instruction for next round\n",
      "agent 6 received feedback information and instruction for next round\n",
      "agent 7 received feedback information and instruction for next round\n",
      "agent 8 received feedback information and instruction for next round\n",
      "agent 9 received feedback information and instruction for next round\n"
     ]
    }
   ],
   "source": [
    "experiment.give_feedbacks()"
   ]
  },
  {
   "cell_type": "code",
   "execution_count": 71,
   "id": "62742d7a",
   "metadata": {},
   "outputs": [],
   "source": [
    "FT_price_record.append(experiment.FT_price)\n",
    "total_investment_record.append(experiment.total_investment)\n",
    "FT_trade_volume_record.append(experiment.FT_trading_volume)\n",
    "bid_list_record.append(experiment.bid_list)\n",
    "ask_list_record.append(experiment.ask_list)"
   ]
  },
  {
   "cell_type": "code",
   "execution_count": 72,
   "id": "c0e9d052",
   "metadata": {},
   "outputs": [
    {
     "name": "stdout",
     "output_type": "stream",
     "text": [
      "agent 0 made decision for round 4\n",
      "agent 1 made decision for round 4\n",
      "agent 2 made decision for round 4\n",
      "creating minute gap to avoid TPM limit error...\n",
      "agent 3 made decision for round 4\n",
      "agent 4 made decision for round 4\n",
      "creating minute gap to avoid TPM limit error...\n",
      "agent 5 made decision for round 4\n",
      "agent 6 made decision for round 4\n",
      "creating minute gap to avoid TPM limit error...\n",
      "agent 7 made decision for round 4\n",
      "agent 8 made decision for round 4\n",
      "creating minute gap to avoid TPM limit error...\n",
      "agent 9 made decision for round 4\n",
      "decision by agent 0 is ready to be used for result computation\n",
      "decision by agent 1 is ready to be used for result computation\n",
      "decision by agent 2 is ready to be used for result computation\n",
      "decision by agent 3 is ready to be used for result computation\n",
      "decision by agent 4 is ready to be used for result computation\n",
      "decision by agent 5 is ready to be used for result computation\n",
      "decision by agent 6 is ready to be used for result computation\n",
      "decision by agent 7 is ready to be used for result computation\n",
      "decision by agent 8 is ready to be used for result computation\n",
      "decision by agent 9 is ready to be used for result computation\n"
     ]
    }
   ],
   "source": [
    "# Round4\n",
    "experiment.next_decision_round()"
   ]
  },
  {
   "cell_type": "code",
   "execution_count": 73,
   "id": "30510ae4",
   "metadata": {},
   "outputs": [],
   "source": [
    "experiment.compute_equilibrium_price()\n",
    "\n",
    "experiment.trade_fungible_token()\n",
    "\n",
    "experiment.compute_feedback()"
   ]
  },
  {
   "cell_type": "code",
   "execution_count": 74,
   "id": "0153079a",
   "metadata": {},
   "outputs": [
    {
     "name": "stdout",
     "output_type": "stream",
     "text": [
      "agent 0 received feedback information and instruction for next round\n",
      "agent 1 received feedback information and instruction for next round\n",
      "agent 2 received feedback information and instruction for next round\n",
      "agent 3 received feedback information and instruction for next round\n",
      "agent 4 received feedback information and instruction for next round\n",
      "agent 5 received feedback information and instruction for next round\n",
      "agent 6 received feedback information and instruction for next round\n",
      "agent 7 received feedback information and instruction for next round\n",
      "agent 8 received feedback information and instruction for next round\n",
      "agent 9 received feedback information and instruction for next round\n"
     ]
    }
   ],
   "source": [
    "experiment.give_feedbacks()"
   ]
  },
  {
   "cell_type": "code",
   "execution_count": 75,
   "id": "1503d7fc",
   "metadata": {},
   "outputs": [],
   "source": [
    "FT_price_record.append(experiment.FT_price)\n",
    "total_investment_record.append(experiment.total_investment)\n",
    "FT_trade_volume_record.append(experiment.FT_trading_volume)\n",
    "bid_list_record.append(experiment.bid_list)\n",
    "ask_list_record.append(experiment.ask_list)"
   ]
  },
  {
   "cell_type": "code",
   "execution_count": 76,
   "id": "201d71e7",
   "metadata": {},
   "outputs": [
    {
     "name": "stdout",
     "output_type": "stream",
     "text": [
      "agent 0 made decision for round 5\n",
      "agent 1 made decision for round 5\n",
      "agent 2 made decision for round 5\n",
      "creating minute gap to avoid TPM limit error...\n",
      "agent 3 made decision for round 5\n",
      "agent 4 made decision for round 5\n",
      "creating minute gap to avoid TPM limit error...\n",
      "agent 5 made decision for round 5\n",
      "agent 6 made decision for round 5\n",
      "creating minute gap to avoid TPM limit error...\n",
      "agent 7 made decision for round 5\n",
      "agent 8 made decision for round 5\n",
      "creating minute gap to avoid TPM limit error...\n",
      "agent 9 made decision for round 5\n",
      "decision by agent 0 is ready to be used for result computation\n",
      "decision by agent 1 is ready to be used for result computation\n",
      "decision by agent 2 is ready to be used for result computation\n",
      "decision by agent 3 is ready to be used for result computation\n",
      "decision by agent 4 is ready to be used for result computation\n",
      "decision by agent 5 is ready to be used for result computation\n",
      "decision by agent 6 is ready to be used for result computation\n",
      "decision by agent 7 is ready to be used for result computation\n",
      "decision by agent 8 is ready to be used for result computation\n",
      "decision by agent 9 is ready to be used for result computation\n"
     ]
    }
   ],
   "source": [
    "# Round5\n",
    "experiment.next_decision_round()"
   ]
  },
  {
   "cell_type": "code",
   "execution_count": 77,
   "id": "6a3f2374",
   "metadata": {},
   "outputs": [],
   "source": [
    "experiment.compute_equilibrium_price()\n",
    "\n",
    "experiment.trade_fungible_token()\n",
    "\n",
    "experiment.compute_feedback()"
   ]
  },
  {
   "cell_type": "code",
   "execution_count": 78,
   "id": "e1dd74c9",
   "metadata": {},
   "outputs": [
    {
     "name": "stdout",
     "output_type": "stream",
     "text": [
      "agent 0 received feedback information and instruction for next round\n",
      "agent 1 received feedback information and instruction for next round\n",
      "agent 2 received feedback information and instruction for next round\n",
      "agent 3 received feedback information and instruction for next round\n",
      "agent 4 received feedback information and instruction for next round\n",
      "agent 5 received feedback information and instruction for next round\n",
      "agent 6 received feedback information and instruction for next round\n",
      "agent 7 received feedback information and instruction for next round\n",
      "agent 8 received feedback information and instruction for next round\n",
      "agent 9 received feedback information and instruction for next round\n"
     ]
    }
   ],
   "source": [
    "experiment.give_feedbacks()"
   ]
  },
  {
   "cell_type": "code",
   "execution_count": 79,
   "id": "f523587e",
   "metadata": {},
   "outputs": [],
   "source": [
    "FT_price_record.append(experiment.FT_price)\n",
    "total_investment_record.append(experiment.total_investment)\n",
    "FT_trade_volume_record.append(experiment.FT_trading_volume)\n",
    "bid_list_record.append(experiment.bid_list)\n",
    "ask_list_record.append(experiment.ask_list)"
   ]
  },
  {
   "cell_type": "code",
   "execution_count": 80,
   "id": "d120775f",
   "metadata": {},
   "outputs": [
    {
     "name": "stdout",
     "output_type": "stream",
     "text": [
      "agent 0 made decision for round 6\n",
      "agent 1 made decision for round 6\n",
      "agent 2 made decision for round 6\n",
      "creating minute gap to avoid TPM limit error...\n",
      "agent 3 made decision for round 6\n",
      "agent 4 made decision for round 6\n",
      "creating minute gap to avoid TPM limit error...\n",
      "agent 5 made decision for round 6\n",
      "agent 6 made decision for round 6\n",
      "creating minute gap to avoid TPM limit error...\n",
      "agent 7 made decision for round 6\n",
      "agent 8 made decision for round 6\n",
      "creating minute gap to avoid TPM limit error...\n",
      "agent 9 made decision for round 6\n",
      "decision by agent 0 is ready to be used for result computation\n",
      "decision by agent 1 is ready to be used for result computation\n",
      "decision by agent 2 is ready to be used for result computation\n",
      "decision by agent 3 is ready to be used for result computation\n",
      "decision by agent 4 is ready to be used for result computation\n",
      "decision by agent 5 is ready to be used for result computation\n",
      "decision by agent 6 is ready to be used for result computation\n",
      "decision by agent 7 is ready to be used for result computation\n",
      "decision by agent 8 is ready to be used for result computation\n",
      "decision by agent 9 is ready to be used for result computation\n"
     ]
    }
   ],
   "source": [
    "# Round6\n",
    "experiment.next_decision_round()"
   ]
  },
  {
   "cell_type": "code",
   "execution_count": 81,
   "id": "97d02dbf",
   "metadata": {},
   "outputs": [],
   "source": [
    "experiment.compute_equilibrium_price()\n",
    "\n",
    "experiment.trade_fungible_token()\n",
    "\n",
    "experiment.compute_feedback()"
   ]
  },
  {
   "cell_type": "code",
   "execution_count": 82,
   "id": "50cc0067",
   "metadata": {},
   "outputs": [
    {
     "name": "stdout",
     "output_type": "stream",
     "text": [
      "agent 0 received feedback information and instruction for next round\n",
      "agent 1 received feedback information and instruction for next round\n",
      "agent 2 received feedback information and instruction for next round\n",
      "agent 3 received feedback information and instruction for next round\n",
      "agent 4 received feedback information and instruction for next round\n",
      "agent 5 received feedback information and instruction for next round\n",
      "agent 6 received feedback information and instruction for next round\n",
      "agent 7 received feedback information and instruction for next round\n",
      "agent 8 received feedback information and instruction for next round\n",
      "agent 9 received feedback information and instruction for next round\n"
     ]
    }
   ],
   "source": [
    "experiment.give_feedbacks()"
   ]
  },
  {
   "cell_type": "code",
   "execution_count": 83,
   "id": "2fffe174",
   "metadata": {},
   "outputs": [],
   "source": [
    "FT_price_record.append(experiment.FT_price)\n",
    "total_investment_record.append(experiment.total_investment)\n",
    "FT_trade_volume_record.append(experiment.FT_trading_volume)\n",
    "bid_list_record.append(experiment.bid_list)\n",
    "ask_list_record.append(experiment.ask_list)"
   ]
  },
  {
   "cell_type": "code",
   "execution_count": 84,
   "id": "b20ae8ce",
   "metadata": {},
   "outputs": [
    {
     "name": "stdout",
     "output_type": "stream",
     "text": [
      "agent 0 made decision for round 7\n",
      "agent 1 made decision for round 7\n",
      "agent 2 made decision for round 7\n",
      "creating minute gap to avoid TPM limit error...\n",
      "agent 3 made decision for round 7\n",
      "agent 4 made decision for round 7\n",
      "creating minute gap to avoid TPM limit error...\n",
      "agent 5 made decision for round 7\n",
      "agent 6 made decision for round 7\n",
      "creating minute gap to avoid TPM limit error...\n",
      "agent 7 made decision for round 7\n",
      "agent 8 made decision for round 7\n",
      "creating minute gap to avoid TPM limit error...\n",
      "agent 9 made decision for round 7\n",
      "decision by agent 0 is ready to be used for result computation\n",
      "decision by agent 1 is ready to be used for result computation\n",
      "decision by agent 2 is ready to be used for result computation\n",
      "decision by agent 3 is ready to be used for result computation\n",
      "decision by agent 4 is ready to be used for result computation\n",
      "decision by agent 5 is ready to be used for result computation\n",
      "decision by agent 6 is ready to be used for result computation\n",
      "decision by agent 7 is ready to be used for result computation\n",
      "decision by agent 8 is ready to be used for result computation\n",
      "decision by agent 9 is ready to be used for result computation\n"
     ]
    }
   ],
   "source": [
    "# Round7\n",
    "experiment.next_decision_round()"
   ]
  },
  {
   "cell_type": "code",
   "execution_count": 85,
   "id": "4d42dea0",
   "metadata": {},
   "outputs": [],
   "source": [
    "experiment.compute_equilibrium_price()\n",
    "\n",
    "experiment.trade_fungible_token()\n",
    "\n",
    "experiment.compute_feedback()"
   ]
  },
  {
   "cell_type": "code",
   "execution_count": 86,
   "id": "2e105dbc",
   "metadata": {},
   "outputs": [
    {
     "name": "stdout",
     "output_type": "stream",
     "text": [
      "agent 0 received feedback information and instruction for next round\n",
      "agent 1 received feedback information and instruction for next round\n",
      "agent 2 received feedback information and instruction for next round\n",
      "agent 3 received feedback information and instruction for next round\n",
      "agent 4 received feedback information and instruction for next round\n",
      "agent 5 received feedback information and instruction for next round\n",
      "agent 6 received feedback information and instruction for next round\n",
      "agent 7 received feedback information and instruction for next round\n",
      "agent 8 received feedback information and instruction for next round\n",
      "agent 9 received feedback information and instruction for next round\n"
     ]
    }
   ],
   "source": [
    "experiment.give_feedbacks()"
   ]
  },
  {
   "cell_type": "code",
   "execution_count": 87,
   "id": "c9110e73",
   "metadata": {},
   "outputs": [],
   "source": [
    "FT_price_record.append(experiment.FT_price)\n",
    "total_investment_record.append(experiment.total_investment)\n",
    "FT_trade_volume_record.append(experiment.FT_trading_volume)\n",
    "bid_list_record.append(experiment.bid_list)\n",
    "ask_list_record.append(experiment.ask_list)"
   ]
  },
  {
   "cell_type": "code",
   "execution_count": 88,
   "id": "9d4392a1",
   "metadata": {},
   "outputs": [
    {
     "name": "stdout",
     "output_type": "stream",
     "text": [
      "agent 0 made decision for round 8\n",
      "agent 1 made decision for round 8\n",
      "agent 2 made decision for round 8\n",
      "creating minute gap to avoid TPM limit error...\n",
      "agent 3 made decision for round 8\n",
      "agent 4 made decision for round 8\n",
      "creating minute gap to avoid TPM limit error...\n",
      "agent 5 made decision for round 8\n",
      "agent 6 made decision for round 8\n",
      "creating minute gap to avoid TPM limit error...\n",
      "agent 7 made decision for round 8\n",
      "agent 8 made decision for round 8\n",
      "creating minute gap to avoid TPM limit error...\n",
      "agent 9 made decision for round 8\n",
      "decision by agent 0 is ready to be used for result computation\n",
      "decision by agent 1 is ready to be used for result computation\n",
      "decision by agent 2 is ready to be used for result computation\n",
      "decision by agent 3 is ready to be used for result computation\n",
      "decision by agent 4 is ready to be used for result computation\n",
      "decision by agent 5 is ready to be used for result computation\n",
      "decision by agent 6 is ready to be used for result computation\n",
      "decision by agent 7 is ready to be used for result computation\n",
      "decision by agent 8 is ready to be used for result computation\n",
      "decision by agent 9 is ready to be used for result computation\n"
     ]
    }
   ],
   "source": [
    "# Round8\n",
    "experiment.next_decision_round()"
   ]
  },
  {
   "cell_type": "code",
   "execution_count": 89,
   "id": "7d77bf47",
   "metadata": {},
   "outputs": [],
   "source": [
    "experiment.compute_equilibrium_price()\n",
    "\n",
    "experiment.trade_fungible_token()\n",
    "\n",
    "experiment.compute_feedback()"
   ]
  },
  {
   "cell_type": "code",
   "execution_count": 90,
   "id": "639c72ba",
   "metadata": {},
   "outputs": [
    {
     "name": "stdout",
     "output_type": "stream",
     "text": [
      "agent 0 received feedback information and instruction for next round\n",
      "agent 1 received feedback information and instruction for next round\n",
      "agent 2 received feedback information and instruction for next round\n",
      "agent 3 received feedback information and instruction for next round\n",
      "agent 4 received feedback information and instruction for next round\n",
      "agent 5 received feedback information and instruction for next round\n",
      "agent 6 received feedback information and instruction for next round\n",
      "agent 7 received feedback information and instruction for next round\n",
      "agent 8 received feedback information and instruction for next round\n",
      "agent 9 received feedback information and instruction for next round\n"
     ]
    }
   ],
   "source": [
    "experiment.give_feedbacks()"
   ]
  },
  {
   "cell_type": "code",
   "execution_count": 91,
   "id": "d92f5945",
   "metadata": {},
   "outputs": [],
   "source": [
    "FT_price_record.append(experiment.FT_price)\n",
    "total_investment_record.append(experiment.total_investment)\n",
    "FT_trade_volume_record.append(experiment.FT_trading_volume)\n",
    "bid_list_record.append(experiment.bid_list)\n",
    "ask_list_record.append(experiment.ask_list)"
   ]
  },
  {
   "cell_type": "code",
   "execution_count": 92,
   "id": "fd36ea41",
   "metadata": {},
   "outputs": [
    {
     "name": "stdout",
     "output_type": "stream",
     "text": [
      "agent 0 made decision for round 9\n",
      "agent 1 made decision for round 9\n",
      "agent 2 made decision for round 9\n",
      "creating minute gap to avoid TPM limit error...\n",
      "agent 3 made decision for round 9\n",
      "agent 4 made decision for round 9\n",
      "creating minute gap to avoid TPM limit error...\n",
      "agent 5 made decision for round 9\n",
      "agent 6 made decision for round 9\n",
      "creating minute gap to avoid TPM limit error...\n",
      "agent 7 made decision for round 9\n",
      "agent 8 made decision for round 9\n",
      "creating minute gap to avoid TPM limit error...\n",
      "agent 9 made decision for round 9\n",
      "decision by agent 0 is ready to be used for result computation\n",
      "decision by agent 1 is ready to be used for result computation\n",
      "decision by agent 2 is ready to be used for result computation\n",
      "decision by agent 3 is ready to be used for result computation\n",
      "decision by agent 4 is ready to be used for result computation\n",
      "decision by agent 5 is ready to be used for result computation\n",
      "decision by agent 6 is ready to be used for result computation\n",
      "decision by agent 7 is ready to be used for result computation\n",
      "decision by agent 8 is ready to be used for result computation\n",
      "decision by agent 9 is ready to be used for result computation\n"
     ]
    }
   ],
   "source": [
    "# Round9\n",
    "experiment.next_decision_round()"
   ]
  },
  {
   "cell_type": "code",
   "execution_count": 93,
   "id": "d4bc1273",
   "metadata": {},
   "outputs": [],
   "source": [
    "experiment.compute_equilibrium_price()\n",
    "\n",
    "experiment.trade_fungible_token()\n",
    "\n",
    "experiment.compute_feedback()"
   ]
  },
  {
   "cell_type": "code",
   "execution_count": 94,
   "id": "80816a38",
   "metadata": {},
   "outputs": [
    {
     "name": "stdout",
     "output_type": "stream",
     "text": [
      "agent 0 received feedback information and instruction for next round\n",
      "agent 1 received feedback information and instruction for next round\n",
      "agent 2 received feedback information and instruction for next round\n",
      "agent 3 received feedback information and instruction for next round\n",
      "agent 4 received feedback information and instruction for next round\n",
      "agent 5 received feedback information and instruction for next round\n",
      "agent 6 received feedback information and instruction for next round\n",
      "agent 7 received feedback information and instruction for next round\n",
      "agent 8 received feedback information and instruction for next round\n",
      "agent 9 received feedback information and instruction for next round\n"
     ]
    }
   ],
   "source": [
    "experiment.give_feedbacks()"
   ]
  },
  {
   "cell_type": "code",
   "execution_count": 95,
   "id": "71a740d9",
   "metadata": {},
   "outputs": [],
   "source": [
    "FT_price_record.append(experiment.FT_price)\n",
    "total_investment_record.append(experiment.total_investment)\n",
    "FT_trade_volume_record.append(experiment.FT_trading_volume)\n",
    "bid_list_record.append(experiment.bid_list)\n",
    "ask_list_record.append(experiment.ask_list)"
   ]
  },
  {
   "cell_type": "code",
   "execution_count": 96,
   "id": "de207c22",
   "metadata": {},
   "outputs": [
    {
     "name": "stdout",
     "output_type": "stream",
     "text": [
      "agent 0 made decision for round 10\n",
      "agent 1 made decision for round 10\n",
      "agent 2 made decision for round 10\n",
      "creating minute gap to avoid TPM limit error...\n",
      "agent 3 made decision for round 10\n",
      "agent 4 made decision for round 10\n",
      "creating minute gap to avoid TPM limit error...\n",
      "agent 5 made decision for round 10\n",
      "agent 6 made decision for round 10\n",
      "creating minute gap to avoid TPM limit error...\n",
      "agent 7 made decision for round 10\n",
      "agent 8 made decision for round 10\n",
      "creating minute gap to avoid TPM limit error...\n",
      "agent 9 made decision for round 10\n",
      "decision by agent 0 is ready to be used for result computation\n",
      "decision by agent 1 is ready to be used for result computation\n",
      "decision by agent 2 is ready to be used for result computation\n",
      "decision by agent 3 is ready to be used for result computation\n",
      "decision by agent 4 is ready to be used for result computation\n",
      "decision by agent 5 is ready to be used for result computation\n",
      "decision by agent 6 is ready to be used for result computation\n",
      "decision by agent 7 is ready to be used for result computation\n",
      "decision by agent 8 is ready to be used for result computation\n",
      "decision by agent 9 is ready to be used for result computation\n"
     ]
    }
   ],
   "source": [
    "# Round10\n",
    "experiment.next_decision_round()"
   ]
  },
  {
   "cell_type": "code",
   "execution_count": 97,
   "id": "a037d71c",
   "metadata": {},
   "outputs": [],
   "source": [
    "experiment.compute_equilibrium_price()\n",
    "\n",
    "experiment.trade_fungible_token()\n",
    "\n",
    "experiment.compute_feedback()"
   ]
  },
  {
   "cell_type": "code",
   "execution_count": 98,
   "id": "30c76330",
   "metadata": {},
   "outputs": [
    {
     "name": "stdout",
     "output_type": "stream",
     "text": [
      "agent 0 received feedback information and instruction for next round\n",
      "agent 1 received feedback information and instruction for next round\n",
      "agent 2 received feedback information and instruction for next round\n",
      "agent 3 received feedback information and instruction for next round\n",
      "agent 4 received feedback information and instruction for next round\n",
      "agent 5 received feedback information and instruction for next round\n",
      "agent 6 received feedback information and instruction for next round\n",
      "agent 7 received feedback information and instruction for next round\n",
      "agent 8 received feedback information and instruction for next round\n",
      "agent 9 received feedback information and instruction for next round\n"
     ]
    }
   ],
   "source": [
    "experiment.give_feedbacks()"
   ]
  },
  {
   "cell_type": "code",
   "execution_count": 99,
   "id": "afbfae64",
   "metadata": {},
   "outputs": [],
   "source": [
    "FT_price_record.append(experiment.FT_price)\n",
    "total_investment_record.append(experiment.total_investment)\n",
    "FT_trade_volume_record.append(experiment.FT_trading_volume)\n",
    "bid_list_record.append(experiment.bid_list)\n",
    "ask_list_record.append(experiment.ask_list)"
   ]
  },
  {
   "cell_type": "code",
   "execution_count": 105,
   "id": "89cbf538",
   "metadata": {},
   "outputs": [
    {
     "data": {
      "text/plain": [
       "[10.0, 12.0, 12.0, 14.0, 15.0, 16.0, 17.0, 18.0, 19.0, 20.0]"
      ]
     },
     "execution_count": 105,
     "metadata": {},
     "output_type": "execute_result"
    }
   ],
   "source": [
    "FT_price_record"
   ]
  },
  {
   "cell_type": "code",
   "execution_count": 106,
   "id": "c3d47a97",
   "metadata": {},
   "outputs": [
    {
     "data": {
      "text/plain": [
       "[500.0, 500.0, 500.0, 500.0, 500.0, 500.0, 500.0, 500.0, 500.0, 500.0]"
      ]
     },
     "execution_count": 106,
     "metadata": {},
     "output_type": "execute_result"
    }
   ],
   "source": [
    "total_investment_record"
   ]
  },
  {
   "cell_type": "code",
   "execution_count": 107,
   "id": "734fe2c1",
   "metadata": {},
   "outputs": [
    {
     "data": {
      "text/plain": [
       "[0, 0, 0, 0, 0, 0, 0, 0, 0, 0]"
      ]
     },
     "execution_count": 107,
     "metadata": {},
     "output_type": "execute_result"
    }
   ],
   "source": [
    "FT_trade_volume_record"
   ]
  },
  {
   "cell_type": "markdown",
   "id": "403a1e1e",
   "metadata": {},
   "source": [
    "## Record Results"
   ]
  },
  {
   "cell_type": "code",
   "execution_count": 100,
   "id": "fd9e744b",
   "metadata": {},
   "outputs": [],
   "source": [
    "conversation_record = []\n",
    "for agent in experiment.agent_list:\n",
    "    conversation_record.append(agent.get_conversation())"
   ]
  },
  {
   "cell_type": "code",
   "execution_count": 101,
   "id": "af4031d8",
   "metadata": {},
   "outputs": [],
   "source": [
    "decision_record = []\n",
    "for agent in experiment.agent_list:\n",
    "    decision_record.append(agent.decision_record)"
   ]
  },
  {
   "cell_type": "code",
   "execution_count": 102,
   "id": "4432032c",
   "metadata": {},
   "outputs": [],
   "source": [
    "payoff_record = []\n",
    "for agent in experiment.agent_list:\n",
    "    payoff_record.append(agent.payoff_record)"
   ]
  },
  {
   "cell_type": "code",
   "execution_count": 103,
   "id": "e11f2357",
   "metadata": {},
   "outputs": [],
   "source": [
    "FT_holdings_record = []\n",
    "for agent in experiment.agent_list:\n",
    "    FT_holdings_record.append(agent.FT_holdings)"
   ]
  },
  {
   "cell_type": "code",
   "execution_count": 104,
   "id": "6fd1f3a8",
   "metadata": {},
   "outputs": [],
   "source": [
    "pickle.dump([experiment_config, FT_price_record, total_investment_record, FT_trade_volume_record, bid_list_record, ask_list_record, conversation_record, decision_record, payoff_record, FT_holdings_record], open(f\"gpt4o_experiment_result_{datetime.now()}.pickle\", 'wb'))\n"
   ]
  },
  {
   "cell_type": "markdown",
   "id": "ed031454",
   "metadata": {},
   "source": [
    "## End Experiment"
   ]
  },
  {
   "cell_type": "code",
   "execution_count": 52,
   "id": "bfb7d643",
   "metadata": {},
   "outputs": [
    {
     "name": "stdout",
     "output_type": "stream",
     "text": [
      "agent 0 left the experiment\n",
      "agent 1 left the experiment\n",
      "agent 2 left the experiment\n",
      "agent 3 left the experiment\n",
      "agent 4 left the experiment\n",
      "agent 5 left the experiment\n",
      "agent 6 left the experiment\n",
      "agent 7 left the experiment\n",
      "agent 8 left the experiment\n",
      "agent 9 left the experiment\n"
     ]
    }
   ],
   "source": [
    "experiment.end()"
   ]
  },
  {
   "cell_type": "code",
   "execution_count": null,
   "id": "6b6a7e68",
   "metadata": {},
   "outputs": [],
   "source": []
  }
 ],
 "metadata": {
  "kernelspec": {
   "display_name": "Python 3 (ipykernel)",
   "language": "python",
   "name": "python3"
  },
  "language_info": {
   "codemirror_mode": {
    "name": "ipython",
    "version": 3
   },
   "file_extension": ".py",
   "mimetype": "text/x-python",
   "name": "python",
   "nbconvert_exporter": "python",
   "pygments_lexer": "ipython3",
   "version": "3.9.16"
  }
 },
 "nbformat": 4,
 "nbformat_minor": 5
}
