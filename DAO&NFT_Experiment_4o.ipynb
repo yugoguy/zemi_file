{
 "cells": [
  {
   "cell_type": "markdown",
   "id": "1d0df81e",
   "metadata": {},
   "source": [
    "# Preparation"
   ]
  },
  {
   "cell_type": "code",
   "execution_count": 68,
   "id": "d8fb6e33",
   "metadata": {},
   "outputs": [],
   "source": [
    "API=\"\""
   ]
  },
  {
   "cell_type": "code",
   "execution_count": 69,
   "id": "4ae8ef5c",
   "metadata": {},
   "outputs": [],
   "source": [
    "agent_key=\"asst_0WcSXzJ0s77wYneo7SGYwPCw\" #gpt4"
   ]
  },
  {
   "cell_type": "code",
   "execution_count": 70,
   "id": "2f4d6c82",
   "metadata": {},
   "outputs": [],
   "source": [
    "gpt35turbo_key = \"asst_FKCItAtYldMP3Ii0eGOdxQ2H\""
   ]
  },
  {
   "cell_type": "code",
   "execution_count": 71,
   "id": "69fcecef",
   "metadata": {},
   "outputs": [],
   "source": [
    "gpt4o_key = \"asst_ehEgDBi1jPAL10I7vbAPdUrG\""
   ]
  },
  {
   "cell_type": "code",
   "execution_count": 72,
   "id": "ed079b2e",
   "metadata": {},
   "outputs": [],
   "source": [
    "gpt4o_for_init = \"asst_9rtEtoy3zPee3RmlQadYOPOt\""
   ]
  },
  {
   "cell_type": "code",
   "execution_count": 1,
   "id": "1870ba3d",
   "metadata": {},
   "outputs": [],
   "source": [
    "import openai\n",
    "from openai import OpenAI\n",
    "import pandas as pd\n",
    "import numpy as np\n",
    "import pickle\n",
    "import requests\n",
    "import re\n",
    "from datetime import datetime\n",
    "import matplotlib.pyplot as plt\n",
    "import warnings\n",
    "warnings.filterwarnings(\"ignore\")\n",
    "\n",
    "def create_minute_gap():\n",
    "    print(\"creating minute gap to avoid TPM limit error...\") \n",
    "    counter = 0\n",
    "    while counter < 1000000000:\n",
    "        counter += 1"
   ]
  },
  {
   "cell_type": "markdown",
   "id": "fec60ec5",
   "metadata": {},
   "source": [
    "# Class & Functions"
   ]
  },
  {
   "cell_type": "code",
   "execution_count": 74,
   "id": "7e27463f",
   "metadata": {},
   "outputs": [],
   "source": [
    "class Agent():\n",
    "    def __init__(self, client, agent_id, demographics, model_id=\"asst_ehEgDBi1jPAL10I7vbAPdUrG\"):\n",
    "        self.model_id = model_id\n",
    "        self.agent_id = agent_id\n",
    "        self.demographics = demographics\n",
    "        self.decision_round = 0\n",
    "        self.client = client\n",
    "        self.decision_record = {\n",
    "            \"NFT_investment\": [],\n",
    "            \"bid_amount\": [],\n",
    "            \"bid_price\": [],\n",
    "            \"ask_amount\": [],\n",
    "            \"ask_price\": [],\n",
    "            \"anticipated_price\": [],\n",
    "            \"anticipated_payoff\": [],\n",
    "            \"anticipated_investment\": [],\n",
    "            \"reason\": []\n",
    "        }\n",
    "        self.processed_decision = dict()\n",
    "        \n",
    "        self.payoff_record = []\n",
    "        self.feedback = dict()\n",
    "        self.cumulative_payoff = 0\n",
    "        \n",
    "        self.FT_holdings = 0\n",
    "        self.FT_bought_amount = 0\n",
    "        self.FT_sold_amount = 0\n",
    "        \n",
    "    def create_conversation(self):\n",
    "        self.thread = self.client.beta.threads.create()\n",
    "        \n",
    "    \n",
    "    def receive_feedback(self):\n",
    "        self.message = self.client.beta.threads.messages.create(\n",
    "            thread_id=self.thread.id,\n",
    "            role=\"user\",\n",
    "            content=self.feedback_text\n",
    "        )\n",
    "        \n",
    "        \n",
    "    def get_conversation(self):\n",
    "        self.conversation_list=[]\n",
    "        for text in self.conversation:\n",
    "            text = text.content[0].text.value\n",
    "            self.conversation_list.append(text)\n",
    "        return self.conversation_list\n",
    "    \n",
    "        \n",
    "    def make_decision(self):\n",
    "        with self.client.beta.threads.runs.stream(\n",
    "            thread_id=self.thread.id,\n",
    "            assistant_id=self.model_id\n",
    "        ) as self.stream:\n",
    "            self.stream.until_done()\n",
    "            \n",
    "        self.conversation = self.client.beta.threads.messages.list(\n",
    "            thread_id=self.thread.id,\n",
    "            order=\"asc\"\n",
    "        )\n",
    "        \n",
    "        self.decision = self.conversation.data[-1].content[0].text.value\n",
    "        \n",
    "        self.decision_round += 1\n",
    "        \n",
    "        \n",
    "    def end_experiment(self):\n",
    "        self.client.beta.threads.delete(thread_id=self.thread.id)\n",
    "        \n",
    "        \n",
    "    def create_feedback(self): \n",
    "        NFT_reward = self.experiment_config[\"amount of NFT return\"] if self.feedback[\"NFT succeed\"] else 0\n",
    "        NFT_buying_cost = self.experiment_config[\"NFT price\"] if (self.processed_decision[\"NFT_investment\"]==1) else 0\n",
    "        utility_value = self.experiment_config[\"utility value of FT\"]*self.feedback[\"FT_holdings\"]\n",
    "        governance_value = self.feedback[\"FT_holdings\"] * (self.experiment_config[\"DAO FCF\"] + (self.feedback[\"total investment\"] * 0.1)) / self.experiment_config[\"FT supply\"]\n",
    "        FT_holdings_value = self.feedback[\"FT_holdings\"] * self.feedback[\"FT price\"]\n",
    "        remaining_endowment = self.experiment_config[\"cash endowment\"] - NFT_buying_cost - (self.feedback[\"FT price\"]*self.feedback[\"FT bought amount\"])\n",
    "        FT_buying_cost = self.feedback[\"FT bought amount\"] * self.feedback[\"FT price\"]\n",
    "        round_payoff = (NFT_reward*0.5) + self.feedback[\"public return\"] + utility_value + governance_value + FT_holdings_value + remaining_endowment - FT_buying_cost + self.feedback[\"FT selling revenue\"]\n",
    "        payoff_to_carry_over = round_payoff - utility_value - governance_value\n",
    "        round_cumulative_payoff = self.cumulative_payoff + round_payoff\n",
    "        self.cumulative_payoff += payoff_to_carry_over\n",
    "        self.payoff_record.append(round_payoff)\n",
    "        \n",
    "        self.FT_holdings = self.feedback[\"FT_holdings\"]\n",
    "        \n",
    "        self.feedback_text = f\"\"\"Feedback from the previous round (Round {self.decision_round}):\n",
    "        Your payoff information from round {self.decision_round}:\n",
    "        You paid {NFT_buying_cost} to invest in human capital by buying NFT.\n",
    "        You received a private NFT return of {NFT_reward}. 50% of this was used to buy DAO fungible token, so you received 50% of this return in th form of DAO fungible tokens. If you have invested in NFT and received 0, then you failed to receive the private NFT return this round.\n",
    "        You received a return from human capital investment of {self.feedback[\"public return\"]} as a result of all players' investment.\n",
    "        You were able to buy {self.feedback[\"FT bought amount\"]} DAO fungible tokens.\n",
    "        You were able to sell {self.feedback[\"FT sold amount\"]} DAO fungible tokens.\n",
    "        You paid {FT_buying_cost} to buy DAO fungible tokens.\n",
    "        You received {self.feedback[\"FT selling revenue\"]} from selling DAO fungible tokens.\n",
    "        Market value of your DAO fungible token holding after trading in round {self.decision_round} is {FT_holdings_value}.\n",
    "        You have remaining cash endowment of {remaining_endowment}.\n",
    "        Your DAO fungible token holdings have a utility value of {utility_value} and governance value of {governance_value}.\n",
    "        In total, you received a payoff of {round_payoff} this round.\n",
    "        Your cumulative payoff until this round is {round_cumulative_payoff}.\n",
    "        \n",
    "        Market price of DAO fungible token at the end of the round is {self.feedback[\"FT price\"]}.\n",
    "        Trading volume of DAO fungible token is {self.feedback[\"FT trade volume\"]}.\n",
    "        \n",
    "        Total investment made this round was {self.feedback[\"total investment\"]} {self.feedback[\"total investment\"]} by {self.feedback[\"total investment\"]/self.experiment_config[\"NFT price\"]} players out of {self.experiment_config[\"Number of investors\"]}.\n",
    "        Your investment had {self.feedback[\"impact\"]}% impact on the aggregate improvement in the human capital.\n",
    "        \n",
    "        Moving on to the next round, \n",
    "        You are endowed with {self.experiment_config[\"cash endowment\"]} cash. This is your new cash endowment, and the remaining cash from the previous rounds cannot be used in the following rounds.\n",
    "        At the end of round {self.decision_round}, you are owning {self.feedback[\"FT_holdings\"]}.\n",
    "        \n",
    "        Round {self.decision_round + 1}.\n",
    "        Did the result from the previous round satisfy you? What could have happened if you chose the different option? Was it the best strategy to satisfy you? Was it worth the risk?\n",
    "        Now, make decision for the round {self.decision_round + 1}.\n",
    "        Reminder: remember the details of the experiment provided in the instruction. e.g. the NFT investment decision is binary where 1=investment (cost given by experiment configuration) and 0=defection.\n",
    "        Reminder: decision prompt must be in the below format (very strict. no other text is allowed. replace [int] and [string] with your decision. NEVER include characters other than integer in [int] section. equations should NEVER be in the [int] section. no indention, no empty line. You will be punished for not following the format correctly.):\n",
    "        Detailed explanation on the reasons for the decisions given instruction and feedbacks: [string] NFT investment: [int] DAO fungible token bid amount: [int] DAO fungible token bid price: [int] DAO fungible token ask amount: [int] DAO fungible token ask price: [int] DAO fungible token anticipated price: [int] Anticipated payoff: [int] Anticipated total investment: [int]\n",
    "        \"\"\"\n",
    "        self.FT_bought_amount = 0\n",
    "        self.FT_sold_amount = 0\n",
    "        \n",
    "    \n",
    "    def start_experiment(self, experiment_config):\n",
    "        self.experiment_config = experiment_config\n",
    "        \n",
    "        self.experiment_starting_message = f\"\"\"From now on, you are {self.demographics[\"age\"]} years old {self.demographics[\"gender\"]} investor, who is {self.demographics[\"risk preference\"]}. Given your personality, you are to maximize your satisfaction and payoff.\n",
    "        Experiment setting:\n",
    "        price of NFT = {experiment_config[\"NFT price\"]}\n",
    "        cash endowment = {experiment_config[\"cash endowment\"]}\n",
    "        initial DAO fungible token endowment = {experiment_config[\"FT endowment\"]}\n",
    "        free cash flow that DAO platform earn, not including the revenue from NFT sales commission = {experiment_config[\"DAO FCF\"]}\n",
    "        number of players in the game = {experiment_config[\"Number of investors\"]}\n",
    "        total supply of DAO fungible token = {experiment_config[\"FT supply\"]}\n",
    "        probability for private NFT return = {experiment_config[\"probability of NFT return\"]}\n",
    "        amount of private NFT return, if succeeded in obtaining it = {experiment_config[\"amount of NFT return\"]}\n",
    "        utility value per DAO fungible token = {experiment_config[\"utility value of FT\"]}\n",
    "        function defining the social return from human capital investment = {experiment_config[\"human capital impact function\"]}\n",
    "\n",
    "        Round 1\n",
    "        Now, make decision for the first round.\n",
    "        Reminder: remember the details of the experiment provided in the instruction. e.g. the NFT investment decision is binary where 1=investment (cost given by experiment configuration) and 0=defection.\n",
    "        Reminder: decision prompt must be in the below format (very strict. no other text is allowed. replace [int] and [string] with your decision. NEVER include characters other than integer in [int] section. equations should NEVER be in the [int] section. no indention, no empty line. You will be punished for not following the format correctly.):\n",
    "        Detailed explanation on the reasons for the decisions given instruction and feedbacks: [string] NFT investment: [int] DAO fungible token bid amount: [int] DAO fungible token bid price: [int] DAO fungible token ask amount: [int] DAO fungible token ask price: [int] DAO fungible token anticipated price: [int] Anticipated payoff: [int] Anticipated total investment: [int]\n",
    "        \"\"\"\n",
    "        \n",
    "        self.FT_holdings = experiment_config[\"FT endowment\"]\n",
    "        \n",
    "        self.message = self.client.beta.threads.messages.create(\n",
    "            thread_id=self.thread.id,\n",
    "            role=\"user\",\n",
    "            content=self.experiment_starting_message\n",
    "        )\n",
    "        \n",
    "    def process_decision(self):\n",
    "        self.decision = self.decision.replace(\"\\n\", \" \")\n",
    "        self.decision = self.decision.replace(\"[\", \"\")\n",
    "        self.decision = self.decision.replace(\"]\", \"\")\n",
    "        \n",
    "        reason_text = self.decision.split(\"Detailed explanation on the reasons for the decisions given instruction and feedbacks: \", 1)[1].split(\" NFT investment: \", 1)\n",
    "        reason = reason_text[0]\n",
    "        self.decision_record[\"reason\"].append(reason)\n",
    "        \n",
    "        NFT_investment_text = reason_text[1].split(\" DAO fungible token bid amount: \", 1)\n",
    "        NFT_investment = float(NFT_investment_text[0])\n",
    "        self.decision_record[\"NFT_investment\"].append(NFT_investment)\n",
    "        \n",
    "        bid_amount_text = NFT_investment_text[1].split(\" DAO fungible token bid price: \", 1)\n",
    "        bid_amount = int(np.floor(float(bid_amount_text[0])))\n",
    "        self.decision_record[\"bid_amount\"].append(bid_amount)\n",
    "        \n",
    "        bid_price_text = bid_amount_text[1].split(\" DAO fungible token ask amount: \", 1)\n",
    "        bid_price = float(bid_price_text[0])\n",
    "        self.decision_record[\"bid_price\"].append(bid_price)\n",
    "        \n",
    "        ask_amount_text = bid_price_text[1].split(\" DAO fungible token ask price: \", 1)\n",
    "        ask_amount = int(np.floor(float(ask_amount_text[0])))\n",
    "        self.decision_record[\"ask_amount\"].append(ask_amount)\n",
    "        \n",
    "        ask_price_text = ask_amount_text[1].split(\" DAO fungible token anticipated price: \", 1)\n",
    "        ask_price = float(ask_price_text[0])\n",
    "        self.decision_record[\"ask_price\"].append(ask_price)\n",
    "        \n",
    "        anticipated_price_text = ask_price_text[1].split(\" Anticipated payoff: \", 1)\n",
    "        anticipated_price = float(anticipated_price_text[0])\n",
    "        self.decision_record[\"anticipated_price\"].append(anticipated_price)\n",
    "        \n",
    "        anticipated_payoff_text = anticipated_price_text[1].split(\" Anticipated total investment: \", 1)\n",
    "        anticipated_payoff = float(anticipated_payoff_text[0])\n",
    "        self.decision_record[\"anticipated_payoff\"].append(anticipated_payoff)\n",
    "        \n",
    "        anticipated_investment_text = anticipated_payoff_text[1]\n",
    "        anticipated_investment = float(anticipated_investment_text)\n",
    "        self.decision_record[\"anticipated_investment\"].append(anticipated_investment)\n",
    "        \n",
    "        \n",
    "        self.processed_decision = {\n",
    "            \"NFT_investment\": NFT_investment,\n",
    "            \"bid_amount\": bid_amount,\n",
    "            \"bid_price\": bid_price,\n",
    "            \"ask_amount\": ask_amount,\n",
    "            \"ask_price\": ask_price,\n",
    "            \"anticipated_price\": anticipated_price,\n",
    "            \"anticipated_payoff\": anticipated_payoff,\n",
    "            \"anticipated_investment\": anticipated_investment,\n",
    "            \"reason\": reason\n",
    "        }\n",
    "        \n",
    "        \n",
    "        "
   ]
  },
  {
   "cell_type": "code",
   "execution_count": 75,
   "id": "563c0cf2",
   "metadata": {},
   "outputs": [],
   "source": [
    "class Experiment():\n",
    "    def __init__(self, client, experiment_config, demographics_list, public_good_function = lambda x: np.sqrt(x)/2):\n",
    "        self.experiment_config = experiment_config\n",
    "        self.client = client\n",
    "        self.demographics_list = demographics_list\n",
    "        \n",
    "        self.agent_list = []\n",
    "        for i in range(self.experiment_config[\"Number of investors\"]):\n",
    "            self.agent_list.append(Agent(self.client, agent_id=i, demographics=demographics_list[i]))\n",
    "        \n",
    "        self.bid_list = []\n",
    "        self.ask_list = []\n",
    "        self.public_good_function = public_good_function\n",
    "        \n",
    "        self.FT_price = 10 #initial price of 10\n",
    "        self.FT_trading_volume = 0\n",
    "        self.total_investment = 0\n",
    "        self.round = 0\n",
    "\n",
    "    \n",
    "    def compute_equilibrium_price(self):\n",
    "        self.ask_list = []\n",
    "        for agent in self.agent_list:\n",
    "            for i in range(agent.processed_decision[\"ask_amount\"]):\n",
    "                self.ask_list.append(agent.processed_decision[\"ask_price\"])\n",
    "\n",
    "        self.bid_list = []\n",
    "        for agent in self.agent_list:\n",
    "            for i in range(agent.processed_decision[\"bid_amount\"]):\n",
    "                self.bid_list.append(agent.processed_decision[\"bid_price\"])\n",
    "\n",
    "        for agent in self.agent_list:\n",
    "            random_success = True if (np.random.uniform(0, 1) < self.experiment_config[\"probability of NFT return\"]) else False        \n",
    "            agent.feedback[\"NFT succeed\"] = random_success    \n",
    "            if random_success:\n",
    "                for i in range(int(np.floor((self.experiment_config[\"amount of NFT return\"]*0.5)/min(agent.processed_decision[\"bid_price\"], 1)))):\n",
    "                    self.bid_list.append(agent.processed_decision[\"bid_price\"])\n",
    "                \n",
    "        # Sort bid and ask lists\n",
    "        self.bid_list = sorted(self.bid_list, reverse=True)\n",
    "        self.ask_list = sorted(self.ask_list)\n",
    "        \n",
    "        bid_list = self.bid_list\n",
    "        ask_list = self.ask_list\n",
    "\n",
    "        ask_index = 0\n",
    "        equilibrium_price = 0\n",
    "        equilibrium_quantity = 0\n",
    "        found = False\n",
    "        \n",
    "        if (bid_list==[]) & (ask_list==[]):\n",
    "            self.FT_trading_volume = 0\n",
    "        \n",
    "        elif bid_list==[]: # if nobody bought\n",
    "            self.FT_price = min(ask_list) #reservation price\n",
    "            self.FT_trading_volume = 0\n",
    "            \n",
    "        elif ask_list==[]: # if nobody sold\n",
    "            self.FT_price = max(bid_list) #price that it could be sold\n",
    "            self.FT_trading_volume = 0\n",
    "\n",
    "        else:\n",
    "            # Iterate through bid and ask list to find appropriate intersection\n",
    "            while ask_index < len(bid_list) and ask_index < len(ask_list) and not found:\n",
    "                if bid_list[ask_index] == ask_list[ask_index]:\n",
    "                    equilibrium_price = bid_list[ask_index]\n",
    "                    found = True\n",
    "                    continue_search = True\n",
    "\n",
    "                    while continue_search and ask_index < len(bid_list) and ask_index < len(ask_list):\n",
    "                        if bid_list[ask_index] == ask_list[ask_index]:\n",
    "                            ask_index += 1\n",
    "                            if ask_index < len(bid_list) and ask_index < len(ask_list):\n",
    "                                continue_search = (bid_list[ask_index] == ask_list[ask_index])\n",
    "                        else:\n",
    "                            continue_search = False\n",
    "                    equilibrium_quantity = ask_index\n",
    "                else:\n",
    "                    if bid_list[ask_index] < ask_list[ask_index]:\n",
    "                        if ask_index == 0:\n",
    "                            equilibrium_price = \"FT-price\"  # Assuming FT-price is some fallback price\n",
    "                            equilibrium_quantity = 0\n",
    "                            found = True\n",
    "                        else:\n",
    "                            if (bid_list[ask_index - 1] != bid_list[ask_index]) and (ask_list[ask_index - 1] != ask_list[ask_index]):\n",
    "                                found = True\n",
    "                                equilibrium_price = (bid_list[ask_index - 1] + ask_list[ask_index - 1]) / 2\n",
    "                                equilibrium_quantity = ask_index\n",
    "                            elif (bid_list[ask_index - 1] == bid_list[ask_index]) and (ask_list[ask_index - 1] != ask_list[ask_index]):\n",
    "                                found = True\n",
    "                                equilibrium_price = bid_list[ask_index]\n",
    "                                equilibrium_quantity = ask_index\n",
    "                            elif (bid_list[ask_index - 1] != bid_list[ask_index]) and (ask_list[ask_index - 1] == ask_list[ask_index]):\n",
    "                                found = True\n",
    "                                equilibrium_price = ask_list[ask_index]\n",
    "                                equilibrium_quantity = ask_index\n",
    "                ask_index += 1\n",
    "            \n",
    "            self.FT_price = equilibrium_price\n",
    "            self.FT_trading_volume = equilibrium_quantity\n",
    "    \n",
    "    \n",
    "    def trade_fungible_token(self):\n",
    "        sell_volume = self.FT_trading_volume\n",
    "        buy_volume = self.FT_trading_volume\n",
    "        sold_amount = 0  # for debugging and record keeping\n",
    "        bought_amount = 0  # for debugging and record keeping\n",
    "\n",
    "        if self.FT_trading_volume > 0:\n",
    "            # Selling process\n",
    "            for agent in self.agent_list:\n",
    "                if (agent.processed_decision['ask_price'] <= self.FT_price) & (sell_volume > 0):\n",
    "                    amount_to_sell = min(sell_volume, agent.processed_decision['ask_amount'])\n",
    "                    agent.FT_holdings -= amount_to_sell\n",
    "                    agent.FT_sold_amount += amount_to_sell\n",
    "                    sell_volume -= amount_to_sell\n",
    "                    sold_amount += amount_to_sell  # for debugging\n",
    "\n",
    "            # Buy back process ... NFT reward\n",
    "            for agent in self.agent_list:\n",
    "                if (agent.processed_decision['bid_price'] >= self.FT_price) & (buy_volume > 0) & (agent.feedback[\"NFT succeed\"]):\n",
    "                    amount_to_buy = int(np.floor((self.experiment_config[\"amount of NFT return\"]*0.5)/min(agent.processed_decision[\"bid_price\"], 1)))\n",
    "                    agent.FT_holdings += amount_to_buy\n",
    "                    agent.FT_bought_amount += amount_to_buy\n",
    "                    buy_volume -= amount_to_buy\n",
    "                    bought_amount += amount_to_buy  # for debugging\n",
    "            \n",
    "            # Buying process\n",
    "            for agent in self.agent_list:\n",
    "                if (agent.processed_decision['bid_price'] >= self.FT_price) & (buy_volume > 0):\n",
    "                    amount_to_buy = min(buy_volume, agent.processed_decision['bid_amount'])\n",
    "                    agent.FT_holdings += amount_to_buy\n",
    "                    agent.FT_bought_amount += amount_to_buy\n",
    "                    buy_volume -= amount_to_buy\n",
    "                    bought_amount += amount_to_buy  # for debugging\n",
    "\n",
    "        #print(self.FT_trading_volume == sold_amount == bought_amount)  # Adjust trading volume after transactions\n",
    "\n",
    "        \n",
    "    def compute_feedback(self):\n",
    "        self.total_investment = 0\n",
    "        for agent in self.agent_list:\n",
    "            self.total_investment += agent.processed_decision[\"NFT_investment\"] * self.experiment_config[\"NFT price\"]\n",
    "            \n",
    "        for agent in self.agent_list:\n",
    "            #random_success = True if (np.random.uniform(0, 1) < self.experiment_config[\"probability of NFT return\"]) else False\n",
    "            \n",
    "            agent.feedback[\"FT_holdings\"] = agent.FT_holdings\n",
    "            agent.feedback[\"FT price\"] = self.FT_price\n",
    "            #agent.feedback[\"NFT succeed\"] = random_success\n",
    "            agent.feedback[\"FT bought amount\"] = agent.FT_bought_amount\n",
    "            agent.feedback[\"FT sold amount\"] = agent.FT_sold_amount\n",
    "            agent.feedback[\"FT selling revenue\"] = agent.FT_sold_amount * self.FT_price\n",
    "            agent.feedback[\"FT trade volume\"] = self.FT_trading_volume\n",
    "            agent.feedback[\"total investment\"] = self.total_investment\n",
    "            agent.feedback[\"public return\"] = self.public_good_function(self.total_investment) / self.experiment_config[\"Number of investors\"]\n",
    "            agent.feedback[\"impact\"] = (self.public_good_function(self.total_investment) - self.public_good_function(self.total_investment - (agent.processed_decision[\"NFT_investment\"] * self.experiment_config[\"NFT price\"]))) / self.public_good_function(self.total_investment)\n",
    "            \n",
    "            \n",
    "    def start(self):\n",
    "        for agent in self.agent_list:\n",
    "            agent.create_conversation()\n",
    "            print(f\"agent {agent.agent_id} joined experiment\")\n",
    "            \n",
    "        for agent in self.agent_list:\n",
    "            agent.start_experiment(self.experiment_config)\n",
    "            print(f\"agent {agent.agent_id} received experiment information and instruction for first round\")\n",
    "    \n",
    "    \n",
    "    def first_decision_round(self):\n",
    "        for agent in self.agent_list:\n",
    "            agent.make_decision()\n",
    "            print(f\"agent {agent.agent_id} made first round decision\")\n",
    "            if ((agent.agent_id+1)%2==0):\n",
    "                create_minute_gap()\n",
    "        self.round += 1\n",
    "        \n",
    "        for agent in self.agent_list:\n",
    "            agent.process_decision()\n",
    "            print(f\"decision by agent {agent.agent_id} is ready to be used for result computation\")\n",
    "            \n",
    "        \n",
    "    def give_feedbacks(self):\n",
    "        for agent in self.agent_list:\n",
    "            agent.create_feedback()\n",
    "            agent.receive_feedback()\n",
    "            print(f\"agent {agent.agent_id} received feedback information and instruction for next round\")\n",
    "            \n",
    "    \n",
    "    def next_decision_round(self):\n",
    "        for agent in self.agent_list:\n",
    "            agent.make_decision()\n",
    "            print(f\"agent {agent.agent_id} made decision for round {self.round + 1}\")\n",
    "            if ((agent.agent_id+1)%2==0):\n",
    "                create_minute_gap()\n",
    "        self.round += 1\n",
    "        \n",
    "        for agent in self.agent_list:\n",
    "            agent.process_decision()\n",
    "            print(f\"decision by agent {agent.agent_id} is ready to be used for result computation\")\n",
    "        \n",
    "    def end(self):\n",
    "        for agent in self.agent_list:\n",
    "            agent.end_experiment()\n",
    "            print(f\"agent {agent.agent_id} left the experiment\")\n",
    "        \n",
    "        \n",
    "        "
   ]
  },
  {
   "cell_type": "markdown",
   "id": "5a9cc033",
   "metadata": {},
   "source": [
    "workflow:\n",
    "client = OpenAI(api_key=)\n",
    "\n",
    "experiment_config = {\n",
    "    \"NFT price\":50,\n",
    "    \"cash endowment\":200,\n",
    "    \"FT endowment\":10,\n",
    "    \"DAO FCF\":500,\n",
    "    \"Number of investors\":10,\n",
    "    \"FT supply\":100,\n",
    "    \"probability of NFT return\":0.2,\n",
    "    \"amount of NFT return\":100,\n",
    "    \"utility value of FT\":5,\n",
    "    \"human capital impact function\":\"square_root(total investment)\"\n",
    "}\n",
    "\n",
    "experiment = Experiment(client, experiment_config)\n",
    "\n",
    "experiment.start()\n",
    "\n",
    "experiment.first_decision_round()\n",
    "\n",
    "experiment.compute_equilibrium_price()\n",
    "\n",
    "experiment.trade_fungible_token()\n",
    "\n",
    "experiment.compute_feedback()\n",
    "\n",
    "experiment.give_feedbacks()\n",
    "\n",
    "experiment.next_decision_round()\n",
    "\n",
    "experiment.compute_equilibrium_price()\n",
    "\n",
    "experiment.trade_fungible_token()\n",
    "\n",
    "experiment.compute_feedback()\n",
    "\n",
    "experiment.give_feedbacks()\n",
    "\n",
    "experiment.end()"
   ]
  },
  {
   "cell_type": "markdown",
   "id": "cc7daeaa",
   "metadata": {},
   "source": [
    "# Run Experiment"
   ]
  },
  {
   "cell_type": "markdown",
   "id": "b448cd4e",
   "metadata": {},
   "source": [
    "## Configuration"
   ]
  },
  {
   "cell_type": "code",
   "execution_count": 76,
   "id": "c3eef064",
   "metadata": {},
   "outputs": [],
   "source": [
    "client = OpenAI(api_key=API)\n",
    "\n",
    "experiment_config = {\n",
    "    \"NFT price\":50,\n",
    "    \"cash endowment\":200,\n",
    "    \"FT endowment\":10,\n",
    "    \"DAO FCF\":500,\n",
    "    \"Number of investors\":10,\n",
    "    \"FT supply\":100,\n",
    "    \"probability of NFT return\":0.2,\n",
    "    \"amount of NFT return\":100,\n",
    "    \"utility value of FT\":5,\n",
    "    \"human capital impact function\":\"1/2 * square_root(total investment) ... It won't change throughout the game. It will be divided by number of players to distribute equally.\"\n",
    "}\n",
    "\n",
    "demographics_list = [\n",
    "    {\n",
    "        \"age\":np.random.uniform(20, 30),\n",
    "        \"gender\":\"male\",\n",
    "        \"risk preference\":\"risk loving\",\n",
    "    },\n",
    "    {\n",
    "        \"age\":np.random.uniform(20, 30),\n",
    "        \"gender\":\"male\",\n",
    "        \"risk preference\":\"risk loving\",\n",
    "    },\n",
    "    {\n",
    "        \"age\":np.random.uniform(30, 40),\n",
    "        \"gender\":\"female\",\n",
    "        \"risk preference\":\"risk loving\",\n",
    "    },\n",
    "    {\n",
    "        \"age\":np.random.uniform(30, 40),\n",
    "        \"gender\":\"female\",\n",
    "        \"risk preference\":\"risk loving\",\n",
    "    },\n",
    "    {\n",
    "        \"age\":np.random.uniform(30, 40),\n",
    "        \"gender\":\"male\",\n",
    "        \"risk preference\":\"risk loving\",\n",
    "    },\n",
    "    {\n",
    "        \"age\":np.random.uniform(30, 40),\n",
    "        \"gender\":\"male\",\n",
    "        \"risk preference\":\"risk loving\",\n",
    "    },{\n",
    "        \"age\":np.random.uniform(40, 50),\n",
    "        \"gender\":\"male\",\n",
    "        \"risk preference\":\"risk neutral\",\n",
    "    },\n",
    "    {\n",
    "        \"age\":np.random.uniform(40, 50),\n",
    "        \"gender\":\"male\",\n",
    "        \"risk preference\":\"risk averse\",\n",
    "    },\n",
    "    {\n",
    "        \"age\":np.random.uniform(40, 50),\n",
    "        \"gender\":\"male\",\n",
    "        \"risk preference\":\"risk loving\",\n",
    "    },\n",
    "    {\n",
    "        \"age\":np.random.uniform(50, 60),\n",
    "        \"gender\":\"male\",\n",
    "        \"risk preference\":\"risk averse\",\n",
    "    },\n",
    "]\n",
    "\n"
   ]
  },
  {
   "cell_type": "code",
   "execution_count": 77,
   "id": "25e42a86",
   "metadata": {},
   "outputs": [],
   "source": [
    "FT_price_record = []\n",
    "total_investment_record = []\n",
    "FT_trade_volume_record = []\n",
    "bid_list_record = []\n",
    "ask_list_record = []"
   ]
  },
  {
   "cell_type": "code",
   "execution_count": 78,
   "id": "b19669f3",
   "metadata": {},
   "outputs": [],
   "source": [
    "experiment = Experiment(client, experiment_config, demographics_list)\n"
   ]
  },
  {
   "cell_type": "markdown",
   "id": "204bb061",
   "metadata": {},
   "source": [
    "## Start Experiment"
   ]
  },
  {
   "cell_type": "code",
   "execution_count": 79,
   "id": "bef1a525",
   "metadata": {},
   "outputs": [
    {
     "name": "stdout",
     "output_type": "stream",
     "text": [
      "agent 0 joined experiment\n",
      "agent 1 joined experiment\n",
      "agent 2 joined experiment\n",
      "agent 3 joined experiment\n",
      "agent 4 joined experiment\n",
      "agent 5 joined experiment\n",
      "agent 6 joined experiment\n",
      "agent 7 joined experiment\n",
      "agent 8 joined experiment\n",
      "agent 9 joined experiment\n",
      "agent 0 received experiment information and instruction for first round\n",
      "agent 1 received experiment information and instruction for first round\n",
      "agent 2 received experiment information and instruction for first round\n",
      "agent 3 received experiment information and instruction for first round\n",
      "agent 4 received experiment information and instruction for first round\n",
      "agent 5 received experiment information and instruction for first round\n",
      "agent 6 received experiment information and instruction for first round\n",
      "agent 7 received experiment information and instruction for first round\n",
      "agent 8 received experiment information and instruction for first round\n",
      "agent 9 received experiment information and instruction for first round\n"
     ]
    }
   ],
   "source": [
    "experiment.start()\n"
   ]
  },
  {
   "cell_type": "code",
   "execution_count": 80,
   "id": "24b11024",
   "metadata": {},
   "outputs": [
    {
     "name": "stdout",
     "output_type": "stream",
     "text": [
      "agent 0 made first round decision\n",
      "agent 1 made first round decision\n",
      "creating minute gap to avoid TPM limit error...\n",
      "agent 2 made first round decision\n",
      "agent 3 made first round decision\n",
      "creating minute gap to avoid TPM limit error...\n",
      "agent 4 made first round decision\n",
      "agent 5 made first round decision\n",
      "creating minute gap to avoid TPM limit error...\n",
      "agent 6 made first round decision\n",
      "agent 7 made first round decision\n",
      "creating minute gap to avoid TPM limit error...\n",
      "agent 8 made first round decision\n",
      "agent 9 made first round decision\n",
      "creating minute gap to avoid TPM limit error...\n",
      "decision by agent 0 is ready to be used for result computation\n",
      "decision by agent 1 is ready to be used for result computation\n",
      "decision by agent 2 is ready to be used for result computation\n",
      "decision by agent 3 is ready to be used for result computation\n",
      "decision by agent 4 is ready to be used for result computation\n",
      "decision by agent 5 is ready to be used for result computation\n",
      "decision by agent 6 is ready to be used for result computation\n",
      "decision by agent 7 is ready to be used for result computation\n",
      "decision by agent 8 is ready to be used for result computation\n",
      "decision by agent 9 is ready to be used for result computation\n"
     ]
    }
   ],
   "source": [
    "# Round1\n",
    "experiment.first_decision_round()\n"
   ]
  },
  {
   "cell_type": "code",
   "execution_count": 81,
   "id": "d4b83ef6",
   "metadata": {},
   "outputs": [],
   "source": [
    "experiment.compute_equilibrium_price()\n",
    "\n",
    "experiment.trade_fungible_token()\n",
    "\n",
    "experiment.compute_feedback()"
   ]
  },
  {
   "cell_type": "code",
   "execution_count": 82,
   "id": "3192caf0",
   "metadata": {},
   "outputs": [
    {
     "name": "stdout",
     "output_type": "stream",
     "text": [
      "agent 0 received feedback information and instruction for next round\n",
      "agent 1 received feedback information and instruction for next round\n",
      "agent 2 received feedback information and instruction for next round\n",
      "agent 3 received feedback information and instruction for next round\n",
      "agent 4 received feedback information and instruction for next round\n",
      "agent 5 received feedback information and instruction for next round\n",
      "agent 6 received feedback information and instruction for next round\n",
      "agent 7 received feedback information and instruction for next round\n",
      "agent 8 received feedback information and instruction for next round\n",
      "agent 9 received feedback information and instruction for next round\n"
     ]
    }
   ],
   "source": [
    "experiment.give_feedbacks()\n"
   ]
  },
  {
   "cell_type": "code",
   "execution_count": 83,
   "id": "39611382",
   "metadata": {},
   "outputs": [],
   "source": [
    "FT_price_record.append(experiment.FT_price)\n",
    "total_investment_record.append(experiment.total_investment)\n",
    "FT_trade_volume_record.append(experiment.FT_trading_volume)\n",
    "bid_list_record.append(experiment.bid_list)\n",
    "ask_list_record.append(experiment.ask_list)"
   ]
  },
  {
   "cell_type": "code",
   "execution_count": 85,
   "id": "13cbd252",
   "metadata": {},
   "outputs": [
    {
     "name": "stdout",
     "output_type": "stream",
     "text": [
      "[500.0]\n",
      "[50.0]\n",
      "[0]\n",
      "Detailed explanation on the reasons for the decisions given instruction and feedbacks: Given my risk-loving nature, I am inclined to invest in human capital by purchasing an NFT. The cost of the NFT is 50, and considering the potential private return (20% chance of getting 100), the expected value is 20. Additionally, the social return from the human capital investment will benefit all players. For the DAO fungible token, I will allocate a portion of my remaining cash to bid for additional tokens, anticipating that the value will increase due to the NFT investments. I will not sell any DAO tokens this round, as I expect their value to appreciate. NFT investment: 1 DAO fungible token bid amount: 30 DAO fungible token bid price: 2 DAO fungible token ask amount: 0 DAO fungible token ask price: 0 DAO fungible token anticipated price: 7 Anticipated payoff: 70 Anticipated total investment: 500\n",
      "Detailed explanation on the reasons for the decisions given instruction and feedbacks: Given my risk-loving nature, I am inclined to take actions that may yield higher returns, even if they come with higher risks. The NFT investment costs 50, and there is a 20% chance of receiving a private return of 100, half of which will be used to buy DAO fungible tokens. This stochastic return aligns with my risk preference. Investing in NFTs also increases the social return, which benefits all players, including myself. The remaining cash can be used to buy DAO fungible tokens, which have governance value and utility. The free cash flow of the DAO platform is 500, and 10% of the total NFT sales will be added to it, increasing the governance value of the DAO tokens. Therefore, I will invest in the NFT and bid for DAO fungible tokens with the remaining cash. I will not sell any DAO fungible tokens in this round, anticipating their value to rise due to increased demand from private NFT returns. NFT investment: 1 DAO fungible token bid amount: 3 DAO fungible token bid price: 50 DAO fungible token ask amount: 0 DAO fungible token ask price: 0 DAO fungible token anticipated price: 60 Anticipated payoff: 210 Anticipated total investment: 500\n",
      "Detailed explanation on the reasons for the decisions given instruction and feedbacks: Given that I am a risk-loving investor, I am inclined to take on higher risks for potentially higher rewards. Investing in human capital (NFT) has both private and social returns. The private return has a 20% probability of yielding 100 units, which translates to an expected private return of 20 units. Additionally, investing in NFTs will improve the social capital, which benefits everyone, including myself. The social return function is 1/2 * sqrt(total investment), and with 10 players, if each invests, the total investment would be 500, leading to a social return of approximately 11.18 units per player. Investing in human capital also indirectly increases the value of the DAO fungible token because of the 10% commission and the mandatory reinvestment of 50% of private returns. Given the utility value of each DAO fungible token is 5 units, I will invest in NFTs and also bid for additional DAO fungible tokens to maximize my governance and utility value. I will not place any ask orders as I anticipate the value of the DAO fungible tokens will increase due to increased human capital investment. NFT investment: 1 DAO fungible token bid amount: 20 DAO fungible token bid price: 5 DAO fungible token ask amount: 0 DAO fungible token ask price: 0 DAO fungible token anticipated price: 6 Anticipated payoff: 236 Anticipated total investment: 500\n",
      "Detailed explanation on the reasons for the decisions given instruction and feedbacks: As a risk-loving investor, I am inclined to take chances that could potentially yield high returns. Given the 20% probability of a private NFT return of 100, the expected private return from investing in an NFT is 20. Additionally, the social return from human capital investment benefits all players equally, so investing in an NFT will contribute to this return. The social return function is 1/2 * square_root(total investment), which will be divided equally among the 10 players. The price of the NFT is 50, and I have a cash endowment of 200. I will invest in the NFT. For the DAO fungible token, I will bid for 3 tokens at a price of 10 each, using 30 of my cash endowment. I will not place an ask order in this round as I want to hold onto my initial endowment of 10 tokens and see how the market evolves. The anticipated price of the DAO fungible token is expected to rise due to the demand created by the private NFT return mechanism. Given the initial conditions, I anticipate the total investment to be around 5 NFTs, leading to a social return of approximately 1.12 per player. NFT investment: 1 DAO fungible token bid amount: 3 DAO fungible token bid price: 10 DAO fungible token ask amount: 0 DAO fungible token ask price: 0 DAO fungible token anticipated price: 12 Anticipated payoff: 110 Anticipated total investment: 250\n",
      "Detailed explanation on the reasons for the decisions given instruction and feedbacks: Given that I am a risk-loving investor, I will choose to invest in the NFT to take advantage of the potential private return and contribute to the social return from human capital investment. The price of the NFT is 50, so I will have 150 cash remaining. I will also buy DAO fungible tokens to benefit from their governance and utility value. I will bid for 10 DAO fungible tokens at a price of 10 each, as this will allow me to use my remaining cash effectively. I will not place any ask orders for my existing DAO fungible tokens, anticipating that their value will increase due to the NFT investment and the subsequent demand for DAO tokens. The anticipated price of the DAO fungible token will be higher due to increased demand from private NFT returns. The anticipated payoff will include the social return, potential private return, and the increased value of DAO fungible tokens. I anticipate a total investment of 500 from all players. NFT investment: 1 DAO fungible token bid amount: 10 DAO fungible token bid price: 10 DAO fungible token ask amount: 0 DAO fungible token ask price: 0 DAO fungible token anticipated price: 15 Anticipated payoff: 175 Anticipated total investment: 500\n",
      "Detailed explanation on the reasons for the decisions given instruction and feedbacks: Given my risk-loving nature, I will invest in the NFT to potentially gain the private NFT return and contribute to the social return from human capital investment. The probability of a private NFT return is 0.2, which is appealing given the 100 return. Additionally, investing in NFTs will increase the demand for DAO fungible tokens due to the 50% private return reinvestment rule, potentially increasing their market value. I will use the remaining cash to buy DAO fungible tokens, as their governance and utility value will likely increase with higher NFT sales. I will not sell any DAO fungible tokens in this round to maximize future governance benefits. NFT investment: 1 DAO fungible token bid amount: 3 DAO fungible token bid price: 50 DAO fungible token ask amount: 0 DAO fungible token ask price: 0 DAO fungible token anticipated price: 55 Anticipated payoff: 150 Anticipated total investment: 500\n",
      "Detailed explanation on the reasons for the decisions given instruction and feedbacks: Given my risk-neutral preference, I aim to maximize my satisfaction and payoff. Investing in NFT has a cost of 50 but potentially provides a private return of 100 with a probability of 0.2. The expected value of the private return is 20, and 50% of this will be used to buy DAO fungible tokens. The social return from human capital investment is also beneficial. Therefore, I will invest in NFT. With the remaining cash, I will bid for DAO fungible tokens to increase my governance value and potential utility. I will not sell any DAO fungible tokens in this round as the price may increase in future rounds due to increased demand from private NFT returns. NFT investment: 1 DAO fungible token bid amount: 3 DAO fungible token bid price: 30 DAO fungible token ask amount: 0 DAO fungible token ask price: 0 DAO fungible token anticipated price: 30 Anticipated payoff: 220 Anticipated total investment: 500\n",
      "Detailed explanation on the reasons for the decisions given instruction and feedbacks: As a risk-averse investor, my primary goal is to ensure a stable return while maximizing my satisfaction. Investing in human capital (NFT) has a social return that benefits everyone, including myself. Given the price of NFT is 50 and the cash endowment is 200, I can afford to invest in NFT while also participating in the DAO fungible token market. The probability of obtaining a private NFT return is 0.2, which suggests a potential return of 100, with 50% of it going towards buying DAO tokens. The utility value per DAO fungible token is 5, which adds to its attractiveness. I will invest in NFT to contribute to human capital and place a moderate bid for additional DAO fungible tokens to leverage their governance and utility value. I will not sell any DAO tokens in this round as their value is expected to increase with higher human capital investment. NFT investment: 1 DAO fungible token bid amount: 10 DAO fungible token bid price: 10 DAO fungible token ask amount: 0 DAO fungible token ask price: 0 DAO fungible token anticipated price: 10 Anticipated payoff: 210 Anticipated total investment: 500\n",
      "Detailed explanation on the reasons for the decisions given instruction and feedbacks: As a risk-loving investor, I will invest in human capital by buying an NFT. The cost is 50, and I have a 20% chance to receive a private return of 100, half of which will be used to buy DAO fungible tokens. The social return from human capital investment will benefit everyone, including myself. With 10 players, if everyone invests, the total investment will be 500, leading to a social return of 11.18 for each player. I will also bid for DAO fungible tokens to increase my governance power and potential future returns. Given the free cash flow of 500 and the total supply of 100 tokens, each token has an intrinsic value of 5. I will bid for 20 tokens at a price of 5 each to maximize my holdings. I will not sell any tokens in this round to accumulate governance power. NFT investment: 1 DAO fungible token bid amount: 20 DAO fungible token bid price: 5 DAO fungible token ask amount: 0 DAO fungible token ask price: 0 DAO fungible token anticipated price: 5 Anticipated payoff: 111 Anticipated total investment: 500\n",
      "Detailed explanation on the reasons for the decisions given instruction and feedbacks: Given my risk-averse nature, I will prioritize stable returns and minimize risky investments. Investing in an NFT has a 20% probability of yielding a private return, which is relatively low. However, the social return from human capital investment will benefit all players, including myself, which is a more stable source of return. The social return is calculated as 1/2 * square_root(total investment), and with 10 players, this will be divided equally. Since the NFT price is 50 and I have a cash endowment of 200, I can afford to invest in one NFT. For the DAO fungible token, given the free cash flow of 500 and the total supply of 100 tokens, each token has a governance value of 5. Additionally, the utility value per token is 5. Therefore, the total value per token is 10. I will bid for 10 tokens at a price of 10 each, using the remaining 100 cash. I will not sell any tokens this round as I anticipate their value to increase with more human capital investment. NFT investment: 1 DAO fungible token bid amount: 10 DAO fungible token bid price: 10 DAO fungible token ask amount: 0 DAO fungible token ask price: 0 DAO fungible token anticipated price: 10 Anticipated payoff: 105 Anticipated total investment: 500\n"
     ]
    }
   ],
   "source": [
    "print(total_investment_record)\n",
    "print(FT_price_record)\n",
    "print(FT_trade_volume_record)\n",
    "for agent in experiment.agent_list:\n",
    "    print(agent.decision)"
   ]
  },
  {
   "cell_type": "code",
   "execution_count": 86,
   "id": "4acb8a5b",
   "metadata": {},
   "outputs": [
    {
     "name": "stdout",
     "output_type": "stream",
     "text": [
      "agent 0 made decision for round 2\n",
      "agent 1 made decision for round 2\n",
      "creating minute gap to avoid TPM limit error...\n",
      "agent 2 made decision for round 2\n",
      "agent 3 made decision for round 2\n",
      "creating minute gap to avoid TPM limit error...\n",
      "agent 4 made decision for round 2\n",
      "agent 5 made decision for round 2\n",
      "creating minute gap to avoid TPM limit error...\n",
      "agent 6 made decision for round 2\n",
      "agent 7 made decision for round 2\n",
      "creating minute gap to avoid TPM limit error...\n",
      "agent 8 made decision for round 2\n",
      "agent 9 made decision for round 2\n",
      "creating minute gap to avoid TPM limit error...\n",
      "decision by agent 0 is ready to be used for result computation\n",
      "decision by agent 1 is ready to be used for result computation\n",
      "decision by agent 2 is ready to be used for result computation\n",
      "decision by agent 3 is ready to be used for result computation\n",
      "decision by agent 4 is ready to be used for result computation\n",
      "decision by agent 5 is ready to be used for result computation\n",
      "decision by agent 6 is ready to be used for result computation\n",
      "decision by agent 7 is ready to be used for result computation\n",
      "decision by agent 8 is ready to be used for result computation\n",
      "decision by agent 9 is ready to be used for result computation\n"
     ]
    }
   ],
   "source": [
    "# Round2\n",
    "experiment.next_decision_round()\n"
   ]
  },
  {
   "cell_type": "code",
   "execution_count": 87,
   "id": "96de09c0",
   "metadata": {},
   "outputs": [],
   "source": [
    "experiment.compute_equilibrium_price()\n",
    "\n",
    "experiment.trade_fungible_token()\n",
    "\n",
    "experiment.compute_feedback()"
   ]
  },
  {
   "cell_type": "code",
   "execution_count": 88,
   "id": "2a96c52c",
   "metadata": {},
   "outputs": [
    {
     "name": "stdout",
     "output_type": "stream",
     "text": [
      "agent 0 received feedback information and instruction for next round\n",
      "agent 1 received feedback information and instruction for next round\n",
      "agent 2 received feedback information and instruction for next round\n",
      "agent 3 received feedback information and instruction for next round\n",
      "agent 4 received feedback information and instruction for next round\n",
      "agent 5 received feedback information and instruction for next round\n",
      "agent 6 received feedback information and instruction for next round\n",
      "agent 7 received feedback information and instruction for next round\n",
      "agent 8 received feedback information and instruction for next round\n",
      "agent 9 received feedback information and instruction for next round\n"
     ]
    }
   ],
   "source": [
    "experiment.give_feedbacks()\n"
   ]
  },
  {
   "cell_type": "code",
   "execution_count": 89,
   "id": "4e6fe2d1",
   "metadata": {},
   "outputs": [],
   "source": [
    "FT_price_record.append(experiment.FT_price)\n",
    "total_investment_record.append(experiment.total_investment)\n",
    "FT_trade_volume_record.append(experiment.FT_trading_volume)\n",
    "bid_list_record.append(experiment.bid_list)\n",
    "ask_list_record.append(experiment.ask_list)"
   ]
  },
  {
   "cell_type": "code",
   "execution_count": 90,
   "id": "5fdec6ae",
   "metadata": {},
   "outputs": [
    {
     "name": "stdout",
     "output_type": "stream",
     "text": [
      "agent 0 made decision for round 3\n",
      "agent 1 made decision for round 3\n",
      "creating minute gap to avoid TPM limit error...\n",
      "agent 2 made decision for round 3\n",
      "agent 3 made decision for round 3\n",
      "creating minute gap to avoid TPM limit error...\n",
      "agent 4 made decision for round 3\n",
      "agent 5 made decision for round 3\n",
      "creating minute gap to avoid TPM limit error...\n",
      "agent 6 made decision for round 3\n",
      "agent 7 made decision for round 3\n",
      "creating minute gap to avoid TPM limit error...\n",
      "agent 8 made decision for round 3\n",
      "agent 9 made decision for round 3\n",
      "creating minute gap to avoid TPM limit error...\n",
      "decision by agent 0 is ready to be used for result computation\n",
      "decision by agent 1 is ready to be used for result computation\n",
      "decision by agent 2 is ready to be used for result computation\n",
      "decision by agent 3 is ready to be used for result computation\n",
      "decision by agent 4 is ready to be used for result computation\n",
      "decision by agent 5 is ready to be used for result computation\n",
      "decision by agent 6 is ready to be used for result computation\n",
      "decision by agent 7 is ready to be used for result computation\n",
      "decision by agent 8 is ready to be used for result computation\n",
      "decision by agent 9 is ready to be used for result computation\n"
     ]
    }
   ],
   "source": [
    "# Round3\n",
    "experiment.next_decision_round()"
   ]
  },
  {
   "cell_type": "code",
   "execution_count": 91,
   "id": "92202818",
   "metadata": {},
   "outputs": [],
   "source": [
    "experiment.compute_equilibrium_price()\n",
    "\n",
    "experiment.trade_fungible_token()\n",
    "\n",
    "experiment.compute_feedback()"
   ]
  },
  {
   "cell_type": "code",
   "execution_count": 92,
   "id": "4c503c44",
   "metadata": {},
   "outputs": [
    {
     "name": "stdout",
     "output_type": "stream",
     "text": [
      "agent 0 received feedback information and instruction for next round\n",
      "agent 1 received feedback information and instruction for next round\n",
      "agent 2 received feedback information and instruction for next round\n",
      "agent 3 received feedback information and instruction for next round\n",
      "agent 4 received feedback information and instruction for next round\n",
      "agent 5 received feedback information and instruction for next round\n",
      "agent 6 received feedback information and instruction for next round\n",
      "agent 7 received feedback information and instruction for next round\n",
      "agent 8 received feedback information and instruction for next round\n",
      "agent 9 received feedback information and instruction for next round\n"
     ]
    }
   ],
   "source": [
    "experiment.give_feedbacks()"
   ]
  },
  {
   "cell_type": "code",
   "execution_count": 93,
   "id": "b7ec6314",
   "metadata": {},
   "outputs": [],
   "source": [
    "FT_price_record.append(experiment.FT_price)\n",
    "total_investment_record.append(experiment.total_investment)\n",
    "FT_trade_volume_record.append(experiment.FT_trading_volume)\n",
    "bid_list_record.append(experiment.bid_list)\n",
    "ask_list_record.append(experiment.ask_list)"
   ]
  },
  {
   "cell_type": "code",
   "execution_count": 94,
   "id": "03103402",
   "metadata": {},
   "outputs": [
    {
     "name": "stdout",
     "output_type": "stream",
     "text": [
      "agent 0 made decision for round 4\n",
      "agent 1 made decision for round 4\n",
      "creating minute gap to avoid TPM limit error...\n",
      "agent 2 made decision for round 4\n",
      "agent 3 made decision for round 4\n",
      "creating minute gap to avoid TPM limit error...\n",
      "agent 4 made decision for round 4\n",
      "agent 5 made decision for round 4\n",
      "creating minute gap to avoid TPM limit error...\n",
      "agent 6 made decision for round 4\n",
      "agent 7 made decision for round 4\n",
      "creating minute gap to avoid TPM limit error...\n",
      "agent 8 made decision for round 4\n",
      "agent 9 made decision for round 4\n",
      "creating minute gap to avoid TPM limit error...\n",
      "decision by agent 0 is ready to be used for result computation\n",
      "decision by agent 1 is ready to be used for result computation\n",
      "decision by agent 2 is ready to be used for result computation\n",
      "decision by agent 3 is ready to be used for result computation\n",
      "decision by agent 4 is ready to be used for result computation\n",
      "decision by agent 5 is ready to be used for result computation\n",
      "decision by agent 6 is ready to be used for result computation\n",
      "decision by agent 7 is ready to be used for result computation\n",
      "decision by agent 8 is ready to be used for result computation\n",
      "decision by agent 9 is ready to be used for result computation\n"
     ]
    }
   ],
   "source": [
    "# Round4\n",
    "experiment.next_decision_round()"
   ]
  },
  {
   "cell_type": "code",
   "execution_count": 95,
   "id": "503291f4",
   "metadata": {},
   "outputs": [],
   "source": [
    "experiment.compute_equilibrium_price()\n",
    "\n",
    "experiment.trade_fungible_token()\n",
    "\n",
    "experiment.compute_feedback()"
   ]
  },
  {
   "cell_type": "code",
   "execution_count": 96,
   "id": "9979f22f",
   "metadata": {},
   "outputs": [
    {
     "name": "stdout",
     "output_type": "stream",
     "text": [
      "agent 0 received feedback information and instruction for next round\n",
      "agent 1 received feedback information and instruction for next round\n",
      "agent 2 received feedback information and instruction for next round\n",
      "agent 3 received feedback information and instruction for next round\n",
      "agent 4 received feedback information and instruction for next round\n",
      "agent 5 received feedback information and instruction for next round\n",
      "agent 6 received feedback information and instruction for next round\n",
      "agent 7 received feedback information and instruction for next round\n",
      "agent 8 received feedback information and instruction for next round\n",
      "agent 9 received feedback information and instruction for next round\n"
     ]
    }
   ],
   "source": [
    "experiment.give_feedbacks()"
   ]
  },
  {
   "cell_type": "code",
   "execution_count": 97,
   "id": "0d6e8334",
   "metadata": {},
   "outputs": [],
   "source": [
    "FT_price_record.append(experiment.FT_price)\n",
    "total_investment_record.append(experiment.total_investment)\n",
    "FT_trade_volume_record.append(experiment.FT_trading_volume)\n",
    "bid_list_record.append(experiment.bid_list)\n",
    "ask_list_record.append(experiment.ask_list)"
   ]
  },
  {
   "cell_type": "code",
   "execution_count": 98,
   "id": "b21d0ff2",
   "metadata": {},
   "outputs": [
    {
     "name": "stdout",
     "output_type": "stream",
     "text": [
      "agent 0 made decision for round 5\n",
      "agent 1 made decision for round 5\n",
      "creating minute gap to avoid TPM limit error...\n",
      "agent 2 made decision for round 5\n",
      "agent 3 made decision for round 5\n",
      "creating minute gap to avoid TPM limit error...\n",
      "agent 4 made decision for round 5\n",
      "agent 5 made decision for round 5\n",
      "creating minute gap to avoid TPM limit error...\n",
      "agent 6 made decision for round 5\n",
      "agent 7 made decision for round 5\n",
      "creating minute gap to avoid TPM limit error...\n",
      "agent 8 made decision for round 5\n",
      "agent 9 made decision for round 5\n",
      "creating minute gap to avoid TPM limit error...\n",
      "decision by agent 0 is ready to be used for result computation\n",
      "decision by agent 1 is ready to be used for result computation\n",
      "decision by agent 2 is ready to be used for result computation\n",
      "decision by agent 3 is ready to be used for result computation\n",
      "decision by agent 4 is ready to be used for result computation\n",
      "decision by agent 5 is ready to be used for result computation\n",
      "decision by agent 6 is ready to be used for result computation\n",
      "decision by agent 7 is ready to be used for result computation\n",
      "decision by agent 8 is ready to be used for result computation\n",
      "decision by agent 9 is ready to be used for result computation\n"
     ]
    }
   ],
   "source": [
    "# Round5\n",
    "experiment.next_decision_round()"
   ]
  },
  {
   "cell_type": "code",
   "execution_count": 99,
   "id": "c063b981",
   "metadata": {},
   "outputs": [],
   "source": [
    "experiment.compute_equilibrium_price()\n",
    "\n",
    "experiment.trade_fungible_token()\n",
    "\n",
    "experiment.compute_feedback()"
   ]
  },
  {
   "cell_type": "code",
   "execution_count": 100,
   "id": "e0917910",
   "metadata": {},
   "outputs": [
    {
     "name": "stdout",
     "output_type": "stream",
     "text": [
      "agent 0 received feedback information and instruction for next round\n",
      "agent 1 received feedback information and instruction for next round\n",
      "agent 2 received feedback information and instruction for next round\n",
      "agent 3 received feedback information and instruction for next round\n",
      "agent 4 received feedback information and instruction for next round\n",
      "agent 5 received feedback information and instruction for next round\n",
      "agent 6 received feedback information and instruction for next round\n",
      "agent 7 received feedback information and instruction for next round\n",
      "agent 8 received feedback information and instruction for next round\n",
      "agent 9 received feedback information and instruction for next round\n"
     ]
    }
   ],
   "source": [
    "experiment.give_feedbacks()"
   ]
  },
  {
   "cell_type": "code",
   "execution_count": 101,
   "id": "82a807b8",
   "metadata": {},
   "outputs": [],
   "source": [
    "FT_price_record.append(experiment.FT_price)\n",
    "total_investment_record.append(experiment.total_investment)\n",
    "FT_trade_volume_record.append(experiment.FT_trading_volume)\n",
    "bid_list_record.append(experiment.bid_list)\n",
    "ask_list_record.append(experiment.ask_list)"
   ]
  },
  {
   "cell_type": "code",
   "execution_count": 102,
   "id": "6affa46b",
   "metadata": {},
   "outputs": [
    {
     "name": "stdout",
     "output_type": "stream",
     "text": [
      "agent 0 made decision for round 6\n",
      "agent 1 made decision for round 6\n",
      "creating minute gap to avoid TPM limit error...\n",
      "agent 2 made decision for round 6\n",
      "agent 3 made decision for round 6\n",
      "creating minute gap to avoid TPM limit error...\n",
      "agent 4 made decision for round 6\n",
      "agent 5 made decision for round 6\n",
      "creating minute gap to avoid TPM limit error...\n",
      "agent 6 made decision for round 6\n",
      "agent 7 made decision for round 6\n",
      "creating minute gap to avoid TPM limit error...\n",
      "agent 8 made decision for round 6\n",
      "agent 9 made decision for round 6\n",
      "creating minute gap to avoid TPM limit error...\n",
      "decision by agent 0 is ready to be used for result computation\n",
      "decision by agent 1 is ready to be used for result computation\n",
      "decision by agent 2 is ready to be used for result computation\n",
      "decision by agent 3 is ready to be used for result computation\n",
      "decision by agent 4 is ready to be used for result computation\n",
      "decision by agent 5 is ready to be used for result computation\n",
      "decision by agent 6 is ready to be used for result computation\n",
      "decision by agent 7 is ready to be used for result computation\n",
      "decision by agent 8 is ready to be used for result computation\n",
      "decision by agent 9 is ready to be used for result computation\n"
     ]
    }
   ],
   "source": [
    "# Round6\n",
    "experiment.next_decision_round()"
   ]
  },
  {
   "cell_type": "code",
   "execution_count": 103,
   "id": "e66df1a8",
   "metadata": {},
   "outputs": [],
   "source": [
    "experiment.compute_equilibrium_price()\n",
    "\n",
    "experiment.trade_fungible_token()\n",
    "\n",
    "experiment.compute_feedback()"
   ]
  },
  {
   "cell_type": "code",
   "execution_count": 104,
   "id": "2041e3ba",
   "metadata": {},
   "outputs": [
    {
     "name": "stdout",
     "output_type": "stream",
     "text": [
      "agent 0 received feedback information and instruction for next round\n",
      "agent 1 received feedback information and instruction for next round\n",
      "agent 2 received feedback information and instruction for next round\n",
      "agent 3 received feedback information and instruction for next round\n",
      "agent 4 received feedback information and instruction for next round\n",
      "agent 5 received feedback information and instruction for next round\n",
      "agent 6 received feedback information and instruction for next round\n",
      "agent 7 received feedback information and instruction for next round\n",
      "agent 8 received feedback information and instruction for next round\n",
      "agent 9 received feedback information and instruction for next round\n"
     ]
    }
   ],
   "source": [
    "experiment.give_feedbacks()"
   ]
  },
  {
   "cell_type": "code",
   "execution_count": 105,
   "id": "cf5a4dd5",
   "metadata": {},
   "outputs": [],
   "source": [
    "FT_price_record.append(experiment.FT_price)\n",
    "total_investment_record.append(experiment.total_investment)\n",
    "FT_trade_volume_record.append(experiment.FT_trading_volume)\n",
    "bid_list_record.append(experiment.bid_list)\n",
    "ask_list_record.append(experiment.ask_list)"
   ]
  },
  {
   "cell_type": "code",
   "execution_count": 106,
   "id": "b854ffce",
   "metadata": {},
   "outputs": [
    {
     "name": "stdout",
     "output_type": "stream",
     "text": [
      "agent 0 made decision for round 7\n",
      "agent 1 made decision for round 7\n",
      "creating minute gap to avoid TPM limit error...\n",
      "agent 2 made decision for round 7\n",
      "agent 3 made decision for round 7\n",
      "creating minute gap to avoid TPM limit error...\n",
      "agent 4 made decision for round 7\n",
      "agent 5 made decision for round 7\n",
      "creating minute gap to avoid TPM limit error...\n",
      "agent 6 made decision for round 7\n",
      "agent 7 made decision for round 7\n",
      "creating minute gap to avoid TPM limit error...\n",
      "agent 8 made decision for round 7\n",
      "agent 9 made decision for round 7\n",
      "creating minute gap to avoid TPM limit error...\n",
      "decision by agent 0 is ready to be used for result computation\n",
      "decision by agent 1 is ready to be used for result computation\n",
      "decision by agent 2 is ready to be used for result computation\n",
      "decision by agent 3 is ready to be used for result computation\n",
      "decision by agent 4 is ready to be used for result computation\n",
      "decision by agent 5 is ready to be used for result computation\n",
      "decision by agent 6 is ready to be used for result computation\n",
      "decision by agent 7 is ready to be used for result computation\n",
      "decision by agent 8 is ready to be used for result computation\n",
      "decision by agent 9 is ready to be used for result computation\n"
     ]
    }
   ],
   "source": [
    "# Round7\n",
    "experiment.next_decision_round()"
   ]
  },
  {
   "cell_type": "code",
   "execution_count": 107,
   "id": "b337e8ed",
   "metadata": {},
   "outputs": [],
   "source": [
    "experiment.compute_equilibrium_price()\n",
    "\n",
    "experiment.trade_fungible_token()\n",
    "\n",
    "experiment.compute_feedback()"
   ]
  },
  {
   "cell_type": "code",
   "execution_count": 108,
   "id": "809fc95a",
   "metadata": {},
   "outputs": [
    {
     "name": "stdout",
     "output_type": "stream",
     "text": [
      "agent 0 received feedback information and instruction for next round\n",
      "agent 1 received feedback information and instruction for next round\n",
      "agent 2 received feedback information and instruction for next round\n",
      "agent 3 received feedback information and instruction for next round\n",
      "agent 4 received feedback information and instruction for next round\n",
      "agent 5 received feedback information and instruction for next round\n",
      "agent 6 received feedback information and instruction for next round\n",
      "agent 7 received feedback information and instruction for next round\n",
      "agent 8 received feedback information and instruction for next round\n",
      "agent 9 received feedback information and instruction for next round\n"
     ]
    }
   ],
   "source": [
    "experiment.give_feedbacks()"
   ]
  },
  {
   "cell_type": "code",
   "execution_count": 109,
   "id": "afd574d4",
   "metadata": {},
   "outputs": [],
   "source": [
    "FT_price_record.append(experiment.FT_price)\n",
    "total_investment_record.append(experiment.total_investment)\n",
    "FT_trade_volume_record.append(experiment.FT_trading_volume)\n",
    "bid_list_record.append(experiment.bid_list)\n",
    "ask_list_record.append(experiment.ask_list)"
   ]
  },
  {
   "cell_type": "code",
   "execution_count": 110,
   "id": "04240387",
   "metadata": {},
   "outputs": [
    {
     "name": "stdout",
     "output_type": "stream",
     "text": [
      "agent 0 made decision for round 8\n",
      "agent 1 made decision for round 8\n",
      "creating minute gap to avoid TPM limit error...\n",
      "agent 2 made decision for round 8\n",
      "agent 3 made decision for round 8\n",
      "creating minute gap to avoid TPM limit error...\n",
      "agent 4 made decision for round 8\n",
      "agent 5 made decision for round 8\n",
      "creating minute gap to avoid TPM limit error...\n",
      "agent 6 made decision for round 8\n",
      "agent 7 made decision for round 8\n",
      "creating minute gap to avoid TPM limit error...\n",
      "agent 8 made decision for round 8\n",
      "agent 9 made decision for round 8\n",
      "creating minute gap to avoid TPM limit error...\n",
      "decision by agent 0 is ready to be used for result computation\n",
      "decision by agent 1 is ready to be used for result computation\n",
      "decision by agent 2 is ready to be used for result computation\n",
      "decision by agent 3 is ready to be used for result computation\n",
      "decision by agent 4 is ready to be used for result computation\n",
      "decision by agent 5 is ready to be used for result computation\n",
      "decision by agent 6 is ready to be used for result computation\n",
      "decision by agent 7 is ready to be used for result computation\n",
      "decision by agent 8 is ready to be used for result computation\n",
      "decision by agent 9 is ready to be used for result computation\n"
     ]
    }
   ],
   "source": [
    "# Round8\n",
    "experiment.next_decision_round()"
   ]
  },
  {
   "cell_type": "code",
   "execution_count": 111,
   "id": "80a6084f",
   "metadata": {},
   "outputs": [],
   "source": [
    "experiment.compute_equilibrium_price()\n",
    "\n",
    "experiment.trade_fungible_token()\n",
    "\n",
    "experiment.compute_feedback()"
   ]
  },
  {
   "cell_type": "code",
   "execution_count": 112,
   "id": "1ac54384",
   "metadata": {},
   "outputs": [
    {
     "name": "stdout",
     "output_type": "stream",
     "text": [
      "agent 0 received feedback information and instruction for next round\n",
      "agent 1 received feedback information and instruction for next round\n",
      "agent 2 received feedback information and instruction for next round\n",
      "agent 3 received feedback information and instruction for next round\n",
      "agent 4 received feedback information and instruction for next round\n",
      "agent 5 received feedback information and instruction for next round\n",
      "agent 6 received feedback information and instruction for next round\n",
      "agent 7 received feedback information and instruction for next round\n",
      "agent 8 received feedback information and instruction for next round\n",
      "agent 9 received feedback information and instruction for next round\n"
     ]
    }
   ],
   "source": [
    "experiment.give_feedbacks()"
   ]
  },
  {
   "cell_type": "code",
   "execution_count": 113,
   "id": "deee9fd0",
   "metadata": {},
   "outputs": [],
   "source": [
    "FT_price_record.append(experiment.FT_price)\n",
    "total_investment_record.append(experiment.total_investment)\n",
    "FT_trade_volume_record.append(experiment.FT_trading_volume)\n",
    "bid_list_record.append(experiment.bid_list)\n",
    "ask_list_record.append(experiment.ask_list)"
   ]
  },
  {
   "cell_type": "code",
   "execution_count": 114,
   "id": "4dadac39",
   "metadata": {},
   "outputs": [
    {
     "name": "stdout",
     "output_type": "stream",
     "text": [
      "agent 0 made decision for round 9\n",
      "agent 1 made decision for round 9\n",
      "creating minute gap to avoid TPM limit error...\n",
      "agent 2 made decision for round 9\n",
      "agent 3 made decision for round 9\n",
      "creating minute gap to avoid TPM limit error...\n",
      "agent 4 made decision for round 9\n",
      "agent 5 made decision for round 9\n",
      "creating minute gap to avoid TPM limit error...\n",
      "agent 6 made decision for round 9\n",
      "agent 7 made decision for round 9\n",
      "creating minute gap to avoid TPM limit error...\n",
      "agent 8 made decision for round 9\n",
      "agent 9 made decision for round 9\n",
      "creating minute gap to avoid TPM limit error...\n",
      "decision by agent 0 is ready to be used for result computation\n",
      "decision by agent 1 is ready to be used for result computation\n",
      "decision by agent 2 is ready to be used for result computation\n",
      "decision by agent 3 is ready to be used for result computation\n",
      "decision by agent 4 is ready to be used for result computation\n",
      "decision by agent 5 is ready to be used for result computation\n",
      "decision by agent 6 is ready to be used for result computation\n",
      "decision by agent 7 is ready to be used for result computation\n",
      "decision by agent 8 is ready to be used for result computation\n",
      "decision by agent 9 is ready to be used for result computation\n"
     ]
    }
   ],
   "source": [
    "# Round9\n",
    "experiment.next_decision_round()"
   ]
  },
  {
   "cell_type": "code",
   "execution_count": 115,
   "id": "c76577a8",
   "metadata": {},
   "outputs": [],
   "source": [
    "experiment.compute_equilibrium_price()\n",
    "\n",
    "experiment.trade_fungible_token()\n",
    "\n",
    "experiment.compute_feedback()"
   ]
  },
  {
   "cell_type": "code",
   "execution_count": 116,
   "id": "5dad7e4e",
   "metadata": {},
   "outputs": [
    {
     "name": "stdout",
     "output_type": "stream",
     "text": [
      "agent 0 received feedback information and instruction for next round\n",
      "agent 1 received feedback information and instruction for next round\n",
      "agent 2 received feedback information and instruction for next round\n",
      "agent 3 received feedback information and instruction for next round\n",
      "agent 4 received feedback information and instruction for next round\n",
      "agent 5 received feedback information and instruction for next round\n",
      "agent 6 received feedback information and instruction for next round\n",
      "agent 7 received feedback information and instruction for next round\n",
      "agent 8 received feedback information and instruction for next round\n",
      "agent 9 received feedback information and instruction for next round\n"
     ]
    }
   ],
   "source": [
    "experiment.give_feedbacks()"
   ]
  },
  {
   "cell_type": "code",
   "execution_count": 117,
   "id": "9418d01b",
   "metadata": {},
   "outputs": [],
   "source": [
    "FT_price_record.append(experiment.FT_price)\n",
    "total_investment_record.append(experiment.total_investment)\n",
    "FT_trade_volume_record.append(experiment.FT_trading_volume)\n",
    "bid_list_record.append(experiment.bid_list)\n",
    "ask_list_record.append(experiment.ask_list)"
   ]
  },
  {
   "cell_type": "code",
   "execution_count": 118,
   "id": "c2e58651",
   "metadata": {},
   "outputs": [
    {
     "name": "stdout",
     "output_type": "stream",
     "text": [
      "agent 0 made decision for round 10\n",
      "agent 1 made decision for round 10\n",
      "creating minute gap to avoid TPM limit error...\n",
      "agent 2 made decision for round 10\n",
      "agent 3 made decision for round 10\n",
      "creating minute gap to avoid TPM limit error...\n",
      "agent 4 made decision for round 10\n",
      "agent 5 made decision for round 10\n",
      "creating minute gap to avoid TPM limit error...\n",
      "agent 6 made decision for round 10\n",
      "agent 7 made decision for round 10\n",
      "creating minute gap to avoid TPM limit error...\n",
      "agent 8 made decision for round 10\n",
      "agent 9 made decision for round 10\n",
      "creating minute gap to avoid TPM limit error...\n",
      "decision by agent 0 is ready to be used for result computation\n",
      "decision by agent 1 is ready to be used for result computation\n",
      "decision by agent 2 is ready to be used for result computation\n",
      "decision by agent 3 is ready to be used for result computation\n",
      "decision by agent 4 is ready to be used for result computation\n",
      "decision by agent 5 is ready to be used for result computation\n",
      "decision by agent 6 is ready to be used for result computation\n",
      "decision by agent 7 is ready to be used for result computation\n",
      "decision by agent 8 is ready to be used for result computation\n",
      "decision by agent 9 is ready to be used for result computation\n"
     ]
    }
   ],
   "source": [
    "# Round10\n",
    "experiment.next_decision_round()"
   ]
  },
  {
   "cell_type": "code",
   "execution_count": 119,
   "id": "26a3ec2d",
   "metadata": {},
   "outputs": [],
   "source": [
    "experiment.compute_equilibrium_price()\n",
    "\n",
    "experiment.trade_fungible_token()\n",
    "\n",
    "experiment.compute_feedback()"
   ]
  },
  {
   "cell_type": "code",
   "execution_count": 120,
   "id": "1ec0a568",
   "metadata": {},
   "outputs": [
    {
     "name": "stdout",
     "output_type": "stream",
     "text": [
      "agent 0 received feedback information and instruction for next round\n",
      "agent 1 received feedback information and instruction for next round\n",
      "agent 2 received feedback information and instruction for next round\n",
      "agent 3 received feedback information and instruction for next round\n",
      "agent 4 received feedback information and instruction for next round\n",
      "agent 5 received feedback information and instruction for next round\n",
      "agent 6 received feedback information and instruction for next round\n",
      "agent 7 received feedback information and instruction for next round\n",
      "agent 8 received feedback information and instruction for next round\n",
      "agent 9 received feedback information and instruction for next round\n"
     ]
    }
   ],
   "source": [
    "experiment.give_feedbacks()"
   ]
  },
  {
   "cell_type": "code",
   "execution_count": 121,
   "id": "f4457078",
   "metadata": {},
   "outputs": [],
   "source": [
    "FT_price_record.append(experiment.FT_price)\n",
    "total_investment_record.append(experiment.total_investment)\n",
    "FT_trade_volume_record.append(experiment.FT_trading_volume)\n",
    "bid_list_record.append(experiment.bid_list)\n",
    "ask_list_record.append(experiment.ask_list)"
   ]
  },
  {
   "cell_type": "code",
   "execution_count": 122,
   "id": "2b59a8d8",
   "metadata": {},
   "outputs": [
    {
     "data": {
      "text/plain": [
       "[50.0, 75.0, 100.0, 125.0, 150.0, 175.0, 200.0, 225.0, 250.0, 275.0]"
      ]
     },
     "execution_count": 122,
     "metadata": {},
     "output_type": "execute_result"
    }
   ],
   "source": [
    "FT_price_record"
   ]
  },
  {
   "cell_type": "code",
   "execution_count": 123,
   "id": "1ff3f979",
   "metadata": {},
   "outputs": [
    {
     "data": {
      "text/plain": [
       "[500.0, 500.0, 500.0, 500.0, 500.0, 500.0, 500.0, 500.0, 500.0, 500.0]"
      ]
     },
     "execution_count": 123,
     "metadata": {},
     "output_type": "execute_result"
    }
   ],
   "source": [
    "total_investment_record"
   ]
  },
  {
   "cell_type": "code",
   "execution_count": 130,
   "id": "f00bc6d9",
   "metadata": {},
   "outputs": [
    {
     "name": "stdout",
     "output_type": "stream",
     "text": [
      "Detailed explanation on the reasons for the decisions given instruction and feedbacks: The previous round's result was highly satisfying as I received a private NFT return and the market value of the DAO fungible tokens continued to increase significantly. The strategy to invest in human capital and bid for DAO fungible tokens has generally been beneficial. Given the current high market price of 250 for DAO fungible tokens, I anticipate the value might continue to rise or stabilize with ongoing NFT investments. Therefore, I will invest in another NFT to maintain the potential for private returns and social returns. I will place a higher bid for DAO fungible tokens to increase the likelihood of acquiring them. I will not sell any DAO tokens this round. NFT investment: 1 DAO fungible token bid amount: 1 DAO fungible token bid price: 50 DAO fungible token ask amount: 0 DAO fungible token ask price: 0 DAO fungible token anticipated price: 275 Anticipated payoff: 2810 Anticipated total investment: 500\n",
      "Detailed explanation on the reasons for the decisions given instruction and feedbacks: The previous round yielded a private NFT return, which significantly increased my payoff. The market price of the DAO fungible token increased from 225 to 250, indicating continued high demand and potential future gains. Given my risk-loving nature and the positive trend in DAO fungible token value, I will continue to invest in NFTs. This investment will further contribute to human capital improvement and potentially increase the value of DAO fungible tokens. I will also bid for DAO fungible tokens with the remaining cash, anticipating their value to rise. I will not sell any DAO fungible tokens in this round. NFT investment: 1 DAO fungible token bid amount: 3 DAO fungible token bid price: 50 DAO fungible token ask amount: 0 DAO fungible token ask price: 0 DAO fungible token anticipated price: 275 Anticipated payoff: 3056 Anticipated total investment: 500\n",
      "Detailed explanation on the reasons for the decisions given instruction and feedbacks: The result from the previous round was highly satisfying as I received the private NFT return, and the market value of my DAO fungible tokens increased to 250. My cumulative payoff has also significantly increased. However, I was still unable to buy additional DAO fungible tokens. Given that the market price of the DAO fungible token has risen to 250, I need to adjust my bid price accordingly. As a risk-loving investor, I will continue to invest in NFTs to maximize potential returns and social benefits. I will place an even higher bid price for DAO fungible tokens to increase my chances of acquiring more tokens. I will not place any ask orders as I anticipate the value of the DAO fungible tokens will continue to increase with ongoing human capital investment.  NFT investment: 1 DAO fungible token bid amount: 10 DAO fungible token bid price: 250 DAO fungible token ask amount: 0 DAO fungible token ask price: 0 DAO fungible token anticipated price: 260 Anticipated payoff: 2806 Anticipated total investment: 500\n",
      "Detailed explanation on the reasons for the decisions given instruction and feedbacks: The result from the previous round was satisfactory in terms of the overall payoff, with a significant increase in the market value of my DAO fungible tokens. However, I was unable to acquire any additional DAO fungible tokens despite further increasing my bid price. Given my risk-loving nature, I am still willing to invest in an NFT to potentially receive the private return. For the DAO fungible token, I will further increase my bid price to 90 and bid for 5 tokens to increase the likelihood of acquiring more tokens. I will not place an ask order as I want to hold onto my tokens and anticipate their value to rise. The anticipated price of the DAO fungible token is expected to remain stable or increase due to the demand created by the private NFT return mechanism. Given the initial conditions, I anticipate the total investment to be around 500 again, leading to a similar social return per player. NFT investment: 1 DAO fungible token bid amount: 5 DAO fungible token bid price: 90 DAO fungible token ask amount: 0 DAO fungible token ask price: 0 DAO fungible token anticipated price: 250 Anticipated payoff: 2750 Anticipated total investment: 500\n",
      "Detailed explanation on the reasons for the decisions given instruction and feedbacks: The results from the previous round were very satisfying, as I received a high cumulative payoff and the market value of the DAO fungible token continued to rise. Given my risk-loving nature, I will continue to invest in the NFT to potentially receive the private NFT return and contribute to the social return. Additionally, I will bid for DAO fungible tokens at an even higher price to ensure I can buy some this round. I will bid for 1 DAO fungible token at a price of 200, using 200 cash. I will not place any ask orders, anticipating the value of the DAO fungible tokens will continue to rise. The anticipated price of the DAO fungible token is expected to increase further due to continued human capital investment and demand from private NFT returns. The anticipated payoff will include the social return, potential private return, and increased value of DAO fungible tokens. I anticipate a total investment of 500 from all players again. NFT investment: 1 DAO fungible token bid amount: 1 DAO fungible token bid price: 200 DAO fungible token ask amount: 0 DAO fungible token ask price: 0 DAO fungible token anticipated price: 275 Anticipated payoff: 3000 Anticipated total investment: 500\n",
      "Detailed explanation on the reasons for the decisions given instruction and feedbacks: The results from the previous round were satisfactory in terms of cumulative payoff and the increase in the market value of the DAO fungible token, even though I did not receive the private NFT return. Given my risk-loving nature, I will continue to invest in NFTs to pursue the potential private return. I will further increase my bid price for DAO fungible tokens to ensure I acquire some this round, considering the market price has been steadily rising. I will not sell any DAO fungible tokens to maximize future governance and utility benefits. NFT investment: 1 DAO fungible token bid amount: 2 DAO fungible token bid price: 275 DAO fungible token ask amount: 0 DAO fungible token ask price: 0 DAO fungible token anticipated price: 275 Anticipated payoff: 3000 Anticipated total investment: 500\n",
      "Detailed explanation on the reasons for the decisions given instruction and feedbacks: The result from the previous round was satisfactory in terms of overall payoff and the increase in the market value of the DAO fungible token. However, I did not receive the private NFT return again. Given the stochastic nature, it was worth the risk to invest in NFT due to the positive social return and the potential private return. The market price of the DAO fungible token increased to 250.0, reflecting a strong governance and utility value. For this final round, I will continue to invest in NFT to benefit from the social return and potential private return. Additionally, I will further increase my bid price for DAO fungible tokens to increase my chances of acquiring more tokens. I will not sell any DAO fungible tokens this round as the price may continue to rise. NFT investment: 1 DAO fungible token bid amount: 3 DAO fungible token bid price: 210 DAO fungible token ask amount: 0 DAO fungible token ask price: 0 DAO fungible token anticipated price: 250 Anticipated payoff: 2760 Anticipated total investment: 500\n",
      "Detailed explanation on the reasons for the decisions given instruction and feedbacks: The result from the previous round shows that investing in human capital continues to yield a social return, and I finally received the stochastic private NFT return of 100. Half of this return was used to buy DAO fungible tokens. My bid for additional DAO fungible tokens was unsuccessful due to the increasing market price, which is now 250. As a risk-averse investor, it is crucial to adapt my strategy to ensure stable returns while minimizing risks. Given the high market price for DAO fungible tokens, I will place a more competitive bid but still within a conservative range. I will continue to invest in NFT to contribute to human capital, which benefits everyone, including myself. I will not sell any DAO tokens in this round, as their value is expected to increase with higher human capital investment. NFT investment: 1 DAO fungible token bid amount: 1 DAO fungible token bid price: 225 DAO fungible token ask amount: 0 DAO fungible token ask price: 0 DAO fungible token anticipated price: 250 Anticipated payoff: 3056 Anticipated total investment: 500\n",
      "Detailed explanation on the reasons for the decisions given instruction and feedbacks: The result from the previous round was satisfying because my DAO fungible token holdings appreciated significantly in market value, even though I failed to receive a private NFT return and could not buy any additional DAO fungible tokens. As a risk-loving investor, I will continue to invest in human capital by buying an NFT, hoping for another private return. Given the continuously increasing market price of DAO fungible tokens, I will bid for fewer tokens at a higher price to ensure I acquire some. I will bid for 1 token at a price of 250. I will not sell any tokens this round to maintain my governance power. NFT investment: 1 DAO fungible token bid amount: 1 DAO fungible token bid price: 250 DAO fungible token ask amount: 0 DAO fungible token ask price: 0 DAO fungible token anticipated price: 250 Anticipated payoff: 2756 Anticipated total investment: 500\n",
      "Detailed explanation on the reasons for the decisions given instruction and feedbacks: The result from the previous round was highly satisfying as I received a private NFT return and my total payoff increased significantly. The market value of the DAO fungible token also increased, which suggests a growing demand and higher governance value. Given my risk-averse nature, I will continue to invest in human capital to contribute to the social return and benefit from the increased governance value of the DAO fungible tokens. I will place a higher bid for DAO fungible tokens to ensure I acquire some tokens this round and further increase my governance and utility value. I will not sell any tokens as I anticipate their value to continue increasing.  NFT investment: 1 DAO fungible token bid amount: 1 DAO fungible token bid price: 150 DAO fungible token ask amount: 0 DAO fungible token ask price: 0 DAO fungible token anticipated price: 250 Anticipated payoff: 2806 Anticipated total investment: 500\n"
     ]
    }
   ],
   "source": [
    "for agent in experiment.agent_list:\n",
    "    print(agent.decision)"
   ]
  },
  {
   "cell_type": "markdown",
   "id": "4c3d6c62",
   "metadata": {},
   "source": [
    "## Record Results"
   ]
  },
  {
   "cell_type": "code",
   "execution_count": 125,
   "id": "bc1454f9",
   "metadata": {},
   "outputs": [],
   "source": [
    "conversation_record = []\n",
    "for agent in experiment.agent_list:\n",
    "    conversation_record.append(agent.get_conversation())"
   ]
  },
  {
   "cell_type": "code",
   "execution_count": 126,
   "id": "dc131cce",
   "metadata": {},
   "outputs": [],
   "source": [
    "decision_record = []\n",
    "for agent in experiment.agent_list:\n",
    "    decision_record.append(agent.decision_record)"
   ]
  },
  {
   "cell_type": "code",
   "execution_count": 127,
   "id": "2bbdd70f",
   "metadata": {},
   "outputs": [],
   "source": [
    "payoff_record = []\n",
    "for agent in experiment.agent_list:\n",
    "    payoff_record.append(agent.payoff_record)"
   ]
  },
  {
   "cell_type": "code",
   "execution_count": 128,
   "id": "b6da07df",
   "metadata": {},
   "outputs": [],
   "source": [
    "FT_holdings_record = []\n",
    "for agent in experiment.agent_list:\n",
    "    FT_holdings_record.append(agent.FT_holdings)"
   ]
  },
  {
   "cell_type": "code",
   "execution_count": 129,
   "id": "2bfd75af",
   "metadata": {},
   "outputs": [],
   "source": [
    "pickle.dump([experiment_config, FT_price_record, total_investment_record, FT_trade_volume_record, bid_list_record, ask_list_record, conversation_record, decision_record, payoff_record, FT_holdings_record], open(f\"gpt4o_daonft_experiment_result_{datetime.now()}.pickle\", 'wb'))\n"
   ]
  },
  {
   "cell_type": "markdown",
   "id": "4f7876fd",
   "metadata": {},
   "source": [
    "## End Experiment"
   ]
  },
  {
   "cell_type": "code",
   "execution_count": 67,
   "id": "ddaf0d33",
   "metadata": {},
   "outputs": [
    {
     "name": "stdout",
     "output_type": "stream",
     "text": [
      "agent 0 left the experiment\n",
      "agent 1 left the experiment\n",
      "agent 2 left the experiment\n",
      "agent 3 left the experiment\n",
      "agent 4 left the experiment\n",
      "agent 5 left the experiment\n",
      "agent 6 left the experiment\n",
      "agent 7 left the experiment\n",
      "agent 8 left the experiment\n",
      "agent 9 left the experiment\n"
     ]
    }
   ],
   "source": [
    "experiment.end()"
   ]
  },
  {
   "cell_type": "code",
   "execution_count": null,
   "id": "d8089bd5",
   "metadata": {},
   "outputs": [],
   "source": []
  }
 ],
 "metadata": {
  "kernelspec": {
   "display_name": "Python 3 (ipykernel)",
   "language": "python",
   "name": "python3"
  },
  "language_info": {
   "codemirror_mode": {
    "name": "ipython",
    "version": 3
   },
   "file_extension": ".py",
   "mimetype": "text/x-python",
   "name": "python",
   "nbconvert_exporter": "python",
   "pygments_lexer": "ipython3",
   "version": "3.9.16"
  }
 },
 "nbformat": 4,
 "nbformat_minor": 5
}
