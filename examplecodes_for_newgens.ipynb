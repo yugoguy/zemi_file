{
 "cells": [
  {
   "cell_type": "markdown",
   "id": "4f36e385",
   "metadata": {},
   "source": [
    "# This notebooks is for python beginners. Start from \"Basics\" and get familiar with python coding!"
   ]
  },
  {
   "cell_type": "markdown",
   "id": "ac7b0668",
   "metadata": {},
   "source": [
    "### Jupyter notebook is nice because you can run the code locally without internet connection and you can customize your python environment. Other python environment such as Google Colaboratory and Kaggle notebooks have its own strength too."
   ]
  },
  {
   "cell_type": "markdown",
   "id": "abb138d8",
   "metadata": {},
   "source": [
    "If you are completely a beginner for python, here is a brief roadmap:\n",
    "\n",
    "1. Set up environment\n",
    "- install python and anaconda\n",
    "- open jupyter notebook \n",
    "(- alternative is to use Google Colaboratory or Visual Studio Code)\n",
    "\n",
    "For anaconda and python installation:\n",
    "https://docs.google.com/presentation/d/1CIkWFVXGTAEF4XSfhQysU25olxeCRIPJf3XGMPNtzD4/edit?usp=sharing\n",
    "\n",
    "For opening Jupyter notebook through Anaconda (from slide6);\n",
    "https://www.ptb.de/empir2018/fileadmin/documents/empir/Met4FoF/Documents/Installing_Python_and_Anaconda.pdf\n",
    "\n",
    "2. Learn python basics\n",
    "- understand how to create variables\n",
    "- understand how to use if statement, for loop\n",
    "\n",
    "For python basics (chapter 4 and 5):\n",
    "https://bugs.python.org/file47781/Tutorial_EDIT.pdf\n",
    "\n",
    "3. Learn pandas and numpy\n",
    "- understand how to use pandas and numpy for loading and manipulating data\n",
    "\n",
    "For pandas and numpy (chapters 4,5, and beginning of 6)\n",
    "https://bedford-computing.co.uk/learning/wp-content/uploads/2015/10/Python-for-Data-Analysis.pdf\n",
    "\n",
    "After setting up python environment, I personally recommend to watch any introduction to python video (if a video forces you to download their file, I don’t recommend downloading it).\n",
    "\n",
    "Also utilizing chatGPT to create a problem set and asking answers will be great.\n",
    "\n",
    "One advice ... don't try to remember everything. just try to understand the flow of the code and why it works. you will gradually memorize the terms as you go"
   ]
  },
  {
   "cell_type": "markdown",
   "id": "47d528d2",
   "metadata": {},
   "source": [
    "# Basics"
   ]
  },
  {
   "cell_type": "code",
   "execution_count": null,
   "id": "17286775",
   "metadata": {},
   "outputs": [],
   "source": [
    "# creating variables\n",
    "anyname = 10\n",
    "# some names are not possibe. try running 123 = 10\n",
    "\n",
    "# use print(what you want to show) to see the result of the computation\n",
    "print(anyname)\n",
    "\n",
    "# line starting from # will be ignored, and it can be used to add explanations\n"
   ]
  },
  {
   "cell_type": "code",
   "execution_count": null,
   "id": "a22d56ce",
   "metadata": {},
   "outputs": [],
   "source": [
    "# arithmetics +, -, * (multiply), / (division), % (get remainder), so on. try it out!\n",
    "10 * 10"
   ]
  },
  {
   "cell_type": "code",
   "execution_count": null,
   "id": "de0ead9f",
   "metadata": {},
   "outputs": [],
   "source": [
    "# can also assign variable and do calculation simultaneously\n",
    "k = 10 + 10"
   ]
  },
  {
   "cell_type": "code",
   "execution_count": null,
   "id": "424f50db",
   "metadata": {},
   "outputs": [],
   "source": [
    "# basic data types\n",
    "a = 9 # intergers. its just numbers without decimals\n",
    "\n",
    "b = \"this is a string\" \n",
    "# by wrapping any character with \"\", you can store/create sentences\n",
    "# you can add strings to create combined string too\n",
    "b_ = \"first string \" + \"second string\" \n",
    "\n",
    "c = True # true or false are called booleans. they can be used as a switch.\n",
    "d = False # booleans will be used to create if statement, explained later\n",
    "\n",
    "e = 1.3235 # numbers with decimals are called float. \n",
    "\n",
    "f = [1, 2, \"a\", \"can literally contain anything, even list itself\", [1, 2, 3]] \n",
    "# this is called a list. by wrapping data with [], you can store data as a list.\n",
    "# it is typically used to create for-loops, explained later\n",
    "\n",
    "g = {\"first\": 1, \"nextone\": \"hello\", \"101anyname\": [1, 2, \"3\"]}\n",
    "# this is called a dictionary. by wrapping with {} and creating \"key\": data pair, you can store anything\n",
    "# it is like a list, but you can assign names (called a key) to each item to call later.\n"
   ]
  },
  {
   "cell_type": "code",
   "execution_count": null,
   "id": "9e66f6ce",
   "metadata": {},
   "outputs": [],
   "source": [
    "# you can see the type of the data by using type()\n",
    "print(type(a))"
   ]
  },
  {
   "cell_type": "code",
   "execution_count": null,
   "id": "71843824",
   "metadata": {},
   "outputs": [],
   "source": [
    "# basic list operations\n",
    "l = [1,2,3]\n",
    "\n",
    "# add to list\n",
    "data = 10\n",
    "l.append(data) # adds 10 at the end of the list\n",
    "print(l)\n",
    "# there are many ways to add/remove elements to any location of the list. search online or ask GPT!\n",
    "\n",
    "# accessing n-th item in list\n",
    "k = l[0] # starting with 0, you can access n-th item by writing [index of your choice] next to the name of the list.\n",
    "print(k)\n",
    "\n",
    "# there are many other list operations too! search online or ask GPT you are looking for certain operations\n",
    "\n",
    "# I won't go deeper in to the dictionary operations, but they are sometimes very useful and make the codes comprehensive!"
   ]
  },
  {
   "cell_type": "code",
   "execution_count": null,
   "id": "7aa5ffed",
   "metadata": {},
   "outputs": [],
   "source": [
    "# functions\n",
    "# you can create a bundle of computation using def function_name(inputs): ~some codes. \n",
    "def example(input_name1, input_name2): # you can put as many input as you want inside (). inputs can be used to make comutation inside the funcion.\n",
    "    output = input_name1 + input_name2\n",
    "    return output # return ~ is what you want to output from this function.\n",
    "    # or you can simply do this: return input_name1 + input_name2\n",
    "    \n",
    "# creating function allows you to reduce your code length and cimplexity when you do similar computation multiple times.\n",
    "\n",
    "# to run your function\n",
    "print(example(1, 2))\n",
    "\n",
    "# you can directory assign variable to the result of the function\n",
    "m = example(10, 100)\n",
    "print(m)"
   ]
  },
  {
   "cell_type": "code",
   "execution_count": null,
   "id": "4bfb663e",
   "metadata": {},
   "outputs": [],
   "source": [
    "# if statement\n",
    "p = 10\n",
    "if p>5:\n",
    "    print(\"p is greater than 5\")\n",
    "else:\n",
    "    print(\"p is not greater than five.\")\n",
    "\n",
    "# by using \"if condition: ~some codes\", you can write a code that will do something only when the condition is satisfied\n",
    "# if the condition is not satisfied, it will run the code after \"else:\"\n",
    "# other than >, you can use <, <= (less than or equal to), >=, == (for equal. it is not = so be careful), != (not equal)\n",
    "# you can use and/or to set multiple conditions\n",
    "if p==10 or p<10:\n",
    "    message = \"condition satisfied\"\n",
    "    you_can_do_any_comutation_here = example(100, 200)\n",
    "    print(message, you_can_do_any_comutation_here)\n",
    "else:\n",
    "    print(\"you can put some computation after else: too.\")\n",
    "\n",
    "# notice that the line after if and else is indented. python gives you error if you don't.\n",
    "# \"else:\" is actually not required after \"if\". if \"else\" is not there, the code will do nothing when the condition is not satisfied.\n",
    "\n"
   ]
  },
  {
   "cell_type": "code",
   "execution_count": null,
   "id": "03d5abc6",
   "metadata": {},
   "outputs": [],
   "source": [
    "# loops\n",
    "l = [10, 3, \"e\", [230,24,45]]\n",
    "\n",
    "for i in l:\n",
    "    print(i)\n",
    "\n",
    "# by using \"for whats_inside in iterable:\", you can do a similar computation multiple times.\n",
    "## iterable is typically a list (but it can be any \"iterable object\". it means any data that is defined so that we can iterate through them)\n",
    "## whats_inside is a new variable created for this loop. it becomes a first data inside the give list, and moves on to the next data in the list after each loop is done.\n",
    "\n",
    "# another example: this will create a new list which contains only the integer in l\n",
    "new_list = []\n",
    "for j in l: # for what's inside l (name it j)\n",
    "    if type(j)==int: # if j is an integer\n",
    "        new_list.append(j) # add j to the new list\n",
    "    # moves on to next loop\n",
    "    \n",
    "# if you don't have a list, but you want to do similar computation multiple times, use range()\n",
    "z = 0\n",
    "for k in range(0,10): # if you use range(n, m), k will become an integer from n~m-1 in each loop. so if you want to do a computation t times, set range(0,t). yo ucan omit 0 and write range(t)\n",
    "    print(\"k:\", k)\n",
    "    z += 1 # same as z = z + 1. another way to write it\n",
    "    print(\"z:\", z)\n"
   ]
  },
  {
   "cell_type": "markdown",
   "id": "f1fa82a5",
   "metadata": {},
   "source": [
    "# Small exercise\n",
    "### if you understand up to here, you have very basic understading of python. let's try creating your function!"
   ]
  },
  {
   "cell_type": "code",
   "execution_count": null,
   "id": "dbe97905",
   "metadata": {},
   "outputs": [],
   "source": [
    "#try creating a function that:\n",
    "## take in a list as an input\n",
    "## outputs a new list containing:\n",
    "### original data multiplied by 2 if it is integer\n",
    "### original data + \"1\" if it is string\n",
    "### should ignore other data types such as list or float\n",
    "example_input = [1, 2, \"3\", \"hi\", 9, [1,2,3], 1.424]\n",
    "# expected output: [2, 4, \"31\", \"hi1\", 18]"
   ]
  },
  {
   "cell_type": "code",
   "execution_count": null,
   "id": "f5b54b56",
   "metadata": {},
   "outputs": [],
   "source": []
  },
  {
   "cell_type": "code",
   "execution_count": null,
   "id": "6b5ce912",
   "metadata": {},
   "outputs": [],
   "source": [
    "# after creating your function, try running it with example input to see if it works!"
   ]
  },
  {
   "cell_type": "markdown",
   "id": "9e2474c9",
   "metadata": {},
   "source": [
    "# Libraries"
   ]
  },
  {
   "cell_type": "markdown",
   "id": "3da4f1b8",
   "metadata": {},
   "source": [
    "You've probably installed Anaconda and opened jupyter notebook if you are reading this notebook. \n",
    "But your current environment may not have some good libraries installed yet. \n",
    "Libraries are set of codes somebody wrote for everyone to use, and you need to install and import yo use them. "
   ]
  },
  {
   "cell_type": "code",
   "execution_count": 4,
   "id": "dccf3357",
   "metadata": {},
   "outputs": [],
   "source": [
    "import numpy as np  # as ~ means that we are giving a name to the library that we will use in the rest of the codes because the name of the library is long.\n",
    "import pandas as pd\n",
    "import matplotlib.pyplot as plt\n",
    "import statsmodels as sm\n"
   ]
  },
  {
   "cell_type": "markdown",
   "id": "65096b04",
   "metadata": {},
   "source": [
    "if you get ModuleNotFoundError, it might be the case that you haven't installed the library. Run the below code by deleting the # sign to install the libraries that you didn't have!"
   ]
  },
  {
   "cell_type": "code",
   "execution_count": null,
   "id": "9e54faa6",
   "metadata": {},
   "outputs": [],
   "source": [
    "## choose the libraries you had error importing, and run the code starting from \"!pip\" to install to your environment\n",
    "#!pip install numpy\n",
    "#!pip install pandas\n",
    "#!pip install matplotlib\n",
    "#!pip install statsmodels"
   ]
  },
  {
   "cell_type": "markdown",
   "id": "4a63706b",
   "metadata": {},
   "source": [
    "You can follow same process when using other libraries that you found on the internet or suggested by GPT. "
   ]
  },
  {
   "cell_type": "markdown",
   "id": "c647b886",
   "metadata": {},
   "source": [
    "### for use of libraries and example analysis, see\n",
    "https://github.com/intro-stat-learning/ISLP_labs/blob/main/\n",
    "\n",
    "### and download and upload Ch02-statlearn-lab.ipynb & necessary files to your jupyter notebook file. read and run through the ipynb file!"
   ]
  }
 ],
 "metadata": {
  "kernelspec": {
   "display_name": "Python 3 (ipykernel)",
   "language": "python",
   "name": "python3"
  },
  "language_info": {
   "codemirror_mode": {
    "name": "ipython",
    "version": 3
   },
   "file_extension": ".py",
   "mimetype": "text/x-python",
   "name": "python",
   "nbconvert_exporter": "python",
   "pygments_lexer": "ipython3",
   "version": "3.9.16"
  }
 },
 "nbformat": 4,
 "nbformat_minor": 5
}
