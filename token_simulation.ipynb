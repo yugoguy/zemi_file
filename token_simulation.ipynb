{
 "cells": [
  {
   "cell_type": "code",
   "execution_count": 20,
   "id": "23ebe70f",
   "metadata": {},
   "outputs": [],
   "source": [
    "import pandas as pd\n",
    "import numpy as np\n",
    "import matplotlib.pyplot as plt\n",
    "import scipy as sp"
   ]
  },
  {
   "cell_type": "markdown",
   "id": "d9cfac8b",
   "metadata": {},
   "source": [
    "# 12/22 \n",
    "### 1. set overall flow of simulation\n",
    "### 2. defined token value\n",
    "### 3. assumed 10 year market size, discount rate, and velocity, gas fee, so on\n",
    "\n",
    "## Todo (今日中、遅くとも今週末中):\n",
    "### 1. define user/evaluator number determinants\n",
    "### 2. set up update functions\n",
    "### 3. try simulating\n",
    "\n",
    "## Later: relaxing simplification\n",
    "### 1. distinguish skill seller & skill buyer\n",
    "### 2. incorporate dynamic & precise incentive structures\n",
    "### 3. incorporate competitors barrier"
   ]
  },
  {
   "cell_type": "code",
   "execution_count": null,
   "id": "59db6043",
   "metadata": {},
   "outputs": [],
   "source": [
    "# controllable parameters \n",
    "reward_depreciation_exponent = 0.5\n",
    "fee = 0.1 \n",
    "token_supplycap = 10e6\n",
    "floating = 0.25 \n",
    "token_supply_distribution_rate = 1.3 #assume linear at first"
   ]
  },
  {
   "cell_type": "code",
   "execution_count": null,
   "id": "67c5a669",
   "metadata": {},
   "outputs": [],
   "source": [
    "# initial assumptions (2749e8 in 2022 https://sharing-economy.jp/ja/20230124 2027&2032 prediction used) \n",
    "market_size_prediction = {2024:3000e8,\n",
    "                         2025:4207e8,\n",
    "                         2026:5414e8,\n",
    "                         2027:6622e8,\n",
    "                         2028:8193e8,\n",
    "                         2029:9765e8,\n",
    "                         2030:11337e8,\n",
    "                         2031:12909e8,\n",
    "                         2032:14481e8,\n",
    "                         2033:,16000e8}\n",
    "t = 0\n",
    "user_acquiry_rate_cap = 0 #f(num_evaluator_t)...possible platform scale capped by number of evaluators\n",
    "market_size_t = market_size_prediction[2024] #in Yen. initial\n",
    "user_acquiry_rate = 0 #random distribution of f(incentive, competition, previous platform value, transaction cost). capped by user_acquiry_rate_cap. \n",
    "market_share_t = 0 #market_size*user_acquiry_rate\n",
    "avg_token_hold_year = 2 #assume users will hold on to token for 2 year on average\n",
    "token_velocity = 1/avg_token_hold_year\n",
    "token_supply_t = 10e5\n",
    "discount_rate = 0.2\n",
    "terminal = 10\n",
    "cumulative_gov_value = 0 #initial\n",
    "gas_fee = 0.0005\n"
   ]
  },
  {
   "cell_type": "code",
   "execution_count": null,
   "id": "0d9fa29d",
   "metadata": {},
   "outputs": [],
   "source": [
    "# state of value at time t\n",
    "contributer_salary_t = market_share_t/3\n",
    "cost_t = contributer_salary_t #what are other costs?\n",
    "profit_t = market_share_t - cost_t\n",
    "token_supply_t = min(token_supply_t*token_supply_distribution_rate, token_supplycap)\n",
    "util_value_t = market_size_t * market_share_t / (token_supply_t*token_velocity*floating) #quantity theory of money approach\n",
    "gov_value_t = profit_t/(1+discount_rate) #income approach\n",
    "cumulative_gov_value_t = cumulative_gov_value_t + gov_value_t\n",
    "total_gov_value_wterminal = profit/discount_rate/(1+discount_rate)**terminal\n"
   ]
  },
  {
   "cell_type": "code",
   "execution_count": null,
   "id": "ec03e6bf",
   "metadata": {},
   "outputs": [],
   "source": [
    "# variables to mazimize\n",
    "total_token_value = util_value_t + total_gov_value_wterminal"
   ]
  },
  {
   "cell_type": "code",
   "execution_count": 35,
   "id": "1f0730d5",
   "metadata": {},
   "outputs": [],
   "source": [
    "# state update function\n",
    "def update_platform():\n",
    "    #update number of users\n",
    "    #update number of evaluators\n",
    "    return\n",
    "\n",
    "def update_token_value():\n",
    "    #update utility value of token\n",
    "    #update govenrnance value of token\n",
    "    return\n"
   ]
  },
  {
   "cell_type": "code",
   "execution_count": null,
   "id": "dd7bba4f",
   "metadata": {},
   "outputs": [],
   "source": [
    "# run simulation\n",
    "util_token_value_results = [] #list of utility values\n",
    "gov_token_value_results = [] #list of governance values\n",
    "num_evaluator_list = []\n",
    "num_user_list = []\n",
    "\n",
    "for t in range(2024, 2034):\n",
    "    market_size_t = market_size_prediction[t]\n",
    "    ...\n",
    "    update_platform()\n",
    "    update_token_value()\n",
    "    util_token_value_results.append()\n",
    "    gov_token_value_results.append()\n",
    "    num_evaluator_list.append()\n",
    "    num_user_list.append()\n",
    "    ..."
   ]
  },
  {
   "cell_type": "code",
   "execution_count": null,
   "id": "f8d80ce2",
   "metadata": {},
   "outputs": [],
   "source": [
    "# visualize"
   ]
  },
  {
   "cell_type": "code",
   "execution_count": null,
   "id": "e2949a76",
   "metadata": {},
   "outputs": [],
   "source": [
    "# do simulation for some parameter set\n",
    "# find best from quantitative point of view\n",
    "# check assumption sensitivity\n",
    "# balance with qualitative objectives"
   ]
  },
  {
   "cell_type": "code",
   "execution_count": 31,
   "id": "217cdec8",
   "metadata": {},
   "outputs": [],
   "source": [
    "# market size linear approximation\n",
    "pred = pd.DataFrame([3000, np.nan, np.nan, 6622, np.nan, np.nan, np.nan, np.nan, 14481, 16000])"
   ]
  },
  {
   "cell_type": "code",
   "execution_count": 33,
   "id": "ca99d22e",
   "metadata": {},
   "outputs": [
    {
     "data": {
      "text/html": [
       "<div>\n",
       "<style scoped>\n",
       "    .dataframe tbody tr th:only-of-type {\n",
       "        vertical-align: middle;\n",
       "    }\n",
       "\n",
       "    .dataframe tbody tr th {\n",
       "        vertical-align: top;\n",
       "    }\n",
       "\n",
       "    .dataframe thead th {\n",
       "        text-align: right;\n",
       "    }\n",
       "</style>\n",
       "<table border=\"1\" class=\"dataframe\">\n",
       "  <thead>\n",
       "    <tr style=\"text-align: right;\">\n",
       "      <th></th>\n",
       "      <th>0</th>\n",
       "    </tr>\n",
       "  </thead>\n",
       "  <tbody>\n",
       "    <tr>\n",
       "      <th>0</th>\n",
       "      <td>3000.000000</td>\n",
       "    </tr>\n",
       "    <tr>\n",
       "      <th>1</th>\n",
       "      <td>4207.333333</td>\n",
       "    </tr>\n",
       "    <tr>\n",
       "      <th>2</th>\n",
       "      <td>5414.666667</td>\n",
       "    </tr>\n",
       "    <tr>\n",
       "      <th>3</th>\n",
       "      <td>6622.000000</td>\n",
       "    </tr>\n",
       "    <tr>\n",
       "      <th>4</th>\n",
       "      <td>8193.800000</td>\n",
       "    </tr>\n",
       "    <tr>\n",
       "      <th>5</th>\n",
       "      <td>9765.600000</td>\n",
       "    </tr>\n",
       "    <tr>\n",
       "      <th>6</th>\n",
       "      <td>11337.400000</td>\n",
       "    </tr>\n",
       "    <tr>\n",
       "      <th>7</th>\n",
       "      <td>12909.200000</td>\n",
       "    </tr>\n",
       "    <tr>\n",
       "      <th>8</th>\n",
       "      <td>14481.000000</td>\n",
       "    </tr>\n",
       "    <tr>\n",
       "      <th>9</th>\n",
       "      <td>16000.000000</td>\n",
       "    </tr>\n",
       "  </tbody>\n",
       "</table>\n",
       "</div>"
      ],
      "text/plain": [
       "              0\n",
       "0   3000.000000\n",
       "1   4207.333333\n",
       "2   5414.666667\n",
       "3   6622.000000\n",
       "4   8193.800000\n",
       "5   9765.600000\n",
       "6  11337.400000\n",
       "7  12909.200000\n",
       "8  14481.000000\n",
       "9  16000.000000"
      ]
     },
     "execution_count": 33,
     "metadata": {},
     "output_type": "execute_result"
    }
   ],
   "source": [
    "pred.interpolate()"
   ]
  },
  {
   "cell_type": "code",
   "execution_count": 34,
   "id": "325a8ac3",
   "metadata": {},
   "outputs": [
    {
     "data": {
      "text/plain": [
       "<Axes: >"
      ]
     },
     "execution_count": 34,
     "metadata": {},
     "output_type": "execute_result"
    },
    {
     "data": {
      "image/png": "[encoded data removed]",
      "text/plain": [
       "<Figure size 640x480 with 1 Axes>"
      ]
     },
     "metadata": {},
     "output_type": "display_data"
    }
   ],
   "source": [
    "pred.interpolate().plot()"
   ]
  },
  {
   "cell_type": "code",
   "execution_count": null,
   "id": "c162408a",
   "metadata": {},
   "outputs": [],
   "source": []
  }
 ],
 "metadata": {
  "kernelspec": {
   "display_name": "Python 3 (ipykernel)",
   "language": "python",
   "name": "python3"
  },
  "language_info": {
   "codemirror_mode": {
    "name": "ipython",
    "version": 3
   },
   "file_extension": ".py",
   "mimetype": "text/x-python",
   "name": "python",
   "nbconvert_exporter": "python",
   "pygments_lexer": "ipython3",
   "version": "3.9.16"
  }
 },
 "nbformat": 4,
 "nbformat_minor": 5
}
