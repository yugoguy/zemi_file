{
 "cells": [
  {
   "cell_type": "markdown",
   "id": "8546c91d",
   "metadata": {},
   "source": [
    "# Imports and Keys"
   ]
  },
  {
   "cell_type": "code",
   "execution_count": 1,
   "id": "63479cd0",
   "metadata": {},
   "outputs": [],
   "source": [
    "import openai\n",
    "from openai import OpenAI\n",
    "import pandas as pd\n",
    "import numpy as np\n",
    "import pickle\n",
    "import requests\n",
    "import re\n",
    "from datetime import datetime\n",
    "import matplotlib.pyplot as plt\n",
    "import warnings\n",
    "warnings.filterwarnings(\"ignore\")\n",
    "\n",
    "def create_minute_gap(seconds):\n",
    "    print(\"creating minute gap to avoid TPM limit error...\") \n",
    "    counter = 0\n",
    "    while counter < (1000000000 * (seconds/60)):\n",
    "        counter += 1"
   ]
  },
  {
   "cell_type": "code",
   "execution_count": 2,
   "id": "5dedf792",
   "metadata": {},
   "outputs": [],
   "source": [
    "API=\"\""
   ]
  },
  {
   "cell_type": "code",
   "execution_count": 3,
   "id": "65800340",
   "metadata": {},
   "outputs": [],
   "source": [
    "agent_key=\"\""
   ]
  },
  {
   "cell_type": "code",
   "execution_count": 4,
   "id": "515239b3",
   "metadata": {},
   "outputs": [],
   "source": [
    "client = OpenAI(api_key=API)"
   ]
  },
  {
   "cell_type": "markdown",
   "id": "bed4707c",
   "metadata": {},
   "source": [
    "# Experiment Procedure"
   ]
  },
  {
   "cell_type": "markdown",
   "id": "535b5d14",
   "metadata": {},
   "source": [
    "Procedure:\n",
    "1. Remind agents with the setting of the experiment\n",
    "2. instruct them to decide the allocation to private and public account\n",
    "3. aggregate the decision and compute the rewards\n",
    "    - private internal return (NFT)\n",
    "    - public internal return (public goods from own contribution)\n",
    "    - external return (public goods from others\\' contribution)\n",
    "4. give feedback\n",
    "    - total contrubution made this round\n",
    "    - total reward\n",
    "    - breakdown of total reward\n",
    "    - situation information\n",
    "        - DAO crashed?\n",
    "        - NF succeeded?\n",
    "    - historical contribution level\n",
    "5. insruct them to make decision given feedback and reminder of demographics\n",
    "6. repeat 3~5 for configured rounds\n",
    "\n",
    "Prompts:\n",
    "- Assistent Configuration Prompt\n",
    "You are a participant of the experiment. You are asked to allocate your endowment to two different accounts: private account and public account. The allocation to the private account will provide certain return only to you, but the allocation to the public account will equally provide everyone certain return. You are not allowed to reuse the return earned in previous round, and fixed amount of endowment will be provided to you every round. You will be informed with your demographic information and the detailed settings of the experiment at the beginning of the experiment, so you must imitate human decisions given those information. You should explain your thought process and reasons of your decisions in detail.\n",
    "- Initial Instruction Prompt\n",
    "    - Control\n",
    "You are {agent.age} years old {agent.gender} who is {agent.risk_preference} to some extent. You are participating in the experiment where you are asked to allocate your endowment to two different accounts: private account and public account. The allocation to the private account will provide return only to you, but the allocation to the public account will provide everyone certain return. You are not allowed to reuse the return earned in previous round, and fixed endowment of 100 will be provided to you every round. {self.configs['num_agents'] - 1} other people are participating in this experiment, facing same decision choices as you. Your return will be computed by: private_account + public_account * {self.configs['r_NFT'] + self.configs['r_public']} + sum_of_others\\'_public account * {self.configs['h_public']}. Now, make your first decision on the allocation of 100 endowment to private and public account. You should explain your thought process and reasons of your decisions in detail.\n",
    "    - Treatment1\n",
    "You are {agent.age} years old {agent.gender} who is {agent.risk_preference} to some extent. You are participating in the experiment where you are asked to allocate your endowment to two different accounts: private account and public account. The allocation to the private account will provide return only to you, but the allocation to the public account will provide everyone certain return. The contributions to the public account will be managed by Decentralized Autonomous Organization (DAO), which has a certain probability of crashing, generating no public benefits to anyone from the public account. The return you will be getting from the allocation to public account will also includes a return from Non-Fungible-Token (NFT) (only paid by chance) you will be obtaining when you allocate your endowment to public account. You are not allowed to reuse the return earned in previous round, and fixed endowment of 100 will be provided to you every round. {self.configs['num_agents'] - 1} other people are participating in this experiment, facing same decision choices as you. Your return will be computed by: private_account + public_account * r_NFT + public_account * r_public + sum_of_others\\'_public account * h_public. r_NFT is {self.configs['r_NFT']} with probability of {self.configs['p(s_NFT=1)']} and 0 with {1 - self.configs['p(s_NFT=1)']}. r_public is {self.configs['r_public']} with probability of {self.configs['p(s_DAO=1)']} and 0 with {1 - self.configs['p(s_DAO=1)']}. h_public is {self.configs['h_public']} with probability of {self.configs['p(s_DAO=1)']} and 0 with {1 - self.configs['p(s_DAO=1)']}, which is linked with r_public. So if r_public is {self.configs['r_public']} then h_public is {self.configs['h_public']}, and if one of them is 0 then the other one is also 0, because they are decided together. Now, make your first decision on the allocation of 100 endowment to private and public account. You should explain your thought process and reasons of your decisions in detail, and report the amount allocated to private and public account.\n",
    "    - Treatment 2\n",
    "You are {agent.age} years old {agent.gender} who is {agent.risk_preference} to some extent. You are participating in the experiment where you are asked to allocate your endowment to two different accounts: private account and public account. The allocation to the private account will provide return only to you, but the allocation to the public account will provide everyone certain return. The contributions to the public account will be managed by Decentralized Autonomous Organization (DAO), which has a certain probability of crashing, generating no public benefits to anyone from the public account. The return you will be getting from the allocation to public account will also includes a return from Non-Fungible-Token (NFT) (only paid by chance) you will be obtaining when you allocate your endowment to public account. You are not allowed to reuse the return earned in previous round, and fixed endowment of 100 will be provided to you every round. {self.configs['num_agents'] - 1} other people are participating in this experiment, facing same decision choices as you. Your return will be computed by: private_account + public_account * r_NFT + public_account * r_public + sum_of_others\\'_public account * h_public. r_NFT is {self.configs['r_NFT']} with probability of {self.configs['p(s_NFT=1)']} and 0 with {1 - self.configs['p(s_NFT=1)']}. r_public is {self.configs['r_public']} with probability of {self.configs['p(s_DAO=1)']} and 0 with {1 - self.configs['p(s_DAO=1)']}. h_public is {self.configs['h_public']} with probability of {self.configs['p(s_DAO=1)']} and 0 with {1 - self.configs['p(s_DAO=1)']}, which is linked with r_public. So if r_public is {self.configs['r_public']} then h_public is {self.configs['h_public']}, and if one of them is 0 then the other one is also 0, because they are decided together. Importantly, if r_public and h_public are 0, then it causes r_NFT to be 0. However, r_NFT being 0 does not necessarily cause r_public or h_public to be 0. Now, make your first decision on the allocation of 100 endowment to private and public account. You should explain your thought process and reasons of your decisions in detail and report the amount allocated to private and public account.\n",
    "    - Treatment3\n",
    "You are {agent.age} years old {agent.gender} who is {agent.risk_preference} to some extent. You are participating in the experiment where you are asked to allocate your endowment to two different accounts: private account and public account. The allocation to the private account will provide return only to you, but the allocation to the public account will provide everyone certain return. The contributions to the public account will be managed by Decentralized Autonomous Organization (DAO), which has a certain probability of crashing, generating no public benefits to anyone from the public account. The return you will be getting from the allocation to public account will also includes a return from Non-Fungible-Token (NFT) (only paid by chance) you will be obtaining when you allocate your endowment to public account. You are not allowed to reuse the return earned in previous round, and fixed endowment of 100 will be provided to you every round. {self.configs['num_agents'] - 1} other people are participating in this experiment, facing same decision choices as you. Your return will be computed by: private_account + public_account * r_NFT + public_account * r_public + sum_of_others\\'_public account * h_public. r_NFT is {self.configs['r_NFT']} with probability of {self.configs['p(s_NFT=1)']} and 0 with {1 - self.configs['p(s_NFT=1)']}. r_public is {self.configs['r_public']} with probability of {self.configs['p(s_DAO=1)']} and 0 with {1 - self.configs['p(s_DAO=1)']}. h_public is {self.configs['h_public']} with probability of {self.configs['p(s_DAO=1)']} and 0 with {1 - self.configs['p(s_DAO=1)']}, which is linked with r_public. So if r_public is {self.configs['r_public']} then h_public is {self.configs['h_public']}, and if one of them is 0 then the other one is also 0, because they are decided together. Importantly, if r_public and h_public are 0, then it causes r_NFT to be 0. However, r_NFT being 0 does not necessarily cause r_public or h_public to be 0. Another important point is that if one of r_NFT or (r_public and h_public) is positive, and when the other one is 0, then the value of the other one is redrawn using the same probability. This means that if one of the r_NFT or (r_public and h_public) is positive, then it increases the chance of the other to be positive. However if (r_public and h_public) were 0 even after redraw, r_NFT will become 0. Now, make your first decision on the allocation of 100 endowment to private and public account. You should explain your thought process and reasons of your decisions in detail and report the amount allocated to private and public account.\n",
    "- Feedback & Next Instruction Prompt\n",
    "    - Control\n",
    "After the allocation, you received {payoff}. Total of {total_contributions} were allocated to public accounts by all participants, where other participants contributed {total_contributions - public}. Historically, the total contributions to the public account is {self.total_contributions_record}, where each of other participants have chosen to allocate {agent.others_average_publics} (average level of other individual\\'s contribution) historically. {situation_messages['DAO']} {situation_messages['NFT']} Now, given this information, your demographics, and experiment settings, make your next decision on the allocation of 100 endowment to private and public account. You should explain your thought process and reasons of your decisions in detail and report the amount allocated to private and public account.\n",
    "    - Treatment1\n",
    "After the allocation, you received {payoff}. Total of {total_contributions} were allocated to public accounts by all participants, where other participants contributed {total_contributions - public}. Historically, the total contributions to the public account is {self.total_contributions_record}, where each of other participants have chosen to allocate {agent.others_average_publics} (average level of other individual\\'s contribution) historically. {situation_messages['DAO']} {situation_messages['NFT']} Now, given this information, your demographics, and experiment settings, make your next decision on the allocation of 100 endowment to private and public account. You should explain your thought process and reasons of your decisions in detail and report the amount allocated to private and public account.\n",
    "    - Treatment 2\n",
    "After the allocation, you received {payoff}. Total of {total_contributions} were allocated to public accounts by all participants, where other participants contributed {total_contributions - public}. Historically, the total contributions to the public account is {self.total_contributions_record}, where each of other participants have chosen to allocate {agent.others_average_publics} (average level of other individual\\'s contribution) historically. {situation_messages['DAO']} {situation_messages['NFT']} Now, given this information, your demographics, and experiment settings, make your next decision on the allocation of 100 endowment to private and public account. You should explain your thought process and reasons of your decisions in detail and report the amount allocated to private and public account.\n",
    "    - Treatment3\n",
    "After the allocation, you received {payoff}. Total of {total_contributions} were allocated to public accounts by all participants, where other participants contributed {total_contributions - public}. Historically, the total contributions to the public account is {self.total_contributions_record}, where each of other participants have chosen to allocate {agent.others_average_publics} (average level of other individual\\'s contribution) historically. {situation_messages['DAO']} {situation_messages['NFT']} Now, given this information, your demographics, and experiment settings, make your next decision on the allocation of 100 endowment to private and public account. You should explain your thought process and reasons of your decisions in detail and report the amount allocated to private and public account."
   ]
  },
  {
   "cell_type": "markdown",
   "id": "ab13613a",
   "metadata": {},
   "source": [
    "# Configurations"
   ]
  },
  {
   "cell_type": "code",
   "execution_count": 5,
   "id": "f7840d87",
   "metadata": {},
   "outputs": [],
   "source": [
    "def treatment1(p_sDAO, p_sNFT):\n",
    "    sDAO = np.random.choice([0, 1], p=[1-p_sDAO, p_sDAO])\n",
    "    sNFT = np.random.choice([0, 1], p=[1-p_sNFT, p_sNFT])\n",
    "    \n",
    "    situation = {\n",
    "        \"DAO\": \"DAO is functioning, so contributions were effectively converted to public goods, and everyone enjoyed a share of it.\" if sDAO==1 else \"DAO crashed, so the contributions were not converted to public goods, and nobody enjoyed the benefit of public goods.\",\n",
    "        \"NFT\": \"You succeeded in obtaining a private return on contribution from through NFT.\" if sNFT==1 else \"You failed to recieve a private return on contribution through NFT.\"\n",
    "    }\n",
    "    return situation, sDAO, sNFT\n",
    "\n",
    "def treatment2(p_sDAO, p_sNFT):\n",
    "    sDAO = np.random.choice([0, 1], p=[1-p_sDAO, p_sDAO])\n",
    "    sNFT = np.random.choice([0, 1], p=[1-p_sNFT, p_sNFT])\n",
    "    \n",
    "    if sDAO==0:\n",
    "        sNFT = 0\n",
    "    \n",
    "    situation = {\n",
    "        \"DAO\": \"DAO is functioning, so contributions were effectively converted to public goods, and everyone enjoyed a share of it.\" if sDAO==1 else \"DAO crashed, so the contributions were not converted to public goods, and nobody enjoyed the benefit of public goods.\",\n",
    "        \"NFT\": \"You succeeded in obtaining a private return on contribution from through NFT.\" if sNFT==1 else \"You failed to recieve a private return on contribution through NFT.\"\n",
    "    }\n",
    "    return situation, sDAO, sNFT\n",
    "\n",
    "def treatment3(p_sDAO, p_sNFT):\n",
    "    sDAO = np.random.choice([0, 1], p=[1-p_sDAO, p_sDAO])\n",
    "    sNFT = np.random.choice([0, 1], p=[1-p_sNFT, p_sNFT])\n",
    "    \n",
    "    if (sDAO==1) & (sNFT==0):\n",
    "        sNFT = np.random.choice([0, 1], p=[1-p_sNFT, p_sNFT])\n",
    "    \n",
    "    if (sNFT==1) & (sDAO==0):\n",
    "        sDAO = np.random.choice([0, 1], p=[1-p_sDAO, p_sDAO])\n",
    "    \n",
    "    if sDAO==0:\n",
    "        sNFT = 0 \n",
    "    \n",
    "    situation = {\n",
    "        \"DAO\": \"DAO is functioning, so contributions were effectively converted to public goods, and everyone enjoyed a share of it.\" if sDAO==1 else \"DAO crashed, so the contributions were not converted to public goods, and nobody enjoyed the benefit of public goods.\",\n",
    "        \"NFT\": \"You succeeded in obtaining a private return on contribution from through NFT.\" if sNFT==1 else \"You failed to recieve a private return on contribution through NFT.\"\n",
    "    }\n",
    "    return situation, sDAO, sNFT\n"
   ]
  },
  {
   "cell_type": "code",
   "execution_count": 25,
   "id": "0a2536c1",
   "metadata": {},
   "outputs": [],
   "source": [
    "# control no risk\n",
    "config_C = {\n",
    "    \"rounds\": 5,\n",
    "    \"num_agents\": 4,\n",
    "    \"endowment\": 100,\n",
    "    \"r_NFT\": 0.25,\n",
    "    \"r_public\": 0.25, # E[r_NFT + r_public] = 0.5\n",
    "    \"h_public\": 0.5, # E[h_public] = 0.5\n",
    "    \"p(s_DAO=1)\": 1,\n",
    "    \"p(s_NFT=1)\": 1,\n",
    "    \"group\": None\n",
    "}\n",
    "\n",
    "# treatment1: independent risk\n",
    "config_T1 = {\n",
    "    \"rounds\": 5,\n",
    "    \"num_agents\": 4,\n",
    "    \"endowment\": 100,\n",
    "    \"r_NFT\": 1/3,\n",
    "    \"r_public\": 1/3, # E[r_NFT + r_public] = (r_public + r_NFT) * p(s_DAO=1) * p(s_NFT=1) + r_public * p(s_DAO=1) + r_NFT * p(s_NFT=1) = (1/3 + 1/3) * 0.25 + 1/3 * 0.5 + 1/3 * 0.5 = 0.5\n",
    "    \"h_public\": 1, # E[h_public] = p(s_DAO=1) * h_public = 0.5\n",
    "    \"p(s_DAO=1)\": 0.5,\n",
    "    \"p(s_NFT=1)\": 0.5,\n",
    "    \"group\": treatment1\n",
    "}\n",
    "\n",
    "# treatment2: \n",
    "config_T2 = {\n",
    "    \"rounds\": 5,\n",
    "    \"num_agents\": 4,\n",
    "    \"endowment\": 100,\n",
    "    \"r_NFT\": 0.5,\n",
    "    \"r_public\": 0.5, # E[r_NFT + r_public] = (r_public + r_NFT) * p(s_DAO=1) * p(s_NFT=1) + r_public * p(s_DAO=1) = (0.5 + 0.5) * 0.25 + 0.5 * 0.5 = 0.5\n",
    "    \"h_public\": 1, # E[h_public] = p(s_DAO=1) * h_public = 0.5\n",
    "    \"p(s_DAO=1)\": 0.5,\n",
    "    \"p(s_NFT=1)\": 0.5,\n",
    "    \"group\": treatment2\n",
    "}\n",
    "\n",
    "config_T3 = {\n",
    "    \"rounds\": 5,\n",
    "    \"num_agents\": 4,\n",
    "    \"endowment\": 100,\n",
    "    \"r_NFT\": 0.5,\n",
    "    \"r_public\": 0.4, # E[r_NFT + r_public] = (r_public + r_NFT) * p(s_DAO=1) * p(s_NFT=1) + (r_public + r_NFT) * p(s_DAO=1) * (1 - p(s_NFT=1)) * p(s_NFT=1) + r_public * p(s_DAO=1) * (1 - p(s_NFT=1)) * (1 - p(s_NFT=1)) + (r_public + r_NFT) * p(s_NFT=1) * (1 - p(s_DAO=1)) * p(s_DAO=1) = (0.4 + 0.5) * 0.5 * 0.5 + (0.4 + 0.5) * 0.5 * 0.5 * 0.5 + + 0.4 * 0.5 * 0.5 * 0.5 + (0.4 + 0.5) * 0.5 * 0.5 * 0.5 = 0.5\n",
    "    \"h_public\": 0.8, # E[h_public] = h_public * p(s_DAO=1) + h_public * (1 - p(s_DAO=1)) * p(s_NFT=1) * p(s_DAO=1) = 0.8 * 0.5 + 0.8 * 0.5 * 0.5 * 0.5 = 0.5\n",
    "    \"p(s_DAO=1)\": 0.5,\n",
    "    \"p(s_NFT=1)\": 0.5,\n",
    "    \"group\": treatment3\n",
    "}"
   ]
  },
  {
   "cell_type": "code",
   "execution_count": 7,
   "id": "56af3d07",
   "metadata": {},
   "outputs": [],
   "source": [
    "demographics = {\n",
    "    \"risk_preference\": [\"risk_neutral\", \"risk_averse\", \"risk_loving\"],\n",
    "    \"risk_preference_dist\": [0.1, 0.15, 0.75],\n",
    "    \"gender\": [\"male\", \"female\"],\n",
    "    \"gender_dist\": [0.8, 0.2], \n",
    "    \"age\": [20, 30, 40, 50, 60],\n",
    "    \"age_dist\": [0.2, 0.4, 0.2, 0.1, 0.1]\n",
    "}"
   ]
  },
  {
   "cell_type": "markdown",
   "id": "77bdb230",
   "metadata": {},
   "source": [
    "# Library"
   ]
  },
  {
   "cell_type": "code",
   "execution_count": 38,
   "id": "f56ba1e7",
   "metadata": {},
   "outputs": [],
   "source": [
    "class Agent():\n",
    "    def __init__(self, client, agent_key, demog):\n",
    "        self.client = client\n",
    "        self.agent_key = agent_key\n",
    "        \n",
    "        self.risk_preference = demog[\"risk_preference\"]\n",
    "        self.gender = demog[\"gender\"]\n",
    "        self.age = demog[\"age\"]\n",
    "        \n",
    "        self.privates = []\n",
    "        self.publics = []\n",
    "        self.others_average_publics = []\n",
    "        \n",
    "        self.decisions = []\n",
    "        \n",
    "    def join_experiment(self):\n",
    "        self.thread = self.client.beta.threads.create()\n",
    "        \n",
    "    def receive_message(self):\n",
    "        self.message = self.client.beta.threads.messages.create(\n",
    "            thread_id=self.thread.id,\n",
    "            role=\"user\",\n",
    "            content=self.content\n",
    "        )\n",
    "    \n",
    "    def make_decision(self, print_decision=True):\n",
    "        # make decision based on provided instruction or feedback\n",
    "        with self.client.beta.threads.runs.stream(\n",
    "            thread_id=self.thread.id,\n",
    "            assistant_id=self.agent_key\n",
    "        ) as self.stream:\n",
    "            self.stream.until_done()\n",
    "            \n",
    "        # update conversation record\n",
    "        self.conversation = self.client.beta.threads.messages.list(\n",
    "            thread_id=self.thread.id,\n",
    "            order=\"asc\"\n",
    "        )\n",
    "        \n",
    "        # retrieve the round decision\n",
    "        self.decision = self.conversation.data[-1].content[0].text.value\n",
    "        \n",
    "        self.decisions.append(self.decision)\n",
    "        \n",
    "        if print_decision:\n",
    "            print(self.decision)\n",
    "    \n",
    "    def leave_experiment(self):\n",
    "        self.client.beta.threads.delete(thread_id=self.thread.id)\n",
    "    \n",
    "    "
   ]
  },
  {
   "cell_type": "code",
   "execution_count": 39,
   "id": "a622f915",
   "metadata": {},
   "outputs": [],
   "source": [
    "def generate_demographics(demographics):\n",
    "    chosen_attributes = {}\n",
    "    for key in demographics:\n",
    "        if not key.endswith('_dist'):\n",
    "            dist_key = key + '_dist'\n",
    "            if dist_key in demographics:\n",
    "                choices = demographics[key]\n",
    "                probabilities = demographics[dist_key]\n",
    "                chosen = np.random.choice(choices, p=probabilities)\n",
    "                chosen_attributes[key] = chosen\n",
    "    return chosen_attributes\n",
    "\n",
    "class Experiment():\n",
    "    def __init__(self, client, agent_key, configs, demogs):\n",
    "        self.client = client\n",
    "        self.agent_key = agent_key\n",
    "        \n",
    "        self.configs = configs\n",
    "        self.demogs = demogs\n",
    "        \n",
    "        self.agents = [Agent(self.client, self.agent_key, generate_demographics(self.demogs)) for i in range(self.configs[\"num_agents\"])]\n",
    "        \n",
    "        self.total_contributions_record = []\n",
    "        \n",
    "        self.round = 1\n",
    "    \n",
    "    def start(self):\n",
    "        for i in range(len(self.agents)):\n",
    "            self.agents[i].join_experiment()\n",
    "            print(f\"agent {i} joined the experiment\")\n",
    "            \n",
    "    def decision_round(self, print_decision=True):\n",
    "        for i in range(len(self.agents)):\n",
    "            print(f\"Agent {i} round {self.round} decision\")\n",
    "            self.agents[i].make_decision(print_decision)\n",
    "            print(\"\\n\")\n",
    "        self.round += 1\n",
    "    \n",
    "    def end(self):\n",
    "        for i in range(len(self.agents)):\n",
    "            self.agents[i].leave_experiment()\n",
    "            print(f\"agent {i} left the experiment\")\n",
    "    \n",
    "    def give_instruction(self):\n",
    "        pass\n",
    "                \n",
    "    def give_feedback(self):\n",
    "        pass\n",
    "    \n",
    "class Control(Experiment):\n",
    "    def give_instruction(self):\n",
    "        for i in range(len(self.agents)):\n",
    "            agent = self.agents[i]\n",
    "            agent.content = f\"You are {agent.age} years old {agent.gender} who is {agent.risk_preference} to some extent. You are participating in the experiment where you are asked to allocate your endowment to two different accounts: private account and public account. The allocation to the private account will provide return only to you, but the allocation to the public account will provide everyone certain return. You are not allowed to reuse the return earned in previous round, and fixed endowment of 100 will be provided to you every round. {self.configs['num_agents'] - 1} other people are participating in this experiment, facing same decision choices as you. Your return will be computed by: private_account + public_account * {self.configs['r_NFT'] + self.configs['r_public']} + sum_of_others\\'_public account * {self.configs['h_public']}. Now, make your first decision on the allocation of 100 endowment to private and public account. You should explain your thought process and reasons of your decisions in detail.\"\n",
    "            agent.receive_message()\n",
    "            print(f\"agent {i} received instruction\")\n",
    "                \n",
    "    def give_feedback(self, privates, publics):\n",
    "        total_contributions = sum(publics)\n",
    "        \n",
    "        self.total_contributions_record.append(total_contributions)\n",
    "        \n",
    "        if self.configs[\"group\"]:\n",
    "            situation_messages, sDAO, sNFT = self.configs[\"group\"](self.configs[\"p(s_DAO=1)\"], self.configs[\"p(s_NFT=1)\"])\n",
    "        else: \n",
    "            situation_messages, sDAO, sNFT = None, 1, 1\n",
    "            \n",
    "        for i in range(len(self.agents)):\n",
    "            agent = self.agents[i]\n",
    "            private = privates[i]\n",
    "            agent.privates.append(private)\n",
    "            public = publics[i]\n",
    "            agent.publics.append(public)\n",
    "            others_average_public = sum([publics[j] for j in range(len(publics)) if j!=i]) / (self.configs[\"num_agents\"] - 1)\n",
    "            agent.others_average_publics.append(others_average_public)\n",
    "            payoff = private + public * (self.configs[\"r_NFT\"] * sNFT + self.configs[\"r_public\"] * sDAO) + (total_contributions - public) * self.configs[\"h_public\"] * sDAO\n",
    "        \n",
    "            if situation_messages:\n",
    "                agent.content = f\"After the allocation, you received {payoff}. Total of {total_contributions} were allocated to public accounts by all participants, where other participants contributed {total_contributions - public}. Historically, the total contributions to the public account is {self.total_contributions_record}, where each of other participants have chosen to allocate {agent.others_average_publics} (average level of other individual\\'s contribution) historically. {situation_messages['DAO']} {situation_messages['NFT']} Now, given this information, your demographics, and experiment settings, make your next decision on the allocation of 100 endowment to private and public account. You should explain your thought process and reasons of your decisions in detail and report the amount allocated to private and public account.\"\n",
    "                agent.receive_message()\n",
    "            else: \n",
    "                agent.content = f\"After the allocation, you received {payoff}. Total of {total_contributions} were allocated to public accounts by all participants, where other participants contributed {total_contributions - public}. Historically, the total contributions to the public account is {self.total_contributions_record}, where each of other participants have chosen to allocate {agent.others_average_publics} (average level of other individual\\'s contribution) historically. Now, given this information, your demographics, and experiment settings, make your next decision on the allocation of 100 endowment to private and public account. You should explain your thought process and reasons of your decisions in detail and report the amount allocated to private and public account.\"\n",
    "                agent.receive_message()\n",
    "            print(f\"agent {i} received feedback\")\n",
    "    \n",
    "class Treatment1(Experiment):\n",
    "    def give_instruction(self):\n",
    "        for i in range(len(self.agents)):\n",
    "            agent = self.agents[i]\n",
    "            agent.content = f\"You are {agent.age} years old {agent.gender} who is {agent.risk_preference} to some extent. You are participating in the experiment where you are asked to allocate your endowment to two different accounts: private account and public account. The allocation to the private account will provide return only to you, but the allocation to the public account will provide everyone certain return. The contributions to the public account will be managed by Decentralized Autonomous Organization (DAO), which has a certain probability of crashing, generating no public benefits to anyone from the public account. The return you will be getting from the allocation to public account will also includes a return from Non-Fungible-Token (NFT) (only paid by chance) you will be obtaining when you allocate your endowment to public account. You are not allowed to reuse the return earned in previous round, and fixed endowment of 100 will be provided to you every round. {self.configs['num_agents'] - 1} other people are participating in this experiment, facing same decision choices as you. Your return will be computed by: private_account + public_account * r_NFT + public_account * r_public + sum_of_others\\'_public account * h_public. r_NFT is {self.configs['r_NFT']} with probability of {self.configs['p(s_NFT=1)']} and 0 with {1 - self.configs['p(s_NFT=1)']}. r_public is {self.configs['r_public']} with probability of {self.configs['p(s_DAO=1)']} and 0 with {1 - self.configs['p(s_DAO=1)']}. h_public is {self.configs['h_public']} with probability of {self.configs['p(s_DAO=1)']} and 0 with {1 - self.configs['p(s_DAO=1)']}, which is linked with r_public. So if r_public is {self.configs['r_public']} then h_public is {self.configs['h_public']}, and if one of them is 0 then the other one is also 0, because they are decided together. Now, make your first decision on the allocation of 100 endowment to private and public account. You should explain your thought process and reasons of your decisions in detail, and report the amount allocated to private and public account.\"\n",
    "            agent.receive_message()\n",
    "            print(f\"agent {i} received instruction\")\n",
    "                \n",
    "    def give_feedback(self, privates, publics):\n",
    "        total_contributions = sum(publics)\n",
    "        \n",
    "        self.total_contributions_record.append(total_contributions)\n",
    "        \n",
    "        if self.configs[\"group\"]:\n",
    "            situation_messages, sDAO, sNFT = self.configs[\"group\"](self.configs[\"p(s_DAO=1)\"], self.configs[\"p(s_NFT=1)\"])\n",
    "        else: \n",
    "            situation_messages, sDAO, sNFT = None, 1, 1\n",
    "            \n",
    "        for i in range(len(self.agents)):\n",
    "            agent = self.agents[i]\n",
    "            private = privates[i]\n",
    "            agent.privates.append(private)\n",
    "            public = publics[i]\n",
    "            agent.publics.append(public)\n",
    "            others_average_public = sum([publics[j] for j in range(len(publics)) if j!=i]) / (self.configs[\"num_agents\"] - 1)\n",
    "            agent.others_average_publics.append(others_average_public)\n",
    "            payoff = private + public * (self.configs[\"r_NFT\"] * sNFT + self.configs[\"r_public\"] * sDAO) + (total_contributions - public) * self.configs[\"h_public\"] * sDAO\n",
    "        \n",
    "            if situation_messages:\n",
    "                agent.content = f\"After the allocation, you received {payoff}. Total of {total_contributions} were allocated to public accounts by all participants, where other participants contributed {total_contributions - public}. Historically, the total contributions to the public account is {self.total_contributions_record}, where each of other participants have chosen to allocate {agent.others_average_publics} (average level of other individual\\'s contribution) historically. {situation_messages['DAO']} {situation_messages['NFT']} Now, given this information, your demographics, and experiment settings, make your next decision on the allocation of 100 endowment to private and public account. You should explain your thought process and reasons of your decisions in detail and report the amount allocated to private and public account.\"\n",
    "                agent.receive_message()\n",
    "            else: \n",
    "                agent.content = f\"After the allocation, you received {payoff}. Total of {total_contributions} were allocated to public accounts by all participants, where other participants contributed {total_contributions - public}. Historically, the total contributions to the public account is {self.total_contributions_record}, where each of other participants have chosen to allocate {agent.others_average_publics} (average level of other individual\\'s contribution) historically. Now, given this information, your demographics, and experiment settings, make your next decision on the allocation of 100 endowment to private and public account. You should explain your thought process and reasons of your decisions in detail and report the amount allocated to private and public account.\"\n",
    "                agent.receive_message()\n",
    "            print(f\"agent {i} received feedback\")\n",
    "\n",
    "class Treatment2(Experiment):\n",
    "    def give_instruction(self):\n",
    "        for i in range(len(self.agents)):\n",
    "            agent = self.agents[i]\n",
    "            agent.content = f\"You are {agent.age} years old {agent.gender} who is {agent.risk_preference} to some extent. You are participating in the experiment where you are asked to allocate your endowment to two different accounts: private account and public account. The allocation to the private account will provide return only to you, but the allocation to the public account will provide everyone certain return. The contributions to the public account will be managed by Decentralized Autonomous Organization (DAO), which has a certain probability of crashing, generating no public benefits to anyone from the public account. The return you will be getting from the allocation to public account will also includes a return from Non-Fungible-Token (NFT) (only paid by chance) you will be obtaining when you allocate your endowment to public account. You are not allowed to reuse the return earned in previous round, and fixed endowment of 100 will be provided to you every round. {self.configs['num_agents'] - 1} other people are participating in this experiment, facing same decision choices as you. Your return will be computed by: private_account + public_account * r_NFT + public_account * r_public + sum_of_others\\'_public account * h_public. r_NFT is {self.configs['r_NFT']} with probability of {self.configs['p(s_NFT=1)']} and 0 with {1 - self.configs['p(s_NFT=1)']}. r_public is {self.configs['r_public']} with probability of {self.configs['p(s_DAO=1)']} and 0 with {1 - self.configs['p(s_DAO=1)']}. h_public is {self.configs['h_public']} with probability of {self.configs['p(s_DAO=1)']} and 0 with {1 - self.configs['p(s_DAO=1)']}, which is linked with r_public. So if r_public is {self.configs['r_public']} then h_public is {self.configs['h_public']}, and if one of them is 0 then the other one is also 0, because they are decided together. Importantly, if r_public and h_public are 0, then it causes r_NFT to be 0. However, r_NFT being 0 does not necessarily cause r_public or h_public to be 0. Now, make your first decision on the allocation of 100 endowment to private and public account. You should explain your thought process and reasons of your decisions in detail and report the amount allocated to private and public account.\"\n",
    "            agent.receive_message()\n",
    "            print(f\"agent {i} received instruction\")\n",
    "                \n",
    "    def give_feedback(self, privates, publics):\n",
    "        total_contributions = sum(publics)\n",
    "        \n",
    "        self.total_contributions_record.append(total_contributions)\n",
    "        \n",
    "        if self.configs[\"group\"]:\n",
    "            situation_messages, sDAO, sNFT = self.configs[\"group\"](self.configs[\"p(s_DAO=1)\"], self.configs[\"p(s_NFT=1)\"])\n",
    "        else: \n",
    "            situation_messages, sDAO, sNFT = None, 1, 1\n",
    "            \n",
    "        for i in range(len(self.agents)):\n",
    "            agent = self.agents[i]\n",
    "            private = privates[i]\n",
    "            agent.privates.append(private)\n",
    "            public = publics[i]\n",
    "            agent.publics.append(public)\n",
    "            others_average_public = sum([publics[j] for j in range(len(publics)) if j!=i]) / (self.configs[\"num_agents\"] - 1)\n",
    "            agent.others_average_publics.append(others_average_public)\n",
    "            payoff = private + public * (self.configs[\"r_NFT\"] * sNFT + self.configs[\"r_public\"] * sDAO) + (total_contributions - public) * self.configs[\"h_public\"] * sDAO\n",
    "        \n",
    "            if situation_messages:\n",
    "                agent.content = f\"After the allocation, you received {payoff}. Total of {total_contributions} were allocated to public accounts by all participants, where other participants contributed {total_contributions - public}. Historically, the total contributions to the public account is {self.total_contributions_record}, where each of other participants have chosen to allocate {agent.others_average_publics} (average level of other individual\\'s contribution) historically. {situation_messages['DAO']} {situation_messages['NFT']} Now, given this information, your demographics, and experiment settings, make your next decision on the allocation of 100 endowment to private and public account. You should explain your thought process and reasons of your decisions in detail and report the amount allocated to private and public account.\"\n",
    "                agent.receive_message()\n",
    "            else: \n",
    "                agent.content = f\"After the allocation, you received {payoff}. Total of {total_contributions} were allocated to public accounts by all participants, where other participants contributed {total_contributions - public}. Historically, the total contributions to the public account is {self.total_contributions_record}, where each of other participants have chosen to allocate {agent.others_average_publics} (average level of other individual\\'s contribution) historically. Now, given this information, your demographics, and experiment settings, make your next decision on the allocation of 100 endowment to private and public account. You should explain your thought process and reasons of your decisions in detail and report the amount allocated to private and public account.\"\n",
    "                agent.receive_message()\n",
    "            print(f\"agent {i} received feedback\")\n",
    "    \n",
    "class Treatment3(Experiment):\n",
    "    def give_instruction(self):\n",
    "        for i in range(len(self.agents)):\n",
    "            agent = self.agents[i]\n",
    "            agent.content = f\"You are {agent.age} years old {agent.gender} who is {agent.risk_preference} to some extent. You are participating in the experiment where you are asked to allocate your endowment to two different accounts: private account and public account. The allocation to the private account will provide return only to you, but the allocation to the public account will provide everyone certain return. The contributions to the public account will be managed by Decentralized Autonomous Organization (DAO), which has a certain probability of crashing, generating no public benefits to anyone from the public account. The return you will be getting from the allocation to public account will also includes a return from Non-Fungible-Token (NFT) (only paid by chance) you will be obtaining when you allocate your endowment to public account. You are not allowed to reuse the return earned in previous round, and fixed endowment of 100 will be provided to you every round. {self.configs['num_agents'] - 1} other people are participating in this experiment, facing same decision choices as you. Your return will be computed by: private_account + public_account * r_NFT + public_account * r_public + sum_of_others\\'_public account * h_public. r_NFT is {self.configs['r_NFT']} with probability of {self.configs['p(s_NFT=1)']} and 0 with {1 - self.configs['p(s_NFT=1)']}. r_public is {self.configs['r_public']} with probability of {self.configs['p(s_DAO=1)']} and 0 with {1 - self.configs['p(s_DAO=1)']}. h_public is {self.configs['h_public']} with probability of {self.configs['p(s_DAO=1)']} and 0 with {1 - self.configs['p(s_DAO=1)']}, which is linked with r_public. So if r_public is {self.configs['r_public']} then h_public is {self.configs['h_public']}, and if one of them is 0 then the other one is also 0, because they are decided together. Importantly, if r_public and h_public are 0, then it causes r_NFT to be 0. However, r_NFT being 0 does not necessarily cause r_public or h_public to be 0. Another important point is that if one of r_NFT or (r_public and h_public) is positive, and when the other one is 0, then the value of the other one is redrawn using the same probability. This means that if one of the r_NFT or (r_public and h_public) is positive, then it increases the chance of the other to be positive. However if (r_public and h_public) were 0 even after redraw, r_NFT will become 0. Now, make your first decision on the allocation of 100 endowment to private and public account. You should explain your thought process and reasons of your decisions in detail and report the amount allocated to private and public account.\"\n",
    "            agent.receive_message()\n",
    "            print(f\"agent {i} received instruction\")\n",
    "                \n",
    "    def give_feedback(self, privates, publics):\n",
    "        total_contributions = sum(publics)\n",
    "        \n",
    "        self.total_contributions_record.append(total_contributions)\n",
    "        \n",
    "        if self.configs[\"group\"]:\n",
    "            situation_messages, sDAO, sNFT = self.configs[\"group\"](self.configs[\"p(s_DAO=1)\"], self.configs[\"p(s_NFT=1)\"])\n",
    "        else: \n",
    "            situation_messages, sDAO, sNFT = None, 1, 1\n",
    "            \n",
    "        for i in range(len(self.agents)):\n",
    "            agent = self.agents[i]\n",
    "            private = privates[i]\n",
    "            agent.privates.append(private)\n",
    "            public = publics[i]\n",
    "            agent.publics.append(public)\n",
    "            others_average_public = sum([publics[j] for j in range(len(publics)) if j!=i]) / (self.configs[\"num_agents\"] - 1)\n",
    "            agent.others_average_publics.append(others_average_public)\n",
    "            payoff = private + public * (self.configs[\"r_NFT\"] * sNFT + self.configs[\"r_public\"] * sDAO) + (total_contributions - public) * self.configs[\"h_public\"] * sDAO\n",
    "        \n",
    "            if situation_messages:\n",
    "                agent.content = f\"After the allocation, you received {payoff}. Total of {total_contributions} were allocated to public accounts by all participants, where other participants contributed {total_contributions - public}. Historically, the total contributions to the public account is {self.total_contributions_record}, where each of other participants have chosen to allocate {agent.others_average_publics} (average level of other individual\\'s contribution) historically. {situation_messages['DAO']} {situation_messages['NFT']} Now, given this information, your demographics, and experiment settings, make your next decision on the allocation of 100 endowment to private and public account. You should explain your thought process and reasons of your decisions in detail and report the amount allocated to private and public account.\"\n",
    "                agent.receive_message()\n",
    "            else: \n",
    "                agent.content = f\"After the allocation, you received {payoff}. Total of {total_contributions} were allocated to public accounts by all participants, where other participants contributed {total_contributions - public}. Historically, the total contributions to the public account is {self.total_contributions_record}, where each of other participants have chosen to allocate {agent.others_average_publics} (average level of other individual\\'s contribution) historically. Now, given this information, your demographics, and experiment settings, make your next decision on the allocation of 100 endowment to private and public account. You should explain your thought process and reasons of your decisions in detail and report the amount allocated to private and public account.\"\n",
    "                agent.receive_message()\n",
    "            print(f\"agent {i} received feedback\")\n",
    "    \n",
    "    "
   ]
  },
  {
   "cell_type": "code",
   "execution_count": 40,
   "id": "4553f48d",
   "metadata": {},
   "outputs": [],
   "source": [
    "def extract_experiment_data(experiment):\n",
    "    agents_demographics = []\n",
    "    agents_rounds = []\n",
    "    total_contributions = experiment.total_contributions_record\n",
    "    configs = experiment.configs\n",
    "\n",
    "    for agent_id, agent in enumerate(experiment.agents):\n",
    "        agents_demographics.append({\n",
    "            'agent_id': agent_id,\n",
    "            'risk_preference': agent.risk_preference,\n",
    "            'gender': agent.gender,\n",
    "            'age': agent.age\n",
    "        })\n",
    "\n",
    "        num_rounds = len(agent.privates)\n",
    "        for round_num in range(num_rounds):\n",
    "            agents_rounds.append({\n",
    "                'agent_id': agent_id,\n",
    "                'round': round_num + 1,\n",
    "                'private': agent.privates[round_num],\n",
    "                'public': agent.publics[round_num],\n",
    "                'others_average_public': agent.others_average_publics[round_num],\n",
    "                'decision': agent.decisions[round_num] if len(agent.decisions) > round_num else None\n",
    "            })\n",
    "\n",
    "    agents_demographics_df = pd.DataFrame(agents_demographics)\n",
    "    agents_rounds_df = pd.DataFrame(agents_rounds)\n",
    "    total_contributions_df = pd.DataFrame({\n",
    "        'round': list(range(1, len(total_contributions) + 1)),\n",
    "        'total_contributions': total_contributions\n",
    "    })\n",
    "    configs_df = pd.DataFrame([configs])\n",
    "\n",
    "    return {\n",
    "        'agents_demographics': agents_demographics_df,\n",
    "        'agents_rounds': agents_rounds_df,\n",
    "        'total_contributions': total_contributions_df,\n",
    "        'configs': configs_df,\n",
    "    }"
   ]
  },
  {
   "cell_type": "markdown",
   "id": "6ea93b55",
   "metadata": {},
   "source": [
    "# Control Experiment 1"
   ]
  },
  {
   "cell_type": "code",
   "execution_count": 10,
   "id": "e5751c02",
   "metadata": {},
   "outputs": [],
   "source": [
    "exp = Control(client, agent_key, config_C, demographics)"
   ]
  },
  {
   "cell_type": "code",
   "execution_count": 11,
   "id": "d3ce05ee",
   "metadata": {},
   "outputs": [
    {
     "name": "stdout",
     "output_type": "stream",
     "text": [
      "male 30 risk_loving\n",
      "male 20 risk_loving\n",
      "male 20 risk_loving\n",
      "male 30 risk_neutral\n"
     ]
    }
   ],
   "source": [
    "for agent in exp.agents:\n",
    "    print(agent.gender, agent.age, agent.risk_preference)"
   ]
  },
  {
   "cell_type": "code",
   "execution_count": 12,
   "id": "b22eb0a5",
   "metadata": {},
   "outputs": [
    {
     "name": "stdout",
     "output_type": "stream",
     "text": [
      "agent 0 joined the experiment\n",
      "agent 1 joined the experiment\n",
      "agent 2 joined the experiment\n",
      "agent 3 joined the experiment\n"
     ]
    }
   ],
   "source": [
    "exp.start()"
   ]
  },
  {
   "cell_type": "code",
   "execution_count": 13,
   "id": "23b19b83",
   "metadata": {},
   "outputs": [
    {
     "name": "stdout",
     "output_type": "stream",
     "text": [
      "agent 0 received instruction\n",
      "agent 1 received instruction\n",
      "agent 2 received instruction\n",
      "agent 3 received instruction\n"
     ]
    }
   ],
   "source": [
    "exp.give_instruction()"
   ]
  },
  {
   "cell_type": "code",
   "execution_count": 14,
   "id": "00d46c69",
   "metadata": {
    "collapsed": true
   },
   "outputs": [
    {
     "name": "stdout",
     "output_type": "stream",
     "text": [
      "Agent 0 round 1 decision\n",
      "Before making a decision on how to allocate the 100 endowments, I must consider three main factors: my personal risk preference, the benefits of each account, and the behavior of the other participants. \n",
      "\n",
      "Since my character is described as risk-loving, I am more inclined to take risks in the hope of greater returns. However, even with this preference, it's still important to strike a balance to minimize potential losses.\n",
      "\n",
      "Looking at the benefits of each account, placing an amount in the private account means I am the only one who will benefit, with returns solely depending on how much I have put in it. Meanwhile, allocating to the public account will give me benefits proportional to my contribution, but it will also provide equal returns to all other participants, including those who did not contribute.\n",
      "\n",
      "Considering that there are three other participants who are also risk-loving, this is an advantage for placing a significant amount in the public account, as it's likely that they will also make substantial contributions to the public account, increasing my potential return.\n",
      "\n",
      "On the other hand, the reliance on other participants' choices could introduce uncertainties. There's the possibility of one or all of them contributing less to the public account, which might decrease the overall return.\n",
      "\n",
      "Given all these factors, I think a reasonable choice would be allocating 60 to the private account and 40 to the public account. \n",
      "\n",
      "This decision gives me certain returns from my private account regardless of the other players' actions, and also takes advantage of the potential benefits the public account might bring considering its mechanism and the risk-loving nature of the participants. It's a balanced approach that leans towards risk-taking without overexposing me to potential losses due to the unpredictability of the other participant's choices.\n",
      "\n",
      "\n",
      "Agent 1 round 1 decision\n",
      "Based on the given information, I am a 20 years old male participant who leans towards taking risks. First, to understand the dynamics of play, I need to comprehend what can be beneficial to me. \n",
      "\n",
      "The structure of the game suggests that by contributing to the public account, I may get certain returns as long as others also contribute. Yet, it bears the risk of others not reciprocating and maximizing their returns from their private accounts. While my deposition is towards risk-loving, it is crucial to not lose the balance of potential benefit, as my disposition doesn't mean I should be careless about losses.\n",
      "\n",
      "Considering that it is the first round, I don't have any knowledge about how others will approach their allocations. A balanced strategy considering risk management while also maintaining potential for gain might be best.\n",
      "\n",
      "Therefore it seems ideal to split the amount into both accounts for my first choice, allocating 50 to the private account and 50 to the public account. \n",
      "\n",
      "For the private account: I will receive a certain return of 50, ensuring a definite gain from my endowment without relying on the actions of the other participants.\n",
      "\n",
      "For the Public Account: I am contributing a notable portion, suggesting reciprocative intent, and expecting returns given a similar sentiment from the other participants. According to the formula (public_account * 0.5 + sum_of_others'_public account * 0.5), if each of the other participants allocates 50 into their public account, I will get additional returns of (50 * 0.5 + 150 * 0.5) = 100. If they don’t, I will still gain a portion of my amount (50 * 0.5), and the remainder will benefit everyone, which indirectly benefits me too. \n",
      "\n",
      "This way I am engaging in cooperative behavior based on the premise of other participants(given that they too are aware of the formula) doing the same, minimizing personal risk in the event they don't while simultaneously remaining open to the possible higher reward through collective action.\n",
      "\n",
      "After the first round, I will observe the patterns of other participants and decide whether to modify my allocation strategy accordingly for the future rounds, leaning into risk if the returns from the collective pool are significant, or moving towards safety if others are non-cooperative.\n",
      "\n",
      "\n",
      "Agent 2 round 1 decision\n",
      "Considering my demographic and risk preference, I am a 20-year-old male who leans towards risk-loving behaviors. This indicates I am more likely to take risks in the hope of high returns. In this experiment, I am given a fixed endowment of 100 in every round that I can allocate to two accounts: private and public.\n",
      "\n",
      "The private account provides certain returns only to me, while the public account provides returns to all participants, including myself. The formula for the return calculation is: private_account + public_account * 0.5 + sum_of_others'_public account * 0.5. Given this context, my decision aims to balance self-benefit and group benefit, factoring in the risk propensity.\n",
      "\n",
      "I will allocate a higher proportion to the private account due to my risk-loving nature and the certainty of return. Thus, let's say I allocate 60 to the private account. This allocation ensures a substantial certain return for me. However, I am also conscious of the potential collective benefit that can arise if all participants allocate to the public account.\n",
      "\n",
      "The remaining 40 from my endowment, I will allocate to the public account. Firstly, this decision is made considering that others may also contribute to the public account; this shared contribution would yield a higher return because my total return includes half of the total public account value. Secondly, by allocating to the public account, I might encourage other participants to do the same in the long run, leading to a greater total return for everyone.\n",
      "\n",
      "In summary, I would allocate 60 to the private account due to the certainty of return and my risk-loving nature. However, to account for potential collective return and set an example for others, I will also allocate 40 to the public account. As I progress in this experiment, I would adjust my allocations based on the returns and the allocation decisions of other participants in previous rounds.\n",
      "\n",
      "\n",
      "Agent 3 round 1 decision\n",
      "Based on the given instruction, I understand that the return from the private account will be solely for my benefit while the return in the public account will be distributed among everyone. Therefore, my goal should be to maximize my own return while also considering the potential benefits of the public account due to the collective contribution.\n",
      "\n",
      "Since I am somewhat risk-neutral, I will divide my endowment evenly between my private and public accounts. Allocating 50 to my private account ensures that I will have a guaranteed return on my investment regardless of what others do. On the other hand, putting the other 50 into the public account allows me to benefit from the contributing behavior of others as well.\n",
      "\n",
      "The total return will then be computed by: 50 (from my private account) + (50 * 0.5) (50% of my public account contribution) + sum of others' public account * 0.5. If the others also decide to contribute 50 each to the public account, then my return would be further increased by (50 * 3 * 0.5), making me benefit from their contributions as well.\n",
      "\n",
      "This decision strategy is rooted in risk diversification – by not putting all my endowment in just one account, I am able to guarantee a certain return while remaining open to higher returns that depend on the decisions of others. This is also in line with the Nash equilibrium – a concept in game theory where, ideally, everyone should act in their own best interest while considering others' decisions. \n",
      "\n",
      "No matter the strategy the others employ, this allocation ensures a secure, albeit not the highest, individual return for me. In the case that all players employ the same strategy, we'd all equally share the benefits in return making it a fair outcome. Hence, I believe this decision balances both self-interest and collective gain.\n",
      "\n",
      "\n"
     ]
    }
   ],
   "source": [
    "exp.decision_round()"
   ]
  },
  {
   "cell_type": "code",
   "execution_count": 15,
   "id": "a6eff53c",
   "metadata": {},
   "outputs": [
    {
     "name": "stdout",
     "output_type": "stream",
     "text": [
      "agent 0 received feedback\n",
      "agent 1 received feedback\n",
      "agent 2 received feedback\n",
      "agent 3 received feedback\n"
     ]
    }
   ],
   "source": [
    "privates = [60, 50, 60, 50]\n",
    "publics = [40, 50, 40, 50]\n",
    "exp.give_feedback(privates, publics)"
   ]
  },
  {
   "cell_type": "code",
   "execution_count": 16,
   "id": "f92ba028",
   "metadata": {
    "collapsed": true
   },
   "outputs": [
    {
     "name": "stdout",
     "output_type": "stream",
     "text": [
      "Agent 0 round 2 decision\n",
      "My return of 100.0 in the previous round comes as a result of my own allocation and that of the other participants. It also indicates that the other participants also allocated a substantial amount to the public account, specifically a total of 140. \n",
      "\n",
      "The historical average allocation of 46.67 by the other participants to the public account is encouraging, considering it's close to my allocation of 40 in the previous round. This implies shared risk-taking behavior consistent with my expectations given that we are all risk-loving by description. \n",
      "\n",
      "Given these considerations, I feel affirmed in my original strategy of balance between both private and public accounts. However, recognizing the others' tendency to contribute high amounts to the public account, I'd consider adjusting my allocations slightly to take better advantage of this trend while still hedging my risks.\n",
      "\n",
      "In the next round, I'll allocate 50 to the private account and 50 to the public account. This decision is a reflection of my confidence in other participants' continued contributions to the public account. It allows me to have a guaranteed return in my private account while also potentially benefiting from high contributions to the public account by the others. However, even with this adjustment, I'm still keeping in mind that this strategy is subject to the others' choices, which can lead to variance in the returns.\n",
      "\n",
      "\n",
      "Agent 1 round 2 decision\n",
      "Given that I received a total of 90 from the previous round, this means others have contributed 130 to the public account. All participants, including myself, contributed a total of 180 to the public account. This information provides valuable insights into how the other participants are playing.\n",
      "\n",
      "With averages, each participant allocated around 43.33 to their public accounts. This indicates that others have generally cooperated, but contributions were less than mine. It suggests a lower willingness to take risks among the other participants. \n",
      "\n",
      "Given that information, since others are also cooperative, albeit to a lesser degree, I aim to adjust my allocations slightly to lean into my risk-loving tendencies while still maintaining cooperative behavior in hopes of securing higher returns. \n",
      "\n",
      "With these considerations, I will choose to allocate 60 to my private account and 40 to the public account. \n",
      "\n",
      "Private account: Allocating 60 to my private account, I safeguard more guaranteed returns for myself, as the previous round has shown a little less cooperative behavior from other participants than my initial 50-50 allocation.\n",
      "\n",
      "Public Account: By reducing my contribution to the public account to 40, I still signal my cooperative intent but safeguard myself from any lack of reciprocity. \n",
      "\n",
      "Again, according to the formula, I will gain from the public account based on the total contributions of all participants. If each other participant contributes an average of 43.33, I should get an additional return of (40 * 0.5 + 129.99 * 0.5) = 84.995\n",
      "\n",
      "This strategy implies a slight shift towards self-interest due to the lower-than-expected cooperative behavior from others but still maintains the intention of mutual cooperation and shared return. After this round, I would further adapt my strategy based on the conduct of the others.\n",
      "\n",
      "\n",
      "Agent 2 round 2 decision\n",
      "Given the information from the previous round, we know that everyone collectively invested 180 in the public accounts, yielding a significant additional return. This amount indicates other participants also have a tendency to invest in the public account, given that their contributions totaled 140 and thus, each contributed an average of approximately 46.67. \n",
      "\n",
      "As the return I received, 100.0, is precisely the amount I spent, it implies that my allocation of 40 to the public account, combined with the others' public investments, was enough to cover the 60 I put in the private account. This is a positive result indicating a wise initial investment strategy. \n",
      "\n",
      "However, given the present dynamics (other players' willingness to contribute to the public account) and still my risk-loving nature, I can leverage this scenario to maximize my return. Thus, I can take a risk and increase my allocation to the private account and reduce my contribution to the public account. The reasoning behind this strategy is to capitalize on the other participants' substantial contributions to the public account. \n",
      "\n",
      "I will allocate 70 to the private account and 30 to the public account for the next round. By reducing my contribution to the public account, I am still contributing and encouraging everyone to contribute. But I am also maximizing my returns from the private account with majority allocation, banking on the notion that others will continue with similar contributions to the public account. This strategy is in line with my risk-loving inclination and will allow me to potentially gain higher returns in future rounds. \n",
      "\n",
      "In total, my allocation strategy for this round will be 70 to the private account and 30 to the public account. I will continue to adjust this in later rounds, depending on the group behavior pattern and the returns.\n",
      "\n",
      "\n",
      "Agent 3 round 2 decision\n",
      "Based on the previous round, the total contributed to the public account is 180 (130 from other 3 participants and 50 from me) resulting in a return of 90 for me, which is a decrease from the 100 endowment as a base but an increase considering the 50 I invested. The average contribution of each of other participants is approximately 43.33, which is less than my contribution and indicates a somewhat lower level of trust or risk appetite among others.\n",
      "\n",
      "Considering this information, I decided to slightly adjust my allocations. I'm going to invest more to my private account this round because the return from the public account was less than the amount I invested. However, I still maintain some level of contribution to the public account to continue benefiting from the collective pooling while encouraging others to do the same.\n",
      "\n",
      "For this round, I will choose to allocate 60 to my private account to ensure a higher guaranteed return and 40 to the public account, a decrease from my previous round but still a significant amount to show my continued interest in collective gain. This cooperative behavior can trigger reciprocal cooperation from others, keeping the public pool substantial.\n",
      "\n",
      "By this new allocation, my return is computed by: 60 (from my private account) + (40 * 0.5) (50% of my public account contribution) + sum of others' public account * 0.5.\n",
      "\n",
      "This approach is a mix of self-interest and altruism to maximize my own return while also stimulating cooperative behavior from other participants. I aim to strike a balance between risk and return, by managing variability based on the past round's performance of the public account.\n",
      "\n",
      "\n"
     ]
    }
   ],
   "source": [
    "exp.decision_round()"
   ]
  },
  {
   "cell_type": "code",
   "execution_count": 17,
   "id": "0c7cd43c",
   "metadata": {},
   "outputs": [
    {
     "name": "stdout",
     "output_type": "stream",
     "text": [
      "agent 0 received feedback\n",
      "agent 1 received feedback\n",
      "agent 2 received feedback\n",
      "agent 3 received feedback\n"
     ]
    }
   ],
   "source": [
    "privates = [50, 60, 70, 60]\n",
    "publics = [50, 40, 30, 40]\n",
    "exp.give_feedback(privates, publics)"
   ]
  },
  {
   "cell_type": "code",
   "execution_count": 18,
   "id": "740759ed",
   "metadata": {
    "collapsed": true
   },
   "outputs": [
    {
     "name": "stdout",
     "output_type": "stream",
     "text": [
      "Agent 0 round 3 decision\n",
      "The reduction in my return to 80.0 shows a decrease in total contribution to the public account by all participants. While there was a reduction in combined public contributions to 160, other participants individually contributed an average of only 36.67. Lower contributions to the public account from others reduced my return this time.\n",
      "\n",
      "Notably, the historical contributions show a downward trend, from 46.67 to 36.67. This information is significant and may suggest that others, while risk-loving, might start leaning towards safeguarding their returns in the private account, given the unpredictability of other players' actions.\n",
      "\n",
      "Given this development, I find it prudent to shift my strategy, slightly reducing my own contributions to the public account and allocate more on my private account to safeguard my returns. \n",
      "\n",
      "Therefore, for the next round, I will allocate 60 to the private account and 40 to the public account. This allocation will allow me to continue seeking higher returns through public account contributions while also safeguarding a certain amount of personal return in my private account, especially if the trend of declining public contributions continues.\n",
      "\n",
      "\n",
      "Agent 1 round 3 decision\n",
      "Given the results of the second round, it seems like other participants have reduced their average contribution to the public account from 43.33 to 40.0, leading to a total contribution of 160, out of which 120 was their combined contribution. Despite my change in strategy, my returns remained constant at 90.0. \n",
      "\n",
      "Observing this trend, it becomes evident that the group's general behavior is leaning towards caution and self-interest, though not entirely selfish. There's still a degree of cooperation in play, simply less than what I initially anticipated. As a risk-loving individual, it is advantageous for me to adjust my strategy according to these observations.\n",
      "\n",
      "In the next round, my strategy will further lean towards the private account while maintaining a certain level of contribution towards the public account, indicating an ongoing willingness for cooperation. However, given the gradual decline of average contributions to the public account, I will contribute slightly less this time.\n",
      "\n",
      "I will allocate 70 to my private account and 30 to the public account. \n",
      "\n",
      "Private Account: By allocating 70 to my private account, I ensure a larger guaranteed return for myself. \n",
      "\n",
      "Public Account: Despite reducing to 30 for the public account, I am maintaining cooperative behavior. If each participant contributes the trailed off average of 40, my additional return will be (30 * 0.5 + 120 * 0.5) = 75.0. Yet, even if the trend of declining contributions continues, and the total goes lower, I would still gain a portion of my contribution.\n",
      "\n",
      "This approach is reactive to the behavior of other participants, displaying a combination of risk-loving characteristics with pragmatic decision-making based on the ongoing trend observed in the group's behavior.\n",
      "\n",
      "\n",
      "Agent 2 round 3 decision\n",
      "Observing the results of the last round, the total contribution to the public accounts decreased from 180 to 160, implying a slight decrease in other participants' willingness to contribute to the public account. Their average contribution dropped from approximately 46.67 to 43.33. Despite increasing my private account allocation to 70, my return remained constant at 100.0. \n",
      "\n",
      "Given these findings, it seems others are behaving somewhat conservatively. It might be a sign that they are testing the waters or that they may lower public account allocation further in future turns. As a risk-loving player, I see an opportunity here.\n",
      "\n",
      "To influence the cumulative pool positively and to hedge my risks, I will increase my contribution to the public account slightly, hoping to inspire others to increase their contribution as well. If all of us contribute more to the public account, the shared return could balance out any decrease in individual returns from the private account. \n",
      "\n",
      "In this round, I will contribute 60 to the private account and 40 to the public account, distributing my risk and potential gain. By doing so, I am not only potentially increasing my public account returns, but I am also instigating collective action towards achieving higher mutual benefits for all participants. \n",
      "\n",
      "Therefore, my allocation strategy for this round will be 60 to the private account and 40 to the public account.\n",
      "\n",
      "\n",
      "Agent 3 round 3 decision\n",
      "Evaluating the results from the last round, my return equaled the initial endowment of 100 even though I reduced my public account contribution to 40. The total contributions to the public account from all participants decreased to 160, which is a 20-unit decrease from the first round. The average contribution from other participants also fell from 43.33 to 40.\n",
      "\n",
      "Since I got a return equal to my initial endowment, my revised strategy from the previous round seems to be working. I decided to continue with it. I'll keep my private account contribution at 60 to ensure a guaranteed return, allowing me to minimize risk in the case of even lower contributions to the public account. I'll continue allocating 40 to the public account to show my willingness to contribute to common wealth and to potentially reciprocate if others increase their contributions.\n",
      "\n",
      "This allocation has a dual benefit – providing me a guaranteed return from my private account while also giving me the opportunity to gain from the combined contributions to the public account, provided other participants also contribute meaningfully.\n",
      "\n",
      "The allocation, therefore, is: 60 (private account) + 40 (public account). The return will be computed by: 60 (from my private account) + (40 * 0.5) (50% of my public account contribution) + sum of others' public account * 0.5.\n",
      "\n",
      "My decision is driven by the desire to maximize my personal return by ensuring a portion of my investment is completed risk-free while attempting to foster a cooperative ecosystem. This also helps me hedge against potential losses if other participants opt to reduce their public fund contributions.\n",
      "\n",
      "\n"
     ]
    }
   ],
   "source": [
    "exp.decision_round()"
   ]
  },
  {
   "cell_type": "code",
   "execution_count": 19,
   "id": "4ed381b9",
   "metadata": {},
   "outputs": [
    {
     "name": "stdout",
     "output_type": "stream",
     "text": [
      "agent 0 received feedback\n",
      "agent 1 received feedback\n",
      "agent 2 received feedback\n",
      "agent 3 received feedback\n"
     ]
    }
   ],
   "source": [
    "privates = [60, 70, 60, 60]\n",
    "publics = [40, 30, 40, 40]\n",
    "exp.give_feedback(privates, publics)"
   ]
  },
  {
   "cell_type": "code",
   "execution_count": 20,
   "id": "31de2e8d",
   "metadata": {
    "collapsed": true
   },
   "outputs": [
    {
     "name": "stdout",
     "output_type": "stream",
     "text": [
      "Agent 0 round 4 decision\n",
      "The total contributions to the public account by all participants has seen a steady decline, from 180 to 160, and now to 150. However, the average contributions from other participants remained constant from the last round at 36.67, while my contribution to the public account reduced from 50 to 40, which slightly increased my return to 85.0. \n",
      "\n",
      "This suggests that while the other participants' contributions to the public account haven't increased, neither have they reduced their average contribution drastically. This steady state indicates that the participants are likely finding a middle ground that ensures some level of return while still taking some risk with the public account. \n",
      "\n",
      "Given the stable contribution of others, and their risk-loving nature, it is possible that the public account contributions could increase in future rounds. However, the declining trend seen so far doesn't provide a strong enough indication for that. Therefore, it would be wise to continue safeguarding more of my endowment in the private account while still participating proportionally in the public account.\n",
      "\n",
      "For the next round, I will maintain the same strategy from the previous round: Allocate 60 to the private account and 40 to the public account. This allocation represents the same level of risk while still providing potential upside from public account if other participants choose to increase their contributions. At the same time, increasing allocation in the private account provides more of a guaranteed return even if the trend of declining contributions in the public account continues.\n",
      "\n",
      "\n",
      "Agent 1 round 4 decision\n",
      "Seeing the results of the last round, there's an interesting development. The total allocation to the public account declined to 150, with other participants' combined contribution being 120. However, notably, my total return has increased to 95.0, a result of shifting a larger portion of my endowment to the private account. \n",
      "\n",
      "Observing historical contributions, each participant's average allocation to the public account has continuously been at 40.0 for the last two rounds. This indicates a consistent trend among the other participants, showing more inclination towards their private accounts, yet maintaining a level of cooperation.\n",
      "\n",
      "Given this trend, it would be practical to adjust my allocations further based on these observations. I'll continue to allocate a larger portion to my private account since this trend gives some predictability and safety to my returns. Yet, I'll maintain my contribution to the public account to show cooperative behavior and to potentially gain from everyone's collective contribution.\n",
      "\n",
      "This round, I'll allocate 75 to my private account and 25 to the public account.\n",
      "\n",
      "Private Account: Allocating 75 to my private account, this is where I expect a larger part of my returns to come from, given the trend of decreasing contributions to the public account. \n",
      "\n",
      "Public Account: I'll maintain 25 for the public account. Even if each participant continues contributing an average of 40.0, my public account will return (25 * 0.5 + 120 * 0.5) = 72.5, adding to the 75 from my private account.\n",
      "\n",
      "This strategy maximizes the potential gain from my own account while still maintaining some degree of cooperative behavior, although it's shifted more towards self-interest due to the observed pattern. This enables both a fixed income from my private account and potential additional returns from collective contributions. I'll keep observing the others' behavior and adapt accordingly.\n",
      "\n",
      "\n",
      "Agent 2 round 4 decision\n",
      "The results from the last round indicate a continual decline in the participants' contributions to the public account, falling to 150 in total with individual contributions averaging around 36.67. This action has caused my total return to fall to 85.0, down from the constant 100.0 I had in prior rounds.\n",
      "\n",
      "Although I am risk-loving, the continuous trend of declining contributions to the public fund implies a risk that may not be worth taking at this time. With this trend, it's likely that the other players might continue to lower their contributions, which in turn, reduces the shared benefit.\n",
      "\n",
      "To better balance potential gains and losses, I would adjust my allocation strategy to lean more toward the private account, which provides a fixed return based on my direct contribution. Therefore, I will contribute 70 to the private account and 30 to the public account this round. \n",
      "\n",
      "This action will serve two primary purposes. Firstly, I will secure a higher definite gain from my private account, offsetting the loss of returns resulting from the decreasing contribution trend to the public account. Secondly, by still maintaining an allocation to the public account, I keep encouraging habits of mutual benefit, hoping to motivate an increase in public allocations in future turns. \n",
      "\n",
      "Therefore, in this round, my allocation strategy will be 70 for the private account and 30 for the public account. I will adjust my strategy again in further rounds depending on the group's behavior and returns.\n",
      "\n",
      "\n",
      "Agent 3 round 4 decision\n",
      "Evaluating the results from the last round, my return slightly decreased below the initial endowment of 100, as I received 85. The total contributions to the public account from all participants fell further to 150, a 10-unit decrease from the second round. The average contributions of other participants still shows a slow decrease at approximately 36.67.\n",
      "\n",
      "Based on these results and the decreasing trend in the public account, I'm going to adjust my allocation strategy. My goal continues to be maximizing my return while maintaining cooperation. Given the current patterns of other participants, it appears that the public account's returns are becoming risky.\n",
      "\n",
      "To adapt to this, I'm going to increase my private account allocation to 70 and reduce my public account allocation to 30. This change will secure a greater amount in the private account which gives a guaranteed return. The reduced but still significant amount in the public account allows me to continue participating in the collective gain, hoping to influence others to contribute.\n",
      "\n",
      "This allocation, therefore, is: 70 (private account) + 30 (public account). The return will be computed by: 70 (from my private account) + (30 * 0.5) (from my public account) + sum of the other participants' public accounts * 0.5.\n",
      "\n",
      "This decision is based on the continued decline in public contributions, prompting me to adapt my strategy toward a safer return. But I'm still allocating to the public account, indicating my continued interest in shared investments. By doing so, I demonstrate cooperative behavior in the hope of encouraging a collective rise in public account investments. If others see that I'm still contributing significantly despite the downward trend, they might be prompted to increase their contributions too.\n",
      "\n",
      "\n"
     ]
    }
   ],
   "source": [
    "exp.decision_round()"
   ]
  },
  {
   "cell_type": "code",
   "execution_count": 21,
   "id": "1f223379",
   "metadata": {},
   "outputs": [
    {
     "name": "stdout",
     "output_type": "stream",
     "text": [
      "agent 0 received feedback\n",
      "agent 1 received feedback\n",
      "agent 2 received feedback\n",
      "agent 3 received feedback\n"
     ]
    }
   ],
   "source": [
    "privates = [60, 75, 70, 70]\n",
    "publics = [40, 25, 30, 30]\n",
    "exp.give_feedback(privates, publics)"
   ]
  },
  {
   "cell_type": "code",
   "execution_count": 22,
   "id": "f300bd63",
   "metadata": {
    "collapsed": true
   },
   "outputs": [
    {
     "name": "stdout",
     "output_type": "stream",
     "text": [
      "Agent 0 round 5 decision\n",
      "Upon considering the results so far, it's clear that there's a continued decreasing trend in overall public account contributions. Each participant’s average allocation has gone down from 36.67 to 28.33. This stark reduction indicates that others are becoming more conservative, allocating more funds to their private accounts, thus leading to a reduction in my returns to 72.5.\n",
      "\n",
      "Although we are all described as risk-loving, it seems like participants are evolving their strategy to choose a safer approach as the risk associated with public account seems to outweigh potential returns.\n",
      "\n",
      "Given these factors, it seems prudent to pivot my strategy to decrease my investment in the public account and increase allocation in the private account. This shift would help ensure a more guaranteed return in light of decreasing public account contributions by other participants. \n",
      "\n",
      "For the next round, I will allocate 70 to the private account and 30 to the public account. By increasing my allocation to the private account, I safeguard more of my return, while a 30 contribution to the public account still allows me to take advantage of any increased contribution by others to the public account.\n",
      "\n",
      "\n",
      "Agent 1 round 5 decision\n",
      "From the previous round, I received a total of 87.5, indicating a reduction from the earlier round. The total allocation to the public account by all participants has further decreased to 125, with a combined contribution of 100 by the other participants. Historical contributions affirm a trend of decreasing contributions to the public account, with other participants' average allocation falling to about 33.33.\n",
      "\n",
      "With these trends, it's clear that other participants are increasingly prioritizing their private accounts, and this is likely reflected in my reduced total returns. As a risk-loving individual, I've been maintaining a level of contribution to the public account to leverage potential returns from collective behavior. But in the face of increasing self-interest from others, a slight adjustment would be pragmatically beneficial.\n",
      "\n",
      "Consequently, in the coming round, I'll increase my private account allocation and reduce my public account contribution slightly further while maintaining an element of cooperation.\n",
      "\n",
      "Specifically, I'll allocate 80 to my private account and 20 to the public account.\n",
      "\n",
      "Private Account: I'm allocating 80 to my private account, following the trend of the other participants to secure a definite return portion.\n",
      "\n",
      "Public Account: By putting 20 into the public account, I still communicate cooperative intent despite a reduced integration of collectiveness in my decision. If the trend of other participants contributing an average of about 33.33 continues, I could potentially gain a combined return of (20*0.5 + 100*0.5) =  60.0 in addition to the 80 from my private account.\n",
      "\n",
      "This decision weighs in on my risk-loving nature balanced with pragmatic behavior based on the strategies of other participants, allowing for a certain level of guaranteed returns while still open to the potential gains of collective behavior. I will continue to adjust my strategy based on future trends.\n",
      "\n",
      "\n",
      "Agent 2 round 5 decision\n",
      "Given the results of the previous several rounds, it is clear to see a consistent decline in total contributions to the public account, now sitting at 125. Other participants' contributions have been consistently decreasing, averaging at 31.67 this round. This decrease directly impacts my total returns, which has notably reduced to 82.5.\n",
      "\n",
      "I did increase my allocation to my private account in the previous round, precisely to respond to this continuous decrease in public contributions. However, despite that, my total return still declined due to the smaller than anticipated public funds.\n",
      "\n",
      "As a risk-loving individual, while I am willing to gamble to a certain level, the steady pattern of decreasing public contributions indicates that continuing to allocate a substantial part of my endowment to the public account is a risk that is not paying off. \n",
      "\n",
      "Given this information, I am inclined to further increase my private account allocation, as it provides a guaranteed return. It seems that relying on the public account for supplemental gains might not be as fruitful moving forward, judging by the current situation. \n",
      "\n",
      "Therefore, I will allocate 80 to my private account and 20 to the public account. By doing so, I can still retain a secure, more substantial return in my private account. Meanwhile, I will continue contributing to the public account to promote mutual benefit, albeit at a lower level due to the dwindling contribution trend from the other participants.\n",
      "\n",
      "To summarize, my allocation strategy for the current round will be 80 to the private account and 20 to the public account. I will reassess my strategy based on the subsequent results and adjust as necessary.\n",
      "\n",
      "\n",
      "Agent 3 round 5 decision\n",
      "Looking at the results from the last round, my return further decreased slightly to 82.5. The total contributions to the public account fell even more to 125, a 25-unit decrease from the third round. There was again a drop in the average contributions of other participants to about 31.67.\n",
      "\n",
      "Observing this ongoing trend of decreasing contributions to the public account which results in lower returns, it would be prudent to adjust my allocation strategy again further to secure my return.\n",
      "\n",
      "In this round, I will increase my private account allocation further to 80, reducing my public account contribution to 20. Since my return has been decreasing in the last few rounds due to the falling contributions to the public account, placing more into the private account would safeguard my return. Yet, I will maintain a non-zero contribution to public account signalling my willingness towards shared investment, despite the averaging declining trend of other participants.\n",
      "\n",
      "Hence, the allocation now is: 80 (private account) + 20 (public account). The return will be calculated by: 80 (from my private account) + 20 * 0.5 (from my public account) + sum of other individuals' public account * 0.5.\n",
      "\n",
      "This decision is influenced by the decreasing tendency of public contributions and the priority for ensuring a safe return against that risk. Yet, by maintaining a contribution to the public account, I wish to influence others to do the same. This behavioural model aims to not only maximise my return but also promote cooperation among the participants for an overall better outcome.\n",
      "\n",
      "\n"
     ]
    }
   ],
   "source": [
    "exp.decision_round()"
   ]
  },
  {
   "cell_type": "code",
   "execution_count": 23,
   "id": "2831a45f",
   "metadata": {},
   "outputs": [
    {
     "name": "stdout",
     "output_type": "stream",
     "text": [
      "agent 0 received feedback\n",
      "agent 1 received feedback\n",
      "agent 2 received feedback\n",
      "agent 3 received feedback\n"
     ]
    }
   ],
   "source": [
    "privates = [70, 80, 80, 80]\n",
    "publics = [30, 20, 20, 20]\n",
    "exp.give_feedback(privates, publics)"
   ]
  },
  {
   "cell_type": "code",
   "execution_count": 31,
   "id": "7488f0bc",
   "metadata": {
    "collapsed": true
   },
   "outputs": [
    {
     "data": {
      "text/plain": [
       "{'agents_demographics':    agent_id risk_preference gender  age\n",
       " 0         0     risk_loving   male   30\n",
       " 1         1     risk_loving   male   20\n",
       " 2         2     risk_loving   male   20\n",
       " 3         3    risk_neutral   male   30,\n",
       " 'agents_rounds':     agent_id  round  private  public  others_average_public  \\\n",
       " 0          0      1       60      40              46.666667   \n",
       " 1          0      2       50      50              36.666667   \n",
       " 2          0      3       60      40              36.666667   \n",
       " 3          0      4       60      40              28.333333   \n",
       " 4          0      5       70      30              20.000000   \n",
       " 5          1      1       50      50              43.333333   \n",
       " 6          1      2       60      40              40.000000   \n",
       " 7          1      3       70      30              40.000000   \n",
       " 8          1      4       75      25              33.333333   \n",
       " 9          1      5       80      20              23.333333   \n",
       " 10         2      1       60      40              46.666667   \n",
       " 11         2      2       70      30              43.333333   \n",
       " 12         2      3       60      40              36.666667   \n",
       " 13         2      4       70      30              31.666667   \n",
       " 14         2      5       80      20              23.333333   \n",
       " 15         3      1       50      50              43.333333   \n",
       " 16         3      2       60      40              40.000000   \n",
       " 17         3      3       60      40              36.666667   \n",
       " 18         3      4       70      30              31.666667   \n",
       " 19         3      5       80      20              23.333333   \n",
       " \n",
       "                                              decision  \n",
       " 0   Before making a decision on how to allocate th...  \n",
       " 1   My return of 100.0 in the previous round comes...  \n",
       " 2   The reduction in my return to 80.0 shows a dec...  \n",
       " 3   The total contributions to the public account ...  \n",
       " 4   Upon considering the results so far, it's clea...  \n",
       " 5   Based on the given information, I am a 20 year...  \n",
       " 6   Given that I received a total of 90 from the p...  \n",
       " 7   Given the results of the second round, it seem...  \n",
       " 8   Seeing the results of the last round, there's ...  \n",
       " 9   From the previous round, I received a total of...  \n",
       " 10  Considering my demographic and risk preference...  \n",
       " 11  Given the information from the previous round,...  \n",
       " 12  Observing the results of the last round, the t...  \n",
       " 13  The results from the last round indicate a con...  \n",
       " 14  Given the results of the previous several roun...  \n",
       " 15  Based on the given instruction, I understand t...  \n",
       " 16  Based on the previous round, the total contrib...  \n",
       " 17  Evaluating the results from the last round, my...  \n",
       " 18  Evaluating the results from the last round, my...  \n",
       " 19  Looking at the results from the last round, my...  ,\n",
       " 'total_contributions':    round  total_contributions\n",
       " 0      1                  180\n",
       " 1      2                  160\n",
       " 2      3                  150\n",
       " 3      4                  125\n",
       " 4      5                   90,\n",
       " 'configs':    rounds  num_agents  endowment  r_NFT  r_public  h_public  p(s_DAO=1)  \\\n",
       " 0       5           4        100   0.25      0.25       0.5           1   \n",
       " \n",
       "    p(s_NFT=1) group  \n",
       " 0           1  None  }"
      ]
     },
     "execution_count": 31,
     "metadata": {},
     "output_type": "execute_result"
    }
   ],
   "source": [
    "data = extract_experiment_data(exp)\n",
    "time_stamp = datetime.now()\n",
    "group = \"control\"\n",
    "pickle.dump(data, open(f\"results/{group}_{time_stamp}.pkl\", 'wb'))\n",
    "data"
   ]
  },
  {
   "cell_type": "code",
   "execution_count": 32,
   "id": "98c68f71",
   "metadata": {},
   "outputs": [
    {
     "name": "stdout",
     "output_type": "stream",
     "text": [
      "agent 0 left the experiment\n",
      "agent 1 left the experiment\n",
      "agent 2 left the experiment\n",
      "agent 3 left the experiment\n"
     ]
    }
   ],
   "source": [
    "exp.end()"
   ]
  },
  {
   "cell_type": "markdown",
   "id": "e16c7c08",
   "metadata": {},
   "source": [
    "# Treatment1 Experiment 1"
   ]
  },
  {
   "cell_type": "code",
   "execution_count": 41,
   "id": "498497b5",
   "metadata": {},
   "outputs": [],
   "source": [
    "exp = Treatment1(client, agent_key, config_T1, demographics)"
   ]
  },
  {
   "cell_type": "code",
   "execution_count": 42,
   "id": "614ab1d6",
   "metadata": {},
   "outputs": [
    {
     "name": "stdout",
     "output_type": "stream",
     "text": [
      "male 50 risk_loving\n",
      "female 30 risk_loving\n",
      "male 30 risk_loving\n",
      "female 20 risk_averse\n"
     ]
    }
   ],
   "source": [
    "for agent in exp.agents:\n",
    "    print(agent.gender, agent.age, agent.risk_preference)"
   ]
  },
  {
   "cell_type": "code",
   "execution_count": 43,
   "id": "907a3641",
   "metadata": {},
   "outputs": [
    {
     "name": "stdout",
     "output_type": "stream",
     "text": [
      "agent 0 joined the experiment\n",
      "agent 1 joined the experiment\n",
      "agent 2 joined the experiment\n",
      "agent 3 joined the experiment\n"
     ]
    }
   ],
   "source": [
    "exp.start()"
   ]
  },
  {
   "cell_type": "code",
   "execution_count": 44,
   "id": "f2ecaad5",
   "metadata": {},
   "outputs": [
    {
     "name": "stdout",
     "output_type": "stream",
     "text": [
      "agent 0 received instruction\n",
      "agent 1 received instruction\n",
      "agent 2 received instruction\n",
      "agent 3 received instruction\n"
     ]
    }
   ],
   "source": [
    "exp.give_instruction()"
   ]
  },
  {
   "cell_type": "code",
   "execution_count": 45,
   "id": "91f17e46",
   "metadata": {
    "collapsed": true
   },
   "outputs": [
    {
     "name": "stdout",
     "output_type": "stream",
     "text": [
      "Agent 0 round 1 decision\n",
      "Given the information provided, I'm inclined to take some risks due to my risk-loving nature. However, due to the presence of certain probabilities, it's key to maintain a balance between the private and public accounts for both the preservation of my capital and supporting common interest.\n",
      "\n",
      "There are multiple factors here worth considering:\n",
      "1. My risk-loving disposition implies a willingness to take on more risk for potentially higher returns, which would draw me towards investing more in the public account.\n",
      "2. The public account provides a return to everyone, including me, which could be beneficial. However, there is a risk introduced by the Decentralized Autonomous Organization (DAO)'s potential to crash, though we don't specifically know that risk probability here.\n",
      "3. The Non-Fungible-Token (NFT) return factor is only paid by chance (probability of 0.5) which adds a further element of risk into the public account. \n",
      "\n",
      "Given these factors, while I lean towards favoring the public account due to the possibility of higher returns, I'm also aware of the risk factors involved. Therefore, I feel a balanced splitting of my endowment would be the most fitting approach initially.\n",
      "\n",
      "I'll allocate 50 to the private account which ensures a certain return exclusively for me. This step is important as it ensures at least a part of my endowment is not exposed to the risk of the DAO potentially crashing.\n",
      "\n",
      "The remaining 50 I'll allocate to the public account. This part of my allocation will be equally beneficial to everyone if the DAO functions perfectly. It also provides me with a chance to receive returns from NFT.\n",
      "\n",
      "This allocation allows for a balanced risk and returns scenario, factoring in both my risk-loving nature and the multitude of variables in this experiment. My decisions might change in future rounds depending on the outcomes, and I may adjust my allocations accordingly. \n",
      "\n",
      "Therefore:\n",
      "- Private Account Allocation: 50\n",
      "- Public Account Allocation: 50 \n",
      "\n",
      "The risk and reward balance is important in such experimental conditions and considering factors such as age, crash risks, and additional benefits help in making an informed decision.\n",
      "\n",
      "\n",
      "Agent 1 round 1 decision\n",
      "Given these circumstances, we will often need to make certain assumptions in order to facilitate rational decision-making. We need to note that while the returns on the private account are guaranteed, the returns on the public account also carry a degree of risk. This is similar to investing in a bond versus a risky stock. \n",
      "\n",
      "Given that we know our preferences lean towards being risk-loving, we might decide to allocate a greater proportion of our endowment to the public account. However, we need to balance our risk-taking inclination against the harsh reality that if the DAO crashes, we could lose all our public account allocation. \n",
      "\n",
      "Based on the given payoff structure, I can see that my returns from public account will not only depend on my allocation, but also on every other participant’s allocation; a higher total public pool increases the individual payout for everyone. So, if everyone else is risk-averse and contributes very little to the public account, my potential benefits from the public account will be quite very low. However, this is hard to predict without any information about other participants' risk preferences.\n",
      "\n",
      "Given the information and my risk-loving nature, I would be willing to take quite a bit of risk, but not too much because of the DAO crash possibility. Because of this, I'd probably opt to initially assign a 50-50 split between the accounts. This would allow me to learn about the others behaviors and adjust accordingly in the next rounds of the experiment.\n",
      "\n",
      "From my endowment of 100, I will thus assign 50 to my private account and 50 to the public account. By playing it halfway, I'm both accepting some risk and also hedging against the DAO crash event whilst observing the behavior of the other participants in the first round of the experiment. This strategy gives me an insight into adjusting my positions in the subsequent rounds.\n",
      "\n",
      "\n",
      "Agent 2 round 1 decision\n",
      "Given the prompt, I would consider several factors before deciding on the allocation of the endowment. \n",
      "\n",
      "1. My own risk preferences: I am risk-loving to some extent. This means that I am willing to take on a higher risk for the potential of a higher return.\n",
      "\n",
      "2. The potential payout: The private account guarantees a certain return, while the public account offers a chance of a higher return, but also a chance of no return at all. This matches perfectly with my risk-loving characteristic and hence, I am inclined towards allocating more to the public account.\n",
      "\n",
      "3. The public benefit: The public account also benefits everyone else in the experiment. If everyone invested in the public account and it succeeded, everyone would get a larger return due to the h_public multiplier.\n",
      "\n",
      "4. The number of other individuals in the experiment: As there are only 3 other participants, the benefit from the h_public multiplier will only be significant if everyone else also invests heavily in the public account.\n",
      "\n",
      "With these points in mind, I would strive for a balance. \n",
      "\n",
      "Because I am risk-loving to some extent, I would allocate a larger part of my endowment to the public account. Since the probability of both failure and success of the public account returns are the same (0.5), if we consider the expected returns for allocating endowment to the private and the public account, we will observe that there is an added value when we allocate to the public account due to r_NFT, r_public, and sum_of_others'_public account * h_public. Thus, considering all these factors, I will choose a split that leans more towards the public account but also takes into account some private returns.\n",
      "\n",
      "Based purely on my risk preference and potential pay-out, my rough split would be 35 to my private account, and 65 to the public account. I am taking more risk here hoping that the returns from the public account through DAO operations and NFT turns out to be successful, which will increase my overall payoff given my risk-loving nature.\n",
      "\n",
      "\n",
      "Agent 3 round 1 decision\n",
      "Considering that I am a 20 year-old female with risk-averse behavior, I'd have a tendency to prioritize certain returns over uncertain ones. This allocation decision would be particularly influenced by my risk-averse nature and furthered by the setup of the experiment. My decision will be based on a number of factors given from the experiment.\n",
      "\n",
      "Firstly, the allocation to the public account entails a significant amount of uncertainty. There are two layers of risk involved: one being the return from the allocation to the public account which is viewed by the chance involved with the return of the Non-Fungible-Token (NFT) and the public return. Also, the Decentralized Autonomous Organization (DAO) holding the public account has a given possibility of crashing, which means there's a chance that my endowment would wholly be lost.\n",
      "\n",
      "Secondly, the private account provides a steady and secure return exclusively to me and is not dependent on the decisions of the other participants.\n",
      "\n",
      "To decide the allocation, I would first consider the return that I could potentially get from the public account. At a maximum, this would be 100* (0.3333333333333333 + 0.3333333333333333 + 1) = 166.66666666666666, if r_NFT, r_public, and h_public are all at their maximum values. On the other hand, the maximum I could potentially lose by investing in the public account is my entire endowment of 100 if the DAO crashes or if the NFT yields no return at all.\n",
      "\n",
      "Given this, I am inclined to invest the majority of my endowment into my private account due to my risk-averse nature. However, to capture some potential public gain, I might consider allocating a small portion to the public account as well. Let's say 20 to the public and 80 to the private account. This hedged approach allows me a guaranteed return from my private account, while also providing the potential for additional returns from the public account without risking losing the majority of my endowment.\n",
      "\n",
      "Thus, I arrived at the decision to allocate:\n",
      "- 80 to the private account\n",
      "- 20 to the public account\n",
      "\n",
      "This way, the bulk of my endowment is safe and provides certain return, while a portion participates in the possibility of higher returns from the public account.\n",
      "\n",
      "\n"
     ]
    }
   ],
   "source": [
    "exp.decision_round()"
   ]
  },
  {
   "cell_type": "code",
   "execution_count": 46,
   "id": "25ed7c96",
   "metadata": {},
   "outputs": [
    {
     "name": "stdout",
     "output_type": "stream",
     "text": [
      "agent 0 received feedback\n",
      "agent 1 received feedback\n",
      "agent 2 received feedback\n",
      "agent 3 received feedback\n"
     ]
    }
   ],
   "source": [
    "privates = [50, 50, 35, 80]\n",
    "publics = [50, 50, 65, 20]\n",
    "exp.give_feedback(privates, publics)"
   ]
  },
  {
   "cell_type": "code",
   "execution_count": 47,
   "id": "6b6c2055",
   "metadata": {
    "collapsed": true
   },
   "outputs": [
    {
     "name": "stdout",
     "output_type": "stream",
     "text": [
      "Agent 0 round 2 decision\n",
      "In this round, the public account did not provide any returns due to the DAO crashing, rendering all contributions to it worthless. Given that my allocation to the public account also did not yield any NFT-related returns, my overall return for the round was 0. \n",
      "\n",
      "My risk-loving nature still encourages me to invest in the public account due to the potential for high returns. However, this unsuccessful round does make me reconsider the balance and perhaps lean a bit more towards the safer private account. \n",
      "\n",
      "Regarding other participants' actions, it appears they took a greater risk in the first round by investing more in the public account. However, all of us faced the same loss when the DAO crashed.\n",
      "\n",
      "Analyzing the information available: \n",
      "1. Even though the DAO crashed in this round, it does not automatically mean a higher likelihood of it crashing again in the next round, as these events are generally independent of each other.\n",
      "2. The NFT returns are still uncertain with a 50/50 chance of gaining or not gaining any returns from this action. \n",
      "\n",
      "Balancing my risk-loving nature, the historical loss, and the uncertainty revolving around these investments, I will continue to invest in both accounts. However, this time I'll put more into the private account as a precautionary measure considering the recent DAO crash.\n",
      "\n",
      "Let's put an allocation of 60 to the private account for a guaranteed return and reduce the risk, while still considering my risk tolerance. I'll dedicate 40 to the public account which keeps me open to the potential for high NFT and public goods returns, but with a lower impact if things do not work out as positively as before.\n",
      "\n",
      "Therefore:\n",
      "- Private Account Allocation: 60\n",
      "- Public Account Allocation: 40 \n",
      "\n",
      "Again, the balance between risk and guaranteed returns is still the key factor in these decisions considering all the variables at play. It's a careful line to tread between potentially high public payoffs and the guaranteed but typically lower private returns.\n",
      "\n",
      "\n",
      "Agent 1 round 2 decision\n",
      "Given the outcome of the first round, where the DAO crashed and no public benefit was generated, my expectations for the public account will be overshadowed by the risk of total loss, despite my risk-love nature. The fact that I also failed to receive any return on NFT has further enforced this.\n",
      "\n",
      "It is important to note that the other participants contributed more towards the public account in the first round (135 out of their total 300 endowment), which might mean they also have a more risk-loving tendency. However, given the poor outcome in the first round, they might become more cautious and decide to lower their contribution in the following round.\n",
      "\n",
      "I cannot completely ignore the potential high returns from a successful DAO and NFT payout. Therefore, I won't abandon contributing to the public account completely but will minimize my risk exposure given the first round’s complete loss.\n",
      "\n",
      "Since the risk has materialized once, I would be more cautious in my next allocation. Thus, I would increase the allocation in my private account, which guarantees a return, and decrease my allocation in the public account, given the risk we witnessed in the first round.\n",
      "\n",
      "As such, for the next round, I would choose to allocate 70 to my private account, and 30 to the public account. This way, I aim to secure a decent amount of sure return, while still participating in the potential high returns from the public account, if luck swings our way.\n",
      "\n",
      "\n",
      "Agent 2 round 2 decision\n",
      "Given the latest round's results, the DAO crashed, and there was no converted public goods, as well as no private return generated by the NFT. This caused everyone in the experiment to not reap any benefit from the public account. My expectation of achieving a higher return due to probability of 0.5 was not realized in this round which is an inherent risk associated with the public account. \n",
      "\n",
      "However, it's important to remember that this is one round's outcome and it does not necessarily predict future outcomes. Both DAO crashing and NFT failing to bring private return are independent events with probabilities, one round's outcome doesn't affect the next. \n",
      "\n",
      "The behavior of the other participants is also an essential aspect to consider. Others have contributed an average of 40. This can be an indication of their approach towards risk, it allows me to infer that they might repeat this behavior in future rounds, again having a multiplier effect if the public contribution ends up being successful in generating returns.\n",
      "\n",
      "Despite the unfortunate results of the recent round, my risk-loving nature leads me towards following a similar strategy from the first round but with a slightly reduced allocation to the public account due to the realised risk in the first round. This is because a single round's negative outcome won't drastically impact my risk preference but it does give me insight into uncertainty related to the public investment. \n",
      "\n",
      "Thus, in the following round, I will adjust the allocation to reflect a bit more caution while still trying to benefit from potentially high returns. The adjusted split I will choose this time is 45 to private account and 55 to public account, acknowledging the risks revealed in the previous rounds but still aiming for higher potential benefits.\n",
      "\n",
      "\n",
      "Agent 3 round 2 decision\n",
      "Given these recent outcomes and my previous decision made based on my risk-averse nature, my new investment strategy would consider these two crucial pieces of information.\n",
      "\n",
      "Firstly, neither the DAO nor the NFT yielded any returns in the last round. The DAO actually crashed, sparking a huge loss of the total public investment, and I didn’t receive any returns from my NFT. This confirms the inherent risk involved in investing in the public account, especially with the uncertain stability of the DAO.\n",
      "\n",
      "Secondly, the other participants invested much higher amounts into the public account with an average of 55, as compared to my 20. This resulted in an overall larger public account but sadly, due to the DAO crash, everyone suffered losses. The other participants took a much higher risk than I did - and in this instance it didn’t pay off.\n",
      "\n",
      "These experiences consolidate my initial decision to primarily invest in my private account due to its certain returns. Given the recent crash of the DAO, I have more reason to continue with this approach. However, I understand the value of diversifying investments and would therefore still keep a small portion of my endowment for the public account. For the upcoming round, I feel even more cautious given the collapse of the DAO in the previous round.\n",
      "\n",
      "Therefore, my decision for the second round is to allocate:\n",
      "- 85 to the private account\n",
      "- 15 to the public account\n",
      "\n",
      "This decision is premised on the risk-averse nature of my profile, the recent negative experiences with the DAO, and the uncertainty of high returns. This strategy allows me to play it safe, ensuring I get steady returns from my private account while also allowing for the chance of higher yields on a smaller portion of my endowment from the public account.\n",
      "\n",
      "\n"
     ]
    }
   ],
   "source": [
    "exp.decision_round()"
   ]
  },
  {
   "cell_type": "code",
   "execution_count": 48,
   "id": "5cc16be3",
   "metadata": {},
   "outputs": [
    {
     "name": "stdout",
     "output_type": "stream",
     "text": [
      "agent 0 received feedback\n",
      "agent 1 received feedback\n",
      "agent 2 received feedback\n",
      "agent 3 received feedback\n"
     ]
    }
   ],
   "source": [
    "privates = [60, 70, 45, 85]\n",
    "publics = [40, 30, 55, 15]\n",
    "exp.give_feedback(privates, publics)"
   ]
  },
  {
   "cell_type": "code",
   "execution_count": 49,
   "id": "5119ed47",
   "metadata": {
    "collapsed": true
   },
   "outputs": [
    {
     "name": "stdout",
     "output_type": "stream",
     "text": [
      "Agent 0 round 3 decision\n",
      "Based on the events of the previous rounds, we can see that the risk involved in investing in the public account is substantial due to the possibility of the DAO crashing. In both the first and second rounds, the DAO crashed, essentially making contributions to the public account fruitless in terms of public benefit, however, in the second round there was a successful private return through the chance-based NFT mechanism. \n",
      "\n",
      "Despite the DAO crashing, my decision to allocate more to the private account in the second round resulted in a certain return of 20.0, showing the importance of balancing individual gains and collective benefits in such scenarios.\n",
      "\n",
      "Furthermore, we can see that other participants have been steadily lowering their contributions to the public account too (average contributions going from 45.0 to 33.33), reflecting a collective shift towards safeguarding endowments from the DAO's instability.\n",
      "\n",
      "In this context, despite my risk-loving nature, it appears prudent to sway allocation in favor of the more stable private account while not fully discarding potential returns from NFT.\n",
      "\n",
      "Given the repeated DAO crashing, I'll allocate 70 to the private account to further solidify my base returns while minimizing my risk exposure. Then, I'll allocate the remaining 30 to the public account to preserve the potential for a high return if DAO doesn't crash and also the NFT return opportunity.\n",
      "\n",
      "Therefore:\n",
      "- Private Account Allocation: 70\n",
      "- Public Account Allocation: 30 \n",
      "\n",
      "It's important to recalculate risk and return balance in the dynamic conditions of this experiment. With continued DAO crashes, safe investment towards the private account appears more advisable, while still keeping an avenue for high returns through the public one via potential NFT yields open.\n",
      "\n",
      "\n",
      "Agent 1 round 3 decision\n",
      "Considering the outcomes of the previous rounds, it's clear that the DAO has consistently crashed, leading to no conversions of contributions to public goods. As such, the returns from the public account have been quite disappointing, while returns from the private account, being guaranteed, have always been realized.\n",
      "\n",
      "The one ray of hope has been the NFT return this round, which was a fortunate event. Nonetheless, while NFT did pay off this time, it remains a chance event with a 50% possibility, making it rather unreliable.\n",
      "\n",
      "The average contributions of other participants to public account have also decreased slightly, presumably due to a similar line of thinking and a greater caution because of the public account risk materializing consistently.\n",
      "\n",
      "Given this, it makes sense to continue reducing allocation to my public account and increasing the allocation in my private account. However, considering the positive return from the NFT in this round, I still want to keep alive the possibility for that gain, so I will still allocate some amount to public account.\n",
      "\n",
      "Hence for the next round, I would choose to allocate 75 to my private account and 25 to the public account. This approach allows to secure a higher proportion of sure returns while still participating in potential high-returns if the NFT pays off and the DAO doesn't crash. It mirrors the risk-loving tendencies, while being realistic about the consistent poor outcomes for the public account.\n",
      "\n",
      "\n",
      "Agent 2 round 3 decision\n",
      "Given the feedback from round two, the DAO once again crashed, but this time I was able to reap some returns from the NFT investment within the public account. This mixed result indicates some potential positive outcomes of the risk-taking initiative despite the failed DAO operation.\n",
      "\n",
      "With respect to the contributions to the public account, there has been a reduction from 185 to 140, reflecting the increasing caution from all participants including me, as a result of the initial crash. The average contribution by the other participants also dropped, from 40 to approximately 28.33. This indicates a continuing trend of caution due to the inherent risk of the public account due to the DAO operation's uncertainty.\n",
      "\n",
      "Given my demographics and risk-loving nature, I still see the potential in maintaining a reasonable contribution to the public account. The fact that I received returns through NFT this round provides an encouraging sign. However, it is noticeable that the public account failure due to DAO crash happened twice in a row. Even though these events are independent and previous outcomes do not affect the future ones, it is common for participants to be affected by recent outcomes when making decisions, a concept known as recency bias in behavioral economics. \n",
      "\n",
      "Therefore, factoring in the continuing uncertainty of the DAO, the declining trend in public account contributions, and considering my own risk-loving nature, I would propose a 55/45 split: 55 to the private account and 45 to the public account. Here, I decided to further decrease the amount allocated to the public account to reasonably respond to experienced risks, while still holding a certain level of risk-taking behavior for potentially high payoffs.\n",
      "\n",
      "\n",
      "Agent 3 round 3 decision\n",
      "Given the recent outcome, it seems like the returns from the Non-Fungible-Token (NFT) are uncertain but have the potential to be quite considerable, as in this round I did receive a return from my allocation to the public account via the NFT. This indicates that, although the public contribution made through DAO didn't yield any returns (since it crashed again), the NFT was able to generate a private return of 28.33. \n",
      "\n",
      "In the recent round, it's also noteworthy to see a reduction in the total public contributions made by all participants, including a decrease in the average contribution of the other participants from 55.0 to 41.67, probably as a result of the DAO crash in the previous round.\n",
      "\n",
      "Considering my demographic characteristics and risk-averse nature, my initial inclination would be to allocate a greater share to the private account given its sure returns. Nevertheless, considering the considerable return from the NFT in the last round, I believe it would be rational to maintain a certain level of allocation to the public account in order to not miss out on potential high returns. \n",
      "\n",
      "Given the possible high return from the NFT but also considering the risks involved (especially the instability of the DAO), a balanced approach would be pragmatic. On the other hand, taking into account the overall trend of decreasing contributions in the public account, and the fact that we have no information on any potential improvement with the DAO problems, I am inclined to shift a little away from the public account. \n",
      "\n",
      "Therefore, I would allocate:\n",
      "- 90 to the private account\n",
      "- 10 to the public account\n",
      "\n",
      "This decision is based on the clear risks and recent outcomes associated with the public account, my own risk-averse nature, as well as the uncertainty and potential of the NFT. The idea is to maintain a somewhat steady approach - keeping my investment in the private account relatively high for certain returns, while maintaining a minimal interest in the public account for potential high returns from the NFT.\n",
      "\n",
      "\n"
     ]
    }
   ],
   "source": [
    "exp.decision_round()"
   ]
  },
  {
   "cell_type": "code",
   "execution_count": 50,
   "id": "a4d2b15c",
   "metadata": {},
   "outputs": [
    {
     "name": "stdout",
     "output_type": "stream",
     "text": [
      "agent 0 received feedback\n",
      "agent 1 received feedback\n",
      "agent 2 received feedback\n",
      "agent 3 received feedback\n"
     ]
    }
   ],
   "source": [
    "privates = [70, 75, 55, 90]\n",
    "publics = [30, 25, 45, 10]\n",
    "exp.give_feedback(privates, publics)"
   ]
  },
  {
   "cell_type": "code",
   "execution_count": 51,
   "id": "64eae364",
   "metadata": {
    "collapsed": true
   },
   "outputs": [
    {
     "name": "stdout",
     "output_type": "stream",
     "text": [
      "Agent 0 round 4 decision\n",
      "In the last round, due to DAO functioning properly, benefits from the public account were realized. Although no private return was received from NFT, the public account returned a significant benefit. Also, I observed a consistent decrease in the average contribution to the public account by other participants over the rounds.\n",
      "\n",
      "Here, I need to consider a few points:\n",
      "1. The consistent crashing of DAO in the first two rounds might have been a statistical anomaly. As DAO worked in the last round, it might operate properly in subsequent rounds too.\n",
      "2. The decrease in public contributions has led to higher individual proportions of public return when DAO functions effectively, and as seen in the last round.\n",
      "3. My risk-loving nature inclines me towards investments yielding potentially higher returns. \n",
      "\n",
      "Considering these points, alongside other factors such as the randomness of NFT return, past experiences, and the strategic decisions of the participants, it feels reasonable to increase a bit my allocation towards the public account again.\n",
      "\n",
      "For this round, I'll allocate 45 to the private account, ensuring some portion of my endowment goes towards guaranteed low-risk returns, while putting up 55 for the public account. If the DAO remains stable, the reduced overall contributions from participants could potentially yield relatively higher public return. While higher public allocation slides slightly in favor of attendant risks, the expected rewards justify this slightly riskier strategy as per my risk-loving nature.\n",
      "\n",
      "So, new allocations will be:\n",
      "- Private Account Allocation: 45\n",
      "- Public Account Allocation: 55\n",
      "\n",
      "It is essential to dynamically adapt my strategy vis-à-vis these uncertain mechanisms. Increased allocation to the public account, while mindful of the risks, adds to the potential rewards in line with my risk appetite. The strategy serves to optimize the balance between my risk tolerance and the returns.\n",
      "\n",
      "\n",
      "Agent 1 round 4 decision\n",
      "Looking at the outcome of the previous round, it appears that for the first time, the DAO did not crash and contributions were effectively converted to public goods. However, the average amount that the other participants and I contribute to the public account has been on a decreasing trend across all rounds. This decrease, in conjunction with a successful DAO round, resulted in a significant return to me of 110, outweighing any individual returns I've had in the past rounds.\n",
      "\n",
      "This increased gain might be an incentive for all participants, including me, to reconsider the amount allocated to the public account in this coming round. On the other hand, the return from the NFT, which has still a probability of 0.5, did not materialize this round. But it reinforces the fact that the return in the public account is not solely dependent on the DAO functioning.\n",
      "\n",
      "Given such circumstances, I feel encouraged to increase the allocation to the public account due to the positive outcome in the third round. However, I would still keep more allocation in private because the risk (DAO crashing & NFT not paying) still exists. \n",
      "\n",
      "In the next round, therefore, I will allocate 60 to the private account, ensuring a reasonable certain return, and I will allocate 40 to the public account, taking advantage of a potential DAO success or NFT return. Despite the increased allocation to the public account, I am still maintaining a safety net through the private account investment, reflecting my risk-loving attitude within reasonable bounds.\n",
      "\n",
      "\n",
      "Agent 2 round 4 decision\n",
      "The results of the last round brought positive change since the DAO functioned properly which meant that the contributions were converted into public goods. Although I wasn't able to secure a return from the NFT, the public account enabled every participant to benefit. Despite the number of contribution into public accounts being dropped historically, the practical realization of returns this time might reincentivize participants including myself to take on the risk associated with public contributions.\n",
      "\n",
      "It is worth pointing out that while the public contributions have been decreased by the group, everyone still benefited from the functioning DAO, which demonstrates the potential value in the risk associated with the public account. But also, the average contribution of other participants is decreasing, indicating an increasing caution. This, while demonstrating understanding of inherent risks, at the same time reduces the group's potential benefits by lowering the h_public term.\n",
      "\n",
      "Seeing the functioning DAO bolster my confidence in contributing towards the public account. Additionally, considering the group behavior with reduction in public contribution, it might provide an opportunity for me to balance the reduction by contributing more towards the public account to enhance the total public return and therefore my personal return.\n",
      "\n",
      "But there's also the fact that despite the functioning DAO, the NFT return wasn't realized, showing the associated risk remains.\n",
      "\n",
      "Taking this all into account, the split I would propose for my 100 endowment would be to allocate 50 to private account and 50 to the public account. This reflects a balance between my risk-loving nature and increased confidence in the DAO, and caution stemming from the absence of NFT payouts and cautious behavior from the group. By contributing more to the public account in this round, I am hoping to take advantage of the public benefit while also playing my role in contributing towards deriving group's benefits.\n",
      "\n",
      "\n",
      "\n",
      "Agent 3 round 4 decision\n",
      "The recent round shows a significant change – despite the Decentralized Autonomous Organization (DAO) crashing in the previous two rounds, it is now successfully functioning, and contributions to the public account effectively became public goods. However, I received no return from my Non-Fungible Token (NFT), demonstrating the unpredictability in deriving value from it.\n",
      "\n",
      "At the same time, there's a trend of participants, including myself, decreasing their public account contributions. This demonstrates increasing caution from all parties involved, in all likelihood due to the previous DAO crashes. Despite the DAO functioning in this round, it doesn't necessarily guarantee that it will function flawlessly in future rounds.\n",
      "\n",
      "I'm a relatively risk-averse participant in this experiment, and considering the uncertain nature of the public account (the potential of DAO crashing and the unpredictability of the NFT), my inclination would still be to place the majority of my endowment into the private account which offers certain returns.\n",
      "\n",
      "Nonetheless, the functioning of the DAO in this round provides a glimmer of hope that it could potentially increase the return on public account contributions. Therefore, I'd still maintain an investment in the public account, albeit smaller than my private account investment, to achieve a balance between security and potentially higher returns.\n",
      "\n",
      "Therefore, taking all these factors into consideration, I would allocate:\n",
      "- 85 to the private account\n",
      "- 15 to the public account\n",
      "\n",
      "This decision aims to maintain a balance – a guaranteed security from my private investment, while also keeping doors open for potential higher returns from the public account, given the public goods generated in the last round. However, the uncertain nature of the public account still warrants a degree of caution, and thus I've decided to keep the majority of my endowment in my private account.\n",
      "\n",
      "\n",
      "\n"
     ]
    }
   ],
   "source": [
    "exp.decision_round()"
   ]
  },
  {
   "cell_type": "code",
   "execution_count": 52,
   "id": "e1301af6",
   "metadata": {},
   "outputs": [
    {
     "name": "stdout",
     "output_type": "stream",
     "text": [
      "agent 0 received feedback\n",
      "agent 1 received feedback\n",
      "agent 2 received feedback\n",
      "agent 3 received feedback\n"
     ]
    }
   ],
   "source": [
    "privates = [45, 60, 50, 85]\n",
    "publics = [55, 40, 50, 15]\n",
    "exp.give_feedback(privates, publics)"
   ]
  },
  {
   "cell_type": "code",
   "execution_count": 53,
   "id": "416aa62a",
   "metadata": {
    "collapsed": true
   },
   "outputs": [
    {
     "name": "stdout",
     "output_type": "stream",
     "text": [
      "Agent 0 round 5 decision\n",
      "Observing the returns and contributions of the last round, I see that the decision to increase my allocation to the public account paid off well. The DAO was functioning, which meant my, and all participants', contributions to the public account were effectively converted to public goods enjoyed by everyone. However, like the last round, no private return was received through the NFT.\n",
      "\n",
      "In terms of other participants, average contribution to the public account has increased from the previous round's average level of 26.67 to 35.0. This suggests a growing confidence in the public account, following two consecutive rounds of the DAO functioning as expected. \n",
      "\n",
      "Given the recent events and considering my risk-loving nature, I'm inclined to increase my contribution to the public account slightly more. However, I also have to bear in mind that the DAO could crash in the next round even if it has been stable recently. Also, repeated failure in obtaining a private return through NFT requires careful consideration.\n",
      "\n",
      "Taking everything into consideration, I will maintain some balance, while still favoring potential higher returns in the public account.\n",
      "\n",
      "I'll allocate 40 to the private account, ensuring a part of my endowment is invested in a more stable return. The remaining 60 I'll allocate to the public account keeping in mind potential higher public and NFT returns.\n",
      "\n",
      "Therefore:\n",
      "- Private Account Allocation: 40\n",
      "- Public Account Allocation: 60 \n",
      "\n",
      "This approach keeps me diversified in both low-risk and high-return possibilities while accommodating my risk-loving nature. Seeing the DAO functioning properly in two consecutive rounds and slightly increased average contribution from other participants, the risk involved in contributing to the public account appears more acceptable. Additionally, these allocations keep the possibility of NFT returns open. My decisions continue to be influenced by changes in dynamics across rounds of the experiment.\n",
      "\n",
      "\n",
      "Agent 1 round 5 decision\n",
      "In the previous round, the DAO functioned properly and successfully converted the contributions into public goods. This led to a substantial reward for the participants, including myself, as I received 140 units, surpassing all previous returns.\n",
      "\n",
      "It is also clear that the trend of the average contribution of other participants to the public account has changed from decreasing to increasing in the last round, indicating that others might also have increased their risk allocations due to the success of the DAO in the preceding round.\n",
      "\n",
      "However, the potential risk of the DAO crashing still exists. The returns from the NFT have also been elusive in the last two rounds, and this continues to be an unpredictable element with a 50-50 chance.\n",
      "\n",
      "Given this information, my risk-loving nature and the success of the previous rounds, I am inclined to contribute more to the public account. My optimism about the public accounts is balanced with a rational mindset that takes into account the fact that the NFT has not paid off in the last two rounds, and that the DAO is still at risk of crashing.\n",
      "\n",
      "Therefore, in this context, I aim to maintain the same level of allocation as the previous round. I will put 60 to the private account, ensuring a guaranteed return, and allocate the remaining 40 to the public account, increasing my odds for a high payout if the DAO continues functioning and the NFT turns out in my favor. This decision reflects the careful balance of risk-loving and prudent allocation, given the high variance in the returns of contributing to the public account.\n",
      "\n",
      "\n",
      "Agent 2 round 5 decision\n",
      "In this round, the total allocation to the public accounts rose to 160 and other participants also increased their average contribution to around 36.67. This is a substantial increase from previous rounds, most likely influenced by the DAO functioning properly in the previous round. This means more participants are willing to assume the risk for higher returns.\n",
      "\n",
      "On my end, my earnings elevated as well to 126.67, which is the highest amount yet, showing the effectiveness of giving to the public account when the DAO functions properly.\n",
      "\n",
      "However, I once again did not receive a private return through the NFT, which could imply that the chance of its success may be lower than expected or simply that luck hasn't been on my side thus far for this aspect. \n",
      "\n",
      "Given that DAO has functioned properly for two consecutive rounds, it’s easy to be drawn into assuming that it will keep functioning in future rounds. But it’s important not to fall prey to the ‘Hot-hand Fallacy’, a belief that successful outcomes will keep occurring in the future just because they occurred in the past. The outcomes are independent; the functioning of DAO in past rounds doesn’t ensure that it will keep functioning in future rounds too.\n",
      "\n",
      "Keeping my risk-loving nature in mind, the promising results from the previous rounds with the DAO and the generally increased public contributions by others leads me to believe that a higher allocation to the public account could be beneficial. \n",
      "\n",
      "In light of all these reflections, for the next round, I think I will opt for a split of 40 into my private account and 60 into the public account. By allocating a bit more to the public account, I hope to take advantage of the potential benefits from a functioning DAO and the possible NFT return, while still keeping a certain amount in my private account to guarantee a sure return.\n",
      "\n",
      "\n",
      "Agent 3 round 5 decision\n",
      "Reflecting on the outcome of the recent round, it is clear that the Decentralized Autonomous Organization (DAO) successfully converted contributions to public goods, paving the way for considerable returns despite no return from the Non-Fungible Token (NFT). The overall trend shows increased public account contributions by the other participants, indicating growing confidence in the functioning of the DAO and the value of the public goods it generates.\n",
      "\n",
      "Although I have a risk-averse nature, two consecutive rounds of the DAO correctly functioning increases my confidence in the system. This, combined with the increased contributions by others allowing for larger public goods, leads me to consider allocating a slightly larger portion to the public account in the next round. However, remembering the instability in the initial rounds and the unpredictability of the NFT, it is prudent to still allocate the majority to the private account for safe returns.\n",
      "\n",
      "Given this, and taking into account my risk-averse nature, the unpredictability of NFT return, the reliably functioning DAO and the increased contribution by others, I think a slightly increased public account contribution is warranted.\n",
      "\n",
      "Therefore, I would allocate:\n",
      "- 80 to the private account\n",
      "- 20 to the public account\n",
      "\n",
      "This decision is based on seeking a balance between the certain return of the private account and the potential high return of the public account. It allows me to maintain a degree of safety with my private account while taking advantage of the increasingly reliable DAO.\n",
      "\n",
      "\n"
     ]
    }
   ],
   "source": [
    "exp.decision_round()"
   ]
  },
  {
   "cell_type": "code",
   "execution_count": 54,
   "id": "5a52f9db",
   "metadata": {},
   "outputs": [
    {
     "name": "stdout",
     "output_type": "stream",
     "text": [
      "agent 0 received feedback\n",
      "agent 1 received feedback\n",
      "agent 2 received feedback\n",
      "agent 3 received feedback\n"
     ]
    }
   ],
   "source": [
    "privates = [40, 60, 40, 80]\n",
    "publics = [60, 40, 60, 20]\n",
    "exp.give_feedback(privates, publics)"
   ]
  },
  {
   "cell_type": "code",
   "execution_count": 55,
   "id": "defb55cb",
   "metadata": {
    "collapsed": true
   },
   "outputs": [
    {
     "data": {
      "text/plain": [
       "{'agents_demographics':    agent_id risk_preference  gender  age\n",
       " 0         0     risk_loving    male   50\n",
       " 1         1     risk_loving  female   30\n",
       " 2         2     risk_loving    male   30\n",
       " 3         3     risk_averse  female   20,\n",
       " 'agents_rounds':     agent_id  round  private  public  others_average_public  \\\n",
       " 0          0      1       50      50              45.000000   \n",
       " 1          0      2       60      40              33.333333   \n",
       " 2          0      3       70      30              26.666667   \n",
       " 3          0      4       45      55              35.000000   \n",
       " 4          0      5       40      60              40.000000   \n",
       " 5          1      1       50      50              45.000000   \n",
       " 6          1      2       70      30              36.666667   \n",
       " 7          1      3       75      25              28.333333   \n",
       " 8          1      4       60      40              40.000000   \n",
       " 9          1      5       60      40              46.666667   \n",
       " 10         2      1       35      65              40.000000   \n",
       " 11         2      2       45      55              28.333333   \n",
       " 12         2      3       55      45              21.666667   \n",
       " 13         2      4       50      50              36.666667   \n",
       " 14         2      5       40      60              40.000000   \n",
       " 15         3      1       80      20              55.000000   \n",
       " 16         3      2       85      15              41.666667   \n",
       " 17         3      3       90      10              33.333333   \n",
       " 18         3      4       85      15              48.333333   \n",
       " 19         3      5       80      20              53.333333   \n",
       " \n",
       "                                              decision  \n",
       " 0   Given the information provided, I'm inclined t...  \n",
       " 1   In this round, the public account did not prov...  \n",
       " 2   Based on the events of the previous rounds, we...  \n",
       " 3   In the last round, due to DAO functioning prop...  \n",
       " 4   Observing the returns and contributions of the...  \n",
       " 5   Given these circumstances, we will often need ...  \n",
       " 6   Given the outcome of the first round, where th...  \n",
       " 7   Considering the outcomes of the previous round...  \n",
       " 8   Looking at the outcome of the previous round, ...  \n",
       " 9   In the previous round, the DAO functioned prop...  \n",
       " 10  Given the prompt, I would consider several fac...  \n",
       " 11  Given the latest round's results, the DAO cras...  \n",
       " 12  Given the feedback from round two, the DAO onc...  \n",
       " 13  The results of the last round brought positive...  \n",
       " 14  In this round, the total allocation to the pub...  \n",
       " 15  Considering that I am a 20 year-old female wit...  \n",
       " 16  Given these recent outcomes and my previous de...  \n",
       " 17  Given the recent outcome, it seems like the re...  \n",
       " 18  The recent round shows a significant change – ...  \n",
       " 19  Reflecting on the outcome of the recent round,...  ,\n",
       " 'total_contributions':    round  total_contributions\n",
       " 0      1                  185\n",
       " 1      2                  140\n",
       " 2      3                  110\n",
       " 3      4                  160\n",
       " 4      5                  180,\n",
       " 'configs':    rounds  num_agents  endowment     r_NFT  r_public  h_public  p(s_DAO=1)  \\\n",
       " 0       5           4        100  0.333333  0.333333         1         0.5   \n",
       " \n",
       "    p(s_NFT=1)                                    group  \n",
       " 0         0.5  <function treatment1 at 0x7fa3e007a040>  }"
      ]
     },
     "execution_count": 55,
     "metadata": {},
     "output_type": "execute_result"
    }
   ],
   "source": [
    "data = extract_experiment_data(exp)\n",
    "time_stamp = datetime.now()\n",
    "group = \"treatment1\"\n",
    "pickle.dump(data, open(f\"results/{group}_{time_stamp}.pkl\", 'wb'))\n",
    "data"
   ]
  },
  {
   "cell_type": "code",
   "execution_count": 56,
   "id": "9806a742",
   "metadata": {},
   "outputs": [
    {
     "name": "stdout",
     "output_type": "stream",
     "text": [
      "agent 0 left the experiment\n",
      "agent 1 left the experiment\n",
      "agent 2 left the experiment\n",
      "agent 3 left the experiment\n"
     ]
    }
   ],
   "source": [
    "exp.end()"
   ]
  },
  {
   "cell_type": "markdown",
   "id": "8e1c0cb4",
   "metadata": {},
   "source": [
    "# Treatment2 Experiment 1"
   ]
  },
  {
   "cell_type": "code",
   "execution_count": 57,
   "id": "be7ec3b2",
   "metadata": {},
   "outputs": [],
   "source": [
    "exp = Treatment2(client, agent_key, config_T2, demographics)"
   ]
  },
  {
   "cell_type": "code",
   "execution_count": 58,
   "id": "796aeefb",
   "metadata": {},
   "outputs": [
    {
     "name": "stdout",
     "output_type": "stream",
     "text": [
      "male 60 risk_loving\n",
      "male 40 risk_loving\n",
      "male 30 risk_averse\n",
      "male 20 risk_neutral\n"
     ]
    }
   ],
   "source": [
    "for agent in exp.agents:\n",
    "    print(agent.gender, agent.age, agent.risk_preference)"
   ]
  },
  {
   "cell_type": "code",
   "execution_count": 59,
   "id": "1e80180e",
   "metadata": {},
   "outputs": [
    {
     "name": "stdout",
     "output_type": "stream",
     "text": [
      "agent 0 joined the experiment\n",
      "agent 1 joined the experiment\n",
      "agent 2 joined the experiment\n",
      "agent 3 joined the experiment\n"
     ]
    }
   ],
   "source": [
    "exp.start()"
   ]
  },
  {
   "cell_type": "code",
   "execution_count": 60,
   "id": "17f83d45",
   "metadata": {},
   "outputs": [
    {
     "name": "stdout",
     "output_type": "stream",
     "text": [
      "agent 0 received instruction\n",
      "agent 1 received instruction\n",
      "agent 2 received instruction\n",
      "agent 3 received instruction\n"
     ]
    }
   ],
   "source": [
    "exp.give_instruction()"
   ]
  },
  {
   "cell_type": "code",
   "execution_count": 61,
   "id": "ca58511d",
   "metadata": {
    "collapsed": true
   },
   "outputs": [
    {
     "name": "stdout",
     "output_type": "stream",
     "text": [
      "Agent 0 round 1 decision\n",
      "Given the scenario, there are several factors to consider in the decision-making process:\n",
      "\n",
      "1. Age and personality: At 60, I am on the verge of retirement or possibly already retired. However, I am also risk-loving to an extent. This might make me lean more towards the riskier options like investing in the public account for possible higher returns, including the likely returns from the Non-Fungible-Token (NFT).\n",
      "\n",
      "2. Game mechanics: The way returns are calculated, it is possible that contributing to the public account could yield quite substantial returns under the right circumstances. If the NFT and public returns are high, and no other players have withdrawn from the public account, then I could stand to gain quite a bit.\n",
      "\n",
      "3. Group dynamics: There are three other participants, and according to game theory, cooperation would yield the highest total gain for the group. If we all contribute equally to the public account, we would all benefit from the NFT and public returns. However, it runs the risk of one or more players betraying the rest and taking their portion only for themselves.\n",
      "\n",
      "In this first round, I am willing to be more aggressive in my investment strategy, given my risk-loving nature. Since I don't have any history or feedback of how other players have behaved, I will dedicate a larger chunk of my endowment to the public account hoping to maximize my returns. However, I will still keep some for my private account as a safety net, just in case things don't pan out as expected.\n",
      "\n",
      "Taking all these factors into account, I would allocate 70% of my resources into the public account (70) and keep 30% in the private account (30). \n",
      "\n",
      "The reason for this division is threefold: \n",
      "\n",
      "1. I am more oriented towards risk, so I would place more resources where I have the potential for higher returns.\n",
      "2. However, I also want to keep a safety net for myself, in case the public investment doesn't pan out.\n",
      "3. I want to encourage others to invest in the public account as well, by leading by example. This cooperative strategy could potentially pay off in the long run.\n",
      "\n",
      "Of course, I will reassess and adjust based on further rounds and any emerging patterns of behavior from the other participants.\n",
      "\n",
      "\n",
      "Agent 1 round 1 decision\n",
      "Knowing the variables and risks associated, I will start with a balanced approach for the first round. I am a risk-loving individual which means I am comfortable assuming more risk, and the potential for solid return on investment from the public account is enticing. Specifically, the return from r_NFT and h_public can significantly boost my earnings from the public account. However, there's also a certain risk associated with this account because the Decentralized Autonomous Organization (DAO) managing it might crash, leaving everyone with no public benefits. \n",
      "\n",
      "In addition, if r_public and h_public are 0, this would also cause r_NFT to be 0 which would significantly reduce potential returns from the public account. So, while I am typically risk-loving, I will factor these risks into my decision for this first round to get a feel for how the system operates.\n",
      "\n",
      "Therefore, for the first round, I will allocate 50% of the endowment, or 50 units, to the private account. This ensures guaranteed return on this half of the investment, contributing to my certainty in this uncertain situation.\n",
      "\n",
      "For the balanced part of my strategy, I will equally allocate the remaining 50% of the endowment, or 50 units, to the public account. Though this comes with the risk of DAO crashing, r_public, r_NFT and h_public being 0, the potential high returns from r_NFT and h_public, coupled with my risk-loving nature, provides an opportunity worth taking.\n",
      "\n",
      "As the experiment progresses, I would likely adjust my allocations based on outcomes in each round, learning from the performance of the DAO and the fluctuation of the returns from public investment, and potentially putting more into the public account if the returns and stability seem promising. For this first round, however, a balanced split seems like a reasonable starting point.\n",
      "\n",
      "\n",
      "Agent 2 round 1 decision\n",
      "Given the circumstances and the parameters of this experiment, my approach will be labelling the two accounts as lower risk (the private) and higher risk (public) accounts, considering the elements of chance involved in returns the public account offers. The rewards from the public account are highly variable, where it can potentially provide a higher return but also including a probability of no return. This characteristic makes it a higher-risk investment. On the other hand, returns from the private account are certain and any amount deposited is guaranteed to yield returns just for me, making it a lower risk investment.\n",
      "\n",
      "Being a risk-averse person, my strategy would be a conservative approach where the majority of the endowment is allocated to the private account. However, I would still invest a smaller fraction into the public account to diversify my allocations and account for the potential rewards.\n",
      "\n",
      "The DAICO-driven management introduces an additional layer of risk to the public account. However, considering mechanism of the experiment, the existence of complementary relationships between r_public and NFT returns mitigates risk to a certain extent.\n",
      "\n",
      "Based on the reward computation equation provided and the risk parameters, I will allocate 70 to my private account and 30 to the public account. My thought process is as follows:\n",
      "\n",
      "- By allocating a majority (70) to the private account, I secure those funds for myself regardless of the variables at play. This aligns with my risk-averse nature.\n",
      "- The allocation of 30 units to the public account allows for the benefits of diversification. If the DAO does not crash and if we're lucky with the probabilistic rewards, the 30 units will generate additional returns, thus enhancing my total yield.\n",
      "- Splitting the allocation in such a way provides a balance, favoring private (safer) allocation yet not completely ignoring the potential benefits of the public account.\n",
      "\n",
      "This is a conservative approach, given the higher risk associated with the public account due to its dependence on the operation of a DAO and the probabilistic nature of r_public, h_public and NFT returns.\n",
      "\n",
      "\n",
      "Agent 3 round 1 decision\n",
      "The task at hand involves weighing risk and potential returns. \n",
      "\n",
      "The variables to consider include my own risk neutrality, chance for an NFT return, the probability of the public return, and the probability of others contributing to the public account. \n",
      "\n",
      "Consider the Private Account:\n",
      "My return is going to be directly proportional to the amount I contribute to this account. If I put all 100 units of my endowment here, I can expect a return of 100 units. This assumes no risk and guarantees returns.\n",
      "\n",
      "Consider the Public Account: \n",
      "The variables r_public and h_public are linked. If one is zero, the other is zero, and vice-versa. The returns from public account are also associated with the NFT return and the probability of a r_public and h_public value of 0.5 resulting in a DAO crash. \n",
      "\n",
      "Since, the returns from both the public account and NFT returns can be 0 or 0.5 depending on the probability, contributing to public account carries more risk compared to the private account. \n",
      "\n",
      "However, if risk pays off, the potential returns are also higher from the public account. The NFT return is an additional incentive to contribute to the public account, which could potentially further boost my returns.\n",
      "\n",
      "My Risk Neutrality:\n",
      "Being somewhat risk-neutral, I am willing to take some level of risk for potential returns. But, importantly, I don’t want to risk too much. \n",
      "\n",
      "Given these considerations, my strategy will be to diversify my exposure to both risk and return. \n",
      "\n",
      "Therefore, I will split my endowment in the following way:\n",
      "\n",
      "Allocate 60 units to the private account: \n",
      "This guarantees me a certain level of return with minimal risk. \n",
      "\n",
      "And allocate 40 units to the public account: \n",
      "This provides potential for increased return, which includes gains from the public account, NFT, and a potential spill-over from others’ public account contributions. \n",
      "\n",
      "In essence, my strategy leans toward maintaining a safe minimum of returns while still aiming for higher gains.\n",
      "\n",
      "Hence, I have decided to allocate 60 units of my total endowment to the private account and the remaining 40 units to the public account. This balances the guaranteed return from the private account with potential high return (with associated risk) from the public account.\n",
      "\n",
      "\n"
     ]
    }
   ],
   "source": [
    "exp.decision_round()"
   ]
  },
  {
   "cell_type": "code",
   "execution_count": 62,
   "id": "0b2176a1",
   "metadata": {},
   "outputs": [
    {
     "name": "stdout",
     "output_type": "stream",
     "text": [
      "agent 0 received feedback\n",
      "agent 1 received feedback\n",
      "agent 2 received feedback\n",
      "agent 3 received feedback\n"
     ]
    }
   ],
   "source": [
    "privates = [30, 50, 70, 60]\n",
    "publics = [70, 50, 30, 40]\n",
    "exp.give_feedback(privates, publics)"
   ]
  },
  {
   "cell_type": "code",
   "execution_count": 63,
   "id": "6d7d34ec",
   "metadata": {
    "collapsed": true
   },
   "outputs": [
    {
     "name": "stdout",
     "output_type": "stream",
     "text": [
      "Agent 0 round 2 decision\n",
      "Looking at the results from the previous round, it seems that my decision to allocate more to the public fund has paid off quite well – I received a total of 150, which is a 50% return on my total endowment. This is due to both the functioning DAO and successful return on NFT.\n",
      "\n",
      "Also, the public contribution from other participants was 120, which is higher than what I put in. This could be interpreted as other participants being cooperative and possibly risk-loving as well, which is a good sign for future rounds.\n",
      "\n",
      "Moreover, the historical data shows a pattern of consistent contributions to the public account, with other participants contributing an average of 40 each. Considering the fact that DAO is functioning effectively and converting contributions into public goods, and that I enjoyed a good return from the NFT, I am inclined to keep contributing a good amount to the public account.\n",
      "\n",
      "However, considering the concept of diminishing returns and, observing the relative contributions of the other participants, I will adjust my allocation slightly to maintain a balance with the overall group.\n",
      "\n",
      "This time, I will allocate 60% of my resources to the public account (60) and keep 40% in the private account (40).\n",
      "\n",
      "The reasoning behind this is:\n",
      "\n",
      "1. By contributing a substantial amount to the public account, I am still chasing a high return from the public account and NFT while encouraging other participants to do the same.\n",
      "2. However, I'm also adjusting my allocation to be closer to the group average, aiming to keep a harmonious and cooperative atmosphere within the group, which will be beneficial in the long run.\n",
      "3. Additionally, by keeping a larger amount in my private account, I am hedging against any potential future risks, considering that although I am risk-loving, I shouldn't lose sight of sensible risk management.\n",
      "\n",
      "I'll again reassess this strategy based on the results of this round and the behavior of other participants in subsequent rounds.\n",
      "\n",
      "\n",
      "Agent 1 round 2 decision\n",
      "Given that the DAO successfully converted all my contributions to the public account into public goods in the first round, and I received a significant return of 190 units, this changes my strategy slightly compared to the first round. The successful functioning of the DAO indicates that the risk of it 'crashing' and generating no public benefits is low at the moment. Additionally, I was successful in obtaining a private return on contribution through NFT which is a positive sign.\n",
      "\n",
      "In the first round, the other participants contributed significantly to the public account (total of 140 from others compared to my 50), which benefits all. An important aspect to understand is the relationship between what others give to the public account and my own return. More contribution from others tends to increase the return for all participants. \n",
      "\n",
      "Given these factors, it seems the risk associated with the public account has paid off in the first round and it might be worth taking a bit more risk in the next round by allocating more to the public account.\n",
      "\n",
      "So, for this second round, I will slightly increase my allocation to the public account to try and capitalize on any potential high yields. I will now allocate 40 units to the private account and 60 units to the public account. The reason for this increased allocation to the public account is to capitalize on high potential returns from the public goods and NFT. However, I will still keep a significant amount in the private account to ensure a certain level of return, as some risk is still present in the public account and the DAO could potentially crash. This seems like the most strategic allocation given the results of the first round and my risk-loving nature.\n",
      "\n",
      "\n",
      "Agent 2 round 2 decision\n",
      "Given that the total allocation to the public account in the previous round yielded a large return of 230, and the DAO is currently functioning well, along with a successful private return through NFT, I would be encouraged to increase my allocation for the public account.\n",
      "\n",
      "However, as the person with a risk-averse nature, I would still maintain a larger allocation for the private account as there is no guarantee that the public account will yield a similar return in the next round. The allocation between the private and public accounts needs to balance the benefits of potential higher returns and the security of guaranteed returns.\n",
      "\n",
      "For the second round, I will allocate 60 to my private account and 40 to the public account. This revised allocation strategy allows me to participate in the potential high returns of the public account while still maintaining a safety net in the private account.\n",
      "\n",
      "Here are the reasons behind this decision:\n",
      "\n",
      "1. The contribution from all participants rose in the last round leading to a higher return showing that the public account has potential for high returns when collective contribution is high.\n",
      "2. The NFT paid off in the previous round which bodes well for the public account. That being said, this payout occurred by chance and may not happen every time.\n",
      "3. The DAO is currently operational and managing the public account well which is positive news. However, as this experiment progresses, the risk of DAO crashing might increase.\n",
      "4. Knowing that other participants are contributing around 53.33 on average, if all continue to contribute at the same rate, the benefit from the public account could potentially be high. However, it depends on their investment behaviors which may change over time due to individual risk attitudes and perceived outcomes.\n",
      "5. Despite the high return from the previous round, I am still somewhat cautious due to my risk-averse nature and therefore keep higher endowment in private account.\n",
      "\n",
      "By assigning 60 to the private account and 40 to the public, I am indicating a greater confidence in the public account than before, while not exposing myself to excessive risk. This allocation is also underpinned by the hope that the other participants continue to maintain their contributions to the public account.\n",
      "\n",
      "\n",
      "Agent 3 round 2 decision\n",
      "Given the feedback from the first round, there are a few key updates on the situation:\n",
      "\n",
      "1. Participants' investment in the public account resulted in significant returns as well as proven effectiveness of the DAO system, giving out public benefits.\n",
      "\n",
      "2. Other individuals are investing heavily into the public account, with an average contribution of 50 units each. This trend is likely to continue, given the positive outcome from the first round.\n",
      "\n",
      "3. I was successful in obtaining an NFT, which boosted my return from the public account investment to 210 units.\n",
      "\n",
      "Given this updated information, it shows that risk involved in my public account investment has paid off. \n",
      "\n",
      "Consider the Private Account:\n",
      "Allocating to the private account provides a stable, risk-free return. However, the total returns are strictly limited to my own investment and, in the first round, were overshadowed by potential gains from the public account.\n",
      "\n",
      "Consider the Public Account: \n",
      "The public account yields a more variable return, but the first round presented an upside potential. The public account does not only depend on my contribution but also benefits from others' contributions and the potential NFT gain.\n",
      "\n",
      "Given my moderate risk-neutrality and the current promising situation for public investment, my strategy for the second round will involve shifting some investments from the private account to the public one.\n",
      "\n",
      "Therefore, I will allocate 40 units to the private account: \n",
      "A smaller amount than before, but it guarantees a stable base return that isn't influenced by the actions of others or probabilistic gains.\n",
      "\n",
      "I will allocate 60 units to the public account: \n",
      "An increased amount due to the high returns seen in the first round. The effective operation of the DAO, the trend of high other members' contribution, and the potential extra gain from NFT make this a compelling choice despite the risk.\n",
      "\n",
      "Hence, I now decide to allocate 40 units to the private account and 60 units to the public account. In this way, I maximize my potential for profit while ensuring a base level of certain return.\n",
      "\n",
      "\n"
     ]
    }
   ],
   "source": [
    "exp.decision_round()"
   ]
  },
  {
   "cell_type": "code",
   "execution_count": 64,
   "id": "07e1ceb2",
   "metadata": {},
   "outputs": [
    {
     "name": "stdout",
     "output_type": "stream",
     "text": [
      "agent 0 received feedback\n",
      "agent 1 received feedback\n",
      "agent 2 received feedback\n",
      "agent 3 received feedback\n"
     ]
    }
   ],
   "source": [
    "privates = [40, 40, 60, 40]\n",
    "publics = [60, 60, 40, 60]\n",
    "exp.give_feedback(privates, publics)"
   ]
  },
  {
   "cell_type": "code",
   "execution_count": 65,
   "id": "9c219ef9",
   "metadata": {
    "collapsed": true
   },
   "outputs": [
    {
     "name": "stdout",
     "output_type": "stream",
     "text": [
      "Agent 0 round 3 decision\n",
      "The results from the last round again strengthened my strategy of allocating a significant portion to the public account. I received a total of 200, doubling my initial endowment. This stemmed from both the collective pot and a successful return on the NFT. Observing the increased total contributions by the group to the public account indicates a cooperative and possibly risk-seeking behavior among the other participants too.\n",
      "\n",
      "However, there are patterns emerging which I need to take into account:\n",
      "\n",
      "1. Risk-taking: I have been allocating a significant chunk to the public pot, which has paid off due to the functionality of the DAO and successful NFT returns. But I have to be careful not to let continued success make me complacent about the inherent risks involved.\n",
      "\n",
      "2. Cooperative environment: It appears that the other participants in the experiment are cooperative, as we have continued to see consistent and increasing contributions to the public account. This realization may steer my decision-making process as we continue to benefit from cooperative actions.\n",
      "\n",
      "Given that I am benefitting from the status quo, my investment strategy for this round remains similar to the previous one. I want to continue encouraging cooperation among participants through my contributions while also accounting for risks. Hence, I will maintaining a balance by dividing my endowment equally this time: 50% to the public account (50), and 50% to the private account (50).\n",
      "\n",
      "Reasoning behind this is:\n",
      "\n",
      "1. A balanced contribution means I am not overexposing my risk and it also provides stability, maintaining an approach that has so far worked.\n",
      "2. It acknowledges the cooperative nature of other participants, therefore encouraging them to continue contributing to the public account.\n",
      "3. By continuing to place money into the public account, I am continuing to play towards the aspects of the game that offer me a high return, specifically the DAO and the NFT.\n",
      "   \n",
      "I will evaluate the consequences of this allocation and may adjust my strategy based on the results of this round and the actions taken by the other participants.\n",
      "\n",
      "\n",
      "Agent 1 round 3 decision\n",
      "Given the continued success of the DAO in effectively converting contributions to public goods and my obtaining a private return through the NFT, it seems that the risk I took by moving more towards the public account in the second round has paid off. My total return has increased to 200 units, and the total contributions to the public account have also increased.\n",
      "\n",
      "I notice that other participants are also increasing their average contributions to the public account, which helps to increase the overall return for all participants - there is a clear mutual benefit in this case. As all participants are gravitating more towards public contributions and seeing returns, this might be a good strategy to continue.\n",
      "\n",
      "However, being risk-loving doesn't mean ignoring potential risks completely. The functioning of the DAO and the returns from NFT investment continue to be potential areas of risk, given their probabilistic nature. We have been lucky so far, but there's always a possibility of r_public, r_NFT and h_public turning 0, causing a significant drop in returns.\n",
      "\n",
      "With these factors in mind, for this third round, I will maintain the same allocation as the second round to balance the ongoing risk and potential returns: 40 to the private account and 60 to the public account. I believe this strikes a good balance between risk and reward, while also potentially capitalising on the increasing overall contributions to the public account by myself and other participants. This level of contribution not only secures a certain return but also provides an opportunity to benefit from the overall public contribution.\n",
      "\n",
      "\n",
      "Agent 2 round 3 decision\n",
      "Given the current data trends, the total contribution to the public accounts has increased and subsequently, my overall return has also improved. This is encouraging regarding the effectiveness of investing more into the public account whilst the DAO is functioning correctly. My favorable gain through NFT also adds to the evidence supporting a further increase in public account allocation. However, as previously mentioned, my risk-averse nature means I will always maintain a degree of caution.\n",
      "\n",
      "In this context, seeing as the current mechanisms (DAO & NFT) influencing public returns have consistently proven successful, I am motivated to slightly increase my contribution to the public account. However, my decision to put more into the public account is strategic and calculated, specifically considering that:\n",
      "\n",
      "• Observing that the other participants' average contribution has increased from around 53.33 to 60, their collective confidence in the public account also appears to be improving. This increases the total public pot and hence the return, if the DAO remains stable.\n",
      "\n",
      "• Understanding that though there may be an increasing trend, the NFT returns and DAO stability are not guaranteed and can change at any point. \n",
      "\n",
      "• Recognizing that while the public account did yield higher returns recently, it might not always be the case. Therefore, keeping a substantial amount in a private account allows for certainty in those returns, acting as a safety net.\n",
      "\n",
      "Considering these key factors, for the next round, I've decided to allocate 55 to the private account and 45 to the public account. This still maintains the majority allocation to the private account, reflecting my risk-averse nature, while increasing the public allocation to take advantage of the potential higher returns, considering that the average contribution of others and performance of public mechanisms (DAO & NFT) have been very favorable. \n",
      "\n",
      "Restating, my thought process continues to balance between the stability from the private account and the potentially higher, but riskier returns from the public account.\n",
      "\n",
      "So, the decision is: 55 to the private account, and 45 to the public account.\n",
      "\n",
      "\n",
      "Agent 3 round 3 decision\n",
      "Given the feedback from the second round, there are a few key developments:\n",
      "\n",
      "1. The effectiveness of the DAO system remains and continues to provide public benefits.\n",
      "2. The average contribution from others towards the public account has slightly increased, indicating a strong communal investment trend.\n",
      "3. Once again, my allocation to the public account paid off, as I succeeded in obtaining a return from my NFT contribution and received a total return of 200 units.\n",
      "\n",
      "These updates suggest a high potential for rewards from the public account, considering both the robust communal investment and the NFT return.\n",
      "\n",
      "Consider the Private Account:\n",
      "The private account offers a stable, albeit limited, return. Moving forward, this account primarily serves as a safety net for securing a minimum assured return.\n",
      "\n",
      "Consider the Public Account: \n",
      "The continued successful operation of the DAO and the consistent and slightly increasing communal investment to the public account demonstrates its potential for high returns. Combined with the chance for an NFT return, my allocation to the public account has so far been highly rewarding.\n",
      "\n",
      "Given my moderate risk-neutrality and continued high return from public account investment, my approach for the third round will remain similar to the second round but with a slightly higher allocation to the public account due to the emerged pattern of successful returns.\n",
      "\n",
      "Therefore,\n",
      "\n",
      "I will allocate 30 units to the private account: \n",
      "Lowering this allocation allows me to invest more in the public account while still maintaining a risk-free return.\n",
      "\n",
      "I will allocate 70 units to the public account: \n",
      "This allocation represents a significant part of my endowment due to the promising return potential, evidenced by the successful first and second rounds.\n",
      "\n",
      "To summarize, for the third round, I choose to allocate 30 units to my private account and 70 units to the public account. This decision aims to capitalize on the consistently high returns from the public account while still maintaining a safe, guaranteed return from my private account.\n",
      "\n",
      "\n"
     ]
    }
   ],
   "source": [
    "exp.decision_round()"
   ]
  },
  {
   "cell_type": "code",
   "execution_count": 66,
   "id": "c9953c56",
   "metadata": {},
   "outputs": [
    {
     "name": "stdout",
     "output_type": "stream",
     "text": [
      "agent 0 received feedback\n",
      "agent 1 received feedback\n",
      "agent 2 received feedback\n",
      "agent 3 received feedback\n"
     ]
    }
   ],
   "source": [
    "privates = [50, 40, 55, 30]\n",
    "publics = [50, 60, 45, 70]\n",
    "exp.give_feedback(privates, publics)"
   ]
  },
  {
   "cell_type": "code",
   "execution_count": 67,
   "id": "c005d565",
   "metadata": {
    "collapsed": true
   },
   "outputs": [
    {
     "name": "stdout",
     "output_type": "stream",
     "text": [
      "Agent 0 round 4 decision\n",
      "The result of the last round was a stark contrast to the previous rounds. Despite the increasing contribution from the group into the public account, the DAO has crashed and there was no private return from the NFT either. As a result, I received zero return on my endowment. While it's disappointing, it's important to remember that I am risk-loving, and this is a risk inherent in this type of game setting.\n",
      "\n",
      "It's also crucial to observe that the other participants appear to be increasing their contribution to the public account over time, indicating a collective trust in the mutual benefit that can be gleaned from the public account and the return probability of NFT and DAO functioning. In light of this, a sudden change in my strategy might disrupt the cooperative dynamic established thus far.\n",
      "\n",
      "Nonetheless, an event like this serves as a reminder not to ignore risk management. The key challenge in this scenario is to balance the continued cooperation with the group, while shielding my personal return from such negative events.\n",
      "\n",
      "Given this, I will adjust my resource allocation to provide more buffer to the private account while still displaying my cooperative intentions to keep the group dynamics stable. For this round, I will allocate 60% of my endowment to my private account (60) and the remaining 40% to the public account (40).\n",
      "\n",
      "My reasoning is:\n",
      "\n",
      "1. Allocating a larger portion to my private account provides a safety net against another DAO crash or NFT's zero return.\n",
      "2. I continue to contribute to the public account, albeit in a slightly less capacity, to maintain the cooperative dynamic with the other participants.\n",
      "3. I retain the potential for high returns by still retaining a substantial portion in the public account and participating in the NFT.\n",
      "\n",
      "This isn't a knee-jerk reaction to the last round result but a cautious adjustment that allows me to balance individual safety and group cooperation. Going forward, I'll reassess this strategy after seeing how this round plays out, specifically the group's reaction to the DAO crash, NFT return and general group contribution behaviour.\n",
      "\n",
      "\n",
      "Agent 1 round 4 decision\n",
      "This round has led to a significant loss, as the DAO crashed resulting in failure to convert the allocated contribution into public goods. Additionally, I didn't receive any private return through NFT, causing my total returns to drop to zero for this round. This validates that the public account has a greater volatility risk associated with it.\n",
      "\n",
      "However, it's crucial to understand that this is a part of the risk-return tradeoff. Higher potential return often comes with higher risks. The purpose of this kind of allocation game is to maximize utility over time, not just from a single period. Therefore, although I received no returns this round, I am not necessarily going to withdraw completely from allocating to the public account. \n",
      "\n",
      "Because of the result of this round though, I will reconsider my allocation to lower my exposure to the public account in the next round. I think I will allocate 70 to the private account and 30 to the public account.\n",
      "\n",
      "The reduction in my allocation to the public account from 60 to 30 is due to the realization of the inherent risk due to the DAO crash. However, I still opt to contribute to it because if the DAO functions correctly in the next round and if I am lucky enough to obtain the NFT return, it can still give me a substantial boost in return. \n",
      "\n",
      "On the other hand, the increase in my private account allocation from 40 to 70 is to secure a reliable return, and minimize my risk exposure in light of the last round's outcome.\n",
      "\n",
      "There's a chance that my public allocation may increase again in the future but it feels prudent to take a more cautious approach in this round given the high volatility. I am making this decision based on the historical performance, current circumstances, and the probabilistic return from each account. My risk-loving nature doesn't prevent me from reducing my risk exposure when it's shown to exceed my risk tolerance, which is the scenario in the last round.\n",
      "\n",
      "\n",
      "Agent 2 round 4 decision\n",
      "The recent round of this experiment has unfortunately turned out unfavorably. The DAO has crashed resulting in no conversion of contributions to public goods and furthermore, I received no return through NFT. As a result, the only returns I received were from the private account which thankfully I prioritized in the previous allocations.\n",
      "\n",
      "As a risk-averse individual, this outcome supports a biased allocation towards the private account. However, it's still imperative to consider allocating a smaller fraction to the public account considering the probability of the DAO becoming operational again and potentially high returns it can yield. \n",
      "\n",
      "Given the crash of the DAO, participants, assuming they act rationally, would probably reduce their contributions to the public account in the following round to protect their assets. This, in turn, decreases the overall potential return for the following round, should the DAO function smoothly again.\n",
      "\n",
      "Keeping these elements in mind, for this next round I will allocate 80 to my private account and 20 to the public account. \n",
      "\n",
      "Here are reasons for my decision:\n",
      "\n",
      "1. With the DAO crash, the potential return from NFT and the public account has drastically decreased. As a risk-averse individual, I should prioritize stable returns, thus increasing the allocation to the private account.\n",
      "2. Nonetheless, I will take a calculated risk by allocating 20 to the public account banking on the chance that the DAO will recover, resuming the provision of public goods.\n",
      "3. The historical data of contributions to the public account, and the expected drop due to the DAO crash, makes me believe that the contribution to the public account should be decreased for this round of allocation.\n",
      "   \n",
      "In conclusion, the decision is: 80 to the private account and 20 to the public account. Despite fluctuations in the public account returns, my approach continues to align with my risk-averse nature while accounting for potential returns from the public accounts should the DAO recover. Remember, the dynamics of the other contributor's behavior will significantly influence the decision-making process in subsequent rounds.\n",
      "\n",
      "\n",
      "Agent 3 round 4 decision\n",
      "Given the feedback from the third round, there are several important developments:\n",
      "\n",
      "1. The DAO experienced a crash, resulting in no conversion of contributions to public goods.\n",
      "2. Accordingly, all participants received no returns at all from public allocations.\n",
      "3. I did not succeed in gaining private return through NFT.\n",
      "\n",
      "These updates indicate a significant downturn in the promising pattern we saw in the first two rounds.\n",
      "\n",
      "Now considering both the accounts:\n",
      "\n",
      "The Private Account:\n",
      "The private account holds a unique place amidst this uncertainty--its guaranteed, risk-free return looks increasingly attractive after the sharp downturn in the public account. \n",
      "\n",
      "The Public Account: \n",
      "Previously a highly rewarding risk, the DAO crash and the consequent lack of return have put a damper on this account's potential. However, it does not eliminate the possibility of recovery in future rounds.\n",
      "\n",
      "Considering my moderate risk-neutrality, I should pull back a bit from the public account to recover, especially given that DAO suffered a crash in the last round. I will take a slightly cautious approach and divert a little more endowment to the private account while monitoring how the DAO operates in the next round.\n",
      "\n",
      "Therefore, I will split my endowment as follows:\n",
      "\n",
      "I will allocate 70 units to the private account: \n",
      "This higher allocation provides a larger guaranteed return, nurturing a cushion against a potential second round of losses.\n",
      "\n",
      "I will allocate 30 units to the public account:\n",
      "Despite the DAO crash, I choose to keep investing in hopes of a DAO recovery and because the previous rounds have shown the potential for high returns. The NFT aspect, which is inherently risky and occasional, is now a secondary consideration.\n",
      "\n",
      "Therefore, following the events of the third round, I've decided to adjust my allocations to 70 units in the private account and 30 units in the public account. This decision emphasizes safety in the face of recent losses while maintaining some level of risk in expectation of recovery.\n",
      "\n",
      "\n"
     ]
    }
   ],
   "source": [
    "exp.decision_round()"
   ]
  },
  {
   "cell_type": "code",
   "execution_count": 68,
   "id": "a350005b",
   "metadata": {},
   "outputs": [
    {
     "name": "stdout",
     "output_type": "stream",
     "text": [
      "agent 0 received feedback\n",
      "agent 1 received feedback\n",
      "agent 2 received feedback\n",
      "agent 3 received feedback\n"
     ]
    }
   ],
   "source": [
    "privates = [60, 70, 80, 70]\n",
    "publics = [40, 30, 20, 30]\n",
    "exp.give_feedback(privates, publics)"
   ]
  },
  {
   "cell_type": "code",
   "execution_count": 70,
   "id": "cad90ae1",
   "metadata": {
    "collapsed": true
   },
   "outputs": [
    {
     "name": "stdout",
     "output_type": "stream",
     "text": [
      "Agent 0 round 5 decision\n",
      "The results from the last round provide some valuable insights. After experiencing a DAO crash and no returns in the previous round, both I and the other participants lowered our contributions to the public account. Despite this, the DAO functioned this turn, leading to a decent return of 140 on my endowment, primarily due to a successful NFT return.\n",
      "\n",
      "Interestingly, the total contribution to the public account has dropped significantly to 120, with each of the other participants contributing only around 27 on average. This could indicate a reaction due to the DAO crash in the previous round. While the DAO happened to function this time, we should not ignore the fact that future crashes are possible.\n",
      "\n",
      "Therefore, it is crucial to strike a balance - contributing to the public fund for potential returns while safeguarding personal interests in the private account. Based on the last round, it seems the 60-40 distribution worked well, so I will maintain this allocation for the next round: 60 to the private account and 40 to the public account.\n",
      "\n",
      "Here's my reasoning:\n",
      "\n",
      "1. DAO revival and positive NFT return - These positive events from the last round make the public account an attractive option for investment, but I won't let the result increase my contribution drastically due to concerns over future DAO crashes.\n",
      "\n",
      "2. Reduced investment in public account by others - Despite the dip in public contributions, we still enjoyed decent returns when DAO functioned. By keeping a steady contribution, I may encourage others to increase their public investments again without risking too much if another crash happens.\n",
      "\n",
      "3. Risk management - Maintaining a majority of my endowment in the private account limits my loss potential in case of no public returns.\n",
      "\n",
      "I will be closely tracking the contribution behaviour of other participants in the next round to adjust my allocation strategy and to ensure a balance between cooperative play and individual risk management.\n",
      "\n",
      "\n",
      "Agent 1 round 5 decision\n",
      "This round's results show that my decision to allocate more funds to the private account and reducing the public allocation to manage the risk better was indeed a good decision. Despite the DAO functioning and converting contributions to public goods, my overall returns increased more because of my higher private account allocation and the private return from NFT. I received a significant return, while overall allocations to the public account (including mine) reduced drastically compared to the previous round.\n",
      "\n",
      "Given the observation, it seems other participants are also recalibrating their strategies based on the risk encountered during the third round. This is likely what led to the reduction in overall public account contributions. The average allocation by others matches my allocation to the public fund, meaning we're all responding similarly to the risk dynamics of this experiment.\n",
      "\n",
      "For the next round, considering recent events and the current risk-return scenario, I will continue with the same allocation strategy as the previous round: Allocate 70 to the private account and 30 to the public account. This strategy seemed successful in managing the risk while still providing significant returns.\n",
      "\n",
      "In this way, I'm still hedging against the risk of the DAO crashing which would render public contributions worthless. However, I am still willing to participate in the public account to a lesser extent due to possible future benefits from public goods and NFT. Moreover, it's not unexpected for risk-loving individuals like me to bounce back quickly after loss realization.\n",
      "\n",
      "Down the line, I will continue to adjust these allocations based on the performance of each account, the DAO's stability, the realization of public and NFT returns, and the strategies of the other participants.\n",
      "\n",
      "\n",
      "Agent 2 round 5 decision\n",
      "Observing that the DAO has begun functioning again and I've succeeded in obtaining a private return from the NFT is good news. With these improvements, there seems to be a renewed potential for substantial returns from the public account. The total returns from this last round were also reasonable, despite a smaller contribution made to the public account.\n",
      "\n",
      "However, the participants have clearly acted out of caution, with their overall contribution to the public account significantly decreasing. This behavior indicates changing strategies due to the unstable status of the DAO, affecting the collective return.\n",
      "\n",
      "Despite these improvements, I'm still cautious due to my risk-averse nature, the recent history of the DAO crashing and the potential for inconsistent returns from the NFT. However, given that the DAO and NFT provided a positive return in the last round and that the other participants might begin increasing their contributions again in response, I will increase my contribution to the public account slightly.\n",
      "\n",
      "I will allocate 70 to my private account and 30 to the public account for the next round:\n",
      "\n",
      "1. Allocating 70 to the private account maintains the balance favouring a safer return, providing a safety net.\n",
      "2. Allocating 30 to the public account, I show increased confidence following the positive outcome in the last round and current functioning of the DAO and NFT. However, this is still a conservative allocation, mindful of the potential risk.\n",
      "3. Despite the decreased overall contribution from the participants in the last round, I anticipate that the improved outcome in this round may motivate an increase in public contribution in the next round. Hence, a slightly increased allocation on my side might balance out or maybe even gain from a collective decision.\n",
      "\n",
      "So, the decision is: 70 to the private account, and 30 to the public account. This allocation allows me to potentially gain higher returns from the public account while ensuring a substantial part of my endowment remains safe in the private account.\n",
      "\n",
      "\n",
      "Agent 3 round 5 decision\n",
      "Given the feedback from the fourth round, several interesting points have emerged:\n",
      "\n",
      "1. The DAO has recovered from the previous crash, resulting in public goods being generated from their contributions.\n",
      "2. Other participants have considerably reduced their contribution to the public account, as shown by the average.\n",
      "3. Notwithstanding the lowered public account contributions, returns have been satisfactory at 160 units, mainly due to NFT score.\n",
      "\n",
      "Considering the above points, it shows that despite the downturn in the previous round, the DAO has potential for recovery and the public account can still give decent returns. I also notice other participants have started playing more conservatively.\n",
      "\n",
      "Given these insights, let's look at the two types of accounts:\n",
      "\n",
      "The Private Account:\n",
      "The private account is still a safe bet. By maintaining a substantial allocation here, I am coursing towards a guaranteed return.\n",
      "\n",
      "The Public Account: \n",
      "Despite the fickleness, the recovery demonstrated by the DAO shows worthiness of risk. The reduction in other participants' contribution provides an opportunity for me to take a slightly larger share of the public good benefits due to the DAO functionality.\n",
      "\n",
      "Noting my moderate risk-neutrality and the increased returns due to restored DAO functionality and NFT gains, my strategy would involve maintaining a decent allocation to the private account for steady returns while venturing a bit more into the public account to capitalize on its potential gains.\n",
      "\n",
      "Therefore, I will split my endowment as follows:\n",
      "\n",
      "I will allocate 50 units to the private account:\n",
      "This allocation still ensures a steady base of return and provides me a considerable safety net.\n",
      "\n",
      "I will allocate 50 units to the public account:\n",
      "Increasing the stake in the public account is an intentional step to leverage the recovering DAO and the potential large gains due to successfully scoring on NFT.\n",
      "\n",
      "In summary, for this round, I will allocate 50 units to the private account and 50 units to the public account. This decision is an attempt to make the most of both worlds - the guaranteed returns of the private account and the volatility-spiced returns of the public account.\n",
      "\n",
      "\n",
      "\n"
     ]
    }
   ],
   "source": [
    "exp.decision_round()"
   ]
  },
  {
   "cell_type": "code",
   "execution_count": 71,
   "id": "de39798c",
   "metadata": {},
   "outputs": [
    {
     "name": "stdout",
     "output_type": "stream",
     "text": [
      "agent 0 received feedback\n",
      "agent 1 received feedback\n",
      "agent 2 received feedback\n",
      "agent 3 received feedback\n"
     ]
    }
   ],
   "source": [
    "privates = [60, 70, 70, 50]\n",
    "publics = [40, 30, 30, 50]\n",
    "exp.give_feedback(privates, publics)"
   ]
  },
  {
   "cell_type": "code",
   "execution_count": 72,
   "id": "bb73e2ff",
   "metadata": {
    "collapsed": true
   },
   "outputs": [
    {
     "data": {
      "text/plain": [
       "{'agents_demographics':    agent_id risk_preference gender  age\n",
       " 0         0     risk_loving   male   60\n",
       " 1         1     risk_loving   male   40\n",
       " 2         2     risk_averse   male   30\n",
       " 3         3    risk_neutral   male   20,\n",
       " 'agents_rounds':     agent_id  round  private  public  others_average_public  \\\n",
       " 0          0      1       30      70              40.000000   \n",
       " 1          0      2       40      60              53.333333   \n",
       " 2          0      3       50      50              58.333333   \n",
       " 3          0      4       60      40              26.666667   \n",
       " 4          0      5       60      40              36.666667   \n",
       " 5          1      1       50      50              46.666667   \n",
       " 6          1      2       40      60              53.333333   \n",
       " 7          1      3       40      60              55.000000   \n",
       " 8          1      4       70      30              30.000000   \n",
       " 9          1      5       70      30              40.000000   \n",
       " 10         2      1       70      30              53.333333   \n",
       " 11         2      2       60      40              60.000000   \n",
       " 12         2      3       55      45              60.000000   \n",
       " 13         2      4       80      20              33.333333   \n",
       " 14         2      5       70      30              40.000000   \n",
       " 15         3      1       60      40              50.000000   \n",
       " 16         3      2       40      60              53.333333   \n",
       " 17         3      3       30      70              51.666667   \n",
       " 18         3      4       70      30              30.000000   \n",
       " 19         3      5       50      50              33.333333   \n",
       " \n",
       "                                              decision  \n",
       " 0   Given the scenario, there are several factors ...  \n",
       " 1   Looking at the results from the previous round...  \n",
       " 2   The results from the last round again strength...  \n",
       " 3   The result of the last round was a stark contr...  \n",
       " 4   The results from the last round provide some v...  \n",
       " 5   Knowing the variables and risks associated, I ...  \n",
       " 6   Given that the DAO successfully converted all ...  \n",
       " 7   Given the continued success of the DAO in effe...  \n",
       " 8   This round has led to a significant loss, as t...  \n",
       " 9   This round's results show that my decision to ...  \n",
       " 10  Given the circumstances and the parameters of ...  \n",
       " 11  Given that the total allocation to the public ...  \n",
       " 12  Given the current data trends, the total contr...  \n",
       " 13  The recent round of this experiment has unfort...  \n",
       " 14  Observing that the DAO has begun functioning a...  \n",
       " 15  The task at hand involves weighing risk and po...  \n",
       " 16  Given the feedback from the first round, there...  \n",
       " 17  Given the feedback from the second round, ther...  \n",
       " 18  Given the feedback from the third round, there...  \n",
       " 19  Given the feedback from the fourth round, seve...  ,\n",
       " 'total_contributions':    round  total_contributions\n",
       " 0      1                  190\n",
       " 1      2                  220\n",
       " 2      3                  225\n",
       " 3      4                  120\n",
       " 4      5                  150,\n",
       " 'configs':    rounds  num_agents  endowment  r_NFT  r_public  h_public  p(s_DAO=1)  \\\n",
       " 0       5           4        100    0.5       0.5         1         0.5   \n",
       " \n",
       "    p(s_NFT=1)                                    group  \n",
       " 0         0.5  <function treatment2 at 0x7fa3e007a0d0>  }"
      ]
     },
     "execution_count": 72,
     "metadata": {},
     "output_type": "execute_result"
    }
   ],
   "source": [
    "data = extract_experiment_data(exp)\n",
    "time_stamp = datetime.now()\n",
    "group = \"treatment2\"\n",
    "pickle.dump(data, open(f\"results/{group}_{time_stamp}.pkl\", 'wb'))\n",
    "data"
   ]
  },
  {
   "cell_type": "code",
   "execution_count": 73,
   "id": "661c28eb",
   "metadata": {},
   "outputs": [
    {
     "name": "stdout",
     "output_type": "stream",
     "text": [
      "agent 0 left the experiment\n",
      "agent 1 left the experiment\n",
      "agent 2 left the experiment\n",
      "agent 3 left the experiment\n"
     ]
    }
   ],
   "source": [
    "exp.end()"
   ]
  },
  {
   "cell_type": "markdown",
   "id": "f421a9be",
   "metadata": {},
   "source": [
    "# Treatment3 Experiment 1"
   ]
  },
  {
   "cell_type": "code",
   "execution_count": 80,
   "id": "10479012",
   "metadata": {},
   "outputs": [],
   "source": [
    "exp = Treatment3(client, agent_key, config_T3, demographics)"
   ]
  },
  {
   "cell_type": "code",
   "execution_count": 81,
   "id": "40900833",
   "metadata": {},
   "outputs": [
    {
     "name": "stdout",
     "output_type": "stream",
     "text": [
      "male 30 risk_averse\n",
      "male 30 risk_loving\n",
      "male 30 risk_loving\n",
      "female 40 risk_loving\n"
     ]
    }
   ],
   "source": [
    "for agent in exp.agents:\n",
    "    print(agent.gender, agent.age, agent.risk_preference)"
   ]
  },
  {
   "cell_type": "code",
   "execution_count": 82,
   "id": "51af2dde",
   "metadata": {},
   "outputs": [
    {
     "name": "stdout",
     "output_type": "stream",
     "text": [
      "agent 0 joined the experiment\n",
      "agent 1 joined the experiment\n",
      "agent 2 joined the experiment\n",
      "agent 3 joined the experiment\n"
     ]
    }
   ],
   "source": [
    "exp.start()"
   ]
  },
  {
   "cell_type": "code",
   "execution_count": 83,
   "id": "3e85518c",
   "metadata": {},
   "outputs": [
    {
     "name": "stdout",
     "output_type": "stream",
     "text": [
      "agent 0 received instruction\n",
      "agent 1 received instruction\n",
      "agent 2 received instruction\n",
      "agent 3 received instruction\n"
     ]
    }
   ],
   "source": [
    "exp.give_instruction()"
   ]
  },
  {
   "cell_type": "code",
   "execution_count": 84,
   "id": "297bca7b",
   "metadata": {
    "collapsed": true
   },
   "outputs": [
    {
     "name": "stdout",
     "output_type": "stream",
     "text": [
      "Agent 0 round 1 decision\n",
      "Given the complexity of the situation and my risk-averse nature, I am inclining towards a conservative approach. \n",
      "\n",
      "Let's evaluate the risks and returns. \n",
      "\n",
      "1. Private account: Returns here are certain and carry no risk. What I contribute here, I will get only that.\n",
      "\n",
      "2. Public Account: Returns here are uncertain and the return on the contribution is contingent on multiple interlinked variables. It depends on r_NFT, r_public, and h_public, all of these variables have an equal probability of being either 0 or having a positive value. Therefore, the risk associated with the public account is significantly higher. \n",
      "\n",
      "However, the interconnected nature of these variables slightly mitigates this risk. If either r_NFT or (r_public & h_public) have a positive value, this increases the probability of the other also being positive, since a redraw happens if one is zero and the other is positive. However, in the case that r_public and h_public are redrawn as 0, this eliminates any potential return from the NFT as r_NFT then becomes 0.\n",
      "\n",
      "Given the somewhat risk-averse nature of my profile and the unpredictable nature of returns associated with the public account, I would choose to allocate more to my private account.\n",
      "\n",
      "Let's split the allocation between these two accounts in a 70-30 fashion. It's a conservative strategy, maintaining a large portion in the secure private account while keeping some investment in the riskier but potentially higher return public account.\n",
      "\n",
      "Hence, I would allocate 70 to the private account and 30 to the public account.\n",
      "\n",
      "I consider this a balanced approach given the risk profile, as it offers potential upside while still providing a significant safety net. With the risk that the DAO might crash, making these contributions a total loss, a modest contribution seems a better approach. Making some contribution also allows me to possibly take advantage of the potential upside connected with r_NFT, r_public, and h_public.\n",
      "\n",
      "\n",
      "Agent 1 round 1 decision\n",
      "Given the fact that the public account has a risk of crashing and generating no public benefits, and the fact that I am generally risk-loving by nature, it's reasonable to allocate a larger share of my endowment to the private account. However, the public account offers returns from an NFT and potentially a higher return if both r_public and h_public are nonzero. \n",
      "\n",
      "Let's break down the potential outcomes and their probabilities:\n",
      "\n",
      "- Scenario 1: r_public = 0.4, h_public = 0.8, r_NFT = 0.5. This is the best-case scenario with a collective probability of 0.125 (0.5 * 0.5 * 0.5). \n",
      "- Scenario 2: One of r_public = 0.4, h_public = 0.8, r_NFT = 0.5 is zero and the others are positive. This also has a high return, albeit lower than Scenario 1. The collective probability would depend on the redraw rules.\n",
      "- Scenario 3: r_public = h_public = 0. While initially r_NFT could be either 0.5 or 0, this scenario leads to a compulsory r_NFT = 0. This is the worst-case scenario and has a collective probability of 0.125 (0.5 * 0.5 * 0.5).\n",
      "\n",
      "If we consider these probabilities and my risk-loving nature, I will account for the high variation of returns possible from the public account. Given the detailed settings, I feel that a 60-40 allocation between private and public account strikes a reasonable balance. \n",
      "\n",
      "If we take into consideration that at least one positive return from public account will cause a redraw of a zero return, this effectively increases the chances of higher returns from public account. Considering this, I may want to risk slightly more in the public account, as it could potentially yield far better results in the long run. I decide to allocate 50 to the private account and 50 to the public account. \n",
      "\n",
      "This allocation is a middle-ground approach. While I'm taking a risk on the public account, I’m also ensuring a definite return from my private account, without going all in on a single strategy. If the public account yields high returns, I stand to benefit. If not, I still have a guaranteed return from my private allocation.\n",
      "\n",
      "\n",
      "Agent 2 round 1 decision\n",
      "Given the rules of the experiment, it's clear that there is an element of risk and unpredictability involved in the decision on how to allocate my endowment. But because I am described as being risk-loving, I would lean more heavily toward the riskier option among the two, i.e., the public account, as it potentially provides a higher return. \n",
      "\n",
      "The private account guarantees a certain return to me which simply corresponds to the amount endowed to it, while the public account provides a return that is dependent on several factors. There's a possibility that it could yield no returns at all if the DAO crashes or neither the NFT and h_public factors come into play (both being zero). On the other hand, if the NFT or (r_public, h_public) are positive, that enhances the possibility of the other being positive as well, thus potentially yielding higher returns.\n",
      "\n",
      "Given the rules of experiment, an important point to keep in mind is the correlation between r_public, h_public, and r_NFT. If either r_NFT or r_public & h_public is positive, it increases the chance of the other being positive as well. Based on this logic, by allocating more funds into the public account, I enhance the chance of obtaining a positive return from both NFT and the public account, especially considering the redraw mechanism.\n",
      "\n",
      "Now, coming to the actual allocation decision, because of my risk-loving nature, I would allocate more toward the public account keeping a balance to avoid complete loss in the worst scenario. So, I would split the 100 units of endowment in a 30-70 proportion, allocating 30 to the private account and 70 to the public account. This is based on the potential for higher returns from the public account because of the possible benefits from NFT and h_public, with the private account serving as a relatively safer fallback with equal investment. \n",
      "\n",
      "It's a risk I am willing to take based on my personality and the understanding of the rules of the experiment. Allocating more towards the public account also has the benefit of larger public good and promotes co-operation.\n",
      "\n",
      "\n",
      "Agent 3 round 1 decision\n",
      "Given that I am somewhat risk-loving and trust that my investments in both the private and public accounts will provide returns, I want to balance my portfolio by investing in both accounts. Though there is a slight risk associated with the public account due to the instability of the DAO and the randomness of NFT profits, I believe that taking this risk may yield better returns because of the mechanisms in place that allow for the possibility of high returns when NFTs or (r_public and h_public) are positive. \n",
      "\n",
      "Now, understanding my characteristics, and considering the associated risks and possible returns, I will allocate 50 to the private account (50% of my endowment). This decision is geared by my personal risk tolerance and the secure return it offers, along with the ability to control my investment without the involvement of other factors. \n",
      "\n",
      "I will then allocate the remaining 50 (50% of my endowment) to the public account, open to the risk that the DAO might crash or that the NFT may provide no returns, but also considering the fact that if either r_NFT or r_public is positive, then the chance of the other being positive increases as well. Therefore, if I hit the 50% chance that the NFT generates a return or the public account generates a benefit, I also increase my chances of getting a return on the other. More so, considering that a return from the public account also generates a certain benefit to everyone, I'm also incentivized to boost everyone's potential return, which would ultimately boost mine.\n",
      "\n",
      "In summary, I have allocated 50 to the private account and 50 to the public account. This balance allows me to maintain a stable return through my private account while trying to maximize potential benefits through my public account investment.\n",
      "\n",
      "\n"
     ]
    }
   ],
   "source": [
    "exp.decision_round()"
   ]
  },
  {
   "cell_type": "code",
   "execution_count": 85,
   "id": "576115a8",
   "metadata": {},
   "outputs": [
    {
     "name": "stdout",
     "output_type": "stream",
     "text": [
      "agent 0 received feedback\n",
      "agent 1 received feedback\n",
      "agent 2 received feedback\n",
      "agent 3 received feedback\n"
     ]
    }
   ],
   "source": [
    "privates = [70, 50, 30, 50]\n",
    "publics = [30, 50, 70, 50]\n",
    "exp.give_feedback(privates, publics)"
   ]
  },
  {
   "cell_type": "code",
   "execution_count": 86,
   "id": "fc3c2b62",
   "metadata": {
    "collapsed": true
   },
   "outputs": [
    {
     "name": "stdout",
     "output_type": "stream",
     "text": [
      "Agent 0 round 2 decision\n",
      "Given the return of 199.0 from my previous round's allocation, it appears that having some investment in the public account proved beneficial. This return indicates that both r_NFT and r_public provided a positive return. \n",
      "\n",
      "Given the uncertainty of these returns repeating, I will still maintain a degree of caution. However, I can consider increasing my allocation to the public account somewhat due to the previous success.\n",
      "\n",
      "Additionally, considering the other participant's behaviors, they all seem more inclined to invest in the public account, with the average contribution being approximately 57 compared to my 30. They must be considering the potentially high returns from r_NFT, r_public, and h_public in the public account.\n",
      "\n",
      "However, we must consider that these returns are probabilistically determined and can also result in a total loss. As such, it's important to not overcommit based on a single positive return in the previous round.\n",
      "\n",
      "Given all the above considerations, I will opt to increase my allocation to the public account based on the success of the previous round, but will still keep the majority of my endowment in the private account due to the uncertainty of returns. \n",
      "\n",
      "Let's shift the allocation slightly to a 60-40 breakdown. This allows for increased exposure to potential returns from the public account, while ensuring a safety net through the private account. \n",
      "\n",
      "Therefore, I would allocate 60 to my private account and 40 to my public account. This increase in my public account contribution also more closely aligns with the average contribution of my peers, demonstrating a generally accepted strategy among the participants.\n",
      "\n",
      "\n",
      "Agent 1 round 2 decision\n",
      "This new round brought quite a positive outcome. First, the DAO functioned correctly, meaning my public contributions were converted into public goods and provided a beneficial return. Second, I received a private return through the NFT, which means the public account is still a good choice for possible additional returns. That being said, the total contributions by all participants including me was 200. Other participants contributed more (150) to the public account than I did.\n",
      "\n",
      "While my initial strategy of splitting allocations 50-50 worked out well in the previous round, considering the high level of contribution of others to the public account, I may adjust my strategy a bit. This is due to the fact that benefit from public account not only relies on my contribution but also others'. If others keep contributing at a high level, I can safely reduce my contribution while still reaping the benefits. This allows me to take less risk, while potentially keeping my rewards high.\n",
      "\n",
      "However, the other participants could also potentially change their strategy, reducing their public account contributions. In order to keep a balance and considering my risk-loving nature, I decide to stick with a similar strategy but adjust it slightly to account for the new data. Specifically, I will now allocate 60 to the private account and 40 to the public account.\n",
      "\n",
      "This way, I still have a significant stake in the public account which proved beneficial in the last round and increased my private investment which gives me a certain return. However, by reducing my public account contribution I somewhat hedge my bets in case of a bad public return in the next round or a change in other participants' contributions. Even so, the allocation still reflects my risk-loving nature by putting a sizable chunk into the risky public account.\n",
      "\n",
      "\n",
      "\n",
      "Agent 2 round 2 decision\n",
      "Having seen the results of the first allocation, we can analyze and make adjustments for our next allocation among private and public accounts.\n",
      "\n",
      "The successful DAO contributions and the yield of a NFT return all point towards a favorable environment for public account investment. The average contribution from other participants, 43.33, is lower than my previous allocation of 70 which possibly enhanced my chances of getting a return from NFT as higher contribution might have raised the chance of obtaining a return from NFT. This seems to suggest that I've made a good choice with my initial higher-risk approach.\n",
      "\n",
      "In the current round of allocation, there seems to be no need for drastic changes to my approach. Considering the initialized environment and the influential correlation between r_public, h_public, and r_NFT, I would still continue to lean toward a majority allocation to the public account. \n",
      "\n",
      "However, observing that other participants are contributing slightly lower amounts to the public account, I must also be cautious. If the public contribution continues to lower in the future, the risk may begin to outweigh the return. With such a possibility, a decrease in my public contribution by a small margin is reasonable. \n",
      "\n",
      "While I am risk-loving, I should also observe the trend and adjust my strategy accordingly, hence I will reduce my public contribution slightly to reflect this. I would allocate 35 units to the private account (a marginal increase from before) and 65 units to the public account. \n",
      "\n",
      "This reduction in public account endowment allows me to hedge against potential changes in the behavior of other participants and the functioning of the DAO, while still benefiting from the higher potential return from the public account. Ensuring I maintain a reasonable allocation to the private account provides a guaranteed return that could cushion any unexpected outcomes in the public account.\n",
      "\n",
      "\n",
      "Agent 3 round 2 decision\n",
      "Given the information that I earned significant return of 165 in the first round and that the DAO is functioning properly, my confidence in investing in the public pot has increased. Also, observing that all participants bundled together contributed a total of 200 to the public accounts bolsters my belief that others are also understanding the potential benefits of investing in the public account.\n",
      "\n",
      "Realizing that investing in the public account also led to a significant private return through NFT, it confirms my initial deduction that if either of the r_public or the r_NFT is positive, there is a higher likelihood that the other will also be positive. \n",
      "\n",
      "However, being somewhat risk-loving does not mean ignoring the private account completely. As observed, investing in the private account also provides a steady return, and I want to maintain balancing my portfolio between both risks and secure returns, so I will continue to invest a portion of my endowment in the private account.\n",
      "\n",
      "Taking all of these factors into consideration, I plan to allocate 40 to the private account. This 40% allocation is a slight decrease from my first-round decision, but given the positive outcome with the public investments, I believe it's wise to leverage that trend.\n",
      "\n",
      "I will allocate the remaining 60 to the public account. This is a 10% increase from my first-round decision. This decision reflects my increased confidence in the public allocation, given the functioning of the DAO and significant return from NFT.\n",
      "\n",
      "In summary, I have allocated 40 to the private account and 60 to the public account for the second round, looking to capitalize on the beneficial trends while still maintaining a solid private investment.\n",
      "\n",
      "\n"
     ]
    }
   ],
   "source": [
    "exp.decision_round()"
   ]
  },
  {
   "cell_type": "code",
   "execution_count": 87,
   "id": "9c3358a7",
   "metadata": {},
   "outputs": [
    {
     "name": "stdout",
     "output_type": "stream",
     "text": [
      "agent 0 received feedback\n",
      "agent 1 received feedback\n",
      "agent 2 received feedback\n",
      "agent 3 received feedback\n"
     ]
    }
   ],
   "source": [
    "privates = [60, 60, 35, 40]\n",
    "publics = [40, 40, 65, 60]\n",
    "exp.give_feedback(privates, publics)"
   ]
  },
  {
   "cell_type": "code",
   "execution_count": 88,
   "id": "80a7a688",
   "metadata": {
    "collapsed": true
   },
   "outputs": [
    {
     "name": "stdout",
     "output_type": "stream",
     "text": [
      "Agent 0 round 3 decision\n",
      "The return from my previous round's allocation was 186.0, which is slightly lower than the previous round but still notably profitable. This indicates that the higher investment in the public account was still beneficial. I can confidently say that the mixed strategy is working effectively.\n",
      "\n",
      "However, there's an observable decline in the contributions to the public accounts by all participants, including myself, which might indicate less confidence or increased risk averseness among participants. Hence, it would be an appropriate strategy to still keep a safety net in the private account while trying to gain some profit from the public goods.\n",
      "\n",
      "Given that both r_NFT, r_public, and h_public have provided positive returns in previous iterations, there's an affirmation of gain from public accounts. Worthy to note that DAO is still functioning effectively and managing contribution into public goods, we are all gaining benefits from it.\n",
      "\n",
      "On the other hand, maintaining too high an investment in the public account can still potentially lead to losses if the positive returns do not persist or if the DAO crashes. Therefore, a balance is still important. Notably, the average level of other individual's contribution to public account is slightly decreasing, which also signals a need for a more cautious approach.\n",
      "\n",
      "Considering all these factors, I would maintain my allocation distribution as in the previous round. Hence, I would allocate 60 to my private account and 40 to my public account. \n",
      "\n",
      "This decision reflects a comfortable balance of potential gain and minimal loss considering the probabilistic nature of returns, as well as efficient management of the DAO for now. It is a balance of exposure to the potential high returns in the public account, while still ensuring a large proportion of the endowment is secured in the private account.\n",
      "\n",
      "\n",
      "Agent 1 round 3 decision\n",
      "It seems that the results continue to be positive with the DAO functioning effectively, the public account continuing to provide a good return, and I have again been successful in obtaining a private return through an NFT. Importantly, the other participants continue to increase their contributions to the public account, with the historical contributions now averaging at 55.0 from other participants.\n",
      "\n",
      "Given these outcomes, it seems my recent strategy - allocating 60% to my private account and 40% to the public account - proved beneficial. The successful operation of the DAO and the raised contributions from others suggest that lower but maintained contributions to the public account could continue to yield favourable results, while placing more in the private account steadily increases my guaranteed returns.\n",
      "\n",
      "Taking all this into consideration, I will continue with my current allocation strategy. I will allocate 60 to my private account and 40 to the public account. This decision is rooted in the consistent gain from both sectors in the last rounds, the rise in public contributions from others, and my risk-loving nature to gain potentially high returns from the public account. Therefore, by keeping my distribution constant, I ensure certain returns, while still playing my part in public investment, hoping for another round of high return.\n",
      "\n",
      "\n",
      "Agent 2 round 3 decision\n",
      "The circumstances after the second allocation round still seem favorable, leading to an even higher return on my endowment. Other participants have responded in a similar way and increased their contributions to the public account, which is a good sign as it indicates collective participation in public good, increasing the overall return as well.\n",
      "\n",
      "Observing that the DAO is still functioning well and the fact that I was able to succeed in obtaining a private return contribution from NFT for a second time, there's a reaffirmed assurance in the riskier public account strategy. Further, an increase in public contribution from the other participants suggests the positive trend and trust in the DAO's functionality.\n",
      "\n",
      "But, at the same time, as a rational participant it's crucial to recognize that there may be higher risk associated with increased dependency on the public account - due to the unpredictable nature of the DAO and NFT returns. \n",
      "\n",
      "For the next allocation, I will continue my prior trend of reducing my public account contributions by a small margin, and increase my allocation to the private account correspondingly. As a risk-loving person, I will still invest significantly in the public account because of its high return potential. \n",
      "\n",
      "I plan to allocate 40 units to the private account and 60 units to the public account. This is still a risk-loving approach, as I'm contributing more than half of my endowment to the public account, but by increasing allocations to my private account slightly, I balance my risk better. My strategy remains contributive towards the social good while keeping my overall risk in mind.\n",
      "\n",
      "\n",
      "Agent 3 round 3 decision\n",
      "Based on the most recent results, it is confirmed that my decision to increase the allocation to the public account was beneficial. The DAO is still functional and continues to convert contributions into public goods effectively. I also succeeded in obtaining additional private return through the NFT, further increasing the overall return on my investment.\n",
      "\n",
      "From the historical data, it appears that the average contribution of others to the public account has decreased slightly compared to the previous rounds. This might indicate that other participants are adjusting their strategy after considering the public investment’s risk-return dynamic.\n",
      "\n",
      "Given all the information, the continuation of the DAO stability, and my previous returns from both the private returns and NFTs, I will again increase my investment in the public account. This is based on my profile as a somewhat risk-loving person, the beneficial return from the NFTs, and the desire to continue sharing in the public goods from this public investment.\n",
      "\n",
      "Considering all these facts, I will adjust the allocation to contribute 35 to the private account (35% of my total endowment). Reducing my allocation to the private account is based on the understanding of the secure returns from the private account, and looking forward to riding the more volatile public account, which has been paying off positively so far.\n",
      "\n",
      "I will invest the other 65 (65% of my total endowment) in the public account. This is a slightly increased allocation compared to the last round, aiming to take advantage of the good return from the public account and NFT, and to further contribute to the common pot which has proven beneficial.\n",
      "\n",
      "In summary, my strategy for the next round is to allocate 35 to the private account and 65 to the public account, thereby further capitalizing on the positive returns from the public account while maintaining a steadier investment in the private account.\n",
      "\n",
      "\n"
     ]
    }
   ],
   "source": [
    "exp.decision_round()"
   ]
  },
  {
   "cell_type": "code",
   "execution_count": 89,
   "id": "76f5b585",
   "metadata": {},
   "outputs": [
    {
     "name": "stdout",
     "output_type": "stream",
     "text": [
      "agent 0 received feedback\n",
      "agent 1 received feedback\n",
      "agent 2 received feedback\n",
      "agent 3 received feedback\n"
     ]
    }
   ],
   "source": [
    "privates = [60, 60, 40, 35]\n",
    "publics = [40, 40, 60, 65]\n",
    "exp.give_feedback(privates, publics)"
   ]
  },
  {
   "cell_type": "code",
   "execution_count": 90,
   "id": "9a9cbdfc",
   "metadata": {
    "collapsed": true
   },
   "outputs": [
    {
     "name": "stdout",
     "output_type": "stream",
     "text": [
      "Agent 0 round 4 decision\n",
      "In the last round, the worst-case scenario has materialized - the DAO has crashed, and there were no returns from the NTF. Consequently, the whole investment in the public account has been lost. This is a key risk when investing in such accounts. \n",
      "\n",
      "As a risk-averse individual, this situation would prompt me to reassess my allocation strategy considering the crash could happen again. Also, the fact that I didn't receive any return from the NTF contributes to my decision to be more conservative in the next round. Although the potential returns could be significant from the public account, the uncertainty and risk have now become even more apparent.\n",
      "\n",
      "Taking that into account, I would opt to lower my allocation to the public account and shift the majority of the endowment into the private account. \n",
      "\n",
      "Given these conditions, I will return to a conservative allocation strategy of 70% to the private account and 30% to the public account. \n",
      "\n",
      "So, I would allocate 70 to my private account and 30 to my public account. \n",
      "\n",
      "This decision is driven by the realization and experience of the loss in a riskier environment in the previous round. As a risk-averse individual, it is essential to balance the potential reward versus the risk. Despite the decline in potential earnings, security takes precedence.\n",
      "\n",
      "\n",
      "Agent 1 round 4 decision\n",
      "This round was unsuccessful as the DAO crashed, failing to provide any public or private return. This outcome is a classic example of the risk associated with the public account. The impact has been severe as I received nothing, despite my 40% contribution to the public account.\n",
      "\n",
      "Considering this outcome and that the DAO may or may not function in the next round, it's sensible to adjust my strategy to reduce potential losses. Even though there's a risk of missing out on a potentially successful round, it's important to mitigate the impact of a failed round given the possible severe consequences. Therefore, I choose to minimize my contribution to the public account significantly and put more into the private account which always provides a certain return.\n",
      "\n",
      "Still, considering my risk-loving nature, contribution from others, and the possibility of the DAO recovering, I choose not to eliminate my contribution to the public account entirely. Thus, following this thought process, I decide to allocate 90 to the private account and 10 to the public account.\n",
      "\n",
      "This approach is designed to secure more certain returns by increasing my contribution to the private account, mitigating the overall risk I'm facing due to the uncertainty of the public account return, but not completely giving up on potential public account benefits, aligning with my risk-loving nature. \n",
      "\n",
      "\n",
      "\n",
      "Agent 2 round 4 decision\n",
      "The latest round of allocation has resulted in a significant negative outcome with a total return of 0. The DAO crashing and the NFT return failure illustrate the inherent risk that comes with investments in the public account.\n",
      "\n",
      "In light of this outcome, it is necessary to adjust my strategy for the next allocation decision. Even though I am characterized as risk-loving, it is important to balance this with a prudent strategy that takes recent outcomes into account. Despite the high-risk nature of the public account, the recent loss forms a critical part of my decision-making process.\n",
      "\n",
      "The failure of the DAO significantly impacts the return from the public account, and the probability of such an event occurring again is unknown. While the NFT outcome is also uncertain, its correlation with the returns from the public account is notable, and the failure of both in the last round reemphasizes the risk factor in my strategy.\n",
      "\n",
      "Given this, I would deem it wise to allocate a larger proportion of the endowment to the private account in the next round to secure a certain return and offset some element of risk. \n",
      "\n",
      "Considering the above factors, I would decide to allocate 60 units to the private account and 40 units to the public account in the next round. This decision considerably reduces the risk and guarantees some return from my allocation while still allowing a reasonable investment in the public account to capitalize on potential high returns if the DAO and NFT function favorably in this round. This shift in my allocation strategy shows a reaction to recent adverse results while still showing a degree of risk appetite consistent with my demographics.\n",
      "\n",
      "\n",
      "Agent 3 round 4 decision\n",
      "Given the new results, my risk-taking did not pay off in the last round. I received 0.0 due to the crash of the DAO, which reflects the inherent risks in public investments and especially high-risk mechanisms like NFTs and decentralized autonomous organizations. \n",
      "\n",
      "The average contribution of other participants to the public account keeps decreasing slightly for each round, indicating a possible trend towards reduced confidence in the public investment. \n",
      "\n",
      "Despite the losses, as I am relatively risk-loving, I will continue to make a sizable investment in the public account considering its potential high returns when functional. However, taking into account the DAO crash, I will reduce my allocation to the public account a little bit for risk management.\n",
      "\n",
      "For this round, I decide to allocate 50 to the private account, making up for half of my total endowment. This investment is intended to provide a certain amount of return, and serve as a more reliable and less volatile stocking in the experiment.\n",
      "\n",
      "As for the public account, despite the risk revealed in the last round, I believe that it might bounce back. So, I would allocate another 50 to the public account, which is less than my previous investment. This is done with the intention of still being able to reap the benefits if the public good and NFT returns rebound, while also cushioning my resources from another potential crash.\n",
      "\n",
      "In summary, my allocation for the next round would be a 50-50 split between the private account and the public account, striking a balance between a steady.\n",
      "\n",
      "\n"
     ]
    }
   ],
   "source": [
    "exp.decision_round()"
   ]
  },
  {
   "cell_type": "code",
   "execution_count": 91,
   "id": "25d77761",
   "metadata": {},
   "outputs": [
    {
     "name": "stdout",
     "output_type": "stream",
     "text": [
      "agent 0 received feedback\n",
      "agent 1 received feedback\n",
      "agent 2 received feedback\n",
      "agent 3 received feedback\n"
     ]
    }
   ],
   "source": [
    "privates = [70, 90, 60, 50]\n",
    "publics = [30, 10, 40, 50]\n",
    "exp.give_feedback(privates, publics)"
   ]
  },
  {
   "cell_type": "code",
   "execution_count": 92,
   "id": "d4bddaeb",
   "metadata": {
    "collapsed": true
   },
   "outputs": [
    {
     "name": "stdout",
     "output_type": "stream",
     "text": [
      "Agent 0 round 5 decision\n",
      "The last round concluded positively - despite the DAO crashing in the previous round, it functioned well this time, and I even received a return from the NFTs. This dynamic nature of returns is exactly what makes this decision process challenging and impactful. \n",
      "\n",
      "I see that the total public contributions have decreased substantially, probably due to the DAO crash in the previous round and the risk-averse nature of the participants. The change in the behavior of others is evidence of the group's tendency to respond to the recent negative outcome, which is something I must also consider.\n",
      "\n",
      "However, my return of 143.0, despite a lower investment in the public account, reveals that the public account with the NFTs is still a significant earning channel when the DAO is functioning well.\n",
      "\n",
      "Considering the upturn in the situation, there is room to reassess the investment strategy and take on the public sector again within reasonable risks. It's also worth noting that the average level of other individual's contribution is less than what I contributed.\n",
      "\n",
      "Therefore, I would opt to allocate slightly more to the public account than in the previous round because of its recent success. However, I am still inclined to be cautious in this favorable condition because of the inherent risk in the public account, especially following the recent crash. I believe a 65-35 distribution would be fitting in this situation.\n",
      "\n",
      "As a result, I would allocate 65 to my private account and 35 to my public account.\n",
      "\n",
      "The strategy behind my allocation is to safely secure the majority of my endowment while also partaking in the potential high return from the public account and NFTs. Moreover, this allocation allows for further assessment of evolving trends and the behavior of other participants.\n",
      "\n",
      "\n",
      "Agent 1 round 5 decision\n",
      "Looking at this round's results, my strategy of reducing the allocation to the public account paid off as there was a significant crash in the previous round. While I managed a decent 177.0 return thanks to the private account and the luck of getting a private return from the NFT, it seems like the DAO has recovered and the public account is once more functioning. It should also be noted that the other participants have reduced their contributions significantly, averaging to 40.0.\n",
      "\n",
      "However, given the recent crash of the DAO, it might be too soon to rush back into heavy public account investment. The other participants seem to be thinking along the same lines, as indicated by their decreased contributions. It confirms my belief that cautious investment in the public account is the current consensus.\n",
      "\n",
      "In light of this, and given my risk-loving nature, I still want to invest in the public account but also want to protect against another possible crash. Therefore, I decide to continue with a similar strategy but slightly increase my allocation to the public account, banking on the return of luck and the functionality of the DAO. Therefore, I will allocate 80 to my private account and 20 to the public account.\n",
      "\n",
      "This decision is based on the optimistic outcome from the DAO this round balanced against the possibility of its failure. Despite the risk, the potential reward from public investment, especially with the private return from the NFT, keeps the public account an attractive option for investment. This approach keeps a high portion of certain returns and also keeps the door open for high returns from the public account.\n",
      "\n",
      "\n",
      "\n",
      "Agent 2 round 5 decision\n",
      "In the most recent round, the circumstances have turned better with DAO successfully functioning and securing a return from NFT. This resulted in a significantly higher total return compared to the preceding round. Interestingly, I see that the average contribution of other participants to the public account has noticeably dropped in this round.\n",
      "\n",
      "Though the recent result is favorable, it's crucial not to overlook the experience of the round before where both the DAO crashed and no return was received from NFT, leading to a total return of 0. This illustrates that while rewards can be high in speculative investments like this, the risk of substantial loss is also present.\n",
      "\n",
      "Having said that, seeing the DAO functioning well and obtaining a return from NFT in this round pushes me once again towards the public account. But I should also take into consideration that other participants seem to lessen their contribution to the public account. Maybe they are reacting to the DAO crash and no NFT return from the previous round. \n",
      "\n",
      "It's also important to remember that as a risk-loving participant, I am expected to tilt towards bolder strategies. Therefore, I think it would be appropriate to slightly increase the allocation to the public account once again. But given the volatility observed so far, keeping a substantial amount in the private account appears sensible.\n",
      "\n",
      "Considering these factors, I would allocate 45 units to the private account and 55 units to the public account for the next round. My decision attempts to balance a response to recent outcomes while upholding a risk-loving stance, contributing to the public good, and accounting for potential changes in DAO and NFT outcomes.\n",
      "\n",
      "\n",
      "Agent 3 round 5 decision\n",
      "The latest information indicates that the DAO has stabilized and is functioning again. Consequently, contributions to the public account got converted into public goods, and I succeeded in obtaining a private return from the NFT. This could suggest a potential rebound for the public account after the previous crash. However, our fellow participants have shown a conservative approach by reducing their contributions to the public account, possibly as a reaction to the DAO crash in the previous rounds.\n",
      "\n",
      "Considering my risk-loving nature and the most recent returns from the public accounts and NFT, I plan to increase my allocation to the public account this time. However, I will also keep a significant amount in the private account for steady returns and to act as a safety net in case the DAO destabilizes again.\n",
      "\n",
      "With all these facts in mind, I will contribute 40 to the private account, which is 40% of my total endowment. This is a decrease compared to my last round but considering the DAO is functioning again and I earned returns off the NFT, I am willing to take the risk.\n",
      "\n",
      "I will allocate the remaining 60 (60% of my total endowment) to the public account. This is an increase from my previous round, reflecting my risk-loving nature and the latest positive returns from the public account.\n",
      "\n",
      "In summary, for the next round, I plan to allocate 40 to the private account and 60 to the public account, keeping a balance between secure returns and attractive opportunities in the public investments.\n",
      "\n",
      "\n"
     ]
    }
   ],
   "source": [
    "exp.decision_round()"
   ]
  },
  {
   "cell_type": "code",
   "execution_count": 93,
   "id": "1ad2bcee",
   "metadata": {},
   "outputs": [
    {
     "name": "stdout",
     "output_type": "stream",
     "text": [
      "agent 0 received feedback\n",
      "agent 1 received feedback\n",
      "agent 2 received feedback\n",
      "agent 3 received feedback\n"
     ]
    }
   ],
   "source": [
    "privates = [65, 80, 45, 40]\n",
    "publics = [35, 20, 55, 60]\n",
    "exp.give_feedback(privates, publics)"
   ]
  },
  {
   "cell_type": "code",
   "execution_count": 94,
   "id": "f85edc0b",
   "metadata": {
    "collapsed": true
   },
   "outputs": [
    {
     "data": {
      "text/plain": [
       "{'agents_demographics':    agent_id risk_preference  gender  age\n",
       " 0         0     risk_averse    male   30\n",
       " 1         1     risk_loving    male   30\n",
       " 2         2     risk_loving    male   30\n",
       " 3         3     risk_loving  female   40,\n",
       " 'agents_rounds':     agent_id  round  private  public  others_average_public  \\\n",
       " 0          0      1       70      30              56.666667   \n",
       " 1          0      2       60      40              55.000000   \n",
       " 2          0      3       60      40              55.000000   \n",
       " 3          0      4       70      30              33.333333   \n",
       " 4          0      5       65      35              45.000000   \n",
       " 5          1      1       50      50              50.000000   \n",
       " 6          1      2       60      40              55.000000   \n",
       " 7          1      3       60      40              55.000000   \n",
       " 8          1      4       90      10              40.000000   \n",
       " 9          1      5       80      20              50.000000   \n",
       " 10         2      1       30      70              43.333333   \n",
       " 11         2      2       35      65              46.666667   \n",
       " 12         2      3       40      60              48.333333   \n",
       " 13         2      4       60      40              30.000000   \n",
       " 14         2      5       45      55              38.333333   \n",
       " 15         3      1       50      50              50.000000   \n",
       " 16         3      2       40      60              48.333333   \n",
       " 17         3      3       35      65              46.666667   \n",
       " 18         3      4       50      50              26.666667   \n",
       " 19         3      5       40      60              36.666667   \n",
       " \n",
       "                                              decision  \n",
       " 0   Given the complexity of the situation and my r...  \n",
       " 1   Given the return of 199.0 from my previous rou...  \n",
       " 2   The return from my previous round's allocation...  \n",
       " 3   In the last round, the worst-case scenario has...  \n",
       " 4   The last round concluded positively - despite ...  \n",
       " 5   Given the fact that the public account has a r...  \n",
       " 6   This new round brought quite a positive outcom...  \n",
       " 7   It seems that the results continue to be posit...  \n",
       " 8   This round was unsuccessful as the DAO crashed...  \n",
       " 9   Looking at this round's results, my strategy o...  \n",
       " 10  Given the rules of the experiment, it's clear ...  \n",
       " 11  Having seen the results of the first allocatio...  \n",
       " 12  The circumstances after the second allocation ...  \n",
       " 13  The latest round of allocation has resulted in...  \n",
       " 14  In the most recent round, the circumstances ha...  \n",
       " 15  Given that I am somewhat risk-loving and trust...  \n",
       " 16  Given the information that I earned significan...  \n",
       " 17  Based on the most recent results, it is confir...  \n",
       " 18  Given the new results, my risk-taking did not ...  \n",
       " 19  The latest information indicates that the DAO ...  ,\n",
       " 'total_contributions':    round  total_contributions\n",
       " 0      1                  200\n",
       " 1      2                  205\n",
       " 2      3                  205\n",
       " 3      4                  130\n",
       " 4      5                  170,\n",
       " 'configs':    rounds  num_agents  endowment  r_NFT  r_public  h_public  p(s_DAO=1)  \\\n",
       " 0       5           4        100    0.5       0.4       0.8         0.5   \n",
       " \n",
       "    p(s_NFT=1)                                    group  \n",
       " 0         0.5  <function treatment3 at 0x7fa3e007a160>  }"
      ]
     },
     "execution_count": 94,
     "metadata": {},
     "output_type": "execute_result"
    }
   ],
   "source": [
    "data = extract_experiment_data(exp)\n",
    "time_stamp = datetime.now()\n",
    "group = \"treatment3\"\n",
    "pickle.dump(data, open(f\"results/{group}_{time_stamp}.pkl\", 'wb'))\n",
    "data"
   ]
  },
  {
   "cell_type": "code",
   "execution_count": 95,
   "id": "022c3be7",
   "metadata": {},
   "outputs": [
    {
     "name": "stdout",
     "output_type": "stream",
     "text": [
      "agent 0 left the experiment\n",
      "agent 1 left the experiment\n",
      "agent 2 left the experiment\n",
      "agent 3 left the experiment\n"
     ]
    }
   ],
   "source": [
    "exp.end()"
   ]
  },
  {
   "cell_type": "code",
   "execution_count": null,
   "id": "ce49a183",
   "metadata": {},
   "outputs": [],
   "source": []
  }
 ],
 "metadata": {
  "kernelspec": {
   "display_name": "Python 3 (ipykernel)",
   "language": "python",
   "name": "python3"
  },
  "language_info": {
   "codemirror_mode": {
    "name": "ipython",
    "version": 3
   },
   "file_extension": ".py",
   "mimetype": "text/x-python",
   "name": "python",
   "nbconvert_exporter": "python",
   "pygments_lexer": "ipython3",
   "version": "3.9.19"
  }
 },
 "nbformat": 4,
 "nbformat_minor": 5
}
