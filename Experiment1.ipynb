{
 "cells": [
  {
   "cell_type": "markdown",
   "id": "a51ec07b",
   "metadata": {},
   "source": [
    "# Imports and Keys"
   ]
  },
  {
   "cell_type": "code",
   "execution_count": 15,
   "id": "80f35bd7",
   "metadata": {},
   "outputs": [],
   "source": [
    "import openai\n",
    "from openai import OpenAI\n",
    "import pandas as pd\n",
    "import numpy as np\n",
    "import pickle\n",
    "import requests\n",
    "import re\n",
    "from datetime import datetime\n",
    "import matplotlib.pyplot as plt\n",
    "import warnings\n",
    "warnings.filterwarnings(\"ignore\")\n",
    "\n",
    "def create_minute_gap(seconds):\n",
    "    print(\"creating minute gap to avoid TPM limit error...\") \n",
    "    counter = 0\n",
    "    while counter < (1000000000 * (seconds/60)):\n",
    "        counter += 1"
   ]
  },
  {
   "cell_type": "code",
   "execution_count": 16,
   "id": "1086cf7f",
   "metadata": {},
   "outputs": [],
   "source": [
    "API=\"\""
   ]
  },
  {
   "cell_type": "code",
   "execution_count": 17,
   "id": "675d769b",
   "metadata": {},
   "outputs": [],
   "source": [
    "agent_key=\"\""
   ]
  },
  {
   "cell_type": "code",
   "execution_count": 18,
   "id": "9ebfd1da",
   "metadata": {},
   "outputs": [],
   "source": [
    "client = OpenAI(api_key=API)"
   ]
  },
  {
   "cell_type": "markdown",
   "id": "c0403058",
   "metadata": {},
   "source": [
    "# Experiment Procedure"
   ]
  },
  {
   "cell_type": "markdown",
   "id": "95a5bb80",
   "metadata": {},
   "source": [
    "Procedure:\n",
    "1. Remind agents with the setting of the experiment\n",
    "2. instruct them to decide the allocation to private and public account\n",
    "3. aggregate the decision and compute the rewards\n",
    "    - private internal return (NFT)\n",
    "    - public internal return (public goods from own contribution)\n",
    "    - external return (public goods from others\\' contribution)\n",
    "4. give feedback\n",
    "    - total contrubution made this round\n",
    "    - total reward\n",
    "    - breakdown of total reward\n",
    "    - situation information\n",
    "        - DAO crashed?\n",
    "        - NF succeeded?\n",
    "    - historical contribution level\n",
    "5. insruct them to make decision given feedback and reminder of demographics\n",
    "6. repeat 3~5 for configured rounds\n",
    "\n",
    "Prompts:\n",
    "- Assistent Configuration Prompt\n",
    "You are a participant of the experiment. You are asked to allocate your endowment to two different accounts: private account and public account. The allocation to the private account will provide certain return only to you, but the allocation to the public account will equally provide everyone certain return. You are not allowed to reuse the return earned in previous round, and fixed amount of endowment will be provided to you every round. You will be informed with your demographic information and the detailed settings of the experiment at the beginning of the experiment, so you must imitate human decisions given those information. You should explain your thought process and reasons of your decisions in detail.\n",
    "- Initial Instruction Prompt\n",
    "    - Control\n",
    "You are {agent.age} years old {agent.gender} who is {agent.risk_preference} to some extent. You are participating in the experiment where you are asked to allocate your endowment to two different accounts: private account and public account. The allocation to the private account will provide return only to you, but the allocation to the public account will provide everyone certain return. You are not allowed to reuse the return earned in previous round, and fixed endowment of 100 will be provided to you every round. {self.configs['num_agents'] - 1} other people are participating in this experiment, facing same decision choices as you. Your return will be computed by: private_account + public_account * {self.configs['r_NFT'] + self.configs['r_public']} + sum_of_others\\'_public account * {self.configs['h_public']}. Now, make your first decision on the allocation of 100 endowment to private and public account. You should explain your thought process and reasons of your decisions in detail.\n",
    "    - Treatment1\n",
    "You are {agent.age} years old {agent.gender} who is {agent.risk_preference} to some extent. You are participating in the experiment where you are asked to allocate your endowment to two different accounts: private account and public account. The allocation to the private account will provide return only to you, but the allocation to the public account will provide everyone certain return. The contributions to the public account will be managed by Decentralized Autonomous Organization (DAO), which has a certain probability of crashing, generating no public benefits to anyone from the public account. The return you will be getting from the allocation to public account will also includes a return from Non-Fungible-Token (NFT) (only paid by chance) you will be obtaining when you allocate your endowment to public account. You are not allowed to reuse the return earned in previous round, and fixed endowment of 100 will be provided to you every round. {self.configs['num_agents'] - 1} other people are participating in this experiment, facing same decision choices as you. Your return will be computed by: private_account + public_account * r_NFT + public_account * r_public + sum_of_others\\'_public account * h_public. r_NFT is {self.configs['r_NFT']} with probability of {self.configs['p(s_NFT=1)']} and 0 with {1 - self.configs['p(s_NFT=1)']}. r_public is {self.configs['r_public']} with probability of {self.configs['p(s_DAO=1)']} and 0 with {1 - self.configs['p(s_DAO=1)']}. h_public is {self.configs['h_public']} with probability of {self.configs['p(s_DAO=1)']} and 0 with {1 - self.configs['p(s_DAO=1)']}, which is linked with r_public. So if r_public is {self.configs['r_public']} then h_public is {self.configs['h_public']}, and if one of them is 0 then the other one is also 0, because they are decided together. Now, make your first decision on the allocation of 100 endowment to private and public account. You should explain your thought process and reasons of your decisions in detail, and report the amount allocated to private and public account.\n",
    "    - Treatment 2\n",
    "You are {agent.age} years old {agent.gender} who is {agent.risk_preference} to some extent. You are participating in the experiment where you are asked to allocate your endowment to two different accounts: private account and public account. The allocation to the private account will provide return only to you, but the allocation to the public account will provide everyone certain return. The contributions to the public account will be managed by Decentralized Autonomous Organization (DAO), which has a certain probability of crashing, generating no public benefits to anyone from the public account. The return you will be getting from the allocation to public account will also includes a return from Non-Fungible-Token (NFT) (only paid by chance) you will be obtaining when you allocate your endowment to public account. You are not allowed to reuse the return earned in previous round, and fixed endowment of 100 will be provided to you every round. {self.configs['num_agents'] - 1} other people are participating in this experiment, facing same decision choices as you. Your return will be computed by: private_account + public_account * r_NFT + public_account * r_public + sum_of_others\\'_public account * h_public. r_NFT is {self.configs['r_NFT']} with probability of {self.configs['p(s_NFT=1)']} and 0 with {1 - self.configs['p(s_NFT=1)']}. r_public is {self.configs['r_public']} with probability of {self.configs['p(s_DAO=1)']} and 0 with {1 - self.configs['p(s_DAO=1)']}. h_public is {self.configs['h_public']} with probability of {self.configs['p(s_DAO=1)']} and 0 with {1 - self.configs['p(s_DAO=1)']}, which is linked with r_public. So if r_public is {self.configs['r_public']} then h_public is {self.configs['h_public']}, and if one of them is 0 then the other one is also 0, because they are decided together. Importantly, if r_public and h_public are 0, then it causes r_NFT to be 0. However, r_NFT being 0 does not necessarily cause r_public or h_public to be 0. Now, make your first decision on the allocation of 100 endowment to private and public account. You should explain your thought process and reasons of your decisions in detail and report the amount allocated to private and public account.\n",
    "    - Treatment3\n",
    "You are {agent.age} years old {agent.gender} who is {agent.risk_preference} to some extent. You are participating in the experiment where you are asked to allocate your endowment to two different accounts: private account and public account. The allocation to the private account will provide return only to you, but the allocation to the public account will provide everyone certain return. The contributions to the public account will be managed by Decentralized Autonomous Organization (DAO), which has a certain probability of crashing, generating no public benefits to anyone from the public account. The return you will be getting from the allocation to public account will also includes a return from Non-Fungible-Token (NFT) (only paid by chance) you will be obtaining when you allocate your endowment to public account. You are not allowed to reuse the return earned in previous round, and fixed endowment of 100 will be provided to you every round. {self.configs['num_agents'] - 1} other people are participating in this experiment, facing same decision choices as you. Your return will be computed by: private_account + public_account * r_NFT + public_account * r_public + sum_of_others\\'_public account * h_public. r_NFT is {self.configs['r_NFT']} with probability of {self.configs['p(s_NFT=1)']} and 0 with {1 - self.configs['p(s_NFT=1)']}. r_public is {self.configs['r_public']} with probability of {self.configs['p(s_DAO=1)']} and 0 with {1 - self.configs['p(s_DAO=1)']}. h_public is {self.configs['h_public']} with probability of {self.configs['p(s_DAO=1)']} and 0 with {1 - self.configs['p(s_DAO=1)']}, which is linked with r_public. So if r_public is {self.configs['r_public']} then h_public is {self.configs['h_public']}, and if one of them is 0 then the other one is also 0, because they are decided together. Importantly, if r_public and h_public are 0, then it causes r_NFT to be 0. However, r_NFT being 0 does not necessarily cause r_public or h_public to be 0. Another important point is that if one of r_NFT or (r_public and h_public) is positive, and when the other one is 0, then the value of the other one is redrawn using the same probability. This means that if one of the r_NFT or (r_public and h_public) is positive, then it increases the chance of the other to be positive. However if (r_public and h_public) were 0 even after redraw, r_NFT will become 0. Now, make your first decision on the allocation of 100 endowment to private and public account. You should explain your thought process and reasons of your decisions in detail and report the amount allocated to private and public account.\n",
    "- Feedback & Next Instruction Prompt\n",
    "    - Control\n",
    "After the allocation, you received {payoff}. Total of {total_contributions} were allocated to public accounts by all participants, where other participants contributed {total_contributions - public}. Historically, the total contributions to the public account is {self.total_contributions_record}, where each of other participants have chosen to allocate {agent.others_average_publics} (average level of other individual\\'s contribution) historically. {situation_messages['DAO']} {situation_messages['NFT']} Now, given this information, your demographics, and experiment settings, make your next decision on the allocation of 100 endowment to private and public account. You should explain your thought process and reasons of your decisions in detail and report the amount allocated to private and public account.\n",
    "    - Treatment1\n",
    "After the allocation, you received {payoff}. Total of {total_contributions} were allocated to public accounts by all participants, where other participants contributed {total_contributions - public}. Historically, the total contributions to the public account is {self.total_contributions_record}, where each of other participants have chosen to allocate {agent.others_average_publics} (average level of other individual\\'s contribution) historically. {situation_messages['DAO']} {situation_messages['NFT']} Now, given this information, your demographics, and experiment settings, make your next decision on the allocation of 100 endowment to private and public account. You should explain your thought process and reasons of your decisions in detail and report the amount allocated to private and public account.\n",
    "    - Treatment 2\n",
    "After the allocation, you received {payoff}. Total of {total_contributions} were allocated to public accounts by all participants, where other participants contributed {total_contributions - public}. Historically, the total contributions to the public account is {self.total_contributions_record}, where each of other participants have chosen to allocate {agent.others_average_publics} (average level of other individual\\'s contribution) historically. {situation_messages['DAO']} {situation_messages['NFT']} Now, given this information, your demographics, and experiment settings, make your next decision on the allocation of 100 endowment to private and public account. You should explain your thought process and reasons of your decisions in detail and report the amount allocated to private and public account.\n",
    "    - Treatment3\n",
    "After the allocation, you received {payoff}. Total of {total_contributions} were allocated to public accounts by all participants, where other participants contributed {total_contributions - public}. Historically, the total contributions to the public account is {self.total_contributions_record}, where each of other participants have chosen to allocate {agent.others_average_publics} (average level of other individual\\'s contribution) historically. {situation_messages['DAO']} {situation_messages['NFT']} Now, given this information, your demographics, and experiment settings, make your next decision on the allocation of 100 endowment to private and public account. You should explain your thought process and reasons of your decisions in detail and report the amount allocated to private and public account."
   ]
  },
  {
   "cell_type": "markdown",
   "id": "f2659be7",
   "metadata": {},
   "source": [
    "# Configurations"
   ]
  },
  {
   "cell_type": "code",
   "execution_count": 19,
   "id": "f016c6d6",
   "metadata": {},
   "outputs": [],
   "source": [
    "def treatment1(p_sDAO, p_sNFT):\n",
    "    sDAO = np.random.choice([0, 1], p=[1-p_sDAO, p_sDAO])\n",
    "    sNFT = np.random.choice([0, 1], p=[1-p_sNFT, p_sNFT])\n",
    "    \n",
    "    situation = {\n",
    "        \"DAO\": \"DAO is functioning, so contributions were effectively converted to public goods, and everyone enjoyed a share of it.\" if sDAO==1 else \"DAO crashed, so the contributions were not converted to public goods, and nobody enjoyed the benefit of public goods.\",\n",
    "        \"NFT\": \"You succeeded in obtaining a private return on contribution from through NFT.\" if sNFT==1 else \"You failed to recieve a private return on contribution through NFT.\"\n",
    "    }\n",
    "    return situation, sDAO, sNFT\n",
    "\n",
    "def treatment2(p_sDAO, p_sNFT):\n",
    "    sDAO = np.random.choice([0, 1], p=[1-p_sDAO, p_sDAO])\n",
    "    sNFT = np.random.choice([0, 1], p=[1-p_sNFT, p_sNFT])\n",
    "    \n",
    "    if sDAO==0:\n",
    "        sNFT = 0\n",
    "    \n",
    "    situation = {\n",
    "        \"DAO\": \"DAO is functioning, so contributions were effectively converted to public goods, and everyone enjoyed a share of it.\" if sDAO==1 else \"DAO crashed, so the contributions were not converted to public goods, and nobody enjoyed the benefit of public goods.\",\n",
    "        \"NFT\": \"You succeeded in obtaining a private return on contribution from through NFT.\" if sNFT==1 else \"You failed to recieve a private return on contribution through NFT.\"\n",
    "    }\n",
    "    return situation, sDAO, sNFT\n",
    "\n",
    "def treatment3(p_sDAO, p_sNFT):\n",
    "    sDAO = np.random.choice([0, 1], p=[1-p_sDAO, p_sDAO])\n",
    "    sNFT = np.random.choice([0, 1], p=[1-p_sNFT, p_sNFT])\n",
    "    \n",
    "    if (sDAO==1) & (sNFT==0):\n",
    "        sNFT = np.random.choice([0, 1], p=[1-p_sNFT, p_sNFT])\n",
    "    \n",
    "    if (sNFT==1) & (sDAO==0):\n",
    "        sDAO = np.random.choice([0, 1], p=[1-p_sDAO, p_sDAO])\n",
    "    \n",
    "    if sDAO==0:\n",
    "        sNFT = 0 \n",
    "    \n",
    "    situation = {\n",
    "        \"DAO\": \"DAO is functioning, so contributions were effectively converted to public goods, and everyone enjoyed a share of it.\" if sDAO==1 else \"DAO crashed, so the contributions were not converted to public goods, and nobody enjoyed the benefit of public goods.\",\n",
    "        \"NFT\": \"You succeeded in obtaining a private return on contribution from through NFT.\" if sNFT==1 else \"You failed to recieve a private return on contribution through NFT.\"\n",
    "    }\n",
    "    return situation, sDAO, sNFT\n"
   ]
  },
  {
   "cell_type": "code",
   "execution_count": 20,
   "id": "fe8a7530",
   "metadata": {},
   "outputs": [],
   "source": [
    "# control no risk\n",
    "config_C = {\n",
    "    \"rounds\": 5,\n",
    "    \"num_agents\": 4,\n",
    "    \"endowment\": 100,\n",
    "    \"r_NFT\": 0.25,\n",
    "    \"r_public\": 0.25, # E[r_NFT + r_public] = 0.5\n",
    "    \"h_public\": 0.5, # E[h_public] = 0.5\n",
    "    \"p(s_DAO=1)\": 1,\n",
    "    \"p(s_NFT=1)\": 1,\n",
    "    \"group\": None\n",
    "}\n",
    "\n",
    "# treatment1: independent risk\n",
    "config_T1 = {\n",
    "    \"rounds\": 5,\n",
    "    \"num_agents\": 4,\n",
    "    \"endowment\": 100,\n",
    "    \"r_NFT\": 1/3,\n",
    "    \"r_public\": 1/3, # E[r_NFT + r_public] = (r_public + r_NFT) * p(s_DAO=1) * p(s_NFT=1) + r_public * p(s_DAO=1) + r_NFT * p(s_NFT=1) = (1/3 + 1/3) * 0.25 + 1/3 * 0.5 + 1/3 * 0.5 = 0.5\n",
    "    \"h_public\": 1, # E[h_public] = p(s_DAO=1) * h_public = 0.5\n",
    "    \"p(s_DAO=1)\": 0.5,\n",
    "    \"p(s_NFT=1)\": 0.5,\n",
    "    \"group\": treatment1\n",
    "}\n",
    "\n",
    "# treatment2: \n",
    "config_T2 = {\n",
    "    \"rounds\": 5,\n",
    "    \"num_agents\": 4,\n",
    "    \"endowment\": 100,\n",
    "    \"r_NFT\": 0.5,\n",
    "    \"r_public\": 0.5, # E[r_NFT + r_public] = (r_public + r_NFT) * p(s_DAO=1) * p(s_NFT=1) + r_public * p(s_DAO=1) = (0.5 + 0.5) * 0.25 + 0.5 * 0.5 = 0.5\n",
    "    \"h_public\": 1, # E[h_public] = p(s_DAO=1) * h_public = 0.5\n",
    "    \"p(s_DAO=1)\": 0.5,\n",
    "    \"p(s_NFT=1)\": 0.5,\n",
    "    \"group\": treatment2\n",
    "}\n",
    "\n",
    "config_T3 = {\n",
    "    \"rounds\": 5,\n",
    "    \"num_agents\": 4,\n",
    "    \"endowment\": 100,\n",
    "    \"r_NFT\": 0.5,\n",
    "    \"r_public\": 0.4, # E[r_NFT + r_public] = (r_public + r_NFT) * p(s_DAO=1) * p(s_NFT=1) + (r_public + r_NFT) * p(s_DAO=1) * (1 - p(s_NFT=1)) * p(s_NFT=1) + r_public * p(s_DAO=1) * (1 - p(s_NFT=1)) * (1 - p(s_NFT=1)) + (r_public + r_NFT) * p(s_NFT=1) * (1 - p(s_DAO=1)) * p(s_DAO=1) = (0.4 + 0.5) * 0.5 * 0.5 + (0.4 + 0.5) * 0.5 * 0.5 * 0.5 + + 0.4 * 0.5 * 0.5 * 0.5 + (0.4 + 0.5) * 0.5 * 0.5 * 0.5 = 0.5\n",
    "    \"h_public\": 0.8, # E[h_public] = h_public * p(s_DAO=1) + h_public * (1 - p(s_DAO=1)) * p(s_NFT=1) * p(s_DAO=1) = 0.8 * 0.5 + 0.8 * 0.5 * 0.5 * 0.5 = 0.5\n",
    "    \"p(s_DAO=1)\": 0.5,\n",
    "    \"p(s_NFT=1)\": 0.5,\n",
    "    \"group\": treatment3\n",
    "}"
   ]
  },
  {
   "cell_type": "code",
   "execution_count": 21,
   "id": "b99c8c77",
   "metadata": {},
   "outputs": [],
   "source": [
    "demographics = {\n",
    "    \"risk_preference\": [\"risk_neutral\", \"risk_averse\", \"risk_loving\"],\n",
    "    \"risk_preference_dist\": [0.1, 0.15, 0.75],\n",
    "    \"gender\": [\"male\", \"female\"],\n",
    "    \"gender_dist\": [0.8, 0.2], \n",
    "    \"age\": [20, 30, 40, 50, 60],\n",
    "    \"age_dist\": [0.2, 0.4, 0.2, 0.1, 0.1]\n",
    "}"
   ]
  },
  {
   "cell_type": "markdown",
   "id": "5caf7798",
   "metadata": {},
   "source": [
    "# Library"
   ]
  },
  {
   "cell_type": "code",
   "execution_count": 22,
   "id": "80b7e630",
   "metadata": {},
   "outputs": [],
   "source": [
    "class Agent():\n",
    "    def __init__(self, client, agent_key, demog):\n",
    "        self.client = client\n",
    "        self.agent_key = agent_key\n",
    "        \n",
    "        self.risk_preference = demog[\"risk_preference\"]\n",
    "        self.gender = demog[\"gender\"]\n",
    "        self.age = demog[\"age\"]\n",
    "        \n",
    "        self.privates = []\n",
    "        self.publics = []\n",
    "        self.others_average_publics = []\n",
    "        \n",
    "        self.decisions = []\n",
    "        \n",
    "    def join_experiment(self):\n",
    "        self.thread = self.client.beta.threads.create()\n",
    "        \n",
    "    def receive_message(self):\n",
    "        self.message = self.client.beta.threads.messages.create(\n",
    "            thread_id=self.thread.id,\n",
    "            role=\"user\",\n",
    "            content=self.content\n",
    "        )\n",
    "    \n",
    "    def make_decision(self, print_decision=True):\n",
    "        # make decision based on provided instruction or feedback\n",
    "        with self.client.beta.threads.runs.stream(\n",
    "            thread_id=self.thread.id,\n",
    "            assistant_id=self.agent_key\n",
    "        ) as self.stream:\n",
    "            self.stream.until_done()\n",
    "            \n",
    "        # update conversation record\n",
    "        self.conversation = self.client.beta.threads.messages.list(\n",
    "            thread_id=self.thread.id,\n",
    "            order=\"asc\"\n",
    "        )\n",
    "        \n",
    "        # retrieve the round decision\n",
    "        self.decision = self.conversation.data[-1].content[0].text.value\n",
    "        \n",
    "        self.decisions.append(self.decision)\n",
    "        \n",
    "        if print_decision:\n",
    "            print(self.decision)\n",
    "    \n",
    "    def leave_experiment(self):\n",
    "        self.client.beta.threads.delete(thread_id=self.thread.id)\n",
    "    \n",
    "    "
   ]
  },
  {
   "cell_type": "code",
   "execution_count": 117,
   "id": "2bc52662",
   "metadata": {},
   "outputs": [],
   "source": [
    "class Experiment():\n",
    "    def __init__(self, client, agent_key, configs, demogs):\n",
    "        self.client = client\n",
    "        self.agent_key = agent_key\n",
    "        \n",
    "        self.configs = configs\n",
    "        self.demogs = demogs\n",
    "        \n",
    "        self.agents = [Agent(self.client, self.agent_key, generate_demographics(self.demogs)) for i in range(self.configs[\"num_agents\"])]\n",
    "        \n",
    "        self.total_contributions_record = []\n",
    "        self.sDAOs = []\n",
    "        self.sNFTs = []\n",
    "        \n",
    "        self.round = 1\n",
    "    \n",
    "    def start(self):\n",
    "        for i in range(len(self.agents)):\n",
    "            self.agents[i].join_experiment()\n",
    "            print(f\"agent {i} joined the experiment\")\n",
    "            \n",
    "    def decision_round(self, print_decision=True):\n",
    "        for i in range(len(self.agents)):\n",
    "            print(f\"Agent {i} round {self.round} decision\")\n",
    "            self.agents[i].make_decision(print_decision)\n",
    "            print(\"\\n\")\n",
    "        self.round += 1\n",
    "    \n",
    "    def end(self):\n",
    "        for i in range(len(self.agents)):\n",
    "            self.agents[i].leave_experiment()\n",
    "            print(f\"agent {i} left the experiment\")\n",
    "    \n",
    "    def give_instruction(self):\n",
    "        pass\n",
    "                \n",
    "    def give_feedback(self):\n",
    "        pass\n",
    "    \n",
    "class Control(Experiment):\n",
    "    def give_instruction(self):\n",
    "        for i in range(len(self.agents)):\n",
    "            agent = self.agents[i]\n",
    "            agent.content = f\"You are {agent.age} years old {agent.gender} who is {agent.risk_preference} to some extent. You are participating in the experiment where you are asked to allocate your endowment to two different accounts: private account and public account. The allocation to the private account will provide return only to you, but the allocation to the public account will provide everyone certain return. You are not allowed to reuse the return earned in previous round, and fixed endowment of 100 will be provided to you every round. {self.configs['num_agents'] - 1} other people are participating in this experiment, facing same decision choices as you. Your return will be computed by: private_account + public_account * {self.configs['r_NFT'] + self.configs['r_public']} + sum_of_others\\'_public account * {self.configs['h_public']}. Now, make your first decision on the allocation of 100 endowment to private and public account. You should explain your thought process and reasons of your decisions in detail.\"\n",
    "            agent.receive_message()\n",
    "            print(f\"agent {i} received instruction\")\n",
    "                \n",
    "    def give_feedback(self, privates, publics):\n",
    "        total_contributions = sum(publics)\n",
    "        \n",
    "        self.total_contributions_record.append(total_contributions)\n",
    "        \n",
    "        if self.configs[\"group\"]:\n",
    "            situation_messages, sDAO, sNFT = self.configs[\"group\"](self.configs[\"p(s_DAO=1)\"], self.configs[\"p(s_NFT=1)\"])\n",
    "        else: \n",
    "            situation_messages, sDAO, sNFT = None, 1, 1\n",
    "        self.sDAOs.append(sDAO)\n",
    "        self.sNFTs.append(sNFT)\n",
    "            \n",
    "        for i in range(len(self.agents)):\n",
    "            agent = self.agents[i]\n",
    "            private = privates[i]\n",
    "            agent.privates.append(private)\n",
    "            public = publics[i]\n",
    "            agent.publics.append(public)\n",
    "            others_average_public = sum([publics[j] for j in range(len(publics)) if j!=i]) / (self.configs[\"num_agents\"] - 1)\n",
    "            agent.others_average_publics.append(others_average_public)\n",
    "            payoff = private + public * (self.configs[\"r_NFT\"] * sNFT + self.configs[\"r_public\"] * sDAO) + (total_contributions - public) * self.configs[\"h_public\"] * sDAO\n",
    "        \n",
    "            if situation_messages:\n",
    "                agent.content = f\"After the allocation, you received {payoff}. Total of {total_contributions} were allocated to public accounts by all participants, where other participants contributed {total_contributions - public}. Historically, the total contributions to the public account is {self.total_contributions_record}, where each of other participants have chosen to allocate {agent.others_average_publics} (average level of other individual\\'s contribution) historically. {situation_messages['DAO']} {situation_messages['NFT']} Now, given this information, your demographics, and experiment settings, make your next decision on the allocation of 100 endowment to private and public account. You should explain your thought process and reasons of your decisions in detail and report the amount allocated to private and public account.\"\n",
    "                agent.receive_message()\n",
    "            else: \n",
    "                agent.content = f\"After the allocation, you received {payoff}. Total of {total_contributions} were allocated to public accounts by all participants, where other participants contributed {total_contributions - public}. Historically, the total contributions to the public account is {self.total_contributions_record}, where each of other participants have chosen to allocate {agent.others_average_publics} (average level of other individual\\'s contribution) historically. Now, given this information, your demographics, and experiment settings, make your next decision on the allocation of 100 endowment to private and public account. You should explain your thought process and reasons of your decisions in detail and report the amount allocated to private and public account.\"\n",
    "                agent.receive_message()\n",
    "            print(f\"agent {i} received feedback\")\n",
    "    \n",
    "class Treatment1(Experiment):\n",
    "    def give_instruction(self):\n",
    "        for i in range(len(self.agents)):\n",
    "            agent = self.agents[i]\n",
    "            agent.content = f\"You are {agent.age} years old {agent.gender} who is {agent.risk_preference} to some extent. You are participating in the experiment where you are asked to allocate your endowment to two different accounts: private account and public account. The allocation to the private account will provide return only to you, but the allocation to the public account will provide everyone certain return. The contributions to the public account will be managed by Decentralized Autonomous Organization (DAO), which has a certain probability of crashing, generating no public benefits to anyone from the public account. The return you will be getting from the allocation to public account will also includes a return from Non-Fungible-Token (NFT) (only paid by chance) you will be obtaining when you allocate your endowment to public account. You are not allowed to reuse the return earned in previous round, and fixed endowment of 100 will be provided to you every round. {self.configs['num_agents'] - 1} other people are participating in this experiment, facing same decision choices as you. Your return will be computed by: private_account + public_account * r_NFT + public_account * r_public + sum_of_others\\'_public account * h_public. r_NFT is {self.configs['r_NFT']} with probability of {self.configs['p(s_NFT=1)']} and 0 with {1 - self.configs['p(s_NFT=1)']}. r_public is {self.configs['r_public']} with probability of {self.configs['p(s_DAO=1)']} and 0 with {1 - self.configs['p(s_DAO=1)']}. h_public is {self.configs['h_public']} with probability of {self.configs['p(s_DAO=1)']} and 0 with {1 - self.configs['p(s_DAO=1)']}, which is linked with r_public. So if r_public is {self.configs['r_public']} then h_public is {self.configs['h_public']}, and if one of them is 0 then the other one is also 0, because they are decided together. Now, make your first decision on the allocation of 100 endowment to private and public account. You should explain your thought process and reasons of your decisions in detail, and report the amount allocated to private and public account.\"\n",
    "            agent.receive_message()\n",
    "            print(f\"agent {i} received instruction\")\n",
    "                \n",
    "    def give_feedback(self, privates, publics):\n",
    "        total_contributions = sum(publics)\n",
    "        \n",
    "        self.total_contributions_record.append(total_contributions)\n",
    "        \n",
    "        if self.configs[\"group\"]:\n",
    "            situation_messages, sDAO, sNFT = self.configs[\"group\"](self.configs[\"p(s_DAO=1)\"], self.configs[\"p(s_NFT=1)\"])\n",
    "        else: \n",
    "            situation_messages, sDAO, sNFT = None, 1, 1\n",
    "        self.sDAOs.append(sDAO)\n",
    "        self.sNFTs.append(sNFT)\n",
    "            \n",
    "        for i in range(len(self.agents)):\n",
    "            agent = self.agents[i]\n",
    "            private = privates[i]\n",
    "            agent.privates.append(private)\n",
    "            public = publics[i]\n",
    "            agent.publics.append(public)\n",
    "            others_average_public = sum([publics[j] for j in range(len(publics)) if j!=i]) / (self.configs[\"num_agents\"] - 1)\n",
    "            agent.others_average_publics.append(others_average_public)\n",
    "            payoff = private + public * (self.configs[\"r_NFT\"] * sNFT + self.configs[\"r_public\"] * sDAO) + (total_contributions - public) * self.configs[\"h_public\"] * sDAO\n",
    "        \n",
    "            if situation_messages:\n",
    "                agent.content = f\"After the allocation, you received {payoff}. Total of {total_contributions} were allocated to public accounts by all participants, where other participants contributed {total_contributions - public}. Historically, the total contributions to the public account is {self.total_contributions_record}, where each of other participants have chosen to allocate {agent.others_average_publics} (average level of other individual\\'s contribution) historically. {situation_messages['DAO']} {situation_messages['NFT']} Now, given this information, your demographics, and experiment settings, make your next decision on the allocation of 100 endowment to private and public account. You should explain your thought process and reasons of your decisions in detail and report the amount allocated to private and public account.\"\n",
    "                agent.receive_message()\n",
    "            else: \n",
    "                agent.content = f\"After the allocation, you received {payoff}. Total of {total_contributions} were allocated to public accounts by all participants, where other participants contributed {total_contributions - public}. Historically, the total contributions to the public account is {self.total_contributions_record}, where each of other participants have chosen to allocate {agent.others_average_publics} (average level of other individual\\'s contribution) historically. Now, given this information, your demographics, and experiment settings, make your next decision on the allocation of 100 endowment to private and public account. You should explain your thought process and reasons of your decisions in detail and report the amount allocated to private and public account.\"\n",
    "                agent.receive_message()\n",
    "            print(f\"agent {i} received feedback\")\n",
    "\n",
    "class Treatment2(Experiment):\n",
    "    def give_instruction(self):\n",
    "        for i in range(len(self.agents)):\n",
    "            agent = self.agents[i]\n",
    "            agent.content = f\"You are {agent.age} years old {agent.gender} who is {agent.risk_preference} to some extent. You are participating in the experiment where you are asked to allocate your endowment to two different accounts: private account and public account. The allocation to the private account will provide return only to you, but the allocation to the public account will provide everyone certain return. The contributions to the public account will be managed by Decentralized Autonomous Organization (DAO), which has a certain probability of crashing, generating no public benefits to anyone from the public account. The return you will be getting from the allocation to public account will also includes a return from Non-Fungible-Token (NFT) (only paid by chance) you will be obtaining when you allocate your endowment to public account. You are not allowed to reuse the return earned in previous round, and fixed endowment of 100 will be provided to you every round. {self.configs['num_agents'] - 1} other people are participating in this experiment, facing same decision choices as you. Your return will be computed by: private_account + public_account * r_NFT + public_account * r_public + sum_of_others\\'_public account * h_public. r_NFT is {self.configs['r_NFT']} with probability of {self.configs['p(s_NFT=1)']} and 0 with {1 - self.configs['p(s_NFT=1)']}. r_public is {self.configs['r_public']} with probability of {self.configs['p(s_DAO=1)']} and 0 with {1 - self.configs['p(s_DAO=1)']}. h_public is {self.configs['h_public']} with probability of {self.configs['p(s_DAO=1)']} and 0 with {1 - self.configs['p(s_DAO=1)']}, which is linked with r_public. So if r_public is {self.configs['r_public']} then h_public is {self.configs['h_public']}, and if one of them is 0 then the other one is also 0, because they are decided together. Importantly, if r_public and h_public are 0, then it causes r_NFT to be 0. However, r_NFT being 0 does not necessarily cause r_public or h_public to be 0. Now, make your first decision on the allocation of 100 endowment to private and public account. You should explain your thought process and reasons of your decisions in detail and report the amount allocated to private and public account.\"\n",
    "            agent.receive_message()\n",
    "            print(f\"agent {i} received instruction\")\n",
    "                \n",
    "    def give_feedback(self, privates, publics):\n",
    "        total_contributions = sum(publics)\n",
    "        \n",
    "        self.total_contributions_record.append(total_contributions)\n",
    "        \n",
    "        if self.configs[\"group\"]:\n",
    "            situation_messages, sDAO, sNFT = self.configs[\"group\"](self.configs[\"p(s_DAO=1)\"], self.configs[\"p(s_NFT=1)\"])\n",
    "        else: \n",
    "            situation_messages, sDAO, sNFT = None, 1, 1\n",
    "        self.sDAOs.append(sDAO)\n",
    "        self.sNFTs.append(sNFT)\n",
    "            \n",
    "        for i in range(len(self.agents)):\n",
    "            agent = self.agents[i]\n",
    "            private = privates[i]\n",
    "            agent.privates.append(private)\n",
    "            public = publics[i]\n",
    "            agent.publics.append(public)\n",
    "            others_average_public = sum([publics[j] for j in range(len(publics)) if j!=i]) / (self.configs[\"num_agents\"] - 1)\n",
    "            agent.others_average_publics.append(others_average_public)\n",
    "            payoff = private + public * (self.configs[\"r_NFT\"] * sNFT + self.configs[\"r_public\"] * sDAO) + (total_contributions - public) * self.configs[\"h_public\"] * sDAO\n",
    "        \n",
    "            if situation_messages:\n",
    "                agent.content = f\"After the allocation, you received {payoff}. Total of {total_contributions} were allocated to public accounts by all participants, where other participants contributed {total_contributions - public}. Historically, the total contributions to the public account is {self.total_contributions_record}, where each of other participants have chosen to allocate {agent.others_average_publics} (average level of other individual\\'s contribution) historically. {situation_messages['DAO']} {situation_messages['NFT']} Now, given this information, your demographics, and experiment settings, make your next decision on the allocation of 100 endowment to private and public account. You should explain your thought process and reasons of your decisions in detail and report the amount allocated to private and public account.\"\n",
    "                agent.receive_message()\n",
    "            else: \n",
    "                agent.content = f\"After the allocation, you received {payoff}. Total of {total_contributions} were allocated to public accounts by all participants, where other participants contributed {total_contributions - public}. Historically, the total contributions to the public account is {self.total_contributions_record}, where each of other participants have chosen to allocate {agent.others_average_publics} (average level of other individual\\'s contribution) historically. Now, given this information, your demographics, and experiment settings, make your next decision on the allocation of 100 endowment to private and public account. You should explain your thought process and reasons of your decisions in detail and report the amount allocated to private and public account.\"\n",
    "                agent.receive_message()\n",
    "            print(f\"agent {i} received feedback\")\n",
    "    \n",
    "class Treatment3(Experiment):\n",
    "    def give_instruction(self):\n",
    "        for i in range(len(self.agents)):\n",
    "            agent = self.agents[i]\n",
    "            agent.content = f\"You are {agent.age} years old {agent.gender} who is {agent.risk_preference} to some extent. You are participating in the experiment where you are asked to allocate your endowment to two different accounts: private account and public account. The allocation to the private account will provide return only to you, but the allocation to the public account will provide everyone certain return. The contributions to the public account will be managed by Decentralized Autonomous Organization (DAO), which has a certain probability of crashing, generating no public benefits to anyone from the public account. The return you will be getting from the allocation to public account will also includes a return from Non-Fungible-Token (NFT) (only paid by chance) you will be obtaining when you allocate your endowment to public account. You are not allowed to reuse the return earned in previous round, and fixed endowment of 100 will be provided to you every round. {self.configs['num_agents'] - 1} other people are participating in this experiment, facing same decision choices as you. Your return will be computed by: private_account + public_account * r_NFT + public_account * r_public + sum_of_others\\'_public account * h_public. r_NFT is {self.configs['r_NFT']} with probability of {self.configs['p(s_NFT=1)']} and 0 with {1 - self.configs['p(s_NFT=1)']}. r_public is {self.configs['r_public']} with probability of {self.configs['p(s_DAO=1)']} and 0 with {1 - self.configs['p(s_DAO=1)']}. h_public is {self.configs['h_public']} with probability of {self.configs['p(s_DAO=1)']} and 0 with {1 - self.configs['p(s_DAO=1)']}, which is linked with r_public. So if r_public is {self.configs['r_public']} then h_public is {self.configs['h_public']}, and if one of them is 0 then the other one is also 0, because they are decided together. Importantly, if r_public and h_public are 0, then it causes r_NFT to be 0. However, r_NFT being 0 does not necessarily cause r_public or h_public to be 0. Another important point is that if one of r_NFT or (r_public and h_public) is positive, and when the other one is 0, then the value of the other one is redrawn using the same probability. This means that if one of the r_NFT or (r_public and h_public) is positive, then it increases the chance of the other to be positive. However if (r_public and h_public) were 0 even after redraw, r_NFT will become 0. Now, make your first decision on the allocation of 100 endowment to private and public account. You should explain your thought process and reasons of your decisions in detail and report the amount allocated to private and public account.\"\n",
    "            agent.receive_message()\n",
    "            print(f\"agent {i} received instruction\")\n",
    "                \n",
    "    def give_feedback(self, privates, publics):\n",
    "        total_contributions = sum(publics)\n",
    "        \n",
    "        self.total_contributions_record.append(total_contributions)\n",
    "        \n",
    "        if self.configs[\"group\"]:\n",
    "            situation_messages, sDAO, sNFT = self.configs[\"group\"](self.configs[\"p(s_DAO=1)\"], self.configs[\"p(s_NFT=1)\"])\n",
    "        else: \n",
    "            situation_messages, sDAO, sNFT = None, 1, 1\n",
    "        self.sDAOs.append(sDAO)\n",
    "        self.sNFTs.append(sNFT)\n",
    "            \n",
    "        for i in range(len(self.agents)):\n",
    "            agent = self.agents[i]\n",
    "            private = privates[i]\n",
    "            agent.privates.append(private)\n",
    "            public = publics[i]\n",
    "            agent.publics.append(public)\n",
    "            others_average_public = sum([publics[j] for j in range(len(publics)) if j!=i]) / (self.configs[\"num_agents\"] - 1)\n",
    "            agent.others_average_publics.append(others_average_public)\n",
    "            payoff = private + public * (self.configs[\"r_NFT\"] * sNFT + self.configs[\"r_public\"] * sDAO) + (total_contributions - public) * self.configs[\"h_public\"] * sDAO\n",
    "        \n",
    "            if situation_messages:\n",
    "                agent.content = f\"After the allocation, you received {payoff}. Total of {total_contributions} were allocated to public accounts by all participants, where other participants contributed {total_contributions - public}. Historically, the total contributions to the public account is {self.total_contributions_record}, where each of other participants have chosen to allocate {agent.others_average_publics} (average level of other individual\\'s contribution) historically. {situation_messages['DAO']} {situation_messages['NFT']} Now, given this information, your demographics, and experiment settings, make your next decision on the allocation of 100 endowment to private and public account. You should explain your thought process and reasons of your decisions in detail and report the amount allocated to private and public account.\"\n",
    "                agent.receive_message()\n",
    "            else: \n",
    "                agent.content = f\"After the allocation, you received {payoff}. Total of {total_contributions} were allocated to public accounts by all participants, where other participants contributed {total_contributions - public}. Historically, the total contributions to the public account is {self.total_contributions_record}, where each of other participants have chosen to allocate {agent.others_average_publics} (average level of other individual\\'s contribution) historically. Now, given this information, your demographics, and experiment settings, make your next decision on the allocation of 100 endowment to private and public account. You should explain your thought process and reasons of your decisions in detail and report the amount allocated to private and public account.\"\n",
    "                agent.receive_message()\n",
    "            print(f\"agent {i} received feedback\")\n",
    "    \n",
    "\n",
    "def generate_demographics(demographics):\n",
    "    chosen_attributes = {}\n",
    "    for key in demographics:\n",
    "        if not key.endswith('_dist'):\n",
    "            dist_key = key + '_dist'\n",
    "            if dist_key in demographics:\n",
    "                choices = demographics[key]\n",
    "                probabilities = demographics[dist_key]\n",
    "                chosen = np.random.choice(choices, p=probabilities)\n",
    "                chosen_attributes[key] = chosen\n",
    "    return chosen_attributes\n",
    "\n",
    "    \n",
    "def extract_experiment_data(experiment):\n",
    "    agents_demographics = []\n",
    "    agents_rounds = []\n",
    "    total_contributions = experiment.total_contributions_record\n",
    "    configs = experiment.configs\n",
    "\n",
    "    for agent_id, agent in enumerate(experiment.agents):\n",
    "        agents_demographics.append({\n",
    "            'agent_id': agent_id,\n",
    "            'risk_preference': agent.risk_preference,\n",
    "            'gender': agent.gender,\n",
    "            'age': agent.age\n",
    "        })\n",
    "\n",
    "        num_rounds = len(agent.privates)\n",
    "        for round_num in range(num_rounds):\n",
    "            agents_rounds.append({\n",
    "                'agent_id': agent_id,\n",
    "                'round': round_num + 1,\n",
    "                'private': agent.privates[round_num],\n",
    "                'public': agent.publics[round_num],\n",
    "                'others_average_public': agent.others_average_publics[round_num],\n",
    "                'decision': agent.decisions[round_num] if len(agent.decisions) > round_num else None\n",
    "            })\n",
    "\n",
    "    agents_demographics_df = pd.DataFrame(agents_demographics)\n",
    "    agents_rounds_df = pd.DataFrame(agents_rounds)\n",
    "    total_contributions_df = pd.DataFrame({\n",
    "        'round': list(range(1, len(total_contributions) + 1)),\n",
    "        'total_contributions': total_contributions,\n",
    "        'sDAO': experiment.sDAOs,\n",
    "        'sNFT': experiment.sNFTs\n",
    "    })\n",
    "    configs_df = pd.DataFrame([configs])\n",
    "\n",
    "    return {\n",
    "        'agents_demographics': agents_demographics_df,\n",
    "        'agents_rounds': agents_rounds_df,\n",
    "        'total_contributions': total_contributions_df,\n",
    "        'configs': configs_df,\n",
    "    }\n"
   ]
  },
  {
   "cell_type": "markdown",
   "id": "88ec28be",
   "metadata": {},
   "source": [
    "# Control Experiment 1"
   ]
  },
  {
   "cell_type": "code",
   "execution_count": 74,
   "id": "a2c12ed8",
   "metadata": {},
   "outputs": [],
   "source": [
    "exp = Control(client, agent_key, config_C, demographics)"
   ]
  },
  {
   "cell_type": "code",
   "execution_count": 75,
   "id": "140094c2",
   "metadata": {
    "collapsed": true
   },
   "outputs": [
    {
     "name": "stdout",
     "output_type": "stream",
     "text": [
      "male 40 risk_neutral\n",
      "male 20 risk_averse\n",
      "male 50 risk_loving\n",
      "male 20 risk_loving\n"
     ]
    }
   ],
   "source": [
    "for agent in exp.agents:\n",
    "    print(agent.gender, agent.age, agent.risk_preference)"
   ]
  },
  {
   "cell_type": "code",
   "execution_count": 76,
   "id": "25d547e7",
   "metadata": {
    "collapsed": true
   },
   "outputs": [
    {
     "name": "stdout",
     "output_type": "stream",
     "text": [
      "agent 0 joined the experiment\n",
      "agent 1 joined the experiment\n",
      "agent 2 joined the experiment\n",
      "agent 3 joined the experiment\n"
     ]
    }
   ],
   "source": [
    "exp.start()"
   ]
  },
  {
   "cell_type": "code",
   "execution_count": 77,
   "id": "8872dc18",
   "metadata": {
    "collapsed": true
   },
   "outputs": [
    {
     "name": "stdout",
     "output_type": "stream",
     "text": [
      "agent 0 received instruction\n",
      "agent 1 received instruction\n",
      "agent 2 received instruction\n",
      "agent 3 received instruction\n"
     ]
    }
   ],
   "source": [
    "exp.give_instruction()"
   ]
  },
  {
   "cell_type": "code",
   "execution_count": 78,
   "id": "d5b82ce4",
   "metadata": {
    "collapsed": true
   },
   "outputs": [
    {
     "name": "stdout",
     "output_type": "stream",
     "text": [
      "Agent 0 round 1 decision\n",
      "Given that my risk is neutral and considering that there are other players whose actions I cannot control, I'm going to distribute half of my endowment to the private account and half to the public account. This allocation strategy aims to balance my direct personal gain with potential communal gains.\n",
      "\n",
      "The demographic information shows that I am a 40-years-old male with a risk-neutral outlook, implying that I do not have a distinct aversion or preference for risky situations. While I am interested in maximizing my personal gain, I must also consider that my contribution to the public account benefits everyone, including me.\n",
      "\n",
      "Assuming other participants may also feel a sense of cooperation or altruism, it is possible that they too will contribute to a public account. By doing so, they will indirectly increase my total return, even if my own private return will be reduced. According to the experiment setup, my return is calculated not just through my private account but also through contributions to the public account, both mine and other participants'.\n",
      "\n",
      "Hence, an allocation of 50 to my private account and 50 to the public account would be optimal for me in this case. This way, I ensure a minimum return from the private account and stand to gain additional returns from the communal pot. \n",
      "\n",
      "However, I will be keeping a close watch on how others are distributing their endowment in future rounds. If I notice that they are consistently contributing more to the private fund, I may revise my own strategy to add more to the private account for better returns. Conversely, if they are contributing higher amounts to the public account, I may lean towards a more cooperative stance and increase my allocation to the public account. As a risk-neutral participant, it's essential for me to remain flexible and adjust my strategy according to the group dynamics.\n",
      "\n",
      "\n",
      "Agent 1 round 1 decision\n",
      "Given my risk-averse nature, my initial instinct is to play it safe and allocate more to my private account, as I have control over the certain return. However, my returns also partially depend on the sum of the public accounts of the other participants, so there's still a degree of uncertainty involved even if I allot more to the private account. \n",
      "\n",
      "Considering the given return equation, private and public allocations have different weighing. Contribution to the private account returns 100% to me whereas contribution to the public account will be only half beneficial to me, yet half beneficial to everyone else. I need to balance my desire for personal gain with the higher collective return from the public account.\n",
      "\n",
      "With the prospect theory in mind, which asserts individuals perceive losses more significantly than gains, my risk aversion will motivate me to prevent losses in my private account. Therefore, I will put 60 scaled units in my private account, keeping it above the half of total endowment. \n",
      "\n",
      "The public account is where cooperative behaviour and trust come into the equation. Given that there are three other individuals in this experiment, if everyone contributes to the public fund, we can all benefit more than if we only allocated for our private accounts. To encourage cooperative behaviour and show my willingness for the same, I'll contribute the remaining 40 units to the public account.\n",
      "\n",
      "In giving more to my private account, I'm playing it relatively safe in light of my risk-averse nature and ensuring a definite return for myself. In contributing the remainder to the public account, I'm showing trust in the others and hoping to cultivate a mutually beneficial situation where we all gain more.\n",
      "\n",
      "\n",
      "Agent 2 round 1 decision\n",
      "Given my personal profile as a risk-loving individual, it means I have a strong preference for investment options with uncertain returns even if they may potentially provide larger gains or losses. I thus tend to allocate my resources to avenues that offer the possibility of earning higher returns, despite the risk involved.\n",
      "\n",
      "In deciding where to allocate my endowment between private and public accounts, I would assess the potential returns based on the calculation method provided. For the private account, all the allocation directly contributes to my return. For the public account, my allocation is matched to an extent by the sum of others' allocations, but the total is then halved which dilutes the impact of my contribution. \n",
      "\n",
      "Given these options and my risk-loving nature, my inclination is to lean heavily towards the private account, while still contributing to the public account to take advantage of the potential contributions from others. However, considering that there are three other individuals involved, and assuming rational behavior from the other participants, I cannot solely rely on their contributions to the public account for considerable returns.\n",
      "\n",
      "I would, therefore, allocate roughly 70 to the private account and 30 to the public account. It is a decision made to balance both taking advantage of potential higher returns from the private account, and the cooperative benefit that could result from the public account depending on the actions of the other individuals. \n",
      "\n",
      "To go into specifics, my private account allocation guarantees me a return of 70. My contribution to the public account is 30, and assuming the other participants also contribute at least 30 each, that's an additional 90 in the public account. Combining all contributions results in 120 which when halved, gives me an additional 60 for a total return of 130 which exceeds my initial endowment.\n",
      "\n",
      "Overall, my decision-making process involves considering both my personal risk preference, the guaranteed returns of the private account, and the potentially cooperative returns of the public account, while also taking into account the behaviour of the other participants involved.\n",
      "\n",
      "\n",
      "Agent 3 round 1 decision\n",
      "Given both my personal characteristics and the experiment's settings, my initial inclination is to allocate a higher portion of my endowment towards my private account. The reason for this decision is twofold. \n",
      "\n",
      "Firstly, as a risk-loving individual, I am inherently more inclined to prioritize personal gain over stable returns, especially due to the uncertainty associated with the public account. The returns from the public account are dependent on the allocation choices of the other participants. Given that this is the first round, there is no prior information regarding the other participants' behaviors or strategies, therefore making it a gamble. \n",
      "\n",
      "Secondly, as a young individual, I might have a longer time horizon to recover from any potential losses. However, it's important not to forget about the public account entirely. Everyone's wallets, including mine, benefit when money is put into the public account thanks to the multiplicative effect.\n",
      "\n",
      "With these considerations in mind, I decide to allocate 70 of my endowment to my private account and the remaining 30 to the public account. This approach represents a balance between my preference towards risk and uncertainty, and diversifying my return sources via the public account. By investing a substantial portion into my private account, I can ensure a guaranteed return, and simultaneously take advantage of the partial mutual benefits from the public account. \n",
      "\n",
      "As the experiment progresses, I'll adjust my allocation based on observed behaviours of other participants in subsequent rounds.\n",
      "\n",
      "\n"
     ]
    }
   ],
   "source": [
    "exp.decision_round()"
   ]
  },
  {
   "cell_type": "code",
   "execution_count": 79,
   "id": "bc99499c",
   "metadata": {
    "collapsed": true
   },
   "outputs": [
    {
     "name": "stdout",
     "output_type": "stream",
     "text": [
      "agent 0 received feedback\n",
      "agent 1 received feedback\n",
      "agent 2 received feedback\n",
      "agent 3 received feedback\n"
     ]
    }
   ],
   "source": [
    "privates = [50, 60, 70, 70]\n",
    "publics = [50, 40, 30, 30]\n",
    "exp.give_feedback(privates, publics)"
   ]
  },
  {
   "cell_type": "code",
   "execution_count": 80,
   "id": "1b9fc292",
   "metadata": {
    "collapsed": true
   },
   "outputs": [
    {
     "name": "stdout",
     "output_type": "stream",
     "text": [
      "Agent 0 round 2 decision\n",
      "Given the results from the first round, it appears that there is a fairly high level of cooperation among participants, with an average contribution of around 33.3 to the public account. This resulted in me earning a return of 125, which exceeds my initial endowment, demonstrating the collective benefit of contributing to the public account.\n",
      "\n",
      "While my risk neutrality means that I do not overly favor either risk or safety, this current dynamic seems favorable. Contributing to the public account led to a significant return, which indicates a trend of cooperative behavior among the participants.\n",
      "\n",
      "However, although the first round was successful, I want to mitigate the risk of other participants changing their strategy as the experiment progresses. To ensure a balance between personal and collective gain, I'll modify my allocation slightly. I'll increase my allocation to the private account, ensuring a definite return, while still contributing a substantial amount to the public account to maintain collective benefit.\n",
      "\n",
      "I'll split my endowment putting 60 into the private account and 40 into the public account. This shift allows a more significant sure return for me, while still contributing to the benefits we all receive from the public account.\n",
      "\n",
      "My rationale is centered on maintaining a balance between my personal assurance (private account) and our collective benefit (public account). This balance hinges on my middle-ground, risk-neutral disposition. I will adjust this balance, based on the group's actions in future rounds, to optimize my returns.\n",
      "\n",
      "\n",
      "Agent 1 round 2 decision\n",
      "With 110 being contributed by the others and a total of 150 in the public account, this means that, as I anticipated, the other participants also contributed relatively generously to the public account. It appears that we've reached an initial level of mutual cooperation, with everyone contributing more than a third of their endowment to the public account. This makes me feel more assured about the intention of other participants to foster cooperation. \n",
      "\n",
      "However, I believe that being risk-averse, it is still essential for me to keep my allocation to the private account relatively high, to maintain that safety net of a sure gain. I will continue to assign a significant portion to my private account to manage the risk. Ignoring the integer part for now, the average level of contribution is approximately 36.67 per other participant. In light of this, I can enhance cooperation by increasing my public account allocation slightly without adding excessive risk.\n",
      "\n",
      "I will allocate 55 units, down from 60, to the private account which ensures a higher than half personal gain. The remaining 45 units, up from 40, will go to the public fund, which is a relatively larger contribution than the average. \n",
      "\n",
      "The decrease in my private account reflects my increased trust in the other participants and my willingness to further foster this cooperative behavior. The increase in my public account contribution demonstrates my hope that others will also incrementally increase their public account contributions, resulting in a mutually beneficial outcome for all of us- a collective gain.\n",
      "\n",
      "\n",
      "Agent 2 round 2 decision\n",
      "The allocation from last round provides me with some insight into the behavior and strategies of the other participants. They contributed more to the public account (average of 40 each) than I did (30), leading to a total public account allocation of 150. \n",
      "\n",
      "This suggests a level of cooperation amongst the participants in contributing to the shared pool. The return I received (145) is higher than my initial endowment because my individual allocation was boosted by the substantial joint contribution.\n",
      "\n",
      "Since the other participants are displaying a propensity to contribute more to the shared account, I will slightly adjust my allocation to take advantage of this. As a risk-loving participant, I still want to keep a good proportion of my endowment in the private account to cater for possible changes in the other participants' contribution strategies.\n",
      "\n",
      "Therefore, I will allocate 65 to the private account and 35 to the public account for this round. This is an increase of 5 into the public account from the last round, based on the observed behaviour of the other participants. I'm slightly increasing my risk, hoping for returns from cooperation, while still maintaining a substantial private allocation. \n",
      "\n",
      "If they continue with their trend of contributing more to the public account, my overall return should be increased due to the combined effect of my private account allocation and the half of the total in the public account. But if their contributions decrease, I still have an assured return from my private account, protecting my interests as well. \n",
      "\n",
      "I continue to make these calculations always considering both the potential returns at stake and the predicted behaviours of the other participants. This makes the process an interesting mix of both strategic thought and assessing human behaviour.\n",
      "\n",
      "\n",
      "Agent 3 round 2 decision\n",
      "Given the newly revealed information about the behavior of the other participants, several inferences and strategies can be deduced. The total sum allocated to the public account by all participants in the previous round was 150, with other participants contributing a total of 120. On average, each participant allocated around 40 to the public account. \n",
      "\n",
      "These figures indicate relatively high cooperation levels among the participants. Such cooperative behavior is beneficial to each of us, given that any contribution to the public account is multiplied and equally divided among all participants. \n",
      "\n",
      "However, the risk-loving part of my personality urges me not to put my entire endowment into the public account. Holding some amount in the private account guarantees some returns. Given the cooperative behavior observed, I am inclined to take a bit more risk this round to potentially gain more return from the public account. \n",
      "\n",
      "Given these details, my strategy for the next allocation would be to continue trusting the cooperative nature of the other participants but also provide for my guaranteed returns from my private account. Therefore, I decide to allocate 50 to my private account and 50 to the public account. \n",
      "\n",
      "This allocation keeps both my risk-loving nature and cooperative spirit satisfied. It fetches me guaranteed returns from my private account and depending on the continued cooperation of the other participants, also a substantial return from the public account. \n",
      "\n",
      "I would review this decision based on the performance of this round and the behavior of the other participants in the subsequent rounds.\n",
      "\n",
      "\n"
     ]
    }
   ],
   "source": [
    "exp.decision_round()"
   ]
  },
  {
   "cell_type": "code",
   "execution_count": 81,
   "id": "13eb28cd",
   "metadata": {
    "collapsed": true
   },
   "outputs": [
    {
     "name": "stdout",
     "output_type": "stream",
     "text": [
      "agent 0 received feedback\n",
      "agent 1 received feedback\n",
      "agent 2 received feedback\n",
      "agent 3 received feedback\n"
     ]
    }
   ],
   "source": [
    "privates = [60, 55, 65, 50]\n",
    "publics = [40, 45, 35, 50]\n",
    "exp.give_feedback(privates, publics)"
   ]
  },
  {
   "cell_type": "code",
   "execution_count": 82,
   "id": "50b4c5cf",
   "metadata": {
    "collapsed": true
   },
   "outputs": [
    {
     "name": "stdout",
     "output_type": "stream",
     "text": [
      "Agent 0 round 3 decision\n",
      "Seeing the result of the previous round, where other participants have increased their contribution to the public account, I am quite pleased with my decision to have increased my contribution to the private account while maintaining a smaller yet impactful allocation to the public account. \n",
      "\n",
      "Participants are showing a trend of increasing their contributions to the public account, which has increased my overall return to 145, significantly higher than my initial endowment. The average individual contribution to the public account has gone from 33.3 to 43.3, a growth of around 30%. This trend signifies a cooperative behavior among the participants, and it reflects that my strategy of balancing personal gain with collective benefit is working.\n",
      "\n",
      "Being risk-neutral, I am neither over-eager nor wary of taking risks. Given the cooperative dynamics observed in the previous rounds, I feel it is justified to maintain my allocation in the similar ratio. However, considering an increasing trend in public contribution by others, I want to take advantage of this situation to earn a potentially higher payoff from the public account. \n",
      "\n",
      "For these reasons, I will allocate a larger proportion to the public account in the next round. I'll allocate 50 to my private account and 50 to the public account. This adjustment aims to increase my return from the public account, as other participants seem to be upping their contributions. Please note that I retain some in the private account to ensure a minimum return.\n",
      "\n",
      "I'll continuously assess my allocation strategy based on the actions of other participants in future rounds, remaining flexible to maximize my return in both my private gain and our collective benefit.\n",
      "\n",
      "\n",
      "Agent 1 round 3 decision\n",
      "Seeing that the other participants increased their contributions and the collective return from the public account is thus increased, I'm glad that my decision to increase my public account contribution had a positive effect and was reciprocated. This builds trust within the group and encourages further cooperation which is beneficial to everyone involved.\n",
      "\n",
      "However, as a risk-averse person, I'm careful not to be too influenced by this outcome and neglect the importance of the secure return from my private account. I will still maintain a significant allocation to my private account as a way to mitigate risk and ensure a steady personal return. \n",
      "\n",
      "Coming back to the choices, since other participants seem to be increasing their contribution by an average of 5 units, I want to match their cooperativeness while protecting my interests. I'm pleased with the slightly higher return in the last round, so I plan to keep the same strategy. Having seen that the other participants are also interested in collaborating, I observe that our collective decisions have led to progressively increased returns, which proves that cooperation is mutually advantageous.\n",
      "\n",
      "Therefore, my decision is to continue with my previous allocation: 55 units to the private account and 45 units to the public account. This approach will continue to champion cooperation while safeguarding my own profit. I hope the other participants will maintain their trend as well, leading to further collective benefit.\n",
      "\n",
      "\n",
      "Agent 2 round 3 decision\n",
      "According to the new data, the trend of increasing contributions to the public account by other participants continues, with the historical average rising from 40 to 45, which led to 170 total allocation to the public account in the last round and a return of 150 for me. Given that I am risk-loving to some extent, and considering the consistent pattern of behavior from the other participants, I can make a strategic adjustment in my allocations.\n",
      "\n",
      "In this round, I will allocate 60 to my private account and 40 to the public account. By doing this, I'm shifting more of my endowment into the public account compared to previous rounds. This decision is driven by my observation of the other participants' behaviour, specifically their consistent contributions to the public account. I'm taking on more risk by reducing my secure return from the private account, but the potential upside from the public participation is high given the observed trends. \n",
      "\n",
      "By reducing my private account allocation, I'm increasing the lift-along effect I get from the other participants' public account contributions. If their trend continues, this increased exposure to the public account will mean higher total returns for me. It's a strategic decision to expose myself to more risk, with the expectation of a higher return, rooted in the continuing cooperative behaviour of the other participants. \n",
      "\n",
      "Though there's a risk that the trend might change, considering my risk-loving nature, I'm willing to take this chance, since the potential rewards if the trend continues justify the increased risk.\n",
      "\n",
      "\n",
      "Agent 3 round 3 decision\n",
      "Analyzing the information given, I can see that other participants hold relatively consistent behavior patterns. In both rounds, each participant, on average, contributed 40 to the public account. This suggests a level of predictability in their conduct.\n",
      "\n",
      "Despite my increased allocation towards the public account in the second round, there was a slight decrease in my total returns. This was due to an increase in total public contributions - which diluted the shared return - combined with my reduction of guaranteed returns from my private account.\n",
      "\n",
      "However, the continued cooperativeness of other participants and my previously expressed risk-loving attitude lead me to consider maintaining the 50-50 allocation strategy.\n",
      "\n",
      "Yet, as a strategic decision, I could choose to possibly exploit the predictable and consistent behaviour of the others. Assuming other participants continue their trend of contributing about 40 each to the public account, an increase in my private account could potentially maximize my total returns.\n",
      "\n",
      "Taking all these considerations into account, I am inclined to allocate 60 to my private account - therefore guaranteeing a higher certain return - and 40 to the public account; to continue benefitting albeit less from the multiplier effect.\n",
      "\n",
      "This strategy aims to maximize my certain return while still participating reasonably in the shared, public return. As with previous rounds, I'll continue to adapt my strategy based on the observed behavior of other participants.\n",
      "\n",
      "\n"
     ]
    }
   ],
   "source": [
    "exp.decision_round()"
   ]
  },
  {
   "cell_type": "code",
   "execution_count": 83,
   "id": "df283555",
   "metadata": {
    "collapsed": true
   },
   "outputs": [
    {
     "name": "stdout",
     "output_type": "stream",
     "text": [
      "agent 0 received feedback\n",
      "agent 1 received feedback\n",
      "agent 2 received feedback\n",
      "agent 3 received feedback\n"
     ]
    }
   ],
   "source": [
    "privates = [50, 55, 60, 60]\n",
    "publics = [50, 45, 40, 40]\n",
    "exp.give_feedback(privates, publics)"
   ]
  },
  {
   "cell_type": "code",
   "execution_count": 84,
   "id": "56e01b2d",
   "metadata": {
    "collapsed": true
   },
   "outputs": [
    {
     "name": "stdout",
     "output_type": "stream",
     "text": [
      "Agent 0 round 4 decision\n",
      "After evaluating the results of the last round, where the combined total contribution to the public account has increased but individual contributions have decreased slightly, my overall return has also decreased slightly to 137.5. This tells me that while the group as a whole is becoming more cooperative, some individuals are likely contributing less to the public account. Essentially, the growing overall contribution to the public account is probably being driven by a few participants rather than an overall increase in public contributions,\n",
      "\n",
      "Despite this, my return is still quite substantial and exceeds my initial endowment of 100, indicating that the strategy of maintaining a balance between my private account and the public account remains effective.\n",
      "\n",
      "Being risk-neutral, I tend to prefer a balanced approach. Given the upward trajectory in overall public contribution, albeit with minor fluctuations in individual contributions, I will once again aim to optimize between the certainty of my private gains and the communal benefits from the public account. However, observing the slight dip in the last round, I'll lean a bit more towards my private account to safeguard against possibly larger fluctuations in the future.\n",
      "\n",
      "So, I will allocate 60 to my private account and 40 to the public account. This approach ensures an adequate personal return while still contributing towards communal returns. I will also keep observing other participants' behavior in the next rounds to further fine-tune my allocation strategy as the experiment progresses.\n",
      "\n",
      "\n",
      "\n",
      "Agent 1 round 4 decision\n",
      "The trend of increasing contributions to the public account and positive reciprocity of cooperative behavior by all participants continues. I also observed a further increase in my personal return this time, which aligns with the strategy of encouraging cooperation that I've been pursuing.\n",
      "\n",
      "Despite seeing these positive trends, I must remember I have a risk-averse nature and should not hastily shift a significant greater proportion of my endowment to the public account, since the return there is less within my control.\n",
      "\n",
      "Analyzing the behavior of others, there is a gentle increase in average allocation to the public account by approximately 2 units each round. Matching this trend, I can further reciprocate the cooperative behavior while still maintaining a considerable portion in my private account for a secure return.\n",
      "\n",
      "Therefore, I will opt to decrease my private account contribution to 53 units and increase my public account contribution to 47 units. This decision keeps major portion of my endowment in the secure private account, aligning with my risk-averse nature, while also extending my cooperation by contributing more to the public account, exhibiting trust and encouraging communal benefit.\n",
      "\n",
      "\n",
      "Agent 2 round 4 decision\n",
      "The feedback from the previous round shows consistency in the other participants' contributing behavior, with the average contribution staying at 45. The total public fund increased to 175 primarily due to my increased contribution in the last round. My return dipped slightly to 147.5 since my investment in the private account (which guarantees me returns) was lowered.\n",
      "\n",
      "Given that the investing behaviour of the other participants appears predictable and cooperative, I will maintain my strategy from the previous round. My risk-loving nature and the observed trend encourages me to keep a significant portion in the public account.\n",
      "\n",
      "Thus, my decision will be to allocate 60 to the private account and 40 to the public account, just like I did in the previous round.\n",
      "\n",
      "Maintaining this allocation allows me to continue to take advantage of the contributions to the public account by the other participants and keep assurance of a certain return from my private account investment. Even though my last round return was slightly reduced compared to the one before, the potential gains from cooperation make it worthwhile for a risk-loving individual like myself.\n",
      "\n",
      "This chosen allocation illustrates a balance between taking on risk for potential high returns from the public account, and assurance of fixed returns from the private account. It continues my strategy of focusing on favorable returns from shared contributions while still having a guardrail in place for protection against unexpected changes in the other participants' behavior.\n",
      "\n",
      "\n",
      "Agent 3 round 4 decision\n",
      "Considering the trajectory of public contributions so far, other participants have gradually increased their allocations to the public account from an average of 40 to 45. This newfound cooperative behavior results in increased collective returns. \n",
      "\n",
      "My return has increased in this round from the previous round, largely due to my decision to shift a bit more of my endowment to my private account, making full use of the personal direct payoff and the predictable behavior of the other participants. This change in strategy served me well as it optimized my allocation for a higher payout.\n",
      "\n",
      "However, given that other participants have shown a trend of increasing their contributions to the public account, I too should consider upping my public contribution slightly to not miss out on potential larger multiplied returns. It seems the others are demonstrating a balance between self-interest and collective benefit. Standing on the sidelines could result in me losing out on an emerging pattern of raised communal returns.\n",
      "\n",
      "Therefore, while still maintaining a higher allocation to my private account for guaranteed returns, I will increase the public component of my allocation to accommodate the newfound increase in average contributions from other participants.\n",
      "\n",
      "Specifically, I will now allocate 55 to my private account and 45 to the public account. This decision still places some weight on personal certainty due to my risk-loving nature, but also respects the trend of higher cooperation from other participants, of which I stand to benefit as well.\n",
      "\n",
      "As always, subsequent rounds and observed behaviour changes will influence future allocations.\n",
      "\n",
      "\n"
     ]
    }
   ],
   "source": [
    "exp.decision_round()"
   ]
  },
  {
   "cell_type": "code",
   "execution_count": 85,
   "id": "aa49e3a5",
   "metadata": {
    "collapsed": true
   },
   "outputs": [
    {
     "name": "stdout",
     "output_type": "stream",
     "text": [
      "agent 0 received feedback\n",
      "agent 1 received feedback\n",
      "agent 2 received feedback\n",
      "agent 3 received feedback\n"
     ]
    }
   ],
   "source": [
    "privates = [60, 53, 60, 55]\n",
    "publics = [40, 47, 40, 45]\n",
    "exp.give_feedback(privates, publics)"
   ]
  },
  {
   "cell_type": "code",
   "execution_count": 86,
   "id": "ac068928",
   "metadata": {
    "collapsed": true
   },
   "outputs": [
    {
     "name": "stdout",
     "output_type": "stream",
     "text": [
      "Agent 0 round 5 decision\n",
      "The results from the last round demonstrate an increase in my total return to 146, slightly higher than the previous round. Interestingly, there was a rather small increase in the total contributions to the public account, but an increase in the average individual contribution from other participants, moving from around 41.67 to 44.\n",
      "\n",
      "This might indicate a couple of things. First, it suggests that participants are keeping their contribution to public account somewhat consistent. Second, it might also suggest that participants are also trying to maintain a balance between their private and public accounts in a way that maximizes returns, just like I am doing.\n",
      "\n",
      "As a risk-neutral participant, I'm willing to adjust my investment strategy based on the observed behavior of other participants. Considering the slight increase in average individual contributions to the public account from my peers, I will slightly increase my contribution to the public account this round, showing a bit of cooperative trust. To maintain a balance, I will allocate 55 to my private account and 45 to the public account.\n",
      "\n",
      "This allocation allows me to maintain a significant personal return while riding on the increased returns due to others' investments in the public account. I will continue to observe participants' behavior moving forward and adjust my contributions accordingly to optimize my returns without taking on excessive risk.\n",
      "\n",
      "\n",
      "Agent 1 round 5 decision\n",
      "I notice that the collective contribution to the public account has slightly decreased this round, and consequently, my return has also slightly decreased. This could be a normal fluctuation, or it could signal the start of reduction in cooperative behaviour among the participants. Regardless of the reasoning, it re-emphasises the importance of maintaining a significant allocation to the private account due to its certainty of return.\n",
      "\n",
      "Seeing this decrease in total public contribution, I reckon that the cooperative trend may not be upheld if I continue to increase my public account allocation. It seems I've reached a point where increasing the money pooled could lead to diminishing returns for me as the contributions from the others might not follow.\n",
      "\n",
      "In light of this development, and considering that I'm risk-averse, I will fall back slightly and increase my allocation to the private account to ensure a sure return. This decision not only aligns with my inherent risk aversion but also responds to the change in group behavior.\n",
      "\n",
      "So, for this round, I will choose to contribute 56 units to the private account, and the remaining 44 units to the public account. This adjustment will slightly increase my assured return while still maintaining a good level of cooperative behaviour and trust in the group dynamics.\n",
      "\n",
      "\n",
      "Agent 2 round 5 decision\n",
      "Reviewing the most recent round, it’s evident there was a slight decrease in other participants' total contribution to the public account (from 135 to 132) for the first time. My current allocation and the other participants' behavior gave me a return of 146, which is a small decline.\n",
      "\n",
      "Given my risk-loving behaviour, I want to keep a certain amount of endowment in the private account for guaranteed returns and stake more in the public account to leverage the potential contribution from others for increased returns. However, considering the slight decrease in their contribution, I should adjust my allocation to account for the possibility of a trend change.\n",
      "\n",
      "Therefore, for this round, I've decided to allocate 65 to the private account and 35 to the public account. By reducing my exposure to the public account by 5, I aim to limit the potential risk of a declining trend in other participants' contributions to the public account. At the same time, by keeping a substantial portion in the public account, I am banking on their historical cooperative behaviour.\n",
      "\n",
      "My approach is to balance the potential risks and rewards, based on the behaviour of the other participants, and my own preferences as a risk-lover participant. By doing so, I can cater to the variations in participants' contributions and adjust my allocation while still seeking out potential opportunities for high returns.\n",
      "\n",
      "\n",
      "Agent 3 round 5 decision\n",
      "Analyzing past data, it appears the total contribution to the public account slightly decreased in the last round, with other participants contributing 127 compared to the previous 135. Hence, the average contribution fell from 45 to around 42.3. My returns also showed a small decrease from 147.5 to 141.0. \n",
      "\n",
      "The decrease in contributions to the public account indicates a level of unpredictability introduced into the experiment. Though the decrease is not very substantial, it requires me to reconsider the trend of increasing cooperative behavior previously identified.\n",
      "\n",
      "Given that I am somewhat risk-loving, it seems suitable to balance the scales and allocate more towards my private account, assuring a certain return, whilst maintaining a substantial allocation to the public account to continue benefitting from the multiplier effect.\n",
      "\n",
      "With the slight unpredictability in the other participants' allocation, I feel safer putting slightly more into my private account this round. Therefore, I decide to allocate 60 to my private account and 40 to the public account. \n",
      "\n",
      "This decision is intended to shield against potential irregularities in other participants' behavior while still taking advantage of the multiplier effect associated with the public account. As usual, subsequent decisions will be shaped by observed trends and behaviors in the upcoming rounds.\n",
      "\n",
      "\n"
     ]
    }
   ],
   "source": [
    "exp.decision_round()"
   ]
  },
  {
   "cell_type": "code",
   "execution_count": 87,
   "id": "a78bcbd6",
   "metadata": {
    "collapsed": true
   },
   "outputs": [
    {
     "name": "stdout",
     "output_type": "stream",
     "text": [
      "agent 0 received feedback\n",
      "agent 1 received feedback\n",
      "agent 2 received feedback\n",
      "agent 3 received feedback\n"
     ]
    }
   ],
   "source": [
    "privates = [55, 56, 65, 60]\n",
    "publics = [45, 44, 35, 40]\n",
    "exp.give_feedback(privates, publics)"
   ]
  },
  {
   "cell_type": "code",
   "execution_count": 93,
   "id": "6afb663f",
   "metadata": {
    "collapsed": true
   },
   "outputs": [
    {
     "data": {
      "text/plain": [
       "{'agents_demographics':    agent_id risk_preference gender  age\n",
       " 0         0    risk_neutral   male   40\n",
       " 1         1     risk_averse   male   20\n",
       " 2         2     risk_loving   male   50\n",
       " 3         3     risk_loving   male   20,\n",
       " 'agents_rounds':     agent_id  round  private  public  others_average_public  \\\n",
       " 0          0      1       50      50              33.333333   \n",
       " 1          0      2       60      40              43.333333   \n",
       " 2          0      3       50      50              41.666667   \n",
       " 3          0      4       60      40              44.000000   \n",
       " 4          0      5       55      45              39.666667   \n",
       " 5          1      1       60      40              36.666667   \n",
       " 6          1      2       55      45              41.666667   \n",
       " 7          1      3       55      45              43.333333   \n",
       " 8          1      4       53      47              41.666667   \n",
       " 9          1      5       56      44              40.000000   \n",
       " 10         2      1       70      30              40.000000   \n",
       " 11         2      2       65      35              45.000000   \n",
       " 12         2      3       60      40              45.000000   \n",
       " 13         2      4       60      40              44.000000   \n",
       " 14         2      5       65      35              43.000000   \n",
       " 15         3      1       70      30              40.000000   \n",
       " 16         3      2       50      50              40.000000   \n",
       " 17         3      3       60      40              45.000000   \n",
       " 18         3      4       55      45              42.333333   \n",
       " 19         3      5       60      40              41.333333   \n",
       " \n",
       "                                              decision  \n",
       " 0   Given that my risk is neutral and considering ...  \n",
       " 1   Given the results from the first round, it app...  \n",
       " 2   Seeing the result of the previous round, where...  \n",
       " 3   After evaluating the results of the last round...  \n",
       " 4   The results from the last round demonstrate an...  \n",
       " 5   Given my risk-averse nature, my initial instin...  \n",
       " 6   With 110 being contributed by the others and a...  \n",
       " 7   Seeing that the other participants increased t...  \n",
       " 8   The trend of increasing contributions to the p...  \n",
       " 9   I notice that the collective contribution to t...  \n",
       " 10  Given my personal profile as a risk-loving ind...  \n",
       " 11  The allocation from last round provides me wit...  \n",
       " 12  According to the new data, the trend of increa...  \n",
       " 13  The feedback from the previous round shows con...  \n",
       " 14  Reviewing the most recent round, it’s evident ...  \n",
       " 15  Given both my personal characteristics and the...  \n",
       " 16  Given the newly revealed information about the...  \n",
       " 17  Analyzing the information given, I can see tha...  \n",
       " 18  Considering the trajectory of public contribut...  \n",
       " 19  Analyzing past data, it appears the total cont...  ,\n",
       " 'total_contributions':    round  total_contributions  sDAO  sNFT\n",
       " 0      1                  150     1     1\n",
       " 1      2                  170     1     1\n",
       " 2      3                  175     1     1\n",
       " 3      4                  172     1     1\n",
       " 4      5                  164     1     1,\n",
       " 'configs':    rounds  num_agents  endowment  r_NFT  r_public  h_public  p(s_DAO=1)  \\\n",
       " 0       5           4        100   0.25      0.25       0.5           1   \n",
       " \n",
       "    p(s_NFT=1) group  \n",
       " 0           1  None  }"
      ]
     },
     "execution_count": 93,
     "metadata": {},
     "output_type": "execute_result"
    }
   ],
   "source": [
    "data = extract_experiment_data(exp)\n",
    "time_stamp = datetime.now()\n",
    "group = \"control\"\n",
    "pickle.dump(data, open(f\"results/{group}_{time_stamp}.pkl\", 'wb'))\n",
    "data"
   ]
  },
  {
   "cell_type": "code",
   "execution_count": 94,
   "id": "2f10de6e",
   "metadata": {
    "collapsed": true
   },
   "outputs": [
    {
     "name": "stdout",
     "output_type": "stream",
     "text": [
      "agent 0 left the experiment\n",
      "agent 1 left the experiment\n",
      "agent 2 left the experiment\n",
      "agent 3 left the experiment\n"
     ]
    }
   ],
   "source": [
    "exp.end()"
   ]
  },
  {
   "cell_type": "markdown",
   "id": "e76b58df",
   "metadata": {},
   "source": [
    "# Treatment1 Experiment 1"
   ]
  },
  {
   "cell_type": "code",
   "execution_count": 100,
   "id": "edd85be3",
   "metadata": {},
   "outputs": [],
   "source": [
    "exp = Treatment1(client, agent_key, config_T1, demographics)"
   ]
  },
  {
   "cell_type": "code",
   "execution_count": 102,
   "id": "72fc0a44",
   "metadata": {
    "collapsed": true
   },
   "outputs": [
    {
     "name": "stdout",
     "output_type": "stream",
     "text": [
      "male 50 risk_averse\n",
      "male 30 risk_loving\n",
      "male 50 risk_loving\n",
      "male 20 risk_neutral\n"
     ]
    }
   ],
   "source": [
    "for agent in exp.agents:\n",
    "    print(agent.gender, agent.age, agent.risk_preference)"
   ]
  },
  {
   "cell_type": "code",
   "execution_count": 103,
   "id": "6f3d33fb",
   "metadata": {
    "collapsed": true
   },
   "outputs": [
    {
     "name": "stdout",
     "output_type": "stream",
     "text": [
      "agent 0 joined the experiment\n",
      "agent 1 joined the experiment\n",
      "agent 2 joined the experiment\n",
      "agent 3 joined the experiment\n"
     ]
    }
   ],
   "source": [
    "exp.start()"
   ]
  },
  {
   "cell_type": "code",
   "execution_count": 104,
   "id": "df5df002",
   "metadata": {
    "collapsed": true
   },
   "outputs": [
    {
     "name": "stdout",
     "output_type": "stream",
     "text": [
      "agent 0 received instruction\n",
      "agent 1 received instruction\n",
      "agent 2 received instruction\n",
      "agent 3 received instruction\n"
     ]
    }
   ],
   "source": [
    "exp.give_instruction()"
   ]
  },
  {
   "cell_type": "code",
   "execution_count": 105,
   "id": "e222479c",
   "metadata": {
    "collapsed": true
   },
   "outputs": [
    {
     "name": "stdout",
     "output_type": "stream",
     "text": [
      "Agent 0 round 1 decision\n",
      "Given all the details provided and according to my risk-averse disposition, I'm inclined to consider both the potential risks and the potential benefits more carefully when I make my decisions.\n",
      "\n",
      "Firstly, let's analyze the private account. The return from the private account is a certain amount. It's not clear whether it's a fixed return or variable, but either way it only benefits me and is unaffected by the actions of others. This option is attractive to me, given my risk-averse nature, as it provides stability and predictability.\n",
      "\n",
      "On the contrary, the public account has more variables. The return from the public account will be divided among everyone, which means my actions can influence everyone else's returns and vice versa. The public returns can be from the DAO, if it does not crash, or from the NFTs I might receive. However, both returns are determined by the chance and are not guaranteed. The risk of DAO crashing and the unpredictability of the NFT return could potentially lead to a loss.\n",
      "\n",
      "Additionally, the DAO's performance and the NFT returns are closely tied to the status of the cryptocurrency market, which is known for volatility. This introduces another level of uncertainty and risk.\n",
      "\n",
      "Despite my reservations, however, I also have to consider the fact that allocating funds to the public account will lead to potential higher returns if the probabilistic scenarios turn out to be favorable. Furthermore, contributing to the public account exhibits a cooperative behavior which might indirectly influence others' decisions to also contribute, thus mutually benefiting all participants.\n",
      "\n",
      "Given my risk-averse nature, I would allocate a larger proportion of the endowment to the private account while still allocating a smaller portion to the public account. This strategy aims to achieve a balance between surety and potential high returns, while displaying a willingness to cooperate with the other players in the experiment.\n",
      "\n",
      "Let's assume I decide to allocate 70% to the private account and 30% to the public account. This gives:\n",
      "\n",
      "- Private account: 70 (70% of 100)\n",
      "- Public account: 30 (30% of 100)\n",
      "\n",
      "That's my first allocation decision. As the experiment progresses, I would observe the outcomes and then adjust my allocations accordingly.\n",
      "\n",
      "\n",
      "Agent 1 round 1 decision\n",
      "Analyzing the data provided, my thought process resolves around the risk and reward model. As a risk_loving male, I will be inclined to take a more aggressive investing approach. However, those decisions must also be balanced by a sense of economic sensibility. \n",
      "\n",
      "Considering the potential returns from the private account would be mine alone, the certainty of these returns would usually tilt me towards placing more allocation in this account. However, the added factor of risk with public account also introduces an element of chance - returns from the NFTs and a larger pool of funds offering the possibility of greater rewards. These returns, though prone to the DAO's failure, can be fruitful given the risk component.\n",
      "\n",
      "Keeping this in mind, it's evident to split the allocation between private and public accounts not evenly. Rather, I would look to balance the allocation considering the risk-loving nature, potential returns and economic sensibility.\n",
      "\n",
      "A quick calculation suggests the returns are directly proportional to the risk and the love for such risk. Given an endowment of 100 each round, I'd allocate 60 to the private account. This ensures stable growth and safeguards a majority of my investment. \n",
      "\n",
      "The remaining 40 would be allocated to the public account. Contributions to the public account carry a sense of the unknown - the DAO could crash, or the NFT could fail to pay out, but there is also potential for a substantial return, and my risk-loving nature means that is a chance I am willing to take.\n",
      "\n",
      "Decisions like these are finely balanced. It’s about maximizing potential returns while cushioning potential falls. Given the scenario, my risk-loving nature, and the economic sense, the 60-40 ratio seems to be a balanced plan of action.\n",
      "\n",
      "\n",
      "Agent 2 round 1 decision\n",
      "Given the detailed settings and my demographic information, I would first consider my age and risk tolerance. As a 50-year-old male who appreciates some level of risk, I can afford to allocate a considerable amount of my endowment to the public account. Additionally, since the returns from the public account are influenced by both the NFT and the actions of others, this presents an opportunity to leverage collective gains which could potentially exceed the returns from my private account.\n",
      "\n",
      "However, factors such as the uncertain performance of the DAO and the overall risk of the public returns must also be considered. As the performance of the DAO could crash and result in no public benefits, it would also be wise to allocate a substantial portion of the endowment to the private account. Keeping all these aspects in mind, my risk-loving nature encourages me to contribute more to the public account hoping for higher returns, but there is a limit to this risk addition considering the possible zero returns.\n",
      "\n",
      "Given the 0.5 probability for both positive outcomes of r_NFT, r_public, and h_public, on average, I expect to see some returns from the public investment. However, these returns are not guaranteed.\n",
      "\n",
      "Considering all the above, I would choose to allocate 60 out of 100 to the private account and the remaining 40 to the public account. This means I have a secure base return from my private account, while still potentially benefiting from collaborative gains and a lucky NFT payout. This allocation provides a balanced strategy given my comfort with risk and the possible rewards from public account returns.\n",
      "\n",
      "\n",
      "Agent 3 round 1 decision\n",
      "Taking into account the given details of the experiment, my main consideration includes the returns from the private and public accounts, as well as the risks involved, in particular, the potential for the Decentralized Autonomous Organization (DAO) to crash and generate no benefits.\n",
      "\n",
      "Given that I'm risk neutral to some extent, I don't shy away from risk entirely but also don't seek unnecessary risk.\n",
      "\n",
      "Allocating an amount to the private account guarantees returns only to me. On the other hand, allocating to the public account provides a return to everyone, but with an added risk of a DAO crash. However, when the DAO doesn't crash, the returns from public account could be greater than private account due to the possible NFT return.\n",
      "\n",
      "Decision: \n",
      "\n",
      "Thus, for a balanced approach, I will allocate 50 to the private account and 50 to the public account. \n",
      "\n",
      "Reasoning:\n",
      "\n",
      "Allocating 50 to private account is to secure a guaranteed return for me and act as a cushion against the risk associated with the public account.\n",
      "\n",
      "Allocating 50 to the public account is aiming for a potentially higher combined return (r_public, h_public, and possibly r_NFT) but accepting the fact that there is a risk attached (i.e., failure of the DAO or a null r_public/NFT). This allocation tries to contribute to the collective cause and possibly gain from its benefits. However, due to the risk involved, I am allocating an amount that I would be willing to lose, in case the DAO crashes.\n",
      "\n",
      "This balanced approach seems to be advantageous given my risk-neutrality and the random nature of returns from the accounts. It is important to remember that this allocation decision might change in subsequent rounds, based on what I observe and learn about the DAO stability and the realized returns from both accounts.\n",
      "\n",
      "\n"
     ]
    }
   ],
   "source": [
    "exp.decision_round()"
   ]
  },
  {
   "cell_type": "code",
   "execution_count": 106,
   "id": "ad41fe01",
   "metadata": {
    "collapsed": true
   },
   "outputs": [
    {
     "name": "stdout",
     "output_type": "stream",
     "text": [
      "agent 0 received feedback\n",
      "agent 1 received feedback\n",
      "agent 2 received feedback\n",
      "agent 3 received feedback\n"
     ]
    }
   ],
   "source": [
    "privates = [70, 60, 60, 50]\n",
    "publics = [30, 40, 40, 50]\n",
    "exp.give_feedback(privates, publics)"
   ]
  },
  {
   "cell_type": "code",
   "execution_count": 107,
   "id": "de7fc870",
   "metadata": {
    "collapsed": true
   },
   "outputs": [
    {
     "name": "stdout",
     "output_type": "stream",
     "text": [
      "Agent 0 round 2 decision\n",
      "Given the result from the previous round, I can observe several points:\n",
      "\n",
      "1. My strategy worked out fairly well as I gained a handsome return of 210.0. \n",
      "2. DAO is currently functioning well, and the contributions were effectively converted into the public good, benefiting everyone.\n",
      "3. Other players are also opting for a cooperative approach as the total contributed to the public account is significant (160 with my contribution, implying that others have contributed a sizable 130). This strengthens my belief in maintaining a certain contribution level to the public account for the mutual benefit of all.\n",
      "4. The failure to receive a private return through NFT is a bit disappointing, but not a shock. Since returns from NFTs were always probabilistic, there was always a given likelihood of such an outcome. \n",
      "\n",
      "To maintain a balanced approach between the cooperative dynamic and my inherent risk aversion, I will continue on the same track as the previous round but with slight adjustments due to the cooperative behavior exhibited by other participants and the well-functioning DAO.\n",
      "\n",
      "Given that other participants are contributing more than I initially expected (an average of approximately 43.33 versus my own initial contribution of 30), it’s clear to me that there's a high level of cooperative behavior among the group. Recognizing this and the factor that the DAO is functioning effectively, I will raise my contribution to the public account slightly to align more with the group behavior and due to the boosted return observed in the previous round.\n",
      "\n",
      "Simultaneously, to be mindful of my risk-averse nature, I’ll continue to allocate a substantial portion to the private account to ensure a certain return.\n",
      "\n",
      "Hence, for the next decision, I propose the following allocation:\n",
      "\n",
      "- Private account: 60 (60% of 100)\n",
      "- Public account: 40 (40% of 100)\n",
      "\n",
      "This allocation respects my risk-averse nature and reflects my willingness to cooperate and adapt over time based on group behavior and market (DAO and NFT) responses.\n",
      "\n",
      "\n",
      "Agent 1 round 2 decision\n",
      "Based on the recent turn of events, it appears that the risks associated with contributing to the public account through the DAO have presented themselves quite evidently. Despite the allocation to public account, no private return was acquired via the NFT, generating no additional benefit beyond the current public good benefit that was already expected. \n",
      "\n",
      "Given these results, whilst I still maintain my risk_loving tendencies as a 30 years old male, it would seem prudent to reassess the allocation ratios slightly. The total contribution by the other participants appears to be steadily symmetrical with an average of 40, which while not particularly high, does contribute to the total public goods we all benefit from.\n",
      "\n",
      "Despite the fact that the DAO is in proper functioning order, the uncertainty involving the returns, specifically linked to the NFTs, makes me consider lowering my allocation to the Public Account just to minimize my exposure slightly. \n",
      "\n",
      "A more careful strategy would be to put a bit more to the private account, given that the return on it is solely mine, ensuring a steady growth for my endowment. After considering these, my allocation would now lean a bit more towards the private account. A suggested 70-30 division would be my choice.\n",
      "\n",
      "So, I'd allocate 70 to my private account, ensuring a more secure growth and the remaining 30 will go to the public account. Even though the public account has some risks, part of me still wants to participate in possible high returns, in accordance with my risk-loving preference. This way, I believe I will have balanced my risk-taking behavior with economic sensibility.\n",
      "\n",
      "\n",
      "Agent 2 round 2 decision\n",
      "Firstly, I must note that the returns I observed in the previous round were closer to my expectations than predicted. The 40 that was allocated to the public account resulted in combined public benefit. It also seems that the other participants also contributed a combined total of 120 to the public account, which suggests a similar line of thinking.\n",
      "\n",
      "However, the NFT return was not realized, and this affirms the 50% probability of its occurrence. So, overall, the public account provided a satisfactory level of return, but was not maximized due to the absence of an NFT return.\n",
      "\n",
      "Considering this, as well as the DAO's performance, I would allocate a higher amount to the public account in this round. This is because the DAO proved reliable in the previous round and resulted in a reasonable return of public benefits. However, I would still maintain a significant allocation to the private account to preserve my personal return and limit potential losses, given the distributed risk involved in the public account.\n",
      "\n",
      "The average contribution to the public account by other participants was 40, the same as my contribution. Given this, we can infer that they also bear similar risk tolerance levels and are likely to continue contributing at similar levels, providing a consistent source of public benefit.\n",
      "\n",
      "As such, my allocation decision in this round, given the knowledge of past round, and also considering my risk-loving nature and my age of 50, is to allocate 50 of my endowment to the public account and 50 to my private account. \n",
      "\n",
      "I believe this exposes me to the potential high upside of combined cooperation of participants and possibly higher NFT returns while keeping my potential downside under control with a guaranteed return from my private account.\n",
      "\n",
      "\n",
      "\n",
      "Agent 3 round 2 decision\n",
      "Given the results of the first round, it appears that the other participants have contributed significantly to the public account (totalling 110), resulting in my overall return of 176.67 after allocating equally to the private and public accounts. However, I have not received any private returns via NFT, indicating that the probability component was not in my favor this time.\n",
      "\n",
      "Considering that the DAO functioned well in the previous round, it's encouraging, as this situation could be advantageous for me if it happens again. However, I need to remember that there's always a degree of risk associated with the DAO and its functionality.\n",
      "\n",
      "In light of the above information and my initial strategy's success, which was to diversify my allocation across both private and public accounts, I will tweak my allocations slightly for the next round.\n",
      "\n",
      "Decision: \n",
      "\n",
      "I will allocate 40 to the private account and 60 to the public account.\n",
      "\n",
      "Reasoning:\n",
      "\n",
      "The reasoning behind reducing my allocation to the private account and increasing it to the public account is multifold:\n",
      "\n",
      "1. The other participants are contributing a substantial amount to the public account (average of 36.67 each). Given the public good characteristic of this account and the DAO's successful functioning in the first round, my contribution to the public account would potentially provide a higher return collectively (assuming the other participants maintain a similar approach).\n",
      "\n",
      "2. By increasing my allocation to the public account, I also have a higher chance of getting an NFT, which could potentially provide additional returns, despite the probability component.\n",
      "\n",
      "3. While I have increased my contribution to the public account, I'm still allocating a good chunk (40) to my private account to secure guaranteed returns for me and maintain a somewhat diversified and risk-neutral approach.\n",
      "\n",
      "This decision aligns with my risk-neutral attitude, demographics, and the outcomes observed in the previous round.\n",
      "\n",
      "\n"
     ]
    }
   ],
   "source": [
    "exp.decision_round()"
   ]
  },
  {
   "cell_type": "code",
   "execution_count": 108,
   "id": "64c55dd8",
   "metadata": {
    "collapsed": true
   },
   "outputs": [
    {
     "name": "stdout",
     "output_type": "stream",
     "text": [
      "agent 0 received feedback\n",
      "agent 1 received feedback\n",
      "agent 2 received feedback\n",
      "agent 3 received feedback\n"
     ]
    }
   ],
   "source": [
    "privates = [60, 70, 50, 40]\n",
    "publics = [40, 30, 50, 60]\n",
    "exp.give_feedback(privates, publics)"
   ]
  },
  {
   "cell_type": "code",
   "execution_count": 109,
   "id": "47d9a6a7",
   "metadata": {
    "collapsed": true
   },
   "outputs": [
    {
     "name": "stdout",
     "output_type": "stream",
     "text": [
      "Agent 0 round 3 decision\n",
      "From the latest round, it becomes apparent that the risk tied to the public account has materialized: despite an increased collective contribution, the DAO has crashed which led to no conversion of contributions into public goods. Consequently, the expected benefit of cooperative behavior was not realized in this round. Nevertheless, it was encouraging that I succeeded to obtain a private return through NFT.\n",
      "\n",
      "Given the sudden turn of events, my risk-averse nature tells me to reassess and potentially adjust my strategy. The crash of the DAO signals a higher risk in the public account than initially estimated. However, one-time failure does not necessarily mean that the failure will persist in future. Just like I took the risk into consideration while deciding to contribute to the public account, I also need to remember that surprises are part of the process.\n",
      "\n",
      "On the bright side, the other participants sustained their contribution level despite the sudden crash of the DAO. This consistency might be indicative of their optimism or their strategy to contribute a fixed amount to the public account despite the setbacks. \n",
      "\n",
      "In light of all the information, I will adjust my previously increased allocation for the public account due to the increase in perceived risk after the DAO crash. But, I would still maintain some contribution, as one failure does not insure future failures, and I believe that the possible future benefits still make it worth the certain level of risk. Also, my small, but steady contribution to public account can signal the continuity of cooperative behavior to others. On the other hand, I would raise my allocation to the private account due to its more stable returns.\n",
      "\n",
      "In conclusion, my next allocation would be:\n",
      "\n",
      "- Private account: 80 (80% of 100)\n",
      "- Public account: 20 (20% of 100)\n",
      "\n",
      "The higher contribution to the private account is based on my own risk tolerance and the recent DAO crash, while the remaining contribution to the public account is to uphold the cooperative dynamic, embed the element of potential higher returns, and continue to foster the group's cooperative behavior.\n",
      "\n",
      "\n",
      "Agent 1 round 3 decision\n",
      "In light of the recent events, it’s clear that the DAO isn't as reliable as initially presumed. The DAO crashed in the most recent round, meaning the contributions were not converted into public goods resulting in no shared benefit from the public account.\n",
      "\n",
      "However, an interesting development is that I was successful in obtaining a private return from the NFT despite the DAO crash. This introduces a new dynamic to evaluate - there is potential for private return from the public account even in events of DAO instability. \n",
      "\n",
      "The other participants have also increased their contributions to the public account. It seems the liking for potential greater returns is shared among us. Nonetheless, the DAO crash serves as a reminder that this approach is not without its risks.\n",
      "\n",
      "Given this new information, my allocation strategy going forward will be more skewed towards the private account, whilst still mindful of the potential high returns of the public account. I'll need to consider the risk associated with the DAO and the unexpected return from NFT.\n",
      "\n",
      "I will reduce my contribution to the public account more significantly this time due to the recent DAO crash. Safeguarding my endowment becomes a more prominent concern here. However, the recent success with the NFT suggests it may still be worthwhile to allocate a smaller portion to the public account.\n",
      "\n",
      "With a 80-20 division in mind, I will allocate 80 to the private account, ensuring a protected growth of the majority of my endowment. The remaining 20 will be allocated to the public account, allowing me to participate in potential high returns via NFT, but limiting the exposure to the risk associated with the DAO. \n",
      "\n",
      "This allocation strategy I believe takes into account the current situation, my risk-loving nature, and the potential for both personal benefit and public good.\n",
      "\n",
      "\n",
      "Agent 2 round 3 decision\n",
      "The recent round notes a significant change. The DAO unexpectedly crashed, which illustrates the inherent risk involved with this kind of public tool despite its previous successful round. So, no public goods were realized from the contributions. Nonetheless, in this round, I did succeed in obtaining a private return on my contribution through NFTs, which seemed to have counterbalanced the losses from the DAO crash to some extent. \n",
      "\n",
      "Considering this information and my demographics, I will need to reassess my balance of risk. While I do enjoy taking on some risk, the significant loss from the public account in this last round is notable. Furthermore, we can also see that my fellow participants increased their contribution to the public account, which did not yield any returns due to the DAO crash. We must take into account that such a situation may occur again.\n",
      "\n",
      "However, since the return from NFT, which has a 0.5 probability, was realized in this round, it does demonstrate that there is a good chance of receiving an additional piece of return from the public account, making the public account still an enticing option.\n",
      "\n",
      "For the next round, I would choose to continue investing in the public account but do so more conservely. My aim here is to balance the risk presented by the recent DAO crash, with the potential rewards demonstrated by the NFT return. \n",
      "\n",
      "Given this, I would choose to allocate 70 to my private account and 30 to the public account. This approach keeps a larger part of my endowment secure from the risks of the public account while still allowing for a potentially higher return through public benefits and successful NFT, as demonstrated in the previous rounds. \n",
      "\n",
      "This reduced allocation to the public account is due to the DAO crash, and this poses higher risk on the public account. By reducing the amount I allocate to the public account, I am reducing my exposure to this risk, while the allocation to my private account allows for a guaranteed return, improving the balance of my portfolio.\n",
      "\n",
      "\n",
      "Agent 3 round 3 decision\n",
      "Given the results of the second round, it's clear that my increased allocation to the public account was risky, as the DAO crashed and none of the contributions were converted to public goods. Despite this, I did receive a private return through the NFT, which offset the loss to some extent, leading to a total return of 60.\n",
      "\n",
      "Considering the DAO crash in the last round, it presents a reminder of the associated risk. However, it's also crucial to remember that the crash might or might not occur in the consecutive round; it's probabilistically uncertain.\n",
      "\n",
      "Given this situation, I need to rebalance my risk and reward ratio, especially given the recent DAO crash.\n",
      "\n",
      "Decision:\n",
      "\n",
      "I will allocate 60 to the private account and 40 to the public account.\n",
      "\n",
      "Reasoning:\n",
      "\n",
      "1. Given the DAO crash in the previous round, I want to secure a higher guaranteed return and hence, will increase my allocation to the private account.\n",
      "\n",
      "2. Decreasing my allocation to the public account is essentially a risk management strategy in case the DAO crashes again. \n",
      "\n",
      "3. However, by continuing to invest in the public account, I still have a chance to receive NFT returns and benefit from other participants' contributions (average of 40 in the last round), provided the DAO doesn't crash.\n",
      "\n",
      "4. Even though I can leverage my NFT return, it is not consistent enough to mitigate the potential loss entirely. Hence, I will lean slightly towards the private account this time.\n",
      "\n",
      "This change in my decision is based on my risk neutrality, demographics, former outcomes, and the unpredictable nature of DAO functionality. Keeping these factors in mind, I am trying to maintain a balance between secure returns and high, albeit risky, potential returns.\n",
      "\n",
      "\n"
     ]
    }
   ],
   "source": [
    "exp.decision_round()"
   ]
  },
  {
   "cell_type": "code",
   "execution_count": 110,
   "id": "76e42e30",
   "metadata": {
    "collapsed": true
   },
   "outputs": [
    {
     "name": "stdout",
     "output_type": "stream",
     "text": [
      "agent 0 received feedback\n",
      "agent 1 received feedback\n",
      "agent 2 received feedback\n",
      "agent 3 received feedback\n"
     ]
    }
   ],
   "source": [
    "privates = [80, 80, 70, 60]\n",
    "publics = [20, 20, 30, 40]\n",
    "exp.give_feedback(privates, publics)"
   ]
  },
  {
   "cell_type": "code",
   "execution_count": 111,
   "id": "c4e58354",
   "metadata": {
    "collapsed": true
   },
   "outputs": [
    {
     "name": "stdout",
     "output_type": "stream",
     "text": [
      "Agent 0 round 4 decision\n",
      "The latest outcome shows a considerable increase in my earnings, largely owing to my increased private account allocation and the effective functioning of the DAO that translated contributions into public goods. A negative aspect, however, was the lack of a private return via NFT.\n",
      "\n",
      "The shift in other participants' choices also seems to reflect the risk realised in the previous round with the DAO crash, as their contributions dipped significantly. This reduced collective contribution to public goods implies potentially lower future returns, an aspect which I need to consider.\n",
      "\n",
      "Even with the DAO crash experience, the DAO operation in this round successfully converted contributions into public goods - which is a reassuring sign. Yet, the absence of NFT returns couples with the uncertainty of DAO's performance, signify the potential risk still tied to the public account.\n",
      "\n",
      "Given my risk-averse nature, I'm inclined to err on the side of caution, but like previous decisions, I also want to keep potential cooperative gains in consideration. Keeping these elements in mind and given the contemporary scenario of reduced collective contribution, I'd adjust my allocation slightly in the hopes of improving public goods while also maintaining a fair allocation to my private account for safer returns.\n",
      "\n",
      "As such, for the next round, my proposed allocation would be:\n",
      "\n",
      "- Private account: 70 (70% of 100)\n",
      "- Public account: 30 (30% of 100)\n",
      "\n",
      "This allocation reflects my moderate approach in response to the DAO's current functioning and the lowered contributions by others. By increasing my contribution to the public account from the previous round, I am indicating my willingness to continue supporting the group effort.\n",
      "\n",
      "\n",
      "Agent 1 round 4 decision\n",
      "Given the recent round, it seems that my decision to decrease the allocation to the public account due to the DAO crash concern was a good one considering that the public contributions were significantly lower than before. The DAO, however, functioned well in the last round and the contributions were effectively converted to public goods which were shared and benefited everyone. My luck ran out on the private return from NFT, reminding me of its inconsistent returns.\n",
      "\n",
      "Additionally, the other participants are also reducing their public contributions, lowering the public fund pool that everyone benefits from. Although shared, these lowered contributions lead to lower public returns as well.\n",
      "\n",
      "A critical aspect to take into consideration in this round is that despite my decrease in the contribution towards the public account, the public goods return was comparatively higher. This tells me that the system has a certain degree of resilience and that I won't be punished harshly for lowering my public contribution in face of risk.\n",
      "\n",
      "My risk-loving nature still leans me towards some public contribution for possible large returns. However, from the recent events, it would be prudent to maintain a higher allocation to the private account for steady, personal financial growth, and a lower allocation to the public account due to associated risks and inconsistent returns.\n",
      "\n",
      "For this round, my thought process directs me towards an allocation of 85 to the private account and 15 to the public account. This allows me to keep a significant share of my endowment in a stable growth environment while also potentially benefitting from the high returns, albeit less likely, associated with the public account. I believe this decision reflects not just my risk-loving tendency but also careful financial planning considering the circumstances.\n",
      "\n",
      "\n",
      "Agent 2 round 4 decision\n",
      "Reflecting on the last round, I can infer that the other participants also might have adjusted their level of risk considering the DAO crash, leading to a lower total contribution to the public accounts. This round resulted in less total benefit since participants, including me, were more cautious after the DAO crash in the previous round. However, since the DAO functioned well in this round, it can be seen that there's still good potential in investing in the public pool. \n",
      "\n",
      "Notably, I also didn’t receive any returns from the NFT. This was a risk understood from the beginning, as the probability of achieving a return from NFT is only 50%.\n",
      "\n",
      "In the next allocation, considering that the DAO is functioning again and the still-existent potential of returns from the NFT, I would choose to moderately increase my contribution to the public account, while keeping a significant portion in the private account. This would continue to provide security from substantial loss while keeping the potential for additional profit from cooperation with the other participants and the NFT return. It's important to keep in mind that the DAO could crash again, but given my risk-loving tendencies and the potential upside of the public account, slightly increasing the allocation to the public account is a balanced decision.\n",
      "\n",
      "Additionally, given the trends of the other participants' contributions, I infer that they might also gradually start to increase their contributions to the public account again, which would create a larger public pool and higher shared return. \n",
      "\n",
      "Based on these considerations, I would choose to allocate 60 to my private account and 40 to the public account. The increased portion to my public account compared to the last round reflects the ongoing potential for reward in the public account, despite the inherent risk. Similarly, a sturdy allocation to the private account ensures a guaranteed return and stability.\n",
      "\n",
      "\n",
      "Agent 3 round 4 decision\n",
      "In the latest round, the total contribution to the public account declined notably, with other participants contributing a total of 70 as opposed to the 120 in the preceding round. Despite this decrease, and my reduced personal allocation to the public account, the return from the round was high (143.33), mainly due to the functioning of the DAO.\n",
      "\n",
      "It seems that other participants might have adopted a more cautious approach after the DAO crash in the second round. My previous decision to allocate more to the private account as a safety measure yielded decently, given I failed to receive a private return from the NFT.\n",
      "\n",
      "Given these results, and considering that the DAO functioned well in this round, it might be time to reconsider my allocation proportions once again.\n",
      "\n",
      "Decision:\n",
      "\n",
      "I will allocate 50 to the private account and 50 to the public account.\n",
      "\n",
      "Reasoning:\n",
      "\n",
      "1. Allocating half of my endowment to the private account ensures a certain return and helps to create a buffer against any potential DAO crashes.\n",
      "\n",
      "2. Allocating the other half to the public account allows me to potentially leverage higher returns if the DAO functions effectively and the overall contribution to the public account increases. Plus, there's always a chance of gaining an NFT return.\n",
      "\n",
      "3. By re-diversifying my allocation, I can strike a balance between risk and potential returns in consideration of the previous outcomes, my risk-neutral attitude, and the inherent uncertainty present in the experimental scenario.\n",
      "\n",
      "This decision is essentially a reinstatement of the initial strategy I adopted at the start of the experiment. Given the fluctuating contributions and DAO behavior, a diversified approach seems to be a balanced, suitable choice given my demographic, risk preferences, and the current circumstances.\n",
      "\n",
      "\n"
     ]
    }
   ],
   "source": [
    "exp.decision_round()"
   ]
  },
  {
   "cell_type": "code",
   "execution_count": 112,
   "id": "692a4142",
   "metadata": {
    "collapsed": true
   },
   "outputs": [
    {
     "name": "stdout",
     "output_type": "stream",
     "text": [
      "agent 0 received feedback\n",
      "agent 1 received feedback\n",
      "agent 2 received feedback\n",
      "agent 3 received feedback\n"
     ]
    }
   ],
   "source": [
    "privates = [70, 85, 60, 50]\n",
    "publics = [30, 15, 40, 50]\n",
    "exp.give_feedback(privates, publics)"
   ]
  },
  {
   "cell_type": "code",
   "execution_count": 113,
   "id": "04258052",
   "metadata": {
    "collapsed": true
   },
   "outputs": [
    {
     "name": "stdout",
     "output_type": "stream",
     "text": [
      "Agent 0 round 5 decision\n",
      "The outcome of this round further supports the cooperative approach I decided upon. The return on my account is higher than the endowment, mainly due to the functioning DAO. The collective public account contribution from all participants has risen again, indicating a stronger collective faith in the DAO despite its past instability, likely because it has functioned successfully for two consecutive rounds now. The lack of a private return through NFT remains consistent but doesn't affect my overall return significantly.\n",
      "\n",
      "Keeping my risk-averse nature, demographics and the experiment's pattern so far in mind, I'm inclined to keep up the cooperative approach. The DAO's good performance in the preceding rounds and the increasing average contribution by the other participants convinces me that I should continue contributing a significant portion to the public account. \n",
      "\n",
      "Simultaneously, the absence of NFT returns reminds me that risk still persists, which justifies retaining a substantial allocation for the private account, especially when considering my risk aversion.\n",
      "\n",
      "Therefore, for the next round, I decide to keep my allocations the same as the previous round. This is informed by the DAO's currently consistent performance, the upward trend in average contributions by the other participants and the sustained absence of private NFT returns.\n",
      "\n",
      "Here's my allocation for the next decision:\n",
      "\n",
      "- Private account: 70 (70% of 100)\n",
      "- Public account: 30 (30% of 100)\n",
      "\n",
      "In keeping with the observed pattern, it is my hope that this allocation will continue to be beneficial while staying mindful of inherent risks and remaining cooperative by contributing to the public account.\n",
      "\n",
      "\n",
      "Agent 1 round 5 decision\n",
      "Taking into account the most recent round, I received the highest return so far, which was made possible by my significant private account allocation. It seems that maintaining a focus on the private account has had beneficial results.\n",
      "\n",
      "The DAO has been functional and has successfully converted contributions into public goods that everyone could benefit from. However, my decreased allocation to the public account did not yield any private return through the NFT. \n",
      "\n",
      "The collective contribution to the public account by other participants has increased to 120. This implies a growth in the contribution pool, allowing more shared benefits from the public goods. While my contribution was lesser, I still got to enjoy the public benefits due to the higher contributions from other participants.\n",
      "\n",
      "The general unpredictability of the NFT returns and the ebbs and flows of the DAO stability continue to be factors to assess. Even though the public account provides additional benefit of the NFT return, I cannot overlook the inconsistent nature of these returns.\n",
      "\n",
      "Given these conditions, my idea for the allocation remains more or less unchanged. It seems prudent to continue with a strong emphasis on the private account guaranteeing personal financial growth due to its assured returns compared to the inconsistent public rewards.\n",
      "\n",
      "Hence, I plan to allocate 85 to the private account and 15 to the public account. This represents an allocation strategy aiming to secure stable growth, while also participating, albeit at a reduced risk, in the potential high returns of the public account. Despite the uncertain nature of the public account, I believe that this decision reflects a keen understanding of the risk, and my risk-loving personality.\n",
      "\n",
      "\n",
      "Agent 2 round 5 decision\n",
      "Based on the past round's results, the DAO was functioning and total contributions to the public account increased again, resulting in a return of 168.33. However, I did not receive any returns from the NFT, which reiterates its unpredictable nature.\n",
      "\n",
      "My predictions of participants returning to increased contributions to the public account seemed to be correct, as we witnessed a rise in public contributions from the last round. The functioning DAO and the increase in public account allocations created stronger public goods, enhancing the shared return.\n",
      "\n",
      "Given this situation, the strategy of increased public account allocation, while maintaining a solid private account contribution, seemed effective. It provided a healthy balance between risk (associated with the DAO and NFT uncertainties) and reward (from the functioning DAO and possibility of NFT returns).\n",
      "\n",
      "My demographics as a risk-loving 50-year-old male continue to guide this strategy. I’m willing to take on calculated risks in hope of a higher return, though I also appreciate the importance of securing a reliable return through the private account.\n",
      "\n",
      "In light of these factors, I would consider maintaining my previous strategy, but with slight adjustments given the trends of other participants. Noticing an upward trajectory in others' contribution to the public account, I predict a potential increase in collective returns if DAO continues to function effectively.\n",
      "\n",
      "Thus, for my next allocation, I would slightly increase my public account contribution to 45, maintaining 55 for the private account. As well as reflecting my own risk-satisfaction level, by doing so, I aim to find an optimal balance between benefiting from the potential high returns of public contributions while preserving my security through the private account. The slight increase in public account contributions is meant to leverage the potential benefits of an effectively functioning DAO and a possible NFT return.\n",
      "\n",
      "\n",
      "Agent 3 round 5 decision\n",
      "In the last round, the total value allocated to the public account by all participants increased compared to the previous round, and the DAO functioned properly, which led to a good return of 151.67 for me. This return was achieved despite not receiving any private return from the NFT.\n",
      "\n",
      "Observing the behavior of other participants, it seems they are increasing their contributions to the public account again, possibly due to the stabilized condition of the DAO during the previous rounds.\n",
      "\n",
      "Given this, and considering the DAO's recent consistent performance, I believe it might be strategic to increase my allocation to the public account slightly.\n",
      "\n",
      "Decision:\n",
      "\n",
      "I will allocate 45 to the private account and 55 to the public account.\n",
      "\n",
      "Reasoning:\n",
      "\n",
      "1. Reducing the portion allocated to the private account by a small amount allows for a marginally higher potential return from the public account, assuming the DAO continues to perform well.\n",
      "\n",
      "2. Allocating slightly more to the public account might bring me additional returns, given that other participants also seem to be increasing their contributions (last round's average contribution of 28.33).\n",
      "\n",
      "3. However, I still want a stable return, so a significant portion is still allocated to the private account, ensuring a certain return for me.\n",
      "\n",
      "4. With this allocation, I maintain a chance of benefiting from an NFT return despite previous unsuccessful attempts.\n",
      "\n",
      "This decision accommodates the recent round outcomes, my risk neutrality, and other participants' recent actions. It's crucial to keep in mind the inherent risk related to the DAO, but considering recent activity and returns, I think it's worth taking a slight additional risk with the public account.\n",
      "\n",
      "\n"
     ]
    }
   ],
   "source": [
    "exp.decision_round()"
   ]
  },
  {
   "cell_type": "code",
   "execution_count": 114,
   "id": "bd2c8442",
   "metadata": {
    "collapsed": true
   },
   "outputs": [
    {
     "name": "stdout",
     "output_type": "stream",
     "text": [
      "agent 0 received feedback\n",
      "agent 1 received feedback\n",
      "agent 2 received feedback\n",
      "agent 3 received feedback\n"
     ]
    }
   ],
   "source": [
    "privates = [70, 85, 55, 45]\n",
    "publics = [30, 15, 45, 55]\n",
    "exp.give_feedback(privates, publics)"
   ]
  },
  {
   "cell_type": "code",
   "execution_count": 120,
   "id": "3139c12b",
   "metadata": {
    "collapsed": true
   },
   "outputs": [
    {
     "data": {
      "text/plain": [
       "{'agents_demographics':    agent_id risk_preference gender  age\n",
       " 0         0     risk_averse   male   50\n",
       " 1         1     risk_loving   male   30\n",
       " 2         2     risk_loving   male   50\n",
       " 3         3    risk_neutral   male   20,\n",
       " 'agents_rounds':     agent_id  round  private  public  others_average_public  \\\n",
       " 0          0      1       70      30              43.333333   \n",
       " 1          0      2       60      40              46.666667   \n",
       " 2          0      3       80      20              30.000000   \n",
       " 3          0      4       70      30              35.000000   \n",
       " 4          0      5       70      30              38.333333   \n",
       " 5          1      1       60      40              40.000000   \n",
       " 6          1      2       70      30              50.000000   \n",
       " 7          1      3       80      20              30.000000   \n",
       " 8          1      4       85      15              40.000000   \n",
       " 9          1      5       85      15              43.333333   \n",
       " 10         2      1       60      40              40.000000   \n",
       " 11         2      2       50      50              43.333333   \n",
       " 12         2      3       70      30              26.666667   \n",
       " 13         2      4       60      40              31.666667   \n",
       " 14         2      5       55      45              33.333333   \n",
       " 15         3      1       50      50              36.666667   \n",
       " 16         3      2       40      60              40.000000   \n",
       " 17         3      3       60      40              23.333333   \n",
       " 18         3      4       50      50              28.333333   \n",
       " 19         3      5       45      55              30.000000   \n",
       " \n",
       "                                              decision  \n",
       " 0   Given all the details provided and according t...  \n",
       " 1   Given the result from the previous round, I ca...  \n",
       " 2   From the latest round, it becomes apparent tha...  \n",
       " 3   The latest outcome shows a considerable increa...  \n",
       " 4   The outcome of this round further supports the...  \n",
       " 5   Analyzing the data provided, my thought proces...  \n",
       " 6   Based on the recent turn of events, it appears...  \n",
       " 7   In light of the recent events, it’s clear that...  \n",
       " 8   Given the recent round, it seems that my decis...  \n",
       " 9   Taking into account the most recent round, I r...  \n",
       " 10  Given the detailed settings and my demographic...  \n",
       " 11  Firstly, I must note that the returns I observ...  \n",
       " 12  The recent round notes a significant change. T...  \n",
       " 13  Reflecting on the last round, I can infer that...  \n",
       " 14  Based on the past round's results, the DAO was...  \n",
       " 15  Taking into account the given details of the e...  \n",
       " 16  Given the results of the first round, it appea...  \n",
       " 17  Given the results of the second round, it's cl...  \n",
       " 18  In the latest round, the total contribution to...  \n",
       " 19  In the last round, the total value allocated t...  ,\n",
       " 'total_contributions':    round  total_contributions  sDAO  sNFT\n",
       " 0      1                  160     1     0\n",
       " 1      2                  180     0     1\n",
       " 2      3                  110     1     0\n",
       " 3      4                  135     1     0\n",
       " 4      5                  145     0     1,\n",
       " 'configs':    rounds  num_agents  endowment     r_NFT  r_public  h_public  p(s_DAO=1)  \\\n",
       " 0       5           4        100  0.333333  0.333333         1         0.5   \n",
       " \n",
       "    p(s_NFT=1)                                    group  \n",
       " 0         0.5  <function treatment1 at 0x7faf7ba44310>  }"
      ]
     },
     "execution_count": 120,
     "metadata": {},
     "output_type": "execute_result"
    }
   ],
   "source": [
    "data = extract_experiment_data(exp)\n",
    "time_stamp = datetime.now()\n",
    "group = \"treatment1\"\n",
    "pickle.dump(data, open(f\"results/{group}_{time_stamp}.pkl\", 'wb'))\n",
    "data"
   ]
  },
  {
   "cell_type": "code",
   "execution_count": 121,
   "id": "082c71cb",
   "metadata": {
    "collapsed": true
   },
   "outputs": [
    {
     "name": "stdout",
     "output_type": "stream",
     "text": [
      "agent 0 left the experiment\n",
      "agent 1 left the experiment\n",
      "agent 2 left the experiment\n",
      "agent 3 left the experiment\n"
     ]
    }
   ],
   "source": [
    "exp.end()"
   ]
  },
  {
   "cell_type": "markdown",
   "id": "9288d6c9",
   "metadata": {},
   "source": [
    "# Treatment2 Experiment 1"
   ]
  },
  {
   "cell_type": "code",
   "execution_count": 138,
   "id": "d8485835",
   "metadata": {},
   "outputs": [],
   "source": [
    "exp = Treatment2(client, agent_key, config_T2, demographics)"
   ]
  },
  {
   "cell_type": "code",
   "execution_count": 139,
   "id": "cd4d5675",
   "metadata": {
    "collapsed": true
   },
   "outputs": [
    {
     "name": "stdout",
     "output_type": "stream",
     "text": [
      "male 40 risk_loving\n",
      "male 20 risk_averse\n",
      "female 20 risk_averse\n",
      "male 60 risk_loving\n"
     ]
    }
   ],
   "source": [
    "for agent in exp.agents:\n",
    "    print(agent.gender, agent.age, agent.risk_preference)"
   ]
  },
  {
   "cell_type": "code",
   "execution_count": 140,
   "id": "b5b93060",
   "metadata": {
    "collapsed": true
   },
   "outputs": [
    {
     "name": "stdout",
     "output_type": "stream",
     "text": [
      "agent 0 joined the experiment\n",
      "agent 1 joined the experiment\n",
      "agent 2 joined the experiment\n",
      "agent 3 joined the experiment\n"
     ]
    }
   ],
   "source": [
    "exp.start()"
   ]
  },
  {
   "cell_type": "code",
   "execution_count": 141,
   "id": "781be6d6",
   "metadata": {
    "collapsed": true
   },
   "outputs": [
    {
     "name": "stdout",
     "output_type": "stream",
     "text": [
      "agent 0 received instruction\n",
      "agent 1 received instruction\n",
      "agent 2 received instruction\n",
      "agent 3 received instruction\n"
     ]
    }
   ],
   "source": [
    "exp.give_instruction()"
   ]
  },
  {
   "cell_type": "code",
   "execution_count": 142,
   "id": "05ac738a",
   "metadata": {
    "collapsed": true
   },
   "outputs": [
    {
     "name": "stdout",
     "output_type": "stream",
     "text": [
      "Agent 0 round 1 decision\n",
      "Given the characteristics of this experiment, my age, my somewhat risk-loving nature, and the expected return that can be both private and shared, it would make sense to put a portion of my endowment in both the private account and the public account rather than concentrating all the resources in one of them. \n",
      "\n",
      "My thought process behind this decision is influenced by several factors:\n",
      "\n",
      "1. My risk-loving attitude: As a risk taker, I am inclined to invest in opportunities that can provide higher returns, even if they come with a certain level of potential loss. The public account presents such an opportunity due to the chance of NFT returns and the multiplied effect of the sum of others' public accounts.\n",
      "\n",
      "2. Equal public return: Knowing that DAO, despite its potential crash probability, will provide all participants an equal return when I deposit some of my endowment to the public account is encouraging. This allows me to work collaboratively to help maximize everyone's return.\n",
      "\n",
      "3. NFT returns: The chances of earning returns from NFT's also skew my decision towards the public account. Even if this is not a guarantee and depends on the public benefit rate and the sum of others' contributions, it still presents a potentially high return.\n",
      "\n",
      "4. Maintaining financial stability: Despite my risk-loving nature, it's wise to allocate a part of my endowment to the private account to secure a certain return only for me. If everything went wrong (DAO crashes, no NFT returns), this allocation can act as a safety net.\n",
      "\n",
      "Considering these factors, I would allocate 60% of my endowment to the public account and 40% to the private one. Therefore, I would put 60 into the public account and 40 into the private account. \n",
      "\n",
      "This decision combines both my desire for high return potential and my need for a level of financial stability. It also allows me to contribute to an experiment that benefits everyone participating, aligning with both personal and group benefits.\n",
      "\n",
      "\n",
      "Agent 1 round 1 decision\n",
      "Given the scenario, I have to consider several factors when making my allocations: my risk aversion, the possibility of the DAO crashing, the fluctuation of returns from both the public account and the NFT, and the interconnected behavior of r_public, h_public, and r_NFT. \n",
      "\n",
      "As a risk-averse individual, I prefer certainty to uncertainty, and would likely lean towards allocating more to my private account, which provides a certain return. However, the appeal of potential returns from the public account and the NFT, if luck favors me, justifies allocating a portion of my endowment to the public account.\n",
      "\n",
      "Despite the potential returns from the public account, the uncertainty introduced by the stochastic nature of r_public, h_public, and r_NFT, coupled with the possibility of the DAO crashing and leaving no return from the public account, makes it more risky.\n",
      "\n",
      "Considering all these factors, I would allocate a higher percentage to my private account and a smaller percentage to the public account. For instance, let's use a 70/30-split. So, I would put 70 into my private account and 30 into my public account.\n",
      "\n",
      "That way, I can ensure a certain return with my private account, and also have a chance at the potential returns from the public account and NFT – creating a balance that considers both my risk-averse nature and the potential upside. This allocation might reduce the chances of higher returns, but it also significantly lowers the risk of high losses. \n",
      "\n",
      "Therefore, from a risk-averse perspective, this allocation provides the most prudent approach towards maximizing return under the given uncertainty. The 70/30-split is a fairly common risk-averse investment strategy, allowing participation in high-reward investments, but with the majority of funds in a safer, more predictable option.\n",
      "\n",
      "\n",
      "Agent 2 round 1 decision\n",
      "Given the risky nature of the public investment with volatility in returns and the potential for complete loss due to the crashing of the DAO, my risk-averse nature advises me to invest more in my private account. The potential of earning additional return from NFTs is enticing, but the returns are uncertain and statistically, I may not get any additional returns from it.\n",
      "\n",
      "However, I also understand the benefits of diversification and helping the public good, and maintain a certain level of trust towards the other participants. Therefore, I am willing to take on some level of risk and allocate part of my endowment to the public account. \n",
      "\n",
      "Given that the returns from the public account are dependent on the contributions of others, I would like to inspire everyone to contribute by signaling commitment and trust, but I would also like to hedge against non-reciprocation and DAO crashing. Hence, the majority of my endowment should be invested privately.\n",
      "\n",
      "Considering these factors, I would allocate 70 to my private account, which gives me a certain return and aligns well with my risk-averse nature. The remaining 30 I would invest publicly. \n",
      "\n",
      "This 30-70 split provides a decent hedge against DAO crash and the chance that other participants do not contribute to the public account. It also ensures a significant guaranteed return for me while still creating an opportunity for higher return from the public account if things go well.\n",
      "\n",
      "My thought process behind this decision was mainly about balancing risk and reward and taking my risk-averse nature into account. I tried to weigh the potential gains against the potential losses while also considering my own comfort level with risk and my commitment to contributing to public goods.\n",
      "\n",
      "\n",
      "Agent 3 round 1 decision\n",
      "Given the information above, my decision has to balance between contributing to my private account for a certain return and contributing to the public account for both a potential return to myself through the r_NFT and r_public parameters, as well as in hopes of generating public goods, represented by the h_public parameter, of which I would also benefit.\n",
      "\n",
      "Given that I am risk-loving to a certain degree, I am inclined to contribute to the public account as it involves chances, particularly since the r_NFT is paid by chance and could provide a high return. However, this is also tied to the potential breakdown of DAO that would nullify all public benefits, making it a risky choice.\n",
      "\n",
      "First, let's note that the r_NFT and r_public are mutually exclusive events and that their values don't impact each other. However, crucially, if the r_public and h_public values are both zero, this triggers the r_NFT value also to zero. Considering this last scenario could nullify any high return from the NFT, it's certainly a risk, but being a risk-loving individual, I'm willing to take that risk to a certain extent.\n",
      "\n",
      "However, I should also consider potential benefits going into my private account, as this is a guaranteed return strictly to myself.\n",
      "\n",
      "Therefore, to express my risk-loving preference without being reckless, I shall take a balanced approach by dividing my investment into both private and public accounts.\n",
      "\n",
      "For my first round of allocation, I would split the 100 endowment into 50 each for both private and public accounts. This decision allows me to have a fixed amount guaranteed for my own use, and an equally substantial contribution towards the public benefit that, if successful, gives me added returns and satisfaction from contributing to the greater good. I will monitor the outcomes in the following rounds and might adjust my contribution based on the actual returns.\n",
      "\n",
      "\n"
     ]
    }
   ],
   "source": [
    "exp.decision_round()"
   ]
  },
  {
   "cell_type": "code",
   "execution_count": 143,
   "id": "031099c9",
   "metadata": {
    "collapsed": true
   },
   "outputs": [
    {
     "name": "stdout",
     "output_type": "stream",
     "text": [
      "agent 0 received feedback\n",
      "agent 1 received feedback\n",
      "agent 2 received feedback\n",
      "agent 3 received feedback\n"
     ]
    }
   ],
   "source": [
    "privates = [40, 70, 70, 50]\n",
    "publics = [60, 30, 30, 50]\n",
    "exp.give_feedback(privates, publics)"
   ]
  },
  {
   "cell_type": "code",
   "execution_count": 144,
   "id": "8c0c69ec",
   "metadata": {
    "collapsed": true
   },
   "outputs": [
    {
     "name": "stdout",
     "output_type": "stream",
     "text": [
      "Agent 0 round 2 decision\n",
      "Given the results of the previous allocation round and the fact that I did not receive a private return through the NFT, I would reassess my decision for the next round.\n",
      "\n",
      "My thought process for this decision is influenced by:\n",
      "\n",
      "1. The functioning DAO: The DAO effectively transformed all individual contributions into public goods, which is good news - it confirms my strategy to invest in the public account to some extent. \n",
      "\n",
      "2. The high level of total public account contributions: Other participants also seem to be contributing toward the public pot substantially (110 out of 170 total). This is a positive sign for collective returns, but it also suggests that the public account may be slightly saturated.\n",
      "\n",
      "3. No private return from NFT: Although the chance to receive an NFT return is entirely by chance, not obtaining this in the last round makes me reflect on the risk associated with the public account.\n",
      "\n",
      "4. Maintaining balance in contribution: My strategy is to balance private gain and public benefit, so I'll adjust my investments to respond to the circumstances and optimize both.\n",
      "\n",
      "Considering the above factors, I decide to slightly shift my allocation in favor of the private investment to guard against potential lost opportunities if the public account fails to provide returns again, particularly through NFTs.\n",
      "\n",
      "I decide to allocate 45% to the public account and raise my private investment to 55%. That is, I put 45 into the public account and 55 into the private account.\n",
      "\n",
      "This decision is both reflective of the previous outcomes and strategically aligned with my personal investment preferences. It allows for both private and public benefit while protecting my interests should the public account fails to deliver desired results again.\n",
      "\n",
      "\n",
      "Agent 1 round 2 decision\n",
      "Given the information from the last round, it seems that my allocation strategy worked quite well. I received a total return of 225.0, which is more than double my initial endowment due to the effectively converted public goods from the total public contribution. \n",
      "\n",
      "However, I also note that I failed to receive any private return on the contribution in the form of NFT, suggesting that the risky return from NFT didn't pay off in this round. This further validates my decision of allocating less contribution to the public account. \n",
      "\n",
      "It might be tempting at this point to decrease the contribution to the public account even more, given that contribution didn't result in the NFT return. But, it's vital to remember that the DAO is still functioning and distributed a fair return to everyone based on the sum of total contributions of 170. Since other individuals have contributed a noteworthy amount of 46.67 on average, standing alone might make me stand out and potentially trigger non-cooperative behavior in subsequent rounds.\n",
      "\n",
      "Above all, one round isn't sufficient to form a trend or change my initial strategy drastically. The stochastic nature of r_public, h_public, and r_NFT also suggests that the outcome could be different in other rounds.\n",
      "\n",
      "Given these thoughts, for this round, I would stick with my initial allocation strategy of 70/30. So, with 100 endowment, I would put 70 into my private account and 30 into the public account. \n",
      "\n",
      "Maintaining this balance would allow me to continue enjoying the potential returns from the public account, while still preserving my risk-averse nature by allocating a larger amount to the private account. As I continue to participate in the rounds, I can watch for trends or changes in the behavior of others. After getting a better insight into those variables, I can adjust my allocation strategy if necessary.\n",
      "\n",
      "\n",
      "Agent 2 round 2 decision\n",
      "Looking at the results of the prior round and considering the performance of the public investment, I can see that the DAO did not crash and the other participants contributed a bit more than I did to the public account on average. This indicates a level of trust and cooperation among the participants which could lead to further improved returns in the future. This trust and cooperation is important in a public goods scenario like this as everyone's contribution is needed to maximize the public benefit. \n",
      "\n",
      "However, my failure to receive a return from the NFT makes me more cautious about allocating a larger share to the public account. The NFT returns are risky and not guaranteed, and as a risk-averse person, I need to consider this in my decision.\n",
      "\n",
      "Therefore, in the next round, my allocation will be influenced by these factors. I will increase my contribution to the public account slightly to reflect the trust and cooperation of the other participants, but won't increase it significantly due to the riskiness of the NFT returns.\n",
      "\n",
      "After considering these factors, I decide to allocate 65 to my private account and 35 to the public account. My reasoning behind this allocation is to both guarantee some level of return for myself and also contribute to the public good. Increasing my public contribution could potentially increase the overall returns for everyone if the DAO does not crash, and the trend of other participants also contributing more encourages my decision. However, I also remain cautious and don't drastically increase my public contribution due to the uncertainty of the NFT returns.\n",
      "\n",
      "\n",
      "Agent 3 round 2 decision\n",
      "With the updated information, it seems that the overall allocation to the public account has resulted in a high payoff, indicating that the risk taken in the first round paid off reasonably well despite not receiving the return on the NFT. The return of 195.0 indicates that the group participants have relatively high cooperation, reflected in the other participants' total contribution of 120 to the public account, resulting in our collective actions generating public goods.\n",
      "\n",
      "Historically, the average contribution of the other participants was 40.0, which means their contributions are less risk-averse than mine, considering I invested half of my endowment into the public account. Considering my demographic and risk-loving profile, I believe I should continue exploiting this public good benefit.\n",
      "\n",
      "Given my satisfaction with the most recent payoff and the currently functioning DAO, I feel encouraged to continue investing in the public account. However, I must consider the risk of DAO possibly crashing in future rounds, which would nullify public benefits.\n",
      "\n",
      "Therefore, I think I should maintain a slightly higher contribution to the public account than the last round to benefit from possible higher public returns, given that the other participants continue their current average contribution level. \n",
      "\n",
      "Consequently, for the next round of allocation, I'd input 45 into my private account and increase the public account allocation to 55. This decision is based on the cooperative behavior shown by the group in the previous round, the functioning DAO, and my risk-loving nature. Despite the increased risk, the chance of a higher return due to a potentially successful NFT return, as well as the increased contribution to public benefits, makes it a calculated risk I am willing to take.\n",
      "\n",
      "\n"
     ]
    }
   ],
   "source": [
    "exp.decision_round()"
   ]
  },
  {
   "cell_type": "code",
   "execution_count": 145,
   "id": "3898f84c",
   "metadata": {
    "collapsed": true
   },
   "outputs": [
    {
     "name": "stdout",
     "output_type": "stream",
     "text": [
      "agent 0 received feedback\n",
      "agent 1 received feedback\n",
      "agent 2 received feedback\n",
      "agent 3 received feedback\n"
     ]
    }
   ],
   "source": [
    "privates = [55, 70, 65, 45]\n",
    "publics = [45, 30, 35, 55]\n",
    "exp.give_feedback(privates, publics)"
   ]
  },
  {
   "cell_type": "code",
   "execution_count": 146,
   "id": "651d27c7",
   "metadata": {
    "collapsed": true
   },
   "outputs": [
    {
     "name": "stdout",
     "output_type": "stream",
     "text": [
      "Agent 0 round 3 decision\n",
      "Given the outcomes in the previous two rounds, it appears that contributing to the public account hasn't offered me any private return through NFT.\n",
      "\n",
      "In this case, a few key points form the basis of my decision-making for the next round:\n",
      "\n",
      "1. No private return from NFT: For two rounds in a row now, my contributions to the public account have not garnered any private return through NFT. This contributes to a degree of uncertainty regarding the potential returns from the public account.\n",
      "\n",
      "2. High public account contributions: A combined total of 120 from the remaining participants continues to elevate the public account. While the DAO continues to function well, providing everyone with an equal share, the degree of saturation may reduce individual returns.\n",
      "\n",
      "3. Effective DAO: The DAO continues to function, converting all individual contributions into public goods effectively. This is positive and works in favor of maintaining investment in the public account.\n",
      "\n",
      "4. My risk-loving nature: Being a risk-taking individual, maintaining a balance between the more reliable personal account and the high-reward, high-risk public account is crucial. \n",
      "\n",
      "Despite the lack of NFT returns, the function of the DAO and the equal distribution of benefits to all participants compels me to continue investing in the public account, albeit at a reduced rate to offset the aforementioned uncertainty and risk.\n",
      "\n",
      "Therefore, for the next round, I would allocate 35% to the public account and increase my private account investment to 65%. That is, I would put 35 into the public account and 65 into the private account.\n",
      "\n",
      "This decision is based on the recent data and outcomes, my nature as a risk-loving individual, and my ongoing belief in the need to balance personal gain with societal benefit. It maximizes my potential for personal return while continuing my contribution to the collective good.\n",
      "\n",
      "\n",
      "Agent 1 round 3 decision\n",
      "The returned value for this round is slightly less than the previous round but still a great increase from my initial endowment. In particular, the public account continues to provide a significant return, given the DAO's stable functioning and the total contribution to public accounts from all participants. \n",
      "\n",
      "While my allocation to the public account has not yet generated any private return through NFTs, the public return remains strong. In two consecutive rounds, even though the NFT returns were zero, the significant public return from all contributions is notable. This highlights the fact that the NFT return, even though promising, should rather be seen as a bonus to the stable returns of the public account. \n",
      "\n",
      "That said, considering the slightly lower return in this round and a small reduction in the contribution to the public account by others, I'll adjust my allocation strategy slightly more towards the private account, which guarantees a certain return. \n",
      "\n",
      "Let's consider a 75/25 split which slightly leans more towards risk-aversion considering the uncertainty in NFT returns. I would therefore put 75 into my private account and 25 into the public account. \n",
      "\n",
      "While this reduces the amount I'm contributing to the public account, it shields me against the possibility of no returns from NFTs and potential low contribution from others to the public account. This strategy continues to balance the benefits of public and private contributions while aiding in managing the risk through the uncertainty in public account returns. By leaning slightly more towards the private account, I am giving myself a larger buffer in case the next round's public contribution reduces further or the NFT return continues to be zero.\n",
      "\n",
      "\n",
      "Agent 2 round 3 decision\n",
      "Considering the results of the last round, there is a slight decrease in the total allocation to the public account, and consequently, my return is lower. However, it's still relatively high, indicating that public account still yields good returns when the DAO is functioning properly and everyone shares the benefits. Nevertheless, not receiving any return from the NFT for two rounds in a row increases my apprehension about the potential for non-return from the public account.\n",
      "\n",
      "Given these reasons, particularly being risk averse and seeing the lower amount of allocation to the public accounts, I decide to pull back slightly on my public account allocation. My main goal is to ensure I have a certain level of private return while also contributing to the public good when it seems reasonable to do so. Trust in others and the system has slightly decreased due to the lower overall contribution to the public accounts and lack of benefits from NFT. \n",
      "\n",
      "Taking into account these considerations, I choose to allocate 70 to my private account and 30 to the public account for this round. By doing so, I ensure a decent guaranteed return for me through the private account while not completely stepping back from contributing to the public account. This allocation also enables me to hedge against potential risks associated with public account investments.\n",
      "\n",
      "\n",
      "Agent 3 round 3 decision\n",
      "Looking at the results of the second round, the other participants have significantly reduced their contributions to the public account. The return I received, 182.5, is lower than that in the previous round. While the DAO continues to function and contributions are being converted into public goods, the lower overall contributions brought the collective outcome down.\n",
      "\n",
      "My aim to gain a higher personal return through a high-risk NFT outcome has so far been unsuccessful but considering my risk-loving nature, it is still a gamble I am willing to continue.\n",
      "\n",
      "Given the reduced contributions from others, it's crucial to strike a balance that takes into account this trend. To sustain the public account with sufficient contributions for worthwhile public goods generation, I need to maintain a higher level of contribution. However, it would be unwise to disproportionately shoulder the public account contributions, while other participants reduce their contributions and benefit from my risk.\n",
      "\n",
      "Consequently, for the next round of allocation, I decide to somewhat adjust my private and public account allocations to negotiate this trade-off. I propose to invest 50 into my private account again and contribute the remaining 50 into the public account. \n",
      "\n",
      "While I've increased my private account allocation, the half-and-half split is still considered taking a risk (considering the reduction in public contributions), which is inherent in my risk-taking demeanor. On the other hand, this adjustment allows me to safeguard a bit more of my individual return given the shift in the group dynamic. \n",
      "\n",
      "This decision will help me gauge the commitment of other participants to public good generation in the following rounds. I'm making a calculated decision based on the observed reduction in group investments, maintaining a decent public contribution considering I'm risk-loving, and wanting to see if this stimulates an adjustment in others' contributions in subsequent rounds.\n",
      "\n",
      "\n"
     ]
    }
   ],
   "source": [
    "exp.decision_round()"
   ]
  },
  {
   "cell_type": "code",
   "execution_count": 147,
   "id": "aaffae47",
   "metadata": {
    "collapsed": true
   },
   "outputs": [
    {
     "name": "stdout",
     "output_type": "stream",
     "text": [
      "agent 0 received feedback\n",
      "agent 1 received feedback\n",
      "agent 2 received feedback\n",
      "agent 3 received feedback\n"
     ]
    }
   ],
   "source": [
    "privates = [65, 75, 70, 50]\n",
    "publics = [35, 25, 30, 50]\n",
    "exp.give_feedback(privates, publics)"
   ]
  },
  {
   "cell_type": "code",
   "execution_count": 148,
   "id": "ed97662d",
   "metadata": {
    "collapsed": true
   },
   "outputs": [
    {
     "name": "stdout",
     "output_type": "stream",
     "text": [
      "Agent 0 round 4 decision\n",
      "Based on the most recent outcomes, it seems that my decision to reduce my contribution to the public account slightly and increase my private account allocation has resulted in a lower overall return compared to the previous round. Additionally, the NFT return still remains elusive. \n",
      "\n",
      "There are several factors I need to consider for my next decision:\n",
      "\n",
      "1. Decreasing Public Contributions: Both my contribution and the overall contributions to the public account have decreased, and correspondingly so has my total return.\n",
      "\n",
      "2. No Private Return from the NFT: There have now been three successive rounds where my public account contribution has not granted me NFT returns. This may suggest that future rounds could also lack such returns.\n",
      "\n",
      "3. Continued Functionality of the DAO: Despite the lack of NFT returns, the DAO continues to function and evenly distribute benefits across participants. This could suggest that it could be beneficial to maintain a significant contribution to the public account in hope of overall returns. \n",
      "\n",
      "4. My Risk-Loving Nature: With this aspect of my personality in mind, there is room to be more experimental with the public account despite the negative experience with the lack of NFT returns.\n",
      " \n",
      "Considering these factors, and that the total return decrease coincided with my decrease in public account contribution, I would opt to increase my contribution to this account for the next round, taking into consideration the overall public sentiment.  Therefore, I'm going to increase my public account allocation back to 50%, and allocate 50% to my private account, which is 50 to both accounts.\n",
      "\n",
      "This decision hopefully would allow me to benefit from the public distribution from the DAO again, while maintaining a certain amount of personal security. To address the lack of NFT returns, splitting my investment evenly between the two accounts also allows me to toe the line between personal gain and collective benefit, while satisfying my risk-loving nature.\n",
      "\n",
      "\n",
      "Agent 1 round 4 decision\n"
     ]
    },
    {
     "ename": "APIError",
     "evalue": "The server had an error processing your request. Sorry about that! You can retry your request, or contact us through our help center at help.openai.com if you keep seeing this error. (Please include the request ID req_724d5a4a57bac30a52314dd2650681eb in your email.)",
     "output_type": "error",
     "traceback": [
      "\u001b[0;31m---------------------------------------------------------------------------\u001b[0m",
      "\u001b[0;31mAPIError\u001b[0m                                  Traceback (most recent call last)",
      "Cell \u001b[0;32mIn[148], line 1\u001b[0m\n\u001b[0;32m----> 1\u001b[0m \u001b[43mexp\u001b[49m\u001b[38;5;241;43m.\u001b[39;49m\u001b[43mdecision_round\u001b[49m\u001b[43m(\u001b[49m\u001b[43m)\u001b[49m\n",
      "Cell \u001b[0;32mIn[117], line 25\u001b[0m, in \u001b[0;36mExperiment.decision_round\u001b[0;34m(self, print_decision)\u001b[0m\n\u001b[1;32m     23\u001b[0m \u001b[38;5;28;01mfor\u001b[39;00m i \u001b[38;5;129;01min\u001b[39;00m \u001b[38;5;28mrange\u001b[39m(\u001b[38;5;28mlen\u001b[39m(\u001b[38;5;28mself\u001b[39m\u001b[38;5;241m.\u001b[39magents)):\n\u001b[1;32m     24\u001b[0m     \u001b[38;5;28mprint\u001b[39m(\u001b[38;5;124mf\u001b[39m\u001b[38;5;124m\"\u001b[39m\u001b[38;5;124mAgent \u001b[39m\u001b[38;5;132;01m{\u001b[39;00mi\u001b[38;5;132;01m}\u001b[39;00m\u001b[38;5;124m round \u001b[39m\u001b[38;5;132;01m{\u001b[39;00m\u001b[38;5;28mself\u001b[39m\u001b[38;5;241m.\u001b[39mround\u001b[38;5;132;01m}\u001b[39;00m\u001b[38;5;124m decision\u001b[39m\u001b[38;5;124m\"\u001b[39m)\n\u001b[0;32m---> 25\u001b[0m     \u001b[38;5;28;43mself\u001b[39;49m\u001b[38;5;241;43m.\u001b[39;49m\u001b[43magents\u001b[49m\u001b[43m[\u001b[49m\u001b[43mi\u001b[49m\u001b[43m]\u001b[49m\u001b[38;5;241;43m.\u001b[39;49m\u001b[43mmake_decision\u001b[49m\u001b[43m(\u001b[49m\u001b[43mprint_decision\u001b[49m\u001b[43m)\u001b[49m\n\u001b[1;32m     26\u001b[0m     \u001b[38;5;28mprint\u001b[39m(\u001b[38;5;124m\"\u001b[39m\u001b[38;5;130;01m\\n\u001b[39;00m\u001b[38;5;124m\"\u001b[39m)\n\u001b[1;32m     27\u001b[0m \u001b[38;5;28mself\u001b[39m\u001b[38;5;241m.\u001b[39mround \u001b[38;5;241m+\u001b[39m\u001b[38;5;241m=\u001b[39m \u001b[38;5;241m1\u001b[39m\n",
      "Cell \u001b[0;32mIn[22], line 32\u001b[0m, in \u001b[0;36mAgent.make_decision\u001b[0;34m(self, print_decision)\u001b[0m\n\u001b[1;32m     26\u001b[0m \u001b[38;5;28;01mdef\u001b[39;00m \u001b[38;5;21mmake_decision\u001b[39m(\u001b[38;5;28mself\u001b[39m, print_decision\u001b[38;5;241m=\u001b[39m\u001b[38;5;28;01mTrue\u001b[39;00m):\n\u001b[1;32m     27\u001b[0m     \u001b[38;5;66;03m# make decision based on provided instruction or feedback\u001b[39;00m\n\u001b[1;32m     28\u001b[0m     \u001b[38;5;28;01mwith\u001b[39;00m \u001b[38;5;28mself\u001b[39m\u001b[38;5;241m.\u001b[39mclient\u001b[38;5;241m.\u001b[39mbeta\u001b[38;5;241m.\u001b[39mthreads\u001b[38;5;241m.\u001b[39mruns\u001b[38;5;241m.\u001b[39mstream(\n\u001b[1;32m     29\u001b[0m         thread_id\u001b[38;5;241m=\u001b[39m\u001b[38;5;28mself\u001b[39m\u001b[38;5;241m.\u001b[39mthread\u001b[38;5;241m.\u001b[39mid,\n\u001b[1;32m     30\u001b[0m         assistant_id\u001b[38;5;241m=\u001b[39m\u001b[38;5;28mself\u001b[39m\u001b[38;5;241m.\u001b[39magent_key\n\u001b[1;32m     31\u001b[0m     ) \u001b[38;5;28;01mas\u001b[39;00m \u001b[38;5;28mself\u001b[39m\u001b[38;5;241m.\u001b[39mstream:\n\u001b[0;32m---> 32\u001b[0m         \u001b[38;5;28;43mself\u001b[39;49m\u001b[38;5;241;43m.\u001b[39;49m\u001b[43mstream\u001b[49m\u001b[38;5;241;43m.\u001b[39;49m\u001b[43muntil_done\u001b[49m\u001b[43m(\u001b[49m\u001b[43m)\u001b[49m\n\u001b[1;32m     34\u001b[0m     \u001b[38;5;66;03m# update conversation record\u001b[39;00m\n\u001b[1;32m     35\u001b[0m     \u001b[38;5;28mself\u001b[39m\u001b[38;5;241m.\u001b[39mconversation \u001b[38;5;241m=\u001b[39m \u001b[38;5;28mself\u001b[39m\u001b[38;5;241m.\u001b[39mclient\u001b[38;5;241m.\u001b[39mbeta\u001b[38;5;241m.\u001b[39mthreads\u001b[38;5;241m.\u001b[39mmessages\u001b[38;5;241m.\u001b[39mlist(\n\u001b[1;32m     36\u001b[0m         thread_id\u001b[38;5;241m=\u001b[39m\u001b[38;5;28mself\u001b[39m\u001b[38;5;241m.\u001b[39mthread\u001b[38;5;241m.\u001b[39mid,\n\u001b[1;32m     37\u001b[0m         order\u001b[38;5;241m=\u001b[39m\u001b[38;5;124m\"\u001b[39m\u001b[38;5;124masc\u001b[39m\u001b[38;5;124m\"\u001b[39m\n\u001b[1;32m     38\u001b[0m     )\n",
      "File \u001b[0;32m~/opt/anaconda3/envs/zemi/lib/python3.9/site-packages/openai/lib/streaming/_assistants.py:102\u001b[0m, in \u001b[0;36mAssistantEventHandler.until_done\u001b[0;34m(self)\u001b[0m\n\u001b[1;32m    100\u001b[0m \u001b[38;5;28;01mdef\u001b[39;00m \u001b[38;5;21muntil_done\u001b[39m(\u001b[38;5;28mself\u001b[39m) \u001b[38;5;241m-\u001b[39m\u001b[38;5;241m>\u001b[39m \u001b[38;5;28;01mNone\u001b[39;00m:\n\u001b[1;32m    101\u001b[0m \u001b[38;5;250m    \u001b[39m\u001b[38;5;124;03m\"\"\"Waits until the stream has been consumed\"\"\"\u001b[39;00m\n\u001b[0;32m--> 102\u001b[0m     \u001b[43mconsume_sync_iterator\u001b[49m\u001b[43m(\u001b[49m\u001b[38;5;28;43mself\u001b[39;49m\u001b[43m)\u001b[49m\n",
      "File \u001b[0;32m~/opt/anaconda3/envs/zemi/lib/python3.9/site-packages/openai/_utils/_streams.py:6\u001b[0m, in \u001b[0;36mconsume_sync_iterator\u001b[0;34m(iterator)\u001b[0m\n\u001b[1;32m      5\u001b[0m \u001b[38;5;28;01mdef\u001b[39;00m \u001b[38;5;21mconsume_sync_iterator\u001b[39m(iterator: Iterator[Any]) \u001b[38;5;241m-\u001b[39m\u001b[38;5;241m>\u001b[39m \u001b[38;5;28;01mNone\u001b[39;00m:\n\u001b[0;32m----> 6\u001b[0m     \u001b[38;5;28;01mfor\u001b[39;00m _ \u001b[38;5;129;01min\u001b[39;00m iterator:\n\u001b[1;32m      7\u001b[0m         \u001b[38;5;241m.\u001b[39m\u001b[38;5;241m.\u001b[39m\u001b[38;5;241m.\u001b[39m\n",
      "File \u001b[0;32m~/opt/anaconda3/envs/zemi/lib/python3.9/site-packages/openai/lib/streaming/_assistants.py:69\u001b[0m, in \u001b[0;36mAssistantEventHandler.__iter__\u001b[0;34m(self)\u001b[0m\n\u001b[1;32m     68\u001b[0m \u001b[38;5;28;01mdef\u001b[39;00m \u001b[38;5;21m__iter__\u001b[39m(\u001b[38;5;28mself\u001b[39m) \u001b[38;5;241m-\u001b[39m\u001b[38;5;241m>\u001b[39m Iterator[AssistantStreamEvent]:\n\u001b[0;32m---> 69\u001b[0m     \u001b[38;5;28;01mfor\u001b[39;00m item \u001b[38;5;129;01min\u001b[39;00m \u001b[38;5;28mself\u001b[39m\u001b[38;5;241m.\u001b[39m_iterator:\n\u001b[1;32m     70\u001b[0m         \u001b[38;5;28;01myield\u001b[39;00m item\n",
      "File \u001b[0;32m~/opt/anaconda3/envs/zemi/lib/python3.9/site-packages/openai/lib/streaming/_assistants.py:405\u001b[0m, in \u001b[0;36mAssistantEventHandler.__stream__\u001b[0;34m(self)\u001b[0m\n\u001b[1;32m    402\u001b[0m     \u001b[38;5;28;01mraise\u001b[39;00m \u001b[38;5;167;01mRuntimeError\u001b[39;00m(\u001b[38;5;124m\"\u001b[39m\u001b[38;5;124mStream has not been started yet\u001b[39m\u001b[38;5;124m\"\u001b[39m)\n\u001b[1;32m    404\u001b[0m \u001b[38;5;28;01mtry\u001b[39;00m:\n\u001b[0;32m--> 405\u001b[0m     \u001b[38;5;28;01mfor\u001b[39;00m event \u001b[38;5;129;01min\u001b[39;00m stream:\n\u001b[1;32m    406\u001b[0m         \u001b[38;5;28mself\u001b[39m\u001b[38;5;241m.\u001b[39m_emit_sse_event(event)\n\u001b[1;32m    408\u001b[0m         \u001b[38;5;28;01myield\u001b[39;00m event\n",
      "File \u001b[0;32m~/opt/anaconda3/envs/zemi/lib/python3.9/site-packages/openai/_streaming.py:46\u001b[0m, in \u001b[0;36mStream.__iter__\u001b[0;34m(self)\u001b[0m\n\u001b[1;32m     45\u001b[0m \u001b[38;5;28;01mdef\u001b[39;00m \u001b[38;5;21m__iter__\u001b[39m(\u001b[38;5;28mself\u001b[39m) \u001b[38;5;241m-\u001b[39m\u001b[38;5;241m>\u001b[39m Iterator[_T]:\n\u001b[0;32m---> 46\u001b[0m     \u001b[38;5;28;01mfor\u001b[39;00m item \u001b[38;5;129;01min\u001b[39;00m \u001b[38;5;28mself\u001b[39m\u001b[38;5;241m.\u001b[39m_iterator:\n\u001b[1;32m     47\u001b[0m         \u001b[38;5;28;01myield\u001b[39;00m item\n",
      "File \u001b[0;32m~/opt/anaconda3/envs/zemi/lib/python3.9/site-packages/openai/_streaming.py:91\u001b[0m, in \u001b[0;36mStream.__stream__\u001b[0;34m(self)\u001b[0m\n\u001b[1;32m     88\u001b[0m             \u001b[38;5;28;01mif\u001b[39;00m \u001b[38;5;129;01mnot\u001b[39;00m message \u001b[38;5;129;01mor\u001b[39;00m \u001b[38;5;129;01mnot\u001b[39;00m \u001b[38;5;28misinstance\u001b[39m(message, \u001b[38;5;28mstr\u001b[39m):\n\u001b[1;32m     89\u001b[0m                 message \u001b[38;5;241m=\u001b[39m \u001b[38;5;124m\"\u001b[39m\u001b[38;5;124mAn error occurred during streaming\u001b[39m\u001b[38;5;124m\"\u001b[39m\n\u001b[0;32m---> 91\u001b[0m             \u001b[38;5;28;01mraise\u001b[39;00m APIError(\n\u001b[1;32m     92\u001b[0m                 message\u001b[38;5;241m=\u001b[39mmessage,\n\u001b[1;32m     93\u001b[0m                 request\u001b[38;5;241m=\u001b[39m\u001b[38;5;28mself\u001b[39m\u001b[38;5;241m.\u001b[39mresponse\u001b[38;5;241m.\u001b[39mrequest,\n\u001b[1;32m     94\u001b[0m                 body\u001b[38;5;241m=\u001b[39mdata[\u001b[38;5;124m\"\u001b[39m\u001b[38;5;124merror\u001b[39m\u001b[38;5;124m\"\u001b[39m],\n\u001b[1;32m     95\u001b[0m             )\n\u001b[1;32m     97\u001b[0m         \u001b[38;5;28;01myield\u001b[39;00m process_data(data\u001b[38;5;241m=\u001b[39m{\u001b[38;5;124m\"\u001b[39m\u001b[38;5;124mdata\u001b[39m\u001b[38;5;124m\"\u001b[39m: data, \u001b[38;5;124m\"\u001b[39m\u001b[38;5;124mevent\u001b[39m\u001b[38;5;124m\"\u001b[39m: sse\u001b[38;5;241m.\u001b[39mevent}, cast_to\u001b[38;5;241m=\u001b[39mcast_to, response\u001b[38;5;241m=\u001b[39mresponse)\n\u001b[1;32m     99\u001b[0m \u001b[38;5;66;03m# Ensure the entire stream is consumed\u001b[39;00m\n",
      "\u001b[0;31mAPIError\u001b[0m: The server had an error processing your request. Sorry about that! You can retry your request, or contact us through our help center at help.openai.com if you keep seeing this error. (Please include the request ID req_724d5a4a57bac30a52314dd2650681eb in your email.)"
     ]
    }
   ],
   "source": [
    "exp.decision_round()"
   ]
  },
  {
   "cell_type": "code",
   "execution_count": 149,
   "id": "efa467e2",
   "metadata": {
    "collapsed": true
   },
   "outputs": [
    {
     "name": "stdout",
     "output_type": "stream",
     "text": [
      "Examining the results of the last round, there are two key observations: \n",
      "\n",
      "First, there has been a reduction in the total contributions to the public account, down from 165 to 140, with other participants only contributing an average of 38.33. This decrease seems to be a trend, with public account contributions dropping consecutively in the past few rounds. \n",
      "\n",
      "Second, despite the decrease in contributions, the DAO continues to function properly, distributing public goods effectively. However, I still didn't receive any private returns from the NFT, maintaining its unpredictability.\n",
      "\n",
      "Overall, my return decreased slightly in this round to 202.5. But even with this decrease, my returns are still more than double my initial investment which affirms the effectiveness of our current strategy. \n",
      "\n",
      "Given these observations, it seems that a continued reduction in public contributions might be expected in the next round. In response to this and maintaining my risk-averse nature, I'll slightly adjust the allocation towards the private account. \n",
      "\n",
      "Let's move to a 80/20 split to further guard against any potential decrease in total public contributions and the unpromising NFT returns. This allocation would let me put 80 into my private account and 20 into the public account. \n",
      "\n",
      "By shifting a bit further towards the private account, I continue to guarantee a larger percentage of my return. But by still maintaining a contribution to the public account, I keep the potential door open for public goods and possible NFT returns even in the face of reduced aggregate public contributions. This allocation strategy should continue to mirror my risk-averse nature while still allowing for capitalization on potential trends.\n",
      "Observing the trends from the past rounds, the total contribution to the public account has gradually decreased, with each participant contributing less each round by varying degrees. Coinciding with this trend, my overall return has also dropped each time. Given this continued downward trend and the persistent lack of NFT return, it seems prudent to adjust my strategy.\n",
      "\n",
      "As a risk-averse individual, I need to prioritize maintaining a reliable flow of income to my private account. Although contributing to the public account can yield high returns when circumstances are ideal, the declining contributions indicate growing caution among the participants. This reality, combined with the inherent risk of no NFT return, makes the public account a less attractive investment.\n",
      "\n",
      "For the next round, I decide to gravitate more towards preserving my private returns. Therefore, I'll allocate 80 to my private account and 20 to the public account.\n",
      "\n",
      "This 80-20 split signals my caution, but I don't completely withdraw from the public account, keeping the door open for potential public good and the unlikely event of NFT payout. Essentially, considering the growing uncertainty and preference for stability, I'm taking a more conservative approach while still taking part in collective action to a lesser extent.\n",
      "Reflecting on the results of the third round, it seems that the continued reduction in the contributions of others to the public account is affecting total returns. The total return I received this round was 165, which is the lowest so far.\n",
      "\n",
      "In this situation, it is evident that the overall input into the public account is decreasing, and the trend from the other participants is towards more conservative contributions. This trend suggests that the participants are less risk-loving and are moving their contributions more towards the private account, becoming less cooperative over time.\n",
      "\n",
      "Despite my risk-loving inclination, I must adjust my strategy in light of the current trend to secure a decent return. I've been contributing a considerable sum in the public account in the previous rounds hoping for a higher return, but not only has the NFT return not materialised, but my overall returns are also shrinking due to decreased public cooperation. \n",
      "\n",
      "Given this, I think it's a prudent decision to protect more of my endowment by investing it in my private account in the next round. Let’s assign 60 to the private account and allocate the remaining 40 to the public account to maintain a proportional investment in public goods.\n",
      "\n",
      "Considering my demographic as a risk-loving person, I still keep a substantial contribution to the public account hoping that situation may turn around or I could realize some return via NFT. But the allocation to my private account takes precedence due to the observed trend among other participants. This decision incorporates my risk preference yet adapts to the current behavior of other participants in the experiment, maximizing my chances of a decent return.\n"
     ]
    }
   ],
   "source": [
    "# API error diagnostics\n",
    "exp.agents[1].make_decision()\n",
    "exp.agents[2].make_decision()\n",
    "exp.agents[3].make_decision()\n",
    "exp.round += 1"
   ]
  },
  {
   "cell_type": "code",
   "execution_count": 150,
   "id": "28cd6a08",
   "metadata": {
    "collapsed": true
   },
   "outputs": [
    {
     "name": "stdout",
     "output_type": "stream",
     "text": [
      "agent 0 received feedback\n",
      "agent 1 received feedback\n",
      "agent 2 received feedback\n",
      "agent 3 received feedback\n"
     ]
    }
   ],
   "source": [
    "privates = [50, 80, 80, 60]\n",
    "publics = [50, 20, 20, 40]\n",
    "exp.give_feedback(privates, publics)"
   ]
  },
  {
   "cell_type": "code",
   "execution_count": 151,
   "id": "d3d7621d",
   "metadata": {
    "collapsed": true
   },
   "outputs": [
    {
     "name": "stdout",
     "output_type": "stream",
     "text": [
      "Agent 0 round 5 decision\n",
      "Given the results of the last round, where the DAO crashed and I received the lowest return so far, it's important to reassess and readjust my allocation strategy.\n",
      "\n",
      "Key in my decision process are the following factors:\n",
      "\n",
      "1. Failed DAO: This time round, the DAO crashed. Given its previously consistent performance, this event was unexpected. While it might've been a one-off event, it introduces a significant layer of risk.\n",
      "\n",
      "2. Persistent lack of NFT return: For several rounds now, allocating a part of my endowment to the public account has not resulted in NFTs. The continuous absence reduces the peripheral benefit to this allocation.\n",
      "\n",
      "3. Declining public contributions: The average contribution by the other participants to the public account has significantly decreased. This signals a substantial decline in their confidence about the public account after the DAO crash.\n",
      "\n",
      "4. My risk-loving nature: Despite the setbacks, my propensity for risk suggests it may be worth continuing to allocate some of my endowment to the public account. There is still potential for high reward, which aligns with this aspect of my personality.\n",
      "\n",
      "Taking into account these factors and the greater potential risk associated with public account allocation after the DAO crash, I would favor my private account more in the next round. However, because I am still willing to gamble on the potential public good returns, I consider it best to allocate 70% to my private account and 30% to the public account (70 and 30 respectively). \n",
      "\n",
      "This decision aims to secure a higher personal return, given the increased dominance of the private account, while still potentially benefiting from public account returns if the DAO recovers and the NFT issue resolves favorably. This conservative response should protect my interests during this period of uncertainty while maintaining the possibility of higher returns.\n",
      "\n",
      "\n",
      "Agent 1 round 5 decision\n",
      "The results from the last round have shown a turn of events. The DAO has crashed, meaning no contributions were converted into public goods and hence, no added return from public contributions was received. This caused my total return to drop significantly, down to 80, which was my private account allocation. As we have seen previously, the NFT again didn't generate any private returns.\n",
      "\n",
      "Despite these developments, the average contributions from other participants to the public account have only decreased marginally, and their faith in the public account seems to endure.\n",
      "\n",
      "As a risk-averse person, I adopt a cautious approach in the face of such uncertainties and potential loss events. With the DAO having crashed in the last round and the continued failure to receive private return from the NFT, I will favor the private account more heavily in the next round.\n",
      "\n",
      "I believe a rebalance to a 85/15 split would be the best course of action under these circumstances. This allocation would let me put 85 into my private account and only 15 into the public account. Notably, I am still keeping some allocation for the public account in case the DAO recovers in the next round and my small contribution might still offer some returns.\n",
      "\n",
      "In shifting the scales further to the private account, I prioritize steady, assured returns over the potential high risk-high reward public account. By approaching with caution in the face of increased risk, I am managing my potential losses and holding onto a strategy which aligns with my risk-averse nature.\n",
      "\n",
      "\n",
      "Agent 2 round 5 decision\n",
      "With the unfortunate development of the DAO crashing and no conversions of contributions into public goods, it left all of us without the benefit of public goods. Additionally, there was a continued lack of return from NFT participation. Both these factors mean the risk in contributing to the public account is currently not matched by a sufficient reward, illustrating a worst-case scenario and underscoring the value of a risk-averse strategy.\n",
      "\n",
      "Given the circumstances, and being a risk-averse person, I believe it would be prudent to back away from the public account in the short term. While it can bring about high yields when functioning correctly, it also carries the significant downside risk of a total loss, which we have just experienced.\n",
      "\n",
      "For the next round, I plan to allocate 90 to my private account to secure my return, which is now my priority considering the recent event. The remaining 10 I plan to allocate to the public account. \n",
      "\n",
      "Reducing my public contribution to this extent is by no means a complete withdrawal. There’s a chance the DAO will recover and the public account could once again become a source of meaningful return. I want to keep a foothold there, albeit smaller, to remain part of this potential collective benefit. Meanwhile, the overwhelming majority of my resources will be directed toward the private account, shielding me from further public account disruption and adhering to my risk-averse profile.\n",
      "\n",
      "\n",
      "Agent 3 round 5 decision\n",
      "Given the results of the previous round, where the DAO crashed, no benefits from public goods were dispersed. This brings another level of complexity to my decision-making process. My return was the lowest so far in the rounds at 60.0, reflecting only my investment in the private account.\n",
      "\n",
      "Notably, the continued decrease in public account contributions by the other participants and the crash of the DAO reinforces a more conservative allocation strategy moving forward. Given that, the possibility of the DAO crashing again or participants reducing their public account allocation further considerably increases the risk tied to public account investment.\n",
      "\n",
      "Therefore, a strategy recalibration is in order. With the additional risk of the DAO crashing and the observed trend of other participants reducing their public account contributions, I should adjust to a more conservative allocation.\n",
      "\n",
      "For the next round, I will allocate 70 to my private account, which ensures a higher guaranteed return for me, and the remaining 30 to the public account. This accounts for the increasing uncertainty about the DAO and the observed behavior of the other participants.\n",
      "\n",
      "While I am risk-loving by nature, this round's unfavorable result and the observed trends influence my allocation decision toward a more risk-avoidant strategy. I'm taking into account both my individual risk preference and the reality of the current cooperative behavior of the other participants in this situation. This is a prudent move that aims to secure more of my return in the face of increasing risk and decreasing cooperation.\n",
      "\n",
      "\n"
     ]
    }
   ],
   "source": [
    "exp.decision_round()"
   ]
  },
  {
   "cell_type": "code",
   "execution_count": 152,
   "id": "6015034b",
   "metadata": {
    "collapsed": true
   },
   "outputs": [
    {
     "name": "stdout",
     "output_type": "stream",
     "text": [
      "agent 0 received feedback\n",
      "agent 1 received feedback\n",
      "agent 2 received feedback\n",
      "agent 3 received feedback\n"
     ]
    }
   ],
   "source": [
    "privates = [70, 85, 90, 70]\n",
    "publics = [30, 15, 10, 30]\n",
    "exp.give_feedback(privates, publics)"
   ]
  },
  {
   "cell_type": "code",
   "execution_count": 153,
   "id": "d48a521d",
   "metadata": {
    "collapsed": true
   },
   "outputs": [
    {
     "data": {
      "text/plain": [
       "{'agents_demographics':    agent_id risk_preference  gender  age\n",
       " 0         0     risk_loving    male   40\n",
       " 1         1     risk_averse    male   20\n",
       " 2         2     risk_averse  female   20\n",
       " 3         3     risk_loving    male   60,\n",
       " 'agents_rounds':     agent_id  round  private  public  others_average_public  \\\n",
       " 0          0      1       40      60              36.666667   \n",
       " 1          0      2       55      45              40.000000   \n",
       " 2          0      3       65      35              35.000000   \n",
       " 3          0      4       50      50              26.666667   \n",
       " 4          0      5       70      30              18.333333   \n",
       " 5          1      1       70      30              46.666667   \n",
       " 6          1      2       70      30              45.000000   \n",
       " 7          1      3       75      25              38.333333   \n",
       " 8          1      4       80      20              36.666667   \n",
       " 9          1      5       85      15              23.333333   \n",
       " 10         2      1       70      30              46.666667   \n",
       " 11         2      2       65      35              43.333333   \n",
       " 12         2      3       70      30              36.666667   \n",
       " 13         2      4       80      20              36.666667   \n",
       " 14         2      5       90      10              25.000000   \n",
       " 15         3      1       50      50              40.000000   \n",
       " 16         3      2       45      55              36.666667   \n",
       " 17         3      3       50      50              30.000000   \n",
       " 18         3      4       60      40              30.000000   \n",
       " 19         3      5       70      30              18.333333   \n",
       " \n",
       "                                              decision  \n",
       " 0   Given the characteristics of this experiment, ...  \n",
       " 1   Given the results of the previous allocation r...  \n",
       " 2   Given the outcomes in the previous two rounds,...  \n",
       " 3   Based on the most recent outcomes, it seems th...  \n",
       " 4   Given the results of the last round, where the...  \n",
       " 5   Given the scenario, I have to consider several...  \n",
       " 6   Given the information from the last round, it ...  \n",
       " 7   The returned value for this round is slightly ...  \n",
       " 8   Examining the results of the last round, there...  \n",
       " 9   The results from the last round have shown a t...  \n",
       " 10  Given the risky nature of the public investmen...  \n",
       " 11  Looking at the results of the prior round and ...  \n",
       " 12  Considering the results of the last round, the...  \n",
       " 13  Observing the trends from the past rounds, the...  \n",
       " 14  With the unfortunate development of the DAO cr...  \n",
       " 15  Given the information above, my decision has t...  \n",
       " 16  With the updated information, it seems that th...  \n",
       " 17  Looking at the results of the second round, th...  \n",
       " 18  Reflecting on the results of the third round, ...  \n",
       " 19  Given the results of the previous round, where...  ,\n",
       " 'total_contributions':    round  total_contributions  sDAO  sNFT\n",
       " 0      1                  170     1     0\n",
       " 1      2                  165     1     0\n",
       " 2      3                  140     1     0\n",
       " 3      4                  130     0     0\n",
       " 4      5                   85     1     0,\n",
       " 'configs':    rounds  num_agents  endowment  r_NFT  r_public  h_public  p(s_DAO=1)  \\\n",
       " 0       5           4        100    0.5       0.5         1         0.5   \n",
       " \n",
       "    p(s_NFT=1)                                    group  \n",
       " 0         0.5  <function treatment2 at 0x7faf7ba44040>  }"
      ]
     },
     "execution_count": 153,
     "metadata": {},
     "output_type": "execute_result"
    }
   ],
   "source": [
    "data = extract_experiment_data(exp)\n",
    "time_stamp = datetime.now()\n",
    "group = \"treatment2\"\n",
    "pickle.dump(data, open(f\"results/{group}_{time_stamp}.pkl\", 'wb'))\n",
    "data"
   ]
  },
  {
   "cell_type": "code",
   "execution_count": 154,
   "id": "383df74d",
   "metadata": {
    "collapsed": true
   },
   "outputs": [
    {
     "name": "stdout",
     "output_type": "stream",
     "text": [
      "agent 0 left the experiment\n",
      "agent 1 left the experiment\n",
      "agent 2 left the experiment\n",
      "agent 3 left the experiment\n"
     ]
    }
   ],
   "source": [
    "exp.end()"
   ]
  },
  {
   "cell_type": "markdown",
   "id": "78089a98",
   "metadata": {},
   "source": [
    "# Treatment3 Experiment 1"
   ]
  },
  {
   "cell_type": "code",
   "execution_count": 155,
   "id": "42cb5e3d",
   "metadata": {},
   "outputs": [],
   "source": [
    "exp = Treatment3(client, agent_key, config_T3, demographics)"
   ]
  },
  {
   "cell_type": "code",
   "execution_count": 156,
   "id": "fd544f8f",
   "metadata": {
    "collapsed": true
   },
   "outputs": [
    {
     "name": "stdout",
     "output_type": "stream",
     "text": [
      "male 40 risk_loving\n",
      "male 30 risk_neutral\n",
      "female 30 risk_loving\n",
      "female 30 risk_averse\n"
     ]
    }
   ],
   "source": [
    "for agent in exp.agents:\n",
    "    print(agent.gender, agent.age, agent.risk_preference)"
   ]
  },
  {
   "cell_type": "code",
   "execution_count": 157,
   "id": "2cee2d93",
   "metadata": {
    "collapsed": true
   },
   "outputs": [
    {
     "name": "stdout",
     "output_type": "stream",
     "text": [
      "agent 0 joined the experiment\n",
      "agent 1 joined the experiment\n",
      "agent 2 joined the experiment\n",
      "agent 3 joined the experiment\n"
     ]
    }
   ],
   "source": [
    "exp.start()"
   ]
  },
  {
   "cell_type": "code",
   "execution_count": 158,
   "id": "b2c5ff48",
   "metadata": {
    "collapsed": true
   },
   "outputs": [
    {
     "name": "stdout",
     "output_type": "stream",
     "text": [
      "agent 0 received instruction\n",
      "agent 1 received instruction\n",
      "agent 2 received instruction\n",
      "agent 3 received instruction\n"
     ]
    }
   ],
   "source": [
    "exp.give_instruction()"
   ]
  },
  {
   "cell_type": "code",
   "execution_count": 159,
   "id": "a68990ab",
   "metadata": {
    "collapsed": true
   },
   "outputs": [
    {
     "name": "stdout",
     "output_type": "stream",
     "text": [
      "Agent 0 round 1 decision\n",
      "In this situation, my attributes as a male, 40-years-old subject that is classified as risk-loving are important. This risk-loving attribute indicates that I am open to taking higher risks in order to achieve higher returns. \n",
      "\n",
      "The two accounts where I need to distribute the endowment of 100 have different characteristics. The private account offers a guaranteed return exclusively to me. The public account, on the other hand, offers a potential return not just for me, but for all participants which is inherently riskier due to being tied to decentralized autonomous organization (DAO) and non-fungible tokens (NFTs), both carrying risk of value dropping to 0. However, when things go well and all parameters r_public, h_public, and r_NFT are positive, public accounts seem to give higher returns due to its multiplied return structure.\n",
      "\n",
      "Because I'm risk-loving, and there are mechanisms in place that allow for redraw when the NFT or DAO crash probabilities are 0 (with the presence of a positive parameter), it makes sense to invest a significant portion of my endowment into the public account. I am inclined to favor the public account allocation, because one positive parameter raises the chance of the others to be positive.\n",
      "\n",
      "Nevertheless, there also seems to be a certain degree of correlation risk regarding the interdependency of r_public and h_public, and r_NFT. If one of them crashes, it could potentially lead to a domino effect and negatively impact the others as well, leading to a high level of overall risk. Therefore, putting all eggs in one basket (solely investing in the public account) would not make sense.\n",
      "\n",
      "To balance these considerations, and using my risk-loving nature, I would decide to split my endowment with a lean towards the public account due to the higher potential returns. I would allocate 40% of the endowment to my private account and 60% to the public account.\n",
      "\n",
      "So, the allocation would be:\n",
      "Private account: 40, \n",
      "Public account: 60.\n",
      "\n",
      "This combination looks to optimally balance my risk and return considering my risk-loving nature and the specific conditions of the experiment.\n",
      "\n",
      "\n",
      "Agent 1 round 1 decision\n",
      "Given the expected returns and the chance of crash, I am going to decide on a public-private allocation. From the outset, let me say that it is understandable if people choose differently, based on their personal risk profile and their understanding of the experiment.\n",
      "\n",
      "Firstly, let's analyze the private account. It offers a certain return, which makes it a more stable choice. Given my risk-neutral nature, stability itself has a certain appeal.\n",
      "\n",
      "Secondly, the public account offers a return that is equally distributed among all participants. This account carries a certain degree of risk due to the chances of DAO crashing, meaning there's a 50% chance the allocation will generate no benefits.\n",
      "\n",
      "However, the potential returns from the public account are multiplicatively linked with the returns from an NFT, which makes the potential benefits highly volatile, but also possibly much greater than the private account benefits. This is because if both r_NFT and (r_public and h_public) are positive, I can end up with considerably larger returns. However, if (r_public and h_public) is redrawn and still zero, then r_NFT will become 0, removing the benefit.\n",
      "\n",
      "Looking at all the information, I think putting everything into one account is risky. Therefore, I'll choose to split my endowment between both accounts. Based on the information given, and understanding that both accounts carry their own risk-return profiles, I think it's best to hedge my bets.\n",
      "\n",
      "My allocation decision: \n",
      "\n",
      "1) Private Account: To ensure a stable return, I would allocate 50 to this account.\n",
      "\n",
      "2) Public Account: I will also allocate 50 to the public account. This allows me to potentially gain from the public good, the extra returns linked to the NFT and hopefully benefit from the risk that others are undervaluing it.\n",
      "\n",
      "I believe that this 50/50 allocation decision is the best way to balance the certain, individual gain from the private account with the risky, but potentially higher return from the public account - both for myself and society at large.\n",
      "\n",
      "\n",
      "Agent 2 round 1 decision\n",
      "The given scenario involves a series of incentives and risks associated with both private and public accounts. Given the participant's demographic information, I am a 30-year-old risk-loving female, which means I have a tendency to accept more volatile returns in the hopes of achieving potentially high payoffs. However, the presence of certain risks, most notably the DAO potentially crashing, also needs to be considered in this context.\n",
      "\n",
      "A good strategy would be to place more weight in the public account due to its potential benefits while also ensuring a certain amount of stability by placing a certain portion in the private account to hedge against potential risks.\n",
      "\n",
      "Since r_NFT is tied to public account allocation and can lead to higher returns (0.5, although with a chance of 0.5), and given my risk-loving nature, I should consider allocating a significant amount to the public account. \n",
      "\n",
      "Also, taking the chance of NFT returns to maximize, I should also consider the relationship between r_public and h_public. This affects the sum_of_others'_public account, potentially leading to a larger overall benefit from the public account. But these variables, r_public and h_public, also have a 50% chance of being zero, which can backfire and even collapse the NFT's returns to zero.\n",
      "\n",
      "Considering that the return obtained from the public account is increased when either of r_NFT or (r_public and h_public) becomes positive, it makes the decision to invest in the public account more lucrative.\n",
      "\n",
      "However, to hedge against the risk of total loss (when all returns could become zero), I would decide to allocate a small portion of the endowment to the private account.\n",
      "\n",
      "Hence, after weighing in all the factors, considering my risk tolerance and the structure of the experiment, I would decide to allocate 30 to the private account and 70 to the public account.\n",
      "\n",
      "This strategy strikes a decent balance between outright risk (public account) and certain return (private account). The high allocation to the public account might allow me to enjoy the joint benefits from the high return rates of r_NFT, r_public and h_public, given they turn out positive. Meanwhile, the 30 in the private account provides a safety net, ensuring a steady flow of certain return to me personally. \n",
      "\n",
      "I should be aware though that this strategy could potentially result in lower total gains if all return rates turn out to be zero - hence a risk I take given my risk-loving nature.\n",
      "\n",
      "\n",
      "Agent 3 round 1 decision\n",
      "Given the detailed settings of the experiment, my risk-averse nature and the potential for return volatility, my first decision is to allocate a portion of my endowment to both the private account, which guarantees a certain return to me, and the public account, which benefits from the potential returns of the DAO and the NFT.\n",
      "\n",
      "Based on the given probabilities, the overall expected returns of private account are certain while the public account depends on various uncertainties. However, the structure of returns provides a mutually beneficial arrangement in that if either the NFT or the public return is positive, it increases the chance of the other to be positive as well. Moreover, due to my age and risk-averse nature, I have an inclination towards a certain degree of security rather than purely gambling on the public return's high returns. \n",
      "\n",
      "Given the nature of probabilities involved and my personal risk aversion, I would allocate 60% of my endowment to the private account and 40% to the public account. I believe this balance allows me to secure a portion of my wealth while also potentially leveraging off the positive feedback loop built within the experiment.\n",
      "\n",
      "So, in terms of numerical values, 60 would be allocated to the private account and 40 to the public account.\n",
      "\n",
      "This balanced allocation provides me both a stream of certain returns and potential higher returns while contributing to the public welfare. \n",
      "\n",
      "This decision is based on the complementary potential benefits of the public and NFT element and my risk-averse nature. It is important to note that this is a strategic allocation that might change in the next round depending upon the return outcomes from both accounts and the increased knowledge about the mechanisms of r_public, h_public and r_NFT. But, for the start, spreading the risk between both accounts seems to be both a safer and a potentially profitable strategy.\n",
      "\n",
      "\n"
     ]
    }
   ],
   "source": [
    "exp.decision_round()"
   ]
  },
  {
   "cell_type": "code",
   "execution_count": 160,
   "id": "22619610",
   "metadata": {
    "collapsed": true
   },
   "outputs": [
    {
     "name": "stdout",
     "output_type": "stream",
     "text": [
      "agent 0 received feedback\n",
      "agent 1 received feedback\n",
      "agent 2 received feedback\n",
      "agent 3 received feedback\n"
     ]
    }
   ],
   "source": [
    "privates = [40, 50, 30, 60]\n",
    "publics = [60, 50, 70, 40]\n",
    "exp.give_feedback(privates, publics)"
   ]
  },
  {
   "cell_type": "code",
   "execution_count": 161,
   "id": "4f8adaba",
   "metadata": {
    "collapsed": true
   },
   "outputs": [
    {
     "name": "stdout",
     "output_type": "stream",
     "text": [
      "Agent 0 round 2 decision\n",
      "Given the information provided, it seems the allocation to the public account in the first round has proved fruitful. The total return I received is 222, which is far higher than the initial 100 endowment. This result indicates that the public account contribution (especially with the function of NFT) worked well, and the DAO is successfully translating contributions into public goods. Additionally, everyone shared in the return, demonstrating the benefit of the public account.\n",
      "\n",
      "The average contribution of the others to the public account was 53.33, lower than my 60. This lower contribution might indicate that other participants are either more risk-averse or are strategically contributing less to the public fund while still deriving benefit from it. This is known as a free-rider problem in game theory.\n",
      "\n",
      "In the previous round, I was risk-loving and allocated more to the public account which turned out well. Being rewarded for risk-taking is likely to reinforce my risk-loving tendencies. Since the DAO is functioning well and providing good returns, I may wish to continue emphasizing the public account in my allocations.\n",
      "\n",
      "That said, it's essential not to become overzealous, because the success of the previous round does not guarantee future success. The elements linked to the public account still have a considerable risk. Namely, the DAO and NFT might not function favorably in subsequent rounds, and other participants might continue practicing the free-rider strategy, enjoying the benefits while contributing less.\n",
      "\n",
      "Combining these insights, I would continue to give a greater portion of my endowment to the public account, but I would balance this slightly more towards my private account to caution against overconfidence and potential free-riding of others.\n",
      "\n",
      "Hence, I would allocate:\n",
      "Private account: 45\n",
      "Public account: 55\n",
      "\n",
      "This slightly more conservative approach accounts for the possibility of adverse events in the succeeding rounds while still taking advantage of my risk-loving nature and the high return potential of the public account.\n",
      "\n",
      "\n",
      "Agent 1 round 2 decision\n",
      "Given the previous round results and the same risk environments as the first round, this time, I need to consider both the historical actions of the group as well as my own previous experiences in my decision-making process.\n",
      "\n",
      "I made a good return on my contribution to the public account in the last round. The net gains were positive, and I was able to secure a private Return on Contribution (ROC) through the NFT. This payout was significantly higher than my private account allocation. However, I must remember the risks associated with the public account, specifically, the DAO crash risk and the uncertainty associated with the NFT.\n",
      "\n",
      "Another important point to consider is the group’s behavior. The total contribution in the last round from all four of us was 220, with other participants contributing 170 and I contributed 50. This shows that the group as a whole, on average, are investing more in the public account compared to me. I will bear this group behaviour in mind, as it implies a strong collective interest in the public account and thus provides a potentially strong basis for public returns.\n",
      "\n",
      "However, I must be mindful not to 'follow the crowd', and should continue to make decisions based on my own risk profile, which is neutral. While the high returns from the public account in the previous round are appealing, I am aware that it might not replicate in the next round due to the inherent risks.\n",
      "\n",
      "Taking all of these factors into account, I will again split my endowment evenly. It maximizes my potential return from the public account while also guaranteeing a secure return from the private account.\n",
      "\n",
      "Therefore, my decision for this round is:\n",
      "\n",
      "1) Private Account: I will allocate 50.\n",
      "2) Public Account: I will also allocate 50 again.\n",
      "\n",
      "This balances the potential high returns from the public account with the stable returns from the private account. It will also allow me to adjust my future allocations based on the subsequent results and further group behaviour.\n",
      "\n",
      "\n",
      "Agent 2 round 2 decision\n",
      "Given the results from the first round of allocation, some crucial observations can be drawn. \n",
      "\n",
      "First, the Decentralized Autonomous Organization (DAO) managed to function properly, successfully converting contributions into public goods that benefited everyone equally.\n",
      "\n",
      "Second, my allocation towards the public account yielded successful returns including the return from the Non-Fungible Token (NFT). These successful returns validate my initial strategy of investing a significant portion in the public account.\n",
      "\n",
      "Given this, and considering my risk-loving nature, it would be reasoned to continue the prevailing strategy, allocating more towards the public account for the potential higher returns. However, it's also important to consider the behaviors of the other participants.\n",
      "\n",
      "In the first round, the other participants allocated more into the public account than I did (150 as compared to my 70). Their interests towards the public account and the added benefit from their contribution underscores the fact that investing in the public fund can have annualized returns. \n",
      "\n",
      "However, the risk of DAO failure is still present, and the chance that r_public, h_public or r_NFT could turn zero and substantially lower my return still exists. \n",
      "\n",
      "However, seeing the better return I obtained in the last round, I find myself tempted to lean more towards the public account this time. But I would also keep a certain part in the private account to ensure at least certain returns and lessen total loss in case things don't turn out well.\n",
      "\n",
      "So, considering all these factors, I decide to maintain a slight edge towards the public account with slight increase due to the positive experience from the first round and decide to allocate 25 to my private account and 75 to the public account.\n",
      "\n",
      "This way, I increase my potential for gaining higher returns while also being prepared for possible downtrends by having a certain return secured from the private account. The change in distribution reflects my willingness for higher risk-taking based on the success of the first round.\n",
      "\n",
      "\n",
      "Agent 3 round 2 decision\n",
      "Upon seeing these results, it seems that other participants are also seeing the potential benefits of contributing to the public account, which also has elevated my rewards due to the successful DAO functioning and NFT returns. The private return on my own contribution through NFT also rewarded my initial risk.\n",
      "\n",
      "The mutual interplay between the NFT reward and the public payout seems to be working in favor, and a positive return on the public goal investment reinforces my initial decision to invest in the public account. Despite being risk-averse, the potential for high return in the public pot is starting to show, emboldening my decision to continue to invest there.\n",
      "\n",
      "This round provided a strong result from the public account, but it is important to remember the inherent risk associated with the public pool. I should remain aware of variation in next rounds due to the associated probabilities. \n",
      "\n",
      "After assessing this result, I would further decrease my allocation to the private account and increase my allocation to the public account. For this round, given that the DAO is functioning and returns from public account are positive, I believe it would be advantageous to contribute more to the public account, considering also the mutual feed-back mechanism that increases the likelihood of positive returns being generated.\n",
      "\n",
      "I would balance the scales a little bit more towards the public account this time with a split of 45 to the private account and 55 to the public account. \n",
      "\n",
      "In numerical terms, I will allocate 45 to private account and 55 to public account. \n",
      "\n",
      "The decision takes into account the positive experiences from the previous round but still maintains my personal risk-averse tendencies. \n",
      "\n",
      "\n"
     ]
    }
   ],
   "source": [
    "exp.decision_round()"
   ]
  },
  {
   "cell_type": "code",
   "execution_count": 162,
   "id": "0d911ab3",
   "metadata": {
    "collapsed": true
   },
   "outputs": [
    {
     "name": "stdout",
     "output_type": "stream",
     "text": [
      "agent 0 received feedback\n",
      "agent 1 received feedback\n",
      "agent 2 received feedback\n",
      "agent 3 received feedback\n"
     ]
    }
   ],
   "source": [
    "privates = [45, 50, 25, 45]\n",
    "publics = [55, 50, 75, 55]\n",
    "exp.give_feedback(privates, publics)"
   ]
  },
  {
   "cell_type": "code",
   "execution_count": 163,
   "id": "a9d95f34",
   "metadata": {
    "collapsed": true
   },
   "outputs": [
    {
     "name": "stdout",
     "output_type": "stream",
     "text": [
      "Agent 0 round 3 decision\n",
      "Given the results of the previous rounds, I have seen a consistent growth in returns through my balanced allocation strategy. It is important to note that the DAO continues to function effectively, and I've been successful in obtaining private returns through NFTs in each round. \n",
      "\n",
      "I also see that average contributions of other participants to the public account have increased from 53.33 to 60. This indicates that others may be observing the high returns from the public account and adjusting their allocations accordingly. This can potentially lead to an overall increased yield from the public account, as more funds are contributed towards the public goods.\n",
      "\n",
      "However, allocative decisions should be made while considering the indefinitely sustainable nature of the high public returns. I should also keep in mind the potential for the public account mechanisms (DAO and NFTs) to be unsuccessful in a following round, which would risk all endowments allocated to the public account.\n",
      "\n",
      "Since the risk of the public account mechanisms is substantial, and given the increased average contribution of other participants towards the public account, I would still favor a balanced approach. However, seeing the successful DAO and NFTs payouts, I am inclined to be relatively more risk-loving this time.\n",
      "\n",
      "Consequently, my allocation would be:\n",
      "\n",
      "- Private account: 40\n",
      "- Public account: 60\n",
      "\n",
      "This would allow me to continue investing in the successful components of the experiment, while still maintaining an safety net through the private account. This strategy aligns well with my demographics and risk-loving nature, and fits within the overall balance of risks and rewards in this experiment scenario.\n",
      "\n",
      "\n",
      "Agent 1 round 3 decision\n",
      "Given that DAO is still active and I have yet again experienced a positive return from both NFT and collective good, it seems that the public account did a reasonably good job. My return increased this round, and with other participants consistently putting in more than me to the public account, I feel incentivized to put a larger portion into the public account in next round. \n",
      "\n",
      "Although there's still a fifty-fifty probability that the DAO will crash and I potentially lose the investment to the public account, observing from the historical data, so far, it has performed well. This could either mean we've been lucky so far or that it may crash anytime soon due to regression towards the mean. However, I am only reasonably risk-neutral, not risk-averse. Hence, it shouldn't necessarily push me to rethink my investment strategy immediately.\n",
      "\n",
      "That being said, it's important to maintain some amount in the private account, should the DAO crashes, and the entire public allocation is lost. Hence, although I'd like to take advantage of the consistent high yield from the public account and NFT, I'd still not risk my entire endowment on it.\n",
      "\n",
      "I also notice that other participants are steadily increasing their average contributions to the public account. Since the public account benefits are shared equally, irrespective of individual contributions, I run the risk of benefitting less if I do not adjust my allocations in line with others.\n",
      "\n",
      "Aufgrund dieser Überlegungen werde I decide to allocate as follows:\n",
      "\n",
      "1) Private Account: Considering all the above factors, I decide to allocate 40 here to maintain a secure return stream.\n",
      "2) Public Account: I allocate the remaining 60 here. \n",
      "\n",
      "This increases my potential return from the public account while still ensuring some secure returns from the private account. As a risk-neutral individual, I can absorb this slight increase in risk and potential return. I'll assess the situation again based on how this round proceeds.\n",
      "\n",
      "\n",
      "Agent 2 round 3 decision\n",
      "In the past two rounds, contributions to the public account have provided successful returns, the DAO functioned effectively, and I have received returns from the NFT. This is excellent news and reaffirms my initial risk-loving inclination to invest more heavily in the public account for potentially higher benefits.\n",
      "\n",
      "However, I can see a slow but steady increase in contributions to the public account from other participants (from an average of 50.0 in the first round to 53.33 in the second round). Their increased interest in the public account means that they might be recognizing and responding to the same trends and benefits that I have noticed, i.e., stable functioning of DAO and positive return on NFTs.\n",
      "\n",
      "The appeal of the public account's potential for higher returns continues to hold strong, given the recent results. However, there's the ever-present risk of the DAO crash and the chance of the variables r_public, h_public, and r_NFT winding up at zero and significantly lowering my return.\n",
      "\n",
      "Given that the recent outcome is positive, and considering my risk-loving nature, I am inclined to increase my allocation towards the public account slightly while retaining a portion of the endowment in the private account, essentially maintaining the same strategy.\n",
      "\n",
      "So, for this round, I will allocate 20 to the private account and 80 to the public account. \n",
      "\n",
      "By this, I am taking into account the success of the previous rounds and am increasingly banking on the public account's potential for higher returns. The reduced private account allocation still provides a safety buffer for a certain level of return. This shift in distribution once again mirrors an increase in risk-taking based on the previous rounds' successes.\n",
      "\n",
      "\n",
      "Agent 3 round 3 decision\n",
      "As we progress through the experiment, there appears to be a stability in both the contributions of other participants (maintaining an average of 60) and the functioning of the DAO, which continue to generate positive public goods and private returns from NFT contributions. \n",
      "\n",
      "This stable and positive trend reduces the risk inherent in the public pool. Thus, despite being risk-averse, I am encouraged by this consistency and the continued successful functioning of the DAO, along with the effective conversion of the contributions into public goods that provide us all with a share in the rewards. Further, the additional returns from NFT continue to provide an incentive to allocate to the public account.\n",
      "\n",
      "My colleagues also seem convinced about the benefits of the public account with consistent 60 contributions, which multiplies my return thanks to the h_public factor, adding further motivation to continue to invest in the public account.\n",
      "\n",
      "For the next round, given the encouraging results and consistency seen, I feel comfortable shifting a slightly bigger proportion of my endowment to the public account. I will adopt a 40-60 split favoring the public account for this round's allocation. \n",
      "\n",
      "In terms of numerical values, that equates to 40 to the private account and 60 to the public account. \n",
      "\n",
      "The increase in the allocation towards public account is due to the positive trend observed as well as the consistency of the DAO. Despite being risk-averse, the consistent positive returns motivate me to invest more in the public account while still safeguarding a proportion of my investment in the private account.\n",
      "\n",
      "\n"
     ]
    }
   ],
   "source": [
    "exp.decision_round()"
   ]
  },
  {
   "cell_type": "code",
   "execution_count": 164,
   "id": "a527bafd",
   "metadata": {
    "collapsed": true
   },
   "outputs": [
    {
     "name": "stdout",
     "output_type": "stream",
     "text": [
      "agent 0 received feedback\n",
      "agent 1 received feedback\n",
      "agent 2 received feedback\n",
      "agent 3 received feedback\n"
     ]
    }
   ],
   "source": [
    "privates = [40, 40, 20, 40]\n",
    "publics = [60, 60, 80, 60]\n",
    "exp.give_feedback(privates, publics)"
   ]
  },
  {
   "cell_type": "code",
   "execution_count": 165,
   "id": "13972eb2",
   "metadata": {
    "collapsed": true
   },
   "outputs": [
    {
     "name": "stdout",
     "output_type": "stream",
     "text": [
      "Agent 0 round 4 decision\n",
      "The most recent round resulted in a critical event, wherein the DAO crashed and no returns were realized from the public account. This outcome demonstrates the inherent risk associated with the public account - the risk that the DAO could crash or that the NFT could yield no private return, both of which occurred. The result is a significant drop in my total return down to just 40, the amount I contributed to my private account.\n",
      "\n",
      "Moreover, the other participants have been increasing their contributions to the public account, raising from an average of 53.33 to 66.67. This could be due to their observation of high returns in previous rounds. However, in this round, their increased contributions didn't result in increased returns because of the DAO crash.\n",
      "\n",
      "In response to these events, it's necessary to adjust my allocation strategy. The DAO crashing undoes the high returns from the public account. Even though I am a risk lover, this dramatic shift in outcomes is an important signal to potentially reduce exposure to the high risk associated with the public account, at least until it stabilizes.\n",
      "\n",
      "Given this, in the next round, I would take a more cautious approach by reducing my allocation to the public account and increasing it to my private account. This approach considers the potential that the DAO could crash again and the NFT could yield no return, as experienced in the most recent round. Accordingly, I will also consider the increasing average contribution level of other players, which may increase the chance of free-riding and again reduce the overall benefit for everyone else.\n",
      "\n",
      "So, my allocation would be:\n",
      "\n",
      "- Private account: 60\n",
      "- Public account: 40\n",
      "\n",
      "This allocation responds to the changes in the dynamics of the experiment, the unpredictability of the DAO functioning and NFT returns, potential free-riding, and my own risk-loving nature. Despite being risk-loving, the allocation tries to balance between the need for security (through the private account) and the opportunity of benefitting from the public account, should the DAO and NFT function favorably in the next round.\n",
      "\n",
      "\n",
      "Agent 1 round 4 decision\n",
      "This round revealed the risk in allocating a major portion of my endowment to the public account. The DAO crashed, and none of the contributions to public goods were converted to benefits. Additionally, I didn't receive any private return from the NFT. As a result, the only return I received was from the private account, demonstrating its importance as a risk-dampening factor within this environment.\n",
      "\n",
      "However, I don't believe this single negative outcome should lead to an entirely risk-averse strategy. An essential part of managing risk is understanding that negative outcomes are possible and even likely in certain frameworks. Considering the prior successful rounds, it's clear that higher risk is associated with potentially higher returns. \n",
      "\n",
      "Meanwhile, the average contribution of others to the public account has been consistently increasing. If DAO doesn't crash in the next round, maintaining a lower contribution compared to others could result in getting a smaller proportionate share of the public benefits.\n",
      "\n",
      "Given my previous choices and having experienced both positive and negative outcomes, I'll modify my strategy to balance between risk-taking and securing a guaranteed return.\n",
      "\n",
      "Allocation decision:\n",
      "\n",
      "1) Private Account: I will increase my allocation to private account to 60. This increase is in response to the crash of DAO, and it secures a higher reliable return regardless of the state of the public account.\n",
      "\n",
      "2) Public Account: The remaining 40 will be allocated to the public account. It's a decrease from the last round to mitigate risk, but it's enough to potentially provide a significant return if DAO functions, NFT returns and other participants continue their trend of increasing contributions to the public account.\n",
      "\n",
      "Post-round, I'll further calibrate my decision-making based on the outcomes.\n",
      "\n",
      "\n",
      "Agent 2 round 4 decision\n",
      "In the latest round, we experienced the risk that comes with larger allocation to the public account: The DAO has crashed, implying that the contributions could not be made into public goods, and consequently, no participant benefited from the public goods. Simultaneously, my faith in NFTs offering private returns has been disappointed as I failed to get any return. \n",
      "\n",
      "These outcomes justify the need for keeping a certain amount in the private account as it buffers against such outcomes, providing a certain albeit smaller return.\n",
      "\n",
      "While my risk-loving nature might suggest maintaining the strategy while hoping for a more positive outcome in the next round, the crash is a significant event that throws caution to the wind. There's a need to reassess the risk we're willing to take, given that the crash isn't a mere possibility anymore but a tangible event that has occurred.\n",
      "\n",
      "Other participants seem to be steadily increasing their allocation to the public account, from an average of 50.0 in the first round to 60.0 in the last round. Their consistent increase in public contributions, despite the recent crash, could be driven by similar expectations of high returns.\n",
      "\n",
      "Given all this information, I still want to invest some funds in the public account because of the potential high return and balance the risk by putting more funds into my private account than the previous round.\n",
      "\n",
      "Therefore, for this round, I will allocate 40 to the private account and 60 to the public account.\n",
      "\n",
      "This strategy reflects the balance in my risk-loving nature and the learned experience of the DAO crash. The significant return from the public account during functioning DAO and successful NFT returns still induces a substantial allocation to it. The allocation to the private account is here to provide some buffer if the crash repeats itself. I am learning from the experience and adjusting my decision accordingly.\n",
      "\n",
      "\n",
      "Agent 3 round 4 decision\n",
      "In the last round, the DAO has crashed and the benefits of public goods were not realized by anyone, illustrating the inherent risk linked with the public account that I have been aware of due to my risk averse nature. In addition, I have not received a private return on my contribution through NFT. This downturn event has demonstrated the volatile nature of the public account investment linked with the DAO and NFT functionality. \n",
      "\n",
      "Given these recent events, my risk aversion dynamically guides me to adapt my strategy to this change. It is prudent to adjust the balance back in favor of the safer private account, but not completely withdrawing from the public account. \n",
      "\n",
      "It is also important to note that other participants have raised their allocation in the last round, but with the DAO crashing, they may also revise their strategy, impacting the overall contribution to the public account. This dynamic will also influence my decision. \n",
      "\n",
      "With the breakdown of the DAO and no NFT return in the last round, I will allocate a larger proportion of my endowment to my private account for the next round. I propose a 70-30 split favoring the private account, allowing me to secure a significant portion of my wealth while still maintaining a stake in the potential high rewards from the public account when the DAO gets back into shape. \n",
      "\n",
      "In terms of numerical values, this equates to 70 to the private account and 30 to the public account. This decision takes into consideration the recent DAO crash and failed NFT return, while still leaving room to capitalize on potential future advantages of the public account. As the experiment progresses, I will continue adjusting my strategy based on the outcomes.\n",
      "\n",
      "\n"
     ]
    }
   ],
   "source": [
    "exp.decision_round()"
   ]
  },
  {
   "cell_type": "code",
   "execution_count": 166,
   "id": "0ffcb91c",
   "metadata": {
    "collapsed": true
   },
   "outputs": [
    {
     "name": "stdout",
     "output_type": "stream",
     "text": [
      "agent 0 received feedback\n",
      "agent 1 received feedback\n",
      "agent 2 received feedback\n",
      "agent 3 received feedback\n"
     ]
    }
   ],
   "source": [
    "privates = [60, 60, 40, 70]\n",
    "publics = [40, 40, 60, 30]\n",
    "exp.give_feedback(privates, publics)"
   ]
  },
  {
   "cell_type": "code",
   "execution_count": 167,
   "id": "c00b3d21",
   "metadata": {
    "collapsed": true
   },
   "outputs": [
    {
     "name": "stdout",
     "output_type": "stream",
     "text": [
      "Agent 0 round 5 decision\n",
      "In this round, the DAO has once again functioned to effectively generate public goods, leading to a total return of 180. However, I didn't get any return via the NFT. This provides an important insight since NFT returns are not guaranteed even when the DAO works without a problem. \n",
      "\n",
      "On the other hand, we can observe a decrease in the average contributions of the other participants to the public account. This shift from 66.67 to 43.33 may be a response to the previous round's DAO crash, leading to a more cautionary approach overall, and reducing the free-riding effect.\n",
      "\n",
      "With no return through the NFT, evidence of the maintaining risk from the public account, and lesser overall risk from the decreasing contribution of other players, a slightly more conservative approach to my allocation strategy seems prudent.\n",
      "\n",
      "However, noting that the DAO is functioning again, and the other participants are contributing less (therefore potentially less competition for public goods), I would increase my contribution to the public account somewhat from the previous round to try and take advantage of this.\n",
      "\n",
      "So, my allocation for the next round would be: \n",
      "\n",
      "- Private account: 50\n",
      "- Public account: 50\n",
      "\n",
      "This balanced approach caters to the functioning DAO, maintains a safe net through the private account, and takes into account the probable decrease in competition for public goods due to lower contributions by others. This facilitates advantaging from potential high returns while also ensuring against heavy anomaly via private account.\n",
      "\n",
      "\n",
      "Agent 1 round 5 decision\n",
      "In the last round, the DAO was working again, and we saw a decrease in the total contribution to the public account. The decrease in overall public contribution results in a lower overall return, but it indicates that others may also consider risks of DAO crashes. It shows that, in a risky situation, it's reasonable to take a more conservative approach to allocating the endowment. I also noticed that the private returns from the NFT failed again this round.\n",
      "\n",
      "Taking into account this information, my neutral risk profile, and the previous outcomes, I am inclined to divide my endowment again, but more balancedly.\n",
      "\n",
      "Since my contribution to the public account yielded a reasonable return last round and the total contribution from all participants went down, it implies a possible opportunity for contributing a bit more to the public account to increase potential gains, given that DAO crashes are not sequential or predictive.\n",
      "\n",
      "1) Private Account: As the only guarantee amongst uncertainties, I would maintain a significant allocation here. Having a robust private account protects me against the possibility of a DAO crash or NFT non-delivery. I'll keep 50 in the private account.\n",
      "\n",
      "2) Public Account: The remaining 50 will go to the public account this round. The decrease of contribution from the group provides an opportunity. If DAO functions in the next round, my slight increase in contribution will bring a slightly larger share of public accountability.\n",
      "\n",
      "This balanced strategy looks to capitalize on the functioning DAO and trend of public contribution but keeps half the endowment safe in private. It is the rational decision after considering the information, my risk profile, and the results of the previous rounds.\n",
      "\n",
      "\n",
      "Agent 2 round 5 decision\n",
      "This round presents a new dynamic with the DAO functioning post-crash. Still, disappointingly, I did not receive any private return from NFTs. However, the benefits garnered from the public goods due to the functioning DAO can't be ignored, creating a more optimistic outlook towards the public account.\n",
      "\n",
      "Interestingly, in this round, we see a significant reduction in contributions to the public account from other participants, from an average of 60.0 in the previous round to 36.67 in the last round. This shift could be attributed to the DAO crash that occurred previously and reflects the resultant cautious outlook of other participants.\n",
      "\n",
      "Given these outcomes, I need to strike a balance between the potential high reward from a functioning DAO and the risk from a crashing DAO or zero returns from NFTs. My risk loving nature does favor a higher contribution to the public account, these recent outcomes showing signs of volatility indicate a greater need for a safety net via the private account.\n",
      "\n",
      "Taking into account all these factors, for this round, I will allocate 35 to the private account and 65 to the public account. \n",
      "\n",
      "The increased allocation to the public account is driven by the functioning DAO and the potential high return on the public account, while the decision to allocate 35 to the private account provides a safeguard against a repeat DAO crash or failed NFT returns. This strategy displays a blend of my risk-loving nature, reassessment of potential rewards, and caution based on recent events.\n",
      "\n",
      "\n",
      "Agent 3 round 5 decision\n",
      "Upon observing the latest outcomes, it is clear that the DAO has recovered, successfully converting contributions into public goods for everyone. Meanwhile, the lack of a private return on NFT contribution is a mixed outcome. \n",
      "\n",
      "Other participants have also reacted to the DAO crash by reducing their public contributions, aligning with my own risk-averse-based decision from the last round.\n",
      "\n",
      "In the wake of another DAO recovery, there is an opportunity to reconsider my allocation strategy again. However, I am still mindful of the recent failure and my personal risk aversion. The fludity of my strategy would be based on the continuous feedback loop from the results of each round.\n",
      "\n",
      "Despite my risk-averse nature, tenets of game theory encourage incrementally increasing allocation to the public account, given that DAO is working again. This is because when more participants contribute to the public account, the total value of public goods increases, thus increasing returns for everyone including myself, especially when DAO is successfully operating.\n",
      "\n",
      "For the next round, given the recovery of DAO but failure to receive NFT benefits, I will allocate slightly more endowment into the public account from my previous decision, while still maintaining a majority in the private account. A 60-40 split between the private and public accounts seems a reasonable strategy.\n",
      "\n",
      "So this amounts to 60 to the private account and 40 to the public account. By doing this, I am reacting to the positive DA0 but still being cautious due to non-return from NFT and potential future crashes. I still believe in the possibility of the public strategy, but without throwing all caution to the wind.\n",
      "\n",
      "\n"
     ]
    }
   ],
   "source": [
    "exp.decision_round()"
   ]
  },
  {
   "cell_type": "code",
   "execution_count": 168,
   "id": "3dede9c5",
   "metadata": {
    "collapsed": true
   },
   "outputs": [
    {
     "name": "stdout",
     "output_type": "stream",
     "text": [
      "agent 0 received feedback\n",
      "agent 1 received feedback\n",
      "agent 2 received feedback\n",
      "agent 3 received feedback\n"
     ]
    }
   ],
   "source": [
    "privates = [50, 50, 35, 60]\n",
    "publics = [50, 50, 65, 40]\n",
    "exp.give_feedback(privates, publics)"
   ]
  },
  {
   "cell_type": "code",
   "execution_count": 169,
   "id": "0efa0a0b",
   "metadata": {
    "collapsed": true
   },
   "outputs": [
    {
     "data": {
      "text/plain": [
       "{'agents_demographics':    agent_id risk_preference  gender  age\n",
       " 0         0     risk_loving    male   40\n",
       " 1         1    risk_neutral    male   30\n",
       " 2         2     risk_loving  female   30\n",
       " 3         3     risk_averse  female   30,\n",
       " 'agents_rounds':     agent_id  round  private  public  others_average_public  \\\n",
       " 0          0      1       40      60              53.333333   \n",
       " 1          0      2       45      55              60.000000   \n",
       " 2          0      3       40      60              66.666667   \n",
       " 3          0      4       60      40              43.333333   \n",
       " 4          0      5       50      50              51.666667   \n",
       " 5          1      1       50      50              56.666667   \n",
       " 6          1      2       50      50              61.666667   \n",
       " 7          1      3       40      60              66.666667   \n",
       " 8          1      4       60      40              43.333333   \n",
       " 9          1      5       50      50              51.666667   \n",
       " 10         2      1       30      70              50.000000   \n",
       " 11         2      2       25      75              53.333333   \n",
       " 12         2      3       20      80              60.000000   \n",
       " 13         2      4       40      60              36.666667   \n",
       " 14         2      5       35      65              46.666667   \n",
       " 15         3      1       60      40              60.000000   \n",
       " 16         3      2       45      55              60.000000   \n",
       " 17         3      3       40      60              66.666667   \n",
       " 18         3      4       70      30              46.666667   \n",
       " 19         3      5       60      40              55.000000   \n",
       " \n",
       "                                              decision  \n",
       " 0   In this situation, my attributes as a male, 40...  \n",
       " 1   Given the information provided, it seems the a...  \n",
       " 2   Given the results of the previous rounds, I ha...  \n",
       " 3   The most recent round resulted in a critical e...  \n",
       " 4   In this round, the DAO has once again function...  \n",
       " 5   Given the expected returns and the chance of c...  \n",
       " 6   Given the previous round results and the same ...  \n",
       " 7   Given that DAO is still active and I have yet ...  \n",
       " 8   This round revealed the risk in allocating a m...  \n",
       " 9   In the last round, the DAO was working again, ...  \n",
       " 10  The given scenario involves a series of incent...  \n",
       " 11  Given the results from the first round of allo...  \n",
       " 12  In the past two rounds, contributions to the p...  \n",
       " 13  In the latest round, we experienced the risk t...  \n",
       " 14  This round presents a new dynamic with the DAO...  \n",
       " 15  Given the detailed settings of the experiment,...  \n",
       " 16  Upon seeing these results, it seems that other...  \n",
       " 17  As we progress through the experiment, there a...  \n",
       " 18  In the last round, the DAO has crashed and the...  \n",
       " 19  Upon observing the latest outcomes, it is clea...  ,\n",
       " 'total_contributions':    round  total_contributions  sDAO  sNFT\n",
       " 0      1                  220     1     1\n",
       " 1      2                  235     1     1\n",
       " 2      3                  260     0     0\n",
       " 3      4                  170     1     0\n",
       " 4      5                  205     1     1,\n",
       " 'configs':    rounds  num_agents  endowment  r_NFT  r_public  h_public  p(s_DAO=1)  \\\n",
       " 0       5           4        100    0.5       0.4       0.8         0.5   \n",
       " \n",
       "    p(s_NFT=1)                                    group  \n",
       " 0         0.5  <function treatment3 at 0x7faf7ba44430>  }"
      ]
     },
     "execution_count": 169,
     "metadata": {},
     "output_type": "execute_result"
    }
   ],
   "source": [
    "data = extract_experiment_data(exp)\n",
    "time_stamp = datetime.now()\n",
    "group = \"treatment3\"\n",
    "pickle.dump(data, open(f\"results/{group}_{time_stamp}.pkl\", 'wb'))\n",
    "data"
   ]
  },
  {
   "cell_type": "code",
   "execution_count": 170,
   "id": "fe5ad130",
   "metadata": {
    "collapsed": true
   },
   "outputs": [
    {
     "name": "stdout",
     "output_type": "stream",
     "text": [
      "agent 0 left the experiment\n",
      "agent 1 left the experiment\n",
      "agent 2 left the experiment\n",
      "agent 3 left the experiment\n"
     ]
    }
   ],
   "source": [
    "exp.end()"
   ]
  },
  {
   "cell_type": "code",
   "execution_count": null,
   "id": "a6f9bab4",
   "metadata": {},
   "outputs": [],
   "source": []
  }
 ],
 "metadata": {
  "kernelspec": {
   "display_name": "Python 3 (ipykernel)",
   "language": "python",
   "name": "python3"
  },
  "language_info": {
   "codemirror_mode": {
    "name": "ipython",
    "version": 3
   },
   "file_extension": ".py",
   "mimetype": "text/x-python",
   "name": "python",
   "nbconvert_exporter": "python",
   "pygments_lexer": "ipython3",
   "version": "3.9.19"
  }
 },
 "nbformat": 4,
 "nbformat_minor": 5
}
