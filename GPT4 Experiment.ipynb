{
 "cells": [
  {
   "cell_type": "markdown",
   "id": "0b2d7b09",
   "metadata": {},
   "source": [
    "# Preparation"
   ]
  },
  {
   "cell_type": "code",
   "execution_count": 1,
   "id": "159d891a",
   "metadata": {},
   "outputs": [],
   "source": [
    "API=\"\""
   ]
  },
  {
   "cell_type": "code",
   "execution_count": 2,
   "id": "de0295f4",
   "metadata": {},
   "outputs": [],
   "source": [
    "agent_key=\"asst_0WcSXzJ0s77wYneo7SGYwPCw\" #gpt4"
   ]
  },
  {
   "cell_type": "code",
   "execution_count": 3,
   "id": "f40a19aa",
   "metadata": {},
   "outputs": [],
   "source": [
    "gpt35turbo_key = \"asst_FKCItAtYldMP3Ii0eGOdxQ2H\""
   ]
  },
  {
   "cell_type": "code",
   "execution_count": 4,
   "id": "7e554bc7",
   "metadata": {},
   "outputs": [],
   "source": [
    "gpt4o_key = \"asst_ehEgDBi1jPAL10I7vbAPdUrG\""
   ]
  },
  {
   "cell_type": "code",
   "execution_count": 5,
   "id": "ac75da36",
   "metadata": {},
   "outputs": [],
   "source": [
    "import openai\n",
    "from openai import OpenAI\n",
    "import pandas as pd\n",
    "import numpy as np\n",
    "import pickle\n",
    "import requests\n",
    "import re\n",
    "from datetime import datetime\n",
    "import matplotlib.pyplot as plt\n",
    "import warnings\n",
    "warnings.filterwarnings(\"ignore\")\n",
    "\n",
    "def create_minute_gap():\n",
    "    print(\"creating minute gap to avoid TPM limit error...\") \n",
    "    counter = 0\n",
    "    while counter < 1000000000:\n",
    "        counter += 1"
   ]
  },
  {
   "cell_type": "markdown",
   "id": "35407ece",
   "metadata": {},
   "source": [
    "# Class & Functions"
   ]
  },
  {
   "cell_type": "code",
   "execution_count": 19,
   "id": "bd364c9a",
   "metadata": {},
   "outputs": [],
   "source": [
    "class Agent():\n",
    "    def __init__(self, client, agent_id, model_id=\"asst_0WcSXzJ0s77wYneo7SGYwPCw\"):\n",
    "        self.model_id = model_id\n",
    "        self.agent_id = agent_id\n",
    "        self.decision_round = 0\n",
    "        self.client = client\n",
    "        self.decision_record = {\n",
    "            \"NFT_investment\": [],\n",
    "            \"bid_amount\": [],\n",
    "            \"bid_price\": [],\n",
    "            \"ask_amount\": [],\n",
    "            \"ask_price\": [],\n",
    "            \"anticipated_price\": [],\n",
    "            \"anticipated_payoff\": [],\n",
    "            \"anticipated_investment\": [],\n",
    "            \"reason\": []\n",
    "        }\n",
    "        self.processed_decision = dict()\n",
    "        \n",
    "        self.payoff_record = []\n",
    "        self.feedback = dict()\n",
    "        self.cumulative_payoff = 0\n",
    "        \n",
    "        self.FT_holdings = 0\n",
    "        self.FT_bought_amount = 0\n",
    "        self.FT_sold_amount = 0\n",
    "        \n",
    "    def create_conversation(self):\n",
    "        self.thread = self.client.beta.threads.create()\n",
    "        \n",
    "    \n",
    "    def receive_feedback(self):\n",
    "        self.message = self.client.beta.threads.messages.create(\n",
    "            thread_id=self.thread.id,\n",
    "            role=\"user\",\n",
    "            content=self.feedback_text\n",
    "        )\n",
    "        \n",
    "        \n",
    "    def get_conversation(self):\n",
    "        self.conversation_list=[]\n",
    "        for text in self.conversation:\n",
    "            text = text.content[0].text.value\n",
    "            self.conversation_list.append(text)\n",
    "        return self.conversation_list\n",
    "    \n",
    "        \n",
    "    def make_decision(self):\n",
    "        with self.client.beta.threads.runs.stream(\n",
    "            thread_id=self.thread.id,\n",
    "            assistant_id=self.model_id\n",
    "        ) as self.stream:\n",
    "            self.stream.until_done()\n",
    "            \n",
    "        self.conversation = self.client.beta.threads.messages.list(\n",
    "            thread_id=self.thread.id,\n",
    "            order=\"asc\"\n",
    "        )\n",
    "        \n",
    "        self.decision = self.conversation.data[-1].content[0].text.value\n",
    "        \n",
    "        self.decision_round += 1\n",
    "        \n",
    "        \n",
    "    def end_experiment(self):\n",
    "        self.client.beta.threads.delete(thread_id=self.thread.id)\n",
    "        \n",
    "        \n",
    "    def create_feedback(self): \n",
    "        NFT_reward = self.experiment_config[\"amount of NFT return\"] if self.feedback[\"NFT succeed\"] else 0\n",
    "        NFT_buying_cost = self.experiment_config[\"NFT price\"] if (self.processed_decision[\"NFT_investment\"]==1) else 0\n",
    "        utility_value = self.experiment_config[\"utility value of FT\"]*self.feedback[\"FT_holdings\"]\n",
    "        governance_value = self.feedback[\"FT_holdings\"] * (self.experiment_config[\"DAO FCF\"] + (self.feedback[\"total investment\"] * 0.1)) / self.experiment_config[\"FT supply\"]\n",
    "        FT_holdings_value = self.feedback[\"FT_holdings\"] * self.feedback[\"FT price\"]\n",
    "        remaining_endowment = self.experiment_config[\"cash endowment\"] - self.experiment_config[\"NFT price\"] - (self.feedback[\"FT price\"]*self.feedback[\"FT bought amount\"])\n",
    "        FT_buying_cost = self.feedback[\"FT bought amount\"] * self.feedback[\"FT price\"]\n",
    "        round_payoff = (NFT_reward*0.5) - NFT_buying_cost + self.feedback[\"public return\"] + utility_value + governance_value + FT_holdings_value + remaining_endowment - FT_buying_cost + self.feedback[\"FT selling revenue\"]\n",
    "        payoff_to_carry_over = (NFT_reward*0.5) - NFT_buying_cost + self.feedback[\"public return\"] + remaining_endowment - FT_buying_cost + self.feedback[\"FT selling revenue\"]\n",
    "        round_cumulative_payoff = self.cumulative_payoff + round_payoff - payoff_to_carry_over\n",
    "        self.cumulative_payoff += payoff_to_carry_over\n",
    "        self.payoff_record.append(round_payoff)\n",
    "        \n",
    "        self.FT_holdings = self.feedback[\"FT_holdings\"]\n",
    "        \n",
    "        self.feedback_text = f\"\"\"Feedback from the previous round (Round {self.decision_round}):\n",
    "        Your payoff information from round {self.decision_round}:\n",
    "        You paid {NFT_buying_cost} to invest in human capital by buying NFT.\n",
    "        You received a private NFT return of {NFT_reward}. 50% of this was used to buy DAO fungible token, so you received 50% of this return in th form of DAO fungible tokens. If you have invested in NFT and received 0, then you failed to receive the private NFT return this round.\n",
    "        You received a return from human capital investment of {self.feedback[\"public return\"]} as a result of all players' investment.\n",
    "        You were able to buy {self.feedback[\"FT bought amount\"]} DAO fungible tokens.\n",
    "        You were able to sell {self.feedback[\"FT sold amount\"]} DAO fungible tokens.\n",
    "        You paid {FT_buying_cost} to buy DAO fungible tokens.\n",
    "        You received {self.feedback[\"FT selling revenue\"]} from selling DAO fungible tokens.\n",
    "        Market value of your DAO fungible token holding after trading in round {self.decision_round} is {FT_holdings_value}.\n",
    "        You have remaining cash endowment of {remaining_endowment}.\n",
    "        Your DAO fungible token holdings have a utility value of {utility_value} and governance value of {governance_value}.\n",
    "        In total, you received a payoff of {round_payoff} this round.\n",
    "        Your cumulative payoff until this round is {round_cumulative_payoff}.\n",
    "        \n",
    "        Market price of DAO fungible token at the end of the round is {self.feedback[\"FT price\"]}.\n",
    "        Trading volume of DAO fungible token is {self.feedback[\"FT trade volume\"]}.\n",
    "        \n",
    "        Total investment made this round was {self.feedback[\"total investment\"]}.\n",
    "        Your investment had {self.feedback[\"impact\"]}% impact on the aggregate improvement in the human capital.\n",
    "        \n",
    "        Moving on to the next round, \n",
    "        You are endowed with {self.experiment_config[\"cash endowment\"]} cash. This is your new cash endowment, and the remaining cash from the previous rounds cannot be used in the following rounds.\n",
    "        At the end of round {self.decision_round}, you are owning {self.feedback[\"FT_holdings\"]}.\n",
    "        \n",
    "        Round {self.decision_round + 1}\n",
    "        Now, make decision for the round {self.decision_round + 1}\n",
    "        Reminder: remember the details of the experiment provided in the instruction.\n",
    "        Reminder: decision prompt must be in the below format (strict. no other text is allowed. replace [int] and [string] with your decision.):\n",
    "        NFT investment: [int] DAO fungible token bid amount: [int] DAO fungible token bid price: [int] DAO fungible token ask amount: [int] DAO fungible token ask price: [int] DAO fungible token anticipated price: [int] Anticipated payoff: [int] Anticipated total investment: [int] Short explanation on the reasons for the decisions: [string]\n",
    "        \"\"\"\n",
    "        self.FT_bought_amount = 0\n",
    "        self.FT_sold_amount = 0\n",
    "        \n",
    "    \n",
    "    def start_experiment(self, experiment_config):\n",
    "        self.experiment_config = experiment_config\n",
    "        \n",
    "        self.experiment_starting_message = f\"\"\"Experiment setting:\n",
    "        price of NFT = {experiment_config[\"NFT price\"]}\n",
    "        cash endowment = {experiment_config[\"cash endowment\"]}\n",
    "        initial DAO fungible token endowment = {experiment_config[\"FT endowment\"]}\n",
    "        free cash flow that DAO platform earn, not including the revenue from NFT sales commission = {experiment_config[\"DAO FCF\"]}\n",
    "        number of players in the game = {experiment_config[\"Number of investors\"]}\n",
    "        total supply of DAO fungible token = {experiment_config[\"FT supply\"]}\n",
    "        probability for private NFT return = {experiment_config[\"probability of NFT return\"]}\n",
    "        amount of private NFT return, if succeeded in obtaining it = {experiment_config[\"amount of NFT return\"]}\n",
    "        utility value per DAO fungible token = {experiment_config[\"utility value of FT\"]}\n",
    "        function defining the social return from human capital investment = {experiment_config[\"human capital impact function\"]}\n",
    "\n",
    "        Round 1\n",
    "        Now, make decision for the first round\n",
    "        Reminder: remember the details of the experiment provided in the instruction.\n",
    "        Reminder: decision prompt must be in the below format (strict. no other text is allowed. replace [int] and [string] with your decision.):\n",
    "        NFT investment: [int] DAO fungible token bid amount: [int] DAO fungible token bid price: [int] DAO fungible token ask amount: [int] DAO fungible token ask price: [int] DAO fungible token anticipated price: [int] Anticipated payoff: [int] Anticipated total investment: [int] Short explanation on the reasons for the decisions: [string]\n",
    "        \"\"\"\n",
    "        \n",
    "        self.FT_holdings = experiment_config[\"FT endowment\"]\n",
    "        \n",
    "        self.message = self.client.beta.threads.messages.create(\n",
    "            thread_id=self.thread.id,\n",
    "            role=\"user\",\n",
    "            content=self.experiment_starting_message\n",
    "        )\n",
    "        \n",
    "    def process_decision(self):\n",
    "        self.decision = self.decision.replace(\"\\n\", \" \")\n",
    "        NFT_investment_text = self.decision.split(\"NFT investment: \")[1].split(\" DAO fungible token bid amount: \")\n",
    "        NFT_investment = float(NFT_investment_text[0])\n",
    "        self.decision_record[\"NFT_investment\"].append(NFT_investment)\n",
    "        \n",
    "        bid_amount_text = NFT_investment_text[1].split(\" DAO fungible token bid price: \")\n",
    "        bid_amount = int(np.floor(float(bid_amount_text[0])))\n",
    "        self.decision_record[\"bid_amount\"].append(bid_amount)\n",
    "        \n",
    "        bid_price_text = bid_amount_text[1].split(\" DAO fungible token ask amount: \")\n",
    "        bid_price = float(bid_price_text[0])\n",
    "        self.decision_record[\"bid_price\"].append(bid_price)\n",
    "        \n",
    "        ask_amount_text = bid_price_text[1].split(\" DAO fungible token ask price: \")\n",
    "        ask_amount = int(np.floor(float(ask_amount_text[0])))\n",
    "        self.decision_record[\"ask_amount\"].append(ask_amount)\n",
    "        \n",
    "        ask_price_text = ask_amount_text[1].split(\" DAO fungible token anticipated price: \")\n",
    "        ask_price = float(ask_price_text[0])\n",
    "        self.decision_record[\"ask_price\"].append(ask_price)\n",
    "        \n",
    "        anticipated_price_text = ask_price_text[1].split(\" Anticipated payoff: \")\n",
    "        anticipated_price = float(anticipated_price_text[0])\n",
    "        self.decision_record[\"anticipated_price\"].append(anticipated_price)\n",
    "        \n",
    "        anticipated_payoff_text = anticipated_price_text[1].split(\" Anticipated total investment: \")\n",
    "        anticipated_payoff = float(anticipated_payoff_text[0])\n",
    "        self.decision_record[\"anticipated_payoff\"].append(anticipated_payoff)\n",
    "        \n",
    "        anticipated_investment_text = anticipated_payoff_text[1].split(\" Short explanation on the reasons for the decisions: \")\n",
    "        anticipated_investment = float(anticipated_investment_text[0])\n",
    "        self.decision_record[\"anticipated_investment\"].append(anticipated_investment)\n",
    "        \n",
    "        reason = anticipated_investment_text[1]\n",
    "        self.decision_record[\"reason\"].append(reason)\n",
    "        \n",
    "        self.processed_decision = {\n",
    "            \"NFT_investment\": NFT_investment,\n",
    "            \"bid_amount\": bid_amount,\n",
    "            \"bid_price\": bid_price,\n",
    "            \"ask_amount\": ask_amount,\n",
    "            \"ask_price\": ask_price,\n",
    "            \"anticipated_price\": anticipated_price,\n",
    "            \"anticipated_payoff\": anticipated_payoff,\n",
    "            \"anticipated_investment\": anticipated_investment,\n",
    "            \"reason\": reason\n",
    "        }\n",
    "        \n",
    "        \n",
    "        "
   ]
  },
  {
   "cell_type": "code",
   "execution_count": 20,
   "id": "682b90e6",
   "metadata": {},
   "outputs": [],
   "source": [
    "class Experiment():\n",
    "    def __init__(self, client, experiment_config, public_good_function = lambda x: np.sqrt(x)):\n",
    "        self.experiment_config = experiment_config\n",
    "        self.client = client\n",
    "        \n",
    "        self.agent_list = []\n",
    "        for i in range(self.experiment_config[\"Number of investors\"]):\n",
    "            self.agent_list.append(Agent(self.client, agent_id=i))\n",
    "        \n",
    "        self.bid_list = []\n",
    "        self.ask_list = []\n",
    "        self.public_good_function = public_good_function\n",
    "        \n",
    "        self.FT_price = 10 #initial price of 10\n",
    "        self.FT_trading_volume = 0\n",
    "        self.total_investment = 0\n",
    "        self.round = 0\n",
    "\n",
    "    \n",
    "    def compute_equilibrium_price(self):\n",
    "        self.ask_list = []\n",
    "        for agent in self.agent_list:\n",
    "            for i in range(agent.processed_decision[\"ask_amount\"]):\n",
    "                self.ask_list.append(agent.processed_decision[\"ask_price\"])\n",
    "\n",
    "        self.bid_list = []\n",
    "        for agent in self.agent_list:\n",
    "            for i in range(agent.processed_decision[\"bid_amount\"]):\n",
    "                self.bid_list.append(agent.processed_decision[\"bid_price\"])\n",
    "\n",
    "        for agent in self.agent_list:\n",
    "            random_success = True if (np.random.uniform(0, 1) < self.experiment_config[\"probability of NFT return\"]) else False        \n",
    "            agent.feedback[\"NFT succeed\"] = random_success    \n",
    "            if random_success:\n",
    "                for i in range(int(np.floor((self.experiment_config[\"amount of NFT return\"]*0.5)/min(agent.processed_decision[\"bid_price\"], 1)))):\n",
    "                    self.bid_list.append(agent.processed_decision[\"bid_price\"])\n",
    "                \n",
    "        # Sort bid and ask lists\n",
    "        self.bid_list = sorted(self.bid_list, reverse=True)\n",
    "        self.ask_list = sorted(self.ask_list)\n",
    "        \n",
    "        bid_list = self.bid_list\n",
    "        ask_list = self.ask_list\n",
    "\n",
    "        ask_index = 0\n",
    "        equilibrium_price = 0\n",
    "        equilibrium_quantity = 0\n",
    "        found = False\n",
    "        \n",
    "        if (bid_list==[]) & (ask_list==[]):\n",
    "            self.FT_trading_volume = 0\n",
    "        \n",
    "        elif bid_list==[]: # if nobody bought\n",
    "            self.FT_price = min(ask_list) #reservation price\n",
    "            self.FT_trading_volume = 0\n",
    "            \n",
    "        elif ask_list==[]: # if nobody sold\n",
    "            self.FT_price = max(bid_list) #price that it could be sold\n",
    "            self.FT_trading_volume = 0\n",
    "\n",
    "        else:\n",
    "            # Iterate through bid and ask list to find appropriate intersection\n",
    "            while ask_index < len(bid_list) and ask_index < len(ask_list) and not found:\n",
    "                if bid_list[ask_index] == ask_list[ask_index]:\n",
    "                    equilibrium_price = bid_list[ask_index]\n",
    "                    found = True\n",
    "                    continue_search = True\n",
    "\n",
    "                    while continue_search and ask_index < len(bid_list) and ask_index < len(ask_list):\n",
    "                        if bid_list[ask_index] == ask_list[ask_index]:\n",
    "                            ask_index += 1\n",
    "                            if ask_index < len(bid_list) and ask_index < len(ask_list):\n",
    "                                continue_search = (bid_list[ask_index] == ask_list[ask_index])\n",
    "                        else:\n",
    "                            continue_search = False\n",
    "                    equilibrium_quantity = ask_index\n",
    "                else:\n",
    "                    if bid_list[ask_index] < ask_list[ask_index]:\n",
    "                        if ask_index == 0:\n",
    "                            equilibrium_price = \"FT-price\"  # Assuming FT-price is some fallback price\n",
    "                            equilibrium_quantity = 0\n",
    "                            found = True\n",
    "                        else:\n",
    "                            if (bid_list[ask_index - 1] != bid_list[ask_index]) and (ask_list[ask_index - 1] != ask_list[ask_index]):\n",
    "                                found = True\n",
    "                                equilibrium_price = (bid_list[ask_index - 1] + ask_list[ask_index - 1]) / 2\n",
    "                                equilibrium_quantity = ask_index\n",
    "                            elif (bid_list[ask_index - 1] == bid_list[ask_index]) and (ask_list[ask_index - 1] != ask_list[ask_index]):\n",
    "                                found = True\n",
    "                                equilibrium_price = bid_list[ask_index]\n",
    "                                equilibrium_quantity = ask_index\n",
    "                            elif (bid_list[ask_index - 1] != bid_list[ask_index]) and (ask_list[ask_index - 1] == ask_list[ask_index]):\n",
    "                                found = True\n",
    "                                equilibrium_price = ask_list[ask_index]\n",
    "                                equilibrium_quantity = ask_index\n",
    "                ask_index += 1\n",
    "            \n",
    "            self.FT_price = equilibrium_price\n",
    "            self.FT_trading_volume = equilibrium_quantity\n",
    "    \n",
    "    \n",
    "    def trade_fungible_token(self):\n",
    "        sell_volume = self.FT_trading_volume\n",
    "        buy_volume = self.FT_trading_volume\n",
    "        sold_amount = 0  # for debugging and record keeping\n",
    "        bought_amount = 0  # for debugging and record keeping\n",
    "\n",
    "        if self.FT_trading_volume > 0:\n",
    "            # Selling process\n",
    "            for agent in self.agent_list:\n",
    "                if (agent.processed_decision['ask_price'] <= self.FT_price) & (sell_volume > 0):\n",
    "                    amount_to_sell = min(sell_volume, agent.processed_decision['ask_amount'])\n",
    "                    agent.FT_holdings -= amount_to_sell\n",
    "                    agent.FT_sold_amount += amount_to_sell\n",
    "                    sell_volume -= amount_to_sell\n",
    "                    sold_amount += amount_to_sell  # for debugging\n",
    "\n",
    "            # Buy back process ... NFT reward\n",
    "            for agent in self.agent_list:\n",
    "                if (agent.processed_decision['bid_price'] >= self.FT_price) & (buy_volume > 0) & (agent.feedback[\"NFT succeed\"]):\n",
    "                    amount_to_buy = int(np.floor((self.experiment_config[\"amount of NFT return\"]*0.5)/min(agent.processed_decision[\"bid_price\"], 1)))\n",
    "                    agent.FT_holdings += amount_to_buy\n",
    "                    agent.FT_bought_amount += amount_to_buy\n",
    "                    buy_volume -= amount_to_buy\n",
    "                    bought_amount += amount_to_buy  # for debugging\n",
    "            \n",
    "            # Buying process\n",
    "            for agent in self.agent_list:\n",
    "                if (agent.processed_decision['bid_price'] >= self.FT_price) & (buy_volume > 0):\n",
    "                    amount_to_buy = min(buy_volume, agent.processed_decision['bid_amount'])\n",
    "                    agent.FT_holdings += amount_to_buy\n",
    "                    agent.FT_bought_amount += amount_to_buy\n",
    "                    buy_volume -= amount_to_buy\n",
    "                    bought_amount += amount_to_buy  # for debugging\n",
    "\n",
    "        #print(self.FT_trading_volume == sold_amount == bought_amount)  # Adjust trading volume after transactions\n",
    "\n",
    "        \n",
    "    def compute_feedback(self):\n",
    "        self.total_investment = 0\n",
    "        for agent in self.agent_list:\n",
    "            self.total_investment += agent.processed_decision[\"NFT_investment\"] * self.experiment_config[\"NFT price\"]\n",
    "            \n",
    "        for agent in self.agent_list:\n",
    "            #random_success = True if (np.random.uniform(0, 1) < self.experiment_config[\"probability of NFT return\"]) else False\n",
    "            \n",
    "            agent.feedback[\"FT_holdings\"] = agent.FT_holdings\n",
    "            agent.feedback[\"FT price\"] = self.FT_price\n",
    "            #agent.feedback[\"NFT succeed\"] = random_success\n",
    "            agent.feedback[\"FT bought amount\"] = agent.FT_bought_amount\n",
    "            agent.feedback[\"FT sold amount\"] = agent.FT_sold_amount\n",
    "            agent.feedback[\"FT selling revenue\"] = agent.FT_sold_amount * self.FT_price\n",
    "            agent.feedback[\"FT trade volume\"] = self.FT_trading_volume\n",
    "            agent.feedback[\"total investment\"] = self.total_investment\n",
    "            agent.feedback[\"public return\"] = self.public_good_function(self.total_investment) / self.experiment_config[\"Number of investors\"]\n",
    "            agent.feedback[\"impact\"] = (self.public_good_function(self.total_investment) - self.public_good_function(self.total_investment - (agent.processed_decision[\"NFT_investment\"] * self.experiment_config[\"NFT price\"]))) / self.public_good_function(self.total_investment)\n",
    "            \n",
    "            \n",
    "    def start(self):\n",
    "        for agent in self.agent_list:\n",
    "            agent.create_conversation()\n",
    "            print(f\"agent {agent.agent_id} joined experiment\")\n",
    "            \n",
    "        for agent in self.agent_list:\n",
    "            agent.start_experiment(self.experiment_config)\n",
    "            print(f\"agent {agent.agent_id} received experiment information and instruction for first round\")\n",
    "    \n",
    "    \n",
    "    def first_decision_round(self):\n",
    "        for agent in self.agent_list:\n",
    "            agent.make_decision()\n",
    "            print(f\"agent {agent.agent_id} made first round decision\")\n",
    "            create_minute_gap()\n",
    "        self.round += 1\n",
    "        \n",
    "        for agent in self.agent_list:\n",
    "            agent.process_decision()\n",
    "            print(f\"decision by agent {agent.agent_id} is ready to be used for result computation\")\n",
    "            \n",
    "        \n",
    "    def give_feedbacks(self):\n",
    "        for agent in self.agent_list:\n",
    "            agent.create_feedback()\n",
    "            agent.receive_feedback()\n",
    "            print(f\"agent {agent.agent_id} received feedback information and instruction for next round\")\n",
    "            \n",
    "    \n",
    "    def next_decision_round(self):\n",
    "        for agent in self.agent_list:\n",
    "            agent.make_decision()\n",
    "            print(f\"agent {agent.agent_id} made decision for round {self.round + 1}\")\n",
    "            create_minute_gap()\n",
    "        self.round += 1\n",
    "        \n",
    "        for agent in self.agent_list:\n",
    "            agent.process_decision()\n",
    "            print(f\"decision by agent {agent.agent_id} is ready to be used for result computation\")\n",
    "        \n",
    "    def end(self):\n",
    "        for agent in self.agent_list:\n",
    "            agent.end_experiment()\n",
    "            print(f\"agent {agent.agent_id} left the experiment\")\n",
    "        \n",
    "        \n",
    "        "
   ]
  },
  {
   "cell_type": "markdown",
   "id": "fbeb006a",
   "metadata": {},
   "source": [
    "workflow:\n",
    "client = OpenAI(api_key=)\n",
    "\n",
    "experiment_config = {\n",
    "    \"NFT price\":50,\n",
    "    \"cash endowment\":200,\n",
    "    \"FT endowment\":10,\n",
    "    \"DAO FCF\":500,\n",
    "    \"Number of investors\":10,\n",
    "    \"FT supply\":100,\n",
    "    \"probability of NFT return\":0.2,\n",
    "    \"amount of NFT return\":100,\n",
    "    \"utility value of FT\":5,\n",
    "    \"human capital impact function\":\"square_root(total investment)\"\n",
    "}\n",
    "\n",
    "experiment = Experiment(client, experiment_config)\n",
    "\n",
    "experiment.start()\n",
    "\n",
    "experiment.first_decision_round()\n",
    "\n",
    "experiment.compute_equilibrium_price()\n",
    "\n",
    "experiment.trade_fungible_token()\n",
    "\n",
    "experiment.compute_feedback()\n",
    "\n",
    "experiment.give_feedbacks()\n",
    "\n",
    "experiment.next_decision_round()\n",
    "\n",
    "experiment.compute_equilibrium_price()\n",
    "\n",
    "experiment.trade_fungible_token()\n",
    "\n",
    "experiment.compute_feedback()\n",
    "\n",
    "experiment.give_feedbacks()\n",
    "\n",
    "experiment.end()"
   ]
  },
  {
   "cell_type": "markdown",
   "id": "c268a466",
   "metadata": {},
   "source": [
    "# Run Experiment"
   ]
  },
  {
   "cell_type": "markdown",
   "id": "15731e69",
   "metadata": {},
   "source": [
    "## Configuration"
   ]
  },
  {
   "cell_type": "code",
   "execution_count": 21,
   "id": "ec652324",
   "metadata": {},
   "outputs": [],
   "source": [
    "client = OpenAI(api_key=API)\n",
    "\n",
    "experiment_config = {\n",
    "    \"NFT price\":50,\n",
    "    \"cash endowment\":200,\n",
    "    \"FT endowment\":10,\n",
    "    \"DAO FCF\":500,\n",
    "    \"Number of investors\":10,\n",
    "    \"FT supply\":100,\n",
    "    \"probability of NFT return\":0.2,\n",
    "    \"amount of NFT return\":100,\n",
    "    \"utility value of FT\":5,\n",
    "    \"human capital impact function\":\"square_root(total investment)\"\n",
    "}\n",
    "\n"
   ]
  },
  {
   "cell_type": "code",
   "execution_count": 22,
   "id": "6c6fbd06",
   "metadata": {},
   "outputs": [],
   "source": [
    "FT_price_record = []\n",
    "total_investment_record = []\n",
    "FT_trade_volume_record = []\n",
    "bid_list_record = []\n",
    "ask_list_record = []"
   ]
  },
  {
   "cell_type": "code",
   "execution_count": 23,
   "id": "a587bd48",
   "metadata": {},
   "outputs": [],
   "source": [
    "experiment = Experiment(client, experiment_config)\n"
   ]
  },
  {
   "cell_type": "markdown",
   "id": "5dbee597",
   "metadata": {},
   "source": [
    "## Start Experiment"
   ]
  },
  {
   "cell_type": "code",
   "execution_count": 24,
   "id": "1559b7a2",
   "metadata": {},
   "outputs": [
    {
     "name": "stdout",
     "output_type": "stream",
     "text": [
      "agent 0 joined experiment\n",
      "agent 1 joined experiment\n",
      "agent 2 joined experiment\n",
      "agent 3 joined experiment\n",
      "agent 4 joined experiment\n",
      "agent 5 joined experiment\n",
      "agent 6 joined experiment\n",
      "agent 7 joined experiment\n",
      "agent 8 joined experiment\n",
      "agent 9 joined experiment\n",
      "agent 0 received experiment information and instruction for first round\n",
      "agent 1 received experiment information and instruction for first round\n",
      "agent 2 received experiment information and instruction for first round\n",
      "agent 3 received experiment information and instruction for first round\n",
      "agent 4 received experiment information and instruction for first round\n",
      "agent 5 received experiment information and instruction for first round\n",
      "agent 6 received experiment information and instruction for first round\n",
      "agent 7 received experiment information and instruction for first round\n",
      "agent 8 received experiment information and instruction for first round\n",
      "agent 9 received experiment information and instruction for first round\n"
     ]
    }
   ],
   "source": [
    "experiment.start()\n"
   ]
  },
  {
   "cell_type": "code",
   "execution_count": 25,
   "id": "e51fedd8",
   "metadata": {},
   "outputs": [
    {
     "name": "stdout",
     "output_type": "stream",
     "text": [
      "agent 0 made first round decision\n",
      "creating minute gap to avoid TPM limit error...\n",
      "agent 1 made first round decision\n",
      "creating minute gap to avoid TPM limit error...\n",
      "agent 2 made first round decision\n",
      "creating minute gap to avoid TPM limit error...\n",
      "agent 3 made first round decision\n",
      "creating minute gap to avoid TPM limit error...\n",
      "agent 4 made first round decision\n",
      "creating minute gap to avoid TPM limit error...\n",
      "agent 5 made first round decision\n",
      "creating minute gap to avoid TPM limit error...\n",
      "agent 6 made first round decision\n",
      "creating minute gap to avoid TPM limit error...\n",
      "agent 7 made first round decision\n",
      "creating minute gap to avoid TPM limit error...\n",
      "agent 8 made first round decision\n",
      "creating minute gap to avoid TPM limit error...\n",
      "agent 9 made first round decision\n",
      "creating minute gap to avoid TPM limit error...\n",
      "decision by agent 0 is ready to be used for result computation\n",
      "decision by agent 1 is ready to be used for result computation\n",
      "decision by agent 2 is ready to be used for result computation\n",
      "decision by agent 3 is ready to be used for result computation\n",
      "decision by agent 4 is ready to be used for result computation\n",
      "decision by agent 5 is ready to be used for result computation\n",
      "decision by agent 6 is ready to be used for result computation\n",
      "decision by agent 7 is ready to be used for result computation\n",
      "decision by agent 8 is ready to be used for result computation\n",
      "decision by agent 9 is ready to be used for result computation\n"
     ]
    }
   ],
   "source": [
    "# Round1\n",
    "experiment.first_decision_round()\n"
   ]
  },
  {
   "cell_type": "code",
   "execution_count": 26,
   "id": "7a078d86",
   "metadata": {},
   "outputs": [
    {
     "data": {
      "text/plain": [
       "'NFT investment: 1 DAO fungible token bid amount: 3 DAO fungible token bid price: 30 DAO fungible token ask amount: 0 DAO fungible token ask price: 0 DAO fungible token anticipated price: 35 Anticipated payoff: 120 Anticipated total investment: 140 Short explanation on the reasons for the decisions: Decided to invest in NFT to contribute to the human capital investment and potentially get a private return. Also, investing in DAO fungible tokens to gain more governance right and utility. Anticipating the price of DAO fungible token to increase due to the demand created by the NFT sales.'"
      ]
     },
     "execution_count": 26,
     "metadata": {},
     "output_type": "execute_result"
    }
   ],
   "source": [
    "experiment.agent_list[0].decision"
   ]
  },
  {
   "cell_type": "code",
   "execution_count": 27,
   "id": "9d7bf7a8",
   "metadata": {},
   "outputs": [],
   "source": [
    "experiment.compute_equilibrium_price()\n",
    "\n",
    "experiment.trade_fungible_token()\n",
    "\n",
    "experiment.compute_feedback()"
   ]
  },
  {
   "cell_type": "code",
   "execution_count": 28,
   "id": "d5e6d752",
   "metadata": {},
   "outputs": [
    {
     "name": "stdout",
     "output_type": "stream",
     "text": [
      "agent 0 received feedback information and instruction for next round\n",
      "agent 1 received feedback information and instruction for next round\n",
      "agent 2 received feedback information and instruction for next round\n",
      "agent 3 received feedback information and instruction for next round\n",
      "agent 4 received feedback information and instruction for next round\n",
      "agent 5 received feedback information and instruction for next round\n",
      "agent 6 received feedback information and instruction for next round\n",
      "agent 7 received feedback information and instruction for next round\n",
      "agent 8 received feedback information and instruction for next round\n",
      "agent 9 received feedback information and instruction for next round\n"
     ]
    }
   ],
   "source": [
    "experiment.give_feedbacks()\n"
   ]
  },
  {
   "cell_type": "code",
   "execution_count": 29,
   "id": "2c2fb308",
   "metadata": {},
   "outputs": [],
   "source": [
    "FT_price_record.append(experiment.FT_price)\n",
    "total_investment_record.append(experiment.total_investment)\n",
    "FT_trade_volume_record.append(experiment.FT_trading_volume)\n",
    "bid_list_record.append(experiment.bid_list)\n",
    "ask_list_record.append(experiment.ask_list)"
   ]
  },
  {
   "cell_type": "code",
   "execution_count": 30,
   "id": "c7ea4c0b",
   "metadata": {},
   "outputs": [
    {
     "name": "stdout",
     "output_type": "stream",
     "text": [
      "agent 0 made decision for round 2\n",
      "creating minute gap to avoid TPM limit error...\n",
      "agent 1 made decision for round 2\n",
      "creating minute gap to avoid TPM limit error...\n",
      "agent 2 made decision for round 2\n",
      "creating minute gap to avoid TPM limit error...\n",
      "agent 3 made decision for round 2\n",
      "creating minute gap to avoid TPM limit error...\n",
      "agent 4 made decision for round 2\n",
      "creating minute gap to avoid TPM limit error...\n",
      "agent 5 made decision for round 2\n",
      "creating minute gap to avoid TPM limit error...\n",
      "agent 6 made decision for round 2\n",
      "creating minute gap to avoid TPM limit error...\n",
      "agent 7 made decision for round 2\n",
      "creating minute gap to avoid TPM limit error...\n",
      "agent 8 made decision for round 2\n",
      "creating minute gap to avoid TPM limit error...\n",
      "agent 9 made decision for round 2\n",
      "creating minute gap to avoid TPM limit error...\n",
      "decision by agent 0 is ready to be used for result computation\n",
      "decision by agent 1 is ready to be used for result computation\n",
      "decision by agent 2 is ready to be used for result computation\n",
      "decision by agent 3 is ready to be used for result computation\n",
      "decision by agent 4 is ready to be used for result computation\n",
      "decision by agent 5 is ready to be used for result computation\n",
      "decision by agent 6 is ready to be used for result computation\n",
      "decision by agent 7 is ready to be used for result computation\n",
      "decision by agent 8 is ready to be used for result computation\n",
      "decision by agent 9 is ready to be used for result computation\n"
     ]
    }
   ],
   "source": [
    "# Round2\n",
    "experiment.next_decision_round()\n"
   ]
  },
  {
   "cell_type": "code",
   "execution_count": 31,
   "id": "aaa8bc70",
   "metadata": {},
   "outputs": [],
   "source": [
    "experiment.compute_equilibrium_price()\n",
    "\n",
    "experiment.trade_fungible_token()\n",
    "\n",
    "experiment.compute_feedback()"
   ]
  },
  {
   "cell_type": "code",
   "execution_count": 32,
   "id": "2044db29",
   "metadata": {},
   "outputs": [
    {
     "name": "stdout",
     "output_type": "stream",
     "text": [
      "agent 0 received feedback information and instruction for next round\n",
      "agent 1 received feedback information and instruction for next round\n",
      "agent 2 received feedback information and instruction for next round\n",
      "agent 3 received feedback information and instruction for next round\n",
      "agent 4 received feedback information and instruction for next round\n",
      "agent 5 received feedback information and instruction for next round\n",
      "agent 6 received feedback information and instruction for next round\n",
      "agent 7 received feedback information and instruction for next round\n",
      "agent 8 received feedback information and instruction for next round\n",
      "agent 9 received feedback information and instruction for next round\n"
     ]
    }
   ],
   "source": [
    "experiment.give_feedbacks()\n"
   ]
  },
  {
   "cell_type": "code",
   "execution_count": 33,
   "id": "ede57242",
   "metadata": {},
   "outputs": [],
   "source": [
    "FT_price_record.append(experiment.FT_price)\n",
    "total_investment_record.append(experiment.total_investment)\n",
    "FT_trade_volume_record.append(experiment.FT_trading_volume)\n",
    "bid_list_record.append(experiment.bid_list)\n",
    "ask_list_record.append(experiment.ask_list)"
   ]
  },
  {
   "cell_type": "code",
   "execution_count": 34,
   "id": "e7bede8c",
   "metadata": {},
   "outputs": [
    {
     "name": "stdout",
     "output_type": "stream",
     "text": [
      "agent 0 made decision for round 3\n",
      "creating minute gap to avoid TPM limit error...\n",
      "agent 1 made decision for round 3\n",
      "creating minute gap to avoid TPM limit error...\n",
      "agent 2 made decision for round 3\n",
      "creating minute gap to avoid TPM limit error...\n",
      "agent 3 made decision for round 3\n",
      "creating minute gap to avoid TPM limit error...\n",
      "agent 4 made decision for round 3\n",
      "creating minute gap to avoid TPM limit error...\n",
      "agent 5 made decision for round 3\n",
      "creating minute gap to avoid TPM limit error...\n",
      "agent 6 made decision for round 3\n",
      "creating minute gap to avoid TPM limit error...\n",
      "agent 7 made decision for round 3\n",
      "creating minute gap to avoid TPM limit error...\n",
      "agent 8 made decision for round 3\n",
      "creating minute gap to avoid TPM limit error...\n",
      "agent 9 made decision for round 3\n",
      "creating minute gap to avoid TPM limit error...\n",
      "decision by agent 0 is ready to be used for result computation\n",
      "decision by agent 1 is ready to be used for result computation\n",
      "decision by agent 2 is ready to be used for result computation\n",
      "decision by agent 3 is ready to be used for result computation\n",
      "decision by agent 4 is ready to be used for result computation\n",
      "decision by agent 5 is ready to be used for result computation\n",
      "decision by agent 6 is ready to be used for result computation\n",
      "decision by agent 7 is ready to be used for result computation\n",
      "decision by agent 8 is ready to be used for result computation\n",
      "decision by agent 9 is ready to be used for result computation\n"
     ]
    }
   ],
   "source": [
    "# Round3\n",
    "experiment.next_decision_round()"
   ]
  },
  {
   "cell_type": "code",
   "execution_count": 35,
   "id": "49abb8b1",
   "metadata": {},
   "outputs": [],
   "source": [
    "experiment.compute_equilibrium_price()\n",
    "\n",
    "experiment.trade_fungible_token()\n",
    "\n",
    "experiment.compute_feedback()"
   ]
  },
  {
   "cell_type": "code",
   "execution_count": 36,
   "id": "42d1f6d2",
   "metadata": {},
   "outputs": [
    {
     "name": "stdout",
     "output_type": "stream",
     "text": [
      "agent 0 received feedback information and instruction for next round\n",
      "agent 1 received feedback information and instruction for next round\n",
      "agent 2 received feedback information and instruction for next round\n",
      "agent 3 received feedback information and instruction for next round\n",
      "agent 4 received feedback information and instruction for next round\n",
      "agent 5 received feedback information and instruction for next round\n",
      "agent 6 received feedback information and instruction for next round\n",
      "agent 7 received feedback information and instruction for next round\n",
      "agent 8 received feedback information and instruction for next round\n",
      "agent 9 received feedback information and instruction for next round\n"
     ]
    }
   ],
   "source": [
    "experiment.give_feedbacks()"
   ]
  },
  {
   "cell_type": "code",
   "execution_count": 37,
   "id": "2e1bbbab",
   "metadata": {},
   "outputs": [],
   "source": [
    "FT_price_record.append(experiment.FT_price)\n",
    "total_investment_record.append(experiment.total_investment)\n",
    "FT_trade_volume_record.append(experiment.FT_trading_volume)\n",
    "bid_list_record.append(experiment.bid_list)\n",
    "ask_list_record.append(experiment.ask_list)"
   ]
  },
  {
   "cell_type": "code",
   "execution_count": 38,
   "id": "a6881fed",
   "metadata": {},
   "outputs": [
    {
     "name": "stdout",
     "output_type": "stream",
     "text": [
      "agent 0 made decision for round 4\n",
      "creating minute gap to avoid TPM limit error...\n",
      "agent 1 made decision for round 4\n",
      "creating minute gap to avoid TPM limit error...\n",
      "agent 2 made decision for round 4\n",
      "creating minute gap to avoid TPM limit error...\n",
      "agent 3 made decision for round 4\n",
      "creating minute gap to avoid TPM limit error...\n",
      "agent 4 made decision for round 4\n",
      "creating minute gap to avoid TPM limit error...\n",
      "agent 5 made decision for round 4\n",
      "creating minute gap to avoid TPM limit error...\n",
      "agent 6 made decision for round 4\n",
      "creating minute gap to avoid TPM limit error...\n",
      "agent 7 made decision for round 4\n",
      "creating minute gap to avoid TPM limit error...\n",
      "agent 8 made decision for round 4\n",
      "creating minute gap to avoid TPM limit error...\n",
      "agent 9 made decision for round 4\n",
      "creating minute gap to avoid TPM limit error...\n",
      "decision by agent 0 is ready to be used for result computation\n",
      "decision by agent 1 is ready to be used for result computation\n",
      "decision by agent 2 is ready to be used for result computation\n",
      "decision by agent 3 is ready to be used for result computation\n",
      "decision by agent 4 is ready to be used for result computation\n",
      "decision by agent 5 is ready to be used for result computation\n",
      "decision by agent 6 is ready to be used for result computation\n",
      "decision by agent 7 is ready to be used for result computation\n",
      "decision by agent 8 is ready to be used for result computation\n",
      "decision by agent 9 is ready to be used for result computation\n"
     ]
    }
   ],
   "source": [
    "# Round4\n",
    "experiment.next_decision_round()"
   ]
  },
  {
   "cell_type": "code",
   "execution_count": 39,
   "id": "4fe2d1be",
   "metadata": {},
   "outputs": [],
   "source": [
    "experiment.compute_equilibrium_price()\n",
    "\n",
    "experiment.trade_fungible_token()\n",
    "\n",
    "experiment.compute_feedback()"
   ]
  },
  {
   "cell_type": "code",
   "execution_count": 40,
   "id": "8f37dd31",
   "metadata": {},
   "outputs": [
    {
     "name": "stdout",
     "output_type": "stream",
     "text": [
      "agent 0 received feedback information and instruction for next round\n",
      "agent 1 received feedback information and instruction for next round\n",
      "agent 2 received feedback information and instruction for next round\n",
      "agent 3 received feedback information and instruction for next round\n",
      "agent 4 received feedback information and instruction for next round\n",
      "agent 5 received feedback information and instruction for next round\n",
      "agent 6 received feedback information and instruction for next round\n",
      "agent 7 received feedback information and instruction for next round\n",
      "agent 8 received feedback information and instruction for next round\n",
      "agent 9 received feedback information and instruction for next round\n"
     ]
    }
   ],
   "source": [
    "experiment.give_feedbacks()"
   ]
  },
  {
   "cell_type": "code",
   "execution_count": 41,
   "id": "bdf1818b",
   "metadata": {},
   "outputs": [],
   "source": [
    "FT_price_record.append(experiment.FT_price)\n",
    "total_investment_record.append(experiment.total_investment)\n",
    "FT_trade_volume_record.append(experiment.FT_trading_volume)\n",
    "bid_list_record.append(experiment.bid_list)\n",
    "ask_list_record.append(experiment.ask_list)"
   ]
  },
  {
   "cell_type": "code",
   "execution_count": 42,
   "id": "36fa3153",
   "metadata": {},
   "outputs": [
    {
     "name": "stdout",
     "output_type": "stream",
     "text": [
      "agent 0 made decision for round 5\n",
      "creating minute gap to avoid TPM limit error...\n",
      "agent 1 made decision for round 5\n",
      "creating minute gap to avoid TPM limit error...\n",
      "agent 2 made decision for round 5\n",
      "creating minute gap to avoid TPM limit error...\n",
      "agent 3 made decision for round 5\n",
      "creating minute gap to avoid TPM limit error...\n",
      "agent 4 made decision for round 5\n",
      "creating minute gap to avoid TPM limit error...\n",
      "agent 5 made decision for round 5\n",
      "creating minute gap to avoid TPM limit error...\n",
      "agent 6 made decision for round 5\n",
      "creating minute gap to avoid TPM limit error...\n",
      "agent 7 made decision for round 5\n",
      "creating minute gap to avoid TPM limit error...\n",
      "agent 8 made decision for round 5\n",
      "creating minute gap to avoid TPM limit error...\n",
      "agent 9 made decision for round 5\n",
      "creating minute gap to avoid TPM limit error...\n",
      "decision by agent 0 is ready to be used for result computation\n",
      "decision by agent 1 is ready to be used for result computation\n",
      "decision by agent 2 is ready to be used for result computation\n",
      "decision by agent 3 is ready to be used for result computation\n",
      "decision by agent 4 is ready to be used for result computation\n",
      "decision by agent 5 is ready to be used for result computation\n",
      "decision by agent 6 is ready to be used for result computation\n",
      "decision by agent 7 is ready to be used for result computation\n",
      "decision by agent 8 is ready to be used for result computation\n",
      "decision by agent 9 is ready to be used for result computation\n"
     ]
    }
   ],
   "source": [
    "# Round5\n",
    "experiment.next_decision_round()"
   ]
  },
  {
   "cell_type": "code",
   "execution_count": 43,
   "id": "af753189",
   "metadata": {},
   "outputs": [],
   "source": [
    "experiment.compute_equilibrium_price()\n",
    "\n",
    "experiment.trade_fungible_token()\n",
    "\n",
    "experiment.compute_feedback()"
   ]
  },
  {
   "cell_type": "code",
   "execution_count": 44,
   "id": "f0b07d35",
   "metadata": {},
   "outputs": [
    {
     "name": "stdout",
     "output_type": "stream",
     "text": [
      "agent 0 received feedback information and instruction for next round\n",
      "agent 1 received feedback information and instruction for next round\n",
      "agent 2 received feedback information and instruction for next round\n",
      "agent 3 received feedback information and instruction for next round\n",
      "agent 4 received feedback information and instruction for next round\n",
      "agent 5 received feedback information and instruction for next round\n",
      "agent 6 received feedback information and instruction for next round\n",
      "agent 7 received feedback information and instruction for next round\n",
      "agent 8 received feedback information and instruction for next round\n",
      "agent 9 received feedback information and instruction for next round\n"
     ]
    }
   ],
   "source": [
    "experiment.give_feedbacks()"
   ]
  },
  {
   "cell_type": "code",
   "execution_count": 45,
   "id": "9c47d393",
   "metadata": {},
   "outputs": [],
   "source": [
    "FT_price_record.append(experiment.FT_price)\n",
    "total_investment_record.append(experiment.total_investment)\n",
    "FT_trade_volume_record.append(experiment.FT_trading_volume)\n",
    "bid_list_record.append(experiment.bid_list)\n",
    "ask_list_record.append(experiment.ask_list)"
   ]
  },
  {
   "cell_type": "code",
   "execution_count": 46,
   "id": "4ff65be6",
   "metadata": {},
   "outputs": [
    {
     "name": "stdout",
     "output_type": "stream",
     "text": [
      "agent 0 made decision for round 6\n",
      "creating minute gap to avoid TPM limit error...\n",
      "agent 1 made decision for round 6\n",
      "creating minute gap to avoid TPM limit error...\n",
      "agent 2 made decision for round 6\n",
      "creating minute gap to avoid TPM limit error...\n",
      "agent 3 made decision for round 6\n",
      "creating minute gap to avoid TPM limit error...\n",
      "agent 4 made decision for round 6\n",
      "creating minute gap to avoid TPM limit error...\n",
      "agent 5 made decision for round 6\n",
      "creating minute gap to avoid TPM limit error...\n",
      "agent 6 made decision for round 6\n",
      "creating minute gap to avoid TPM limit error...\n",
      "agent 7 made decision for round 6\n",
      "creating minute gap to avoid TPM limit error...\n",
      "agent 8 made decision for round 6\n",
      "creating minute gap to avoid TPM limit error...\n",
      "agent 9 made decision for round 6\n",
      "creating minute gap to avoid TPM limit error...\n",
      "decision by agent 0 is ready to be used for result computation\n",
      "decision by agent 1 is ready to be used for result computation\n",
      "decision by agent 2 is ready to be used for result computation\n",
      "decision by agent 3 is ready to be used for result computation\n",
      "decision by agent 4 is ready to be used for result computation\n",
      "decision by agent 5 is ready to be used for result computation\n",
      "decision by agent 6 is ready to be used for result computation\n",
      "decision by agent 7 is ready to be used for result computation\n",
      "decision by agent 8 is ready to be used for result computation\n",
      "decision by agent 9 is ready to be used for result computation\n"
     ]
    }
   ],
   "source": [
    "# Round6\n",
    "experiment.next_decision_round()"
   ]
  },
  {
   "cell_type": "code",
   "execution_count": 47,
   "id": "e2cf0086",
   "metadata": {},
   "outputs": [],
   "source": [
    "experiment.compute_equilibrium_price()\n",
    "\n",
    "experiment.trade_fungible_token()\n",
    "\n",
    "experiment.compute_feedback()"
   ]
  },
  {
   "cell_type": "code",
   "execution_count": 48,
   "id": "0e843e33",
   "metadata": {},
   "outputs": [
    {
     "name": "stdout",
     "output_type": "stream",
     "text": [
      "agent 0 received feedback information and instruction for next round\n",
      "agent 1 received feedback information and instruction for next round\n",
      "agent 2 received feedback information and instruction for next round\n",
      "agent 3 received feedback information and instruction for next round\n",
      "agent 4 received feedback information and instruction for next round\n",
      "agent 5 received feedback information and instruction for next round\n",
      "agent 6 received feedback information and instruction for next round\n",
      "agent 7 received feedback information and instruction for next round\n",
      "agent 8 received feedback information and instruction for next round\n",
      "agent 9 received feedback information and instruction for next round\n"
     ]
    }
   ],
   "source": [
    "experiment.give_feedbacks()"
   ]
  },
  {
   "cell_type": "code",
   "execution_count": 49,
   "id": "adbf4692",
   "metadata": {},
   "outputs": [],
   "source": [
    "FT_price_record.append(experiment.FT_price)\n",
    "total_investment_record.append(experiment.total_investment)\n",
    "FT_trade_volume_record.append(experiment.FT_trading_volume)\n",
    "bid_list_record.append(experiment.bid_list)\n",
    "ask_list_record.append(experiment.ask_list)"
   ]
  },
  {
   "cell_type": "code",
   "execution_count": 50,
   "id": "4fd49f23",
   "metadata": {},
   "outputs": [
    {
     "name": "stdout",
     "output_type": "stream",
     "text": [
      "agent 0 made decision for round 7\n",
      "creating minute gap to avoid TPM limit error...\n",
      "agent 1 made decision for round 7\n",
      "creating minute gap to avoid TPM limit error...\n",
      "agent 2 made decision for round 7\n",
      "creating minute gap to avoid TPM limit error...\n",
      "agent 3 made decision for round 7\n",
      "creating minute gap to avoid TPM limit error...\n",
      "agent 4 made decision for round 7\n",
      "creating minute gap to avoid TPM limit error...\n",
      "agent 5 made decision for round 7\n",
      "creating minute gap to avoid TPM limit error...\n",
      "agent 6 made decision for round 7\n",
      "creating minute gap to avoid TPM limit error...\n",
      "agent 7 made decision for round 7\n",
      "creating minute gap to avoid TPM limit error...\n",
      "agent 8 made decision for round 7\n",
      "creating minute gap to avoid TPM limit error...\n",
      "agent 9 made decision for round 7\n",
      "creating minute gap to avoid TPM limit error...\n",
      "decision by agent 0 is ready to be used for result computation\n",
      "decision by agent 1 is ready to be used for result computation\n",
      "decision by agent 2 is ready to be used for result computation\n",
      "decision by agent 3 is ready to be used for result computation\n",
      "decision by agent 4 is ready to be used for result computation\n",
      "decision by agent 5 is ready to be used for result computation\n",
      "decision by agent 6 is ready to be used for result computation\n",
      "decision by agent 7 is ready to be used for result computation\n",
      "decision by agent 8 is ready to be used for result computation\n",
      "decision by agent 9 is ready to be used for result computation\n"
     ]
    }
   ],
   "source": [
    "# Round7\n",
    "experiment.next_decision_round()"
   ]
  },
  {
   "cell_type": "code",
   "execution_count": 51,
   "id": "6ca787be",
   "metadata": {},
   "outputs": [],
   "source": [
    "experiment.compute_equilibrium_price()\n",
    "\n",
    "experiment.trade_fungible_token()\n",
    "\n",
    "experiment.compute_feedback()"
   ]
  },
  {
   "cell_type": "code",
   "execution_count": 52,
   "id": "ab49e83d",
   "metadata": {},
   "outputs": [
    {
     "name": "stdout",
     "output_type": "stream",
     "text": [
      "agent 0 received feedback information and instruction for next round\n",
      "agent 1 received feedback information and instruction for next round\n",
      "agent 2 received feedback information and instruction for next round\n",
      "agent 3 received feedback information and instruction for next round\n",
      "agent 4 received feedback information and instruction for next round\n",
      "agent 5 received feedback information and instruction for next round\n",
      "agent 6 received feedback information and instruction for next round\n",
      "agent 7 received feedback information and instruction for next round\n",
      "agent 8 received feedback information and instruction for next round\n",
      "agent 9 received feedback information and instruction for next round\n"
     ]
    }
   ],
   "source": [
    "experiment.give_feedbacks()"
   ]
  },
  {
   "cell_type": "code",
   "execution_count": 53,
   "id": "faf77f4c",
   "metadata": {},
   "outputs": [],
   "source": [
    "FT_price_record.append(experiment.FT_price)\n",
    "total_investment_record.append(experiment.total_investment)\n",
    "FT_trade_volume_record.append(experiment.FT_trading_volume)\n",
    "bid_list_record.append(experiment.bid_list)\n",
    "ask_list_record.append(experiment.ask_list)"
   ]
  },
  {
   "cell_type": "code",
   "execution_count": 54,
   "id": "d6d4adf5",
   "metadata": {},
   "outputs": [
    {
     "name": "stdout",
     "output_type": "stream",
     "text": [
      "agent 0 made decision for round 8\n",
      "creating minute gap to avoid TPM limit error...\n",
      "agent 1 made decision for round 8\n",
      "creating minute gap to avoid TPM limit error...\n",
      "agent 2 made decision for round 8\n",
      "creating minute gap to avoid TPM limit error...\n"
     ]
    },
    {
     "ename": "BadRequestError",
     "evalue": "Error code: 400 - {'error': {'message': 'Thread thread_7wUjCxO2JFrP2gmYlTUKvbnN already has an active run run_BA3hmpkJI8qjgmBI0vIlTj19.', 'type': 'invalid_request_error', 'param': None, 'code': None}}",
     "output_type": "error",
     "traceback": [
      "\u001b[0;31m---------------------------------------------------------------------------\u001b[0m",
      "\u001b[0;31mBadRequestError\u001b[0m                           Traceback (most recent call last)",
      "Cell \u001b[0;32mIn[54], line 2\u001b[0m\n\u001b[1;32m      1\u001b[0m \u001b[38;5;66;03m# Round8\u001b[39;00m\n\u001b[0;32m----> 2\u001b[0m \u001b[43mexperiment\u001b[49m\u001b[38;5;241;43m.\u001b[39;49m\u001b[43mnext_decision_round\u001b[49m\u001b[43m(\u001b[49m\u001b[43m)\u001b[49m\n",
      "Cell \u001b[0;32mIn[20], line 190\u001b[0m, in \u001b[0;36mExperiment.next_decision_round\u001b[0;34m(self)\u001b[0m\n\u001b[1;32m    188\u001b[0m \u001b[38;5;28;01mdef\u001b[39;00m \u001b[38;5;21mnext_decision_round\u001b[39m(\u001b[38;5;28mself\u001b[39m):\n\u001b[1;32m    189\u001b[0m     \u001b[38;5;28;01mfor\u001b[39;00m agent \u001b[38;5;129;01min\u001b[39;00m \u001b[38;5;28mself\u001b[39m\u001b[38;5;241m.\u001b[39magent_list:\n\u001b[0;32m--> 190\u001b[0m         \u001b[43magent\u001b[49m\u001b[38;5;241;43m.\u001b[39;49m\u001b[43mmake_decision\u001b[49m\u001b[43m(\u001b[49m\u001b[43m)\u001b[49m\n\u001b[1;32m    191\u001b[0m         \u001b[38;5;28mprint\u001b[39m(\u001b[38;5;124mf\u001b[39m\u001b[38;5;124m\"\u001b[39m\u001b[38;5;124magent \u001b[39m\u001b[38;5;132;01m{\u001b[39;00magent\u001b[38;5;241m.\u001b[39magent_id\u001b[38;5;132;01m}\u001b[39;00m\u001b[38;5;124m made decision for round \u001b[39m\u001b[38;5;132;01m{\u001b[39;00m\u001b[38;5;28mself\u001b[39m\u001b[38;5;241m.\u001b[39mround\u001b[38;5;250m \u001b[39m\u001b[38;5;241m+\u001b[39m\u001b[38;5;250m \u001b[39m\u001b[38;5;241m1\u001b[39m\u001b[38;5;132;01m}\u001b[39;00m\u001b[38;5;124m\"\u001b[39m)\n\u001b[1;32m    192\u001b[0m         create_minute_gap()\n",
      "Cell \u001b[0;32mIn[19], line 49\u001b[0m, in \u001b[0;36mAgent.make_decision\u001b[0;34m(self)\u001b[0m\n\u001b[1;32m     48\u001b[0m \u001b[38;5;28;01mdef\u001b[39;00m \u001b[38;5;21mmake_decision\u001b[39m(\u001b[38;5;28mself\u001b[39m):\n\u001b[0;32m---> 49\u001b[0m     \u001b[38;5;28;01mwith\u001b[39;00m \u001b[38;5;28mself\u001b[39m\u001b[38;5;241m.\u001b[39mclient\u001b[38;5;241m.\u001b[39mbeta\u001b[38;5;241m.\u001b[39mthreads\u001b[38;5;241m.\u001b[39mruns\u001b[38;5;241m.\u001b[39mstream(\n\u001b[1;32m     50\u001b[0m         thread_id\u001b[38;5;241m=\u001b[39m\u001b[38;5;28mself\u001b[39m\u001b[38;5;241m.\u001b[39mthread\u001b[38;5;241m.\u001b[39mid,\n\u001b[1;32m     51\u001b[0m         assistant_id\u001b[38;5;241m=\u001b[39m\u001b[38;5;28mself\u001b[39m\u001b[38;5;241m.\u001b[39mmodel_id\n\u001b[1;32m     52\u001b[0m     ) \u001b[38;5;28;01mas\u001b[39;00m \u001b[38;5;28mself\u001b[39m\u001b[38;5;241m.\u001b[39mstream:\n\u001b[1;32m     53\u001b[0m         \u001b[38;5;28mself\u001b[39m\u001b[38;5;241m.\u001b[39mstream\u001b[38;5;241m.\u001b[39muntil_done()\n\u001b[1;32m     55\u001b[0m     \u001b[38;5;28mself\u001b[39m\u001b[38;5;241m.\u001b[39mconversation \u001b[38;5;241m=\u001b[39m \u001b[38;5;28mself\u001b[39m\u001b[38;5;241m.\u001b[39mclient\u001b[38;5;241m.\u001b[39mbeta\u001b[38;5;241m.\u001b[39mthreads\u001b[38;5;241m.\u001b[39mmessages\u001b[38;5;241m.\u001b[39mlist(\n\u001b[1;32m     56\u001b[0m         thread_id\u001b[38;5;241m=\u001b[39m\u001b[38;5;28mself\u001b[39m\u001b[38;5;241m.\u001b[39mthread\u001b[38;5;241m.\u001b[39mid,\n\u001b[1;32m     57\u001b[0m         order\u001b[38;5;241m=\u001b[39m\u001b[38;5;124m\"\u001b[39m\u001b[38;5;124masc\u001b[39m\u001b[38;5;124m\"\u001b[39m\n\u001b[1;32m     58\u001b[0m     )\n",
      "File \u001b[0;32m~/opt/anaconda3/envs/zemi/lib/python3.9/site-packages/openai/lib/streaming/_assistants.py:445\u001b[0m, in \u001b[0;36mAssistantStreamManager.__enter__\u001b[0;34m(self)\u001b[0m\n\u001b[1;32m    444\u001b[0m \u001b[38;5;28;01mdef\u001b[39;00m \u001b[38;5;21m__enter__\u001b[39m(\u001b[38;5;28mself\u001b[39m) \u001b[38;5;241m-\u001b[39m\u001b[38;5;241m>\u001b[39m AssistantEventHandlerT:\n\u001b[0;32m--> 445\u001b[0m     \u001b[38;5;28mself\u001b[39m\u001b[38;5;241m.\u001b[39m__stream \u001b[38;5;241m=\u001b[39m \u001b[38;5;28;43mself\u001b[39;49m\u001b[38;5;241;43m.\u001b[39;49m\u001b[43m__api_request\u001b[49m\u001b[43m(\u001b[49m\u001b[43m)\u001b[49m\n\u001b[1;32m    446\u001b[0m     \u001b[38;5;28mself\u001b[39m\u001b[38;5;241m.\u001b[39m__event_handler\u001b[38;5;241m.\u001b[39m_init(\u001b[38;5;28mself\u001b[39m\u001b[38;5;241m.\u001b[39m__stream)\n\u001b[1;32m    447\u001b[0m     \u001b[38;5;28;01mreturn\u001b[39;00m \u001b[38;5;28mself\u001b[39m\u001b[38;5;241m.\u001b[39m__event_handler\n",
      "File \u001b[0;32m~/opt/anaconda3/envs/zemi/lib/python3.9/site-packages/openai/_base_client.py:1266\u001b[0m, in \u001b[0;36mSyncAPIClient.post\u001b[0;34m(self, path, cast_to, body, options, files, stream, stream_cls)\u001b[0m\n\u001b[1;32m   1252\u001b[0m \u001b[38;5;28;01mdef\u001b[39;00m \u001b[38;5;21mpost\u001b[39m(\n\u001b[1;32m   1253\u001b[0m     \u001b[38;5;28mself\u001b[39m,\n\u001b[1;32m   1254\u001b[0m     path: \u001b[38;5;28mstr\u001b[39m,\n\u001b[0;32m   (...)\u001b[0m\n\u001b[1;32m   1261\u001b[0m     stream_cls: \u001b[38;5;28mtype\u001b[39m[_StreamT] \u001b[38;5;241m|\u001b[39m \u001b[38;5;28;01mNone\u001b[39;00m \u001b[38;5;241m=\u001b[39m \u001b[38;5;28;01mNone\u001b[39;00m,\n\u001b[1;32m   1262\u001b[0m ) \u001b[38;5;241m-\u001b[39m\u001b[38;5;241m>\u001b[39m ResponseT \u001b[38;5;241m|\u001b[39m _StreamT:\n\u001b[1;32m   1263\u001b[0m     opts \u001b[38;5;241m=\u001b[39m FinalRequestOptions\u001b[38;5;241m.\u001b[39mconstruct(\n\u001b[1;32m   1264\u001b[0m         method\u001b[38;5;241m=\u001b[39m\u001b[38;5;124m\"\u001b[39m\u001b[38;5;124mpost\u001b[39m\u001b[38;5;124m\"\u001b[39m, url\u001b[38;5;241m=\u001b[39mpath, json_data\u001b[38;5;241m=\u001b[39mbody, files\u001b[38;5;241m=\u001b[39mto_httpx_files(files), \u001b[38;5;241m*\u001b[39m\u001b[38;5;241m*\u001b[39moptions\n\u001b[1;32m   1265\u001b[0m     )\n\u001b[0;32m-> 1266\u001b[0m     \u001b[38;5;28;01mreturn\u001b[39;00m cast(ResponseT, \u001b[38;5;28;43mself\u001b[39;49m\u001b[38;5;241;43m.\u001b[39;49m\u001b[43mrequest\u001b[49m\u001b[43m(\u001b[49m\u001b[43mcast_to\u001b[49m\u001b[43m,\u001b[49m\u001b[43m \u001b[49m\u001b[43mopts\u001b[49m\u001b[43m,\u001b[49m\u001b[43m \u001b[49m\u001b[43mstream\u001b[49m\u001b[38;5;241;43m=\u001b[39;49m\u001b[43mstream\u001b[49m\u001b[43m,\u001b[49m\u001b[43m \u001b[49m\u001b[43mstream_cls\u001b[49m\u001b[38;5;241;43m=\u001b[39;49m\u001b[43mstream_cls\u001b[49m\u001b[43m)\u001b[49m)\n",
      "File \u001b[0;32m~/opt/anaconda3/envs/zemi/lib/python3.9/site-packages/openai/_base_client.py:942\u001b[0m, in \u001b[0;36mSyncAPIClient.request\u001b[0;34m(self, cast_to, options, remaining_retries, stream, stream_cls)\u001b[0m\n\u001b[1;32m    933\u001b[0m \u001b[38;5;28;01mdef\u001b[39;00m \u001b[38;5;21mrequest\u001b[39m(\n\u001b[1;32m    934\u001b[0m     \u001b[38;5;28mself\u001b[39m,\n\u001b[1;32m    935\u001b[0m     cast_to: Type[ResponseT],\n\u001b[0;32m   (...)\u001b[0m\n\u001b[1;32m    940\u001b[0m     stream_cls: \u001b[38;5;28mtype\u001b[39m[_StreamT] \u001b[38;5;241m|\u001b[39m \u001b[38;5;28;01mNone\u001b[39;00m \u001b[38;5;241m=\u001b[39m \u001b[38;5;28;01mNone\u001b[39;00m,\n\u001b[1;32m    941\u001b[0m ) \u001b[38;5;241m-\u001b[39m\u001b[38;5;241m>\u001b[39m ResponseT \u001b[38;5;241m|\u001b[39m _StreamT:\n\u001b[0;32m--> 942\u001b[0m     \u001b[38;5;28;01mreturn\u001b[39;00m \u001b[38;5;28;43mself\u001b[39;49m\u001b[38;5;241;43m.\u001b[39;49m\u001b[43m_request\u001b[49m\u001b[43m(\u001b[49m\n\u001b[1;32m    943\u001b[0m \u001b[43m        \u001b[49m\u001b[43mcast_to\u001b[49m\u001b[38;5;241;43m=\u001b[39;49m\u001b[43mcast_to\u001b[49m\u001b[43m,\u001b[49m\n\u001b[1;32m    944\u001b[0m \u001b[43m        \u001b[49m\u001b[43moptions\u001b[49m\u001b[38;5;241;43m=\u001b[39;49m\u001b[43moptions\u001b[49m\u001b[43m,\u001b[49m\n\u001b[1;32m    945\u001b[0m \u001b[43m        \u001b[49m\u001b[43mstream\u001b[49m\u001b[38;5;241;43m=\u001b[39;49m\u001b[43mstream\u001b[49m\u001b[43m,\u001b[49m\n\u001b[1;32m    946\u001b[0m \u001b[43m        \u001b[49m\u001b[43mstream_cls\u001b[49m\u001b[38;5;241;43m=\u001b[39;49m\u001b[43mstream_cls\u001b[49m\u001b[43m,\u001b[49m\n\u001b[1;32m    947\u001b[0m \u001b[43m        \u001b[49m\u001b[43mremaining_retries\u001b[49m\u001b[38;5;241;43m=\u001b[39;49m\u001b[43mremaining_retries\u001b[49m\u001b[43m,\u001b[49m\n\u001b[1;32m    948\u001b[0m \u001b[43m    \u001b[49m\u001b[43m)\u001b[49m\n",
      "File \u001b[0;32m~/opt/anaconda3/envs/zemi/lib/python3.9/site-packages/openai/_base_client.py:1031\u001b[0m, in \u001b[0;36mSyncAPIClient._request\u001b[0;34m(self, cast_to, options, remaining_retries, stream, stream_cls)\u001b[0m\n\u001b[1;32m   1029\u001b[0m \u001b[38;5;28;01mif\u001b[39;00m retries \u001b[38;5;241m>\u001b[39m \u001b[38;5;241m0\u001b[39m \u001b[38;5;129;01mand\u001b[39;00m \u001b[38;5;28mself\u001b[39m\u001b[38;5;241m.\u001b[39m_should_retry(err\u001b[38;5;241m.\u001b[39mresponse):\n\u001b[1;32m   1030\u001b[0m     err\u001b[38;5;241m.\u001b[39mresponse\u001b[38;5;241m.\u001b[39mclose()\n\u001b[0;32m-> 1031\u001b[0m     \u001b[38;5;28;01mreturn\u001b[39;00m \u001b[38;5;28;43mself\u001b[39;49m\u001b[38;5;241;43m.\u001b[39;49m\u001b[43m_retry_request\u001b[49m\u001b[43m(\u001b[49m\n\u001b[1;32m   1032\u001b[0m \u001b[43m        \u001b[49m\u001b[43minput_options\u001b[49m\u001b[43m,\u001b[49m\n\u001b[1;32m   1033\u001b[0m \u001b[43m        \u001b[49m\u001b[43mcast_to\u001b[49m\u001b[43m,\u001b[49m\n\u001b[1;32m   1034\u001b[0m \u001b[43m        \u001b[49m\u001b[43mretries\u001b[49m\u001b[43m,\u001b[49m\n\u001b[1;32m   1035\u001b[0m \u001b[43m        \u001b[49m\u001b[43merr\u001b[49m\u001b[38;5;241;43m.\u001b[39;49m\u001b[43mresponse\u001b[49m\u001b[38;5;241;43m.\u001b[39;49m\u001b[43mheaders\u001b[49m\u001b[43m,\u001b[49m\n\u001b[1;32m   1036\u001b[0m \u001b[43m        \u001b[49m\u001b[43mstream\u001b[49m\u001b[38;5;241;43m=\u001b[39;49m\u001b[43mstream\u001b[49m\u001b[43m,\u001b[49m\n\u001b[1;32m   1037\u001b[0m \u001b[43m        \u001b[49m\u001b[43mstream_cls\u001b[49m\u001b[38;5;241;43m=\u001b[39;49m\u001b[43mstream_cls\u001b[49m\u001b[43m,\u001b[49m\n\u001b[1;32m   1038\u001b[0m \u001b[43m    \u001b[49m\u001b[43m)\u001b[49m\n\u001b[1;32m   1040\u001b[0m \u001b[38;5;66;03m# If the response is streamed then we need to explicitly read the response\u001b[39;00m\n\u001b[1;32m   1041\u001b[0m \u001b[38;5;66;03m# to completion before attempting to access the response text.\u001b[39;00m\n\u001b[1;32m   1042\u001b[0m \u001b[38;5;28;01mif\u001b[39;00m \u001b[38;5;129;01mnot\u001b[39;00m err\u001b[38;5;241m.\u001b[39mresponse\u001b[38;5;241m.\u001b[39mis_closed:\n",
      "File \u001b[0;32m~/opt/anaconda3/envs/zemi/lib/python3.9/site-packages/openai/_base_client.py:1079\u001b[0m, in \u001b[0;36mSyncAPIClient._retry_request\u001b[0;34m(self, options, cast_to, remaining_retries, response_headers, stream, stream_cls)\u001b[0m\n\u001b[1;32m   1075\u001b[0m \u001b[38;5;66;03m# In a synchronous context we are blocking the entire thread. Up to the library user to run the client in a\u001b[39;00m\n\u001b[1;32m   1076\u001b[0m \u001b[38;5;66;03m# different thread if necessary.\u001b[39;00m\n\u001b[1;32m   1077\u001b[0m time\u001b[38;5;241m.\u001b[39msleep(timeout)\n\u001b[0;32m-> 1079\u001b[0m \u001b[38;5;28;01mreturn\u001b[39;00m \u001b[38;5;28;43mself\u001b[39;49m\u001b[38;5;241;43m.\u001b[39;49m\u001b[43m_request\u001b[49m\u001b[43m(\u001b[49m\n\u001b[1;32m   1080\u001b[0m \u001b[43m    \u001b[49m\u001b[43moptions\u001b[49m\u001b[38;5;241;43m=\u001b[39;49m\u001b[43moptions\u001b[49m\u001b[43m,\u001b[49m\n\u001b[1;32m   1081\u001b[0m \u001b[43m    \u001b[49m\u001b[43mcast_to\u001b[49m\u001b[38;5;241;43m=\u001b[39;49m\u001b[43mcast_to\u001b[49m\u001b[43m,\u001b[49m\n\u001b[1;32m   1082\u001b[0m \u001b[43m    \u001b[49m\u001b[43mremaining_retries\u001b[49m\u001b[38;5;241;43m=\u001b[39;49m\u001b[43mremaining\u001b[49m\u001b[43m,\u001b[49m\n\u001b[1;32m   1083\u001b[0m \u001b[43m    \u001b[49m\u001b[43mstream\u001b[49m\u001b[38;5;241;43m=\u001b[39;49m\u001b[43mstream\u001b[49m\u001b[43m,\u001b[49m\n\u001b[1;32m   1084\u001b[0m \u001b[43m    \u001b[49m\u001b[43mstream_cls\u001b[49m\u001b[38;5;241;43m=\u001b[39;49m\u001b[43mstream_cls\u001b[49m\u001b[43m,\u001b[49m\n\u001b[1;32m   1085\u001b[0m \u001b[43m\u001b[49m\u001b[43m)\u001b[49m\n",
      "File \u001b[0;32m~/opt/anaconda3/envs/zemi/lib/python3.9/site-packages/openai/_base_client.py:1046\u001b[0m, in \u001b[0;36mSyncAPIClient._request\u001b[0;34m(self, cast_to, options, remaining_retries, stream, stream_cls)\u001b[0m\n\u001b[1;32m   1043\u001b[0m         err\u001b[38;5;241m.\u001b[39mresponse\u001b[38;5;241m.\u001b[39mread()\n\u001b[1;32m   1045\u001b[0m     log\u001b[38;5;241m.\u001b[39mdebug(\u001b[38;5;124m\"\u001b[39m\u001b[38;5;124mRe-raising status error\u001b[39m\u001b[38;5;124m\"\u001b[39m)\n\u001b[0;32m-> 1046\u001b[0m     \u001b[38;5;28;01mraise\u001b[39;00m \u001b[38;5;28mself\u001b[39m\u001b[38;5;241m.\u001b[39m_make_status_error_from_response(err\u001b[38;5;241m.\u001b[39mresponse) \u001b[38;5;28;01mfrom\u001b[39;00m \u001b[38;5;28;01mNone\u001b[39;00m\n\u001b[1;32m   1048\u001b[0m \u001b[38;5;28;01mreturn\u001b[39;00m \u001b[38;5;28mself\u001b[39m\u001b[38;5;241m.\u001b[39m_process_response(\n\u001b[1;32m   1049\u001b[0m     cast_to\u001b[38;5;241m=\u001b[39mcast_to,\n\u001b[1;32m   1050\u001b[0m     options\u001b[38;5;241m=\u001b[39moptions,\n\u001b[0;32m   (...)\u001b[0m\n\u001b[1;32m   1053\u001b[0m     stream_cls\u001b[38;5;241m=\u001b[39mstream_cls,\n\u001b[1;32m   1054\u001b[0m )\n",
      "\u001b[0;31mBadRequestError\u001b[0m: Error code: 400 - {'error': {'message': 'Thread thread_7wUjCxO2JFrP2gmYlTUKvbnN already has an active run run_BA3hmpkJI8qjgmBI0vIlTj19.', 'type': 'invalid_request_error', 'param': None, 'code': None}}"
     ]
    }
   ],
   "source": [
    "# Round8\n",
    "experiment.next_decision_round()"
   ]
  },
  {
   "cell_type": "code",
   "execution_count": null,
   "id": "7d8a3f6c",
   "metadata": {},
   "outputs": [],
   "source": [
    "experiment.compute_equilibrium_price()\n",
    "\n",
    "experiment.trade_fungible_token()\n",
    "\n",
    "experiment.compute_feedback()"
   ]
  },
  {
   "cell_type": "code",
   "execution_count": null,
   "id": "57deb89f",
   "metadata": {},
   "outputs": [],
   "source": [
    "experiment.give_feedbacks()"
   ]
  },
  {
   "cell_type": "code",
   "execution_count": null,
   "id": "58671851",
   "metadata": {},
   "outputs": [],
   "source": [
    "FT_price_record.append(experiment.FT_price)\n",
    "total_investment_record.append(experiment.total_investment)\n",
    "FT_trade_volume_record.append(experiment.FT_trading_volume)\n",
    "bid_list_record.append(experiment.bid_list)\n",
    "ask_list_record.append(experiment.ask_list)"
   ]
  },
  {
   "cell_type": "code",
   "execution_count": null,
   "id": "1329f65b",
   "metadata": {},
   "outputs": [],
   "source": [
    "# Round9\n",
    "experiment.next_decision_round()"
   ]
  },
  {
   "cell_type": "code",
   "execution_count": null,
   "id": "fd93ffa1",
   "metadata": {},
   "outputs": [],
   "source": [
    "experiment.compute_equilibrium_price()\n",
    "\n",
    "experiment.trade_fungible_token()\n",
    "\n",
    "experiment.compute_feedback()"
   ]
  },
  {
   "cell_type": "code",
   "execution_count": null,
   "id": "a1d0c411",
   "metadata": {},
   "outputs": [],
   "source": [
    "experiment.give_feedbacks()"
   ]
  },
  {
   "cell_type": "code",
   "execution_count": null,
   "id": "6e4b611f",
   "metadata": {},
   "outputs": [],
   "source": [
    "FT_price_record.append(experiment.FT_price)\n",
    "total_investment_record.append(experiment.total_investment)\n",
    "FT_trade_volume_record.append(experiment.FT_trading_volume)\n",
    "bid_list_record.append(experiment.bid_list)\n",
    "ask_list_record.append(experiment.ask_list)"
   ]
  },
  {
   "cell_type": "code",
   "execution_count": null,
   "id": "52b47205",
   "metadata": {},
   "outputs": [],
   "source": [
    "# Round10\n",
    "experiment.next_decision_round()"
   ]
  },
  {
   "cell_type": "code",
   "execution_count": null,
   "id": "a9302a12",
   "metadata": {},
   "outputs": [],
   "source": [
    "experiment.compute_equilibrium_price()\n",
    "\n",
    "experiment.trade_fungible_token()\n",
    "\n",
    "experiment.compute_feedback()"
   ]
  },
  {
   "cell_type": "code",
   "execution_count": null,
   "id": "5d80a32a",
   "metadata": {},
   "outputs": [],
   "source": [
    "experiment.give_feedbacks()"
   ]
  },
  {
   "cell_type": "code",
   "execution_count": null,
   "id": "3fa52ecb",
   "metadata": {},
   "outputs": [],
   "source": [
    "FT_price_record.append(experiment.FT_price)\n",
    "total_investment_record.append(experiment.total_investment)\n",
    "FT_trade_volume_record.append(experiment.FT_trading_volume)\n",
    "bid_list_record.append(experiment.bid_list)\n",
    "ask_list_record.append(experiment.ask_list)"
   ]
  },
  {
   "cell_type": "code",
   "execution_count": 55,
   "id": "71b67ce4",
   "metadata": {},
   "outputs": [
    {
     "data": {
      "text/plain": [
       "[0, 0, 0, 0, 0, 0, 0]"
      ]
     },
     "execution_count": 55,
     "metadata": {},
     "output_type": "execute_result"
    }
   ],
   "source": [
    "FT_price_record"
   ]
  },
  {
   "cell_type": "code",
   "execution_count": 56,
   "id": "7293f3d5",
   "metadata": {},
   "outputs": [
    {
     "data": {
      "text/plain": [
       "[500.0, 450.0, 500.0, 500.0, 450.0, 500.0, 450.0]"
      ]
     },
     "execution_count": 56,
     "metadata": {},
     "output_type": "execute_result"
    }
   ],
   "source": [
    "total_investment_record"
   ]
  },
  {
   "cell_type": "code",
   "execution_count": 57,
   "id": "6eb7de4d",
   "metadata": {},
   "outputs": [
    {
     "data": {
      "text/plain": [
       "[0, 0, 0, 0, 0, 0, 0]"
      ]
     },
     "execution_count": 57,
     "metadata": {},
     "output_type": "execute_result"
    }
   ],
   "source": [
    "FT_trade_volume_record"
   ]
  },
  {
   "cell_type": "markdown",
   "id": "9b0f9197",
   "metadata": {},
   "source": [
    "## Record Results"
   ]
  },
  {
   "cell_type": "code",
   "execution_count": 58,
   "id": "3f8d3d78",
   "metadata": {},
   "outputs": [],
   "source": [
    "conversation_record = []\n",
    "for agent in experiment.agent_list:\n",
    "    conversation_record.append(agent.get_conversation())"
   ]
  },
  {
   "cell_type": "code",
   "execution_count": 59,
   "id": "c1595510",
   "metadata": {},
   "outputs": [],
   "source": [
    "decision_record = []\n",
    "for agent in experiment.agent_list:\n",
    "    decision_record.append(agent.decision_record)"
   ]
  },
  {
   "cell_type": "code",
   "execution_count": 60,
   "id": "542ea37a",
   "metadata": {},
   "outputs": [],
   "source": [
    "payoff_record = []\n",
    "for agent in experiment.agent_list:\n",
    "    payoff_record.append(agent.payoff_record)"
   ]
  },
  {
   "cell_type": "code",
   "execution_count": 61,
   "id": "69c8e471",
   "metadata": {},
   "outputs": [],
   "source": [
    "FT_holdings_record = []\n",
    "for agent in experiment.agent_list:\n",
    "    FT_holdings_record.append(agent.FT_holdings)"
   ]
  },
  {
   "cell_type": "code",
   "execution_count": 62,
   "id": "9f9313c9",
   "metadata": {},
   "outputs": [],
   "source": [
    "pickle.dump([experiment_config, FT_price_record, total_investment_record, FT_trade_volume_record, bid_list_record, ask_list_record, conversation_record, decision_record, payoff_record, FT_holdings_record], open(f\"gpt4_experiment_result_{datetime.now()}.pickle\", 'wb'))\n"
   ]
  },
  {
   "cell_type": "markdown",
   "id": "69da77b2",
   "metadata": {},
   "source": [
    "## End Experiment"
   ]
  },
  {
   "cell_type": "code",
   "execution_count": 18,
   "id": "888f3db9",
   "metadata": {},
   "outputs": [
    {
     "name": "stdout",
     "output_type": "stream",
     "text": [
      "agent 0 left the experiment\n",
      "agent 1 left the experiment\n",
      "agent 2 left the experiment\n",
      "agent 3 left the experiment\n",
      "agent 4 left the experiment\n",
      "agent 5 left the experiment\n",
      "agent 6 left the experiment\n",
      "agent 7 left the experiment\n",
      "agent 8 left the experiment\n",
      "agent 9 left the experiment\n"
     ]
    }
   ],
   "source": [
    "experiment.end()"
   ]
  },
  {
   "cell_type": "code",
   "execution_count": null,
   "id": "5317b98e",
   "metadata": {},
   "outputs": [],
   "source": []
  }
 ],
 "metadata": {
  "kernelspec": {
   "display_name": "Python 3 (ipykernel)",
   "language": "python",
   "name": "python3"
  },
  "language_info": {
   "codemirror_mode": {
    "name": "ipython",
    "version": 3
   },
   "file_extension": ".py",
   "mimetype": "text/x-python",
   "name": "python",
   "nbconvert_exporter": "python",
   "pygments_lexer": "ipython3",
   "version": "3.9.16"
  }
 },
 "nbformat": 4,
 "nbformat_minor": 5
}
